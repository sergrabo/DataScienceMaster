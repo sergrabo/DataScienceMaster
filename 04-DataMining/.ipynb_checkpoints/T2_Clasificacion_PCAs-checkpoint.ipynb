{
 "cells": [
  {
   "cell_type": "markdown",
   "metadata": {},
   "source": [
    "# Tarea 2: Problemas de clasificación y PCAs"
   ]
  },
  {
   "cell_type": "markdown",
   "metadata": {},
   "source": [
    "Sergio Gracia Borobia"
   ]
  },
  {
   "cell_type": "code",
   "execution_count": 1,
   "metadata": {
    "scrolled": true
   },
   "outputs": [
    {
     "name": "stderr",
     "output_type": "stream",
     "text": [
      "Loading required package: lattice\n",
      "\n",
      "Loading required package: ggplot2\n",
      "\n",
      "Registered S3 methods overwritten by 'ggplot2':\n",
      "  method         from \n",
      "  [.quosures     rlang\n",
      "  c.quosures     rlang\n",
      "  print.quosures rlang\n",
      "\n"
     ]
    }
   ],
   "source": [
    "#Packages\n",
    "library(caret)"
   ]
  },
  {
   "cell_type": "code",
   "execution_count": 2,
   "metadata": {
    "scrolled": true
   },
   "outputs": [],
   "source": [
    "# Loading data\n",
    "data = read.csv(\"meteo.csv\", row.names = \"X\")\n",
    "data$y[which(data$y < 1)] = 0\n",
    "data$y[which(data$y >= 1)] = 1\n",
    "data$y = as.factor(data$y)"
   ]
  },
  {
   "cell_type": "markdown",
   "metadata": {},
   "source": [
    "## Punto 1: Vecinos cercanos (KNN)"
   ]
  },
  {
   "cell_type": "markdown",
   "metadata": {},
   "source": [
    "Dividimos los conjuntos de *train* y *test*, con los primeros 20 años de datos para el primero, y los 10 años restantes para el segundo."
   ]
  },
  {
   "cell_type": "code",
   "execution_count": 3,
   "metadata": {},
   "outputs": [],
   "source": [
    "n = 20*365\n",
    "indTrain = 1:n\n",
    "indTest = setdiff(1:nrow(data), indTrain)\n",
    "dfTrain = data[indTrain, ]\n",
    "dfTest = data[indTest, ]"
   ]
  },
  {
   "cell_type": "code",
   "execution_count": 6,
   "metadata": {
    "scrolled": true
   },
   "outputs": [
    {
     "data": {
      "text/plain": [
       "Time difference of 10.4246 mins"
      ]
     },
     "metadata": {},
     "output_type": "display_data"
    }
   ],
   "source": [
    "# Entrenamiento sin escalado\n",
    "t1 = Sys.time()\n",
    "ctrl = trainControl(method = \"cv\", number = 2)\n",
    "knn = train(y ~ ., dfTrain,\n",
    "                method = \"knn\",\n",
    "                trControl = ctrl,\n",
    "                preProcess = c(\"center\"),\n",
    "                tuneGrid = expand.grid(k = 1:15))\n",
    "t2 = Sys.time()\n",
    "t = t2-t1\n",
    "t"
   ]
  },
  {
   "cell_type": "code",
   "execution_count": 7,
   "metadata": {
    "scrolled": false
   },
   "outputs": [
    {
     "data": {
      "image/png": "[encoded data removed]",
      "text/plain": [
       "plot without title"
      ]
     },
     "metadata": {
      "image/png": {
       "height": 420,
       "width": 420
      }
     },
     "output_type": "display_data"
    }
   ],
   "source": [
    "plot(knn)"
   ]
  },
  {
   "cell_type": "code",
   "execution_count": 8,
   "metadata": {},
   "outputs": [
    {
     "data": {
      "text/html": [
       "<table>\n",
       "<thead><tr><th></th><th scope=col>k</th></tr></thead>\n",
       "<tbody>\n",
       "\t<tr><th scope=row>15</th><td>15</td></tr>\n",
       "</tbody>\n",
       "</table>\n"
      ],
      "text/latex": [
       "\\begin{tabular}{r|l}\n",
       "  & k\\\\\n",
       "\\hline\n",
       "\t15 & 15\\\\\n",
       "\\end{tabular}\n"
      ],
      "text/markdown": [
       "\n",
       "| <!--/--> | k |\n",
       "|---|---|\n",
       "| 15 | 15 |\n",
       "\n"
      ],
      "text/plain": [
       "   k \n",
       "15 15"
      ]
     },
     "metadata": {},
     "output_type": "display_data"
    },
    {
     "data": {
      "text/html": [
       "0.853287671232877"
      ],
      "text/latex": [
       "0.853287671232877"
      ],
      "text/markdown": [
       "0.853287671232877"
      ],
      "text/plain": [
       "[1] 0.8532877"
      ]
     },
     "metadata": {},
     "output_type": "display_data"
    }
   ],
   "source": [
    "knn$bestTune\n",
    "knn$results$Accuracy[as.integer(knn$bestTune)]"
   ]
  },
  {
   "cell_type": "code",
   "execution_count": 9,
   "metadata": {
    "scrolled": true
   },
   "outputs": [
    {
     "data": {
      "text/plain": [
       "Time difference of 10.48786 mins"
      ]
     },
     "metadata": {},
     "output_type": "display_data"
    }
   ],
   "source": [
    "# Entrenamiento con escalado\n",
    "t1 = Sys.time()\n",
    "ctrl = trainControl(method = \"cv\", number = 2)\n",
    "knnScale = train(y ~ ., dfTrain,\n",
    "                method = \"knn\",\n",
    "                trControl = ctrl,\n",
    "                preProcess = c(\"center\", \"scale\"),\n",
    "                tuneGrid = expand.grid(k = 1:15))\n",
    "t2 = Sys.time()\n",
    "t = t2-t1\n",
    "t"
   ]
  },
  {
   "cell_type": "code",
   "execution_count": 10,
   "metadata": {},
   "outputs": [
    {
     "data": {
      "image/png": "[encoded data removed]",
      "text/plain": [
       "plot without title"
      ]
     },
     "metadata": {
      "image/png": {
       "height": 420,
       "width": 420
      }
     },
     "output_type": "display_data"
    }
   ],
   "source": [
    "plot(knnScale)"
   ]
  },
  {
   "cell_type": "code",
   "execution_count": 11,
   "metadata": {},
   "outputs": [
    {
     "data": {
      "text/html": [
       "<table>\n",
       "<thead><tr><th></th><th scope=col>k</th></tr></thead>\n",
       "<tbody>\n",
       "\t<tr><th scope=row>14</th><td>14</td></tr>\n",
       "</tbody>\n",
       "</table>\n"
      ],
      "text/latex": [
       "\\begin{tabular}{r|l}\n",
       "  & k\\\\\n",
       "\\hline\n",
       "\t14 & 14\\\\\n",
       "\\end{tabular}\n"
      ],
      "text/markdown": [
       "\n",
       "| <!--/--> | k |\n",
       "|---|---|\n",
       "| 14 | 14 |\n",
       "\n"
      ],
      "text/plain": [
       "   k \n",
       "14 14"
      ]
     },
     "metadata": {},
     "output_type": "display_data"
    },
    {
     "data": {
      "text/html": [
       "0.857260273972603"
      ],
      "text/latex": [
       "0.857260273972603"
      ],
      "text/markdown": [
       "0.857260273972603"
      ],
      "text/plain": [
       "[1] 0.8572603"
      ]
     },
     "metadata": {},
     "output_type": "display_data"
    }
   ],
   "source": [
    "knnScale$bestTune\n",
    "knnScale$results$Accuracy[as.integer(knnScale$bestTune)]"
   ]
  },
  {
   "cell_type": "code",
   "execution_count": 12,
   "metadata": {},
   "outputs": [],
   "source": [
    "## Buscar cómo timear estas ejecuciones para justificar el último punto (Tarda un huevo y medio, es flipante)\n",
    "## Está en la S10"
   ]
  },
  {
   "cell_type": "code",
   "execution_count": 13,
   "metadata": {},
   "outputs": [],
   "source": [
    "# Función para calcular la Accuracy\n",
    "accuracy = function(x, y) {\n",
    "  stopifnot(length(x) == length(y))\n",
    "  return(sum(diag(table(x, y))) / length(x))\n",
    "}"
   ]
  },
  {
   "cell_type": "code",
   "execution_count": 14,
   "metadata": {
    "scrolled": true
   },
   "outputs": [
    {
     "data": {
      "text/html": [
       "0.859486057955167"
      ],
      "text/latex": [
       "0.859486057955167"
      ],
      "text/markdown": [
       "0.859486057955167"
      ],
      "text/plain": [
       "[1] 0.8594861"
      ]
     },
     "metadata": {},
     "output_type": "display_data"
    }
   ],
   "source": [
    "pred = predict(knnScale, dfTest[, -1])\n",
    "accuracy(pred, dfTest$y)"
   ]
  },
  {
   "cell_type": "markdown",
   "metadata": {},
   "source": [
    "## Punto 2: PCAs para 1mm"
   ]
  },
  {
   "cell_type": "code",
   "execution_count": 15,
   "metadata": {},
   "outputs": [],
   "source": [
    "n = 20*365\n",
    "indTrain = 1:n\n",
    "indTest = setdiff(1:nrow(data), indTrain)\n",
    "dfTrain = data[indTrain, ]\n",
    "dfTest = data[indTest, ]"
   ]
  },
  {
   "cell_type": "code",
   "execution_count": 16,
   "metadata": {},
   "outputs": [
    {
     "name": "stdout",
     "output_type": "stream",
     "text": [
      "List of 5\n",
      " $ sdev    : num [1:320] 13.64 7.16 3.52 3.02 2.75 ...\n",
      " $ rotation: num [1:320, 1:320] -0.0571 -0.0556 -0.0539 -0.0517 -0.0486 ...\n",
      "  ..- attr(*, \"dimnames\")=List of 2\n",
      "  .. ..$ : chr [1:320] \"X1\" \"X2\" \"X3\" \"X4\" ...\n",
      "  .. ..$ : chr [1:320] \"PC1\" \"PC2\" \"PC3\" \"PC4\" ...\n",
      " $ center  : Named num [1:320] 56476 56308 56137 55953 55746 ...\n",
      "  ..- attr(*, \"names\")= chr [1:320] \"X1\" \"X2\" \"X3\" \"X4\" ...\n",
      " $ scale   : Named num [1:320] 1078 1135 1188 1241 1299 ...\n",
      "  ..- attr(*, \"names\")= chr [1:320] \"X1\" \"X2\" \"X3\" \"X4\" ...\n",
      " $ x       : num [1:7300, 1:320] 8.21 15.07 11.19 15.95 19.49 ...\n",
      "  ..- attr(*, \"dimnames\")=List of 2\n",
      "  .. ..$ : chr [1:7300] \"1\" \"2\" \"3\" \"4\" ...\n",
      "  .. ..$ : chr [1:320] \"PC1\" \"PC2\" \"PC3\" \"PC4\" ...\n",
      " - attr(*, \"class\")= chr \"prcomp\"\n"
     ]
    }
   ],
   "source": [
    "PCA = prcomp(dfTrain[,-1], center=TRUE, scale=TRUE)\n",
    "str(PCA)"
   ]
  },
  {
   "cell_type": "code",
   "execution_count": 17,
   "metadata": {
    "scrolled": false
   },
   "outputs": [
    {
     "data": {
      "image/png": "[encoded data removed]",
      "text/plain": [
       "Plot with title \"Porcentaje de varianza explicada\""
      ]
     },
     "metadata": {
      "image/png": {
       "height": 420,
       "width": 420
      }
     },
     "output_type": "display_data"
    }
   ],
   "source": [
    "expVar = cumsum(PCA$sdev^2)/sum(PCA$sdev^2) * 100\n",
    "plot(expVar, cex = 1, pch = 16,\n",
    "     xlab = \"Componentes principales PCA (%)\", ylab= \"Varianza Esplicada\",\n",
    "     main = \"Porcentaje de varianza explicada\")"
   ]
  },
  {
   "cell_type": "code",
   "execution_count": 34,
   "metadata": {},
   "outputs": [
    {
     "data": {
      "text/html": [
       "<table>\n",
       "<thead><tr><th scope=col>expVar</th><th scope=col>kfit</th><th scope=col>kAcc</th><th scope=col>time</th></tr></thead>\n",
       "<tbody>\n",
       "\t<tr><td>60       </td><td>15       </td><td>0.7672366</td><td>1.449332 </td></tr>\n",
       "\t<tr><td>70       </td><td>15       </td><td>0.7675207</td><td>1.446343 </td></tr>\n",
       "\t<tr><td>80       </td><td>15       </td><td>0.8303534</td><td>2.032654 </td></tr>\n",
       "\t<tr><td>90       </td><td>15       </td><td>0.8547508</td><td>4.151855 </td></tr>\n",
       "</tbody>\n",
       "</table>\n"
      ],
      "text/latex": [
       "\\begin{tabular}{r|llll}\n",
       " expVar & kfit & kAcc & time\\\\\n",
       "\\hline\n",
       "\t 60        & 15        & 0.7672366 & 1.449332 \\\\\n",
       "\t 70        & 15        & 0.7675207 & 1.446343 \\\\\n",
       "\t 80        & 15        & 0.8303534 & 2.032654 \\\\\n",
       "\t 90        & 15        & 0.8547508 & 4.151855 \\\\\n",
       "\\end{tabular}\n"
      ],
      "text/markdown": [
       "\n",
       "| expVar | kfit | kAcc | time |\n",
       "|---|---|---|---|\n",
       "| 60        | 15        | 0.7672366 | 1.449332  |\n",
       "| 70        | 15        | 0.7675207 | 1.446343  |\n",
       "| 80        | 15        | 0.8303534 | 2.032654  |\n",
       "| 90        | 15        | 0.8547508 | 4.151855  |\n",
       "\n"
      ],
      "text/plain": [
       "  expVar kfit kAcc      time    \n",
       "1 60     15   0.7672366 1.449332\n",
       "2 70     15   0.7675207 1.446343\n",
       "3 80     15   0.8303534 2.032654\n",
       "4 90     15   0.8547508 4.151855"
      ]
     },
     "metadata": {},
     "output_type": "display_data"
    }
   ],
   "source": [
    "thold = seq(60,90,10)\n",
    "kfit = c()\n",
    "kAcc = c()\n",
    "a = c()\n",
    "time = c()\n",
    "for(t in thold){\n",
    "    y = data.frame(y = dfTrain$y)\n",
    "    dfPCA = cbind(y, PCA$x[, which(expVar<t)])\n",
    "    # KNN\n",
    "    t1 = Sys.time()\n",
    "    knnPCA= train(y ~ ., dfPCA,\n",
    "                method = \"knn\",\n",
    "                preProcess = c(\"center\", \"scale\"),\n",
    "                tuneGrid = expand.grid(k = 1:15))\n",
    "    \n",
    "    # Escogemos 80% para el próximo apartado\n",
    "    if(t == 80){\n",
    "        knn80 = knnPCA\n",
    "        dfPCA80 = dfPCA\n",
    "    }\n",
    "    \n",
    "    t2 = Sys.time()\n",
    "    time = c(time, t2-t1)\n",
    "    kfit = c(kfit, knnPCA$bestTune$k)\n",
    "    kAcc = c(kAcc, knnPCA$results$Accuracy[as.integer(knnPCA$bestTune)])\n",
    "}\n",
    "results = data.frame(expVar = thold, kfit = kfit, kAcc = kAcc, time = time)\n",
    "results"
   ]
  },
  {
   "cell_type": "code",
   "execution_count": 21,
   "metadata": {},
   "outputs": [],
   "source": [
    "## Elegimos 80% y su k porque el 90% tarde el doble y aporta apenas 0.02 más de acc"
   ]
  },
  {
   "cell_type": "code",
   "execution_count": 42,
   "metadata": {
    "scrolled": true
   },
   "outputs": [
    {
     "data": {
      "text/html": [
       "0.856164383561644"
      ],
      "text/latex": [
       "0.856164383561644"
      ],
      "text/markdown": [
       "0.856164383561644"
      ],
      "text/plain": [
       "[1] 0.8561644"
      ]
     },
     "metadata": {},
     "output_type": "display_data"
    }
   ],
   "source": [
    "pred = predict(knn80, dfPCA80[, -1])\n",
    "accuracy(pred, dfPCA$y)"
   ]
  },
  {
   "cell_type": "markdown",
   "metadata": {},
   "source": [
    "## Punto 3: PCAs para 20mm"
   ]
  },
  {
   "cell_type": "code",
   "execution_count": 43,
   "metadata": {},
   "outputs": [],
   "source": [
    "data20 = read.csv(\"meteo.csv\", row.names = \"X\")\n",
    "data20$y[which(data20$y < 20)] = 0\n",
    "data20$y[which(data20$y >= 20)] = 1\n",
    "data20$y = as.factor(data20$y)"
   ]
  },
  {
   "cell_type": "code",
   "execution_count": 44,
   "metadata": {},
   "outputs": [],
   "source": [
    "n = 20*365\n",
    "indTrain = 1:n\n",
    "indTest = setdiff(1:nrow(data20), indTrain)\n",
    "dfTrain20 = data[indTrain, ]\n",
    "dfTest20 = data[indTest, ]"
   ]
  },
  {
   "cell_type": "code",
   "execution_count": 47,
   "metadata": {},
   "outputs": [],
   "source": [
    "PCA20 = prcomp(dfTrain[,-1], center=TRUE, scale=TRUE)"
   ]
  },
  {
   "cell_type": "code",
   "execution_count": 48,
   "metadata": {},
   "outputs": [
    {
     "data": {
      "image/png": "[encoded data removed]",
      "text/plain": [
       "Plot with title \"Porcentaje de varianza explicada\""
      ]
     },
     "metadata": {
      "image/png": {
       "height": 420,
       "width": 420
      }
     },
     "output_type": "display_data"
    }
   ],
   "source": [
    "expVar20 = cumsum(PCA20$sdev^2)/sum(PCA20$sdev^2) * 100\n",
    "plot(expVar20, cex = 1, pch = 16,\n",
    "     xlab = \"Componentes principales PCA (%)\", ylab= \"Varianza Esplicada\",\n",
    "     main = \"Porcentaje de varianza explicada\")"
   ]
  },
  {
   "cell_type": "code",
   "execution_count": null,
   "metadata": {},
   "outputs": [],
   "source": [
    "thold = seq(60,90,10)\n",
    "kfit = c()\n",
    "kAcc = c()\n",
    "a = c()\n",
    "time = c()\n",
    "for(t in thold){\n",
    "    y = data.frame(y = dfTrain20$y)\n",
    "    dfPCA = cbind(y, PCA20$x[, which(expVar20<t)])\n",
    "    # KNN\n",
    "    t1 = Sys.time()\n",
    "    knnPCA = train(y ~ ., dfPCA,\n",
    "                method = \"knn\",\n",
    "                preProcess = c(\"center\", \"scale\"),\n",
    "                tuneGrid = expand.grid(k = 1:15))\n",
    "    \n",
    "    # Escogemos 80% para el próximo apartado\n",
    "#     if(t == 80){knn80 = knnPCA}\n",
    "    \n",
    "    t2 = Sys.time()\n",
    "    time = c(time, t2-t1)\n",
    "    kfit = c(kfit, knnPCA$bestTune$k)\n",
    "    kAcc = c(kAcc, knnPCA$results$Accuracy[as.integer(knnPCA$bestTune)])\n",
    "}\n",
    "results20 = data.frame(expVar = thold, kfit = kfit, kAcc = kAcc, time = time)\n",
    "results20"
   ]
  },
  {
   "cell_type": "code",
   "execution_count": null,
   "metadata": {},
   "outputs": [],
   "source": [
    "pred = predict(knn80, dfPCA[, -1])\n",
    "accuracy(pred, dfPCA$y)"
   ]
  }
 ],
 "metadata": {
  "kernelspec": {
   "display_name": "R",
   "language": "R",
   "name": "ir"
  },
  "language_info": {
   "codemirror_mode": "r",
   "file_extension": ".r",
   "mimetype": "text/x-r-source",
   "name": "R",
   "pygments_lexer": "r",
   "version": "3.6.3"
  }
 },
 "nbformat": 4,
 "nbformat_minor": 2
}
