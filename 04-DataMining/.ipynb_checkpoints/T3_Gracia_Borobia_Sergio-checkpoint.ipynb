{
 "cells": [
  {
   "cell_type": "markdown",
   "metadata": {
    "toc": true
   },
   "source": [
    "<h1>Table of Contents<span class=\"tocSkip\"></span></h1>\n",
    "<div class=\"toc\"><ul class=\"toc-item\"><li><span><a href=\"#Técnicas-de-aprendizaje-supervisado\" data-toc-modified-id=\"Técnicas-de-aprendizaje-supervisado-1\"><span class=\"toc-item-num\">1&nbsp;&nbsp;</span>Técnicas de aprendizaje supervisado</a></span><ul class=\"toc-item\"><li><span><a href=\"#Practica-de-Intercomparación-aplicada-a-datos-meteorológicos\" data-toc-modified-id=\"Practica-de-Intercomparación-aplicada-a-datos-meteorológicos-1.1\"><span class=\"toc-item-num\">1.1&nbsp;&nbsp;</span>Practica de Intercomparación aplicada a datos meteorológicos</a></span><ul class=\"toc-item\"><li><span><a href=\"#Santander-Meteorology-Group\" data-toc-modified-id=\"Santander-Meteorology-Group-1.1.1\"><span class=\"toc-item-num\">1.1.1&nbsp;&nbsp;</span>Santander Meteorology Group</a></span></li></ul></li></ul></li><li><span><a href=\"#Conjunto-de-datos-meteo\" data-toc-modified-id=\"Conjunto-de-datos-meteo-2\"><span class=\"toc-item-num\">2&nbsp;&nbsp;</span>Conjunto de datos meteo</a></span></li><li><span><a href=\"#Árboles-de-clasificación-y-regresión-(2.5-puntos)\" data-toc-modified-id=\"Árboles-de-clasificación-y-regresión-(2.5-puntos)-3\"><span class=\"toc-item-num\">3&nbsp;&nbsp;</span>Árboles de clasificación y regresión (2.5 puntos)</a></span></li><li><span><a href=\"#Random-forests-(2.5-puntos)\" data-toc-modified-id=\"Random-forests-(2.5-puntos)-4\"><span class=\"toc-item-num\">4&nbsp;&nbsp;</span>Random forests (2.5 puntos)</a></span></li><li><span><a href=\"#Modelos-lineales-generalizados-(GLMs)-(1.5-puntos)\" data-toc-modified-id=\"Modelos-lineales-generalizados-(GLMs)-(1.5-puntos)-5\"><span class=\"toc-item-num\">5&nbsp;&nbsp;</span>Modelos lineales generalizados (GLMs) (1.5 puntos)</a></span></li><li><span><a href=\"#k-nearest-neighbors-(k-NN)-(1.5-puntos)\" data-toc-modified-id=\"k-nearest-neighbors-(k-NN)-(1.5-puntos)-6\"><span class=\"toc-item-num\">6&nbsp;&nbsp;</span>k nearest neighbors (k-NN) (1.5 puntos)</a></span></li><li><span><a href=\"#Conclusiones-generales-(2-puntos)\" data-toc-modified-id=\"Conclusiones-generales-(2-puntos)-7\"><span class=\"toc-item-num\">7&nbsp;&nbsp;</span>Conclusiones generales (2 puntos)</a></span></li><li><span><a href=\"#k-nearest-neighbors-(k-NN)\" data-toc-modified-id=\"k-nearest-neighbors-(k-NN)-8\"><span class=\"toc-item-num\">8&nbsp;&nbsp;</span>k nearest neighbors (k-NN)</a></span><ul class=\"toc-item\"><li><span><a href=\"#(1.5-puntos)\" data-toc-modified-id=\"(1.5-puntos)-8.1\"><span class=\"toc-item-num\">8.1&nbsp;&nbsp;</span>(1.5 puntos)</a></span></li></ul></li><li><span><a href=\"#Conclusiones-generales\" data-toc-modified-id=\"Conclusiones-generales-9\"><span class=\"toc-item-num\">9&nbsp;&nbsp;</span>Conclusiones generales</a></span><ul class=\"toc-item\"><li><span><a href=\"#(2-puntos)\" data-toc-modified-id=\"(2-puntos)-9.1\"><span class=\"toc-item-num\">9.1&nbsp;&nbsp;</span>(2 puntos)</a></span></li></ul></li></ul></div>"
   ]
  },
  {
   "cell_type": "markdown",
   "metadata": {},
   "source": [
    "# Minería de Datos (Master en Data Science, UIMP-UC)\n",
    "\n",
    "## Técnicas de aprendizaje supervisado\n",
    "\n",
    "### Practica de Intercomparación aplicada a datos meteorológicos\n",
    "\n",
    "#### Santander Meteorology Group\n",
    "\n",
    "En esta práctica haremos una intercomparación de varias de las técnicas de aprendizaje supervisado vistas a lo largo de la asignatura (CART, k-NN, GLMs y Random Forests). Por tanto, pretende ser un repaso general de cara al examen en el que el objetivo es tratar de entender las ventajas y limitaciones de las distintas técnicas para un caso de aplicación particular; la predicción de precipitación. La entrega consistirá en un notebook (Jupyter o R-Markdown), junto con el archivo html que éste genera. Ambos ficheros se entregarán a través del Moodle de la asignatura en la tarea correspondiente."
   ]
  },
  {
   "cell_type": "markdown",
   "metadata": {},
   "source": [
    "## Conjunto de datos meteo\n",
    "\n",
    "Comenzaremos cargando el dataset meteo, que ya ha sido utilizado en sesiones anteriores. Como ya sabéis, la variable objetivo en este dataset es la precipitation diaria en Lisboa durante el período 1979-2008, y para modelizar ésta se dispone de un conjunto de 8 variables meteorológicas predictoras que describen la circulación de larga escala definidas sobre un dominio geográfico que incluye 40 puntos sobre la Península Ibérica. (en total 8×40=320 variables explicativas). Las variables predictoras son:\n",
    "\n",
    "* altura geopotencial en 500 hPa (Z500)\n",
    "* temperatura del aire en 850 hPa, 700 hPa, 500 hPa (ta850, ta700 y ta500), y en superficie (tas)\n",
    "* humedad específica del aire en 850 hPa y 500 hPa (hus850, hus500)\n",
    "* presión a nivel del mar (psl)\n",
    "\n",
    "Para agilizar los tiempos de cómputo, reduciremos la dimensionalidad del problema. Como ya se ha visto en sesiones anteriores, una alternativa para tal fin es el uso de PCs. Sin embargo, para no limitar la interpretabilidad de los resultados obtenidos con árboles, utilizaremos otra aproximación aquí. En concreto, optaremos por un análisis de correlaciones, en el que se calcula la correlación de Spearman entre nuestra variable objetivo y todas las variables predictoras disponibles. La asunción de partida es que cuanto más fuerte sea esta correlación, mayor es el vínculo físico entre predictando y predictor, y por tanto, más útil es la información que nos aporta ese predictor. Por tanto, este análisis nos permite descartar predictores poco relevantes. Siguiendo esta idea, calcularemos la correlación existente entre nuestro predictando y los 320 predictores, y eliminaremos aquellos con correlaciones entre -0.4 y 0.4. ¿Cuánto se ha reducido la dimensionalidad del problema?"
   ]
  },
  {
   "cell_type": "code",
   "execution_count": 1,
   "metadata": {},
   "outputs": [],
   "source": [
    "# Imponemos una seed para no tener que cambiar las conclusiones cada vez que se ejecute el código\n",
    "set.seed(4312586)"
   ]
  },
  {
   "cell_type": "code",
   "execution_count": 2,
   "metadata": {},
   "outputs": [
    {
     "name": "stdout",
     "output_type": "stream",
     "text": [
      "'data.frame':\t5000 obs. of  38 variables:\n",
      " $ y   : num  10.9 0.6 13 0 0 1.2 1.1 0 0 0.7 ...\n",
      " $ X1  : num  57043 56963 56523 54628 53584 ...\n",
      " $ X2  : num  56535 56493 55971 53980 53391 ...\n",
      " $ X3  : num  55884 55931 55304 53494 53310 ...\n",
      " $ X4  : num  55176 55340 54498 53073 53293 ...\n",
      " $ X5  : num  54458 54769 53725 52616 53340 ...\n",
      " $ X6  : num  56980 56857 56515 54776 53782 ...\n",
      " $ X7  : num  56461 56362 55978 54089 53498 ...\n",
      " $ X8  : num  55800 55777 55327 53517 53307 ...\n",
      " $ X9  : num  55051 55164 54570 53013 53213 ...\n",
      " $ X10 : num  54319 54585 53863 52501 53157 ...\n",
      " $ X12 : num  56368 56187 55965 54205 53674 ...\n",
      " $ X13 : num  55721 55587 55360 53594 53378 ...\n",
      " $ X14 : num  54946 54947 54646 53021 53200 ...\n",
      " $ X15 : num  54145 54367 53999 52451 53055 ...\n",
      " $ X18 : num  55559 55360 55339 53657 53529 ...\n",
      " $ X19 : num  54788 54690 54720 53074 53260 ...\n",
      " $ X20 : num  53973 54125 54110 52486 53065 ...\n",
      " $ X24 : num  54555 54384 54695 53144 53383 ...\n",
      " $ X25 : num  53771 53843 54135 52556 53162 ...\n",
      " $ X83 : num  272 271 271 264 264 ...\n",
      " $ X84 : num  268 267 269 264 263 ...\n",
      " $ X85 : num  266 265 268 264 263 ...\n",
      " $ X88 : num  271 270 271 265 264 ...\n",
      " $ X89 : num  267 267 268 264 263 ...\n",
      " $ X125: num  250 249 252 246 247 ...\n",
      " $ X283: num  102030 102263 101411 100683 100856 ...\n",
      " $ X284: num  101889 102250 100908 100356 101024 ...\n",
      " $ X285: num  101630 102158 100297 99926 101148 ...\n",
      " $ X289: num  101951 102308 101129 100302 100948 ...\n",
      " $ X290: num  101637 102222 100517 99681 100946 ...\n",
      " $ X294: num  101852 102337 101361 100186 100928 ...\n",
      " $ X295: num  101647 102366 100762 99495 100826 ...\n",
      " $ X299: num  101772 102384 101571 100174 100928 ...\n",
      " $ X300: num  101608 102582 101107 99426 100779 ...\n",
      " $ X304: num  101599 102491 101841 100082 100935 ...\n",
      " $ X305: num  101552 102766 101526 99531 100810 ...\n",
      " $ X310: num  101491 102938 101968 99720 100896 ...\n"
     ]
    }
   ],
   "source": [
    "# Leemos los datos\n",
    "data = read.csv(\"meteo.csv\", header = T)\n",
    "data = data[, -1] #Eliminamos la primera columna, índice\n",
    "# Calculamos la matriz de correlación con el dataset completo\n",
    "correlation = cor(data[,-1], y = data[,1], method = \"spearman\")\n",
    "n = 5000\n",
    "df = data.frame(data[1:n, c(1, which(abs(correlation)>0.4) + 1)])\n",
    "str(df)"
   ]
  },
  {
   "cell_type": "code",
   "execution_count": 3,
   "metadata": {},
   "outputs": [
    {
     "data": {
      "text/html": [
       "<ol class=list-inline>\n",
       "\t<li>3750</li>\n",
       "\t<li>38</li>\n",
       "</ol>\n"
      ],
      "text/latex": [
       "\\begin{enumerate*}\n",
       "\\item 3750\n",
       "\\item 38\n",
       "\\end{enumerate*}\n"
      ],
      "text/markdown": [
       "1. 3750\n",
       "2. 38\n",
       "\n",
       "\n"
      ],
      "text/plain": [
       "[1] 3750   38"
      ]
     },
     "metadata": {},
     "output_type": "display_data"
    },
    {
     "data": {
      "text/html": [
       "<ol class=list-inline>\n",
       "\t<li>1250</li>\n",
       "\t<li>38</li>\n",
       "</ol>\n"
      ],
      "text/latex": [
       "\\begin{enumerate*}\n",
       "\\item 1250\n",
       "\\item 38\n",
       "\\end{enumerate*}\n"
      ],
      "text/markdown": [
       "1. 1250\n",
       "2. 38\n",
       "\n",
       "\n"
      ],
      "text/plain": [
       "[1] 1250   38"
      ]
     },
     "metadata": {},
     "output_type": "display_data"
    }
   ],
   "source": [
    "# Separamos en conjuntos de Train y Test\n",
    "p = 0.75\n",
    "indtrain = sample(1:n, round(p*n))\n",
    "indtest = setdiff(1:n, indtrain)\n",
    "dfTrain = df[indtrain, ]\n",
    "dfTest = df[indtest, ]\n",
    "dim(dfTrain)\n",
    "dim(dfTest)"
   ]
  },
  {
   "cell_type": "markdown",
   "metadata": {},
   "source": [
    "Para simplificar aún más los cálculos, nos limitaremos a los primeros 5000 días del dataset. Como siempre, consideraremos una partición de la muestra en dos subconjuntos independientes, train y test, escogidos aleatoriamente (75% para entrenar y 25% para validar).\n",
    "\n",
    "## Árboles de clasificación y regresión (2.5 puntos)\n",
    "\n",
    "#### Como ya hemos visto en sesiones anteriores, tendremos que crear dos modelos independientes, uno para la clasificación del evento binario lluvia/no lluvia y otro para el evento continuo cantidad de lluvia. Nos centramos en primer lugar en la clasificación lluvia/no lluvia. Para ello, tenemos que crear la variable binaria ocurrencia de precipitación (considera un umbral de 1 mm) y construir el dataframe asociado al problema.\n",
    "\n",
    "#### A continuación construiremos el árbol completo (usa la función tree). ¿Cuántos nodos terminales obtienes? ¿Qué variables predictoras dan lugar a las primeras subdivisiones del árbol?"
   ]
  },
  {
   "cell_type": "code",
   "execution_count": 4,
   "metadata": {},
   "outputs": [],
   "source": [
    "# Cargamos paquetes\n",
    "library(tree)\n",
    "library(rpart)"
   ]
  },
  {
   "cell_type": "code",
   "execution_count": 5,
   "metadata": {},
   "outputs": [],
   "source": [
    "# Occurencia binaria de lluvia con umbral 1mm\n",
    "yocc = df$y\n",
    "yocc[which(df$y < 1)] = 0\n",
    "yocc[which(df$y >= 1)] = 1\n",
    "yocc = as.factor(yocc)\n",
    "df_occ_Train = data.frame(yocc_Train = yocc[indtrain], dfTrain[,-1])\n",
    "df_occ_Test = data.frame(yocc_Test = yocc[indtest], dfTest[,-1])"
   ]
  },
  {
   "cell_type": "code",
   "execution_count": 6,
   "metadata": {
    "scrolled": false
   },
   "outputs": [
    {
     "data": {
      "text/plain": [
       "\n",
       "Classification tree:\n",
       "tree(formula = yocc_Train ~ ., data = df_occ_Train, mincut = 1, \n",
       "    minsize = 2, mindev = 0)\n",
       "Number of terminal nodes:  294 \n",
       "Residual mean deviance:  0 = 0 / 3456 \n",
       "Misclassification error rate: 0 = 0 / 3750 "
      ]
     },
     "metadata": {},
     "output_type": "display_data"
    },
    {
     "data": {
      "image/png": "[encoded data removed]",
      "text/plain": [
       "plot without title"
      ]
     },
     "metadata": {
      "image/png": {
       "height": 420,
       "width": 420
      }
     },
     "output_type": "display_data"
    }
   ],
   "source": [
    "# Creamos el árbol\n",
    "completeTree_occ = tree(yocc_Train ~., df_occ_Train,\n",
    "                    mincut = 1, minsize = 2, mindev = 0)\n",
    "plot(completeTree_occ); text(completeTree_occ, pretty = F)\n",
    "summary(completeTree_occ)"
   ]
  },
  {
   "cell_type": "markdown",
   "metadata": {},
   "source": [
    "En total obtenemos 294 nodos terminales. Como se puede apreciar en el gráfico, las variables predictoras con mayor capacidad de discriminación son X285, X290 y X4, ya que se encuentran en los primeros niveles."
   ]
  },
  {
   "cell_type": "markdown",
   "metadata": {},
   "source": [
    "#### Para simplificar este árbol tan complejo tendremos que podarlo adecuadamente. Utiliza una cross-validación con un 10-fold para encontrar el número de nodos terminales del árbol óptimo. ¿Cuál es este número? ¿Qué predictores aparecen como los más importantes?"
   ]
  },
  {
   "cell_type": "code",
   "execution_count": 7,
   "metadata": {},
   "outputs": [
    {
     "data": {
      "image/png": "[encoded data removed]",
      "text/plain": [
       "plot without title"
      ]
     },
     "metadata": {
      "image/png": {
       "height": 420,
       "width": 420
      }
     },
     "output_type": "display_data"
    }
   ],
   "source": [
    "# Crossvalidation 10-fold\n",
    "crossval_occ = cv.tree(completeTree_occ, K = 10)\n",
    "plot(crossval_occ$size, crossval_occ$dev, type = \"b\",\n",
    "     pch = 19, cex = 0.5, xlim = c(1,30),\n",
    "     xlab = \"number of leaves\", ylab = \"deviance\")\n",
    "grid()"
   ]
  },
  {
   "cell_type": "markdown",
   "metadata": {},
   "source": [
    "Tras hacer la crossvalidación se puede observar que el número óptimo de hojas es 6. En base a este número de hojas, podemos podar el árbol completo para obtener el árbol óptimo, de donde podremos extraer los predictores más importantes, que se piden en el enunciado."
   ]
  },
  {
   "cell_type": "code",
   "execution_count": 8,
   "metadata": {},
   "outputs": [
    {
     "data": {
      "text/plain": [
       "\n",
       "Classification tree:\n",
       "snip.tree(tree = completeTree_occ, nodes = c(15L, 11L, 4L, 14L, \n",
       "6L, 10L))\n",
       "Variables actually used in tree construction:\n",
       "[1] \"X285\" \"X290\" \"X84\"  \"X4\"   \"X8\"  \n",
       "Number of terminal nodes:  6 \n",
       "Residual mean deviance:  0.6425 = 2406 / 3744 \n",
       "Misclassification error rate: 0.1341 = 503 / 3750 "
      ]
     },
     "metadata": {},
     "output_type": "display_data"
    },
    {
     "data": {
      "image/png": "[encoded data removed]",
      "text/plain": [
       "plot without title"
      ]
     },
     "metadata": {
      "image/png": {
       "height": 420,
       "width": 420
      }
     },
     "output_type": "display_data"
    }
   ],
   "source": [
    "# Podamos el árbol completo para obtener el óptimo\n",
    "n = 6\n",
    "optTree_occ = prune.tree(completeTree_occ, best = n)\n",
    "plot(optTree_occ); text(optTree_occ)\n",
    "summary(optTree_occ)"
   ]
  },
  {
   "cell_type": "markdown",
   "metadata": {},
   "source": [
    "Nuevamente, los predictores más importantes son las variables X285, X294 y X4. Observamos que X8 y X84 también tienen importancia."
   ]
  },
  {
   "cell_type": "markdown",
   "metadata": {},
   "source": [
    "#### Utiliza este árbol óptimo para predecir en el test. Guarda las predicciones."
   ]
  },
  {
   "cell_type": "code",
   "execution_count": 9,
   "metadata": {},
   "outputs": [
    {
     "name": "stdout",
     "output_type": "stream",
     "text": [
      " Factor w/ 2 levels \"0\",\"1\": 1 2 2 1 1 1 1 2 2 2 ...\n"
     ]
    }
   ],
   "source": [
    "# Predecimos sobre el conjunto de test\n",
    "pred_opt_occ = predict(optTree_occ, df_occ_Test, type = \"class\")\n",
    "str(pred_opt_occ)"
   ]
  },
  {
   "cell_type": "markdown",
   "metadata": {},
   "source": [
    "#### Una vez obtenidas las predicciones de ocurrencia pasaremos a estimar la cantidad de precipitación. Primero creamos el dataset correspondiente."
   ]
  },
  {
   "cell_type": "markdown",
   "metadata": {},
   "source": [
    "#### A continuación construiremos dos árboles, uno entrenado sobre todo el conjunto de train y otro entrenado sólo sobre los días de lluvia (en el train). Empezamos por el primero de estos árboles. Construye el árbol completo ¿Cuántos nodos terminales obtienes? ¿Qué variables predictoras dan lugar a las primeras subdivisiones del árbol? ¿Son las mismas que para el caso de la ocurrencia?"
   ]
  },
  {
   "cell_type": "code",
   "execution_count": 10,
   "metadata": {},
   "outputs": [],
   "source": [
    "# Creamos el dataset para el primer árbol (todo el conjunto)\n",
    "df_all_Train = dfTrain\n",
    "df_all_Test = dfTest"
   ]
  },
  {
   "cell_type": "code",
   "execution_count": 11,
   "metadata": {},
   "outputs": [
    {
     "data": {
      "text/plain": [
       "\n",
       "Regression tree:\n",
       "tree(formula = y ~ ., data = df_all_Train, mincut = 1, minsize = 2, \n",
       "    mindev = 0)\n",
       "Number of terminal nodes:  956 \n",
       "Residual mean deviance:  0.002833 = 7.917 / 2794 \n",
       "Distribution of residuals:\n",
       "      Min.    1st Qu.     Median       Mean    3rd Qu.       Max. \n",
       "-0.2667000 -0.0050000 -0.0002805  0.0000000  0.0000000  0.3000000 "
      ]
     },
     "metadata": {},
     "output_type": "display_data"
    },
    {
     "data": {
      "image/png": "[encoded data removed]",
      "text/plain": [
       "plot without title"
      ]
     },
     "metadata": {
      "image/png": {
       "height": 420,
       "width": 420
      }
     },
     "output_type": "display_data"
    }
   ],
   "source": [
    "# Construimos el árbol completo\n",
    "completeTree_all = tree(y ~., df_all_Train,\n",
    "                    mincut = 1, minsize = 2, mindev = 0)\n",
    "plot(completeTree_all); text(completeTree_all, pretty = F)\n",
    "summary(completeTree_all)"
   ]
  },
  {
   "cell_type": "markdown",
   "metadata": {},
   "source": [
    "En este caso obtenemos 956 nodos terminales (un número de hojas significativamente mayor en comparación con el caso binario, debido al carácter continuo del problema), siendo X284, X285 y X4 las variables predictoras más importantes. Esto difiere del árbol anterior de ocurrencia, ya que ahora es X284 la que mayor poder discriminatorio tiene."
   ]
  },
  {
   "cell_type": "markdown",
   "metadata": {},
   "source": [
    "#### Al igual que hicimos para el caso de la ocurrencia, tendremos que podar este árbol tan complejo. Utiliza una cross-validación con un 10-fold para encontrar el número de nodos terminales del árbol óptimo. ¿Cuál es este número? ¿Qué predictores aparecen como los más importantes?"
   ]
  },
  {
   "cell_type": "code",
   "execution_count": 12,
   "metadata": {},
   "outputs": [
    {
     "data": {
      "image/png": "[encoded data removed]",
      "text/plain": [
       "plot without title"
      ]
     },
     "metadata": {
      "image/png": {
       "height": 420,
       "width": 420
      }
     },
     "output_type": "display_data"
    }
   ],
   "source": [
    "# Crossvalidation 10-fold\n",
    "crossval_all = cv.tree(completeTree_all, K = 10)\n",
    "plot(crossval_all$size, crossval_all$dev, type = \"b\",\n",
    "     pch = 19, cex = 0.5, xlim = c(1,30),\n",
    "     xlab = \"number of leaves\", ylab = \"deviance\")\n",
    "grid()"
   ]
  },
  {
   "cell_type": "markdown",
   "metadata": {},
   "source": [
    "Según la gráfica de desviación, el número óptimo de hojas es 8. Podamos el árbol completo con este número óptimo de hojas y lo representamos para estudiarlo."
   ]
  },
  {
   "cell_type": "code",
   "execution_count": 13,
   "metadata": {},
   "outputs": [
    {
     "data": {
      "text/plain": [
       "\n",
       "Regression tree:\n",
       "snip.tree(tree = completeTree_all, nodes = c(7L, 13L, 24L, 51L, \n",
       "8L, 5L, 9L))\n",
       "Variables actually used in tree construction:\n",
       "[1] \"X284\" \"X285\" \"X305\" \"X4\"   \"X310\"\n",
       "Number of terminal nodes:  8 \n",
       "Residual mean deviance:  20.56 = 76930 / 3742 \n",
       "Distribution of residuals:\n",
       "    Min.  1st Qu.   Median     Mean  3rd Qu.     Max. \n",
       "-20.2300  -0.9364  -0.2970   0.0000  -0.2970  49.8100 "
      ]
     },
     "metadata": {},
     "output_type": "display_data"
    },
    {
     "data": {
      "image/png": "[encoded data removed]",
      "text/plain": [
       "plot without title"
      ]
     },
     "metadata": {
      "image/png": {
       "height": 420,
       "width": 420
      }
     },
     "output_type": "display_data"
    }
   ],
   "source": [
    "# Podamos el árbol completo para obtener el óptimo\n",
    "n = 8\n",
    "optTree_all = prune.tree(completeTree_all, best = n)\n",
    "plot(optTree_all); text(optTree_all)\n",
    "summary(optTree_all)"
   ]
  },
  {
   "cell_type": "markdown",
   "metadata": {},
   "source": [
    "Como vemos, las variables predictoras más importantes siguen siendo X284, X285 y X4, y aparecen otras nuevas como X310 o X305."
   ]
  },
  {
   "cell_type": "markdown",
   "metadata": {},
   "source": [
    "#### Utiliza el árbol óptimo que acabas de encontrar para predecir en el test, y conserva la predicción obtenida."
   ]
  },
  {
   "cell_type": "code",
   "execution_count": 14,
   "metadata": {},
   "outputs": [
    {
     "name": "stdout",
     "output_type": "stream",
     "text": [
      " Named num [1:1250] 1.5 10.39 2.64 1.5 1.5 ...\n",
      " - attr(*, \"names\")= chr [1:1250] \"2\" \"4\" \"5\" \"8\" ...\n"
     ]
    }
   ],
   "source": [
    "# Predecimos sobre el conjunto de test\n",
    "pred_opt_all = predict(optTree_all, df_all_Test)\n",
    "str(pred_opt_all)"
   ]
  },
  {
   "cell_type": "markdown",
   "metadata": {},
   "source": [
    "#### Repite el mismo proceso para el segundo árbol de regresión (el que sólo se entrena sobre los días de lluvia en el train)."
   ]
  },
  {
   "cell_type": "code",
   "execution_count": 15,
   "metadata": {},
   "outputs": [],
   "source": [
    "# Creamos el dataset para el segundo árbol (sólo lluvia)\n",
    "df_rain_Train = dfTrain[which(dfTrain$y>=1),]\n",
    "df_rain_Test = dfTest # Porque el test lo cogemos entero."
   ]
  },
  {
   "cell_type": "code",
   "execution_count": 16,
   "metadata": {},
   "outputs": [
    {
     "data": {
      "text/plain": [
       "\n",
       "Regression tree:\n",
       "tree(formula = y ~ ., data = df_rain_Train, mincut = 1, minsize = 2, \n",
       "    mindev = 0)\n",
       "Number of terminal nodes:  593 \n",
       "Residual mean deviance:  0.01728 = 2.833 / 164 \n",
       "Distribution of residuals:\n",
       "   Min. 1st Qu.  Median    Mean 3rd Qu.    Max. \n",
       "-0.2000  0.0000  0.0000  0.0000  0.0000  0.2167 "
      ]
     },
     "metadata": {},
     "output_type": "display_data"
    },
    {
     "data": {
      "image/png": "[encoded data removed]",
      "text/plain": [
       "plot without title"
      ]
     },
     "metadata": {
      "image/png": {
       "height": 420,
       "width": 420
      }
     },
     "output_type": "display_data"
    }
   ],
   "source": [
    "# Construimos el árbol completo\n",
    "completeTree_rain = tree(y ~., df_rain_Train,\n",
    "                    mincut = 1, minsize = 2, mindev = 0)\n",
    "plot(completeTree_rain); text(completeTree_rain, pretty = F)\n",
    "summary(completeTree_rain)"
   ]
  },
  {
   "cell_type": "markdown",
   "metadata": {},
   "source": [
    "Obtenemos 593 hojas, un número cercano a la mitad del árbol completo considerando toda la serie. Tiene sentido que sea menor, ya que estamos entrenando con muchos menos puntos. En este caso, la variable predictora más importante continúa siendo X284, pero en el segundo nivel aparecen X85 y X310 tomando mayor importancia que la X4 que había aparecido en casos anteriores."
   ]
  },
  {
   "cell_type": "code",
   "execution_count": 17,
   "metadata": {},
   "outputs": [
    {
     "data": {
      "image/png": "[encoded data removed]",
      "text/plain": [
       "plot without title"
      ]
     },
     "metadata": {
      "image/png": {
       "height": 420,
       "width": 420
      }
     },
     "output_type": "display_data"
    }
   ],
   "source": [
    "# Crossvalidation 10-fold\n",
    "crossval_rain = cv.tree(completeTree_rain, K = 10)\n",
    "plot(crossval_rain$size, crossval_rain$dev, type = \"b\",\n",
    "     pch = 19, cex = 0.5, xlim = c(1,30),\n",
    "     xlab = \"number of leaves\", ylab = \"deviance\")\n",
    "grid()"
   ]
  },
  {
   "cell_type": "markdown",
   "metadata": {},
   "source": [
    "Al realizar la crossvalidación para este caso, obtenemos que el número óptimo de hojas es 7. Entrenamos el árbol óptimo fijando dicho parámetro:"
   ]
  },
  {
   "cell_type": "code",
   "execution_count": 18,
   "metadata": {},
   "outputs": [
    {
     "data": {
      "text/plain": [
       "\n",
       "Regression tree:\n",
       "snip.tree(tree = completeTree_rain, nodes = c(6L, 4L, 28L, 15L, \n",
       "58L, 5L))\n",
       "Variables actually used in tree construction:\n",
       "[1] \"X284\" \"X85\"  \"X310\" \"X285\" \"X1\"  \n",
       "Number of terminal nodes:  7 \n",
       "Residual mean deviance:  75.48 = 56610 / 750 \n",
       "Distribution of residuals:\n",
       "   Min. 1st Qu.  Median    Mean 3rd Qu.    Max. \n",
       "-12.980  -4.848  -2.448   0.000   2.735  52.120 "
      ]
     },
     "metadata": {},
     "output_type": "display_data"
    },
    {
     "data": {
      "image/png": "[encoded data removed]",
      "text/plain": [
       "plot without title"
      ]
     },
     "metadata": {
      "image/png": {
       "height": 420,
       "width": 420
      }
     },
     "output_type": "display_data"
    }
   ],
   "source": [
    "# Podamos el árbol completo para obtener el óptimo\n",
    "n = 7\n",
    "optTree_rain = prune.tree(completeTree_rain, best = n)\n",
    "plot(optTree_rain); text(optTree_rain)\n",
    "summary(optTree_rain)"
   ]
  },
  {
   "cell_type": "markdown",
   "metadata": {},
   "source": [
    "Las variables de mayor importancia son X284 (nuevamente), X85 y X310, y observamos entre el resto de variables discriminatorias la variable X285 que ya había aparecido anteriormente, pero ahora en niveles más bajos, y la X1."
   ]
  },
  {
   "cell_type": "code",
   "execution_count": 19,
   "metadata": {
    "scrolled": true
   },
   "outputs": [
    {
     "name": "stdout",
     "output_type": "stream",
     "text": [
      " Named num [1:1250] 6.37 6.72 6.72 6.37 4.81 ...\n",
      " - attr(*, \"names\")= chr [1:1250] \"2\" \"4\" \"5\" \"8\" ...\n"
     ]
    }
   ],
   "source": [
    "# Predecimos sobre el conjunto de test\n",
    "pred_opt_rain = predict(optTree_rain, df_rain_Test)\n",
    "str(pred_opt_rain)"
   ]
  },
  {
   "cell_type": "markdown",
   "metadata": {},
   "source": [
    "#### Obtén las dos series predichas completas para el test (la secuencia lluvia/no lluvia será la misma en las dos) y valida tus resultados en función de las siguiente métricas:\n",
    "\n",
    "* Para la parte binaria lluvia/no lluvia: Accuracy.\n",
    "* Para la serie completa: RMSE, correlación de Spearman y ratio de varianzas."
   ]
  },
  {
   "cell_type": "markdown",
   "metadata": {},
   "source": [
    "Para obtener las series completas, multiplicamos la serie binaria de occurrencia por la serie entera o sólo lluvia, de manera que los 0's de la binaria anulan los días sin lluvia."
   ]
  },
  {
   "cell_type": "code",
   "execution_count": 20,
   "metadata": {},
   "outputs": [],
   "source": [
    "# Calculamos las series completas\n",
    "pred_comp_all = as.numeric(pred_opt_occ) * pred_opt_all\n",
    "pred_comp_rain = as.numeric(pred_opt_occ) * pred_opt_rain"
   ]
  },
  {
   "cell_type": "markdown",
   "metadata": {},
   "source": [
    "Definimos también las métricas de error que vamos a utilizar. Para esta práctica, utilizaremos cuatro diferentes: Accuracy, para el caso binario, y RMSE (Root Mean Square Error), Correlación de Spearman y Ratio de Varianzas para el problema de regresión:\n",
    "* **Accuracy**: Permite evaluar la tasa de aciertos en la predicción del evento binario. Utilizada para problemas de clasificación, se define a través de la matriz de confusión de la siguiente manera:\n",
    "$$\n",
    "acc = \\frac{\\sum_i M_{ii}}{L_c}\n",
    "$$\n",
    "donde $M$ es la matriz de confusión entre los predictandos (lluvia/no lluvia) del conjunto de datos y el conjunto de predicción, mientras que $L_c$ corresponde a la longitud del conjunto de test.\n",
    "\n",
    "* **RMSE** (Root Mean Square Error): Es una medida de la distancia que existe entre la serie predicha $y^p$ y la serie original $y$. Se define como:\n",
    "\n",
    "$$\n",
    "\\text{RMSE} = \\sqrt{\\sum_i\\left(y_i^p-y_i\\right)^2}\n",
    "$$\n",
    "de manera que cuanto más pequeño sea esta magnitud, más se asemejará la predicción a la serie original.\n",
    "\n",
    "* **Correlación de Spearman**: Evalúa cómo de bien sigue la serie temporal predicha a la serie original, es decir, evalúa si las predicciones se dan en los momentos correctos, o si están desplazadas con respecto al conjunto de test. Así, como para cualquier valor de medida que involucre correlación, el resultado será mejor cuanto más se acerque a 1. En R, la calculamos mediante la función `cor()`.\n",
    "\n",
    "* **Ratio de Varianzas**: Indica cómo se relacionan las varianzas de las series predicha y original, de manera que cuanto más próximo a 1 sea el valor de esta medida, más se asemejarán las variabilidades de los dos conjuntos. Se define como\n",
    "\n",
    "$$\n",
    "    RV = \\frac{\\text{var}(y^p)}{\\text{var}(y)}\n",
    "$$"
   ]
  },
  {
   "cell_type": "code",
   "execution_count": 21,
   "metadata": {},
   "outputs": [],
   "source": [
    "# Definimos funciones para las métricas:\n",
    "Accuracy = function(y, ypred){\n",
    "    a = sum(diag(table(y, ypred))) / length(y)\n",
    "    return(a)\n",
    "}\n",
    "\n",
    "RMSE = function(y, ypred){\n",
    "    s = sqrt(mean((ypred - y)^2))\n",
    "    return(s)\n",
    "}\n",
    "\n",
    "Spearman = function(y, ypred){\n",
    "    c = cor(y, ypred, method = \"spearman\")\n",
    "    return(c)\n",
    "}\n",
    "\n",
    "VarRatio = function(y, ypred){\n",
    "    v = var(ypred)/var(y)\n",
    "    return(v)\n",
    "}"
   ]
  },
  {
   "cell_type": "code",
   "execution_count": 22,
   "metadata": {},
   "outputs": [],
   "source": [
    "# Calculamos las métricas de error para cada una de las series predichas\n",
    "acc_occ = Accuracy(df_occ_Test[,1], pred_opt_occ)\n",
    "\n",
    "rmse_all = RMSE(df_all_Test[,1], pred_opt_all)\n",
    "spearman_all = Spearman(df_all_Test[,1], pred_opt_all)\n",
    "varratio_all = VarRatio(df_all_Test[,1], pred_opt_all)\n",
    "\n",
    "dfResults_all = data.frame(rmse = rmse_all, spearman = spearman_all, varratio = varratio_all)\n",
    "\n",
    "rmse_rain = RMSE(df_rain_Test[,1], pred_opt_rain)\n",
    "spearman_rain = Spearman(df_rain_Test[,1], pred_opt_rain)\n",
    "varratio_rain = VarRatio(df_rain_Test[,1], pred_opt_rain)\n",
    "\n",
    "dfResults_rain = data.frame(rmse = rmse_rain, spearman = spearman_rain, varratio = varratio_rain)"
   ]
  },
  {
   "cell_type": "code",
   "execution_count": 23,
   "metadata": {
    "scrolled": false
   },
   "outputs": [
    {
     "name": "stdout",
     "output_type": "stream",
     "text": [
      "Resultados para la serie de ocurrencia"
     ]
    },
    {
     "data": {
      "text/html": [
       "0.8448"
      ],
      "text/latex": [
       "0.8448"
      ],
      "text/markdown": [
       "0.8448"
      ],
      "text/plain": [
       "[1] 0.8448"
      ]
     },
     "metadata": {},
     "output_type": "display_data"
    },
    {
     "name": "stdout",
     "output_type": "stream",
     "text": [
      "Resultados para la serie de precipitación entera"
     ]
    },
    {
     "data": {
      "text/html": [
       "<table>\n",
       "<thead><tr><th scope=col>rmse</th><th scope=col>spearman</th><th scope=col>varratio</th></tr></thead>\n",
       "<tbody>\n",
       "\t<tr><td>4.806441 </td><td>0.5932443</td><td>0.3503362</td></tr>\n",
       "</tbody>\n",
       "</table>\n"
      ],
      "text/latex": [
       "\\begin{tabular}{r|lll}\n",
       " rmse & spearman & varratio\\\\\n",
       "\\hline\n",
       "\t 4.806441  & 0.5932443 & 0.3503362\\\\\n",
       "\\end{tabular}\n"
      ],
      "text/markdown": [
       "\n",
       "| rmse | spearman | varratio |\n",
       "|---|---|---|\n",
       "| 4.806441  | 0.5932443 | 0.3503362 |\n",
       "\n"
      ],
      "text/plain": [
       "  rmse     spearman  varratio \n",
       "1 4.806441 0.5932443 0.3503362"
      ]
     },
     "metadata": {},
     "output_type": "display_data"
    },
    {
     "name": "stdout",
     "output_type": "stream",
     "text": [
      "Resultados para la serie de precipitación con los días de lluvia únicamente"
     ]
    },
    {
     "data": {
      "text/html": [
       "<table>\n",
       "<thead><tr><th scope=col>rmse</th><th scope=col>spearman</th><th scope=col>varratio</th></tr></thead>\n",
       "<tbody>\n",
       "\t<tr><td>14.09913 </td><td>0.2509253</td><td>4.453883 </td></tr>\n",
       "</tbody>\n",
       "</table>\n"
      ],
      "text/latex": [
       "\\begin{tabular}{r|lll}\n",
       " rmse & spearman & varratio\\\\\n",
       "\\hline\n",
       "\t 14.09913  & 0.2509253 & 4.453883 \\\\\n",
       "\\end{tabular}\n"
      ],
      "text/markdown": [
       "\n",
       "| rmse | spearman | varratio |\n",
       "|---|---|---|\n",
       "| 14.09913  | 0.2509253 | 4.453883  |\n",
       "\n"
      ],
      "text/plain": [
       "  rmse     spearman  varratio\n",
       "1 14.09913 0.2509253 4.453883"
      ]
     },
     "metadata": {},
     "output_type": "display_data"
    }
   ],
   "source": [
    "cat(\"Resultados para la serie de ocurrencia\")\n",
    "acc_occ\n",
    "cat(\"Resultados para la serie de precipitación entera\")\n",
    "dfResults_all\n",
    "cat(\"Resultados para la serie de precipitación con los días de lluvia únicamente\")\n",
    "dfResults_rain"
   ]
  },
  {
   "cell_type": "markdown",
   "metadata": {},
   "source": [
    "Para la ocurrencia del evento de lluvia obtenemos un valor de accuracy cerca de 0.85, un valor razonablemente bueno del que podemos extraer que se predice suficientemente bien. Los resultados del problema de regresión los estudiamos en el apartado a continuación."
   ]
  },
  {
   "cell_type": "markdown",
   "metadata": {},
   "source": [
    "#### Pregunta: ¿Cuál de los dos árboles da mejores resultados? ¿Por qué?"
   ]
  },
  {
   "cell_type": "markdown",
   "metadata": {},
   "source": [
    "Para responder a la pregunta, analizamos los resultados de cada una de las métricas empleadas. Para la precipitación entera obtenemos mejores resultados con el RMSE y la correlación de Spearman, lo que nos indica que las predicciones son más acertadas para el primer árbol además de que sigue la serie temporal mucho mejor que el segundo. Con respecto al ratio de varianzas, observamos como es menor a la unidad para el primer árbol indicando que la serie predicha reduce la variabilidad con respecto a la original. Sin embargo, para el segundo árbol el ratio de varianzas es mucho mayor que la unidad, de manera que la variabilidad de la serie predicha es mucho mayor que en la original, lo cual no augura un resultado demasiado bueno.\n",
    "\n",
    "En definitiva, y en base a las métricas de error definidas, el árbol que mejores predicciones hace es el construido considerando todos los datos de precipitación (lluvia y no lluvia). Es de esperar, ya que para el árbol de regresión entrenado únicamente con los días de lluvia estamos comparando las predicciones con un conjunto de test en el que tenemos tanto días de lluvia como de no lluvia, por lo que es normal que difiera más y los resultados sean peores."
   ]
  },
  {
   "cell_type": "markdown",
   "metadata": {},
   "source": [
    "## Random forests (2.5 puntos)\n",
    "\n",
    "#### A continuación vamos a realizar el mismo ejercicio pero sustituyendo árboles individuales por random forests, empleando para ello en este ejercicio la técnica de “bagging”. Empecemos con el evento ocurrencia. Para estimar cuál sería el tamaño óptimo de nuestro random forest, prueba bosques de hasta 1000 árboles (utiliza la función randomForest) y plotea los errores “Out-Of-Bag” (OOB). ¿Con cuántos árboles te quedarías?"
   ]
  },
  {
   "cell_type": "markdown",
   "metadata": {},
   "source": [
    "#### ***Nota:*** Hemos visto en la teoría que además del número de árboles, el otro parámetro a ajustar en los random forests es el número de predictores que se consideran en cada nodo para el splitting. En este ejemplo utlizaremos los valores típicos; n−−√ en problemas de clasificación y n/3 en problemas de predicción (siendo n el número total de predictores disponibles)."
   ]
  },
  {
   "cell_type": "code",
   "execution_count": 24,
   "metadata": {},
   "outputs": [
    {
     "name": "stderr",
     "output_type": "stream",
     "text": [
      "randomForest 4.6-14\n",
      "\n",
      "Type rfNews() to see new features/changes/bug fixes.\n",
      "\n"
     ]
    }
   ],
   "source": [
    "library(\"randomForest\")"
   ]
  },
  {
   "cell_type": "code",
   "execution_count": 25,
   "metadata": {},
   "outputs": [],
   "source": [
    "rf = randomForest(yocc_Train ~., df_occ_Train, ntree = 1000)"
   ]
  },
  {
   "cell_type": "code",
   "execution_count": 26,
   "metadata": {
    "scrolled": false
   },
   "outputs": [
    {
     "data": {
      "image/png": "[encoded data removed]",
      "text/plain": [
       "plot without title"
      ]
     },
     "metadata": {
      "image/png": {
       "height": 420,
       "width": 420
      }
     },
     "output_type": "display_data"
    }
   ],
   "source": [
    "plot(rf$err.rate[, 1], type = \"l\",\n",
    "     ylab = \"OOB error\", xlab = \"Number of Trees\")"
   ]
  },
  {
   "cell_type": "markdown",
   "metadata": {},
   "source": [
    "Observamos que el error de Out of Bag comienza a estabilizarse más o menos a partir de los 400 árboles, de manera que tomamos nuestro bosque óptimo con 400 árboles."
   ]
  },
  {
   "cell_type": "markdown",
   "metadata": {},
   "source": [
    "#### Utiliza el bosque de tamaño óptimo parar predecir la ocurrencia en el test, y conserva la predicción."
   ]
  },
  {
   "cell_type": "code",
   "execution_count": 27,
   "metadata": {},
   "outputs": [],
   "source": [
    "# Entrenamos el bosque de tamaño óptimo:\n",
    "opt = 400\n",
    "rf_occ = randomForest(yocc_Train ~., df_occ_Train, ntree = opt)"
   ]
  },
  {
   "cell_type": "code",
   "execution_count": 28,
   "metadata": {},
   "outputs": [],
   "source": [
    "pred_rf_occ = predict(rf_occ, df_occ_Test, type = \"class\")"
   ]
  },
  {
   "cell_type": "markdown",
   "metadata": {},
   "source": [
    "#### Seguidamente, tal y como hicimos con los árboles individuales, vamos a crear dos random forests para la cantidad, uno que se entrene sobre todo el dataset de train y otro que se entrene sólo sobre los días de lluvia (en el train). De nuevo, tendrás que estimar cuál es el número óptimo de árboles en cada uno de ellos (prueba bosques de hasta 1000 árboles). ¿Qué tamaños óptimos obtienes?"
   ]
  },
  {
   "cell_type": "markdown",
   "metadata": {},
   "source": [
    "Comenzamos entrenando y optimizando el árbol entero:"
   ]
  },
  {
   "cell_type": "code",
   "execution_count": 29,
   "metadata": {},
   "outputs": [],
   "source": [
    "# Árbol entero\n",
    "rf = randomForest(y ~., df_all_Train, ntree = 1000)"
   ]
  },
  {
   "cell_type": "code",
   "execution_count": 30,
   "metadata": {},
   "outputs": [
    {
     "data": {
      "image/png": "[encoded data removed]",
      "text/plain": [
       "plot without title"
      ]
     },
     "metadata": {
      "image/png": {
       "height": 420,
       "width": 420
      }
     },
     "output_type": "display_data"
    }
   ],
   "source": [
    "plot(rf$mse, type = \"l\",\n",
    "     ylab = \"OOB error\", xlab = \"Number of Trees\")"
   ]
  },
  {
   "cell_type": "markdown",
   "metadata": {},
   "source": [
    "Para este primer bosque de regresión podemos observar que el OOB error comienza a estabilizarse a partir de 200 árboles, de manera que este es el número que tomamos como óptimo."
   ]
  },
  {
   "cell_type": "code",
   "execution_count": 31,
   "metadata": {},
   "outputs": [],
   "source": [
    "# Entrenamos el bosque de tamaño óptimo:\n",
    "opt = 200\n",
    "rf_all = randomForest(y ~., df_all_Train, ntree = opt)"
   ]
  },
  {
   "cell_type": "markdown",
   "metadata": {},
   "source": [
    "Ahora entrenamos y optimizamos el árbol que recoge únicamente los eventos de lluvia:"
   ]
  },
  {
   "cell_type": "code",
   "execution_count": 32,
   "metadata": {},
   "outputs": [],
   "source": [
    "# Árbol lluvia\n",
    "rf = randomForest(y ~., df_all_Train, ntree = 1000)"
   ]
  },
  {
   "cell_type": "code",
   "execution_count": 33,
   "metadata": {},
   "outputs": [
    {
     "data": {
      "image/png": "[encoded data removed]",
      "text/plain": [
       "plot without title"
      ]
     },
     "metadata": {
      "image/png": {
       "height": 420,
       "width": 420
      }
     },
     "output_type": "display_data"
    }
   ],
   "source": [
    "plot(rf$mse, type = \"l\",\n",
    "     ylab = \"OOB error\", xlab = \"Number of Trees\")"
   ]
  },
  {
   "cell_type": "markdown",
   "metadata": {},
   "source": [
    "Nuevamente, comienza a estabilizarse a partir de los 200 árboles, de manera que lo tomamos como óptimo."
   ]
  },
  {
   "cell_type": "code",
   "execution_count": 34,
   "metadata": {},
   "outputs": [],
   "source": [
    "# Entrenamos el bosque de tamaño óptimo:\n",
    "opt = 200\n",
    "rf_rain = randomForest(y ~., df_rain_Train, ntree = opt)"
   ]
  },
  {
   "cell_type": "markdown",
   "metadata": {},
   "source": [
    "#### Utiliza los bosques óptimos encontrados para predecir la cantidad en el test, y conserva las predicciones obtenidas."
   ]
  },
  {
   "cell_type": "code",
   "execution_count": 35,
   "metadata": {},
   "outputs": [],
   "source": [
    "pred_rf_all = predict(rf_all, df_occ_Test)\n",
    "pred_rf_rain = predict(rf_rain, df_occ_Test)"
   ]
  },
  {
   "cell_type": "markdown",
   "metadata": {},
   "source": [
    "#### Construye las predicciones completas (ocurrencia×cantidad) de test y valídalas en función de las mismas métricas utilizadas en el apartado anterior."
   ]
  },
  {
   "cell_type": "code",
   "execution_count": 36,
   "metadata": {},
   "outputs": [],
   "source": [
    "# Calculamos las series completas\n",
    "pred_comprf_all = as.numeric(pred_rf_occ) * pred_rf_all\n",
    "pred_comprf_rain = as.numeric(pred_rf_occ) * pred_rf_rain"
   ]
  },
  {
   "cell_type": "code",
   "execution_count": 37,
   "metadata": {},
   "outputs": [],
   "source": [
    "# Calculamos las métricas de error para cada una de las series predichas\n",
    "acc_rf_occ = Accuracy(df_occ_Test[,1], pred_rf_occ)\n",
    "\n",
    "rmse_rf_all = RMSE(df_all_Test[,1], pred_rf_all)\n",
    "spearman_rf_all = Spearman(df_all_Test[,1], pred_rf_all)\n",
    "varratio_rf_all = VarRatio(df_all_Test[,1], pred_rf_all)\n",
    "\n",
    "dfResults_rf_all = data.frame(rmse = rmse_rf_all, spearman = spearman_rf_all, varratio = varratio_rf_all)\n",
    "\n",
    "rmse_rf_rain = RMSE(df_rain_Test[,1], pred_rf_rain)\n",
    "spearman_rf_rain = Spearman(df_rain_Test[,1], pred_rf_rain)\n",
    "varratio_rf_rain = VarRatio(df_rain_Test[,1], pred_rf_rain)\n",
    "\n",
    "dfResults_rf_rain = data.frame(rmse = rmse_rf_rain, spearman = spearman_rf_rain, varratio = varratio_rf_rain)"
   ]
  },
  {
   "cell_type": "code",
   "execution_count": 38,
   "metadata": {
    "scrolled": true
   },
   "outputs": [
    {
     "name": "stdout",
     "output_type": "stream",
     "text": [
      "Resultados para la serie de ocurrencia"
     ]
    },
    {
     "data": {
      "text/html": [
       "0.8632"
      ],
      "text/latex": [
       "0.8632"
      ],
      "text/markdown": [
       "0.8632"
      ],
      "text/plain": [
       "[1] 0.8632"
      ]
     },
     "metadata": {},
     "output_type": "display_data"
    },
    {
     "name": "stdout",
     "output_type": "stream",
     "text": [
      "Resultados para la serie de precipitación entera"
     ]
    },
    {
     "data": {
      "text/html": [
       "<table>\n",
       "<thead><tr><th scope=col>rmse</th><th scope=col>spearman</th><th scope=col>varratio</th></tr></thead>\n",
       "<tbody>\n",
       "\t<tr><td>4.651917 </td><td>0.6305844</td><td>0.5260626</td></tr>\n",
       "</tbody>\n",
       "</table>\n"
      ],
      "text/latex": [
       "\\begin{tabular}{r|lll}\n",
       " rmse & spearman & varratio\\\\\n",
       "\\hline\n",
       "\t 4.651917  & 0.6305844 & 0.5260626\\\\\n",
       "\\end{tabular}\n"
      ],
      "text/markdown": [
       "\n",
       "| rmse | spearman | varratio |\n",
       "|---|---|---|\n",
       "| 4.651917  | 0.6305844 | 0.5260626 |\n",
       "\n"
      ],
      "text/plain": [
       "  rmse     spearman  varratio \n",
       "1 4.651917 0.6305844 0.5260626"
      ]
     },
     "metadata": {},
     "output_type": "display_data"
    },
    {
     "name": "stdout",
     "output_type": "stream",
     "text": [
      "Resultados para la serie de precipitación con los días de lluvia únicamente"
     ]
    },
    {
     "data": {
      "text/html": [
       "<table>\n",
       "<thead><tr><th scope=col>rmse</th><th scope=col>spearman</th><th scope=col>varratio</th></tr></thead>\n",
       "<tbody>\n",
       "\t<tr><td>7.155533 </td><td>0.3785032</td><td>0.4125969</td></tr>\n",
       "</tbody>\n",
       "</table>\n"
      ],
      "text/latex": [
       "\\begin{tabular}{r|lll}\n",
       " rmse & spearman & varratio\\\\\n",
       "\\hline\n",
       "\t 7.155533  & 0.3785032 & 0.4125969\\\\\n",
       "\\end{tabular}\n"
      ],
      "text/markdown": [
       "\n",
       "| rmse | spearman | varratio |\n",
       "|---|---|---|\n",
       "| 7.155533  | 0.3785032 | 0.4125969 |\n",
       "\n"
      ],
      "text/plain": [
       "  rmse     spearman  varratio \n",
       "1 7.155533 0.3785032 0.4125969"
      ]
     },
     "metadata": {},
     "output_type": "display_data"
    }
   ],
   "source": [
    "cat(\"Resultados para la serie de ocurrencia\")\n",
    "acc_rf_occ\n",
    "cat(\"Resultados para la serie de precipitación entera\")\n",
    "dfResults_rf_all\n",
    "cat(\"Resultados para la serie de precipitación con los días de lluvia únicamente\")\n",
    "dfResults_rf_rain"
   ]
  },
  {
   "cell_type": "markdown",
   "metadata": {},
   "source": [
    "En primer lugar, obtenemos un accuracy mayor al obtenido con el árbol de clasificación (recordamos, era de 0.8448), de manera que se confirma que la técnica de ensemble de Random Forest proporciona (ligeramente) mejores resultados que un único árbol de clasificación."
   ]
  },
  {
   "cell_type": "markdown",
   "metadata": {},
   "source": [
    "Como en el caso anterior con los árboles de regresión, obtenemos mejores resultados para la serie con todos los datos de precipitación: un menor RMSE, y una correlación de Spearman y ratio de varianzas más próximas a 1. Sin embargo, para el segundo árbol (considerando únicamente los días de lluvia) hemos obtenido mejoras notables en cuanto a las métricas en comparación con el árbol de regresión, hecho que estudiaremos más en profundidad a continuación."
   ]
  },
  {
   "cell_type": "markdown",
   "metadata": {},
   "source": [
    "#### Pregunta: Compara estos resultados con los obtenidos para árboles individuales. ¿Qué conclusiones obtienes de la comparación entre árboles individuales y random forests?"
   ]
  },
  {
   "cell_type": "markdown",
   "metadata": {},
   "source": [
    "Comenzamos comparando los resultados obtenidos para la serie entera de precipitación:"
   ]
  },
  {
   "cell_type": "code",
   "execution_count": 39,
   "metadata": {},
   "outputs": [
    {
     "data": {
      "text/html": [
       "<table>\n",
       "<thead><tr><th></th><th scope=col>rmse</th><th scope=col>spearman</th><th scope=col>varratio</th></tr></thead>\n",
       "<tbody>\n",
       "\t<tr><th scope=row>tree_all</th><td>4.806441 </td><td>0.5932443</td><td>0.3503362</td></tr>\n",
       "\t<tr><th scope=row>forest_all</th><td>4.651917 </td><td>0.6305844</td><td>0.5260626</td></tr>\n",
       "</tbody>\n",
       "</table>\n"
      ],
      "text/latex": [
       "\\begin{tabular}{r|lll}\n",
       "  & rmse & spearman & varratio\\\\\n",
       "\\hline\n",
       "\ttree\\_all & 4.806441  & 0.5932443 & 0.3503362\\\\\n",
       "\tforest\\_all & 4.651917  & 0.6305844 & 0.5260626\\\\\n",
       "\\end{tabular}\n"
      ],
      "text/markdown": [
       "\n",
       "| <!--/--> | rmse | spearman | varratio |\n",
       "|---|---|---|---|\n",
       "| tree_all | 4.806441  | 0.5932443 | 0.3503362 |\n",
       "| forest_all | 4.651917  | 0.6305844 | 0.5260626 |\n",
       "\n"
      ],
      "text/plain": [
       "           rmse     spearman  varratio \n",
       "tree_all   4.806441 0.5932443 0.3503362\n",
       "forest_all 4.651917 0.6305844 0.5260626"
      ]
     },
     "metadata": {},
     "output_type": "display_data"
    }
   ],
   "source": [
    "rbind(tree_all = dfResults_all, forest_all = dfResults_rf_all)"
   ]
  },
  {
   "cell_type": "markdown",
   "metadata": {},
   "source": [
    "En general, los resultados obtenidos con el Random Forest son ligeramente mejores comparados con el árbol de regresión: un RMSE ligeramente menor, una correlación de Spearman un poquito más alta, pero sobre todo destaca el aumento del ratio de varianzas. Esto indica que ha aumentado la variabilidad de las predicciones, hecho que puede deberse a la gran variabilidad que presentan los árboles utilizados en el método de \"bagging\" (recordamos, son árboles con un sesgo muy pequeño pero al tener muchos la variabilidad es muy elevada)."
   ]
  },
  {
   "cell_type": "markdown",
   "metadata": {},
   "source": [
    "Con respecto a la serie donde sólo se consideran los días de lluvia:"
   ]
  },
  {
   "cell_type": "code",
   "execution_count": 40,
   "metadata": {},
   "outputs": [
    {
     "data": {
      "text/html": [
       "<table>\n",
       "<thead><tr><th></th><th scope=col>rmse</th><th scope=col>spearman</th><th scope=col>varratio</th></tr></thead>\n",
       "<tbody>\n",
       "\t<tr><th scope=row>tree_rain</th><td>14.099128</td><td>0.2509253</td><td>4.4538826</td></tr>\n",
       "\t<tr><th scope=row>forest_rain</th><td> 7.155533</td><td>0.3785032</td><td>0.4125969</td></tr>\n",
       "</tbody>\n",
       "</table>\n"
      ],
      "text/latex": [
       "\\begin{tabular}{r|lll}\n",
       "  & rmse & spearman & varratio\\\\\n",
       "\\hline\n",
       "\ttree\\_rain & 14.099128 & 0.2509253 & 4.4538826\\\\\n",
       "\tforest\\_rain &  7.155533 & 0.3785032 & 0.4125969\\\\\n",
       "\\end{tabular}\n"
      ],
      "text/markdown": [
       "\n",
       "| <!--/--> | rmse | spearman | varratio |\n",
       "|---|---|---|---|\n",
       "| tree_rain | 14.099128 | 0.2509253 | 4.4538826 |\n",
       "| forest_rain |  7.155533 | 0.3785032 | 0.4125969 |\n",
       "\n"
      ],
      "text/plain": [
       "            rmse      spearman  varratio \n",
       "tree_rain   14.099128 0.2509253 4.4538826\n",
       "forest_rain  7.155533 0.3785032 0.4125969"
      ]
     },
     "metadata": {},
     "output_type": "display_data"
    }
   ],
   "source": [
    "rbind(tree_rain = dfResults_rain, forest_rain = dfResults_rf_rain)"
   ]
  },
  {
   "cell_type": "markdown",
   "metadata": {},
   "source": [
    "Los resultado obtenidos con Random Forest son mejoran notablemente los del árbol de regresión, apreciándose sobre todo una disminución del RMSE (cerca de la mitad) y un ratio de varianzas más razonable. La correlación de Spearman mejora ligeramente pero sigue sin ser demasiado buena. Aunque los resultados mejoren al utilizar Random Forest, siguen siendo peores en comparación con la serie predicha utilizando todos los datos de precipitación, debido a los motivos expuestos en el apartado anterior (árboles de regresión)."
   ]
  },
  {
   "cell_type": "markdown",
   "metadata": {},
   "source": [
    "## Modelos lineales generalizados (GLMs) (1.5 puntos)"
   ]
  },
  {
   "cell_type": "markdown",
   "metadata": {},
   "source": [
    "#### Usaremos a continuación GLMs para el mismo problema abordado en los apartados anteriores. Como ya hemos visto en otras sesiones, debemos utilizar la familia binomial con función de enlace logit (regresión logística) para clasificación y la familia Gamma con función de enlace logarítmica para la cantidad."
   ]
  },
  {
   "cell_type": "markdown",
   "metadata": {},
   "source": [
    "#### Comenzamos con el modelo para la ocurrencia."
   ]
  },
  {
   "cell_type": "code",
   "execution_count": 41,
   "metadata": {},
   "outputs": [],
   "source": [
    "glm_occ = glm(yocc_Train ~ .,\n",
    "              df_occ_Train,\n",
    "              family = binomial(link = \"logit\"))"
   ]
  },
  {
   "cell_type": "markdown",
   "metadata": {},
   "source": [
    "#### Una vez tenemos el modelo, lo utilizamos para predecir en el test. Tendremos que convertir la predicción probabilística obtenida en binaria (considera un umbral 0.5)."
   ]
  },
  {
   "cell_type": "code",
   "execution_count": 42,
   "metadata": {},
   "outputs": [],
   "source": [
    "pred_glm_occ = predict(glm_occ,\n",
    "                       df_occ_Test,\n",
    "                       type = \"response\")\n",
    "pred_glm_occ = ifelse(pred_glm_occ >= 0.5, 1, 0)\n",
    "# hist(pred_glm_occ)"
   ]
  },
  {
   "cell_type": "markdown",
   "metadata": {},
   "source": [
    "#### A continuación, ajustamos el modelo de cantidad. Para ello tenemos que seleccionar previamente los días de lluvia (la familia Gamma sólo acepta valores positivos)."
   ]
  },
  {
   "cell_type": "code",
   "execution_count": 43,
   "metadata": {},
   "outputs": [],
   "source": [
    "glm_rain = glm(y ~ .,\n",
    "              df_rain_Train,\n",
    "              family = Gamma(link=log))"
   ]
  },
  {
   "cell_type": "markdown",
   "metadata": {},
   "source": [
    "#### Utilizamos el modelo obtenido para predecir la cantidad en el test."
   ]
  },
  {
   "cell_type": "code",
   "execution_count": 44,
   "metadata": {},
   "outputs": [],
   "source": [
    "pred_glm_rain = predict(glm_rain,\n",
    "                       df_rain_Test,\n",
    "                       type = \"response\")"
   ]
  },
  {
   "cell_type": "markdown",
   "metadata": {},
   "source": [
    "#### De nuevo, multiplicamos la ocurrencia por la cantidad para obtener la predicción completa en el test y la validamos en función de las métricas de validación que utilizamos para CART y random forests."
   ]
  },
  {
   "cell_type": "code",
   "execution_count": 45,
   "metadata": {},
   "outputs": [],
   "source": [
    "pred_glm_comp = as.numeric(pred_glm_occ) * pred_glm_rain"
   ]
  },
  {
   "cell_type": "code",
   "execution_count": 46,
   "metadata": {},
   "outputs": [],
   "source": [
    "acc_glm = Accuracy(df_occ_Test[,1], pred_glm_occ)"
   ]
  },
  {
   "cell_type": "code",
   "execution_count": 47,
   "metadata": {},
   "outputs": [
    {
     "data": {
      "text/html": [
       "<table>\n",
       "<thead><tr><th scope=col>rmse</th><th scope=col>spearman</th><th scope=col>varratio</th></tr></thead>\n",
       "<tbody>\n",
       "\t<tr><td>4.768495 </td><td>0.6157391</td><td>0.9540246</td></tr>\n",
       "</tbody>\n",
       "</table>\n"
      ],
      "text/latex": [
       "\\begin{tabular}{r|lll}\n",
       " rmse & spearman & varratio\\\\\n",
       "\\hline\n",
       "\t 4.768495  & 0.6157391 & 0.9540246\\\\\n",
       "\\end{tabular}\n"
      ],
      "text/markdown": [
       "\n",
       "| rmse | spearman | varratio |\n",
       "|---|---|---|\n",
       "| 4.768495  | 0.6157391 | 0.9540246 |\n",
       "\n"
      ],
      "text/plain": [
       "  rmse     spearman  varratio \n",
       "1 4.768495 0.6157391 0.9540246"
      ]
     },
     "metadata": {},
     "output_type": "display_data"
    }
   ],
   "source": [
    "rmse_glm = RMSE(df_rain_Test[,1], pred_glm_comp)\n",
    "spearman_glm = Spearman(df_rain_Test[,1], pred_glm_comp)\n",
    "varratio_glm = VarRatio(df_rain_Test[,1], pred_glm_comp)\n",
    "\n",
    "dfResults_glm = data.frame(rmse = rmse_glm, spearman = spearman_glm, varratio = varratio_glm)\n",
    "dfResults_glm"
   ]
  },
  {
   "cell_type": "markdown",
   "metadata": {},
   "source": [
    "#### Pregunta: Compara estos resultados con los obtenidos para CART y random forests. ¿Qué conclusiones obtienes?"
   ]
  },
  {
   "cell_type": "markdown",
   "metadata": {},
   "source": [
    "Comenzamos por el problema de clasificación, calculando el accuracy obtenido mediante GLM:"
   ]
  },
  {
   "cell_type": "code",
   "execution_count": 48,
   "metadata": {},
   "outputs": [
    {
     "data": {
      "text/html": [
       "<table>\n",
       "<tbody>\n",
       "\t<tr><th scope=row>accuracy_tree</th><td>0.8448</td></tr>\n",
       "\t<tr><th scope=row>accuracy_forest</th><td>0.8632</td></tr>\n",
       "\t<tr><th scope=row>accuracy_glm</th><td>0.8680</td></tr>\n",
       "</tbody>\n",
       "</table>\n"
      ],
      "text/latex": [
       "\\begin{tabular}{r|l}\n",
       "\taccuracy\\_tree & 0.8448\\\\\n",
       "\taccuracy\\_forest & 0.8632\\\\\n",
       "\taccuracy\\_glm & 0.8680\\\\\n",
       "\\end{tabular}\n"
      ],
      "text/markdown": [
       "\n",
       "| accuracy_tree | 0.8448 |\n",
       "| accuracy_forest | 0.8632 |\n",
       "| accuracy_glm | 0.8680 |\n",
       "\n"
      ],
      "text/plain": [
       "                [,1]  \n",
       "accuracy_tree   0.8448\n",
       "accuracy_forest 0.8632\n",
       "accuracy_glm    0.8680"
      ]
     },
     "metadata": {},
     "output_type": "display_data"
    }
   ],
   "source": [
    "rbind(accuracy_tree = acc_occ, \n",
    "      accuracy_forest = acc_rf_occ,\n",
    "      accuracy_glm = acc_glm)"
   ]
  },
  {
   "cell_type": "markdown",
   "metadata": {},
   "source": [
    "Se observa un ligero aumento del accuracy en comparación con el Random Forest, por lo que podemos concluir que la regresión lineal es un mejor modelo para el problema de clasificación en comparación con los dos anteriores."
   ]
  },
  {
   "cell_type": "markdown",
   "metadata": {},
   "source": [
    "Comparamos los resultados obtenidos para el problema de regresión, utilizando únicamente la serie con días de lluvia, ya que GLM lo hemos entrenado sólo con esta serie:"
   ]
  },
  {
   "cell_type": "code",
   "execution_count": 49,
   "metadata": {},
   "outputs": [
    {
     "data": {
      "text/html": [
       "<table>\n",
       "<thead><tr><th></th><th scope=col>rmse</th><th scope=col>spearman</th><th scope=col>varratio</th></tr></thead>\n",
       "<tbody>\n",
       "\t<tr><th scope=row>tree_rain</th><td>14.099128</td><td>0.2509253</td><td>4.4538826</td></tr>\n",
       "\t<tr><th scope=row>forest_rain</th><td> 7.155533</td><td>0.3785032</td><td>0.4125969</td></tr>\n",
       "\t<tr><th scope=row>glm_rain</th><td> 4.768495</td><td>0.6157391</td><td>0.9540246</td></tr>\n",
       "</tbody>\n",
       "</table>\n"
      ],
      "text/latex": [
       "\\begin{tabular}{r|lll}\n",
       "  & rmse & spearman & varratio\\\\\n",
       "\\hline\n",
       "\ttree\\_rain & 14.099128 & 0.2509253 & 4.4538826\\\\\n",
       "\tforest\\_rain &  7.155533 & 0.3785032 & 0.4125969\\\\\n",
       "\tglm\\_rain &  4.768495 & 0.6157391 & 0.9540246\\\\\n",
       "\\end{tabular}\n"
      ],
      "text/markdown": [
       "\n",
       "| <!--/--> | rmse | spearman | varratio |\n",
       "|---|---|---|---|\n",
       "| tree_rain | 14.099128 | 0.2509253 | 4.4538826 |\n",
       "| forest_rain |  7.155533 | 0.3785032 | 0.4125969 |\n",
       "| glm_rain |  4.768495 | 0.6157391 | 0.9540246 |\n",
       "\n"
      ],
      "text/plain": [
       "            rmse      spearman  varratio \n",
       "tree_rain   14.099128 0.2509253 4.4538826\n",
       "forest_rain  7.155533 0.3785032 0.4125969\n",
       "glm_rain     4.768495 0.6157391 0.9540246"
      ]
     },
     "metadata": {},
     "output_type": "display_data"
    }
   ],
   "source": [
    "rbind(tree_rain = dfResults_rain, forest_rain = dfResults_rf_rain, glm_rain = dfResults_glm)"
   ]
  },
  {
   "cell_type": "markdown",
   "metadata": {},
   "source": [
    "Como podemos observar, la regresión lineal mejora todas las métricas: Disminuye el RMSE hasta valores cercanos a los obtenidos con los árboles de regresión entrenados con la serie de precipitación completa (ya hemos justificado en apartados anteriores por qué son mejores, por lo que obtener valores semejantes con este modelo es una gran mejora), aumenta ntoablemente la correlación de Spearman, acercándola a la unidad (casi el doble en comparación con el Random Forest) y finalmente obtenemos un ratio de varianzas prácticamente igual a 1, lo que nos indica que consigue preservar la variabilidad de una manera considerablemente buena."
   ]
  },
  {
   "cell_type": "markdown",
   "metadata": {},
   "source": [
    "## k nearest neighbors (k-NN) (1.5 puntos)"
   ]
  },
  {
   "cell_type": "markdown",
   "metadata": {},
   "source": [
    "#### La última de las técnicas a utilizar será vecinos cercanos (ten en cuenta que en este caso ya no tendremos que predecir por separado ocurrencia y cantidad). Comenzaremos por una versión de k-NN en la que sólo se considere el vecino más cercano (utiliza la función knn.reg del paquete FNN)."
   ]
  },
  {
   "cell_type": "markdown",
   "metadata": {},
   "source": [
    "#### Nota: Recuerda que en la técnica k-NN es muy importante pre-procesar adecuadamente (estandarizar) los predictores."
   ]
  },
  {
   "cell_type": "code",
   "execution_count": 50,
   "metadata": {},
   "outputs": [],
   "source": [
    "library(FNN)"
   ]
  },
  {
   "cell_type": "code",
   "execution_count": 51,
   "metadata": {},
   "outputs": [],
   "source": [
    "predk1 = knn.reg(train = scale(dfTrain[,-1]),\n",
    "               test = scale(dfTest[,-1]),\n",
    "               y = dfTrain[,1],\n",
    "               k = 1)"
   ]
  },
  {
   "cell_type": "markdown",
   "metadata": {},
   "source": [
    "#### Como vimos en su día, el único parámetro a ajustar en la técnica k-NN es k (número de vecinos). Utilizaremos el paquete caret para encontrar el k óptimo en nuestro problema. Para ello, considera una cross-validación con 10 folds sobre el dataset de train y barre todos los k impares desde 1 a 50."
   ]
  },
  {
   "cell_type": "code",
   "execution_count": 52,
   "metadata": {},
   "outputs": [
    {
     "name": "stderr",
     "output_type": "stream",
     "text": [
      "Loading required package: lattice\n",
      "\n",
      "Loading required package: ggplot2\n",
      "\n",
      "Registered S3 methods overwritten by 'ggplot2':\n",
      "  method         from \n",
      "  [.quosures     rlang\n",
      "  c.quosures     rlang\n",
      "  print.quosures rlang\n",
      "\n",
      "\n",
      "Attaching package: 'ggplot2'\n",
      "\n",
      "\n",
      "The following object is masked from 'package:randomForest':\n",
      "\n",
      "    margin\n",
      "\n",
      "\n",
      "\n",
      "Attaching package: 'caret'\n",
      "\n",
      "\n",
      "The following object is masked _by_ '.GlobalEnv':\n",
      "\n",
      "    RMSE\n",
      "\n",
      "\n"
     ]
    }
   ],
   "source": [
    "library(caret)"
   ]
  },
  {
   "cell_type": "code",
   "execution_count": 53,
   "metadata": {},
   "outputs": [
    {
     "name": "stdout",
     "output_type": "stream",
     "text": [
      "Tiempo de ejecución:  18.45418"
     ]
    },
    {
     "data": {
      "image/png": "[encoded data removed]",
      "text/plain": [
       "plot without title"
      ]
     },
     "metadata": {
      "image/png": {
       "height": 420,
       "width": 420
      }
     },
     "output_type": "display_data"
    }
   ],
   "source": [
    "#Crossvalidation\n",
    "grid = seq(1,50, by = 2)\n",
    "trctrl = trainControl(method = \"cv\", number = 10)\n",
    "t1 = Sys.time()\n",
    "knnfit = train(y ~ ., dfTrain,\n",
    "                method = \"knn\",\n",
    "                trControl = trctrl,\n",
    "                preProcess = c(\"center\", \"scale\"),\n",
    "                tuneGrid = expand.grid(k = grid))\n",
    "t2 = Sys.time()\n",
    "cat(\"Tiempo de ejecución: \", t2-t1)\n",
    "plot(knnfit)"
   ]
  },
  {
   "cell_type": "markdown",
   "metadata": {},
   "source": [
    "#### Utiliza este k óptimo para predecir en el test."
   ]
  },
  {
   "cell_type": "markdown",
   "metadata": {},
   "source": [
    "El k óptimo, según `caret` es"
   ]
  },
  {
   "cell_type": "code",
   "execution_count": 54,
   "metadata": {},
   "outputs": [
    {
     "data": {
      "text/html": [
       "39"
      ],
      "text/latex": [
       "39"
      ],
      "text/markdown": [
       "39"
      ],
      "text/plain": [
       "[1] 39"
      ]
     },
     "metadata": {},
     "output_type": "display_data"
    }
   ],
   "source": [
    "knnfit$bestTune$k"
   ]
  },
  {
   "cell_type": "markdown",
   "metadata": {},
   "source": [
    "Sin embargo, en la gráfica observamos resultados similares para $k=19$. De hecho:"
   ]
  },
  {
   "cell_type": "code",
   "execution_count": 55,
   "metadata": {},
   "outputs": [
    {
     "data": {
      "text/html": [
       "4.83267472505993"
      ],
      "text/latex": [
       "4.83267472505993"
      ],
      "text/markdown": [
       "4.83267472505993"
      ],
      "text/plain": [
       "[1] 4.832675"
      ]
     },
     "metadata": {},
     "output_type": "display_data"
    },
    {
     "data": {
      "text/html": [
       "4.80917541351563"
      ],
      "text/latex": [
       "4.80917541351563"
      ],
      "text/markdown": [
       "4.80917541351563"
      ],
      "text/plain": [
       "[1] 4.809175"
      ]
     },
     "metadata": {},
     "output_type": "display_data"
    }
   ],
   "source": [
    "knnfit$results$RMSE[knnfit$results$k==19]\n",
    "knnfit$results$RMSE[knnfit$results$k==27]"
   ]
  },
  {
   "cell_type": "markdown",
   "metadata": {},
   "source": [
    "Apenas varía con respecto al `bestTune`. Como esta variación es tan pequeña, tomamos como k óptimo $k=19$ ya que el error cometido es parecido pero al ser un k menor reducimos costes computacionales, entrenando un modelo menos complejo. \n",
    "\n",
    "Así pues, entrenamos el modelo con nuestro k óptimo:"
   ]
  },
  {
   "cell_type": "code",
   "execution_count": 56,
   "metadata": {},
   "outputs": [],
   "source": [
    "predk19 = knn.reg(train = scale(dfTrain[,-1]),\n",
    "               test = scale(dfTest[,-1]),\n",
    "               y = dfTrain[,1],\n",
    "               k = 19)"
   ]
  },
  {
   "cell_type": "markdown",
   "metadata": {},
   "source": [
    "#### Valida las dos predicciones (con k=1 y con k=óptimo) en el test, en función de las medidas que se han ido utilizando en los apartados anteriores."
   ]
  },
  {
   "cell_type": "code",
   "execution_count": 57,
   "metadata": {
    "scrolled": true
   },
   "outputs": [],
   "source": [
    "# Resultados para k = 1\n",
    "rmse_knn1 = RMSE(dfTest[,1], predk1$pred)\n",
    "spearman_knn1 = Spearman(dfTest[,1], predk1$pred)\n",
    "varratio_knn1 = VarRatio(dfTest[,1], predk1$pred)\n",
    "\n",
    "dfResults_knn1 = data.frame(rmse = rmse_knn1, spearman = spearman_knn1, varratio = varratio_knn1)"
   ]
  },
  {
   "cell_type": "code",
   "execution_count": 58,
   "metadata": {},
   "outputs": [],
   "source": [
    "# Resultados para k = 19\n",
    "rmse_knn19 = RMSE(dfTest[,1], predk19$pred)\n",
    "spearman_knn19 = Spearman(dfTest[,1], predk19$pred)\n",
    "varratio_knn19 = VarRatio(dfTest[,1], predk19$pred)\n",
    "\n",
    "dfResults_knn19 = data.frame(rmse = rmse_knn19, spearman = spearman_knn19, varratio = varratio_knn19)"
   ]
  },
  {
   "cell_type": "markdown",
   "metadata": {},
   "source": [
    "#### Pregunta: ¿Qué diferencias obtienes entre las dos versiones utilizadas de la técnica k-NN? ¿A qué se deben?"
   ]
  },
  {
   "cell_type": "code",
   "execution_count": 59,
   "metadata": {},
   "outputs": [
    {
     "data": {
      "text/html": [
       "<table>\n",
       "<thead><tr><th scope=col>rmse</th><th scope=col>spearman</th><th scope=col>varratio</th></tr></thead>\n",
       "<tbody>\n",
       "\t<tr><td>6.074282 </td><td>0.5265582</td><td>0.9534429</td></tr>\n",
       "</tbody>\n",
       "</table>\n"
      ],
      "text/latex": [
       "\\begin{tabular}{r|lll}\n",
       " rmse & spearman & varratio\\\\\n",
       "\\hline\n",
       "\t 6.074282  & 0.5265582 & 0.9534429\\\\\n",
       "\\end{tabular}\n"
      ],
      "text/markdown": [
       "\n",
       "| rmse | spearman | varratio |\n",
       "|---|---|---|\n",
       "| 6.074282  | 0.5265582 | 0.9534429 |\n",
       "\n"
      ],
      "text/plain": [
       "  rmse     spearman  varratio \n",
       "1 6.074282 0.5265582 0.9534429"
      ]
     },
     "metadata": {},
     "output_type": "display_data"
    },
    {
     "data": {
      "text/html": [
       "<table>\n",
       "<thead><tr><th scope=col>rmse</th><th scope=col>spearman</th><th scope=col>varratio</th></tr></thead>\n",
       "<tbody>\n",
       "\t<tr><td>4.644802 </td><td>0.6172963</td><td>0.3287607</td></tr>\n",
       "</tbody>\n",
       "</table>\n"
      ],
      "text/latex": [
       "\\begin{tabular}{r|lll}\n",
       " rmse & spearman & varratio\\\\\n",
       "\\hline\n",
       "\t 4.644802  & 0.6172963 & 0.3287607\\\\\n",
       "\\end{tabular}\n"
      ],
      "text/markdown": [
       "\n",
       "| rmse | spearman | varratio |\n",
       "|---|---|---|\n",
       "| 4.644802  | 0.6172963 | 0.3287607 |\n",
       "\n"
      ],
      "text/plain": [
       "  rmse     spearman  varratio \n",
       "1 4.644802 0.6172963 0.3287607"
      ]
     },
     "metadata": {},
     "output_type": "display_data"
    }
   ],
   "source": [
    "dfResults_knn1\n",
    "dfResults_knn19"
   ]
  },
  {
   "cell_type": "markdown",
   "metadata": {},
   "source": [
    "Como podemos observar, el hecho de utilizar el número de vecinos óptimo hace que disminuya el RMSE (este hecho ya se apreciaba en la gráfica del crossvalidation, solo que entonces era sobre el conjunto de train y ahora es sobre el conjunto de test). También obtenemos una correlación de Spearman ligeramente superior. Sin embargo, resulta inquietante que para $k=1$ obtengamos un mucho mejor ratio de varianzas en comparación con el $k$ óptimo. No sabría explicar por qué sucede esto."
   ]
  },
  {
   "cell_type": "markdown",
   "metadata": {},
   "source": [
    "## Conclusiones generales (2 puntos)\n",
    "\n",
    "A la vista de los resultados obtenidos, argumenta razonadamente qué técnica o técnicas serían las mejores para la predicción de lluvia en Lisboa. Justifica tu respuesta."
   ]
  },
  {
   "cell_type": "code",
   "execution_count": 60,
   "metadata": {},
   "outputs": [
    {
     "data": {
      "text/html": [
       "<table>\n",
       "<thead><tr><th></th><th scope=col>rmse</th><th scope=col>spearman</th><th scope=col>varratio</th></tr></thead>\n",
       "<tbody>\n",
       "\t<tr><th scope=row>tree_all</th><td> 4.806441</td><td>0.5932443</td><td>0.3503362</td></tr>\n",
       "\t<tr><th scope=row>tree_rain</th><td>14.099128</td><td>0.2509253</td><td>4.4538826</td></tr>\n",
       "\t<tr><th scope=row>forest_all</th><td> 4.651917</td><td>0.6305844</td><td>0.5260626</td></tr>\n",
       "\t<tr><th scope=row>forest_rain</th><td> 7.155533</td><td>0.3785032</td><td>0.4125969</td></tr>\n",
       "\t<tr><th scope=row>glm_rain</th><td> 4.768495</td><td>0.6157391</td><td>0.9540246</td></tr>\n",
       "\t<tr><th scope=row>knn</th><td> 4.644802</td><td>0.6172963</td><td>0.3287607</td></tr>\n",
       "</tbody>\n",
       "</table>\n"
      ],
      "text/latex": [
       "\\begin{tabular}{r|lll}\n",
       "  & rmse & spearman & varratio\\\\\n",
       "\\hline\n",
       "\ttree\\_all &  4.806441 & 0.5932443 & 0.3503362\\\\\n",
       "\ttree\\_rain & 14.099128 & 0.2509253 & 4.4538826\\\\\n",
       "\tforest\\_all &  4.651917 & 0.6305844 & 0.5260626\\\\\n",
       "\tforest\\_rain &  7.155533 & 0.3785032 & 0.4125969\\\\\n",
       "\tglm\\_rain &  4.768495 & 0.6157391 & 0.9540246\\\\\n",
       "\tknn &  4.644802 & 0.6172963 & 0.3287607\\\\\n",
       "\\end{tabular}\n"
      ],
      "text/markdown": [
       "\n",
       "| <!--/--> | rmse | spearman | varratio |\n",
       "|---|---|---|---|\n",
       "| tree_all |  4.806441 | 0.5932443 | 0.3503362 |\n",
       "| tree_rain | 14.099128 | 0.2509253 | 4.4538826 |\n",
       "| forest_all |  4.651917 | 0.6305844 | 0.5260626 |\n",
       "| forest_rain |  7.155533 | 0.3785032 | 0.4125969 |\n",
       "| glm_rain |  4.768495 | 0.6157391 | 0.9540246 |\n",
       "| knn |  4.644802 | 0.6172963 | 0.3287607 |\n",
       "\n"
      ],
      "text/plain": [
       "            rmse      spearman  varratio \n",
       "tree_all     4.806441 0.5932443 0.3503362\n",
       "tree_rain   14.099128 0.2509253 4.4538826\n",
       "forest_all   4.651917 0.6305844 0.5260626\n",
       "forest_rain  7.155533 0.3785032 0.4125969\n",
       "glm_rain     4.768495 0.6157391 0.9540246\n",
       "knn          4.644802 0.6172963 0.3287607"
      ]
     },
     "metadata": {},
     "output_type": "display_data"
    }
   ],
   "source": [
    "# Creamos el dataset de resultados finales\n",
    "finalResults = rbind(tree_all = dfResults_all, tree_rain = dfResults_rain,\n",
    "                     forest_all = dfResults_rf_all, forest_rain = dfResults_rf_rain,\n",
    "                     glm_rain = dfResults_glm,\n",
    "                     knn = dfResults_knn19)\n",
    "finalResults"
   ]
  },
  {
   "cell_type": "markdown",
   "metadata": {},
   "source": [
    "En un primer vistazo, podemos quedarnos con aquellas predicciones que tengan un RMSE menor que 5, es decir, descartar aquellas que tengan un RMSE demasiado alto: `tree_rain` y `forest_rain`."
   ]
  },
  {
   "cell_type": "code",
   "execution_count": 61,
   "metadata": {},
   "outputs": [
    {
     "data": {
      "text/html": [
       "<table>\n",
       "<thead><tr><th></th><th scope=col>rmse</th><th scope=col>spearman</th><th scope=col>varratio</th></tr></thead>\n",
       "<tbody>\n",
       "\t<tr><th scope=row>tree_all</th><td>4.806441 </td><td>0.5932443</td><td>0.3503362</td></tr>\n",
       "\t<tr><th scope=row>forest_all</th><td>4.651917 </td><td>0.6305844</td><td>0.5260626</td></tr>\n",
       "\t<tr><th scope=row>glm_rain</th><td>4.768495 </td><td>0.6157391</td><td>0.9540246</td></tr>\n",
       "\t<tr><th scope=row>knn</th><td>4.644802 </td><td>0.6172963</td><td>0.3287607</td></tr>\n",
       "</tbody>\n",
       "</table>\n"
      ],
      "text/latex": [
       "\\begin{tabular}{r|lll}\n",
       "  & rmse & spearman & varratio\\\\\n",
       "\\hline\n",
       "\ttree\\_all & 4.806441  & 0.5932443 & 0.3503362\\\\\n",
       "\tforest\\_all & 4.651917  & 0.6305844 & 0.5260626\\\\\n",
       "\tglm\\_rain & 4.768495  & 0.6157391 & 0.9540246\\\\\n",
       "\tknn & 4.644802  & 0.6172963 & 0.3287607\\\\\n",
       "\\end{tabular}\n"
      ],
      "text/markdown": [
       "\n",
       "| <!--/--> | rmse | spearman | varratio |\n",
       "|---|---|---|---|\n",
       "| tree_all | 4.806441  | 0.5932443 | 0.3503362 |\n",
       "| forest_all | 4.651917  | 0.6305844 | 0.5260626 |\n",
       "| glm_rain | 4.768495  | 0.6157391 | 0.9540246 |\n",
       "| knn | 4.644802  | 0.6172963 | 0.3287607 |\n",
       "\n"
      ],
      "text/plain": [
       "           rmse     spearman  varratio \n",
       "tree_all   4.806441 0.5932443 0.3503362\n",
       "forest_all 4.651917 0.6305844 0.5260626\n",
       "glm_rain   4.768495 0.6157391 0.9540246\n",
       "knn        4.644802 0.6172963 0.3287607"
      ]
     },
     "metadata": {},
     "output_type": "display_data"
    }
   ],
   "source": [
    "rbind(tree_all = dfResults_all,\n",
    "      forest_all = dfResults_rf_all,\n",
    "      glm_rain = dfResults_glm,\n",
    "      knn = dfResults_knn19)"
   ]
  },
  {
   "cell_type": "markdown",
   "metadata": {},
   "source": [
    "Todos estos modelos presentan RMSE's muy similares, así que nos fijaremos en el resto de métricas. La correlación de Spearman también es muy similar para todos, siendo la mejor la de `forest_all` con $0.63$. Sin embargo, si nos fijamos en el ratio de varianzas, con `glm_rain` se obtiene una mejora muy significativa,  con un ratio muy próximo a 1.\n",
    "\n",
    "Así, siendo mejor el RMSE y la correlación de Spearman para el Random Forest entrenado con todos los datos de precipitación `forest_all`, la enorme mejora en el ratio de varianzas me obliga a concluir que el mejor método para la predicción de la precipitación de lisboa es la regresión lineal entrenada con los días de lluvia `glm_rain`."
   ]
  }
 ],
 "metadata": {
  "kernelspec": {
   "display_name": "R",
   "language": "R",
   "name": "ir"
  },
  "language_info": {
   "codemirror_mode": "r",
   "file_extension": ".r",
   "mimetype": "text/x-r-source",
   "name": "R",
   "pygments_lexer": "r",
   "version": "3.6.3"
  },
  "toc": {
   "base_numbering": 1,
   "nav_menu": {},
   "number_sections": true,
   "sideBar": true,
   "skip_h1_title": true,
   "title_cell": "Table of Contents",
   "title_sidebar": "Contents",
   "toc_cell": true,
   "toc_position": {},
   "toc_section_display": true,
   "toc_window_display": false
  }
 },
 "nbformat": 4,
 "nbformat_minor": 1
}
