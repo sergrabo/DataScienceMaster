{
 "cells": [
  {
   "cell_type": "markdown",
   "metadata": {},
   "source": [
    "# Tarea 2: Problemas de clasificación y PCAs"
   ]
  },
  {
   "cell_type": "markdown",
   "metadata": {},
   "source": [
    "Sergio Gracia Borobia"
   ]
  },
  {
   "cell_type": "code",
   "execution_count": 1,
   "metadata": {
    "scrolled": false
   },
   "outputs": [
    {
     "name": "stderr",
     "output_type": "stream",
     "text": [
      "Loading required package: lattice\n",
      "\n",
      "Loading required package: ggplot2\n",
      "\n",
      "Registered S3 methods overwritten by 'ggplot2':\n",
      "  method         from \n",
      "  [.quosures     rlang\n",
      "  c.quosures     rlang\n",
      "  print.quosures rlang\n",
      "\n"
     ]
    }
   ],
   "source": [
    "#Packages\n",
    "library(caret)"
   ]
  },
  {
   "cell_type": "code",
   "execution_count": 2,
   "metadata": {
    "scrolled": true
   },
   "outputs": [],
   "source": [
    "# Loading data for occ 1mm\n",
    "data = read.csv(\"meteo.csv\", row.names = \"X\")\n",
    "data$y[which(data$y < 1)] = 0\n",
    "data$y[which(data$y >= 1)] = 1\n",
    "data$y = as.factor(data$y)"
   ]
  },
  {
   "cell_type": "markdown",
   "metadata": {},
   "source": [
    "## Punto 1: Vecinos cercanos (KNN)"
   ]
  },
  {
   "cell_type": "markdown",
   "metadata": {},
   "source": [
    "Dividimos los conjuntos de *train* y *test*, con los primeros 20 años de datos para el primero, y los 10 años restantes para el segundo."
   ]
  },
  {
   "cell_type": "code",
   "execution_count": 3,
   "metadata": {},
   "outputs": [],
   "source": [
    "n = 20*365\n",
    "indTrain = 1:n\n",
    "indTest = setdiff(1:nrow(data), indTrain)\n",
    "dfTrain = data[indTrain, ]\n",
    "dfTest = data[indTest, ]"
   ]
  },
  {
   "cell_type": "markdown",
   "metadata": {},
   "source": [
    "Para encontrar el valor óptimo del número de vecinos `k` realizaremos un entrenamiento con la función `train` de `caret`, realizando un control mediante un proceso de cross-validation hold-out. En primer lugar, entrenamos sin escalar los datos, y después escalándolos (argumento `preProcess`), y comparamos los resultados."
   ]
  },
  {
   "cell_type": "code",
   "execution_count": 4,
   "metadata": {
    "scrolled": true
   },
   "outputs": [
    {
     "data": {
      "text/plain": [
       "Time difference of 6.175136 mins"
      ]
     },
     "metadata": {},
     "output_type": "display_data"
    }
   ],
   "source": [
    "# Entrenamiento sin escalado\n",
    "t1 = Sys.time()\n",
    "ctrl = trainControl(method = \"cv\", number = 2)\n",
    "knn = train(y ~ ., dfTrain,\n",
    "                method = \"knn\",\n",
    "                trControl = ctrl,\n",
    "                preProcess = c(\"center\"),\n",
    "                tuneGrid = expand.grid(k = 1:15))\n",
    "t2 = Sys.time()\n",
    "t = t2-t1\n",
    "t"
   ]
  },
  {
   "cell_type": "code",
   "execution_count": 5,
   "metadata": {
    "scrolled": false
   },
   "outputs": [
    {
     "data": {
      "image/png": "[encoded data removed]",
      "text/plain": [
       "plot without title"
      ]
     },
     "metadata": {
      "image/png": {
       "height": 420,
       "width": 420
      }
     },
     "output_type": "display_data"
    }
   ],
   "source": [
    "plot(knn)"
   ]
  },
  {
   "cell_type": "code",
   "execution_count": 6,
   "metadata": {},
   "outputs": [
    {
     "data": {
      "text/html": [
       "<table>\n",
       "<thead><tr><th></th><th scope=col>k</th></tr></thead>\n",
       "<tbody>\n",
       "\t<tr><th scope=row>15</th><td>15</td></tr>\n",
       "</tbody>\n",
       "</table>\n"
      ],
      "text/latex": [
       "\\begin{tabular}{r|l}\n",
       "  & k\\\\\n",
       "\\hline\n",
       "\t15 & 15\\\\\n",
       "\\end{tabular}\n"
      ],
      "text/markdown": [
       "\n",
       "| <!--/--> | k |\n",
       "|---|---|\n",
       "| 15 | 15 |\n",
       "\n"
      ],
      "text/plain": [
       "   k \n",
       "15 15"
      ]
     },
     "metadata": {},
     "output_type": "display_data"
    },
    {
     "data": {
      "text/html": [
       "0.855205479452055"
      ],
      "text/latex": [
       "0.855205479452055"
      ],
      "text/markdown": [
       "0.855205479452055"
      ],
      "text/plain": [
       "[1] 0.8552055"
      ]
     },
     "metadata": {},
     "output_type": "display_data"
    }
   ],
   "source": [
    "knn$bestTune\n",
    "knn$results$Accuracy[as.integer(knn$bestTune)]"
   ]
  },
  {
   "cell_type": "markdown",
   "metadata": {},
   "source": [
    "Ahora entrenamos el modelo normalizando los datos, mediante el parámetro `scale`."
   ]
  },
  {
   "cell_type": "code",
   "execution_count": 7,
   "metadata": {
    "scrolled": true
   },
   "outputs": [
    {
     "data": {
      "text/plain": [
       "Time difference of 5.962755 mins"
      ]
     },
     "metadata": {},
     "output_type": "display_data"
    }
   ],
   "source": [
    "# Entrenamiento con escalado\n",
    "t1 = Sys.time()\n",
    "ctrl = trainControl(method = \"cv\", number = 2)\n",
    "knnScale = train(y ~ ., dfTrain,\n",
    "                method = \"knn\",\n",
    "                trControl = ctrl,\n",
    "                preProcess = c(\"center\", \"scale\"),\n",
    "                tuneGrid = expand.grid(k = 1:15))\n",
    "t2 = Sys.time()\n",
    "tScale = t2-t1\n",
    "tScale"
   ]
  },
  {
   "cell_type": "code",
   "execution_count": 8,
   "metadata": {},
   "outputs": [
    {
     "data": {
      "image/png": "[encoded data removed]",
      "text/plain": [
       "plot without title"
      ]
     },
     "metadata": {
      "image/png": {
       "height": 420,
       "width": 420
      }
     },
     "output_type": "display_data"
    }
   ],
   "source": [
    "plot(knnScale)"
   ]
  },
  {
   "cell_type": "code",
   "execution_count": 9,
   "metadata": {},
   "outputs": [
    {
     "data": {
      "text/html": [
       "<table>\n",
       "<thead><tr><th></th><th scope=col>k</th></tr></thead>\n",
       "<tbody>\n",
       "\t<tr><th scope=row>11</th><td>11</td></tr>\n",
       "</tbody>\n",
       "</table>\n"
      ],
      "text/latex": [
       "\\begin{tabular}{r|l}\n",
       "  & k\\\\\n",
       "\\hline\n",
       "\t11 & 11\\\\\n",
       "\\end{tabular}\n"
      ],
      "text/markdown": [
       "\n",
       "| <!--/--> | k |\n",
       "|---|---|\n",
       "| 11 | 11 |\n",
       "\n"
      ],
      "text/plain": [
       "   k \n",
       "11 11"
      ]
     },
     "metadata": {},
     "output_type": "display_data"
    },
    {
     "data": {
      "text/html": [
       "0.863150684931507"
      ],
      "text/latex": [
       "0.863150684931507"
      ],
      "text/markdown": [
       "0.863150684931507"
      ],
      "text/plain": [
       "[1] 0.8631507"
      ]
     },
     "metadata": {},
     "output_type": "display_data"
    }
   ],
   "source": [
    "knnScale$bestTune\n",
    "knnScale$results$Accuracy[knnScale$bestTune$k]"
   ]
  },
  {
   "cell_type": "code",
   "execution_count": 10,
   "metadata": {},
   "outputs": [
    {
     "data": {
      "text/html": [
       "<table>\n",
       "<thead><tr><th></th><th scope=col>best.k</th><th scope=col>accuracy</th></tr></thead>\n",
       "<tbody>\n",
       "\t<tr><th scope=row>Unscaled</th><td>15       </td><td>0.8552055</td></tr>\n",
       "\t<tr><th scope=row>Scaled</th><td>11       </td><td>0.8631507</td></tr>\n",
       "</tbody>\n",
       "</table>\n"
      ],
      "text/latex": [
       "\\begin{tabular}{r|ll}\n",
       "  & best.k & accuracy\\\\\n",
       "\\hline\n",
       "\tUnscaled & 15        & 0.8552055\\\\\n",
       "\tScaled & 11        & 0.8631507\\\\\n",
       "\\end{tabular}\n"
      ],
      "text/markdown": [
       "\n",
       "| <!--/--> | best.k | accuracy |\n",
       "|---|---|---|\n",
       "| Unscaled | 15        | 0.8552055 |\n",
       "| Scaled | 11        | 0.8631507 |\n",
       "\n"
      ],
      "text/plain": [
       "         best.k accuracy \n",
       "Unscaled 15     0.8552055\n",
       "Scaled   11     0.8631507"
      ]
     },
     "metadata": {},
     "output_type": "display_data"
    }
   ],
   "source": [
    "data.frame(best.k = c(knn$bestTune$k,knnScale$bestTune$k),\n",
    "           accuracy = c(knn$results$Accuracy[knn$bestTune$k],\n",
    "                        knnScale$results$Accuracy[knnScale$bestTune$k]),\n",
    "           row.names = c(\"Unscaled\", \"Scaled\")\n",
    "          )"
   ]
  },
  {
   "cell_type": "markdown",
   "metadata": {},
   "source": [
    "Como podemos observar, el k optimo para los datos escalados es un poco más pequeño que para los datos sin escalar. Este hecho no tiene mayor trascendencia, ya que para diferentes ejecuciones obtenemos diferentes k óptimos, debido a que los accuracys son muy parecidos. Por otra parte, el accuracy del modelo escalado es ligeramente superior, aunque apenas se aprecia."
   ]
  },
  {
   "cell_type": "markdown",
   "metadata": {},
   "source": [
    "Aunque la diferencia en precisiones no sea demasiada, en este caso es necesario normalizar los datos porque encontramos variables que tienen magnitudes mucho más grandes (varios órdenes de magnitud) que otras, simplemente por el sistema de unidades que se utiliza en el panorama meteorológico; la presión en Pa suele ser del orden de $10^6$, mientras que la temperatura en grados centígrados (o Kelvin) se encuentra sobre las decenas o centenas.\n",
    "\n",
    "Al utilizar el algoritmo de `knn`, que basa su clasificación en la distancia entre elementos, que se calcula haciendo uso de todos los predictores, aquellos que tengan una magnitud significativamente mayor tendrán mayor peso al calcular la distancia. Por tanto, obtenemos un modelo sesgado hacia los predictores de mayor magnitud, ya que el resto de predictores apenas influye en el proceso, y es necesario normalizar los datos."
   ]
  },
  {
   "cell_type": "markdown",
   "metadata": {},
   "source": [
    "En relación al tiempo de computación, obtenemos:"
   ]
  },
  {
   "cell_type": "code",
   "execution_count": 11,
   "metadata": {},
   "outputs": [
    {
     "data": {
      "text/plain": [
       "Time differences in mins\n",
       "[1] 6.175136 5.962755"
      ]
     },
     "metadata": {},
     "output_type": "display_data"
    }
   ],
   "source": [
    "c(t, tScale)"
   ]
  },
  {
   "cell_type": "markdown",
   "metadata": {},
   "source": [
    "Se aprecia como el tiempo de computación es ridículamente alto, tardando del orden de minutos en entrenar un modelo. Efectivamente, se debe a la alta dimensionalidad de los datos, con más de 300 predictores, que además en muchos casos serán redundantes. Para resolver este problema, realizaremos un proceso de reducción de la dimensionalidad mediante el método de componentes principales (PCAs)."
   ]
  },
  {
   "cell_type": "markdown",
   "metadata": {},
   "source": [
    "Por último, calculamos el accuracy para la predicción sobre el conjunto de test, utilizando el modelo `knnScale` donde hemos escalado los datos por los motivos anteriormente mencionados."
   ]
  },
  {
   "cell_type": "code",
   "execution_count": 12,
   "metadata": {},
   "outputs": [],
   "source": [
    "# Función para calcular la Accuracy\n",
    "accuracy = function(x, y) {\n",
    "  stopifnot(length(x) == length(y))\n",
    "  return(sum(diag(table(x, y))) / length(x))\n",
    "}"
   ]
  },
  {
   "cell_type": "code",
   "execution_count": 13,
   "metadata": {},
   "outputs": [
    {
     "data": {
      "text/html": [
       "0.860579551667578"
      ],
      "text/latex": [
       "0.860579551667578"
      ],
      "text/markdown": [
       "0.860579551667578"
      ],
      "text/plain": [
       "[1] 0.8605796"
      ]
     },
     "metadata": {},
     "output_type": "display_data"
    }
   ],
   "source": [
    "pred = predict(knnScale, dfTest[, -1])\n",
    "accuracy(pred, dfTest$y)"
   ]
  },
  {
   "cell_type": "markdown",
   "metadata": {},
   "source": [
    "Podemos observar que al predecir sobre el conjunto de test obtenemos un accuracy ligeramente menor con respecto al conjunto de train, pero no supone una diferencia significativa, por lo que consideramos un modelo bien entrenado."
   ]
  },
  {
   "cell_type": "markdown",
   "metadata": {},
   "source": [
    "## Punto 2: PCAs para 1mm"
   ]
  },
  {
   "cell_type": "markdown",
   "metadata": {},
   "source": [
    "En este apartado, realizaremos una reducción de la dimensionalidad por medio del método de componentes principales, o PCAs. Para ello, tomaremos como predictando los días de lluvia (cuando la precipitación es mayor de 1mm)."
   ]
  },
  {
   "cell_type": "markdown",
   "metadata": {},
   "source": [
    "Nuevamente, dividimos los conjuntos de train y de test:"
   ]
  },
  {
   "cell_type": "code",
   "execution_count": 14,
   "metadata": {},
   "outputs": [],
   "source": [
    "n = 20*365\n",
    "indTrain = 1:n\n",
    "indTest = setdiff(1:nrow(data), indTrain)\n",
    "dfTrain = data[indTrain, ]\n",
    "dfTest = data[indTest, ]"
   ]
  },
  {
   "cell_type": "markdown",
   "metadata": {},
   "source": [
    "Calculamos las componentes principales utilizando la función `prcomp`, a la que le especificamos que los datos estén centrados (media nula) y escalados. En este caso también es importante normalizar los datos, porque nuevamente los predictores de mayor magnitud crean un sesgo en la varianza. De hecho, si multiplicamos un conjunto de datos cualquiera por una constante, su varianza aumenta como dicha constante al cuadrado, por lo que el sesgo es más notable aún."
   ]
  },
  {
   "cell_type": "code",
   "execution_count": 15,
   "metadata": {},
   "outputs": [],
   "source": [
    "PCA = prcomp(dfTrain[,-1], center=TRUE, scale=TRUE)\n",
    "PCAtest = prcomp(dfTest[,-1], center=TRUE, scale=TRUE) # Para predecir después"
   ]
  },
  {
   "cell_type": "markdown",
   "metadata": {},
   "source": [
    "Calculamos la varianza explicada como la suma cumulativa de las varianzas obtenidas en las PCAs:"
   ]
  },
  {
   "cell_type": "code",
   "execution_count": 16,
   "metadata": {
    "scrolled": false
   },
   "outputs": [
    {
     "data": {
      "image/png": "[encoded data removed]",
      "text/plain": [
       "Plot with title \"Porcentaje de varianza explicada\""
      ]
     },
     "metadata": {
      "image/png": {
       "height": 420,
       "width": 420
      }
     },
     "output_type": "display_data"
    }
   ],
   "source": [
    "expVar = cumsum(PCA$sdev^2)/sum(PCA$sdev^2) * 100\n",
    "plot(expVar, cex = 1, pch = 16,\n",
    "     xlab = \"Componentes principales PCA\", ylab= \"Varianza Explicada (%)\",\n",
    "     main = \"Porcentaje de varianza explicada\")"
   ]
  },
  {
   "cell_type": "markdown",
   "metadata": {},
   "source": [
    "Como podemos observar, para un número bastante pequeño de PCAs (cerca de la decena), ya obtenemos más de un 90% de la varianza explicada, por lo que podemos entrenar un modelo con muchas menos variables de las que estábamos utilizando en el apartado anterior. El número de variables dependerá del porcentaje de varianza explicada que escojamos, de manera que comprobamos cómo se comporta el modelo para varios porcentajes:"
   ]
  },
  {
   "cell_type": "code",
   "execution_count": 17,
   "metadata": {},
   "outputs": [
    {
     "data": {
      "text/html": [
       "<table>\n",
       "<thead><tr><th scope=col>expVar</th><th scope=col>ncomp</th><th scope=col>kfit</th><th scope=col>kAcc</th><th scope=col>time</th></tr></thead>\n",
       "<tbody>\n",
       "\t<tr><td>60       </td><td>1        </td><td>15       </td><td>0.7650655</td><td>27.910342</td></tr>\n",
       "\t<tr><td>70       </td><td>1        </td><td>15       </td><td>0.7631851</td><td>27.271196</td></tr>\n",
       "\t<tr><td>80       </td><td>3        </td><td>15       </td><td>0.8317817</td><td>35.758125</td></tr>\n",
       "\t<tr><td>90       </td><td>9        </td><td>15       </td><td>0.8564422</td><td> 1.052439</td></tr>\n",
       "</tbody>\n",
       "</table>\n"
      ],
      "text/latex": [
       "\\begin{tabular}{r|lllll}\n",
       " expVar & ncomp & kfit & kAcc & time\\\\\n",
       "\\hline\n",
       "\t 60        & 1         & 15        & 0.7650655 & 27.910342\\\\\n",
       "\t 70        & 1         & 15        & 0.7631851 & 27.271196\\\\\n",
       "\t 80        & 3         & 15        & 0.8317817 & 35.758125\\\\\n",
       "\t 90        & 9         & 15        & 0.8564422 &  1.052439\\\\\n",
       "\\end{tabular}\n"
      ],
      "text/markdown": [
       "\n",
       "| expVar | ncomp | kfit | kAcc | time |\n",
       "|---|---|---|---|---|\n",
       "| 60        | 1         | 15        | 0.7650655 | 27.910342 |\n",
       "| 70        | 1         | 15        | 0.7631851 | 27.271196 |\n",
       "| 80        | 3         | 15        | 0.8317817 | 35.758125 |\n",
       "| 90        | 9         | 15        | 0.8564422 |  1.052439 |\n",
       "\n"
      ],
      "text/plain": [
       "  expVar ncomp kfit kAcc      time     \n",
       "1 60     1     15   0.7650655 27.910342\n",
       "2 70     1     15   0.7631851 27.271196\n",
       "3 80     3     15   0.8317817 35.758125\n",
       "4 90     9     15   0.8564422  1.052439"
      ]
     },
     "metadata": {},
     "output_type": "display_data"
    }
   ],
   "source": [
    "thold = seq(60,90,10)\n",
    "kfit = c()\n",
    "kAcc = c()\n",
    "n = c()\n",
    "time = c()\n",
    "for(t in thold){\n",
    "    y = data.frame(y = dfTrain$y)\n",
    "    dfPCA = cbind(y, PCA$x[, which(expVar<t)])\n",
    "    # KNN\n",
    "    t1 = Sys.time()\n",
    "    knnPCA= train(y ~ ., dfPCA,\n",
    "                method = \"knn\",\n",
    "                preProcess = c(\"center\", \"scale\"),\n",
    "                tuneGrid = expand.grid(k = 1:15))\n",
    "    \n",
    "    # Escogemos 80% para el próximo apartado\n",
    "    if(t == 80){\n",
    "        knn80 = knnPCA\n",
    "    }\n",
    "    \n",
    "    t2 = Sys.time()\n",
    "    time = c(time, t2-t1)\n",
    "    n = c(n, max(which(expVar<t)))\n",
    "    kfit = c(kfit, knnPCA$bestTune$k)\n",
    "    kAcc = c(kAcc, knnPCA$results$Accuracy[as.integer(knnPCA$bestTune)])\n",
    "}\n",
    "results = data.frame(expVar = thold, ncomp = n, kfit = kfit, kAcc = kAcc, time = time)\n",
    "results"
   ]
  },
  {
   "cell_type": "markdown",
   "metadata": {},
   "source": [
    "Como podemos observar, el tiempo de entrenamiento del modelo se reduce enormemente, del orden de segundos, mantienendo accuracys similares al utilizar únicamente 3 o 9 variables, en comparación con el apartado anterior donde entrenábamos el modelo con todos los predictores. "
   ]
  },
  {
   "cell_type": "markdown",
   "metadata": {},
   "source": [
    "Elegimos una varianza explicada del 80%. Como podemos apreciar, al tomar el 90% el entrenamiento del modelo tarda cerca del doble de tiempo y apenas mejora la precisión. Por este motivo, utilizaremos únicamente tres componentes principales."
   ]
  },
  {
   "cell_type": "markdown",
   "metadata": {},
   "source": [
    "Con esta configuración óptima, predecimos sobre el conjunto de test:"
   ]
  },
  {
   "cell_type": "code",
   "execution_count": 18,
   "metadata": {
    "scrolled": true
   },
   "outputs": [
    {
     "data": {
      "text/html": [
       "0.707763805358119"
      ],
      "text/latex": [
       "0.707763805358119"
      ],
      "text/markdown": [
       "0.707763805358119"
      ],
      "text/plain": [
       "[1] 0.7077638"
      ]
     },
     "metadata": {},
     "output_type": "display_data"
    }
   ],
   "source": [
    "dfPCAtest80 = PCAtest$x[, which(expVar<80)]\n",
    "pred1 = predict(knn80, dfPCAtest80)\n",
    "accuracy(pred1, dfTest$y)"
   ]
  },
  {
   "cell_type": "markdown",
   "metadata": {},
   "source": [
    "Obtenemos una accuracy inferior comparada con la obtenida para el conjunto de train, pero se encuentra dentro del rango de valores considerados aceptables."
   ]
  },
  {
   "cell_type": "markdown",
   "metadata": {},
   "source": [
    "## Punto 3: PCAs para 20mm"
   ]
  },
  {
   "cell_type": "markdown",
   "metadata": {},
   "source": [
    "En este apartado, repetimos lo realizado en el apartado 2, pero tomando como predictando las precipitaciones intensas, es decir, aquellas mayores de 20mm. "
   ]
  },
  {
   "cell_type": "code",
   "execution_count": 19,
   "metadata": {},
   "outputs": [],
   "source": [
    "# Lectura de datos\n",
    "data20 = read.csv(\"meteo.csv\", row.names = \"X\")\n",
    "data20$y[which(data20$y < 20)] = 0\n",
    "data20$y[which(data20$y >= 20)] = 1\n",
    "data20$y = as.factor(data20$y)"
   ]
  },
  {
   "cell_type": "code",
   "execution_count": 20,
   "metadata": {},
   "outputs": [],
   "source": [
    "n = 20*365\n",
    "indTrain = 1:n\n",
    "indTest = setdiff(1:nrow(data20), indTrain)\n",
    "dfTrain20 = data20[indTrain, ]\n",
    "dfTest20 = data20[indTest, ]"
   ]
  },
  {
   "cell_type": "code",
   "execution_count": 21,
   "metadata": {},
   "outputs": [],
   "source": [
    "PCA20 = prcomp(dfTrain20[,-1], center=TRUE, scale=TRUE)"
   ]
  },
  {
   "cell_type": "code",
   "execution_count": 22,
   "metadata": {},
   "outputs": [
    {
     "data": {
      "image/png": "[encoded data removed]",
      "text/plain": [
       "Plot with title \"Porcentaje de varianza explicada\""
      ]
     },
     "metadata": {
      "image/png": {
       "height": 420,
       "width": 420
      }
     },
     "output_type": "display_data"
    }
   ],
   "source": [
    "expVar20 = cumsum(PCA20$sdev^2)/sum(PCA20$sdev^2) * 100\n",
    "plot(expVar20, cex = 1, pch = 16,\n",
    "     xlab = \"Componentes principales PCA\", ylab= \"Varianza Explicada (%)\",\n",
    "     main = \"Porcentaje de varianza explicada\")"
   ]
  },
  {
   "cell_type": "markdown",
   "metadata": {},
   "source": [
    "Al representar la varianza explicada, obtenemos exactamente la misma gráfica que en el apartado anterior. Esto se debe a que en el proceso de obtención de las PCA únicamente intervienen los predictores, que son los mismos para ambos datasets."
   ]
  },
  {
   "cell_type": "markdown",
   "metadata": {},
   "source": [
    "Nuevamente, estudiamos la precisión del método knn para diferentes porcentajes de varianza explicada:"
   ]
  },
  {
   "cell_type": "code",
   "execution_count": 23,
   "metadata": {
    "scrolled": true
   },
   "outputs": [
    {
     "data": {
      "text/html": [
       "<table>\n",
       "<thead><tr><th scope=col>expVar</th><th scope=col>ncomp</th><th scope=col>kfit</th><th scope=col>kAcc</th><th scope=col>time</th></tr></thead>\n",
       "<tbody>\n",
       "\t<tr><td>60       </td><td>1        </td><td>15       </td><td>0.9736472</td><td>27.621276</td></tr>\n",
       "\t<tr><td>70       </td><td>1        </td><td>15       </td><td>0.9741950</td><td>26.932119</td></tr>\n",
       "\t<tr><td>80       </td><td>3        </td><td>15       </td><td>0.9728704</td><td>35.578083</td></tr>\n",
       "\t<tr><td>90       </td><td>9        </td><td>15       </td><td>0.9744177</td><td> 1.041437</td></tr>\n",
       "</tbody>\n",
       "</table>\n"
      ],
      "text/latex": [
       "\\begin{tabular}{r|lllll}\n",
       " expVar & ncomp & kfit & kAcc & time\\\\\n",
       "\\hline\n",
       "\t 60        & 1         & 15        & 0.9736472 & 27.621276\\\\\n",
       "\t 70        & 1         & 15        & 0.9741950 & 26.932119\\\\\n",
       "\t 80        & 3         & 15        & 0.9728704 & 35.578083\\\\\n",
       "\t 90        & 9         & 15        & 0.9744177 &  1.041437\\\\\n",
       "\\end{tabular}\n"
      ],
      "text/markdown": [
       "\n",
       "| expVar | ncomp | kfit | kAcc | time |\n",
       "|---|---|---|---|---|\n",
       "| 60        | 1         | 15        | 0.9736472 | 27.621276 |\n",
       "| 70        | 1         | 15        | 0.9741950 | 26.932119 |\n",
       "| 80        | 3         | 15        | 0.9728704 | 35.578083 |\n",
       "| 90        | 9         | 15        | 0.9744177 |  1.041437 |\n",
       "\n"
      ],
      "text/plain": [
       "  expVar ncomp kfit kAcc      time     \n",
       "1 60     1     15   0.9736472 27.621276\n",
       "2 70     1     15   0.9741950 26.932119\n",
       "3 80     3     15   0.9728704 35.578083\n",
       "4 90     9     15   0.9744177  1.041437"
      ]
     },
     "metadata": {},
     "output_type": "display_data"
    }
   ],
   "source": [
    "thold = seq(60,90,10)\n",
    "n = c()\n",
    "kfit = c()\n",
    "kAcc = c()\n",
    "time = c()\n",
    "for(t in thold){\n",
    "    y = data.frame(y = dfTrain20$y)\n",
    "    dfPCA = cbind(y, PCA20$x[, which(expVar20<t)])\n",
    "    # KNN\n",
    "    t1 = Sys.time()\n",
    "    knnPCA = train(y ~ ., dfPCA,\n",
    "                method = \"knn\",\n",
    "                preProcess = c(\"center\", \"scale\"),\n",
    "                tuneGrid = expand.grid(k = 1:15))\n",
    "    \n",
    "    # Escogemos 80% para el próximo apartado\n",
    "    if(t == 80){\n",
    "        knn80.20 = knnPCA\n",
    "    }\n",
    "    \n",
    "    t2 = Sys.time()\n",
    "    time = c(time, t2-t1)\n",
    "    n = c(n, max(which(expVar20<t)))\n",
    "    kfit = c(kfit, knnPCA$bestTune$k)\n",
    "    kAcc = c(kAcc, knnPCA$results$Accuracy[as.integer(knnPCA$bestTune)])\n",
    "}\n",
    "results20 = data.frame(expVar = thold, ncomp = n, kfit = kfit, kAcc = kAcc, time = time)\n",
    "results20"
   ]
  },
  {
   "cell_type": "markdown",
   "metadata": {},
   "source": [
    "Con respecto a los tiempos de computación, obtenemos resultados similares. Sin embargo, para las accuracys obtenidas, obtenemos valores notablemente más altos, obteniendo modelos que predicen casi a la perfección. Estudiando también la predicción sobre el conjunto de test:"
   ]
  },
  {
   "cell_type": "code",
   "execution_count": 24,
   "metadata": {},
   "outputs": [
    {
     "data": {
      "text/html": [
       "0.804264625478403"
      ],
      "text/latex": [
       "0.804264625478403"
      ],
      "text/markdown": [
       "0.804264625478403"
      ],
      "text/plain": [
       "[1] 0.8042646"
      ]
     },
     "metadata": {},
     "output_type": "display_data"
    }
   ],
   "source": [
    "dfPCAtest80 = PCAtest$x[, which(expVar<80)]\n",
    "pred20 = predict(knn80.20, dfPCAtest80)\n",
    "accuracy(pred20, dfTest$y)"
   ]
  },
  {
   "cell_type": "markdown",
   "metadata": {},
   "source": [
    "Obtenemos un accuracy menor que para el conjunto de train, pero superior al accuracy obtenido para el conjunto de test en el apartado anterior. Podemos concluir entonces que, en este caso y dado que las lluvias intensas son menos frecuentes, el modelo consigue predecir con una mejoría significativa."
   ]
  },
  {
   "cell_type": "markdown",
   "metadata": {},
   "source": [
    "## Punto 4: Comparación con regresión logística"
   ]
  },
  {
   "cell_type": "code",
   "execution_count": 25,
   "metadata": {},
   "outputs": [],
   "source": [
    "# Construcción de Dataframes\n",
    "datT1 = data.frame(y = dfTrain$y, PCA$x[, which(expVar<80)])\n",
    "datT20 = data.frame(y = dfTrain20$y, PCA$x[, which(expVar<80)])\n",
    "PCAtest = prcomp(dfTest[,-1], center=TRUE, scale=TRUE)\n",
    "datt1 = data.frame(y = dfTest$y, PCAtest$x[, which(expVar<80)])\n",
    "datt20 = data.frame(y = dfTest20$y , PCAtest$x[, which(expVar<80)])\n",
    "# Regresión logística\n",
    "reg1 = glm(datT1$y~., data = datT1, family = binomial(link = \"logit\"))\n",
    "reg20 = glm(datT20$y~., data = datT20, family = binomial(link = \"logit\"))\n",
    "# Predicción sobre el test\n",
    "pred.reg1 = predict(object = reg1, newdata = datt1)\n",
    "pred.reg20 = predict(object = reg20, newdata = datt20)\n",
    "# Caracter binario de la ocurrencia\n",
    "pred.reg1 = ifelse(pred.reg1 >= 0.5, 1, 0)\n",
    "pred.reg20 = ifelse(pred.reg20 >= 0.1, 1, 0)"
   ]
  },
  {
   "cell_type": "code",
   "execution_count": 29,
   "metadata": {},
   "outputs": [],
   "source": [
    "library(\"AUC\")\n",
    "roc.reg1 = roc(pred.reg1, dfTest$y)\n",
    "roc.reg20 = roc(pred.reg20, dfTest20$y)\n",
    "roc.knn1 = roc(pred1, dfTest$y)\n",
    "roc.knn20 = roc(pred20, dfTest$y)"
   ]
  },
  {
   "cell_type": "code",
   "execution_count": 31,
   "metadata": {},
   "outputs": [
    {
     "data": {
      "text/html": [
       "0.47109224448674"
      ],
      "text/latex": [
       "0.47109224448674"
      ],
      "text/markdown": [
       "0.47109224448674"
      ],
      "text/plain": [
       "[1] 0.4710922"
      ]
     },
     "metadata": {},
     "output_type": "display_data"
    },
    {
     "data": {
      "image/png": "[encoded data removed]",
      "text/plain": [
       "plot without title"
      ]
     },
     "metadata": {
      "image/png": {
       "height": 420,
       "width": 420
      }
     },
     "output_type": "display_data"
    },
    {
     "data": {
      "text/html": [
       "0.499830105334692"
      ],
      "text/latex": [
       "0.499830105334692"
      ],
      "text/markdown": [
       "0.499830105334692"
      ],
      "text/plain": [
       "[1] 0.4998301"
      ]
     },
     "metadata": {},
     "output_type": "display_data"
    },
    {
     "data": {
      "image/png": "[encoded data removed]",
      "text/plain": [
       "plot without title"
      ]
     },
     "metadata": {
      "image/png": {
       "height": 420,
       "width": 420
      }
     },
     "output_type": "display_data"
    },
    {
     "data": {
      "text/html": [
       "0.497331822102464"
      ],
      "text/latex": [
       "0.497331822102464"
      ],
      "text/markdown": [
       "0.497331822102464"
      ],
      "text/plain": [
       "[1] 0.4973318"
      ]
     },
     "metadata": {},
     "output_type": "display_data"
    },
    {
     "data": {
      "image/png": "[encoded data removed]",
      "text/plain": [
       "plot without title"
      ]
     },
     "metadata": {
      "image/png": {
       "height": 420,
       "width": 420
      }
     },
     "output_type": "display_data"
    },
    {
     "data": {
      "text/html": [
       "0.5"
      ],
      "text/latex": [
       "0.5"
      ],
      "text/markdown": [
       "0.5"
      ],
      "text/plain": [
       "[1] 0.5"
      ]
     },
     "metadata": {},
     "output_type": "display_data"
    },
    {
     "data": {
      "image/png": "[encoded data removed]",
      "text/plain": [
       "plot without title"
      ]
     },
     "metadata": {
      "image/png": {
       "height": 420,
       "width": 420
      }
     },
     "output_type": "display_data"
    }
   ],
   "source": [
    "plot(roc.knn1)\n",
    "auc(roc.knn1)\n",
    "plot(roc.knn20)\n",
    "auc(roc.knn20)\n",
    "plot(roc.reg1)\n",
    "auc(roc.reg1)\n",
    "plot(roc.reg20)\n",
    "auc(roc.reg20)"
   ]
  },
  {
   "cell_type": "markdown",
   "metadata": {},
   "source": [
    "Lamentablemente, estos resultados no tienen sentido. Por falta de tiempo me resulta imposible localizar el error. "
   ]
  }
 ],
 "metadata": {
  "kernelspec": {
   "display_name": "R",
   "language": "R",
   "name": "ir"
  },
  "language_info": {
   "codemirror_mode": "r",
   "file_extension": ".r",
   "mimetype": "text/x-r-source",
   "name": "R",
   "pygments_lexer": "r",
   "version": "3.6.3"
  }
 },
 "nbformat": 4,
 "nbformat_minor": 2
}
