{
 "cells": [
  {
   "cell_type": "markdown",
   "metadata": {
    "toc": true
   },
   "source": [
    "<h1>Table of Contents<span class=\"tocSkip\"></span></h1>\n",
    "<div class=\"toc\"><ul class=\"toc-item\"><li><ul class=\"toc-item\"><li><span><a href=\"#Introducción\" data-toc-modified-id=\"Introducción-0.1\"><span class=\"toc-item-num\">0.1&nbsp;&nbsp;</span>Introducción</a></span></li></ul></li><li><span><a href=\"#Apply()\" data-toc-modified-id=\"Apply()-1\"><span class=\"toc-item-num\">1&nbsp;&nbsp;</span><code>Apply()</code></a></span></li><li><span><a href=\"#lapply()-y-sapply()\" data-toc-modified-id=\"lapply()-y-sapply()-2\"><span class=\"toc-item-num\">2&nbsp;&nbsp;</span><code>lapply()</code> y <code>sapply()</code></a></span><ul class=\"toc-item\"><li><ul class=\"toc-item\"><li><span><a href=\"#sapply()\" data-toc-modified-id=\"sapply()-2.0.1\"><span class=\"toc-item-num\">2.0.1&nbsp;&nbsp;</span><code>sapply()</code></a></span></li></ul></li></ul></li><li><span><a href=\"#mapply()\" data-toc-modified-id=\"mapply()-3\"><span class=\"toc-item-num\">3&nbsp;&nbsp;</span><code>mapply()</code></a></span></li><li><span><a href=\"#Otras-funciones:-rapply(),-tapply()-y-vapply()\" data-toc-modified-id=\"Otras-funciones:-rapply(),-tapply()-y-vapply()-4\"><span class=\"toc-item-num\">4&nbsp;&nbsp;</span>Otras funciones: <code>rapply()</code>, <code>tapply()</code> y <code>vapply()</code></a></span><ul class=\"toc-item\"><li><span><a href=\"#Nota-Final\" data-toc-modified-id=\"Nota-Final-4.1\"><span class=\"toc-item-num\">4.1&nbsp;&nbsp;</span>Nota Final</a></span></li><li><span><a href=\"#¿Cuándo-paralelizar?\" data-toc-modified-id=\"¿Cuándo-paralelizar?-4.2\"><span class=\"toc-item-num\">4.2&nbsp;&nbsp;</span>¿Cuándo paralelizar?</a></span></li></ul></li></ul></div>"
   ]
  },
  {
   "cell_type": "markdown",
   "metadata": {},
   "source": [
    "# La Familia Apply\n",
    "\n"
   ]
  },
  {
   "cell_type": "markdown",
   "metadata": {},
   "source": [
    "Profesor: Mikel N. Legasa (legasam@unican.es)"
   ]
  },
  {
   "cell_type": "markdown",
   "metadata": {},
   "source": [
    "### Introducción"
   ]
  },
  {
   "cell_type": "markdown",
   "metadata": {},
   "source": [
    "`apply()` y sus variantes (`lapply()`, `sapply()`, `mapply()`...) son funciones para manipular matrices, arrays, listas y dataframes de manera repetitiva de distintas maneras, y permiten evitar el uso de ciclos `for` y `while`. Es decir, cuando se trata de aplicar de manera iterativa una función a una estructura de datos, en `R` esta serie de funciones permite hacerlo de manera concisa y rápida.\n",
    "\n",
    "Comenzamos con un ejemplo sencillo, supongamos que queremos poner en minúsculas las letras de todos los nombres de un vector. La función de `R` que lo hace es `tolower()`. La forma habitual y primera aproximación para hacerlo es utilizar un ciclo for, como sigue:"
   ]
  },
  {
   "cell_type": "code",
   "execution_count": 29,
   "metadata": {
    "scrolled": true
   },
   "outputs": [
    {
     "data": {
      "text/html": [
       "<ol class=list-inline>\n",
       "\t<li>'paco'</li>\n",
       "\t<li>'álvaro'</li>\n",
       "\t<li>'maría'</li>\n",
       "\t<li>'alex'</li>\n",
       "</ol>\n"
      ],
      "text/latex": [
       "\\begin{enumerate*}\n",
       "\\item 'paco'\n",
       "\\item 'álvaro'\n",
       "\\item 'maría'\n",
       "\\item 'alex'\n",
       "\\end{enumerate*}\n"
      ],
      "text/markdown": [
       "1. 'paco'\n",
       "2. 'álvaro'\n",
       "3. 'maría'\n",
       "4. 'alex'\n",
       "\n",
       "\n"
      ],
      "text/plain": [
       "[1] \"paco\"   \"álvaro\" \"maría\"  \"alex\"  "
      ]
     },
     "metadata": {},
     "output_type": "display_data"
    }
   ],
   "source": [
    "nombres <- c(\"Paco\",\"Álvaro\",\"María\", \"Alex\")\n",
    "for (i in 1:length(nombres)){\n",
    "    nombres[i] <- tolower(nombres[i])\n",
    "}\n",
    "nombres"
   ]
  },
  {
   "cell_type": "markdown",
   "metadata": {},
   "source": [
    "Pero podemos escribirlo de manera más concisa usando la función `lapply()`:"
   ]
  },
  {
   "cell_type": "code",
   "execution_count": 30,
   "metadata": {},
   "outputs": [
    {
     "data": {
      "text/html": [
       "<ol>\n",
       "\t<li>'paco'</li>\n",
       "\t<li>'álvaro'</li>\n",
       "\t<li>'maría'</li>\n",
       "\t<li>'alex'</li>\n",
       "</ol>\n"
      ],
      "text/latex": [
       "\\begin{enumerate}\n",
       "\\item 'paco'\n",
       "\\item 'álvaro'\n",
       "\\item 'maría'\n",
       "\\item 'alex'\n",
       "\\end{enumerate}\n"
      ],
      "text/markdown": [
       "1. 'paco'\n",
       "2. 'álvaro'\n",
       "3. 'maría'\n",
       "4. 'alex'\n",
       "\n",
       "\n"
      ],
      "text/plain": [
       "[[1]]\n",
       "[1] \"paco\"\n",
       "\n",
       "[[2]]\n",
       "[1] \"álvaro\"\n",
       "\n",
       "[[3]]\n",
       "[1] \"maría\"\n",
       "\n",
       "[[4]]\n",
       "[1] \"alex\"\n"
      ]
     },
     "metadata": {},
     "output_type": "display_data"
    }
   ],
   "source": [
    "nombres <- c(\"Paco\",\"Álvaro\", \"María\", \"Alex\")\n",
    "nombres <- lapply(nombres, tolower)\n",
    "nombres"
   ]
  },
  {
   "cell_type": "markdown",
   "metadata": {},
   "source": [
    "Nota: Hay que tener en cuenta que muchas funciones de `R` están *vectorizadas*, lo que significa que pueden aplicarse directamente sobre vectores:"
   ]
  },
  {
   "cell_type": "code",
   "execution_count": 31,
   "metadata": {},
   "outputs": [
    {
     "data": {
      "text/html": [
       "<ol class=list-inline>\n",
       "\t<li>'paco'</li>\n",
       "\t<li>'álvaro'</li>\n",
       "\t<li>'maría'</li>\n",
       "\t<li>'alex'</li>\n",
       "</ol>\n"
      ],
      "text/latex": [
       "\\begin{enumerate*}\n",
       "\\item 'paco'\n",
       "\\item 'álvaro'\n",
       "\\item 'maría'\n",
       "\\item 'alex'\n",
       "\\end{enumerate*}\n"
      ],
      "text/markdown": [
       "1. 'paco'\n",
       "2. 'álvaro'\n",
       "3. 'maría'\n",
       "4. 'alex'\n",
       "\n",
       "\n"
      ],
      "text/plain": [
       "[1] \"paco\"   \"álvaro\" \"maría\"  \"alex\"  "
      ]
     },
     "metadata": {},
     "output_type": "display_data"
    }
   ],
   "source": [
    "tolower(nombres)"
   ]
  },
  {
   "cell_type": "markdown",
   "metadata": {},
   "source": [
    "Por supuesto, para cualquier función no vectorizada, o para navegar sobre tipos de datos más complejos, la familia Apply será muy útil."
   ]
  },
  {
   "cell_type": "markdown",
   "metadata": {},
   "source": [
    "En la siguiente sección veremos en detalle las diferencias entre las diferentes funciones de la familia, esencialmente cada una de ellas está indicada para operar sobre un tipo de estructura distinta. Nos centraremos en `apply()`, pensada para recorrer matrices sobre sus dimensiones; `lapply()`, pensada para recorrer listas y vectores; `sapply()`, que equivale a `lapply()` pero trata de simplificar en un array el resultado, y `mapply()` permite iterar sobre varias listas o vectores a la vez."
   ]
  },
  {
   "cell_type": "markdown",
   "metadata": {},
   "source": [
    "## `Apply()`"
   ]
  },
  {
   "cell_type": "markdown",
   "metadata": {},
   "source": [
    "Esta primera función opera sobre arrays multidimensionales, en particular matrices. Sus tres principales argumentos son \n",
    "\n",
    "- `X`: Array sobre el que se desea operar.\n",
    "- `MARGIN`: Dimensión sobre la que se desea aplicar la función indicada en `FUN`. Escribiendo `MARGIN = 1` aplicaremos la función a las filas de la matriz y escribiendo `MARGIN = 2` sobre las columnas. Notar que si `X` tiene más de dos dimensiones `MARGIN = 3` opera sobre la tercera dimensión, etc...\n",
    "- `FUN`: Función a aplicar.\n",
    "\n",
    "\n",
    "Vamos a trabajar con la matriz `A`:"
   ]
  },
  {
   "cell_type": "code",
   "execution_count": 32,
   "metadata": {},
   "outputs": [
    {
     "data": {
      "text/html": [
       "<table>\n",
       "<caption>A matrix: 6 × 6 of type int</caption>\n",
       "<tbody>\n",
       "\t<tr><td> 9</td><td>11</td><td> 5</td><td> 9</td><td> 5</td><td> 3</td></tr>\n",
       "\t<tr><td> 4</td><td>14</td><td>15</td><td> 5</td><td> 2</td><td> 6</td></tr>\n",
       "\t<tr><td> 7</td><td> 2</td><td>10</td><td>14</td><td>10</td><td>10</td></tr>\n",
       "\t<tr><td> 1</td><td>15</td><td> 6</td><td>15</td><td> 9</td><td>13</td></tr>\n",
       "\t<tr><td> 2</td><td> 3</td><td>13</td><td>12</td><td> 1</td><td>14</td></tr>\n",
       "\t<tr><td>13</td><td> 1</td><td> 7</td><td>13</td><td> 4</td><td> 4</td></tr>\n",
       "</tbody>\n",
       "</table>\n"
      ],
      "text/latex": [
       "A matrix: 6 × 6 of type int\n",
       "\\begin{tabular}{llllll}\n",
       "\t  9 & 11 &  5 &  9 &  5 &  3\\\\\n",
       "\t  4 & 14 & 15 &  5 &  2 &  6\\\\\n",
       "\t  7 &  2 & 10 & 14 & 10 & 10\\\\\n",
       "\t  1 & 15 &  6 & 15 &  9 & 13\\\\\n",
       "\t  2 &  3 & 13 & 12 &  1 & 14\\\\\n",
       "\t 13 &  1 &  7 & 13 &  4 &  4\\\\\n",
       "\\end{tabular}\n"
      ],
      "text/markdown": [
       "\n",
       "A matrix: 6 × 6 of type int\n",
       "\n",
       "|  9 | 11 |  5 |  9 |  5 |  3 |\n",
       "|  4 | 14 | 15 |  5 |  2 |  6 |\n",
       "|  7 |  2 | 10 | 14 | 10 | 10 |\n",
       "|  1 | 15 |  6 | 15 |  9 | 13 |\n",
       "|  2 |  3 | 13 | 12 |  1 | 14 |\n",
       "| 13 |  1 |  7 | 13 |  4 |  4 |\n",
       "\n"
      ],
      "text/plain": [
       "     [,1] [,2] [,3] [,4] [,5] [,6]\n",
       "[1,]  9   11    5    9    5    3  \n",
       "[2,]  4   14   15    5    2    6  \n",
       "[3,]  7    2   10   14   10   10  \n",
       "[4,]  1   15    6   15    9   13  \n",
       "[5,]  2    3   13   12    1   14  \n",
       "[6,] 13    1    7   13    4    4  "
      ]
     },
     "metadata": {},
     "output_type": "display_data"
    }
   ],
   "source": [
    "set.seed(1) # resultados reproducibles\n",
    "A <- replicate(expr = sample(1:15, size = 6),n = 6) # replicate() evalua la expresión expr n veces\n",
    "A"
   ]
  },
  {
   "cell_type": "markdown",
   "metadata": {},
   "source": [
    "**Ejemplo:** calcular el máximo de cada fila de la matriz:"
   ]
  },
  {
   "cell_type": "code",
   "execution_count": 33,
   "metadata": {},
   "outputs": [
    {
     "data": {
      "text/html": [
       "<ol class=list-inline>\n",
       "\t<li>11</li>\n",
       "\t<li>15</li>\n",
       "\t<li>14</li>\n",
       "\t<li>15</li>\n",
       "\t<li>14</li>\n",
       "\t<li>13</li>\n",
       "</ol>\n"
      ],
      "text/latex": [
       "\\begin{enumerate*}\n",
       "\\item 11\n",
       "\\item 15\n",
       "\\item 14\n",
       "\\item 15\n",
       "\\item 14\n",
       "\\item 13\n",
       "\\end{enumerate*}\n"
      ],
      "text/markdown": [
       "1. 11\n",
       "2. 15\n",
       "3. 14\n",
       "4. 15\n",
       "5. 14\n",
       "6. 13\n",
       "\n",
       "\n"
      ],
      "text/plain": [
       "[1] 11 15 14 15 14 13"
      ]
     },
     "metadata": {},
     "output_type": "display_data"
    }
   ],
   "source": [
    "apply(X = A, MARGIN = 1, FUN = max)"
   ]
  },
  {
   "cell_type": "markdown",
   "metadata": {},
   "source": [
    "**Ejemplo:** calcular el mínimo de cada columna de la matriz:"
   ]
  },
  {
   "cell_type": "code",
   "execution_count": 34,
   "metadata": {},
   "outputs": [
    {
     "data": {
      "text/html": [
       "<ol class=list-inline>\n",
       "\t<li>1</li>\n",
       "\t<li>1</li>\n",
       "\t<li>5</li>\n",
       "\t<li>5</li>\n",
       "\t<li>1</li>\n",
       "\t<li>3</li>\n",
       "</ol>\n"
      ],
      "text/latex": [
       "\\begin{enumerate*}\n",
       "\\item 1\n",
       "\\item 1\n",
       "\\item 5\n",
       "\\item 5\n",
       "\\item 1\n",
       "\\item 3\n",
       "\\end{enumerate*}\n"
      ],
      "text/markdown": [
       "1. 1\n",
       "2. 1\n",
       "3. 5\n",
       "4. 5\n",
       "5. 1\n",
       "6. 3\n",
       "\n",
       "\n"
      ],
      "text/plain": [
       "[1] 1 1 5 5 1 3"
      ]
     },
     "metadata": {},
     "output_type": "display_data"
    }
   ],
   "source": [
    "apply(X = A, MARGIN = 2, FUN = min)"
   ]
  },
  {
   "cell_type": "markdown",
   "metadata": {},
   "source": [
    "`apply()` también permite pasar argumentos adicionales a la función especificada en `FUN`. Es decir, en nuestro último ejemplo `apply()` aplica a las columnas de la matriz `A` la función `min()`, para la cual podemos querer especificar algún argumento adicional (las columnas de `A` entran como primer argumento). En efecto, `min()` tiene el argumento `na.rm`, que permite ignorar los `NA` en el cálculo del mínimo, si los hubiera. Veamos un ejemplo:\n",
    "\n",
    "**Ejemplo:** Calcular el mímimo de cada columna de la matriz `A`, a la que hemos introducido dos `NA`:"
   ]
  },
  {
   "cell_type": "code",
   "execution_count": 35,
   "metadata": {},
   "outputs": [
    {
     "data": {
      "text/html": [
       "<ol class=list-inline>\n",
       "\t<li>1</li>\n",
       "\t<li>&lt;NA&gt;</li>\n",
       "\t<li>5</li>\n",
       "\t<li>5</li>\n",
       "\t<li>1</li>\n",
       "\t<li>&lt;NA&gt;</li>\n",
       "</ol>\n"
      ],
      "text/latex": [
       "\\begin{enumerate*}\n",
       "\\item 1\n",
       "\\item <NA>\n",
       "\\item 5\n",
       "\\item 5\n",
       "\\item 1\n",
       "\\item <NA>\n",
       "\\end{enumerate*}\n"
      ],
      "text/markdown": [
       "1. 1\n",
       "2. &lt;NA&gt;\n",
       "3. 5\n",
       "4. 5\n",
       "5. 1\n",
       "6. &lt;NA&gt;\n",
       "\n",
       "\n"
      ],
      "text/plain": [
       "[1]  1 NA  5  5  1 NA"
      ]
     },
     "metadata": {},
     "output_type": "display_data"
    }
   ],
   "source": [
    "# Introducimos unos NA\n",
    "A[1,2] <- NA\n",
    "A[3,2] <- NA\n",
    "A[4,6] <- NA\n",
    "\n",
    "apply(X = A, MARGIN = 2, FUN = min)"
   ]
  },
  {
   "cell_type": "markdown",
   "metadata": {},
   "source": [
    "Como vemos, al haber `NA`s en la matriz, el mínimo de alguna columna es `NA` también. Si queremos evitarlo, debemos pasarle el argumento `na.rm = TRUE` a la función `min()`. Esto se hace pasándoselo directamente a `apply()` (Si consultas la ayuda (`?apply`), puedes ver el argumento `...`, argumentos opcionales para `FUN`):"
   ]
  },
  {
   "cell_type": "code",
   "execution_count": 36,
   "metadata": {},
   "outputs": [
    {
     "data": {
      "text/html": [
       "<ol class=list-inline>\n",
       "\t<li>1</li>\n",
       "\t<li>1</li>\n",
       "\t<li>5</li>\n",
       "\t<li>5</li>\n",
       "\t<li>1</li>\n",
       "\t<li>3</li>\n",
       "</ol>\n"
      ],
      "text/latex": [
       "\\begin{enumerate*}\n",
       "\\item 1\n",
       "\\item 1\n",
       "\\item 5\n",
       "\\item 5\n",
       "\\item 1\n",
       "\\item 3\n",
       "\\end{enumerate*}\n"
      ],
      "text/markdown": [
       "1. 1\n",
       "2. 1\n",
       "3. 5\n",
       "4. 5\n",
       "5. 1\n",
       "6. 3\n",
       "\n",
       "\n"
      ],
      "text/plain": [
       "[1] 1 1 5 5 1 3"
      ]
     },
     "metadata": {},
     "output_type": "display_data"
    }
   ],
   "source": [
    "apply(X = A, MARGIN = 2, FUN = min, na.rm = TRUE)"
   ]
  },
  {
   "cell_type": "markdown",
   "metadata": {},
   "source": [
    "También podemos usar `apply()` sobre matrices de más dimensiones, por ejemplo:"
   ]
  },
  {
   "cell_type": "markdown",
   "metadata": {},
   "source": [
    "**Ejemplo:** Calcular la media para de las submatrices sobre la dimensión $3$:"
   ]
  },
  {
   "cell_type": "code",
   "execution_count": 37,
   "metadata": {},
   "outputs": [
    {
     "name": "stdout",
     "output_type": "stream",
     "text": [
      "     [,1] [,2] [,3] [,4] [,5]\n",
      "[1,]    7   12    1    2    5\n",
      "[2,]    9    4   12   10   15\n",
      "[3,]    5   14   14    1    6\n",
      "[4,]   12   10   13   13    9\n",
      "[5,]   15    8   10    4    8\n"
     ]
    },
    {
     "data": {
      "text/html": [
       "<ol class=list-inline>\n",
       "\t<li>8.2</li>\n",
       "\t<li>8.2</li>\n",
       "\t<li>8.16</li>\n",
       "\t<li>7.24</li>\n",
       "\t<li>6.56</li>\n",
       "\t<li>8.6</li>\n",
       "\t<li>6.88</li>\n",
       "\t<li>8.88</li>\n",
       "\t<li>9.88</li>\n",
       "\t<li>8.76</li>\n",
       "</ol>\n"
      ],
      "text/latex": [
       "\\begin{enumerate*}\n",
       "\\item 8.2\n",
       "\\item 8.2\n",
       "\\item 8.16\n",
       "\\item 7.24\n",
       "\\item 6.56\n",
       "\\item 8.6\n",
       "\\item 6.88\n",
       "\\item 8.88\n",
       "\\item 9.88\n",
       "\\item 8.76\n",
       "\\end{enumerate*}\n"
      ],
      "text/markdown": [
       "1. 8.2\n",
       "2. 8.2\n",
       "3. 8.16\n",
       "4. 7.24\n",
       "5. 6.56\n",
       "6. 8.6\n",
       "7. 6.88\n",
       "8. 8.88\n",
       "9. 9.88\n",
       "10. 8.76\n",
       "\n",
       "\n"
      ],
      "text/plain": [
       " [1] 8.20 8.20 8.16 7.24 6.56 8.60 6.88 8.88 9.88 8.76"
      ]
     },
     "metadata": {},
     "output_type": "display_data"
    }
   ],
   "source": [
    "A3 <- replicate(replicate(expr = sample(1:15, size = 5),n = 5), n= 10) # A3 es de dimensiones 5x5x10\n",
    "print(A3[,,10]) # ejemplo\n",
    "apply(A3, MARGIN = 3, FUN = mean)"
   ]
  },
  {
   "cell_type": "markdown",
   "metadata": {},
   "source": [
    "Hay que tener en cuenta que podemos escribir nuestra propia función dentro de la función `apply()` (y su familia), lo que será muy útil para funciones que requieran algo más de complejidad. Es decir, el ejemplo anterior equivale a "
   ]
  },
  {
   "cell_type": "code",
   "execution_count": 38,
   "metadata": {},
   "outputs": [
    {
     "data": {
      "text/html": [
       "<ol class=list-inline>\n",
       "\t<li>8.2</li>\n",
       "\t<li>8.2</li>\n",
       "\t<li>8.16</li>\n",
       "\t<li>7.24</li>\n",
       "\t<li>6.56</li>\n",
       "\t<li>8.6</li>\n",
       "\t<li>6.88</li>\n",
       "\t<li>8.88</li>\n",
       "\t<li>9.88</li>\n",
       "\t<li>8.76</li>\n",
       "</ol>\n"
      ],
      "text/latex": [
       "\\begin{enumerate*}\n",
       "\\item 8.2\n",
       "\\item 8.2\n",
       "\\item 8.16\n",
       "\\item 7.24\n",
       "\\item 6.56\n",
       "\\item 8.6\n",
       "\\item 6.88\n",
       "\\item 8.88\n",
       "\\item 9.88\n",
       "\\item 8.76\n",
       "\\end{enumerate*}\n"
      ],
      "text/markdown": [
       "1. 8.2\n",
       "2. 8.2\n",
       "3. 8.16\n",
       "4. 7.24\n",
       "5. 6.56\n",
       "6. 8.6\n",
       "7. 6.88\n",
       "8. 8.88\n",
       "9. 9.88\n",
       "10. 8.76\n",
       "\n",
       "\n"
      ],
      "text/plain": [
       " [1] 8.20 8.20 8.16 7.24 6.56 8.60 6.88 8.88 9.88 8.76"
      ]
     },
     "metadata": {},
     "output_type": "display_data"
    }
   ],
   "source": [
    "apply(A3, MARGIN = 3, FUN = function(x) {return(mean(x))})"
   ]
  },
  {
   "cell_type": "markdown",
   "metadata": {},
   "source": [
    "**Ejercicio:** Obtén la media por filas de la matriz `A`:"
   ]
  },
  {
   "cell_type": "code",
   "execution_count": null,
   "metadata": {},
   "outputs": [],
   "source": []
  },
  {
   "cell_type": "markdown",
   "metadata": {},
   "source": [
    "**Ejercicio:** En la matriz `A`, queremos saber cuantos `NA` hay en cada columna (recordar funciones `sum()` e `is.na()`):"
   ]
  },
  {
   "cell_type": "code",
   "execution_count": null,
   "metadata": {},
   "outputs": [],
   "source": []
  },
  {
   "cell_type": "markdown",
   "metadata": {},
   "source": [
    "**Ejercicio:** Obtén la matriz resultado de sumar a cada columna de la matriz `A` el vector `y`:"
   ]
  },
  {
   "cell_type": "code",
   "execution_count": null,
   "metadata": {},
   "outputs": [],
   "source": []
  },
  {
   "cell_type": "markdown",
   "metadata": {},
   "source": [
    "`apply()` puede utilizarse también sobre `data.frame`s, tratándolos como si fuera una matriz."
   ]
  },
  {
   "cell_type": "markdown",
   "metadata": {},
   "source": [
    "Por último, nótese que `apply()` puede producir resultados inesperados. La ayuda de `apply()` especifica \"Si la llamada a la función devuelve un vector de longitud $n$, entonces `apply()` devuelve un array de dimensión `c(n, dim(X)[MARGIN])`. Compruébalo:"
   ]
  },
  {
   "cell_type": "markdown",
   "metadata": {},
   "source": [
    "**Ejercicio:** Obtén la **matriz resultado** de sumar a cada **fila** de la matriz `A` el vector `y`:"
   ]
  },
  {
   "cell_type": "code",
   "execution_count": null,
   "metadata": {},
   "outputs": [],
   "source": []
  },
  {
   "cell_type": "markdown",
   "metadata": {},
   "source": [
    "En `R` ya existen las funciones `rowMeans()`, `rowSums()`, `colMeans()`, `colSums()`. Éstas están ya precompiladas en `C` y son mucho más rápidas que sus equivalentes utilizando bien `apply()` o ciclos for. Comprueba como cambian los tiempos de cómputo según usemos un bucle, una función `apply` o la implementación de `R`. Puedes usar la evaluación con la función `system.time()` o las heredadas de Matlab `tic-toc` (https://www.rdocumentation.org/packages/pracma/versions/1.9.9/topics/tic%2Ctoc)."
   ]
  },
  {
   "cell_type": "markdown",
   "metadata": {},
   "source": [
    "## `lapply()` y `sapply()`"
   ]
  },
  {
   "cell_type": "markdown",
   "metadata": {},
   "source": [
    "`lapply()` es la función indicada para trabajar con listas. También permite iterar sobre vectores, como vimos en la introducción, y sobre `data.frame`s. Sus dos argumentos principales son, análogamente a `apply()`,\n",
    "\n",
    "- `X`: Lista sobre la que se desea iterar.\n",
    "- `FUN`: Función a aplicar.\n",
    "\n",
    "E idénticamente a ésta, también permite especificar argumentos adicionales (`...`)."
   ]
  },
  {
   "cell_type": "markdown",
   "metadata": {},
   "source": [
    "**Ejercicio:** De la lista siguiente obtén la media de cada vector"
   ]
  },
  {
   "cell_type": "code",
   "execution_count": 39,
   "metadata": {},
   "outputs": [],
   "source": [
    "lista.vec <- list(c(9,10,5,6), \n",
    "                    c(9,9,8,4),\n",
    "                    c(4,3,6,6))"
   ]
  },
  {
   "cell_type": "markdown",
   "metadata": {},
   "source": [
    "**Ejercicio:** De la lista de matrices siguientes, obtén las medias por columnas de cada matriz."
   ]
  },
  {
   "cell_type": "code",
   "execution_count": 40,
   "metadata": {},
   "outputs": [],
   "source": [
    "lista.mat <- replicate(replicate(expr = sample(1:15, size = 6),n = 6,), n = 4 , simplify = F) # simplify = FALSE no simplifica en un array\n"
   ]
  },
  {
   "cell_type": "markdown",
   "metadata": {},
   "source": [
    "Debe tenerse en cuenta que: \n",
    "\n",
    "1. El objeto devuelto siempre es una lista, incluso aunque el objeto sobre el que iteramos no lo sea. Lo podemos ver con nuestro ejemplo inicial:"
   ]
  },
  {
   "cell_type": "code",
   "execution_count": 41,
   "metadata": {},
   "outputs": [
    {
     "data": {
      "text/html": [
       "TRUE"
      ],
      "text/latex": [
       "TRUE"
      ],
      "text/markdown": [
       "TRUE"
      ],
      "text/plain": [
       "[1] TRUE"
      ]
     },
     "metadata": {},
     "output_type": "display_data"
    }
   ],
   "source": [
    "is.list(lapply(nombres, tolower))"
   ]
  },
  {
   "cell_type": "markdown",
   "metadata": {},
   "source": [
    "2. Si se aplica `lapply()` a una matriz esta tratará como un vector, i.e. elemento a elemento.\n",
    "\n",
    "**Ejemplo:**"
   ]
  },
  {
   "cell_type": "code",
   "execution_count": 42,
   "metadata": {
    "scrolled": true
   },
   "outputs": [
    {
     "data": {
      "text/html": [
       "<ol>\n",
       "\t<li>9</li>\n",
       "\t<li>4</li>\n",
       "\t<li>7</li>\n",
       "\t<li>1</li>\n",
       "\t<li>2</li>\n",
       "\t<li>13</li>\n",
       "\t<li>&lt;NA&gt;</li>\n",
       "\t<li>14</li>\n",
       "\t<li>&lt;NA&gt;</li>\n",
       "\t<li>15</li>\n",
       "\t<li>3</li>\n",
       "\t<li>1</li>\n",
       "\t<li>5</li>\n",
       "\t<li>15</li>\n",
       "\t<li>10</li>\n",
       "\t<li>6</li>\n",
       "\t<li>13</li>\n",
       "\t<li>7</li>\n",
       "\t<li>9</li>\n",
       "\t<li>5</li>\n",
       "\t<li>14</li>\n",
       "\t<li>15</li>\n",
       "\t<li>12</li>\n",
       "\t<li>13</li>\n",
       "\t<li>5</li>\n",
       "\t<li>2</li>\n",
       "\t<li>10</li>\n",
       "\t<li>9</li>\n",
       "\t<li>1</li>\n",
       "\t<li>4</li>\n",
       "\t<li>3</li>\n",
       "\t<li>6</li>\n",
       "\t<li>10</li>\n",
       "\t<li>&lt;NA&gt;</li>\n",
       "\t<li>14</li>\n",
       "\t<li>4</li>\n",
       "</ol>\n"
      ],
      "text/latex": [
       "\\begin{enumerate}\n",
       "\\item 9\n",
       "\\item 4\n",
       "\\item 7\n",
       "\\item 1\n",
       "\\item 2\n",
       "\\item 13\n",
       "\\item <NA>\n",
       "\\item 14\n",
       "\\item <NA>\n",
       "\\item 15\n",
       "\\item 3\n",
       "\\item 1\n",
       "\\item 5\n",
       "\\item 15\n",
       "\\item 10\n",
       "\\item 6\n",
       "\\item 13\n",
       "\\item 7\n",
       "\\item 9\n",
       "\\item 5\n",
       "\\item 14\n",
       "\\item 15\n",
       "\\item 12\n",
       "\\item 13\n",
       "\\item 5\n",
       "\\item 2\n",
       "\\item 10\n",
       "\\item 9\n",
       "\\item 1\n",
       "\\item 4\n",
       "\\item 3\n",
       "\\item 6\n",
       "\\item 10\n",
       "\\item <NA>\n",
       "\\item 14\n",
       "\\item 4\n",
       "\\end{enumerate}\n"
      ],
      "text/markdown": [
       "1. 9\n",
       "2. 4\n",
       "3. 7\n",
       "4. 1\n",
       "5. 2\n",
       "6. 13\n",
       "7. &lt;NA&gt;\n",
       "8. 14\n",
       "9. &lt;NA&gt;\n",
       "10. 15\n",
       "11. 3\n",
       "12. 1\n",
       "13. 5\n",
       "14. 15\n",
       "15. 10\n",
       "16. 6\n",
       "17. 13\n",
       "18. 7\n",
       "19. 9\n",
       "20. 5\n",
       "21. 14\n",
       "22. 15\n",
       "23. 12\n",
       "24. 13\n",
       "25. 5\n",
       "26. 2\n",
       "27. 10\n",
       "28. 9\n",
       "29. 1\n",
       "30. 4\n",
       "31. 3\n",
       "32. 6\n",
       "33. 10\n",
       "34. &lt;NA&gt;\n",
       "35. 14\n",
       "36. 4\n",
       "\n",
       "\n"
      ],
      "text/plain": [
       "[[1]]\n",
       "[1] 9\n",
       "\n",
       "[[2]]\n",
       "[1] 4\n",
       "\n",
       "[[3]]\n",
       "[1] 7\n",
       "\n",
       "[[4]]\n",
       "[1] 1\n",
       "\n",
       "[[5]]\n",
       "[1] 2\n",
       "\n",
       "[[6]]\n",
       "[1] 13\n",
       "\n",
       "[[7]]\n",
       "[1] NA\n",
       "\n",
       "[[8]]\n",
       "[1] 14\n",
       "\n",
       "[[9]]\n",
       "[1] NA\n",
       "\n",
       "[[10]]\n",
       "[1] 15\n",
       "\n",
       "[[11]]\n",
       "[1] 3\n",
       "\n",
       "[[12]]\n",
       "[1] 1\n",
       "\n",
       "[[13]]\n",
       "[1] 5\n",
       "\n",
       "[[14]]\n",
       "[1] 15\n",
       "\n",
       "[[15]]\n",
       "[1] 10\n",
       "\n",
       "[[16]]\n",
       "[1] 6\n",
       "\n",
       "[[17]]\n",
       "[1] 13\n",
       "\n",
       "[[18]]\n",
       "[1] 7\n",
       "\n",
       "[[19]]\n",
       "[1] 9\n",
       "\n",
       "[[20]]\n",
       "[1] 5\n",
       "\n",
       "[[21]]\n",
       "[1] 14\n",
       "\n",
       "[[22]]\n",
       "[1] 15\n",
       "\n",
       "[[23]]\n",
       "[1] 12\n",
       "\n",
       "[[24]]\n",
       "[1] 13\n",
       "\n",
       "[[25]]\n",
       "[1] 5\n",
       "\n",
       "[[26]]\n",
       "[1] 2\n",
       "\n",
       "[[27]]\n",
       "[1] 10\n",
       "\n",
       "[[28]]\n",
       "[1] 9\n",
       "\n",
       "[[29]]\n",
       "[1] 1\n",
       "\n",
       "[[30]]\n",
       "[1] 4\n",
       "\n",
       "[[31]]\n",
       "[1] 3\n",
       "\n",
       "[[32]]\n",
       "[1] 6\n",
       "\n",
       "[[33]]\n",
       "[1] 10\n",
       "\n",
       "[[34]]\n",
       "[1] NA\n",
       "\n",
       "[[35]]\n",
       "[1] 14\n",
       "\n",
       "[[36]]\n",
       "[1] 4\n"
      ]
     },
     "metadata": {},
     "output_type": "display_data"
    }
   ],
   "source": [
    "lapply(A, mean)"
   ]
  },
  {
   "cell_type": "markdown",
   "metadata": {},
   "source": [
    "3. Si se aplica sobre un `data.frame` éste se iterará por columnas."
   ]
  },
  {
   "cell_type": "markdown",
   "metadata": {},
   "source": [
    "**Ejercicio:** Del `data.frame` `alumnos`, verifica si hay alguien que se llame \"jose\" e identifica la clase en la que se encuentra, esta vez utilizando `lapply()`:"
   ]
  },
  {
   "cell_type": "code",
   "execution_count": 43,
   "metadata": {},
   "outputs": [],
   "source": [
    "alumnos <-\n",
    "data.frame(fisica = c(\"juan\", \"rodrigo\", \"maria\", \"jose\"),\n",
    "           matematicas = c(\"joaquin\", \"maialen\", \"jose\", NA),\n",
    "           biologia = c(\"ana\", \"daniel\", \"markel\", \"adriana\"))\n"
   ]
  },
  {
   "cell_type": "markdown",
   "metadata": {},
   "source": [
    "**Ejercicio:** La lista siguiente no es homogénea. Verifica elemento a elemento si el segundo elemento de la sublista es un `data.frame`. Si no lo es, conviértelo en uno y marca la primera variable de cada lista como `\"ndf\"`. Si lo es, márcala como `\"df\"`."
   ]
  },
  {
   "cell_type": "code",
   "execution_count": 44,
   "metadata": {
    "scrolled": false
   },
   "outputs": [],
   "source": [
    "lista.vars <-list(\n",
    "             list(\"df\", as.data.frame(replicate(sample(1:15, 6),n = 6))),\n",
    "             list(\"var3\", replicate(sample(1:15, 6),n = 6)),\n",
    "             list(\"t\", as.data.frame(replicate(sample(1:15, 6),n = 6))),\n",
    "             list(\"loc\", replicate(sample(1:15, 6),n = 6))\n",
    "             )\n",
    "\n"
   ]
  },
  {
   "cell_type": "markdown",
   "metadata": {},
   "source": [
    "---\n",
    "#### `sapply()` "
   ]
  },
  {
   "cell_type": "markdown",
   "metadata": {},
   "source": [
    "La función `sapply()` es idéntica a `lapply()`, pero trata de simplificar el resultado a un vector, matriz o array. Si la salida es de una dimensión, lo convertirá a un vector, si es una matriz a una matriz (utiliza internamente la función `simplify2array()`). Como **ejemplo:**"
   ]
  },
  {
   "cell_type": "code",
   "execution_count": 45,
   "metadata": {},
   "outputs": [
    {
     "data": {
      "text/html": [
       "<ol class=list-inline>\n",
       "\t<li>'paco'</li>\n",
       "\t<li>'álvaro'</li>\n",
       "\t<li>'maría'</li>\n",
       "\t<li>'alex'</li>\n",
       "</ol>\n"
      ],
      "text/latex": [
       "\\begin{enumerate*}\n",
       "\\item 'paco'\n",
       "\\item 'álvaro'\n",
       "\\item 'maría'\n",
       "\\item 'alex'\n",
       "\\end{enumerate*}\n"
      ],
      "text/markdown": [
       "1. 'paco'\n",
       "2. 'álvaro'\n",
       "3. 'maría'\n",
       "4. 'alex'\n",
       "\n",
       "\n"
      ],
      "text/plain": [
       "[1] \"paco\"   \"álvaro\" \"maría\"  \"alex\"  "
      ]
     },
     "metadata": {},
     "output_type": "display_data"
    }
   ],
   "source": [
    "sapply(nombres, tolower)"
   ]
  },
  {
   "cell_type": "markdown",
   "metadata": {},
   "source": [
    "`sapply()` tiene dos argumentos adicionales respecto a `lapply()`:\n",
    "- `simplify` Si se especifica `simplify = FALSE`, entonces es idéntico a `lapply()`.\n",
    "- `USE.NAMES` Si se especifica `USE.NAMES = TRUE` (por defecto), y `X` es de tipo `character`, se usan estos como nombres para el output."
   ]
  },
  {
   "cell_type": "markdown",
   "metadata": {},
   "source": [
    "**Ejercicio:** Verifica el output de los dos ejercicios anteriores cuando en vez de `lapply()` se utiliza `sapply()`"
   ]
  },
  {
   "cell_type": "code",
   "execution_count": null,
   "metadata": {},
   "outputs": [],
   "source": []
  },
  {
   "cell_type": "code",
   "execution_count": null,
   "metadata": {},
   "outputs": [],
   "source": []
  },
  {
   "cell_type": "markdown",
   "metadata": {},
   "source": [
    "## `mapply()`"
   ]
  },
  {
   "cell_type": "markdown",
   "metadata": {},
   "source": [
    "Hasta ahora hemos visto cómo vectorizar sobre una lista, matriz, vector. `mapply()`  (*multivariate apply*) permite vectorizar más de un argumento, es decir, aplicar una función sobre múltiples argumentos de manera vectorizada. \n",
    "\n",
    "Sus argumentos son:\n",
    "- `FUN`,\tFunción a aplicar\n",
    "- `...` , Argumentos sobre los que vectorizar.\n",
    "- `MoreArgs`, Lista de argumentos adicionales (no vectorizados).\n",
    "- `SIMPLIFY`, Si se marca como `TRUE`, se intentará *simplificar* el resultado a un vector, matriz o array multidimensional. Funciona análogamente al simplificado de `sapply()`\n",
    "\n",
    "Veamos como funciona con un **ejemplo**:\n",
    "\n",
    "En este caso tenemos dos listas de vectores, y queremos sumar vector a vector. Podemos hacerlo con `mapply()`:"
   ]
  },
  {
   "cell_type": "code",
   "execution_count": 46,
   "metadata": {},
   "outputs": [
    {
     "data": {
      "text/html": [
       "<table>\n",
       "<caption>A matrix: 4 × 4 of type dbl</caption>\n",
       "<tbody>\n",
       "\t<tr><td>101</td><td> 399</td><td>-496</td><td>0</td></tr>\n",
       "\t<tr><td>201</td><td> 132</td><td>-308</td><td>0</td></tr>\n",
       "\t<tr><td>110</td><td>1342</td><td> 695</td><td>4</td></tr>\n",
       "\t<tr><td>230</td><td> 148</td><td>-627</td><td>0</td></tr>\n",
       "</tbody>\n",
       "</table>\n"
      ],
      "text/latex": [
       "A matrix: 4 × 4 of type dbl\n",
       "\\begin{tabular}{llll}\n",
       "\t 101 &  399 & -496 & 0\\\\\n",
       "\t 201 &  132 & -308 & 0\\\\\n",
       "\t 110 & 1342 &  695 & 4\\\\\n",
       "\t 230 &  148 & -627 & 0\\\\\n",
       "\\end{tabular}\n"
      ],
      "text/markdown": [
       "\n",
       "A matrix: 4 × 4 of type dbl\n",
       "\n",
       "| 101 |  399 | -496 | 0 |\n",
       "| 201 |  132 | -308 | 0 |\n",
       "| 110 | 1342 |  695 | 4 |\n",
       "| 230 |  148 | -627 | 0 |\n",
       "\n"
      ],
      "text/plain": [
       "     [,1] [,2] [,3] [,4]\n",
       "[1,] 101   399 -496 0   \n",
       "[2,] 201   132 -308 0   \n",
       "[3,] 110  1342  695 4   \n",
       "[4,] 230   148 -627 0   "
      ]
     },
     "metadata": {},
     "output_type": "display_data"
    }
   ],
   "source": [
    "lista.vec1 <- list(c(1,1,10,20), c(-1,12,122,44), c(34,12,65,23), c(1,1,2,4))\n",
    "lista.vec2 <- list(c(100,200,100,210), c(400,120,1220,104), c(-530,-320,630,-650), c(-1,-1,2,-4))\n",
    "mapply(FUN = function(x,y) x+y, lista.vec1, lista.vec2)"
   ]
  },
  {
   "cell_type": "markdown",
   "metadata": {},
   "source": [
    "Por defecto `mapply()` simplifica el resultado en una matriz. Podemos evitarlo si especificamos `SIMPLIFY = FALSE`:"
   ]
  },
  {
   "cell_type": "code",
   "execution_count": 47,
   "metadata": {},
   "outputs": [
    {
     "data": {
      "text/html": [
       "<ol>\n",
       "\t<li><ol class=list-inline>\n",
       "\t<li>101</li>\n",
       "\t<li>201</li>\n",
       "\t<li>110</li>\n",
       "\t<li>230</li>\n",
       "</ol>\n",
       "</li>\n",
       "\t<li><ol class=list-inline>\n",
       "\t<li>399</li>\n",
       "\t<li>132</li>\n",
       "\t<li>1342</li>\n",
       "\t<li>148</li>\n",
       "</ol>\n",
       "</li>\n",
       "\t<li><ol class=list-inline>\n",
       "\t<li>-496</li>\n",
       "\t<li>-308</li>\n",
       "\t<li>695</li>\n",
       "\t<li>-627</li>\n",
       "</ol>\n",
       "</li>\n",
       "\t<li><ol class=list-inline>\n",
       "\t<li>0</li>\n",
       "\t<li>0</li>\n",
       "\t<li>4</li>\n",
       "\t<li>0</li>\n",
       "</ol>\n",
       "</li>\n",
       "</ol>\n"
      ],
      "text/latex": [
       "\\begin{enumerate}\n",
       "\\item \\begin{enumerate*}\n",
       "\\item 101\n",
       "\\item 201\n",
       "\\item 110\n",
       "\\item 230\n",
       "\\end{enumerate*}\n",
       "\n",
       "\\item \\begin{enumerate*}\n",
       "\\item 399\n",
       "\\item 132\n",
       "\\item 1342\n",
       "\\item 148\n",
       "\\end{enumerate*}\n",
       "\n",
       "\\item \\begin{enumerate*}\n",
       "\\item -496\n",
       "\\item -308\n",
       "\\item 695\n",
       "\\item -627\n",
       "\\end{enumerate*}\n",
       "\n",
       "\\item \\begin{enumerate*}\n",
       "\\item 0\n",
       "\\item 0\n",
       "\\item 4\n",
       "\\item 0\n",
       "\\end{enumerate*}\n",
       "\n",
       "\\end{enumerate}\n"
      ],
      "text/markdown": [
       "1. 1. 101\n",
       "2. 201\n",
       "3. 110\n",
       "4. 230\n",
       "\n",
       "\n",
       "\n",
       "2. 1. 399\n",
       "2. 132\n",
       "3. 1342\n",
       "4. 148\n",
       "\n",
       "\n",
       "\n",
       "3. 1. -496\n",
       "2. -308\n",
       "3. 695\n",
       "4. -627\n",
       "\n",
       "\n",
       "\n",
       "4. 1. 0\n",
       "2. 0\n",
       "3. 4\n",
       "4. 0\n",
       "\n",
       "\n",
       "\n",
       "\n",
       "\n"
      ],
      "text/plain": [
       "[[1]]\n",
       "[1] 101 201 110 230\n",
       "\n",
       "[[2]]\n",
       "[1]  399  132 1342  148\n",
       "\n",
       "[[3]]\n",
       "[1] -496 -308  695 -627\n",
       "\n",
       "[[4]]\n",
       "[1] 0 0 4 0\n"
      ]
     },
     "metadata": {},
     "output_type": "display_data"
    }
   ],
   "source": [
    "mapply(FUN = function(x,y) x+y, lista.vec1, lista.vec2, SIMPLIFY = FALSE)"
   ]
  },
  {
   "cell_type": "markdown",
   "metadata": {},
   "source": [
    "La manera de asignar argumentos adicionales es mediante el argumento `MoreArgs` (Cuidado, debe ser una lista). \n",
    "\n",
    "**Ejemplo:** Supongamos que tenemos una función que suma y admite un tercer argumento `absoluto`, que hace que sume y tome el valor absoluto si éste es igual a `TRUE`. Queremos especificarlo como `TRUE`, para todas las sumas que haga la función:"
   ]
  },
  {
   "cell_type": "code",
   "execution_count": 48,
   "metadata": {},
   "outputs": [
    {
     "data": {
      "text/html": [
       "<ol>\n",
       "\t<li><ol class=list-inline>\n",
       "\t<li>101</li>\n",
       "\t<li>201</li>\n",
       "\t<li>110</li>\n",
       "\t<li>230</li>\n",
       "</ol>\n",
       "</li>\n",
       "\t<li><ol class=list-inline>\n",
       "\t<li>399</li>\n",
       "\t<li>132</li>\n",
       "\t<li>1342</li>\n",
       "\t<li>148</li>\n",
       "</ol>\n",
       "</li>\n",
       "\t<li><ol class=list-inline>\n",
       "\t<li>496</li>\n",
       "\t<li>308</li>\n",
       "\t<li>695</li>\n",
       "\t<li>627</li>\n",
       "</ol>\n",
       "</li>\n",
       "\t<li><ol class=list-inline>\n",
       "\t<li>0</li>\n",
       "\t<li>0</li>\n",
       "\t<li>4</li>\n",
       "\t<li>0</li>\n",
       "</ol>\n",
       "</li>\n",
       "</ol>\n"
      ],
      "text/latex": [
       "\\begin{enumerate}\n",
       "\\item \\begin{enumerate*}\n",
       "\\item 101\n",
       "\\item 201\n",
       "\\item 110\n",
       "\\item 230\n",
       "\\end{enumerate*}\n",
       "\n",
       "\\item \\begin{enumerate*}\n",
       "\\item 399\n",
       "\\item 132\n",
       "\\item 1342\n",
       "\\item 148\n",
       "\\end{enumerate*}\n",
       "\n",
       "\\item \\begin{enumerate*}\n",
       "\\item 496\n",
       "\\item 308\n",
       "\\item 695\n",
       "\\item 627\n",
       "\\end{enumerate*}\n",
       "\n",
       "\\item \\begin{enumerate*}\n",
       "\\item 0\n",
       "\\item 0\n",
       "\\item 4\n",
       "\\item 0\n",
       "\\end{enumerate*}\n",
       "\n",
       "\\end{enumerate}\n"
      ],
      "text/markdown": [
       "1. 1. 101\n",
       "2. 201\n",
       "3. 110\n",
       "4. 230\n",
       "\n",
       "\n",
       "\n",
       "2. 1. 399\n",
       "2. 132\n",
       "3. 1342\n",
       "4. 148\n",
       "\n",
       "\n",
       "\n",
       "3. 1. 496\n",
       "2. 308\n",
       "3. 695\n",
       "4. 627\n",
       "\n",
       "\n",
       "\n",
       "4. 1. 0\n",
       "2. 0\n",
       "3. 4\n",
       "4. 0\n",
       "\n",
       "\n",
       "\n",
       "\n",
       "\n"
      ],
      "text/plain": [
       "[[1]]\n",
       "[1] 101 201 110 230\n",
       "\n",
       "[[2]]\n",
       "[1]  399  132 1342  148\n",
       "\n",
       "[[3]]\n",
       "[1] 496 308 695 627\n",
       "\n",
       "[[4]]\n",
       "[1] 0 0 4 0\n"
      ]
     },
     "metadata": {},
     "output_type": "display_data"
    }
   ],
   "source": [
    "mapply(FUN = function(x,y, absoluto = FALSE) {\n",
    "                if (absoluto) return(abs(x+y))\n",
    "                else return(x+y)\n",
    "             },\n",
    "       lista.vec1, lista.vec2, SIMPLIFY = FALSE, MoreArgs = list(absoluto = TRUE)\n",
    "      )"
   ]
  },
  {
   "cell_type": "markdown",
   "metadata": {},
   "source": [
    "**Ejercicio:** De la lista `mi.lista.1`, obtén del vector $1$ el elemento $5$, del $2$ el elemento $4$, del $3$ el elemento $3$, del $4$ el $2$ y del $5$ el $1$:"
   ]
  },
  {
   "cell_type": "code",
   "execution_count": 49,
   "metadata": {},
   "outputs": [],
   "source": [
    "mi.lista.1 <- replicate(sample(1:10, size = 5, replace = T),n = 5, simplify = F)\n",
    "\n"
   ]
  },
  {
   "cell_type": "markdown",
   "metadata": {},
   "source": [
    "**Ejercicio:** Las listas `mi.lista.1` y `mi.lista.2` contienen el mismo número de vectores. Obtén el máximo elemento de la combinación de los pares de vectores, i.e. si `mi.lista.1 = {v11, v12, ...}`, `mi.lista.2 = {v21, v22, ...}`, obtén `{max(max(v11,v21)), max(max(v12,v22)), ...}`"
   ]
  },
  {
   "cell_type": "code",
   "execution_count": 50,
   "metadata": {},
   "outputs": [],
   "source": [
    "mi.lista.2 <- replicate(sample(1:100, size = 4, replace = T),n = 5, simplify = F)\n"
   ]
  },
  {
   "cell_type": "markdown",
   "metadata": {},
   "source": [
    "**Ejercicio:** Repite el ejercio anterior. Esta vez los vectores pueden tener `NA`s y queremos ignorarlos:"
   ]
  },
  {
   "cell_type": "code",
   "execution_count": 51,
   "metadata": {},
   "outputs": [],
   "source": [
    "mi.lista.1[[1]][3] <- NA\n",
    "mi.lista.2[[5]][4] <- NA\n",
    "\n"
   ]
  },
  {
   "cell_type": "markdown",
   "metadata": {},
   "source": [
    "**Ejercicio:** Repite el ejercicio anterior sin utilizar ciclos ni `mapply()` (Pista: por ejemplo con dos `sapply()` un `cbind()` y un `apply()`"
   ]
  },
  {
   "cell_type": "code",
   "execution_count": null,
   "metadata": {},
   "outputs": [],
   "source": []
  },
  {
   "cell_type": "markdown",
   "metadata": {},
   "source": [
    "**Ejercicio:** Verifica usando `mapply()`, del data.frame alumnos de más atrás, si en la primera clase hay alguien que se llame \"rodrigo\", en la segunda alguien que se llame \"maialen\" y en la tercera alguien que se llame \"mikel\":"
   ]
  },
  {
   "cell_type": "code",
   "execution_count": null,
   "metadata": {},
   "outputs": [],
   "source": []
  },
  {
   "cell_type": "markdown",
   "metadata": {},
   "source": [
    "**Ejercicio:** Se ha intentado aplicar la función `mi.suma` a las dos listas para sumar en valor absoluto los vectores. ¿Por qué falla la siguiente instrucción? Arregla la instrucción `mapply()` (sin tocar `mi.suma()`):"
   ]
  },
  {
   "cell_type": "code",
   "execution_count": 52,
   "metadata": {},
   "outputs": [
    {
     "name": "stdout",
     "output_type": "stream",
     "text": [
      "[1]  1  1 10 20\n",
      "[1]  -1  12 122  44\n",
      "[1] 34 12 65 23\n",
      "[1] 1 1 2 4\n"
     ]
    },
    {
     "data": {
      "text/html": [
       "<ol>\n",
       "\t<li></li>\n",
       "\t<li></li>\n",
       "\t<li></li>\n",
       "\t<li></li>\n",
       "</ol>\n"
      ],
      "text/latex": [
       "\\begin{enumerate}\n",
       "\\item \n",
       "\\item \n",
       "\\item \n",
       "\\item \n",
       "\\end{enumerate}\n"
      ],
      "text/markdown": [
       "1. \n",
       "2. \n",
       "3. \n",
       "4. \n",
       "\n",
       "\n"
      ],
      "text/plain": [
       "[[1]]\n",
       "numeric(0)\n",
       "\n",
       "[[2]]\n",
       "numeric(0)\n",
       "\n",
       "[[3]]\n",
       "numeric(0)\n",
       "\n",
       "[[4]]\n",
       "numeric(0)\n"
      ]
     },
     "metadata": {},
     "output_type": "display_data"
    }
   ],
   "source": [
    "mi.suma <- \n",
    "    function(  z = \"Sumando...\", x , y = NULL) {\n",
    "               print(z)\n",
    "               return(abs(x+y))\n",
    "             }\n",
    "\n",
    "mapply(mi.suma,\n",
    "       lista.vec1, lista.vec2, SIMPLIFY = FALSE\n",
    "      )\n",
    "\n"
   ]
  },
  {
   "cell_type": "markdown",
   "metadata": {},
   "source": [
    "## Otras funciones: `rapply()`, `tapply()` y `vapply()`"
   ]
  },
  {
   "cell_type": "markdown",
   "metadata": {},
   "source": [
    "Existen más funciones en la familia Apply diseñadas para tareas más específicas. En esta sección cubriremos algunas de ellas someramente con un par de ejemplos. La primera, `rapply()`, está pensada para operar **recursivamente** sobre listas. Es especialmente útil cuando nos encontramos con listas mal formateadas que contienen sublistas mezcladas con, por ejemplo, números:"
   ]
  },
  {
   "cell_type": "markdown",
   "metadata": {},
   "source": [
    "**Ejemplo:** La siguiente lista contiene números y listas de números, en lugar de ser una lista de números. Supongamos que queremos asignar un `NA` a todos los elementos de la lista que sean negativos, observa lo que ocurre si se utiliza `lapply()`:"
   ]
  },
  {
   "cell_type": "code",
   "execution_count": 53,
   "metadata": {},
   "outputs": [
    {
     "name": "stderr",
     "output_type": "stream",
     "text": [
      "Warning message in if (x < 0) return(NA) else return(x):\n",
      "“la condición tiene longitud > 1 y sólo el primer elemento será usado”\n",
      "Warning message in if (x < 0) return(NA) else return(x):\n",
      "“la condición tiene longitud > 1 y sólo el primer elemento será usado”\n",
      "Warning message in if (x < 0) return(NA) else return(x):\n",
      "“la condición tiene longitud > 1 y sólo el primer elemento será usado”\n"
     ]
    },
    {
     "data": {
      "text/html": [
       "<ol>\n",
       "\t<li>1</li>\n",
       "\t<li>2</li>\n",
       "\t<li>&lt;NA&gt;</li>\n",
       "\t<li><ol>\n",
       "\t<li>10</li>\n",
       "\t<li>12</li>\n",
       "\t<li>-1</li>\n",
       "</ol>\n",
       "</li>\n",
       "\t<li>4</li>\n",
       "\t<li>&lt;NA&gt;</li>\n",
       "\t<li><ol>\n",
       "\t<li>1</li>\n",
       "\t<li>1</li>\n",
       "</ol>\n",
       "</li>\n",
       "\t<li>&lt;NA&gt;</li>\n",
       "\t<li>3</li>\n",
       "\t<li>6</li>\n",
       "\t<li>1</li>\n",
       "\t<li>&lt;NA&gt;</li>\n",
       "</ol>\n"
      ],
      "text/latex": [
       "\\begin{enumerate}\n",
       "\\item 1\n",
       "\\item 2\n",
       "\\item <NA>\n",
       "\\item \\begin{enumerate}\n",
       "\\item 10\n",
       "\\item 12\n",
       "\\item -1\n",
       "\\end{enumerate}\n",
       "\n",
       "\\item 4\n",
       "\\item <NA>\n",
       "\\item \\begin{enumerate}\n",
       "\\item 1\n",
       "\\item 1\n",
       "\\end{enumerate}\n",
       "\n",
       "\\item <NA>\n",
       "\\item 3\n",
       "\\item 6\n",
       "\\item 1\n",
       "\\item <NA>\n",
       "\\end{enumerate}\n"
      ],
      "text/markdown": [
       "1. 1\n",
       "2. 2\n",
       "3. &lt;NA&gt;\n",
       "4. 1. 10\n",
       "2. 12\n",
       "3. -1\n",
       "\n",
       "\n",
       "\n",
       "5. 4\n",
       "6. &lt;NA&gt;\n",
       "7. 1. 1\n",
       "2. 1\n",
       "\n",
       "\n",
       "\n",
       "8. &lt;NA&gt;\n",
       "9. 3\n",
       "10. 6\n",
       "11. 1\n",
       "12. &lt;NA&gt;\n",
       "\n",
       "\n"
      ],
      "text/plain": [
       "[[1]]\n",
       "[1] 1\n",
       "\n",
       "[[2]]\n",
       "[1] 2\n",
       "\n",
       "[[3]]\n",
       "[1] NA\n",
       "\n",
       "[[4]]\n",
       "[[4]][[1]]\n",
       "[1] 10\n",
       "\n",
       "[[4]][[2]]\n",
       "[1] 12\n",
       "\n",
       "[[4]][[3]]\n",
       "[1] -1\n",
       "\n",
       "\n",
       "[[5]]\n",
       "[1] 4\n",
       "\n",
       "[[6]]\n",
       "[1] NA\n",
       "\n",
       "[[7]]\n",
       "[[7]][[1]]\n",
       "[1] 1\n",
       "\n",
       "[[7]][[2]]\n",
       "[1] 1\n",
       "\n",
       "\n",
       "[[8]]\n",
       "[1] NA\n",
       "\n",
       "[[9]]\n",
       "[1] 3\n",
       "\n",
       "[[10]]\n",
       "[1] 6\n",
       "\n",
       "[[11]]\n",
       "[1] 1\n",
       "\n",
       "[[12]]\n",
       "[1] NA\n"
      ]
     },
     "metadata": {},
     "output_type": "display_data"
    }
   ],
   "source": [
    "lista.e <- list(1,2,-1, list(10,12,-1), 4,-4, list(1,1), list(-1,-1,-2,5),3,6,1 ,-1)\n",
    "lapply(lista.e, function(x){\n",
    "                    if(x<0) return(NA)\n",
    "                    else return(x)\n",
    "    } )"
   ]
  },
  {
   "cell_type": "markdown",
   "metadata": {},
   "source": [
    "`rapply()` permite precisamente operar de manera recursiva sobre la lista sin preocuparnos del mal formato:"
   ]
  },
  {
   "cell_type": "code",
   "execution_count": 54,
   "metadata": {},
   "outputs": [
    {
     "data": {
      "text/html": [
       "<ol class=list-inline>\n",
       "\t<li>1</li>\n",
       "\t<li>2</li>\n",
       "\t<li>&lt;NA&gt;</li>\n",
       "\t<li>10</li>\n",
       "\t<li>12</li>\n",
       "\t<li>&lt;NA&gt;</li>\n",
       "\t<li>4</li>\n",
       "\t<li>&lt;NA&gt;</li>\n",
       "\t<li>1</li>\n",
       "\t<li>1</li>\n",
       "\t<li>&lt;NA&gt;</li>\n",
       "\t<li>&lt;NA&gt;</li>\n",
       "\t<li>&lt;NA&gt;</li>\n",
       "\t<li>5</li>\n",
       "\t<li>3</li>\n",
       "\t<li>6</li>\n",
       "\t<li>1</li>\n",
       "\t<li>&lt;NA&gt;</li>\n",
       "</ol>\n"
      ],
      "text/latex": [
       "\\begin{enumerate*}\n",
       "\\item 1\n",
       "\\item 2\n",
       "\\item <NA>\n",
       "\\item 10\n",
       "\\item 12\n",
       "\\item <NA>\n",
       "\\item 4\n",
       "\\item <NA>\n",
       "\\item 1\n",
       "\\item 1\n",
       "\\item <NA>\n",
       "\\item <NA>\n",
       "\\item <NA>\n",
       "\\item 5\n",
       "\\item 3\n",
       "\\item 6\n",
       "\\item 1\n",
       "\\item <NA>\n",
       "\\end{enumerate*}\n"
      ],
      "text/markdown": [
       "1. 1\n",
       "2. 2\n",
       "3. &lt;NA&gt;\n",
       "4. 10\n",
       "5. 12\n",
       "6. &lt;NA&gt;\n",
       "7. 4\n",
       "8. &lt;NA&gt;\n",
       "9. 1\n",
       "10. 1\n",
       "11. &lt;NA&gt;\n",
       "12. &lt;NA&gt;\n",
       "13. &lt;NA&gt;\n",
       "14. 5\n",
       "15. 3\n",
       "16. 6\n",
       "17. 1\n",
       "18. &lt;NA&gt;\n",
       "\n",
       "\n"
      ],
      "text/plain": [
       " [1]  1  2 NA 10 12 NA  4 NA  1  1 NA NA NA  5  3  6  1 NA"
      ]
     },
     "metadata": {},
     "output_type": "display_data"
    }
   ],
   "source": [
    "rapply(lista.e, function(x){\n",
    "                    if(x<0) return(NA)\n",
    "                    else return(x)\n",
    "                })"
   ]
  },
  {
   "cell_type": "markdown",
   "metadata": {},
   "source": [
    "No sólo eso, también permite especificar el tipo de argumento sobre el que se quiere operar utilizando el comando `clases`. Por ejemplo, podemos encontrarnos con un vector que contenga números con algún caracter, etc... Y querer solamente aplicar una función a los números:"
   ]
  },
  {
   "cell_type": "code",
   "execution_count": 55,
   "metadata": {},
   "outputs": [
    {
     "data": {
      "text/html": [
       "<ol class=list-inline>\n",
       "\t<li>4</li>\n",
       "\t<li>1</li>\n",
       "\t<li>4</li>\n",
       "\t<li>144</li>\n",
       "\t<li>1</li>\n",
       "\t<li>9</li>\n",
       "\t<li>25</li>\n",
       "\t<li>4</li>\n",
       "</ol>\n"
      ],
      "text/latex": [
       "\\begin{enumerate*}\n",
       "\\item 4\n",
       "\\item 1\n",
       "\\item 4\n",
       "\\item 144\n",
       "\\item 1\n",
       "\\item 9\n",
       "\\item 25\n",
       "\\item 4\n",
       "\\end{enumerate*}\n"
      ],
      "text/markdown": [
       "1. 4\n",
       "2. 1\n",
       "3. 4\n",
       "4. 144\n",
       "5. 1\n",
       "6. 9\n",
       "7. 25\n",
       "8. 4\n",
       "\n",
       "\n"
      ],
      "text/plain": [
       "[1]   4   1   4 144   1   9  25   4"
      ]
     },
     "metadata": {},
     "output_type": "display_data"
    }
   ],
   "source": [
    "lista.e2 <- list(2, 1, 2, NA, 12, \"err\", list(\"err\", 1, 3), 5, NA, list(), NULL, 2)\n",
    "\n",
    "rapply(lista.e2, f = function(x) x^2, classes = \"numeric\")"
   ]
  },
  {
   "cell_type": "markdown",
   "metadata": {},
   "source": [
    "**Ejercicio:** Eleva al cuadrado los números de la lista `lista.e2` y devuelve la misma estructura que arriba, sin usar `rapply()`. Usa `lapply()` o `sapply()`:"
   ]
  },
  {
   "cell_type": "code",
   "execution_count": null,
   "metadata": {},
   "outputs": [],
   "source": []
  },
  {
   "cell_type": "markdown",
   "metadata": {},
   "source": [
    "**Ejercicio:** Vuelve a hacerlo, esta vez sin usar `rapply()`, `lapply()` ni `sapply()`, i.e. usa un ciclo:"
   ]
  },
  {
   "cell_type": "code",
   "execution_count": null,
   "metadata": {},
   "outputs": [],
   "source": []
  },
  {
   "cell_type": "markdown",
   "metadata": {},
   "source": [
    "---"
   ]
  },
  {
   "cell_type": "markdown",
   "metadata": {},
   "source": [
    "Otra función útil es `tapply()`, indicada cuando hay que aplicar una función a una variable, dividiendo ésta en grupos según dicta otra variable. La variable sobre la que iterar es, como viene siendo habitual, `X`, y el argumento por el que queremos agrupar es `INDEX`.\n",
    "\n",
    "Veámoslo con un **ejemplo** del dataset `iris`. El objetivo es obtener la media de la variable `iris$Sepal.Length` pero agrupando por las diferentes especies (`iris$Species`), i.e. obtener la media de la variable $Sepal.Length$ para cada especie:"
   ]
  },
  {
   "cell_type": "code",
   "execution_count": 56,
   "metadata": {},
   "outputs": [
    {
     "data": {
      "text/html": [
       "<table>\n",
       "<caption>A matrix: 1 × 3 of type dbl</caption>\n",
       "<thead>\n",
       "\t<tr><th scope=col>setosa</th><th scope=col>versicolor</th><th scope=col>virginica</th></tr>\n",
       "</thead>\n",
       "<tbody>\n",
       "\t<tr><td>5.006</td><td>5.936</td><td>6.588</td></tr>\n",
       "</tbody>\n",
       "</table>\n"
      ],
      "text/latex": [
       "A matrix: 1 × 3 of type dbl\n",
       "\\begin{tabular}{lll}\n",
       " setosa & versicolor & virginica\\\\\n",
       "\\hline\n",
       "\t 5.006 & 5.936 & 6.588\\\\\n",
       "\\end{tabular}\n"
      ],
      "text/markdown": [
       "\n",
       "A matrix: 1 × 3 of type dbl\n",
       "\n",
       "| setosa | versicolor | virginica |\n",
       "|---|---|---|\n",
       "| 5.006 | 5.936 | 6.588 |\n",
       "\n"
      ],
      "text/plain": [
       "     setosa versicolor virginica\n",
       "[1,] 5.006  5.936      6.588    "
      ]
     },
     "metadata": {},
     "output_type": "display_data"
    }
   ],
   "source": [
    "media.Sepal.Length.por.Species <-\n",
    "    tapply(X = iris$Sepal.Length, INDEX = iris$Species, FUN = mean) # ignora el error, es un error de jupyter, no de R. El resultado es correcto\n",
    "t(media.Sepal.Length.por.Species)"
   ]
  },
  {
   "cell_type": "markdown",
   "metadata": {},
   "source": [
    "---\n",
    "\n",
    "La última función que veremos es `vapply()`. Esta función es similar a `sapply()`, con la diferencia de que es posible controlar la clase del output, razón por la cual esta función es considerada más robusta que `sapply()`, ya que evita resultados inesperados a la hora de trabajar con estructuras complejas. No sólo eso, también puede ser ligeramente más eficiente, puesto que no tiene que decidir la estructura de salida sinó que viene dada. Veámoslo con un par de **ejemplos:**\n",
    "\n",
    "Queremos, de `lista1`, devolver `TRUE` si la sublista contiene alguna `FALSE` si no. Programamos nuestra función `busca.e`:"
   ]
  },
  {
   "cell_type": "code",
   "execution_count": 57,
   "metadata": {},
   "outputs": [],
   "source": [
    "lista1 <- list( c(\"a\",\"e\",\"i\",\"o\",\"u\"), c(\"m\",\"n\",\"l\",\"r\"), c(\"f\",\"e\",\"r\",\"m\",\"e\"))\n",
    "busca.e <- function(x) x==\"e\""
   ]
  },
  {
   "cell_type": "markdown",
   "metadata": {},
   "source": [
    "Buscamos un vector de tres elementos que contenga `TRUE` si la lista contenía alguna `\"e\"` y `FALSE` si no."
   ]
  },
  {
   "cell_type": "code",
   "execution_count": 58,
   "metadata": {},
   "outputs": [
    {
     "data": {
      "text/html": [
       "<ol>\n",
       "\t<li><ol class=list-inline>\n",
       "\t<li>FALSE</li>\n",
       "\t<li>TRUE</li>\n",
       "\t<li>FALSE</li>\n",
       "\t<li>FALSE</li>\n",
       "\t<li>FALSE</li>\n",
       "</ol>\n",
       "</li>\n",
       "\t<li><ol class=list-inline>\n",
       "\t<li>FALSE</li>\n",
       "\t<li>FALSE</li>\n",
       "\t<li>FALSE</li>\n",
       "\t<li>FALSE</li>\n",
       "</ol>\n",
       "</li>\n",
       "\t<li><ol class=list-inline>\n",
       "\t<li>FALSE</li>\n",
       "\t<li>TRUE</li>\n",
       "\t<li>FALSE</li>\n",
       "\t<li>FALSE</li>\n",
       "\t<li>TRUE</li>\n",
       "</ol>\n",
       "</li>\n",
       "</ol>\n"
      ],
      "text/latex": [
       "\\begin{enumerate}\n",
       "\\item \\begin{enumerate*}\n",
       "\\item FALSE\n",
       "\\item TRUE\n",
       "\\item FALSE\n",
       "\\item FALSE\n",
       "\\item FALSE\n",
       "\\end{enumerate*}\n",
       "\n",
       "\\item \\begin{enumerate*}\n",
       "\\item FALSE\n",
       "\\item FALSE\n",
       "\\item FALSE\n",
       "\\item FALSE\n",
       "\\end{enumerate*}\n",
       "\n",
       "\\item \\begin{enumerate*}\n",
       "\\item FALSE\n",
       "\\item TRUE\n",
       "\\item FALSE\n",
       "\\item FALSE\n",
       "\\item TRUE\n",
       "\\end{enumerate*}\n",
       "\n",
       "\\end{enumerate}\n"
      ],
      "text/markdown": [
       "1. 1. FALSE\n",
       "2. TRUE\n",
       "3. FALSE\n",
       "4. FALSE\n",
       "5. FALSE\n",
       "\n",
       "\n",
       "\n",
       "2. 1. FALSE\n",
       "2. FALSE\n",
       "3. FALSE\n",
       "4. FALSE\n",
       "\n",
       "\n",
       "\n",
       "3. 1. FALSE\n",
       "2. TRUE\n",
       "3. FALSE\n",
       "4. FALSE\n",
       "5. TRUE\n",
       "\n",
       "\n",
       "\n",
       "\n",
       "\n"
      ],
      "text/plain": [
       "[[1]]\n",
       "[1] FALSE  TRUE FALSE FALSE FALSE\n",
       "\n",
       "[[2]]\n",
       "[1] FALSE FALSE FALSE FALSE\n",
       "\n",
       "[[3]]\n",
       "[1] FALSE  TRUE FALSE FALSE  TRUE\n"
      ]
     },
     "metadata": {},
     "output_type": "display_data"
    }
   ],
   "source": [
    "sapply(lista1, busca.e )"
   ]
  },
  {
   "cell_type": "markdown",
   "metadata": {},
   "source": [
    "Sin embargo, como `busca.e` no la hemos hecho del todo bien, obtenemos una lista que no es lo que esperamos. Es más robusto controlar la estructura especificándole que nos devuelva específicamente un objeto de tipo `logical` de longitud 1, lo que puede hacerse con `vapply()`:"
   ]
  },
  {
   "cell_type": "code",
   "execution_count": 59,
   "metadata": {},
   "outputs": [
    {
     "ename": "ERROR",
     "evalue": "Error in vapply(lista1, busca.e, logical(1)): Los valores deben ser de longitud 1, \npero el resultado FUN(X [[1]]) es la longitud 5 \n",
     "output_type": "error",
     "traceback": [
      "Error in vapply(lista1, busca.e, logical(1)): Los valores deben ser de longitud 1, \npero el resultado FUN(X [[1]]) es la longitud 5 \nTraceback:\n",
      "1. vapply(lista1, busca.e, logical(1))"
     ]
    }
   ],
   "source": [
    "vapply(lista1, busca.e, logical(1))"
   ]
  },
  {
   "cell_type": "markdown",
   "metadata": {},
   "source": [
    "`vapply()` comprueba el output y nos avisa de que estamos intentando devolver resultados de longitud $5$ en lugar de resultados de longitud $1$ (*`values must be length 1`*). Podemos verlo con otro ejemplo. Queremos multiplicar a los elementos de `mi.lista3` por $100$. \n",
    "\n",
    "Esperamos que la entrada sea una lista de números, pero alguien ha programado mal la función de la que vienen los datos y no lo es, ya que contiene también vectores:"
   ]
  },
  {
   "cell_type": "code",
   "execution_count": null,
   "metadata": {},
   "outputs": [],
   "source": [
    "mi.lista3 <- list(1,3.14,1.51,2.111,c(-1,-404,-1),14)\n",
    "vapply(mi.lista3, FUN = function(x) x*100, FUN.VALUE = 1)"
   ]
  },
  {
   "cell_type": "markdown",
   "metadata": {},
   "source": [
    "`vapply()` nos avisa de nuevo de que hay un error en los datos. Obsérvese como si lo aplicamos a la siguiente lista, que si tiene el formato esperado, el resultado es correcto:"
   ]
  },
  {
   "cell_type": "code",
   "execution_count": null,
   "metadata": {},
   "outputs": [],
   "source": [
    "mi.lista4 <- list(1,3.14,1.51,2.111,1,404,1,14)\n",
    "vapply(mi.lista4, FUN = function(x) x*100, FUN.VALUE = 1)"
   ]
  },
  {
   "cell_type": "markdown",
   "metadata": {},
   "source": [
    "### Nota Final\n",
    "\n",
    "Utilizar las funciones de la familia Apply permite escribir código de `R` de manera concisa y eficiente. Se debe tener en cuenta que utilizarlas no es *per se* más rápido que utilizar un ciclo `for`. En ese sentido, `apply()` y sus variantes simplemente encapsulan el ciclo. (Existen casos en los que sí son más eficientes, por ejemplo, cuando hay que entrelazar varios cilos for). La razón por la que son habitualmente y en la práctica más rápidas que un ciclo `for` en `R` es porque éstas reservan espacio en memoria de antemano de manera implícita. Si se hace esto manualmente y se programa correctamente el ciclo `for`, puede comprobarse que los tiempos de ejecución son similares.\n",
    "\n",
    "Nótese por último que si existe una función vectorizada para la operación que estuvieras intendando hacer, sea con `apply()` o un ciclo, deberías usar dicha función. Por ejemplo, calcular la media por columnas de una matriz puede hacerse con un ciclo y mediante el comando `apply(foo, 2, mean)`, pero es más eficiente si se utiliza la función de `colMeans(foo)`.\n",
    "\n",
    "Por último, las funciones de la familia Apply abren la puerta a **paralelizar el proceso** de manera inmediata.\n",
    "\n"
   ]
  },
  {
   "cell_type": "markdown",
   "metadata": {},
   "source": [
    "# Paralelizando con la librería *parallel*"
   ]
  },
  {
   "cell_type": "markdown",
   "metadata": {},
   "source": [
    "Cualquier ciclo que programemos se ejecuta de manera secuencial, lo que implica que se está usando un solo procesador. Paralelizar implica subdividir la tarea en subtareas para que sean procesadas por los diferentes núcleos (o procesadores, si nuestra máquina tiene más de uno)."
   ]
  },
  {
   "cell_type": "markdown",
   "metadata": {},
   "source": [
    "Las funciones y metodología que hemos visto hasta ahora permiten paralelizar procesos de manera muy sencilla. Precisamente porque se está repitiendo una tarea múltiples veces de manera independiente, todas ellas son de naturaleza paralelizable. Para hacerlo, basta tener en cuenta que, a excepción de `mapply()`, las funciones que hemos visto tienen su equivalente en la librería parallel: `parApply()` `parLapply()`, `parSapply()`.  \n",
    "\n",
    "Funcionan exactamente igual, pero requieren como primer argumento un objeto de tipo *cluster* de `parallel`, que podemos iniciar con la función `makeCluster()`.\n",
    "\n",
    "En Mac/Linux la sintaxis básica para iniciar este objeto es `makeCluster(numero_nodos, type=\"FORK\")`, que inicia un *cluster* de tipo *FORK* con `numero_nodos` nodos (la cantidad de *workers* para el proceso a paralelizar).\n",
    "\n",
    "Este tipo de *cluster* no está disponible en Windows, con lo que se debe usar un cluster de tipo *PSOCK* (Parallel Socket Cluster), con `type = PSOCK`. La diferencia principal reside en que con *FORK* todas las variables y funciones quedan automáticamente exportadas al *cluster*, con lo que no tenemos que preocuparnos de hacerlo manualmente.\n",
    "\n",
    "Vamos a ilustrar esto con un **ejemplo**. Además de la librería `parallel`, también vamos a cargar la librería `microbenchmark`, para hacer pruebas de rendimiento:"
   ]
  },
  {
   "cell_type": "code",
   "execution_count": null,
   "metadata": {},
   "outputs": [],
   "source": [
    "library(parallel) \n",
    "library(microbenchmark)"
   ]
  },
  {
   "cell_type": "markdown",
   "metadata": {},
   "source": [
    "La función `detectCores()` permite ver la cantidad de hilos disponibles en el sistema:"
   ]
  },
  {
   "cell_type": "code",
   "execution_count": null,
   "metadata": {},
   "outputs": [],
   "source": [
    "detectCores()"
   ]
  },
  {
   "cell_type": "markdown",
   "metadata": {},
   "source": [
    "Lo ideal es siempre dejar libre al menos uno para el sistema, de modo que la práctica más habitual es utilizar como número de nodos `detectCores()-1`, "
   ]
  },
  {
   "cell_type": "code",
   "execution_count": null,
   "metadata": {},
   "outputs": [],
   "source": [
    "cl <- makeCluster(spec = detectCores()-1, type = \"FORK\") # iniciamos el cluster\n",
    "cl"
   ]
  },
  {
   "cell_type": "markdown",
   "metadata": {},
   "source": [
    "Vamos a coger uno de los ejemplos iniciales y utilizar la paralelización (Creamos una lista de matrices algo más grandes):"
   ]
  },
  {
   "cell_type": "code",
   "execution_count": null,
   "metadata": {},
   "outputs": [],
   "source": [
    "A.list <- replicate(replicate(expr = sample(1:50, size = 50, replace = T),n = 50), n = 100, simplify = F) # matriz 500x500"
   ]
  },
  {
   "cell_type": "code",
   "execution_count": null,
   "metadata": {},
   "outputs": [],
   "source": [
    "cmean <- parLapply(cl = cl, X = A.list,  mean) # media de cada matriz\n",
    "# equivale a \n",
    "# cmean <- lapply(X = A.list,  mean) # media de cada matriz"
   ]
  },
  {
   "cell_type": "markdown",
   "metadata": {},
   "source": [
    "Conviene tener en cuenta que no todo es ideal paralelizarlo. De hecho, la operación que acabamos de hacer no tiene sentido a nivel de rendimiento. Comprobemos el rendimiento de `parApply()` contra `apply()`:"
   ]
  },
  {
   "cell_type": "code",
   "execution_count": null,
   "metadata": {},
   "outputs": [],
   "source": [
    "mbp <- microbenchmark(parLapply(cl = cl, X = A.list,  mean), times = 10)\n",
    "mb <- microbenchmark(lapply(X = A.list,  mean), times = 10)"
   ]
  },
  {
   "cell_type": "code",
   "execution_count": null,
   "metadata": {},
   "outputs": [],
   "source": [
    "mean(mbp$time)/10^9 # segundos"
   ]
  },
  {
   "cell_type": "code",
   "execution_count": null,
   "metadata": {},
   "outputs": [],
   "source": [
    "mean(mb$time)/10^9 # segundos"
   ]
  },
  {
   "cell_type": "markdown",
   "metadata": {},
   "source": [
    "Siempre que acabemos de paralelizar hay que deterner el cluster que creamos, utilizando `stopCluster()`:"
   ]
  },
  {
   "cell_type": "code",
   "execution_count": null,
   "metadata": {},
   "outputs": [],
   "source": [
    "stopCluster(cl)"
   ]
  },
  {
   "cell_type": "markdown",
   "metadata": {},
   "source": [
    " Nota: La función `parMapply()` no existe, por lo que si se quiere paralelizar un `mapply()` se debe acudir a `mcmapply()`. También existe `mclapply()`, que funciona análogamente a `lapply()`. En éstas no hay que iniciar el *cluster* de antemano, pero no están disponibles en Windows.\n",
    " \n",
    " Usando `mclapply()` paralelizar es tan sencillo como:"
   ]
  },
  {
   "cell_type": "code",
   "execution_count": null,
   "metadata": {},
   "outputs": [],
   "source": [
    "mclapply(X = A.list, FUN = mean, mc.cores = 19)"
   ]
  },
  {
   "cell_type": "markdown",
   "metadata": {},
   "source": [
    "Nótese que `mclapply()` abre y cierra el *cluster* automáticamente."
   ]
  },
  {
   "cell_type": "markdown",
   "metadata": {},
   "source": [
    "### ¿Cuándo paralelizar?\n",
    "\n",
    "Aunque en teoría cada procesador debería reducir linealmente el tiempo de cómputo, en la práctica hay trabajo adicional que reduce la eficiencia. Tanto el código como los datos necesitan ser transferidos a cada núcleo y se deben crear los subprocesos, lo que suma tiempo. Es por ello que vemos que paralelizar en el ejemplo de arriba no merece la pena, ya que si el tiempo de computación es muy corto para cada subtarea, el coste de preparar los recursos para la paralelización es más grande que el ahorro conseguido. \n",
    "\n",
    "A continuación vamos a ver un ejemplo de un caso en el que la paralelización disminuye sustancialmente el tiempo de computación. Tenemos una lista de 19 vectores de tamaño 1000 con números obtenidos de una distribución uniforme, `unif`, al que queremos aplicar la función `mi.funcion()`, que definimos a continuación:"
   ]
  },
  {
   "cell_type": "code",
   "execution_count": null,
   "metadata": {},
   "outputs": [],
   "source": [
    "unif <- replicate(runif(n = 1000), n = 19, simplify = F)\n",
    "mi.funcion <- function(x) {\n",
    "    sort(x)\n",
    "    d.tipica <- sd(x)\n",
    "    media <- mean(x)\n",
    "    \n",
    "    error.rel.media <- 1\n",
    "    error.rel.d.tipica <- 1\n",
    "    while(error.rel.media > 0.01 || error.rel.d.tipica > 0.001){\n",
    "        muestra <- sample(x, size = 10)\n",
    "        error.rel.media <- abs(mean(muestra) - media)/media\n",
    "        error.rel.d.tipica <- abs(sd(muestra) - d.tipica)/d.tipica\n",
    "    }\n",
    "    return(muestra)\n",
    "}"
   ]
  },
  {
   "cell_type": "markdown",
   "metadata": {},
   "source": [
    "La función `mi.funcion()` extrae muestras de $10$ elementos de cada vector hasta que obtiene una con la media y desviación típica razonablemente cerca."
   ]
  },
  {
   "cell_type": "markdown",
   "metadata": {},
   "source": [
    "**Ejercicio:** Utiliza la función `microbenchmark()` para medir el tiempo de ejecución de aplicar la función `mi.funcion` a cada elemento de la lista `unif`, primero sin paralelizar y después paralelizando."
   ]
  },
  {
   "cell_type": "code",
   "execution_count": null,
   "metadata": {},
   "outputs": [],
   "source": []
  }
 ],
 "metadata": {
  "kernelspec": {
   "display_name": "R",
   "language": "R",
   "name": "ir"
  },
  "language_info": {
   "codemirror_mode": "r",
   "file_extension": ".r",
   "mimetype": "text/x-r-source",
   "name": "R",
   "pygments_lexer": "r",
   "version": "3.6.3"
  },
  "toc": {
   "base_numbering": 1,
   "nav_menu": {},
   "number_sections": true,
   "sideBar": true,
   "skip_h1_title": true,
   "title_cell": "Table of Contents",
   "title_sidebar": "Contents",
   "toc_cell": true,
   "toc_position": {},
   "toc_section_display": true,
   "toc_window_display": false
  }
 },
 "nbformat": 4,
 "nbformat_minor": 2
}
