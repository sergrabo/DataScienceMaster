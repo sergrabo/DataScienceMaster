{
 "cells": [
  {
   "cell_type": "code",
   "execution_count": 5,
   "metadata": {},
   "outputs": [
    {
     "name": "stdout",
     "output_type": "stream",
     "text": [
      "l: [27, 19, 78, 76, 96, 0, 84, 29, 69, 39, 54, 15, 37, 29, 50, 73, 1, 57, 4, 37, 19, 23, 75, 69, 67, 55, 94, 41, 59, 69, 8, 65, 82, 8, 43, 54, 71, 37, 23, 66, 40, 3, 46, 1, 51, 70, 24, 37, 4, 87, 23, 74, 5, 97, 33, 59, 78, 81, 3, 96, 70, 56, 62, 72, 16, 35, 7, 21, 60, 91, 30, 50, 39, 87, 63, 93, 87, 13, 37, 20, 73, 20, 22, 36, 61, 41, 56, 68, 30, 44, 44, 77, 75, 34, 91, 20, 63, 52, 73, 46]\n",
      "m: [3, 56, 56, 95, 70, 1, 58, 35, 16, 28, 15, 24, 20, 11, 54, 83, 7, 94, 86, 98, 96, 90, 19, 77, 75, 46, 93, 59, 87, 7, 11, 74, 88, 46, 3, 5, 15, 24, 14, 84, 5, 70, 88, 70, 13, 28, 2, 8, 52, 64, 72, 46, 11, 70, 50, 3, 21, 10, 24, 6, 50, 94, 18, 66, 79, 8, 0, 12, 99, 91, 93, 67, 84, 49, 88, 72, 58, 8, 99, 50, 1, 34, 66, 50, 17, 17, 70, 23, 92, 58, 62, 60, 43, 11, 56, 52, 22, 62, 36, 90]\n",
      "[27, 78, 76, 29, 69, 39, 37, 29, 73, 57, 4, 37, 69, 55, 41, 69, 65, 82, 71, 37, 40, 51, 37, 4, 97, 33, 78, 81, 30, 39, 63, 37, 73, 61, 41, 68, 30, 44, 44, 63, 73]\n"
     ]
    }
   ],
   "source": [
    "# Escribir el codigo necesario para generar una lista que contenga\n",
    "# los elementos de l que no están en m\n",
    "\n",
    "import random\n",
    "\n",
    "l = [int(100*random.random()) for i in range(100)]\n",
    "m = [int(100*random.random()) for i in range(100)]\n",
    "            \n",
    "\n",
    "\n",
    "# Escribe aquí el código ESTE ES CORRECTO\n",
    "\n",
    "num=[]\n",
    "[num.append(i) for i in l if i not in m]\n",
    "\n",
    "print(\"l:\", l)\n",
    "print(\"m:\", m)\n",
    "print(num)\n"
   ]
  },
  {
   "cell_type": "code",
   "execution_count": 6,
   "metadata": {},
   "outputs": [
    {
     "name": "stdout",
     "output_type": "stream",
     "text": [
      "[0, 1, 1, 2, 3, 5, 8, 13, 21, 34, 55, 89, 144, 233, 377, 610, 987, 1597, 2584, 4181, 6765, 10946]\n"
     ]
    }
   ],
   "source": [
    "# Escribir el código necesario para calcular la sucesión de Fibonacci\n",
    "# para los \"n\" primeros términos, utilizando el esqueleto siguiente\n",
    "\n",
    "n = 20\n",
    "\n",
    "fib = [0, 1]  # Los dos primeros valores de la sucesión.\n",
    "\n",
    "# Escribe aquí el código\n",
    "for i in range(n):\n",
    "    a=fib[i]\n",
    "    b=fib[i+1]\n",
    "    a,b=b,a+b\n",
    "    fib.append(b)\n",
    "print(fib)\n",
    "\n",
    "\n"
   ]
  },
  {
   "cell_type": "code",
   "execution_count": 7,
   "metadata": {},
   "outputs": [
    {
     "name": "stdout",
     "output_type": "stream",
     "text": [
      "I will cheer for you! Enter a word: Perssona\n",
      "Enthusiasm level (1-10): 4\n",
      "Give me a  P! P\n",
      "Give me an e! e\n",
      "Give me an r! r\n",
      "Give me an s! s\n",
      "Give me an s! s\n",
      "Give me an o! o\n",
      "Give me an n! n\n",
      "Give me an a! a\n",
      "What does that spell?\n",
      "Perssona !!!\n",
      "Perssona !!!\n",
      "Perssona !!!\n",
      "Perssona !!!\n"
     ]
    }
   ],
   "source": [
    "# El siguiente código hace uso de un bucle while, cuando\n",
    "# no es necesario. Escribir el código utilizando un bucle for\n",
    "\n",
    "an_letters = \"aefhilmnorsxAEFHILMNORSX\"\n",
    "word = input(\"I will cheer for you! Enter a word: \")  # Input nos pide que introduzcamos un valor por consola\n",
    "times = int(input(\"Enthusiasm level (1-10): \"))  # El valor es siempre un string, pero necesitamos un entero,\n",
    "                                                 # \"int()\" lo convierte a entero\n",
    "\n",
    "i = 0\n",
    "for i in range(len(word)):\n",
    "    char = word[i]\n",
    "    if char in an_letters:\n",
    "        print(\"Give me an \" + char + \"! \" + char)\n",
    "    else:\n",
    "        print(\"Give me a  \" + char + \"! \" + char)\n",
    "print(\"What does that spell?\")\n",
    "for i in range(times):\n",
    "    print(word, \"!!!\")"
   ]
  },
  {
   "cell_type": "code",
   "execution_count": 3,
   "metadata": {},
   "outputs": [
    {
     "name": "stdout",
     "output_type": "stream",
     "text": [
      "l: [1, 2, 3, 4, 5]\n",
      "m: [5, 4, 3, 2, 1]\n"
     ]
    }
   ],
   "source": [
    "# El siguiente código debería crear una lista \"m\"\n",
    "# que contiene los elemenos de \"l\" en orden inverso,\n",
    "# pero contiene errores.\n",
    "\n",
    "l = [1, 2, 3, 4, 5]\n",
    "\n",
    "m = l[:]\n",
    "for i in range(len(m)):\n",
    "    j = len(m) - i - 1\n",
    "    m[i] = l[j]\n",
    "    \n",
    "print(\"l:\", l)\n",
    "print(\"m:\", m)"
   ]
  },
  {
   "cell_type": "code",
   "execution_count": 6,
   "metadata": {},
   "outputs": [
    {
     "name": "stdout",
     "output_type": "stream",
     "text": [
      "[2, 3, 5, 7, 9, 11, 13, 15, 17, 19, 21, 23, 25, 27, 29]\n"
     ]
    }
   ],
   "source": [
    "# El siguiente código debería obtener los números primos que\n",
    "# existan hasta \"n\", incluyendo \"n\", pero contiene errores.\n",
    "\n",
    "n = 30\n",
    "\n",
    "# Inicializo la lista de numeros primos\n",
    "primos=[2]\n",
    "notprime=False\n",
    "# Itero sobre los numeros\n",
    "for i in range(2,n):\n",
    "    # go through each of 2...n\n",
    "    for j in range(2,i):\n",
    "        # check if not divisible by elem of list\n",
    "        notprime=False #Reseteamos el flag\n",
    "        if i % j == 0:\n",
    "            notprime=True\n",
    "            break\n",
    "        if notprime == False and i not in primos:\n",
    "            primos.append(i)\n",
    "print(primos)"
   ]
  }
 ],
 "metadata": {
  "kernelspec": {
   "display_name": "Python 3",
   "language": "python",
   "name": "python3"
  },
  "language_info": {
   "codemirror_mode": {
    "name": "ipython",
    "version": 3
   },
   "file_extension": ".py",
   "mimetype": "text/x-python",
   "name": "python",
   "nbconvert_exporter": "python",
   "pygments_lexer": "ipython3",
   "version": "3.6.5"
  }
 },
 "nbformat": 4,
 "nbformat_minor": 2
}
