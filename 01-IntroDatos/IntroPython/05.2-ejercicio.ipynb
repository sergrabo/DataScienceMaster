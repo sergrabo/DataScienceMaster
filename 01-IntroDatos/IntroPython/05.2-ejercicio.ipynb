{
 "cells": [
  {
   "cell_type": "markdown",
   "metadata": {},
   "source": [
    "Crear una clase `Fraccion` que implemente la representación de un número como una fracción (i.e. numerador/denominador).\n",
    "\n",
    "Debe implementar los siguientes métodos:\n",
    "* Suma\n",
    "* Resta\n",
    "* Multiplicación\n",
    "* Inversa\n",
    "* Imprimir su representación\n",
    "* Extra: Posibilidad de convertir el objeto a flotante."
   ]
  },
  {
   "cell_type": "code",
   "execution_count": 1,
   "metadata": {},
   "outputs": [
    {
     "name": "stdout",
     "output_type": "stream",
     "text": [
      "0.3333333333333333\n",
      "La fracción es 5/6\n",
      "La fracción es -1/6\n",
      "La fracción es 1/6\n",
      "La fracción es 3/1\n",
      "La fracción es 10/3\n"
     ]
    }
   ],
   "source": [
    "class Fraccion(object):\n",
    "    \n",
    "    def __init__(self,num,den):\n",
    "        self.num=num\n",
    "        self.den=den\n",
    "    def __str__(self):\n",
    "        return(\"La fracción es \" + str(int(self.num))+\"/\"+str(int(self.den)))\n",
    "    def Suma(self, Frac2):\n",
    "        mcm = self.den*Frac2.den\n",
    "        suma = Fraccion(0,1)#Inicializamos la suma\n",
    "        suma.num = mcm/self.den*self.num + mcm/Frac2.den*Frac2.num\n",
    "        suma.den = mcm\n",
    "        #se podría hacer un apaño para sacar la fracción irreducible\n",
    "        return suma\n",
    "    def Resta(self, Frac2):\n",
    "        mcm = self.den*Frac2.den\n",
    "        resta = Fraccion(0,1)#Inicializamos la resta\n",
    "        resta.num = mcm/self.den*self.num - mcm/Frac2.den*Frac2.num\n",
    "        resta.den = mcm\n",
    "        return resta\n",
    "    def Multiplicacion(self, Frac2):\n",
    "        prod = Fraccion(0,1) #Inicializamos el producto\n",
    "        prod.num = self.num*Frac2.num\n",
    "        prod.den = self.den*Frac2.den\n",
    "        return prod\n",
    "    def Inversa(self):\n",
    "        temp = self.num\n",
    "        self.num = self.den\n",
    "        self.den = temp\n",
    "        return self\n",
    "    def Decimal(self):\n",
    "        decim=self.num/self.den\n",
    "        return decim\n",
    "    \n",
    "f=Fraccion(1,3)\n",
    "f2=Fraccion(1,2)\n",
    "\n",
    "print(f.Decimal())\n",
    "\n",
    "print(f.Suma(f2))\n",
    "print(f.Resta(f2))\n",
    "print(f.Multiplicacion(f2))\n",
    "print(f.Inversa())\n",
    "\n",
    "print(f.Suma(Fraccion(1,3)))     "
   ]
  }
 ],
 "metadata": {
  "kernelspec": {
   "display_name": "Python 3",
   "language": "python",
   "name": "python3"
  },
  "language_info": {
   "codemirror_mode": {
    "name": "ipython",
    "version": 3
   },
   "file_extension": ".py",
   "mimetype": "text/x-python",
   "name": "python",
   "nbconvert_exporter": "python",
   "pygments_lexer": "ipython3",
   "version": "3.6.5"
  }
 },
 "nbformat": 4,
 "nbformat_minor": 2
}
