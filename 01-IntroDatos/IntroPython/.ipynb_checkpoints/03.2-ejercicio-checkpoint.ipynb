{
 "cells": [
  {
   "cell_type": "markdown",
   "metadata": {},
   "source": [
    "El siguiente programa imprime por pantalla las palabras más frecuentes\n",
    "que se encuentre en una cadena de caracteres, en este caso una canción.\n",
    "Sin embaro, tiene varios errores, tanto de sintaxis, como de ejecución,\n",
    "como de funcionalidad."
   ]
  },
  {
   "cell_type": "code",
   "execution_count": 19,
   "metadata": {},
   "outputs": [],
   "source": [
    "lyrics = \"\"\"Ay\n",
    "Fonsi\n",
    "DY\n",
    "Oh\n",
    "Oh no, oh no\n",
    "Oh yeah\n",
    "\n",
    "Diridiri, dirididi Daddy\n",
    "Go\n",
    "Sí, sabes que ya llevo un rato mirándote\n",
    "Tengo que bailar contigo hoy (DY)\n",
    "Vi que tu mirada ya estaba llamándome\n",
    "Muéstrame el camino que yo voy (Oh)\n",
    "Tú, tú eres el imán y yo soy el metal\n",
    "Me voy acercando y voy armando el plan\n",
    "Solo con pensarlo se acelera el pulso (Oh yeah)\n",
    "Ya, ya me está gustando más de lo normal\n",
    "Todos mis sentidos van pidiendo más\n",
    "Esto hay que tomarlo sin ningún apuro\n",
    "Despacito\n",
    "Quiero respirar tu cuello despacito\n",
    "Deja que te diga cosas al oído\n",
    "Para que te acuerdes si no estás conmigo\n",
    "Despacito\n",
    "Quiero desnudarte a besos despacito\n",
    "Firmo en las paredes de tu laberinto\n",
    "Y hacer de tu cuerpo todo un manuscrito (sube, sube, sube)\n",
    "(Sube, sube)\n",
    "Quiero ver bailar tu pelo\n",
    "Quiero ser tu ritmo\n",
    "Que le enseñes a mi boca\n",
    "Tus lugares favoritos (favoritos, favoritos baby)\n",
    "Déjame sobrepasar tus zonas de peligro\n",
    "Hasta provocar tus gritos\n",
    "Y que olvides tu apellido (Diridiri, dirididi Daddy)\n",
    "Si te pido un beso ven dámelo\n",
    "Yo sé que estás pensándolo\n",
    "Llevo tiempo intentándolo\n",
    "Mami, esto es dando y dándolo\n",
    "Sabes que tu corazón conmigo te hace bom, bom\n",
    "Sabes que esa beba está buscando de mi bom, bom\n",
    "Ven prueba de mi boca para ver cómo te sabe\n",
    "Quiero, quiero, quiero ver cuánto amor a ti te cabe\n",
    "Yo no tengo prisa, yo me quiero dar el viaje\n",
    "Empecemos lento, después salvaje\n",
    "Pasito a pasito, suave suavecito\n",
    "Nos vamos pegando poquito a poquito\n",
    "Cuando tú me besas con esa destreza\n",
    "Veo que eres malicia con delicadeza\n",
    "Pasito a pasito, suave suavecito\n",
    "Nos vamos pegando, poquito a poquito\n",
    "Y es que esa belleza es un rompecabezas\n",
    "Pero pa montarlo aquí tengo la pieza\n",
    "Despacito\n",
    "Quiero respirar tu cuello despacito\n",
    "Deja que te diga cosas al oído\n",
    "Para que te acuerdes si no estás conmigo\n",
    "Despacito\n",
    "Quiero desnudarte a besos despacito\n",
    "Firmo en las paredes de tu laberinto\n",
    "Y hacer de tu cuerpo todo un manuscrito (sube, sube, sube)\n",
    "(Sube, sube)\n",
    "Quiero ver bailar tu pelo\n",
    "Quiero ser tu ritmo\n",
    "Que le enseñes a mi boca\n",
    "Tus lugares favoritos (favoritos, favoritos baby)\n",
    "Déjame sobrepasar tus zonas de peligro\n",
    "Hasta provocar tus gritos\n",
    "Y que olvides tu apellido\n",
    "Despacito\n",
    "Vamos a hacerlo en una playa en Puerto Rico\n",
    "Hasta que las olas griten \"¡ay, bendito!\"\n",
    "Para que mi sello se quede contigo\n",
    "Pasito a pasito, suave suavecito\n",
    "Nos vamos pegando, poquito a poquito\n",
    "Que le enseñes a mi boca\n",
    "Tus lugares favoritos (favoritos, favoritos baby)\n",
    "Pasito a pasito, suave suavecito\n",
    "Nos vamos pegando, poquito a poquito\n",
    "Hasta provocar tus gritos\n",
    "Y que olvides tu apellido (DY)\n",
    "Despacito\n",
    "\"\"\""
   ]
  },
  {
   "cell_type": "code",
   "execution_count": 20,
   "metadata": {},
   "outputs": [],
   "source": [
    "def split_into_words(lyrics):\n",
    "    \"\"\"\n",
    "    Split a string into lowercase words, removing all punctuation characters,\n",
    "    returning the result.\n",
    "    \"\"\"\n",
    "    result = []\n",
    "    for word in lyrics.lower().split():  # lower() convierte las palabras en minusculas #Split divide todas las palabras\n",
    "        word = word.strip(',.;()\"¡!')  # strip() elimina del incio y del final los caracteres que le pasemos\n",
    "        result.append(word)\n",
    "    return result"
   ]
  },
  {
   "cell_type": "code",
   "execution_count": 21,
   "metadata": {},
   "outputs": [],
   "source": [
    "def words_to_frequencies(lyrics):\n",
    "    \"\"\"\n",
    "    Convert words into frequencies. Return a dictionary whose keys are the\n",
    "    words with the frequency as the value\n",
    "    \"\"\"\n",
    "    freqs = {}\n",
    "    for word in lyrics:\n",
    "        if word in freqs:\n",
    "            freqs[word] += 1\n",
    "        else:\n",
    "            freqs[word] = 1\n",
    "        # Alternativa al if anterior\n",
    "        # freqs[word] = freqs.get(word, 0) + 1\n",
    "        # Otra alternativa\n",
    "        # freqs.setdefault(word, 0)\n",
    "        # freqs[word] += 1\n",
    "    return freqs"
   ]
  },
  {
   "cell_type": "code",
   "execution_count": 28,
   "metadata": {},
   "outputs": [],
   "source": [
    "def most_common_words(frequencies):\n",
    "    \"\"\"\n",
    "    Return a tuple containing:\n",
    "    * The number of occurences of a word in the first tuple element\n",
    "    * A list containing the words with that frequency\n",
    "    \"\"\"\n",
    "    values = frequencies.values()\n",
    "    best = max(values)\n",
    "    words = []\n",
    "    for word, score in frequencies.items():#items() saca una tupla con los pares llave-valor\n",
    "        if score == best:\n",
    "            words.append(word)\n",
    "    return (best, words)"
   ]
  },
  {
   "cell_type": "code",
   "execution_count": 29,
   "metadata": {},
   "outputs": [],
   "source": [
    "def get_more_often_user_words(frequencies, threshold=10):\n",
    "    \"\"\"\n",
    "    Return a list of the words that are used more often, above\n",
    "    the *optional* threshold. If no threshold is passed, use 10.\n",
    "    \"\"\"\n",
    "    \n",
    "    result = []\n",
    "    freq=frequencies.copy() #ERROR: Al no usar una copia del diccionario, borraba los valores más grandes con el del\n",
    "    while True:\n",
    "        score = most_common_words(freq)\n",
    "        if score[0] <= threshold: #ERROR: Tiene que devolver por encima del umbral, sin incluirlo\n",
    "            break\n",
    "        for w in score[1]:\n",
    "            del freq[w]\n",
    "        result.append(score)\n",
    "        \n",
    "    return result"
   ]
  },
  {
   "cell_type": "code",
   "execution_count": 30,
   "metadata": {},
   "outputs": [
    {
     "name": "stdout",
     "output_type": "stream",
     "text": [
      "Palabras más frecuentes con más de 10 apariciones.\n",
      "[(22, ['que']), (15, ['tu', 'a']), (12, ['quiero'])]\n",
      "\n",
      "\n",
      "Palabras más frecuentes con más de 5 apariciones.\n"
     ]
    },
    {
     "ename": "ValueError",
     "evalue": "max() arg is an empty sequence",
     "output_type": "error",
     "traceback": [
      "\u001b[0;31m---------------------------------------------------------------------------\u001b[0m",
      "\u001b[0;31mValueError\u001b[0m                                Traceback (most recent call last)",
      "\u001b[0;32m<ipython-input-30-7305a68c5e1d>\u001b[0m in \u001b[0;36m<module>\u001b[0;34m()\u001b[0m\n\u001b[1;32m      6\u001b[0m \u001b[0mprint\u001b[0m\u001b[0;34m(\u001b[0m\u001b[0;34m\"\\n\"\u001b[0m\u001b[0;34m)\u001b[0m\u001b[0;34m\u001b[0m\u001b[0m\n\u001b[1;32m      7\u001b[0m \u001b[0mprint\u001b[0m\u001b[0;34m(\u001b[0m\u001b[0;34m\"Palabras más frecuentes con más de 5 apariciones.\"\u001b[0m\u001b[0;34m)\u001b[0m\u001b[0;34m\u001b[0m\u001b[0m\n\u001b[0;32m----> 8\u001b[0;31m \u001b[0mprint\u001b[0m\u001b[0;34m(\u001b[0m\u001b[0mget_more_often_user_words\u001b[0m\u001b[0;34m(\u001b[0m\u001b[0mfreqs\u001b[0m\u001b[0;34m,\u001b[0m \u001b[0mthreshold\u001b[0m\u001b[0;34m=\u001b[0m\u001b[0;36m0\u001b[0m\u001b[0;34m)\u001b[0m\u001b[0;34m)\u001b[0m\u001b[0;34m\u001b[0m\u001b[0m\n\u001b[0m",
      "\u001b[0;32m<ipython-input-29-7518a43adda3>\u001b[0m in \u001b[0;36mget_more_often_user_words\u001b[0;34m(frequencies, threshold)\u001b[0m\n\u001b[1;32m      8\u001b[0m     \u001b[0mfreq\u001b[0m\u001b[0;34m=\u001b[0m\u001b[0mfrequencies\u001b[0m\u001b[0;34m.\u001b[0m\u001b[0mcopy\u001b[0m\u001b[0;34m(\u001b[0m\u001b[0;34m)\u001b[0m \u001b[0;31m#ERROR: Al no usar una copia del diccionario, borraba los valores más grandes con el del\u001b[0m\u001b[0;34m\u001b[0m\u001b[0m\n\u001b[1;32m      9\u001b[0m     \u001b[0;32mwhile\u001b[0m \u001b[0;32mTrue\u001b[0m\u001b[0;34m:\u001b[0m\u001b[0;34m\u001b[0m\u001b[0m\n\u001b[0;32m---> 10\u001b[0;31m         \u001b[0mscore\u001b[0m \u001b[0;34m=\u001b[0m \u001b[0mmost_common_words\u001b[0m\u001b[0;34m(\u001b[0m\u001b[0mfreq\u001b[0m\u001b[0;34m)\u001b[0m\u001b[0;34m\u001b[0m\u001b[0m\n\u001b[0m\u001b[1;32m     11\u001b[0m         \u001b[0;32mif\u001b[0m \u001b[0mscore\u001b[0m\u001b[0;34m[\u001b[0m\u001b[0;36m0\u001b[0m\u001b[0;34m]\u001b[0m \u001b[0;34m<=\u001b[0m \u001b[0mthreshold\u001b[0m\u001b[0;34m:\u001b[0m \u001b[0;31m#ERROR: Tiene que devolver por encima del umbral, sin incluirlo\u001b[0m\u001b[0;34m\u001b[0m\u001b[0m\n\u001b[1;32m     12\u001b[0m             \u001b[0;32mbreak\u001b[0m\u001b[0;34m\u001b[0m\u001b[0m\n",
      "\u001b[0;32m<ipython-input-28-9ff682ea8d8c>\u001b[0m in \u001b[0;36mmost_common_words\u001b[0;34m(frequencies)\u001b[0m\n\u001b[1;32m      7\u001b[0m     \u001b[0mvalues\u001b[0m \u001b[0;34m=\u001b[0m \u001b[0mfrequencies\u001b[0m\u001b[0;34m.\u001b[0m\u001b[0mvalues\u001b[0m\u001b[0;34m(\u001b[0m\u001b[0;34m)\u001b[0m\u001b[0;34m\u001b[0m\u001b[0m\n\u001b[1;32m      8\u001b[0m     \u001b[0;32mif\u001b[0m \u001b[0mvalues\u001b[0m \u001b[0;34m!=\u001b[0m \u001b[0;36m0\u001b[0m\u001b[0;34m:\u001b[0m \u001b[0;31m#ERROR: Cuando el threshold es 0, la función max() no devuelve nada\u001b[0m\u001b[0;34m\u001b[0m\u001b[0m\n\u001b[0;32m----> 9\u001b[0;31m         \u001b[0mbest\u001b[0m \u001b[0;34m=\u001b[0m \u001b[0mmax\u001b[0m\u001b[0;34m(\u001b[0m\u001b[0mvalues\u001b[0m\u001b[0;34m)\u001b[0m\u001b[0;34m\u001b[0m\u001b[0m\n\u001b[0m\u001b[1;32m     10\u001b[0m     \u001b[0mwords\u001b[0m \u001b[0;34m=\u001b[0m \u001b[0;34m[\u001b[0m\u001b[0;34m]\u001b[0m\u001b[0;34m\u001b[0m\u001b[0m\n\u001b[1;32m     11\u001b[0m     \u001b[0;32mfor\u001b[0m \u001b[0mword\u001b[0m\u001b[0;34m,\u001b[0m \u001b[0mscore\u001b[0m \u001b[0;32min\u001b[0m \u001b[0mfrequencies\u001b[0m\u001b[0;34m.\u001b[0m\u001b[0mitems\u001b[0m\u001b[0;34m(\u001b[0m\u001b[0;34m)\u001b[0m\u001b[0;34m:\u001b[0m\u001b[0;31m#items() saca una tupla con los pares llave-valor\u001b[0m\u001b[0;34m\u001b[0m\u001b[0m\n",
      "\u001b[0;31mValueError\u001b[0m: max() arg is an empty sequence"
     ]
    }
   ],
   "source": [
    "words_clean = split_into_words(lyrics)\n",
    "freqs = words_to_frequencies(words_clean)\n",
    "\n",
    "print(\"Palabras más frecuentes con más de 10 apariciones.\")\n",
    "print(get_more_often_user_words(freqs))\n",
    "print(\"\\n\")\n",
    "print(\"Palabras más frecuentes con más de 5 apariciones.\")\n",
    "print(get_more_often_user_words(freqs, threshold=0))"
   ]
  },
  {
   "cell_type": "code",
   "execution_count": null,
   "metadata": {},
   "outputs": [],
   "source": []
  },
  {
   "cell_type": "code",
   "execution_count": null,
   "metadata": {},
   "outputs": [],
   "source": []
  }
 ],
 "metadata": {
  "kernelspec": {
   "display_name": "Python 3",
   "language": "python",
   "name": "python3"
  },
  "language_info": {
   "codemirror_mode": {
    "name": "ipython",
    "version": 3
   },
   "file_extension": ".py",
   "mimetype": "text/x-python",
   "name": "python",
   "nbconvert_exporter": "python",
   "pygments_lexer": "ipython3",
   "version": "3.6.5"
  }
 },
 "nbformat": 4,
 "nbformat_minor": 2
}
