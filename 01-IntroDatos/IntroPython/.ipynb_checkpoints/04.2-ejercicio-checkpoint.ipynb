{
 "cells": [
  {
   "cell_type": "markdown",
   "metadata": {},
   "source": [
    "* El código del Ejercicio 5 estaba todo en un único fichero\n",
    "* Mover las funciones, variables, etc. que sean necesarias a un fichero llamado `lyrics.py`\n",
    "* Mover la definición de las canciones a `example_songs.py`\n",
    "* De forma que se pueda importar y ejecutar de la siguiente forma."
   ]
  },
  {
   "cell_type": "code",
   "execution_count": 1,
   "metadata": {},
   "outputs": [
    {
     "name": "stdout",
     "output_type": "stream",
     "text": [
      "Palabras más frecuentes con más de 10 apariciones.\n",
      "[(22, ['que']), (15, ['tu', 'a']), (12, ['quiero'])]\n",
      "\n",
      "\n",
      "Palabras más frecuentes con más de 10 apariciones.\n",
      "[(22, ['que']), (15, ['tu', 'a']), (12, ['quiero']), (10, ['despacito', 'sube']), (9, ['y', 'de', 'favoritos']), (8, ['te', 'tus', 'pasito', 'poquito']), (6, ['oh', 'el', 'mi'])]\n"
     ]
    }
   ],
   "source": [
    "import lyrics\n",
    "import example_songs as songs\n",
    "\n",
    "words_clean = lyrics.split_into_words(songs.despacito)\n",
    "\n",
    "freqs = lyrics.words_to_frequencies(words_clean)\n",
    "\n",
    "print(\"Palabras más frecuentes con más de 10 apariciones.\")\n",
    "print(lyrics.get_more_often_user_words(freqs))\n",
    "print(\"\\n\")\n",
    "print(\"Palabras más frecuentes con más de 10 apariciones.\")\n",
    "print(lyrics.get_more_often_user_words(freqs, threshold=5))"
   ]
  },
  {
   "cell_type": "code",
   "execution_count": null,
   "metadata": {},
   "outputs": [],
   "source": []
  }
 ],
 "metadata": {
  "kernelspec": {
   "display_name": "Python 3",
   "language": "python",
   "name": "python3"
  },
  "language_info": {
   "codemirror_mode": {
    "name": "ipython",
    "version": 3
   },
   "file_extension": ".py",
   "mimetype": "text/x-python",
   "name": "python",
   "nbconvert_exporter": "python",
   "pygments_lexer": "ipython3",
   "version": "3.6.5"
  }
 },
 "nbformat": 4,
 "nbformat_minor": 2
}
