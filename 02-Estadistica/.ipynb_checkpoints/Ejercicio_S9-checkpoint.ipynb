{
 "cells": [
  {
   "cell_type": "markdown",
   "metadata": {
    "slideshow": {
     "slide_type": "slide"
    }
   },
   "source": [
    "# Ejercicio de regularización\n",
    "_(Actualizado: 11-01-2022)_\n",
    "\n",
    "En este ejercicio practicamos los fundamentos de la regularización L2 (ridge), en la que la minimización de la RSS con penalización tiene una forma explícita sencilla:\n",
    "$$ (X^tX+\\lambda I)\\beta = X^ty$$\n",
    "Utilizaremos los datos de una muestra sintética para conocer el verdadero modelo que tratamos de ajustar. Para ello:"
   ]
  },
  {
   "cell_type": "markdown",
   "metadata": {
    "slideshow": {
     "slide_type": "fragment"
    }
   },
   "source": [
    "## 1. \n",
    "Generar datos sintéticos para la variable dependiente. \n",
    " \n",
    " 1.1. Para ello, escribe una función de R que reciba como argumentos de entrada un vector `x` con la variable independiente, un vector de parámetros ```alpha``` que contenga los coeficientes de un polinomio y una ```sigma```; y que devuelva el vector dependiente que siga la ley polinomial dada con PDF gaussiana y sigma (desviación estándar) dada: $y=\\alpha_0 + \\alpha_1 x + \\ldots + \\alpha_p x^p + \\varepsilon$, con $\\varepsilon\\sim N(0,\\sigma)$\n",
    " \n",
    " 1.2. Construye un vector `x` de 40 valores distribuidos aleatoriamente entre [-3, 3] siguiendo una distribución uniforme. Úsalo con la función anterior, considerando el polinomio: $x^3 + 2 x^2 - x - 2$ y $\\sigma = 4$. Representa los datos resultantes."
   ]
  },
  {
   "cell_type": "code",
   "execution_count": 27,
   "metadata": {},
   "outputs": [],
   "source": [
    "set.seed(11)"
   ]
  },
  {
   "cell_type": "code",
   "execution_count": 28,
   "metadata": {},
   "outputs": [
    {
     "data": {
      "image/png": "[encoded data removed]",
      "text/plain": [
       "plot without title"
      ]
     },
     "metadata": {
      "image/png": {
       "height": 420,
       "width": 420
      }
     },
     "output_type": "display_data"
    }
   ],
   "source": [
    "# 1.1\n",
    "f = function(x, alpha, sigma){\n",
    "    p = length(alpha) - 1\n",
    "    n = length(x)\n",
    "    y = rnorm(n = n, mean = 0, sd = sigma)\n",
    "    for(i in 0:p){\n",
    "        y = y + alpha[i+1]*x^i\n",
    "    }\n",
    "    return(y)\n",
    "}\n",
    "\n",
    "# 1.2\n",
    "x = runif(40, min = -3, max = 3)\n",
    "alpha = c(-2, 1, 2, 1)\n",
    "sigma = 4\n",
    "y = f(x, alpha, sigma)\n",
    "\n",
    "# Función x^3 + 2 x^2 - x - 2\n",
    "fx = seq(-3,3, by = 0.1)\n",
    "fy = f(fx, alpha, 0)\n",
    "\n",
    "# Ploteamos\n",
    "plot(x,y)\n",
    "lines(fx, fy, lwd = 2)"
   ]
  },
  {
   "cell_type": "markdown",
   "metadata": {
    "slideshow": {
     "slide_type": "slide"
    }
   },
   "source": [
    "## 2.\n",
    "Diseñar la matriz de covariables de la regresión o features $X$, que tendrá tantas filas como observaciones y columnas como `p+1`. Para ello, crea una función cuyos argumentos de entrada sean el vector `x` con la variable independiente y el grado del polinomio `p` con el que se desea ajustar los datos."
   ]
  },
  {
   "cell_type": "code",
   "execution_count": 29,
   "metadata": {},
   "outputs": [],
   "source": [
    "XMatrix = function(x, p){\n",
    "    X = rep(1, length(x))\n",
    "    for(i in 1:p){\n",
    "       X = cbind(X, x^i)\n",
    "    }\n",
    "    return(X)\n",
    "}\n",
    "\n",
    "p = length(alpha)-1\n",
    "X = XMatrix(x, p)"
   ]
  },
  {
   "cell_type": "markdown",
   "metadata": {
    "slideshow": {
     "slide_type": "fragment"
    }
   },
   "source": [
    "## 3.\n",
    "Calcula el valor mínimo de la función de coste (_loss_, RSS) para el caso en que hacemos un ajuste con una recta (dos parámetros), una parábola (tres parámetros), 4, 5, 6 y 7 parámetros sin considerar la regularización, es decir, resolviendo $ (X^tX)\\beta = X^ty$, usando los primeros 20 puntos. Con los valores de $\\beta$ que hacen mínimo el RSS para la muestra de entrenamiento, calcula el RSS para los otros 20 puntos. Representa los resultados en función del número de parámetros para ambos casos."
   ]
  },
  {
   "cell_type": "code",
   "execution_count": 34,
   "metadata": {},
   "outputs": [
    {
     "ename": "ERROR",
     "evalue": "Error in beta[, p - 2] <- solve(t(X) %*% X, t(X) %*% y): número de items para para sustituir no es un múltiplo de la longitud del reemplazo\n",
     "output_type": "error",
     "traceback": [
      "Error in beta[, p - 2] <- solve(t(X) %*% X, t(X) %*% y): número de items para para sustituir no es un múltiplo de la longitud del reemplazo\nTraceback:\n"
     ]
    }
   ],
   "source": [
    "beta = matrix(data = 0, nrow = 6, ncol = 7-2)\n",
    "for(p in 2:7){\n",
    "    X = XMatrix(x, p)\n",
    "    beta[,p-2] = solve(t(X) %*% X, t(X) %*% y)\n",
    "}\n",
    "beta"
   ]
  },
  {
   "cell_type": "code",
   "execution_count": 32,
   "metadata": {},
   "outputs": [
    {
     "data": {
      "text/html": [
       "<table>\n",
       "<tbody>\n",
       "\t<tr><th scope=row>X</th><td>-2.31950209</td></tr>\n",
       "\t<tr><th scope=row></th><td> 1.70818239</td></tr>\n",
       "\t<tr><th scope=row></th><td> 1.34662953</td></tr>\n",
       "\t<tr><th scope=row></th><td> 0.62238013</td></tr>\n",
       "\t<tr><th scope=row></th><td> 0.11187731</td></tr>\n",
       "\t<tr><th scope=row></th><td> 0.03785416</td></tr>\n",
       "</tbody>\n",
       "</table>\n"
      ],
      "text/latex": [
       "\\begin{tabular}{r|l}\n",
       "\tX & -2.31950209\\\\\n",
       "\t &  1.70818239\\\\\n",
       "\t &  1.34662953\\\\\n",
       "\t &  0.62238013\\\\\n",
       "\t &  0.11187731\\\\\n",
       "\t &  0.03785416\\\\\n",
       "\\end{tabular}\n"
      ],
      "text/markdown": [
       "\n",
       "| X | -2.31950209 |\n",
       "|  |  1.70818239 |\n",
       "|  |  1.34662953 |\n",
       "|  |  0.62238013 |\n",
       "|  |  0.11187731 |\n",
       "|  |  0.03785416 |\n",
       "\n"
      ],
      "text/plain": [
       "  [,1]       \n",
       "X -2.31950209\n",
       "   1.70818239\n",
       "   1.34662953\n",
       "   0.62238013\n",
       "   0.11187731\n",
       "   0.03785416"
      ]
     },
     "metadata": {},
     "output_type": "display_data"
    }
   ],
   "source": [
    "solve(t(X) %*% X, t(X) %*% y)"
   ]
  },
  {
   "cell_type": "markdown",
   "metadata": {
    "slideshow": {
     "slide_type": "slide"
    }
   },
   "source": [
    "## 4.\n",
    "Escribe una función de R que encuentre el mínimo de la función de coste para el caso de la regularización L2, es decir, resolviendo $(X^tX+\\lambda I)\\beta = X^ty$. El parámetro lambda será pasado como entrada a esta función. Utilízala para estimar las curvas que mejor ajustan para los casos:\n",
    "  * 3 parámetros, lambda=0\n",
    "  * 10 parámetros, lambda=0\n",
    "  * 10 parámetros, lambda=1000\n",
    "\n",
    "Representa todas las curvas juntas y escribe tus conclusiones. "
   ]
  },
  {
   "cell_type": "markdown",
   "metadata": {
    "slideshow": {
     "slide_type": "fragment"
    }
   },
   "source": [
    "## 5.\n",
    "Utiliza la función anterior para representar el valor de los parámetros del modelo en función de $\\lambda$, dando valores a $\\lambda$ entre $0.001$ y $10000$. Prueba a representar la evolución de los coeficientes de un modelo de 11 parámetros (usando una escala logarítmica para lambda)."
   ]
  }
 ],
 "metadata": {
  "celltoolbar": "Slideshow",
  "kernelspec": {
   "display_name": "R",
   "language": "R",
   "name": "ir"
  },
  "language_info": {
   "codemirror_mode": "r",
   "file_extension": ".r",
   "mimetype": "text/x-r-source",
   "name": "R",
   "pygments_lexer": "r",
   "version": "3.6.3"
  },
  "rise": {
   "theme": "serif",
   "transition": "zoom"
  }
 },
 "nbformat": 4,
 "nbformat_minor": 2
}
