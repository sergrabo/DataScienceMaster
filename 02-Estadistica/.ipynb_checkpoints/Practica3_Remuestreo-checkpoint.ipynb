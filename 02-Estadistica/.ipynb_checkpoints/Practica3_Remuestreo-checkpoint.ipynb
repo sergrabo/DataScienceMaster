{
 "cells": [
  {
   "cell_type": "markdown",
   "metadata": {},
   "source": [
    "### Practica de Remuestreo\n",
    "Daniel García Diaz (garciad@ifca.unican.es)"
   ]
  },
  {
   "cell_type": "markdown",
   "metadata": {},
   "source": [
    "Las tecnicas de remuestreo son tecnicas desarrolladas hace pocos años para calcular valores estadisticos, basandose en tecnicas computacionales intensivas que evitan los calculos complejos de la teoria estadistica tradicional."
   ]
  },
  {
   "cell_type": "markdown",
   "metadata": {},
   "source": [
    "Serie temporal de datos fisico-quimicos medidos en el embalse de Cuerda del Pozo (Soria) en los años 2014 y 2015.\n",
    "\n",
    "File -> CdP_practica_estadistica.csv"
   ]
  },
  {
   "cell_type": "code",
   "execution_count": 1,
   "metadata": {},
   "outputs": [],
   "source": [
    "library(tidyr)"
   ]
  },
  {
   "cell_type": "code",
   "execution_count": 2,
   "metadata": {},
   "outputs": [],
   "source": [
    "#Establecemos el directorio para poder leer los datos correctamente\n",
    "rm(list=ls())\n",
    "setwd(\"C:/Users/sergr/OneDrive/Universidad/MasterDataScience/NotebooksLocal/\")\n",
    "file = \"CdP_practica_estadistica.csv\""
   ]
  },
  {
   "cell_type": "markdown",
   "metadata": {},
   "source": [
    "Carga el dataset con R y selecciona la temperatura de ambos años por separado. Selecciona solo los datos de Temperatura para el Verano (Julio, Agosto y Septiembre). \n",
    "\n",
    "NOTA!! -> Formatea la fecha para poder dividir los datos en años.\n",
    "\n",
    "Calula la media, mediana y desviacion media de cada uno de los años por separado, devuelve una tabla con los datos"
   ]
  },
  {
   "cell_type": "code",
   "execution_count": 3,
   "metadata": {
    "scrolled": true
   },
   "outputs": [
    {
     "name": "stdout",
     "output_type": "stream",
     "text": [
      "'data.frame':\t730 obs. of  10 variables:\n",
      " $ date         : Factor w/ 730 levels \"01/01/2014 0:03\",..: 1 25 49 73 97 121 145 169 193 217 ...\n",
      " $ AVG.Temp.    : num  4 4.06 4.13 4.19 4.35 ...\n",
      " $ AVG.Press.   : num  9.62 3.94 3.99 3.95 9.39 ...\n",
      " $ AVG.Cond.    : num  0.0407 0.0399 0.0377 0.0346 0.0313 ...\n",
      " $ AVG.Salinity.: num  0.0304 0.0298 0.0281 0.0257 0.0232 ...\n",
      " $ AVG.DO.      : num  13.6 13.6 13.6 13.6 13.5 ...\n",
      " $ AVG.rawO2.   : num  558 557 559 560 561 ...\n",
      " $ AVG.OxySat.  : num  104 104 104 104 104 ...\n",
      " $ AVG.pH.      : num  8.13 8.11 8.05 7.97 7.9 ...\n",
      " $ AVG.Redox.   : num  356 359 360 362 358 ...\n"
     ]
    }
   ],
   "source": [
    "dataRaw = read.csv(file)\n",
    "str(dataRaw)"
   ]
  },
  {
   "cell_type": "markdown",
   "metadata": {},
   "source": [
    "Utilizando la función `str()` podemos echar un primer vistazo al dataset. Lo que más llama la atención es que la fecha está en formato *D/M/Y HH:MM*, por lo que tendremos que formatearla según nuestro interés. En este caso, queremos acceder a los datos del año 2014."
   ]
  },
  {
   "cell_type": "code",
   "execution_count": 4,
   "metadata": {},
   "outputs": [
    {
     "name": "stdout",
     "output_type": "stream",
     "text": [
      "'data.frame':\t151 obs. of  10 variables:\n",
      " $ date         : Date, format: \"2014-07-01\" \"2014-07-02\" ...\n",
      " $ AVG.Temp.    : num  15.4 14.7 14.8 15.1 15.2 ...\n",
      " $ AVG.Press.   : num  11.9 11.9 11.3 11.9 11.9 ...\n",
      " $ AVG.Cond.    : num  0.0565 0.0556 0.0555 0.0561 0.0563 ...\n",
      " $ AVG.Salinity.: num  0.0356 0.0355 0.0354 0.0356 0.0356 ...\n",
      " $ AVG.DO.      : num  7.24 6.73 6.65 7.18 6.95 ...\n",
      " $ AVG.rawO2.   : num  533 480 470 519 509 ...\n",
      " $ AVG.OxySat.  : num  74.9 68.2 67 73.3 71.6 ...\n",
      " $ AVG.pH.      : num  6.65 6.47 6.46 6.61 6.6 ...\n",
      " $ AVG.Redox.   : num  414 426 435 429 428 ...\n",
      "'data.frame':\t151 obs. of  10 variables:\n",
      " $ date         : Date, format: \"2014-08-01\" \"2014-08-02\" ...\n",
      " $ AVG.Temp.    : num  13.2 14.5 18.5 11.7 13.6 ...\n",
      " $ AVG.Press.   : num  14.66 13.31 8.38 19.74 16.56 ...\n",
      " $ AVG.Cond.    : num  0.0544 0.0561 0.0619 0.0525 0.0547 ...\n",
      " $ AVG.Salinity.: num  0.0356 0.0359 0.0372 0.035 0.0354 ...\n",
      " $ AVG.DO.      : num  2.464 3.523 6.74 0.883 2.427 ...\n",
      " $ AVG.rawO2.   : num  171.3 272.8 587 68.1 204.9 ...\n",
      " $ AVG.OxySat.  : num  23.58 36.21 75.13 9.06 26.48 ...\n",
      " $ AVG.pH.      : num  5.58 5.85 6.69 5.42 5.75 ...\n",
      " $ AVG.Redox.   : num  471 469 437 477 458 ...\n"
     ]
    }
   ],
   "source": [
    "dataRaw$date = as.Date(dataRaw$date, \"%d/%m/%Y %H:%M\")\n",
    "df = drop_na(dataRaw)\n",
    "data14 = subset(df, format(date, \"%Y\") == '2014' &\n",
    "                format(date, \"%m\") == '07' |\n",
    "                format(date, \"%m\") == '08' |\n",
    "                format(date, \"%m\") == '09'\n",
    "               )\n",
    "data15 = subset(df, format(date, \"%Y\") == '2015' &\n",
    "                format(date, \"%m\") == '07' |\n",
    "                format(date, \"%m\") == '08' |\n",
    "                format(date, \"%m\") == '09'\n",
    "               )\n",
    "str(data14)\n",
    "str(data15)"
   ]
  },
  {
   "cell_type": "markdown",
   "metadata": {},
   "source": [
    "Calculamos media, mediana y desviación estándar de la variable temperatura para los datos originales."
   ]
  },
  {
   "cell_type": "code",
   "execution_count": 5,
   "metadata": {},
   "outputs": [
    {
     "name": "stdout",
     "output_type": "stream",
     "text": [
      "Resultados para 2014\n"
     ]
    },
    {
     "data": {
      "text/html": [
       "<table>\n",
       "<thead><tr><th scope=col>mean</th><th scope=col>median</th><th scope=col>sd</th></tr></thead>\n",
       "<tbody>\n",
       "\t<tr><td>17.6754 </td><td>17.95897</td><td>1.845289</td></tr>\n",
       "</tbody>\n",
       "</table>\n"
      ],
      "text/latex": [
       "\\begin{tabular}{r|lll}\n",
       " mean & median & sd\\\\\n",
       "\\hline\n",
       "\t 17.6754  & 17.95897 & 1.845289\\\\\n",
       "\\end{tabular}\n"
      ],
      "text/markdown": [
       "\n",
       "| mean | median | sd |\n",
       "|---|---|---|\n",
       "| 17.6754  | 17.95897 | 1.845289 |\n",
       "\n"
      ],
      "text/plain": [
       "  mean    median   sd      \n",
       "1 17.6754 17.95897 1.845289"
      ]
     },
     "metadata": {},
     "output_type": "display_data"
    },
    {
     "name": "stdout",
     "output_type": "stream",
     "text": [
      "Resultados para 2015\n"
     ]
    },
    {
     "data": {
      "text/html": [
       "<table>\n",
       "<thead><tr><th scope=col>mean</th><th scope=col>median</th><th scope=col>sd</th></tr></thead>\n",
       "<tbody>\n",
       "\t<tr><td>18.38138</td><td>18.45293</td><td>1.886544</td></tr>\n",
       "</tbody>\n",
       "</table>\n"
      ],
      "text/latex": [
       "\\begin{tabular}{r|lll}\n",
       " mean & median & sd\\\\\n",
       "\\hline\n",
       "\t 18.38138 & 18.45293 & 1.886544\\\\\n",
       "\\end{tabular}\n"
      ],
      "text/markdown": [
       "\n",
       "| mean | median | sd |\n",
       "|---|---|---|\n",
       "| 18.38138 | 18.45293 | 1.886544 |\n",
       "\n"
      ],
      "text/plain": [
       "  mean     median   sd      \n",
       "1 18.38138 18.45293 1.886544"
      ]
     },
     "metadata": {},
     "output_type": "display_data"
    }
   ],
   "source": [
    "mean14 = mean(data14$AVG.Temp.)\n",
    "median14 = median(data14$AVG.Temp.)\n",
    "sd14 = sd(data14$AVG.Temp.)\n",
    "mean15 = mean(data15$AVG.Temp.)\n",
    "median15 = median(data15$AVG.Temp.)\n",
    "sd15 = sd(data15$AVG.Temp.)\n",
    "\n",
    "dfResults14 = data.frame(mean = mean14,\n",
    "                         median = median14,\n",
    "                         sd = sd14)\n",
    "dfResults15 = data.frame(mean = mean15,\n",
    "                         median = median15,\n",
    "                         sd = sd15)\n",
    "cat(\"Resultados para 2014\\n\")\n",
    "dfResults14\n",
    "cat(\"Resultados para 2015\\n\")\n",
    "dfResults15"
   ]
  },
  {
   "cell_type": "markdown",
   "metadata": {},
   "source": [
    "### Bootstrap\n",
    "\n",
    "Tecnica de remuestreo que consiste en generar nuevas pseudomuestras sustituyendo cada uno de los elementos de la muestra original por cualquier otro elemento elegido. Cada una de las nuevas psuedomuestras tiene el mismo número de elementos que la original. No todos los elementos de la muestra original tienen por qué aparecer en una pseudomuestra. Algunos elementos de la muestra orginal pueden aparecer repetidos en una pseudomuestra."
   ]
  },
  {
   "cell_type": "markdown",
   "metadata": {},
   "source": [
    "Crea una función que reciba un vector de números ‘x’ (la muestra original) y un número natural N, que genere una matriz que tenga N columnas siendo cada una de estas, una de las muestras de Bootstrap."
   ]
  },
  {
   "cell_type": "code",
   "execution_count": 6,
   "metadata": {},
   "outputs": [],
   "source": [
    "generateBootstrap = function(x, N){\n",
    "    n = length(x)\n",
    "    m = matrix(data = NA, nrow = n, ncol = N)\n",
    "    \n",
    "    for(i in 1:N){\n",
    "        m[,i] = sample(x, n, replace = TRUE)\n",
    "        }\n",
    "    return(m)\n",
    "}"
   ]
  },
  {
   "cell_type": "markdown",
   "metadata": {},
   "source": [
    "Calcular (para N=1000):\n",
    "\n",
    "■ La media y la desviación estándar de la media y compararlas con la obtenida anteriormente."
   ]
  },
  {
   "cell_type": "code",
   "execution_count": 7,
   "metadata": {},
   "outputs": [],
   "source": [
    "# Función para calcular la desviación estándar de Bootstrap\n",
    "SDB = function(BTdata, mean){\n",
    "    N = ncol(BTdata)\n",
    "    meansBT = colMeans(BTdata)\n",
    "    s = 1/(N-1)*sum((meansBT-mean)^2)\n",
    "    return(sqrt(s)) \n",
    "}"
   ]
  },
  {
   "cell_type": "code",
   "execution_count": 8,
   "metadata": {},
   "outputs": [
    {
     "name": "stdout",
     "output_type": "stream",
     "text": [
      "Resultados para 2014\n"
     ]
    },
    {
     "data": {
      "text/html": [
       "<table>\n",
       "<thead><tr><th scope=col>mean</th><th scope=col>sd</th></tr></thead>\n",
       "<tbody>\n",
       "\t<tr><td>17.67540 </td><td>1.8452886</td></tr>\n",
       "\t<tr><td>17.67669 </td><td>0.1508999</td></tr>\n",
       "</tbody>\n",
       "</table>\n"
      ],
      "text/latex": [
       "\\begin{tabular}{r|ll}\n",
       " mean & sd\\\\\n",
       "\\hline\n",
       "\t 17.67540  & 1.8452886\\\\\n",
       "\t 17.67669  & 0.1508999\\\\\n",
       "\\end{tabular}\n"
      ],
      "text/markdown": [
       "\n",
       "| mean | sd |\n",
       "|---|---|\n",
       "| 17.67540  | 1.8452886 |\n",
       "| 17.67669  | 0.1508999 |\n",
       "\n"
      ],
      "text/plain": [
       "  mean     sd       \n",
       "1 17.67540 1.8452886\n",
       "2 17.67669 0.1508999"
      ]
     },
     "metadata": {},
     "output_type": "display_data"
    },
    {
     "name": "stdout",
     "output_type": "stream",
     "text": [
      "Resultados para 2015\n"
     ]
    },
    {
     "data": {
      "text/html": [
       "<table>\n",
       "<thead><tr><th scope=col>mean</th><th scope=col>sd</th></tr></thead>\n",
       "<tbody>\n",
       "\t<tr><td>18.38138 </td><td>1.8865442</td></tr>\n",
       "\t<tr><td>18.38179 </td><td>0.1514443</td></tr>\n",
       "</tbody>\n",
       "</table>\n"
      ],
      "text/latex": [
       "\\begin{tabular}{r|ll}\n",
       " mean & sd\\\\\n",
       "\\hline\n",
       "\t 18.38138  & 1.8865442\\\\\n",
       "\t 18.38179  & 0.1514443\\\\\n",
       "\\end{tabular}\n"
      ],
      "text/markdown": [
       "\n",
       "| mean | sd |\n",
       "|---|---|\n",
       "| 18.38138  | 1.8865442 |\n",
       "| 18.38179  | 0.1514443 |\n",
       "\n"
      ],
      "text/plain": [
       "  mean     sd       \n",
       "1 18.38138 1.8865442\n",
       "2 18.38179 0.1514443"
      ]
     },
     "metadata": {},
     "output_type": "display_data"
    }
   ],
   "source": [
    "N = 1000\n",
    "muestraBT14 = generateBootstrap(data14$AVG.Temp., N)\n",
    "muestraBT15 = generateBootstrap(data15$AVG.Temp., N)\n",
    "\n",
    "meanBT14 = mean(apply(muestraBT14, MARGIN = 2, FUN = mean))\n",
    "meanBT15 = mean(apply(muestraBT15, MARGIN = 2, FUN = mean))\n",
    "sdBT14 = SDB(muestraBT14, mean14)\n",
    "sdBT15 = SDB(muestraBT15, mean15)\n",
    "\n",
    "dfResultsBT14 = data.frame(mean = meanBT14, sd = sdBT14)\n",
    "dfResultsBT15 = data.frame(mean = meanBT15, sd = sdBT15)\n",
    "cat(\"Resultados para 2014\\n\")\n",
    "rbind(dfResults14[-2],dfResultsBT14)\n",
    "cat(\"Resultados para 2015\\n\")\n",
    "rbind(dfResults15[-2],dfResultsBT15)"
   ]
  },
  {
   "cell_type": "markdown",
   "metadata": {},
   "source": [
    "Como podemos observar, las medias se mantienen muy parecidas, mientras que la desviación estándar disminuye notablemente al realizar Bootstrapping."
   ]
  },
  {
   "cell_type": "markdown",
   "metadata": {},
   "source": [
    "### Jacknife\n",
    "Tecnica de remuestreo que consiste en generar pseudomuestras de modo que cada vez se quita un elemento de la muestra original. Las muestras por tanto tendras tamaño de N-1."
   ]
  },
  {
   "cell_type": "markdown",
   "metadata": {},
   "source": [
    "Crea una función que reciba un vector de números 'x' (la muestra original) y genere una matriz que contenga todas las muestras posibles de jacknife de la muestra original."
   ]
  },
  {
   "cell_type": "code",
   "execution_count": 9,
   "metadata": {},
   "outputs": [],
   "source": [
    "generateJacknife = function(x){\n",
    "    n = length(x)\n",
    "    m = matrix(data = NA, nrow = n-1, ncol = n)\n",
    "    for(i in 1:n){\n",
    "       m[,i] = setdiff(x, x[i])\n",
    "    }\n",
    "    return(m)\n",
    "}"
   ]
  },
  {
   "cell_type": "markdown",
   "metadata": {},
   "source": [
    "Calcula:\n",
    "\n",
    "■ La media y la desviación estándar de la media y compararlas con la obtenida anteriormente."
   ]
  },
  {
   "cell_type": "code",
   "execution_count": 10,
   "metadata": {},
   "outputs": [],
   "source": [
    "# Función para calcular la desviación estándar de Jacknife\n",
    "SDJK = function(JKdata, mean){\n",
    "    N = ncol(JKdata)\n",
    "    meansJK = colMeans(JKdata)\n",
    "    s = N/(N-1)*sum((meansJK-mean)^2)\n",
    "    return(sqrt(s))\n",
    "}"
   ]
  },
  {
   "cell_type": "code",
   "execution_count": 11,
   "metadata": {},
   "outputs": [
    {
     "name": "stdout",
     "output_type": "stream",
     "text": [
      "Resultados para 2014\n"
     ]
    },
    {
     "data": {
      "text/html": [
       "<table>\n",
       "<thead><tr><th scope=col>mean</th><th scope=col>sd</th></tr></thead>\n",
       "<tbody>\n",
       "\t<tr><td>17.6754   </td><td>1.84528855</td></tr>\n",
       "\t<tr><td>17.6754   </td><td>0.01230192</td></tr>\n",
       "</tbody>\n",
       "</table>\n"
      ],
      "text/latex": [
       "\\begin{tabular}{r|ll}\n",
       " mean & sd\\\\\n",
       "\\hline\n",
       "\t 17.6754    & 1.84528855\\\\\n",
       "\t 17.6754    & 0.01230192\\\\\n",
       "\\end{tabular}\n"
      ],
      "text/markdown": [
       "\n",
       "| mean | sd |\n",
       "|---|---|\n",
       "| 17.6754    | 1.84528855 |\n",
       "| 17.6754    | 0.01230192 |\n",
       "\n"
      ],
      "text/plain": [
       "  mean    sd        \n",
       "1 17.6754 1.84528855\n",
       "2 17.6754 0.01230192"
      ]
     },
     "metadata": {},
     "output_type": "display_data"
    },
    {
     "name": "stdout",
     "output_type": "stream",
     "text": [
      "Resultados para 2015\n"
     ]
    },
    {
     "data": {
      "text/html": [
       "<table>\n",
       "<thead><tr><th scope=col>mean</th><th scope=col>sd</th></tr></thead>\n",
       "<tbody>\n",
       "\t<tr><td>18.38138  </td><td>1.88654424</td></tr>\n",
       "\t<tr><td>18.38138  </td><td>0.01257696</td></tr>\n",
       "</tbody>\n",
       "</table>\n"
      ],
      "text/latex": [
       "\\begin{tabular}{r|ll}\n",
       " mean & sd\\\\\n",
       "\\hline\n",
       "\t 18.38138   & 1.88654424\\\\\n",
       "\t 18.38138   & 0.01257696\\\\\n",
       "\\end{tabular}\n"
      ],
      "text/markdown": [
       "\n",
       "| mean | sd |\n",
       "|---|---|\n",
       "| 18.38138   | 1.88654424 |\n",
       "| 18.38138   | 0.01257696 |\n",
       "\n"
      ],
      "text/plain": [
       "  mean     sd        \n",
       "1 18.38138 1.88654424\n",
       "2 18.38138 0.01257696"
      ]
     },
     "metadata": {},
     "output_type": "display_data"
    }
   ],
   "source": [
    "muestraJK14 = generateJacknife(data14$AVG.Temp.)\n",
    "muestraJK15 = generateJacknife(data15$AVG.Temp.)\n",
    "\n",
    "meanJK14 = mean(apply(muestraJK14, MARGIN = 2, FUN = mean))\n",
    "meanJK15 = mean(apply(muestraJK15, MARGIN = 2, FUN = mean))\n",
    "sdJK14 = SDB(muestraJK14, mean14)\n",
    "sdJK15 = SDB(muestraJK15, mean15)\n",
    "\n",
    "dfResultsJK14 = data.frame(mean = meanJK14, sd = sdJK14)\n",
    "dfResultsJK15 = data.frame(mean = meanJK15, sd = sdJK15)\n",
    "cat(\"Resultados para 2014\\n\")\n",
    "rbind(dfResults14[-2],dfResultsJK14)\n",
    "cat(\"Resultados para 2015\\n\")\n",
    "rbind(dfResults15[-2],dfResultsJK15)"
   ]
  },
  {
   "cell_type": "markdown",
   "metadata": {},
   "source": [
    "En este caso, la media es exactamente la misma (en realidad, estamos utilizando los mismos datos, solo que reorganizados), mientras que la desviación estándar se ve enormemente reducida."
   ]
  }
 ],
 "metadata": {
  "kernelspec": {
   "display_name": "R",
   "language": "R",
   "name": "ir"
  },
  "language_info": {
   "codemirror_mode": "r",
   "file_extension": ".r",
   "mimetype": "text/x-r-source",
   "name": "R",
   "pygments_lexer": "r",
   "version": "3.6.3"
  }
 },
 "nbformat": 4,
 "nbformat_minor": 2
}
