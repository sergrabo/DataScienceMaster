{
 "cells": [
  {
   "cell_type": "markdown",
   "metadata": {},
   "source": [
    "## Práctica de Clasificación Lineal: Regresión Logística"
   ]
  },
  {
   "cell_type": "markdown",
   "metadata": {},
   "source": [
    "Daniel Garcia Diaz (garciad@ifca.unican.es)"
   ]
  },
  {
   "cell_type": "markdown",
   "metadata": {},
   "source": [
    "En esta práctica utilizaremos el dataset MNIST, compuesto por 60000 imágenes de train y 10000 imagenes de test (de 28x28 pixeles) correspondientes a distintas versiones digitalizadas de los dígitos 0, ..., 9. \n",
    "\n",
    "Descargamos el dataset que vamos a utilizar."
   ]
  },
  {
   "cell_type": "code",
   "execution_count": 60,
   "metadata": {},
   "outputs": [],
   "source": [
    "#Set the directory to be able to read the data properly\n",
    "rm(list=ls())\n",
    "# setwd(\"/home/jovyan/02-Estadistica/Parte2\")\n",
    "setwd(\"C:/Users/sergr/OneDrive/Universidad/MasterDataScience/NotebooksLocal\")\n",
    "\n",
    "\n",
    "#Install the necessary packages\n",
    "#install.packages(\"R.utils\")"
   ]
  },
  {
   "cell_type": "code",
   "execution_count": 61,
   "metadata": {},
   "outputs": [],
   "source": [
    "# download data from http://yann.lecun.com/exdb/mnist/\n",
    "download.file(\"http://yann.lecun.com/exdb/mnist/train-images-idx3-ubyte.gz\",\n",
    "              \"train-images-idx3-ubyte.gz\")\n",
    "download.file(\"http://yann.lecun.com/exdb/mnist/train-labels-idx1-ubyte.gz\",\n",
    "              \"train-labels-idx1-ubyte.gz\")\n",
    "download.file(\"http://yann.lecun.com/exdb/mnist/t10k-images-idx3-ubyte.gz\",\n",
    "              \"t10k-images-idx3-ubyte.gz\")\n",
    "download.file(\"http://yann.lecun.com/exdb/mnist/t10k-labels-idx1-ubyte.gz\",\n",
    "              \"t10k-labels-idx1-ubyte.gz\")\n",
    "\n",
    "# gunzip the files\n",
    "R.utils::gunzip(\"train-images-idx3-ubyte.gz\")\n",
    "R.utils::gunzip(\"train-labels-idx1-ubyte.gz\")\n",
    "R.utils::gunzip(\"t10k-images-idx3-ubyte.gz\")\n",
    "R.utils::gunzip(\"t10k-labels-idx1-ubyte.gz\")"
   ]
  },
  {
   "cell_type": "markdown",
   "metadata": {},
   "source": [
    "4 archivos diferentes para crear los datasets de train (x_train->train-image e y_train->train-labels) y de test (x->t10k-images e y->t10k-labels).\n",
    "\n",
    "Funciones para cargar los archivos\n"
   ]
  },
  {
   "cell_type": "code",
   "execution_count": 62,
   "metadata": {},
   "outputs": [],
   "source": [
    "# load image files\n",
    "load_image_file = function(filename) {\n",
    "  ret = list()\n",
    "  f = file(filename, 'rb')\n",
    "  readBin(f, 'integer', n = 1, size = 4, endian = 'big')\n",
    "  n    = readBin(f, 'integer', n = 1, size = 4, endian = 'big')\n",
    "  nrow = readBin(f, 'integer', n = 1, size = 4, endian = 'big')\n",
    "  ncol = readBin(f, 'integer', n = 1, size = 4, endian = 'big')\n",
    "  x = readBin(f, 'integer', n = n * nrow * ncol, size = 1, signed = FALSE)\n",
    "  close(f)\n",
    "  data.frame(matrix(x, ncol = nrow * ncol, byrow = TRUE))\n",
    "}\n",
    "\n",
    "# load label files\n",
    "load_label_file = function(filename) {\n",
    "  f = file(filename, 'rb')\n",
    "  readBin(f, 'integer', n = 1, size = 4, endian = 'big')\n",
    "  n = readBin(f, 'integer', n = 1, size = 4, endian = 'big')\n",
    "  y = readBin(f, 'integer', n = n, size = 1, signed = FALSE)\n",
    "  close(f)\n",
    "  y\n",
    "}"
   ]
  },
  {
   "cell_type": "code",
   "execution_count": 63,
   "metadata": {},
   "outputs": [],
   "source": [
    "# load images\n",
    "x_train = load_image_file(\"train-images-idx3-ubyte\")\n",
    "x_test  = load_image_file(\"t10k-images-idx3-ubyte\")\n",
    "\n",
    "# load labels\n",
    "y_train = load_label_file(\"train-labels-idx1-ubyte\")\n",
    "y_test  = load_label_file(\"t10k-labels-idx1-ubyte\")"
   ]
  },
  {
   "cell_type": "markdown",
   "metadata": {},
   "source": [
    "Dibujamos los 6 primeros digitos para ver el dataset que tenemos"
   ]
  },
  {
   "cell_type": "code",
   "execution_count": 64,
   "metadata": {},
   "outputs": [
    {
     "data": {
      "image/png": "[encoded data removed]",
      "text/plain": [
       "Plot with title \"2\""
      ]
     },
     "metadata": {
      "image/png": {
       "height": 420,
       "width": 420
      }
     },
     "output_type": "display_data"
    }
   ],
   "source": [
    "# Dibujamos los 6 primeros dígitos de la base de datos\n",
    "par(mfrow = c(2,3))\n",
    "for (i in 1:6) {\n",
    "    image(matrix(as.matrix(x_train[i,1:784]), nrow = 28, ncol = 28))\n",
    "    title(y_train[i])\n",
    "}"
   ]
  },
  {
   "cell_type": "code",
   "execution_count": 65,
   "metadata": {},
   "outputs": [
    {
     "data": {
      "image/png": "[encoded data removed]",
      "text/plain": [
       "Plot with title \"Histogram of y_train\""
      ]
     },
     "metadata": {
      "image/png": {
       "height": 420,
       "width": 420
      }
     },
     "output_type": "display_data"
    }
   ],
   "source": [
    "# Cada dígito está igualmente representado en la muestra\n",
    "hist(y_train, breaks = -0.5:9.5)"
   ]
  },
  {
   "cell_type": "markdown",
   "metadata": {},
   "source": [
    "El objetivo es clasificar correctamente cada una de las imágenes, utilizando el valor de los 784 pixeles. Este problema se encuandra dentro de la clasificación multi-categoría (tenemos 10 posibles clases a predicir para cada dato). \n",
    "\n",
    "Para simplificar estos problemas, se suelen consideran tantos problemas binarios (predecir sí o no) independientes como categorías se tengan. Es decir, un modelo para clasificar 0 (si o no), otro para 1, etc. En este ejemplo, consideramos el dígito '9' y el objetivo es predecir si una imagen es 9 o no."
   ]
  },
  {
   "cell_type": "code",
   "execution_count": 66,
   "metadata": {},
   "outputs": [],
   "source": [
    "# Seleccionamos un dígito concreto para tratar de predecirlo. Por ejemplo el nueve\n",
    "# y9 = 1 si el dígito es 9 y 0 en caso contrario\n",
    "y9 <- y_train;\n",
    "y9[which(y_train != 9)] <- 0 ; y9[which(y_train == 9)] <- 1"
   ]
  },
  {
   "cell_type": "code",
   "execution_count": 67,
   "metadata": {},
   "outputs": [],
   "source": [
    "# Construimos un dataframe para entrenar el modelo\n",
    "dat <- data.frame(y9,x_train)"
   ]
  },
  {
   "cell_type": "markdown",
   "metadata": {},
   "source": [
    "Como el tamaño de la muestra es muy grande (60000 imagenes), seleccionamos una muestra para entrenar; por ejemplo, los 5000 primeros dígitos."
   ]
  },
  {
   "cell_type": "code",
   "execution_count": 68,
   "metadata": {},
   "outputs": [],
   "source": [
    "i<- 1:5000;\n",
    "j<-5001:10000\n",
    "#Random sampling\n",
    "#i<-sample(1:dim(x)[1],5000);\n",
    "datT <- dat[i,]\n",
    "datt <- dat[j,]"
   ]
  },
  {
   "cell_type": "markdown",
   "metadata": {},
   "source": [
    "Aunque no es el modelo adecuado, ya que no está acotada y puede tomar valores mucho mayores que 1 o menores que 0, construimos primero un modelo de regresión lineal para estos datos."
   ]
  },
  {
   "cell_type": "code",
   "execution_count": 69,
   "metadata": {},
   "outputs": [
    {
     "data": {
      "image/png": "[encoded data removed]",
      "text/plain": [
       "Plot with title \"Histogram of out\""
      ]
     },
     "metadata": {
      "image/png": {
       "height": 420,
       "width": 420
      }
     },
     "output_type": "display_data"
    }
   ],
   "source": [
    "# Entrenamos primero un modelo lineal\n",
    "model <- lm(datT$y9~., data = datT)\n",
    "out <- model$fitted.values\n",
    "# El histograma muestra valores predichos (incluyendo negativos y mayores que 1)\n",
    "hist(out)"
   ]
  },
  {
   "cell_type": "markdown",
   "metadata": {},
   "source": [
    "Hacemos la salida del modelo binaria considerando el umbral en 0.5 (a modo de probabilidad) y calculamos la tasa de acierto con los datos de train"
   ]
  },
  {
   "cell_type": "code",
   "execution_count": 70,
   "metadata": {},
   "outputs": [
    {
     "data": {
      "text/html": [
       "96.18"
      ],
      "text/latex": [
       "96.18"
      ],
      "text/markdown": [
       "96.18"
      ],
      "text/plain": [
       "[1] 96.18"
      ]
     },
     "metadata": {},
     "output_type": "display_data"
    }
   ],
   "source": [
    "# Hacemos binaria la salida considerando el umbral 0.5 (a modo de probabilidad)\n",
    "outbin <- as.double(out > 0.5)\n",
    "\n",
    "# Tasa de acierto (en entrenamiento)\n",
    "100*sum(diag(table(datT[,1], outbin))) / length(outbin)"
   ]
  },
  {
   "cell_type": "code",
   "execution_count": 71,
   "metadata": {},
   "outputs": [
    {
     "data": {
      "text/plain": [
       "   outbin\n",
       "       0    1\n",
       "  0 4474   31\n",
       "  1  160  335"
      ]
     },
     "metadata": {},
     "output_type": "display_data"
    }
   ],
   "source": [
    "table(datT[,1], outbin)"
   ]
  },
  {
   "cell_type": "code",
   "execution_count": 72,
   "metadata": {},
   "outputs": [
    {
     "name": "stderr",
     "output_type": "stream",
     "text": [
      "Warning message in predict.lm(object = model, newdata = datt):\n",
      "\"prediction from a rank-deficient fit may be misleading\"\n"
     ]
    },
    {
     "data": {
      "text/html": [
       "94.68"
      ],
      "text/latex": [
       "94.68"
      ],
      "text/markdown": [
       "94.68"
      ],
      "text/plain": [
       "[1] 94.68"
      ]
     },
     "metadata": {},
     "output_type": "display_data"
    }
   ],
   "source": [
    "# Tasa de acierto de test\n",
    "out1<- predict(object=model, newdata = datt);\n",
    "outbin1 <- as.double(out1 > 0.5)\n",
    "100*sum(diag(table(datt[,1], outbin1))) / length(outbin1)"
   ]
  },
  {
   "cell_type": "code",
   "execution_count": 73,
   "metadata": {},
   "outputs": [
    {
     "data": {
      "text/plain": [
       "   outbin1\n",
       "       0    1\n",
       "  0 4420   97\n",
       "  1  169  314"
      ]
     },
     "metadata": {},
     "output_type": "display_data"
    },
    {
     "data": {
      "text/html": [
       "<dl class=dl-horizontal>\n",
       "\t<dt>0</dt>\n",
       "\t\t<dd>0.884</dd>\n",
       "\t<dt>1</dt>\n",
       "\t\t<dd>0.0628</dd>\n",
       "</dl>\n"
      ],
      "text/latex": [
       "\\begin{description*}\n",
       "\\item[0] 0.884\n",
       "\\item[1] 0.0628\n",
       "\\end{description*}\n"
      ],
      "text/markdown": [
       "0\n",
       ":   0.8841\n",
       ":   0.0628\n",
       "\n"
      ],
      "text/plain": [
       "     0      1 \n",
       "0.8840 0.0628 "
      ]
     },
     "metadata": {},
     "output_type": "display_data"
    },
    {
     "data": {
      "text/html": [
       "0.949225630709094"
      ],
      "text/latex": [
       "0.949225630709094"
      ],
      "text/markdown": [
       "0.949225630709094"
      ],
      "text/plain": [
       "[1] 0.9492256"
      ]
     },
     "metadata": {},
     "output_type": "display_data"
    },
    {
     "data": {
      "image/png": "[encoded data removed]",
      "text/plain": [
       "plot without title"
      ]
     },
     "metadata": {
      "image/png": {
       "height": 420,
       "width": 420
      }
     },
     "output_type": "display_data"
    }
   ],
   "source": [
    "# install.packages(\"AUC\")\n",
    "library(\"AUC\")\n",
    "roc <-roc(out1, as.factor(datt[,1]))\n",
    "table(datt[,1], outbin1)\n",
    "diag(table(datt[,1], outbin1)) / length(outbin1)\n",
    "auc(roc)\n",
    "plot(roc)"
   ]
  },
  {
   "cell_type": "markdown",
   "metadata": {},
   "source": [
    "Ahora construimos un modelo de regresión logística utilizando la función 'glm' con la familia 'family = binomial(link = \"logit\")'"
   ]
  },
  {
   "cell_type": "code",
   "execution_count": 74,
   "metadata": {},
   "outputs": [
    {
     "name": "stderr",
     "output_type": "stream",
     "text": [
      "Warning message:\n",
      "\"glm.fit: fitted probabilities numerically 0 or 1 occurred\"\n"
     ]
    },
    {
     "data": {
      "text/html": [
       "98.06"
      ],
      "text/latex": [
       "98.06"
      ],
      "text/markdown": [
       "98.06"
      ],
      "text/plain": [
       "[1] 98.06"
      ]
     },
     "metadata": {},
     "output_type": "display_data"
    }
   ],
   "source": [
    "model1 <- glm(datT$y9~., data = datT, family = binomial(link = \"logit\"))\n",
    "\n",
    "\n",
    "# Problemas de convergencia con tantas variables\n",
    "# Coefficients: (138 not defined because of singularities)\n",
    "# Tasa de acierto (Train)\n",
    "out2 <- model1$fitted.values\n",
    "outbin2 <- as.double(out2 > 0.5)\n",
    "100*sum(diag(table(datT[,1], outbin2))) / length(outbin2)"
   ]
  },
  {
   "cell_type": "code",
   "execution_count": 75,
   "metadata": {},
   "outputs": [
    {
     "data": {
      "image/png": "[encoded data removed]",
      "text/plain": [
       "Plot with title \"Histogram of out2\""
      ]
     },
     "metadata": {
      "image/png": {
       "height": 420,
       "width": 420
      }
     },
     "output_type": "display_data"
    }
   ],
   "source": [
    "hist(out2)"
   ]
  },
  {
   "cell_type": "code",
   "execution_count": 76,
   "metadata": {},
   "outputs": [
    {
     "name": "stderr",
     "output_type": "stream",
     "text": [
      "Warning message in predict.lm(object, newdata, se.fit, scale = 1, type = if (type == :\n",
      "\"prediction from a rank-deficient fit may be misleading\"\n"
     ]
    },
    {
     "data": {
      "text/html": [
       "92.08"
      ],
      "text/latex": [
       "92.08"
      ],
      "text/markdown": [
       "92.08"
      ],
      "text/plain": [
       "[1] 92.08"
      ]
     },
     "metadata": {},
     "output_type": "display_data"
    }
   ],
   "source": [
    "# Tasa de acierto (test)\n",
    "out3<- predict(object=model1, newdata = datt);\n",
    "outbin3 <- as.double(out3 > 0.5)\n",
    "100*sum(diag(table(datt[,1], outbin3))) / length(outbin3)"
   ]
  },
  {
   "cell_type": "markdown",
   "metadata": {},
   "source": [
    "Las inestabilidades numéricas se producen por la alta dimensionalidad de los datos. Algunos de los coeficientes resultan redundantes y el proceso de optimización no converge.\n",
    "### (195 not defined because of singularities)."
   ]
  },
  {
   "cell_type": "markdown",
   "metadata": {},
   "source": [
    "Una solución a este problema es reducir la dimensionalidad del conjunto de predictores. Para ello existen técnicas eficientes (como los métodos de regularización o las Componentes Principales) que se verán más adelante. En esta práctica utilizamos un entresacado de información, considerando sólo uno de cada 20 pixeles."
   ]
  },
  {
   "cell_type": "code",
   "execution_count": 77,
   "metadata": {},
   "outputs": [
    {
     "data": {
      "text/html": [
       "90.28"
      ],
      "text/latex": [
       "90.28"
      ],
      "text/markdown": [
       "90.28"
      ],
      "text/plain": [
       "[1] 90.28"
      ]
     },
     "metadata": {},
     "output_type": "display_data"
    },
    {
     "name": "stderr",
     "output_type": "stream",
     "text": [
      "Warning message in predict.lm(object = model, newdata = datt[, j]):\n",
      "\"prediction from a rank-deficient fit may be misleading\"\n"
     ]
    },
    {
     "data": {
      "text/html": [
       "91.1"
      ],
      "text/latex": [
       "91.1"
      ],
      "text/markdown": [
       "91.1"
      ],
      "text/plain": [
       "[1] 91.1"
      ]
     },
     "metadata": {},
     "output_type": "display_data"
    }
   ],
   "source": [
    "#Modelo de regresión lineal\n",
    "j<-seq(1,784,20)\n",
    "model <- lm(datT$y9~., data = datT[,j])\n",
    "out <- model$fitted.values\n",
    "outbin <- as.double(out > 0.5)\n",
    "100*sum(diag(table(datT[,1], outbin))) / length(outbin)\n",
    "out1<- predict(object=model, newdata = datt[,j]);\n",
    "outbin1 <- as.double(out1 > 0.5)\n",
    "100*sum(diag(table(datt[,1], outbin1))) / length(outbin1)"
   ]
  },
  {
   "cell_type": "code",
   "execution_count": 78,
   "metadata": {
    "scrolled": true
   },
   "outputs": [
    {
     "name": "stderr",
     "output_type": "stream",
     "text": [
      "Warning message:\n",
      "\"glm.fit: fitted probabilities numerically 0 or 1 occurred\"\n"
     ]
    },
    {
     "data": {
      "text/html": [
       "92.02"
      ],
      "text/latex": [
       "92.02"
      ],
      "text/markdown": [
       "92.02"
      ],
      "text/plain": [
       "[1] 92.02"
      ]
     },
     "metadata": {},
     "output_type": "display_data"
    },
    {
     "name": "stderr",
     "output_type": "stream",
     "text": [
      "Warning message in predict.lm(object, newdata, se.fit, scale = 1, type = if (type == :\n",
      "\"prediction from a rank-deficient fit may be misleading\"\n"
     ]
    },
    {
     "data": {
      "text/html": [
       "92.26"
      ],
      "text/latex": [
       "92.26"
      ],
      "text/markdown": [
       "92.26"
      ],
      "text/plain": [
       "[1] 92.26"
      ]
     },
     "metadata": {},
     "output_type": "display_data"
    }
   ],
   "source": [
    "#Regresión logística\n",
    "j<-seq(1,784,20)\n",
    "model <- glm(datT$y9~., data = datT[,j], family = binomial(link = \"logit\"))\n",
    "out <- model$fitted.values\n",
    "outbin <- as.double(out > 0.5)\n",
    "100*sum(diag(table(datT[,1], outbin))) / length(outbin)\n",
    "out1<- predict(object=model, newdata = datt[,j]);\n",
    "outbin1 <- as.double(out1 > 0.5)\n",
    "100*sum(diag(table(datt[,1], outbin1))) / length(outbin1)"
   ]
  },
  {
   "cell_type": "markdown",
   "metadata": {},
   "source": [
    "PRACTICA 1: Construir un modelo de clasificación para cada dígito, y obtener una ranking de los dígitos en base a su capacidad predictiva (el primero el que mejor se predice, etc.). Para evaluar la capacidad predictiva considerando el error de test obtenido al separar aleatoriamente la muestra en un conjunto de train (n=10000) y el resto de test. \n",
    "\n",
    "Nota: usar la función 'sample'. \n",
    "Nota2: Elige un entresacado óptimo para que la capacidad predictiva no se reduzca y se reduzca la dimensión el máximo posible."
   ]
  },
  {
   "cell_type": "markdown",
   "metadata": {},
   "source": [
    "En primer lugar, implementamos el caracter binario de la clasificación, convirtiendo el dataset `y_train` que contiene los tags para cada dígito en una sucesión de 0's y 1's en función de si el dígito en cuestión está presente o no."
   ]
  },
  {
   "cell_type": "code",
   "execution_count": 79,
   "metadata": {
    "scrolled": true
   },
   "outputs": [],
   "source": [
    "## Implementamos el caracter binario de la clasificación \n",
    "yall = matrix(nrow = length(y_train), ncol = 10)\n",
    "\n",
    "for (i in 1:10){\n",
    "    yall[, i] = y_train\n",
    "    yall[, i][which(y_train != i-1)] = 0\n",
    "    yall[, i][which(y_train == i-1)] = 1\n",
    "}"
   ]
  },
  {
   "cell_type": "markdown",
   "metadata": {},
   "source": [
    "A continuación, separamos los conjutos en *train* y *test*, denotados por `T` y `t` respectivamente. Utilizamos un sampling aleatorio del conjunto total, quedándonos con 10000 muestras para *train* y las 50000 restantes para *test*."
   ]
  },
  {
   "cell_type": "code",
   "execution_count": 80,
   "metadata": {},
   "outputs": [],
   "source": [
    "## Random sampling\n",
    "n = dim(x_train)[1]\n",
    "m = 10000\n",
    "i = sample(1:n, m)\n",
    "j = setdiff(1:n, i)\n",
    "xT = x_train[i,]\n",
    "xt = x_train[j,]\n",
    "yT = yall[i,]\n",
    "yt = yall[j,]"
   ]
  },
  {
   "cell_type": "markdown",
   "metadata": {},
   "source": [
    "Finalmente, realizamos la regresión lineal mediante la función `glm()` para cada dígito. Previamente, realizamos un entresacado de los datos para reducir la dimensionalidad del problema, quedándonos con 1 de cada 20 píxeles. Este entresacado se ha escogido de manera arbitraria; otros posibles podrían ser por ejemplo una selección aleatoria de cierto número de píxeles, quedarnos con la zona central de la imagen (haciendo la media por columnas y eliminando aquellas con media nula), o un análisis de componentes principales (PCA). En cualquier caso, el objetivo es el mismo: reducir el número de predictores para un menor coste computacional.\n",
    "\n",
    "Para cuantificar la calidad de la predicción, tanto sobre el conjunto de *train* como de *test* calculamos el *accuracy* como:\n",
    "\n",
    "$$\n",
    "acc = \\frac{\\sum_i M_{ii}}{L_c}\n",
    "$$\n",
    "\n",
    "donde $M$ es la matriz de confusión entre los predictandos (labels y) del conjunto de datos y el conjunto de predicción (ya sea *train* o *test*), para el cuál utilizamos como criterio que se predice el dígito si el output de la regresión es mayor que $0.5$. $L_c$ corresponde a la longitud del conjunto que estudiemos, *train* o *test*. Finalemente, comparamos los resultados para ambos conjuntos."
   ]
  },
  {
   "cell_type": "code",
   "execution_count": 81,
   "metadata": {
    "scrolled": true
   },
   "outputs": [
    {
     "name": "stderr",
     "output_type": "stream",
     "text": [
      "Warning message:\n",
      "\"glm.fit: fitted probabilities numerically 0 or 1 occurred\"\n",
      "Warning message in predict.lm(object, newdata, se.fit, scale = 1, type = if (type == :\n",
      "\"prediction from a rank-deficient fit may be misleading\"\n",
      "Warning message:\n",
      "\"glm.fit: algorithm did not converge\"\n",
      "Warning message:\n",
      "\"glm.fit: fitted probabilities numerically 0 or 1 occurred\"\n",
      "Warning message in predict.lm(object, newdata, se.fit, scale = 1, type = if (type == :\n",
      "\"prediction from a rank-deficient fit may be misleading\"\n",
      "Warning message:\n",
      "\"glm.fit: fitted probabilities numerically 0 or 1 occurred\"\n",
      "Warning message in predict.lm(object, newdata, se.fit, scale = 1, type = if (type == :\n",
      "\"prediction from a rank-deficient fit may be misleading\"\n",
      "Warning message:\n",
      "\"glm.fit: fitted probabilities numerically 0 or 1 occurred\"\n",
      "Warning message in predict.lm(object, newdata, se.fit, scale = 1, type = if (type == :\n",
      "\"prediction from a rank-deficient fit may be misleading\"\n",
      "Warning message:\n",
      "\"glm.fit: fitted probabilities numerically 0 or 1 occurred\"\n",
      "Warning message in predict.lm(object, newdata, se.fit, scale = 1, type = if (type == :\n",
      "\"prediction from a rank-deficient fit may be misleading\"\n",
      "Warning message:\n",
      "\"glm.fit: fitted probabilities numerically 0 or 1 occurred\"\n",
      "Warning message in predict.lm(object, newdata, se.fit, scale = 1, type = if (type == :\n",
      "\"prediction from a rank-deficient fit may be misleading\"\n",
      "Warning message:\n",
      "\"glm.fit: fitted probabilities numerically 0 or 1 occurred\"\n",
      "Warning message in predict.lm(object, newdata, se.fit, scale = 1, type = if (type == :\n",
      "\"prediction from a rank-deficient fit may be misleading\"\n",
      "Warning message:\n",
      "\"glm.fit: fitted probabilities numerically 0 or 1 occurred\"\n",
      "Warning message in predict.lm(object, newdata, se.fit, scale = 1, type = if (type == :\n",
      "\"prediction from a rank-deficient fit may be misleading\"\n",
      "Warning message:\n",
      "\"glm.fit: fitted probabilities numerically 0 or 1 occurred\"\n",
      "Warning message in predict.lm(object, newdata, se.fit, scale = 1, type = if (type == :\n",
      "\"prediction from a rank-deficient fit may be misleading\"\n",
      "Warning message:\n",
      "\"glm.fit: fitted probabilities numerically 0 or 1 occurred\"\n",
      "Warning message in predict.lm(object, newdata, se.fit, scale = 1, type = if (type == :\n",
      "\"prediction from a rank-deficient fit may be misleading\"\n"
     ]
    }
   ],
   "source": [
    "outT = matrix(data = NA, nrow = m, ncol = 10)\n",
    "outt = matrix(data = NA, nrow = n-m, ncol = 10)\n",
    "accT = c()\n",
    "acct = c()\n",
    "for (i in 1:10){\n",
    "    # Reducción de la dimensionalidad\n",
    "    mask = seq(1,784,20)\n",
    "    \n",
    "    # Construcción de Dataframes\n",
    "    datT = data.frame(y = yT[,i],xT)\n",
    "    datt = data.frame(y = yt[,i],xt)\n",
    "    \n",
    "    # Regresión logística con conjunto Train\n",
    "    model = glm(datT$y~., data = datT[,mask], family = binomial(link = \"logit\"))\n",
    "    outT[, i] = model$fitted.values\n",
    "    outbinT = as.double(outT[, i] > 0.5)\n",
    "    accT = c(accT,\n",
    "             sum(diag(table(datT[,1], outbinT))) / length(outbinT))\n",
    "    \n",
    "    # Predicción con conjunto test\n",
    "    outt[, i] = predict(object=model, newdata = datt[,mask])\n",
    "    outbint = as.double(outt[, i] > 0.5)\n",
    "    acct = c(acct,\n",
    "             sum(diag(table(datt[,1], outbint))) / length(outbint))\n",
    "}"
   ]
  },
  {
   "cell_type": "code",
   "execution_count": 82,
   "metadata": {
    "scrolled": false
   },
   "outputs": [
    {
     "data": {
      "text/html": [
       "<table>\n",
       "<thead><tr><th scope=col>idTrain</th><th scope=col>AccuracyTrain</th><th scope=col>idtest</th><th scope=col>AccuracyTest</th></tr></thead>\n",
       "<tbody>\n",
       "\t<tr><td>0      </td><td>0.9647 </td><td>0      </td><td>0.96338</td></tr>\n",
       "\t<tr><td>1      </td><td>0.9601 </td><td>1      </td><td>0.96214</td></tr>\n",
       "\t<tr><td>2      </td><td>0.9489 </td><td>7      </td><td>0.94802</td></tr>\n",
       "\t<tr><td>7      </td><td>0.9477 </td><td>2      </td><td>0.94434</td></tr>\n",
       "\t<tr><td>6      </td><td>0.9401 </td><td>6      </td><td>0.93386</td></tr>\n",
       "\t<tr><td>4      </td><td>0.9397 </td><td>4      </td><td>0.93228</td></tr>\n",
       "\t<tr><td>5      </td><td>0.9278 </td><td>5      </td><td>0.92680</td></tr>\n",
       "\t<tr><td>3      </td><td>0.9267 </td><td>8      </td><td>0.92332</td></tr>\n",
       "\t<tr><td>8      </td><td>0.9231 </td><td>3      </td><td>0.92242</td></tr>\n",
       "\t<tr><td>9      </td><td>0.9191 </td><td>9      </td><td>0.91562</td></tr>\n",
       "</tbody>\n",
       "</table>\n"
      ],
      "text/latex": [
       "\\begin{tabular}{r|llll}\n",
       " idTrain & AccuracyTrain & idtest & AccuracyTest\\\\\n",
       "\\hline\n",
       "\t 0       & 0.9647  & 0       & 0.96338\\\\\n",
       "\t 1       & 0.9601  & 1       & 0.96214\\\\\n",
       "\t 2       & 0.9489  & 7       & 0.94802\\\\\n",
       "\t 7       & 0.9477  & 2       & 0.94434\\\\\n",
       "\t 6       & 0.9401  & 6       & 0.93386\\\\\n",
       "\t 4       & 0.9397  & 4       & 0.93228\\\\\n",
       "\t 5       & 0.9278  & 5       & 0.92680\\\\\n",
       "\t 3       & 0.9267  & 8       & 0.92332\\\\\n",
       "\t 8       & 0.9231  & 3       & 0.92242\\\\\n",
       "\t 9       & 0.9191  & 9       & 0.91562\\\\\n",
       "\\end{tabular}\n"
      ],
      "text/markdown": [
       "\n",
       "| idTrain | AccuracyTrain | idtest | AccuracyTest |\n",
       "|---|---|---|---|\n",
       "| 0       | 0.9647  | 0       | 0.96338 |\n",
       "| 1       | 0.9601  | 1       | 0.96214 |\n",
       "| 2       | 0.9489  | 7       | 0.94802 |\n",
       "| 7       | 0.9477  | 2       | 0.94434 |\n",
       "| 6       | 0.9401  | 6       | 0.93386 |\n",
       "| 4       | 0.9397  | 4       | 0.93228 |\n",
       "| 5       | 0.9278  | 5       | 0.92680 |\n",
       "| 3       | 0.9267  | 8       | 0.92332 |\n",
       "| 8       | 0.9231  | 3       | 0.92242 |\n",
       "| 9       | 0.9191  | 9       | 0.91562 |\n",
       "\n"
      ],
      "text/plain": [
       "   idTrain AccuracyTrain idtest AccuracyTest\n",
       "1  0       0.9647        0      0.96338     \n",
       "2  1       0.9601        1      0.96214     \n",
       "3  2       0.9489        7      0.94802     \n",
       "4  7       0.9477        2      0.94434     \n",
       "5  6       0.9401        6      0.93386     \n",
       "6  4       0.9397        4      0.93228     \n",
       "7  5       0.9278        5      0.92680     \n",
       "8  3       0.9267        8      0.92332     \n",
       "9  8       0.9231        3      0.92242     \n",
       "10 9       0.9191        9      0.91562     "
      ]
     },
     "metadata": {},
     "output_type": "display_data"
    }
   ],
   "source": [
    "# Resultados\n",
    "data.frame(idTrain = order(accT, decreasing = TRUE) - 1,\n",
    "           AccuracyTrain = sort(accT, decreasing = TRUE),\n",
    "           idtest = order(acct, decreasing = TRUE) - 1,\n",
    "           AccuracyTest = sort(acct, decreasing = TRUE))"
   ]
  },
  {
   "cell_type": "markdown",
   "metadata": {},
   "source": [
    "Como podemos observar, los resultados de *accuracy* obtenidos son bastante buenos, tanto para el conjunto de *train* como de *test*, siendo ligeramente inferiores para este último. También se observa cómo ambos..."
   ]
  },
  {
   "cell_type": "markdown",
   "metadata": {},
   "source": [
    "PRACTICA 2: Tener en cuenta la variabilidad del error de test a la hora de construir el ranking anterior. Para ello, además de calcular la tasa de acierto para cada dígito, considerar también un \"intervalo de confianza\" obtenido como la dispersión (desviación típica) de 10 medidas de test obtenidas con 10 muestras aleatorias distintas. ¿Existe algún dígito que pueda predecirse significativamente mejor que los demás?"
   ]
  },
  {
   "cell_type": "code",
   "execution_count": 83,
   "metadata": {
    "scrolled": true
   },
   "outputs": [
    {
     "name": "stderr",
     "output_type": "stream",
     "text": [
      "Warning message:\n",
      "\"glm.fit: fitted probabilities numerically 0 or 1 occurred\"\n",
      "Warning message in predict.lm(object, newdata, se.fit, scale = 1, type = if (type == :\n",
      "\"prediction from a rank-deficient fit may be misleading\"\n",
      "Warning message:\n",
      "\"glm.fit: fitted probabilities numerically 0 or 1 occurred\"\n",
      "Warning message in predict.lm(object, newdata, se.fit, scale = 1, type = if (type == :\n",
      "\"prediction from a rank-deficient fit may be misleading\"\n",
      "Warning message:\n",
      "\"glm.fit: fitted probabilities numerically 0 or 1 occurred\"\n",
      "Warning message in predict.lm(object, newdata, se.fit, scale = 1, type = if (type == :\n",
      "\"prediction from a rank-deficient fit may be misleading\"\n",
      "Warning message:\n",
      "\"glm.fit: fitted probabilities numerically 0 or 1 occurred\"\n",
      "Warning message in predict.lm(object, newdata, se.fit, scale = 1, type = if (type == :\n",
      "\"prediction from a rank-deficient fit may be misleading\"\n",
      "Warning message:\n",
      "\"glm.fit: fitted probabilities numerically 0 or 1 occurred\"\n",
      "Warning message in predict.lm(object, newdata, se.fit, scale = 1, type = if (type == :\n",
      "\"prediction from a rank-deficient fit may be misleading\"\n",
      "Warning message:\n",
      "\"glm.fit: fitted probabilities numerically 0 or 1 occurred\"\n",
      "Warning message in predict.lm(object, newdata, se.fit, scale = 1, type = if (type == :\n",
      "\"prediction from a rank-deficient fit may be misleading\"\n",
      "Warning message:\n",
      "\"glm.fit: fitted probabilities numerically 0 or 1 occurred\"\n",
      "Warning message in predict.lm(object, newdata, se.fit, scale = 1, type = if (type == :\n",
      "\"prediction from a rank-deficient fit may be misleading\"\n",
      "Warning message:\n",
      "\"glm.fit: algorithm did not converge\"\n",
      "Warning message:\n",
      "\"glm.fit: fitted probabilities numerically 0 or 1 occurred\"\n",
      "Warning message in predict.lm(object, newdata, se.fit, scale = 1, type = if (type == :\n",
      "\"prediction from a rank-deficient fit may be misleading\"\n",
      "Warning message:\n",
      "\"glm.fit: fitted probabilities numerically 0 or 1 occurred\"\n",
      "Warning message in predict.lm(object, newdata, se.fit, scale = 1, type = if (type == :\n",
      "\"prediction from a rank-deficient fit may be misleading\"\n",
      "Warning message:\n",
      "\"glm.fit: fitted probabilities numerically 0 or 1 occurred\"\n",
      "Warning message in predict.lm(object, newdata, se.fit, scale = 1, type = if (type == :\n",
      "\"prediction from a rank-deficient fit may be misleading\"\n",
      "Warning message:\n",
      "\"glm.fit: fitted probabilities numerically 0 or 1 occurred\"\n",
      "Warning message in predict.lm(object, newdata, se.fit, scale = 1, type = if (type == :\n",
      "\"prediction from a rank-deficient fit may be misleading\"\n",
      "Warning message:\n",
      "\"glm.fit: fitted probabilities numerically 0 or 1 occurred\"\n",
      "Warning message in predict.lm(object, newdata, se.fit, scale = 1, type = if (type == :\n",
      "\"prediction from a rank-deficient fit may be misleading\"\n",
      "Warning message:\n",
      "\"glm.fit: fitted probabilities numerically 0 or 1 occurred\"\n",
      "Warning message in predict.lm(object, newdata, se.fit, scale = 1, type = if (type == :\n",
      "\"prediction from a rank-deficient fit may be misleading\"\n",
      "Warning message:\n",
      "\"glm.fit: fitted probabilities numerically 0 or 1 occurred\"\n",
      "Warning message in predict.lm(object, newdata, se.fit, scale = 1, type = if (type == :\n",
      "\"prediction from a rank-deficient fit may be misleading\"\n",
      "Warning message:\n",
      "\"glm.fit: fitted probabilities numerically 0 or 1 occurred\"\n",
      "Warning message in predict.lm(object, newdata, se.fit, scale = 1, type = if (type == :\n",
      "\"prediction from a rank-deficient fit may be misleading\"\n",
      "Warning message:\n",
      "\"glm.fit: fitted probabilities numerically 0 or 1 occurred\"\n",
      "Warning message in predict.lm(object, newdata, se.fit, scale = 1, type = if (type == :\n",
      "\"prediction from a rank-deficient fit may be misleading\"\n",
      "Warning message:\n",
      "\"glm.fit: fitted probabilities numerically 0 or 1 occurred\"\n",
      "Warning message in predict.lm(object, newdata, se.fit, scale = 1, type = if (type == :\n",
      "\"prediction from a rank-deficient fit may be misleading\"\n",
      "Warning message:\n",
      "\"glm.fit: algorithm did not converge\"\n",
      "Warning message:\n",
      "\"glm.fit: fitted probabilities numerically 0 or 1 occurred\"\n",
      "Warning message in predict.lm(object, newdata, se.fit, scale = 1, type = if (type == :\n",
      "\"prediction from a rank-deficient fit may be misleading\"\n",
      "Warning message:\n",
      "\"glm.fit: fitted probabilities numerically 0 or 1 occurred\"\n",
      "Warning message in predict.lm(object, newdata, se.fit, scale = 1, type = if (type == :\n",
      "\"prediction from a rank-deficient fit may be misleading\"\n",
      "Warning message:\n",
      "\"glm.fit: fitted probabilities numerically 0 or 1 occurred\"\n",
      "Warning message in predict.lm(object, newdata, se.fit, scale = 1, type = if (type == :\n",
      "\"prediction from a rank-deficient fit may be misleading\"\n",
      "Warning message:\n",
      "\"glm.fit: fitted probabilities numerically 0 or 1 occurred\"\n",
      "Warning message in predict.lm(object, newdata, se.fit, scale = 1, type = if (type == :\n",
      "\"prediction from a rank-deficient fit may be misleading\"\n",
      "Warning message:\n",
      "\"glm.fit: fitted probabilities numerically 0 or 1 occurred\"\n",
      "Warning message in predict.lm(object, newdata, se.fit, scale = 1, type = if (type == :\n",
      "\"prediction from a rank-deficient fit may be misleading\"\n",
      "Warning message:\n",
      "\"glm.fit: fitted probabilities numerically 0 or 1 occurred\"\n",
      "Warning message in predict.lm(object, newdata, se.fit, scale = 1, type = if (type == :\n",
      "\"prediction from a rank-deficient fit may be misleading\"\n",
      "Warning message:\n",
      "\"glm.fit: fitted probabilities numerically 0 or 1 occurred\"\n",
      "Warning message in predict.lm(object, newdata, se.fit, scale = 1, type = if (type == :\n",
      "\"prediction from a rank-deficient fit may be misleading\"\n",
      "Warning message:\n",
      "\"glm.fit: fitted probabilities numerically 0 or 1 occurred\"\n",
      "Warning message in predict.lm(object, newdata, se.fit, scale = 1, type = if (type == :\n",
      "\"prediction from a rank-deficient fit may be misleading\"\n",
      "Warning message:\n",
      "\"glm.fit: fitted probabilities numerically 0 or 1 occurred\"\n",
      "Warning message in predict.lm(object, newdata, se.fit, scale = 1, type = if (type == :\n",
      "\"prediction from a rank-deficient fit may be misleading\"\n",
      "Warning message:\n",
      "\"glm.fit: fitted probabilities numerically 0 or 1 occurred\"\n",
      "Warning message in predict.lm(object, newdata, se.fit, scale = 1, type = if (type == :\n",
      "\"prediction from a rank-deficient fit may be misleading\"\n",
      "Warning message:\n",
      "\"glm.fit: algorithm did not converge\"\n",
      "Warning message:\n",
      "\"glm.fit: fitted probabilities numerically 0 or 1 occurred\"\n",
      "Warning message in predict.lm(object, newdata, se.fit, scale = 1, type = if (type == :\n",
      "\"prediction from a rank-deficient fit may be misleading\"\n",
      "Warning message:\n",
      "\"glm.fit: fitted probabilities numerically 0 or 1 occurred\"\n",
      "Warning message in predict.lm(object, newdata, se.fit, scale = 1, type = if (type == :\n",
      "\"prediction from a rank-deficient fit may be misleading\"\n",
      "Warning message:\n",
      "\"glm.fit: fitted probabilities numerically 0 or 1 occurred\"\n",
      "Warning message in predict.lm(object, newdata, se.fit, scale = 1, type = if (type == :\n",
      "\"prediction from a rank-deficient fit may be misleading\"\n",
      "Warning message:\n",
      "\"glm.fit: fitted probabilities numerically 0 or 1 occurred\"\n",
      "Warning message in predict.lm(object, newdata, se.fit, scale = 1, type = if (type == :\n",
      "\"prediction from a rank-deficient fit may be misleading\"\n",
      "Warning message:\n",
      "\"glm.fit: fitted probabilities numerically 0 or 1 occurred\"\n",
      "Warning message in predict.lm(object, newdata, se.fit, scale = 1, type = if (type == :\n",
      "\"prediction from a rank-deficient fit may be misleading\"\n",
      "Warning message:\n",
      "\"glm.fit: fitted probabilities numerically 0 or 1 occurred\"\n",
      "Warning message in predict.lm(object, newdata, se.fit, scale = 1, type = if (type == :\n",
      "\"prediction from a rank-deficient fit may be misleading\"\n",
      "Warning message:\n",
      "\"glm.fit: fitted probabilities numerically 0 or 1 occurred\"\n",
      "Warning message in predict.lm(object, newdata, se.fit, scale = 1, type = if (type == :\n",
      "\"prediction from a rank-deficient fit may be misleading\"\n",
      "Warning message:\n",
      "\"glm.fit: fitted probabilities numerically 0 or 1 occurred\"\n",
      "Warning message in predict.lm(object, newdata, se.fit, scale = 1, type = if (type == :\n",
      "\"prediction from a rank-deficient fit may be misleading\"\n",
      "Warning message:\n",
      "\"glm.fit: fitted probabilities numerically 0 or 1 occurred\"\n",
      "Warning message in predict.lm(object, newdata, se.fit, scale = 1, type = if (type == :\n",
      "\"prediction from a rank-deficient fit may be misleading\"\n",
      "Warning message:\n",
      "\"glm.fit: fitted probabilities numerically 0 or 1 occurred\"\n"
     ]
    },
    {
     "name": "stderr",
     "output_type": "stream",
     "text": [
      "Warning message in predict.lm(object, newdata, se.fit, scale = 1, type = if (type == :\n",
      "\"prediction from a rank-deficient fit may be misleading\"\n",
      "Warning message:\n",
      "\"glm.fit: algorithm did not converge\"\n",
      "Warning message:\n",
      "\"glm.fit: fitted probabilities numerically 0 or 1 occurred\"\n",
      "Warning message in predict.lm(object, newdata, se.fit, scale = 1, type = if (type == :\n",
      "\"prediction from a rank-deficient fit may be misleading\"\n",
      "Warning message:\n",
      "\"glm.fit: fitted probabilities numerically 0 or 1 occurred\"\n",
      "Warning message in predict.lm(object, newdata, se.fit, scale = 1, type = if (type == :\n",
      "\"prediction from a rank-deficient fit may be misleading\"\n",
      "Warning message:\n",
      "\"glm.fit: fitted probabilities numerically 0 or 1 occurred\"\n",
      "Warning message in predict.lm(object, newdata, se.fit, scale = 1, type = if (type == :\n",
      "\"prediction from a rank-deficient fit may be misleading\"\n",
      "Warning message:\n",
      "\"glm.fit: fitted probabilities numerically 0 or 1 occurred\"\n",
      "Warning message in predict.lm(object, newdata, se.fit, scale = 1, type = if (type == :\n",
      "\"prediction from a rank-deficient fit may be misleading\"\n",
      "Warning message:\n",
      "\"glm.fit: fitted probabilities numerically 0 or 1 occurred\"\n",
      "Warning message in predict.lm(object, newdata, se.fit, scale = 1, type = if (type == :\n",
      "\"prediction from a rank-deficient fit may be misleading\"\n",
      "Warning message:\n",
      "\"glm.fit: fitted probabilities numerically 0 or 1 occurred\"\n",
      "Warning message in predict.lm(object, newdata, se.fit, scale = 1, type = if (type == :\n",
      "\"prediction from a rank-deficient fit may be misleading\"\n",
      "Warning message:\n",
      "\"glm.fit: fitted probabilities numerically 0 or 1 occurred\"\n",
      "Warning message in predict.lm(object, newdata, se.fit, scale = 1, type = if (type == :\n",
      "\"prediction from a rank-deficient fit may be misleading\"\n",
      "Warning message:\n",
      "\"glm.fit: fitted probabilities numerically 0 or 1 occurred\"\n",
      "Warning message in predict.lm(object, newdata, se.fit, scale = 1, type = if (type == :\n",
      "\"prediction from a rank-deficient fit may be misleading\"\n",
      "Warning message:\n",
      "\"glm.fit: fitted probabilities numerically 0 or 1 occurred\"\n",
      "Warning message in predict.lm(object, newdata, se.fit, scale = 1, type = if (type == :\n",
      "\"prediction from a rank-deficient fit may be misleading\"\n",
      "Warning message:\n",
      "\"glm.fit: fitted probabilities numerically 0 or 1 occurred\"\n",
      "Warning message in predict.lm(object, newdata, se.fit, scale = 1, type = if (type == :\n",
      "\"prediction from a rank-deficient fit may be misleading\"\n",
      "Warning message:\n",
      "\"glm.fit: algorithm did not converge\"\n",
      "Warning message:\n",
      "\"glm.fit: fitted probabilities numerically 0 or 1 occurred\"\n",
      "Warning message in predict.lm(object, newdata, se.fit, scale = 1, type = if (type == :\n",
      "\"prediction from a rank-deficient fit may be misleading\"\n",
      "Warning message:\n",
      "\"glm.fit: fitted probabilities numerically 0 or 1 occurred\"\n",
      "Warning message in predict.lm(object, newdata, se.fit, scale = 1, type = if (type == :\n",
      "\"prediction from a rank-deficient fit may be misleading\"\n",
      "Warning message:\n",
      "\"glm.fit: fitted probabilities numerically 0 or 1 occurred\"\n",
      "Warning message in predict.lm(object, newdata, se.fit, scale = 1, type = if (type == :\n",
      "\"prediction from a rank-deficient fit may be misleading\"\n",
      "Warning message:\n",
      "\"glm.fit: fitted probabilities numerically 0 or 1 occurred\"\n",
      "Warning message in predict.lm(object, newdata, se.fit, scale = 1, type = if (type == :\n",
      "\"prediction from a rank-deficient fit may be misleading\"\n",
      "Warning message:\n",
      "\"glm.fit: fitted probabilities numerically 0 or 1 occurred\"\n",
      "Warning message in predict.lm(object, newdata, se.fit, scale = 1, type = if (type == :\n",
      "\"prediction from a rank-deficient fit may be misleading\"\n",
      "Warning message:\n",
      "\"glm.fit: fitted probabilities numerically 0 or 1 occurred\"\n",
      "Warning message in predict.lm(object, newdata, se.fit, scale = 1, type = if (type == :\n",
      "\"prediction from a rank-deficient fit may be misleading\"\n",
      "Warning message:\n",
      "\"glm.fit: fitted probabilities numerically 0 or 1 occurred\"\n",
      "Warning message in predict.lm(object, newdata, se.fit, scale = 1, type = if (type == :\n",
      "\"prediction from a rank-deficient fit may be misleading\"\n",
      "Warning message:\n",
      "\"glm.fit: fitted probabilities numerically 0 or 1 occurred\"\n",
      "Warning message in predict.lm(object, newdata, se.fit, scale = 1, type = if (type == :\n",
      "\"prediction from a rank-deficient fit may be misleading\"\n",
      "Warning message:\n",
      "\"glm.fit: fitted probabilities numerically 0 or 1 occurred\"\n",
      "Warning message in predict.lm(object, newdata, se.fit, scale = 1, type = if (type == :\n",
      "\"prediction from a rank-deficient fit may be misleading\"\n",
      "Warning message:\n",
      "\"glm.fit: fitted probabilities numerically 0 or 1 occurred\"\n",
      "Warning message in predict.lm(object, newdata, se.fit, scale = 1, type = if (type == :\n",
      "\"prediction from a rank-deficient fit may be misleading\"\n",
      "Warning message:\n",
      "\"glm.fit: algorithm did not converge\"\n",
      "Warning message:\n",
      "\"glm.fit: fitted probabilities numerically 0 or 1 occurred\"\n",
      "Warning message in predict.lm(object, newdata, se.fit, scale = 1, type = if (type == :\n",
      "\"prediction from a rank-deficient fit may be misleading\"\n",
      "Warning message:\n",
      "\"glm.fit: fitted probabilities numerically 0 or 1 occurred\"\n",
      "Warning message in predict.lm(object, newdata, se.fit, scale = 1, type = if (type == :\n",
      "\"prediction from a rank-deficient fit may be misleading\"\n",
      "Warning message:\n",
      "\"glm.fit: fitted probabilities numerically 0 or 1 occurred\"\n",
      "Warning message in predict.lm(object, newdata, se.fit, scale = 1, type = if (type == :\n",
      "\"prediction from a rank-deficient fit may be misleading\"\n",
      "Warning message:\n",
      "\"glm.fit: fitted probabilities numerically 0 or 1 occurred\"\n",
      "Warning message in predict.lm(object, newdata, se.fit, scale = 1, type = if (type == :\n",
      "\"prediction from a rank-deficient fit may be misleading\"\n",
      "Warning message:\n",
      "\"glm.fit: fitted probabilities numerically 0 or 1 occurred\"\n",
      "Warning message in predict.lm(object, newdata, se.fit, scale = 1, type = if (type == :\n",
      "\"prediction from a rank-deficient fit may be misleading\"\n",
      "Warning message:\n",
      "\"glm.fit: fitted probabilities numerically 0 or 1 occurred\"\n",
      "Warning message in predict.lm(object, newdata, se.fit, scale = 1, type = if (type == :\n",
      "\"prediction from a rank-deficient fit may be misleading\"\n",
      "Warning message:\n",
      "\"glm.fit: fitted probabilities numerically 0 or 1 occurred\"\n",
      "Warning message in predict.lm(object, newdata, se.fit, scale = 1, type = if (type == :\n",
      "\"prediction from a rank-deficient fit may be misleading\"\n",
      "Warning message:\n",
      "\"glm.fit: fitted probabilities numerically 0 or 1 occurred\"\n",
      "Warning message in predict.lm(object, newdata, se.fit, scale = 1, type = if (type == :\n",
      "\"prediction from a rank-deficient fit may be misleading\"\n",
      "Warning message:\n",
      "\"glm.fit: fitted probabilities numerically 0 or 1 occurred\"\n",
      "Warning message in predict.lm(object, newdata, se.fit, scale = 1, type = if (type == :\n",
      "\"prediction from a rank-deficient fit may be misleading\"\n",
      "Warning message:\n",
      "\"glm.fit: fitted probabilities numerically 0 or 1 occurred\"\n",
      "Warning message in predict.lm(object, newdata, se.fit, scale = 1, type = if (type == :\n",
      "\"prediction from a rank-deficient fit may be misleading\"\n",
      "Warning message:\n",
      "\"glm.fit: algorithm did not converge\"\n",
      "Warning message:\n",
      "\"glm.fit: fitted probabilities numerically 0 or 1 occurred\"\n",
      "Warning message in predict.lm(object, newdata, se.fit, scale = 1, type = if (type == :\n",
      "\"prediction from a rank-deficient fit may be misleading\"\n",
      "Warning message:\n",
      "\"glm.fit: fitted probabilities numerically 0 or 1 occurred\"\n",
      "Warning message in predict.lm(object, newdata, se.fit, scale = 1, type = if (type == :\n",
      "\"prediction from a rank-deficient fit may be misleading\"\n",
      "Warning message:\n",
      "\"glm.fit: fitted probabilities numerically 0 or 1 occurred\"\n",
      "Warning message in predict.lm(object, newdata, se.fit, scale = 1, type = if (type == :\n",
      "\"prediction from a rank-deficient fit may be misleading\"\n",
      "Warning message:\n",
      "\"glm.fit: fitted probabilities numerically 0 or 1 occurred\"\n",
      "Warning message in predict.lm(object, newdata, se.fit, scale = 1, type = if (type == :\n",
      "\"prediction from a rank-deficient fit may be misleading\"\n",
      "Warning message:\n",
      "\"glm.fit: fitted probabilities numerically 0 or 1 occurred\"\n",
      "Warning message in predict.lm(object, newdata, se.fit, scale = 1, type = if (type == :\n",
      "\"prediction from a rank-deficient fit may be misleading\"\n",
      "Warning message:\n",
      "\"glm.fit: fitted probabilities numerically 0 or 1 occurred\"\n",
      "Warning message in predict.lm(object, newdata, se.fit, scale = 1, type = if (type == :\n",
      "\"prediction from a rank-deficient fit may be misleading\"\n"
     ]
    },
    {
     "name": "stderr",
     "output_type": "stream",
     "text": [
      "Warning message:\n",
      "\"glm.fit: fitted probabilities numerically 0 or 1 occurred\"\n",
      "Warning message in predict.lm(object, newdata, se.fit, scale = 1, type = if (type == :\n",
      "\"prediction from a rank-deficient fit may be misleading\"\n",
      "Warning message:\n",
      "\"glm.fit: fitted probabilities numerically 0 or 1 occurred\"\n",
      "Warning message in predict.lm(object, newdata, se.fit, scale = 1, type = if (type == :\n",
      "\"prediction from a rank-deficient fit may be misleading\"\n",
      "Warning message:\n",
      "\"glm.fit: fitted probabilities numerically 0 or 1 occurred\"\n",
      "Warning message in predict.lm(object, newdata, se.fit, scale = 1, type = if (type == :\n",
      "\"prediction from a rank-deficient fit may be misleading\"\n",
      "Warning message:\n",
      "\"glm.fit: fitted probabilities numerically 0 or 1 occurred\"\n",
      "Warning message in predict.lm(object, newdata, se.fit, scale = 1, type = if (type == :\n",
      "\"prediction from a rank-deficient fit may be misleading\"\n",
      "Warning message:\n",
      "\"glm.fit: algorithm did not converge\"\n",
      "Warning message:\n",
      "\"glm.fit: fitted probabilities numerically 0 or 1 occurred\"\n",
      "Warning message in predict.lm(object, newdata, se.fit, scale = 1, type = if (type == :\n",
      "\"prediction from a rank-deficient fit may be misleading\"\n",
      "Warning message:\n",
      "\"glm.fit: fitted probabilities numerically 0 or 1 occurred\"\n",
      "Warning message in predict.lm(object, newdata, se.fit, scale = 1, type = if (type == :\n",
      "\"prediction from a rank-deficient fit may be misleading\"\n",
      "Warning message:\n",
      "\"glm.fit: fitted probabilities numerically 0 or 1 occurred\"\n",
      "Warning message in predict.lm(object, newdata, se.fit, scale = 1, type = if (type == :\n",
      "\"prediction from a rank-deficient fit may be misleading\"\n",
      "Warning message:\n",
      "\"glm.fit: fitted probabilities numerically 0 or 1 occurred\"\n",
      "Warning message in predict.lm(object, newdata, se.fit, scale = 1, type = if (type == :\n",
      "\"prediction from a rank-deficient fit may be misleading\"\n",
      "Warning message:\n",
      "\"glm.fit: fitted probabilities numerically 0 or 1 occurred\"\n",
      "Warning message in predict.lm(object, newdata, se.fit, scale = 1, type = if (type == :\n",
      "\"prediction from a rank-deficient fit may be misleading\"\n",
      "Warning message:\n",
      "\"glm.fit: fitted probabilities numerically 0 or 1 occurred\"\n",
      "Warning message in predict.lm(object, newdata, se.fit, scale = 1, type = if (type == :\n",
      "\"prediction from a rank-deficient fit may be misleading\"\n",
      "Warning message:\n",
      "\"glm.fit: fitted probabilities numerically 0 or 1 occurred\"\n",
      "Warning message in predict.lm(object, newdata, se.fit, scale = 1, type = if (type == :\n",
      "\"prediction from a rank-deficient fit may be misleading\"\n",
      "Warning message:\n",
      "\"glm.fit: fitted probabilities numerically 0 or 1 occurred\"\n",
      "Warning message in predict.lm(object, newdata, se.fit, scale = 1, type = if (type == :\n",
      "\"prediction from a rank-deficient fit may be misleading\"\n",
      "Warning message:\n",
      "\"glm.fit: fitted probabilities numerically 0 or 1 occurred\"\n",
      "Warning message in predict.lm(object, newdata, se.fit, scale = 1, type = if (type == :\n",
      "\"prediction from a rank-deficient fit may be misleading\"\n",
      "Warning message:\n",
      "\"glm.fit: fitted probabilities numerically 0 or 1 occurred\"\n",
      "Warning message in predict.lm(object, newdata, se.fit, scale = 1, type = if (type == :\n",
      "\"prediction from a rank-deficient fit may be misleading\"\n",
      "Warning message:\n",
      "\"glm.fit: algorithm did not converge\"\n",
      "Warning message:\n",
      "\"glm.fit: fitted probabilities numerically 0 or 1 occurred\"\n",
      "Warning message in predict.lm(object, newdata, se.fit, scale = 1, type = if (type == :\n",
      "\"prediction from a rank-deficient fit may be misleading\"\n",
      "Warning message:\n",
      "\"glm.fit: fitted probabilities numerically 0 or 1 occurred\"\n",
      "Warning message in predict.lm(object, newdata, se.fit, scale = 1, type = if (type == :\n",
      "\"prediction from a rank-deficient fit may be misleading\"\n",
      "Warning message:\n",
      "\"glm.fit: fitted probabilities numerically 0 or 1 occurred\"\n",
      "Warning message in predict.lm(object, newdata, se.fit, scale = 1, type = if (type == :\n",
      "\"prediction from a rank-deficient fit may be misleading\"\n",
      "Warning message:\n",
      "\"glm.fit: fitted probabilities numerically 0 or 1 occurred\"\n",
      "Warning message in predict.lm(object, newdata, se.fit, scale = 1, type = if (type == :\n",
      "\"prediction from a rank-deficient fit may be misleading\"\n",
      "Warning message:\n",
      "\"glm.fit: fitted probabilities numerically 0 or 1 occurred\"\n",
      "Warning message in predict.lm(object, newdata, se.fit, scale = 1, type = if (type == :\n",
      "\"prediction from a rank-deficient fit may be misleading\"\n",
      "Warning message:\n",
      "\"glm.fit: fitted probabilities numerically 0 or 1 occurred\"\n",
      "Warning message in predict.lm(object, newdata, se.fit, scale = 1, type = if (type == :\n",
      "\"prediction from a rank-deficient fit may be misleading\"\n",
      "Warning message:\n",
      "\"glm.fit: fitted probabilities numerically 0 or 1 occurred\"\n",
      "Warning message in predict.lm(object, newdata, se.fit, scale = 1, type = if (type == :\n",
      "\"prediction from a rank-deficient fit may be misleading\"\n",
      "Warning message:\n",
      "\"glm.fit: fitted probabilities numerically 0 or 1 occurred\"\n",
      "Warning message in predict.lm(object, newdata, se.fit, scale = 1, type = if (type == :\n",
      "\"prediction from a rank-deficient fit may be misleading\"\n",
      "Warning message:\n",
      "\"glm.fit: fitted probabilities numerically 0 or 1 occurred\"\n",
      "Warning message in predict.lm(object, newdata, se.fit, scale = 1, type = if (type == :\n",
      "\"prediction from a rank-deficient fit may be misleading\"\n",
      "Warning message:\n",
      "\"glm.fit: fitted probabilities numerically 0 or 1 occurred\"\n",
      "Warning message in predict.lm(object, newdata, se.fit, scale = 1, type = if (type == :\n",
      "\"prediction from a rank-deficient fit may be misleading\"\n",
      "Warning message:\n",
      "\"glm.fit: algorithm did not converge\"\n",
      "Warning message:\n",
      "\"glm.fit: fitted probabilities numerically 0 or 1 occurred\"\n",
      "Warning message in predict.lm(object, newdata, se.fit, scale = 1, type = if (type == :\n",
      "\"prediction from a rank-deficient fit may be misleading\"\n",
      "Warning message:\n",
      "\"glm.fit: fitted probabilities numerically 0 or 1 occurred\"\n",
      "Warning message in predict.lm(object, newdata, se.fit, scale = 1, type = if (type == :\n",
      "\"prediction from a rank-deficient fit may be misleading\"\n",
      "Warning message:\n",
      "\"glm.fit: fitted probabilities numerically 0 or 1 occurred\"\n",
      "Warning message in predict.lm(object, newdata, se.fit, scale = 1, type = if (type == :\n",
      "\"prediction from a rank-deficient fit may be misleading\"\n"
     ]
    }
   ],
   "source": [
    "# Entrenamos con 10k muestras, usamos las 50k restantes para realizar 10 tests diferentes\n",
    "times = 1:10\n",
    "n = dim(x_train)[1]\n",
    "m = 10000\n",
    "\n",
    "## Random sampling for training\n",
    "iT = sample(1:n, m)\n",
    "xT = x_train[iT,]\n",
    "yT = yall[iT,]\n",
    "\n",
    "outT = matrix(data = NA, nrow = m, ncol = 10)\n",
    "outt = matrix(data = NA, nrow = 5000, ncol = 10)\n",
    "accT = matrix(data = NA, nrow = 10, ncol = 10)\n",
    "acct = matrix(data = NA, nrow = 10, ncol = 10)\n",
    "\n",
    "for (t in times){\n",
    "    \n",
    "    # Random sampling for test, dividiendo en 10 conjuntos\n",
    "        # Es posible que se repitan valores entre tests, pero no es relevante\n",
    "        # dado el gran número de muestras\n",
    "    j = setdiff(1:n, iT)\n",
    "    k = sample(j, length(j)/10)\n",
    "    xt = x_train[k,]\n",
    "    yt = yall[k,]\n",
    "    \n",
    "    for (i in 1:10){\n",
    "        # Reducción de la dimensionalidad\n",
    "        mask = seq(1,784,20)\n",
    "\n",
    "        # Construcción de Dataframes\n",
    "        datT = data.frame(y = yT[,i], xT)\n",
    "        datt = data.frame(y = yt[,i], xt)\n",
    "\n",
    "        # Regresión logística con conjunto Train\n",
    "        model = glm(datT$y~., data = datT[,mask], family = binomial(link = \"logit\"))\n",
    "        outT[, i] = model$fitted.values\n",
    "        outbinT = as.double(outT[, i] > 0.5)\n",
    "        accT[t,i] = sum(diag(table(datT[,1], outbinT))) / length(outbinT)\n",
    "\n",
    "        # Predicción con conjunto test\n",
    "        outt[, i] = predict(object = model, newdata = datt[,mask])\n",
    "        outbint = as.double(outt[, i] > 0.5)\n",
    "        acct[t,i] = sum(diag(table(datt[,1], outbint))) / length(outbint)\n",
    "}\n",
    "}"
   ]
  },
  {
   "cell_type": "code",
   "execution_count": 84,
   "metadata": {
    "scrolled": false
   },
   "outputs": [
    {
     "data": {
      "text/html": [
       "<ol class=list-inline>\n",
       "\t<li>0</li>\n",
       "\t<li>8</li>\n",
       "\t<li>7</li>\n",
       "\t<li>2</li>\n",
       "\t<li>1</li>\n",
       "\t<li>5</li>\n",
       "\t<li>9</li>\n",
       "\t<li>3</li>\n",
       "\t<li>6</li>\n",
       "\t<li>4</li>\n",
       "</ol>\n"
      ],
      "text/latex": [
       "\\begin{enumerate*}\n",
       "\\item 0\n",
       "\\item 8\n",
       "\\item 7\n",
       "\\item 2\n",
       "\\item 1\n",
       "\\item 5\n",
       "\\item 9\n",
       "\\item 3\n",
       "\\item 6\n",
       "\\item 4\n",
       "\\end{enumerate*}\n"
      ],
      "text/markdown": [
       "1. 0\n",
       "2. 8\n",
       "3. 7\n",
       "4. 2\n",
       "5. 1\n",
       "6. 5\n",
       "7. 9\n",
       "8. 3\n",
       "9. 6\n",
       "10. 4\n",
       "\n",
       "\n"
      ],
      "text/plain": [
       " [1] 0 8 7 2 1 5 9 3 6 4"
      ]
     },
     "metadata": {},
     "output_type": "display_data"
    },
    {
     "data": {
      "image/png": "[encoded data removed]",
      "text/plain": [
       "plot without title"
      ]
     },
     "metadata": {
      "image/png": {
       "height": 420,
       "width": 420
      }
     },
     "output_type": "display_data"
    }
   ],
   "source": [
    "desvTest = apply(acct, MARGIN = 2, FUN = sd)\n",
    "# Ordenamos de mejor a peor precisión (menor a mayor desviación)\n",
    "idtest = order(desvTest)\n",
    "idtest = idtest - 1\n",
    "idtest\n",
    "# Ploteamos\n",
    "meanTest = apply(acct, MARGIN = 2, FUN = mean)\n",
    "plot(x = 0:9, y = meanTest, ylim = c(0.90,0.98), xlab=\"Dígito\", ylab=\"Accuracy\", pch=16, cex=1)\n",
    "arrows(x0=0:9, y0=meanTest-desvTest, x1=0:9, y1=meanTest+desvTest, code=3, angle=90, length=0.05)"
   ]
  },
  {
   "cell_type": "markdown",
   "metadata": {},
   "source": [
    "Como podemos apreciar al fijarnos en la accuracy media, hay algunos dígitos que se predicen notablemente mejor que otros; los que mejor se predicen son el `0` y el `1`, probablemente porque tienen formas simples y únicas en comparación con el resto de dígitos. Por otro lado, los que peor se predicen son el `3`, el `8` y el `9`, pudiendo deberse a la similitud entre sus formas, o las diferentes maneras que tienen las personas de escribirlos.\n",
    "\n",
    "En términos de precisión, observamos que todos los dígitos presentan desviaciones similares, siendo la predicción más precisa la del `1` y la más imprecisa la del `9`, pudiendo deberse a los motivos expuestos en el párrafo anterior."
   ]
  },
  {
   "cell_type": "markdown",
   "metadata": {},
   "source": [
    "TRABAJO EXTRA: Hasta ahora hemos utilizado la tasa de acierto como medida de validación de los clasificadores. Para ello, las predicciones probabilísticas se tiene que convertir a binarias (utilizando un umbral para al probabilidad). Sin embargo, existen otras medidas más generales que consideran el carácter probabilístico de la predicción. \n",
    "Leer https://es.wikipedia.org/wiki/Curva_ROC\n",
    "Practicar con el paquete 'AUC'\n",
    "#install.packages(\"AUC\")\n",
    "#library(\"AUC\")\n",
    "#roc<-roc(out,as.factor(datT[,1]))\n",
    "#auc(roc)\n",
    "#plot(roc)"
   ]
  },
  {
   "cell_type": "code",
   "execution_count": null,
   "metadata": {},
   "outputs": [],
   "source": []
  }
 ],
 "metadata": {
  "kernelspec": {
   "display_name": "R",
   "language": "R",
   "name": "ir"
  },
  "language_info": {
   "codemirror_mode": "r",
   "file_extension": ".r",
   "mimetype": "text/x-r-source",
   "name": "R",
   "pygments_lexer": "r",
   "version": "3.6.3"
  }
 },
 "nbformat": 4,
 "nbformat_minor": 2
}
