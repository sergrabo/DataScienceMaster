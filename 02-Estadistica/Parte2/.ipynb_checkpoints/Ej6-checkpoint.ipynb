{
 "cells": [
  {
   "cell_type": "markdown",
   "id": "d99dcf39",
   "metadata": {},
   "source": [
    "# Ejercicio 6"
   ]
  },
  {
   "cell_type": "markdown",
   "id": "a8e92df0",
   "metadata": {},
   "source": [
    "## 1) \n",
    "Crea una función a la que se pase como input: un vector “x” de features distribuidos uniformemente, unos valores “a” y\n",
    "“b” parámetros de un modelo lineal “y = a + b * x”, y parámetros “m” y “n” que nos den la sigma de una distribución\n",
    "gaussiana: “sigma = m + n * x^2”. La función debe devolver una matriz que contenga en la primera columna un vector con\n",
    "el término independiente “y = a + b * x + gauss(0, sigma = m + n * x^2)”, y en la segunda columna la “sigma = m + n *\n",
    "x^2”. Nota: Este ejercicio es igual al que ya realizamos, salvo porque ahora la sigma del término estocástico depende de\n",
    "cada punto."
   ]
  },
  {
   "cell_type": "code",
   "execution_count": 1,
   "id": "77ea4f5a",
   "metadata": {},
   "outputs": [],
   "source": [
    "generaY = function(x, a, b, m, n){\n",
    "    sigma = m + n*x^2\n",
    "    y = a + b*x + rnorm(x, mean = 0, sd = sigma)\n",
    "    m = cbind(y, sigma)\n",
    "    return(m)\n",
    "}"
   ]
  },
  {
   "cell_type": "markdown",
   "id": "e105839e",
   "metadata": {},
   "source": [
    "## 2)\n",
    "Crea una función que encuentre el valor de los parámetros que hace máximo el ML usando la fórmula análitica."
   ]
  },
  {
   "cell_type": "code",
   "execution_count": 2,
   "id": "a22b47b5",
   "metadata": {},
   "outputs": [],
   "source": [
    "transPol1=function(x){\n",
    "  xMatrix = cbind(rep(1, length(x)), x)\n",
    "  return(xMatrix)\n",
    "}\n",
    "                  \n",
    "parMaxLike = function(x,ys){\n",
    "    y = ys[,1]\n",
    "    sigma = ys[,2]\n",
    "    X = transPol1(x)\n",
    "    n = length(y)\n",
    "    CovY = diag(x = sigma, nrow = n, ncol = n)\n",
    "    theta = solve(t(X) %*% CovY %*% X) %*% (t(X) %*% CovY) %*% y\n",
    "    return(theta)\n",
    "}\n"
   ]
  },
  {
   "cell_type": "markdown",
   "id": "8f04e950",
   "metadata": {},
   "source": [
    "## 3) \n",
    "Crea un vector x distribuido uniformemente en [0, 10], y encuentra el mínimo para a = 1, b = 2, m = 0.1 y n = 0.04. Pinta\n",
    "los datos, sus errores y la recta de ajuste."
   ]
  },
  {
   "cell_type": "code",
   "execution_count": 3,
   "id": "bfc1fa1f",
   "metadata": {},
   "outputs": [
    {
     "data": {
      "image/png": "[encoded data removed]",
      "text/plain": [
       "Plot with title \"Ajuste lineal\""
      ]
     },
     "metadata": {
      "image/png": {
       "height": 420,
       "width": 420
      }
     },
     "output_type": "display_data"
    }
   ],
   "source": [
    "N = 100\n",
    "a = 1\n",
    "b = 2\n",
    "m = 0.1\n",
    "n = 0.04\n",
    "\n",
    "# Generamos los datos\n",
    "x = runif(N, 0, 10)\n",
    "ysig = generaY(x,a,b,m,n)\n",
    "\n",
    "# Hacemos el ajuste\n",
    "theta = parMaxLike(x, ysig)\n",
    "\n",
    "plot(x, ysig[,1], ylim = c(0,30), pch = 16,\n",
    "    ylab = \"y\", xlab = \"x\",\n",
    "    main = \"Ajuste lineal\")\n",
    "arrows(x0 = x, y0 = ysig[,1]-ysig[,2], x1 = x, y1 = ysig[,1]+ysig[,2],\n",
    "       code = 3, angle = 90, length = 0.05, col = \"black\")\n",
    "abline(theta, col = \"red\", lwd = 2)"
   ]
  },
  {
   "cell_type": "markdown",
   "id": "791530d4",
   "metadata": {},
   "source": [
    "## 4) \n",
    "Genera un vector con 10000 numeros distribuidos exponencialmente con un valor de rate $= 1/5.27$. Crea un histograma con este vector usando como rango [0,30] y una anchura de bin = 1."
   ]
  },
  {
   "cell_type": "code",
   "execution_count": 4,
   "id": "3da6f569",
   "metadata": {},
   "outputs": [
    {
     "data": {
      "image/png": "[encoded data removed]",
      "text/plain": [
       "Plot with title \"Histogram of y\""
      ]
     },
     "metadata": {
      "image/png": {
       "height": 420,
       "width": 420
      }
     },
     "output_type": "display_data"
    }
   ],
   "source": [
    "N = 10000\n",
    "r = 1/5.27\n",
    "y = rexp(N, r)\n",
    "h = hist(y, xlim = c(0,30), breaks = 60, xlab = \"Exp(rx)\")"
   ]
  },
  {
   "cell_type": "markdown",
   "id": "e0ae37d4",
   "metadata": {},
   "source": [
    "## 5)\n",
    "Escribe una función que tome como input el valor “N” y “lambda” de una exponencial: “N * exp(-t/lambda)”, y calcula el\n",
    "“l” asociado al valor del likelihood para este modelo y este histograma."
   ]
  },
  {
   "cell_type": "code",
   "execution_count": 5,
   "id": "12410251",
   "metadata": {},
   "outputs": [],
   "source": [
    "fl = function(N, lambda){\n",
    "    n = h$counts\n",
    "    t = h$breaks[-length(h$breaks)]\n",
    "    l = -1 * sum(dpois(n, N*exp(-t/lambda), log = T))\n",
    "    return(l)\n",
    "}"
   ]
  },
  {
   "cell_type": "code",
   "execution_count": 6,
   "id": "5ed05c07",
   "metadata": {},
   "outputs": [
    {
     "data": {
      "text/html": [
       "219133.709140376"
      ],
      "text/latex": [
       "219133.709140376"
      ],
      "text/markdown": [
       "219133.709140376"
      ],
      "text/plain": [
       "[1] 219133.7"
      ]
     },
     "metadata": {},
     "output_type": "display_data"
    }
   ],
   "source": [
    "l = fl(N, r)\n",
    "l"
   ]
  },
  {
   "cell_type": "markdown",
   "id": "3dc91a9a",
   "metadata": {},
   "source": [
    "## 6)\n",
    "Utiliza la función mle para hallar los valores de “N” y “lambda” que maximizan el likelihood. Usa como valores iniciales\n",
    "4000 y 4. Pinta el histograma y la función exponencial ajustada."
   ]
  },
  {
   "cell_type": "code",
   "execution_count": 7,
   "id": "ee2e6417",
   "metadata": {},
   "outputs": [],
   "source": [
    "library(stats4)"
   ]
  },
  {
   "cell_type": "code",
   "execution_count": 8,
   "id": "f0f00641",
   "metadata": {},
   "outputs": [
    {
     "data": {
      "text/plain": [
       "Maximum likelihood estimation\n",
       "\n",
       "Call:\n",
       "mle(minuslogl = fl, start = list(N = 4000, lambda = 4), method = \"BFGS\")\n",
       "\n",
       "Coefficients:\n",
       "         Estimate  Std. Error\n",
       "N      1641.33289 22.37229487\n",
       "lambda    5.43137  0.05673653\n",
       "\n",
       "-2 log L: 315.6537 "
      ]
     },
     "metadata": {},
     "output_type": "display_data"
    }
   ],
   "source": [
    "modelo = mle(fl, start = list(N = 4000, lambda = 4), method = 'BFGS')\n",
    "summary(modelo)"
   ]
  },
  {
   "cell_type": "code",
   "execution_count": 9,
   "id": "b52a8653",
   "metadata": {},
   "outputs": [
    {
     "data": {
      "image/png": "[encoded data removed]",
      "text/plain": [
       "Plot with title \"Histogram of y\""
      ]
     },
     "metadata": {
      "image/png": {
       "height": 420,
       "width": 420
      }
     },
     "output_type": "display_data"
    }
   ],
   "source": [
    "hist(y, xlim = c(0,30), breaks = 60, xlab = \"Exp(rx)\")\n",
    "t = 0:30\n",
    "Nfit = as.numeric(modelo@coef[1])\n",
    "lambdafit = as.numeric(modelo@coef[2])\n",
    "lines(t, Nfit*exp(-(t)/lambdafit), type=\"l\", col=\"red\", lwd = 2)"
   ]
  }
 ],
 "metadata": {
  "kernelspec": {
   "display_name": "R",
   "language": "R",
   "name": "ir"
  },
  "language_info": {
   "codemirror_mode": "r",
   "file_extension": ".r",
   "mimetype": "text/x-r-source",
   "name": "R",
   "pygments_lexer": "r",
   "version": "3.6.3"
  }
 },
 "nbformat": 4,
 "nbformat_minor": 5
}
