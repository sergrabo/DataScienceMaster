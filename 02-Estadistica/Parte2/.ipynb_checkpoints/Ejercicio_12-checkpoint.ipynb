{
 "cells": [
  {
   "cell_type": "markdown",
   "metadata": {
    "slideshow": {
     "slide_type": "slide"
    }
   },
   "source": [
    "# Selección de variables y regularización\n",
    "_Santander Meteorology Group (18-01-2022)_\n",
    "\n",
    " * [Introducción](#Introducción)\n",
    " * [Base de datos de ejemplo: Breast cancer](#Base-de-datos:-Breast-cancer)\n",
    " * [Modelo lineal completo](#Modelo-lineal-completo)\n",
    " * [Selección de variables](#Selección-de-variables)\n",
    " * [Regularización](#Regularización)"
   ]
  },
  {
   "cell_type": "markdown",
   "metadata": {
    "slideshow": {
     "slide_type": "slide"
    }
   },
   "source": [
    "## Introducción\n",
    "El objetivo principal de un modelo entrenado es que tenga la capacidad de generalizar, es decir, la capacidad de predecir bien nuevos datos que no formen parte de la muestra de entrenamiento (por ejemplo, una muestra de datos de *test*). La relación entre el número de observaciones y el número de variables independientes es clave en la capacidad de generalización de los modelos.\n",
    "\n",
    "Para evitar el sobreajuste en situaciones donde el número de observaciones es del orden, o menor, que el de grados de libertad del sistema y/o donde hay colinealidad, se utilizan (entre otras) técnicas como la selección de variables y la regularización. La primera permite seleccionar de forma objetiva un subconjunto de variables predictoras, mientras que la segunda actúa sobre los parámetros del modelo, impidiendo que tomen valores elevados que harían al modelo muy sensible a diferentes muestras de entrenamiento."
   ]
  },
  {
   "cell_type": "markdown",
   "metadata": {
    "slideshow": {
     "slide_type": "slide"
    }
   },
   "source": [
    "## Base de datos: Breast cancer\n",
    "\n",
    "En este ejemplo trabajaremos con la base de datos [_Breast cancer_ (Diagnostic)](https://www.kaggle.com/uciml/breast-cancer-wisconsin-data), incluida en Kaggle. El objetivo de este conjunto de datos es clasificar a las pacientes en base a si el cáncer de mama que tienen es benigno (`B`) o maligno (`M`). Pamra ello se utilizan 31 predictores relacionados con las propiedades de las células cancerígenas, que en comparación con el número de observaciones (569) es bajo.\n",
    "\n",
    "Leemos la base de datos:"
   ]
  },
  {
   "cell_type": "code",
   "execution_count": 3,
   "metadata": {
    "slideshow": {
     "slide_type": "-"
    }
   },
   "outputs": [
    {
     "name": "stdout",
     "output_type": "stream",
     "text": [
      "'data.frame':\t569 obs. of  33 variables:\n",
      " $ id                     : int  842302 842517 84300903 84348301 84358402 843786 844359 84458202 844981 84501001 ...\n",
      " $ diagnosis              : Factor w/ 2 levels \"B\",\"M\": 2 2 2 2 2 2 2 2 2 2 ...\n",
      " $ radius_mean            : num  18 20.6 19.7 11.4 20.3 ...\n",
      " $ texture_mean           : num  10.4 17.8 21.2 20.4 14.3 ...\n",
      " $ perimeter_mean         : num  122.8 132.9 130 77.6 135.1 ...\n",
      " $ area_mean              : num  1001 1326 1203 386 1297 ...\n",
      " $ smoothness_mean        : num  0.1184 0.0847 0.1096 0.1425 0.1003 ...\n",
      " $ compactness_mean       : num  0.2776 0.0786 0.1599 0.2839 0.1328 ...\n",
      " $ concavity_mean         : num  0.3001 0.0869 0.1974 0.2414 0.198 ...\n",
      " $ concave.points_mean    : num  0.1471 0.0702 0.1279 0.1052 0.1043 ...\n",
      " $ symmetry_mean          : num  0.242 0.181 0.207 0.26 0.181 ...\n",
      " $ fractal_dimension_mean : num  0.0787 0.0567 0.06 0.0974 0.0588 ...\n",
      " $ radius_se              : num  1.095 0.543 0.746 0.496 0.757 ...\n",
      " $ texture_se             : num  0.905 0.734 0.787 1.156 0.781 ...\n",
      " $ perimeter_se           : num  8.59 3.4 4.58 3.44 5.44 ...\n",
      " $ area_se                : num  153.4 74.1 94 27.2 94.4 ...\n",
      " $ smoothness_se          : num  0.0064 0.00522 0.00615 0.00911 0.01149 ...\n",
      " $ compactness_se         : num  0.049 0.0131 0.0401 0.0746 0.0246 ...\n",
      " $ concavity_se           : num  0.0537 0.0186 0.0383 0.0566 0.0569 ...\n",
      " $ concave.points_se      : num  0.0159 0.0134 0.0206 0.0187 0.0188 ...\n",
      " $ symmetry_se            : num  0.03 0.0139 0.0225 0.0596 0.0176 ...\n",
      " $ fractal_dimension_se   : num  0.00619 0.00353 0.00457 0.00921 0.00511 ...\n",
      " $ radius_worst           : num  25.4 25 23.6 14.9 22.5 ...\n",
      " $ texture_worst          : num  17.3 23.4 25.5 26.5 16.7 ...\n",
      " $ perimeter_worst        : num  184.6 158.8 152.5 98.9 152.2 ...\n",
      " $ area_worst             : num  2019 1956 1709 568 1575 ...\n",
      " $ smoothness_worst       : num  0.162 0.124 0.144 0.21 0.137 ...\n",
      " $ compactness_worst      : num  0.666 0.187 0.424 0.866 0.205 ...\n",
      " $ concavity_worst        : num  0.712 0.242 0.45 0.687 0.4 ...\n",
      " $ concave.points_worst   : num  0.265 0.186 0.243 0.258 0.163 ...\n",
      " $ symmetry_worst         : num  0.46 0.275 0.361 0.664 0.236 ...\n",
      " $ fractal_dimension_worst: num  0.1189 0.089 0.0876 0.173 0.0768 ...\n",
      " $ X                      : logi  NA NA NA NA NA NA ...\n"
     ]
    }
   ],
   "source": [
    "datos <- read.csv(\"breastcancer.csv\")\n",
    "str(datos)"
   ]
  },
  {
   "cell_type": "markdown",
   "metadata": {
    "slideshow": {
     "slide_type": "slide"
    }
   },
   "source": [
    "Y la preparamos la base de datos de la siguiente manera:"
   ]
  },
  {
   "cell_type": "code",
   "execution_count": 4,
   "metadata": {
    "slideshow": {
     "slide_type": "-"
    }
   },
   "outputs": [
    {
     "data": {
      "text/html": [
       "<ol class=list-inline>\n",
       "\t<li>569</li>\n",
       "\t<li>30</li>\n",
       "</ol>\n"
      ],
      "text/latex": [
       "\\begin{enumerate*}\n",
       "\\item 569\n",
       "\\item 30\n",
       "\\end{enumerate*}\n"
      ],
      "text/markdown": [
       "1. 569\n",
       "2. 30\n",
       "\n",
       "\n"
      ],
      "text/plain": [
       "[1] 569  30"
      ]
     },
     "metadata": {},
     "output_type": "display_data"
    },
    {
     "data": {
      "text/html": [
       "<table>\n",
       "<thead><tr><th scope=col>diagnosis</th><th scope=col>radius_mean</th><th scope=col>texture_mean</th><th scope=col>perimeter_mean</th><th scope=col>area_mean</th><th scope=col>smoothness_mean</th><th scope=col>compactness_mean</th><th scope=col>concavity_mean</th><th scope=col>concave.points_mean</th><th scope=col>symmetry_mean</th><th scope=col>...</th><th scope=col>fractal_dimension_se</th><th scope=col>radius_worst</th><th scope=col>texture_worst</th><th scope=col>perimeter_worst</th><th scope=col>area_worst</th><th scope=col>smoothness_worst</th><th scope=col>compactness_worst</th><th scope=col>concavity_worst</th><th scope=col>concave.points_worst</th><th scope=col>symmetry_worst</th></tr></thead>\n",
       "<tbody>\n",
       "\t<tr><td>1           </td><td> 1.0960995  </td><td>-2.0715123  </td><td> 1.2688173  </td><td> 0.9835095  </td><td> 1.5670875  </td><td> 3.2806281  </td><td> 2.65054179 </td><td>2.5302489   </td><td> 2.215565542</td><td>...         </td><td> 0.90628565 </td><td> 1.8850310  </td><td>-1.35809849 </td><td> 2.3015755  </td><td> 1.9994782  </td><td> 1.3065367  </td><td> 2.6143647  </td><td> 2.1076718  </td><td>2.2940576   </td><td> 2.7482041  </td></tr>\n",
       "\t<tr><td>1           </td><td> 1.8282120  </td><td>-0.3533215  </td><td> 1.6844726  </td><td> 1.9070303  </td><td>-0.8262354  </td><td>-0.4866435  </td><td>-0.02382489 </td><td>0.5476623   </td><td> 0.001391139</td><td>...         </td><td>-0.09935632 </td><td> 1.8043398  </td><td>-0.36887865 </td><td> 1.5337764  </td><td> 1.8888270  </td><td>-0.3752817  </td><td>-0.4300658  </td><td>-0.1466200  </td><td>1.0861286   </td><td>-0.2436753  </td></tr>\n",
       "\t<tr><td>1           </td><td> 1.5784992  </td><td> 0.4557859  </td><td> 1.5651260  </td><td> 1.5575132  </td><td> 0.9413821  </td><td> 1.0519999  </td><td> 1.36227979 </td><td>2.0354398   </td><td> 0.938858720</td><td>...         </td><td> 0.29330133 </td><td> 1.5105411  </td><td>-0.02395331 </td><td> 1.3462906  </td><td> 1.4550043  </td><td> 0.5269438  </td><td> 1.0819801  </td><td> 0.8542223  </td><td>1.9532817   </td><td> 1.1512420  </td></tr>\n",
       "\t<tr><td>1           </td><td>-0.7682333  </td><td> 0.2535091  </td><td>-0.5921661  </td><td>-0.7637917  </td><td> 3.2806668  </td><td> 3.3999174  </td><td> 1.91421287 </td><td>1.4504311   </td><td> 2.864862154</td><td>...         </td><td> 2.04571087 </td><td>-0.2812170  </td><td> 0.13386631 </td><td>-0.2497196  </td><td>-0.5495377  </td><td> 3.3912907  </td><td> 3.8899747  </td><td> 1.9878392  </td><td>2.1738732   </td><td> 6.0407261  </td></tr>\n",
       "\t<tr><td>1           </td><td> 1.7487579  </td><td>-1.1508038  </td><td> 1.7750113  </td><td> 1.8246238  </td><td> 0.2801253  </td><td> 0.5388663  </td><td> 1.36980615 </td><td>1.4272370   </td><td>-0.009552062</td><td>...         </td><td> 0.49888916 </td><td> 1.2974336  </td><td>-1.46548091 </td><td> 1.3373627  </td><td> 1.2196511  </td><td> 0.2203623  </td><td>-0.3131190  </td><td> 0.6126397  </td><td>0.7286181   </td><td>-0.8675896  </td></tr>\n",
       "\t<tr><td>1           </td><td>-0.4759559  </td><td>-0.8346009  </td><td>-0.3868077  </td><td>-0.5052059  </td><td> 2.2354545  </td><td> 1.2432416  </td><td> 0.86554001 </td><td>0.8239307   </td><td> 1.004517928</td><td>...         </td><td> 0.48641784 </td><td>-0.1653528  </td><td>-0.31356043 </td><td>-0.1149083  </td><td>-0.2441054  </td><td> 2.0467119  </td><td> 1.7201029  </td><td> 1.2621327  </td><td>0.9050914   </td><td> 1.7525273  </td></tr>\n",
       "</tbody>\n",
       "</table>\n"
      ],
      "text/latex": [
       "\\begin{tabular}{r|llllllllllllllllllllllllllllll}\n",
       " diagnosis & radius\\_mean & texture\\_mean & perimeter\\_mean & area\\_mean & smoothness\\_mean & compactness\\_mean & concavity\\_mean & concave.points\\_mean & symmetry\\_mean & ... & fractal\\_dimension\\_se & radius\\_worst & texture\\_worst & perimeter\\_worst & area\\_worst & smoothness\\_worst & compactness\\_worst & concavity\\_worst & concave.points\\_worst & symmetry\\_worst\\\\\n",
       "\\hline\n",
       "\t 1            &  1.0960995   & -2.0715123   &  1.2688173   &  0.9835095   &  1.5670875   &  3.2806281   &  2.65054179  & 2.5302489    &  2.215565542 & ...          &  0.90628565  &  1.8850310   & -1.35809849  &  2.3015755   &  1.9994782   &  1.3065367   &  2.6143647   &  2.1076718   & 2.2940576    &  2.7482041  \\\\\n",
       "\t 1            &  1.8282120   & -0.3533215   &  1.6844726   &  1.9070303   & -0.8262354   & -0.4866435   & -0.02382489  & 0.5476623    &  0.001391139 & ...          & -0.09935632  &  1.8043398   & -0.36887865  &  1.5337764   &  1.8888270   & -0.3752817   & -0.4300658   & -0.1466200   & 1.0861286    & -0.2436753  \\\\\n",
       "\t 1            &  1.5784992   &  0.4557859   &  1.5651260   &  1.5575132   &  0.9413821   &  1.0519999   &  1.36227979  & 2.0354398    &  0.938858720 & ...          &  0.29330133  &  1.5105411   & -0.02395331  &  1.3462906   &  1.4550043   &  0.5269438   &  1.0819801   &  0.8542223   & 1.9532817    &  1.1512420  \\\\\n",
       "\t 1            & -0.7682333   &  0.2535091   & -0.5921661   & -0.7637917   &  3.2806668   &  3.3999174   &  1.91421287  & 1.4504311    &  2.864862154 & ...          &  2.04571087  & -0.2812170   &  0.13386631  & -0.2497196   & -0.5495377   &  3.3912907   &  3.8899747   &  1.9878392   & 2.1738732    &  6.0407261  \\\\\n",
       "\t 1            &  1.7487579   & -1.1508038   &  1.7750113   &  1.8246238   &  0.2801253   &  0.5388663   &  1.36980615  & 1.4272370    & -0.009552062 & ...          &  0.49888916  &  1.2974336   & -1.46548091  &  1.3373627   &  1.2196511   &  0.2203623   & -0.3131190   &  0.6126397   & 0.7286181    & -0.8675896  \\\\\n",
       "\t 1            & -0.4759559   & -0.8346009   & -0.3868077   & -0.5052059   &  2.2354545   &  1.2432416   &  0.86554001  & 0.8239307    &  1.004517928 & ...          &  0.48641784  & -0.1653528   & -0.31356043  & -0.1149083   & -0.2441054   &  2.0467119   &  1.7201029   &  1.2621327   & 0.9050914    &  1.7525273  \\\\\n",
       "\\end{tabular}\n"
      ],
      "text/markdown": [
       "\n",
       "| diagnosis | radius_mean | texture_mean | perimeter_mean | area_mean | smoothness_mean | compactness_mean | concavity_mean | concave.points_mean | symmetry_mean | ... | fractal_dimension_se | radius_worst | texture_worst | perimeter_worst | area_worst | smoothness_worst | compactness_worst | concavity_worst | concave.points_worst | symmetry_worst |\n",
       "|---|---|---|---|---|---|---|---|---|---|---|---|---|---|---|---|---|---|---|---|---|\n",
       "| 1            |  1.0960995   | -2.0715123   |  1.2688173   |  0.9835095   |  1.5670875   |  3.2806281   |  2.65054179  | 2.5302489    |  2.215565542 | ...          |  0.90628565  |  1.8850310   | -1.35809849  |  2.3015755   |  1.9994782   |  1.3065367   |  2.6143647   |  2.1076718   | 2.2940576    |  2.7482041   |\n",
       "| 1            |  1.8282120   | -0.3533215   |  1.6844726   |  1.9070303   | -0.8262354   | -0.4866435   | -0.02382489  | 0.5476623    |  0.001391139 | ...          | -0.09935632  |  1.8043398   | -0.36887865  |  1.5337764   |  1.8888270   | -0.3752817   | -0.4300658   | -0.1466200   | 1.0861286    | -0.2436753   |\n",
       "| 1            |  1.5784992   |  0.4557859   |  1.5651260   |  1.5575132   |  0.9413821   |  1.0519999   |  1.36227979  | 2.0354398    |  0.938858720 | ...          |  0.29330133  |  1.5105411   | -0.02395331  |  1.3462906   |  1.4550043   |  0.5269438   |  1.0819801   |  0.8542223   | 1.9532817    |  1.1512420   |\n",
       "| 1            | -0.7682333   |  0.2535091   | -0.5921661   | -0.7637917   |  3.2806668   |  3.3999174   |  1.91421287  | 1.4504311    |  2.864862154 | ...          |  2.04571087  | -0.2812170   |  0.13386631  | -0.2497196   | -0.5495377   |  3.3912907   |  3.8899747   |  1.9878392   | 2.1738732    |  6.0407261   |\n",
       "| 1            |  1.7487579   | -1.1508038   |  1.7750113   |  1.8246238   |  0.2801253   |  0.5388663   |  1.36980615  | 1.4272370    | -0.009552062 | ...          |  0.49888916  |  1.2974336   | -1.46548091  |  1.3373627   |  1.2196511   |  0.2203623   | -0.3131190   |  0.6126397   | 0.7286181    | -0.8675896   |\n",
       "| 1            | -0.4759559   | -0.8346009   | -0.3868077   | -0.5052059   |  2.2354545   |  1.2432416   |  0.86554001  | 0.8239307    |  1.004517928 | ...          |  0.48641784  | -0.1653528   | -0.31356043  | -0.1149083   | -0.2441054   |  2.0467119   |  1.7201029   |  1.2621327   | 0.9050914    |  1.7525273   |\n",
       "\n"
      ],
      "text/plain": [
       "  diagnosis radius_mean texture_mean perimeter_mean area_mean  smoothness_mean\n",
       "1 1          1.0960995  -2.0715123    1.2688173      0.9835095  1.5670875     \n",
       "2 1          1.8282120  -0.3533215    1.6844726      1.9070303 -0.8262354     \n",
       "3 1          1.5784992   0.4557859    1.5651260      1.5575132  0.9413821     \n",
       "4 1         -0.7682333   0.2535091   -0.5921661     -0.7637917  3.2806668     \n",
       "5 1          1.7487579  -1.1508038    1.7750113      1.8246238  0.2801253     \n",
       "6 1         -0.4759559  -0.8346009   -0.3868077     -0.5052059  2.2354545     \n",
       "  compactness_mean concavity_mean concave.points_mean symmetry_mean ...\n",
       "1  3.2806281        2.65054179    2.5302489            2.215565542  ...\n",
       "2 -0.4866435       -0.02382489    0.5476623            0.001391139  ...\n",
       "3  1.0519999        1.36227979    2.0354398            0.938858720  ...\n",
       "4  3.3999174        1.91421287    1.4504311            2.864862154  ...\n",
       "5  0.5388663        1.36980615    1.4272370           -0.009552062  ...\n",
       "6  1.2432416        0.86554001    0.8239307            1.004517928  ...\n",
       "  fractal_dimension_se radius_worst texture_worst perimeter_worst area_worst\n",
       "1  0.90628565           1.8850310   -1.35809849    2.3015755       1.9994782\n",
       "2 -0.09935632           1.8043398   -0.36887865    1.5337764       1.8888270\n",
       "3  0.29330133           1.5105411   -0.02395331    1.3462906       1.4550043\n",
       "4  2.04571087          -0.2812170    0.13386631   -0.2497196      -0.5495377\n",
       "5  0.49888916           1.2974336   -1.46548091    1.3373627       1.2196511\n",
       "6  0.48641784          -0.1653528   -0.31356043   -0.1149083      -0.2441054\n",
       "  smoothness_worst compactness_worst concavity_worst concave.points_worst\n",
       "1  1.3065367        2.6143647         2.1076718      2.2940576           \n",
       "2 -0.3752817       -0.4300658        -0.1466200      1.0861286           \n",
       "3  0.5269438        1.0819801         0.8542223      1.9532817           \n",
       "4  3.3912907        3.8899747         1.9878392      2.1738732           \n",
       "5  0.2203623       -0.3131190         0.6126397      0.7286181           \n",
       "6  2.0467119        1.7201029         1.2621327      0.9050914           \n",
       "  symmetry_worst\n",
       "1  2.7482041    \n",
       "2 -0.2436753    \n",
       "3  1.1512420    \n",
       "4  6.0407261    \n",
       "5 -0.8675896    \n",
       "6  1.7525273    "
      ]
     },
     "metadata": {},
     "output_type": "display_data"
    }
   ],
   "source": [
    "# Eliminar no predictores (id y última columna vacía)\n",
    "df <- datos[, -c(1, ncol(datos)-1, ncol(datos))]\n",
    "# Convertir el factor diagnosis (B y M) a los valores numéricos 0 y 1, respectivamente.\n",
    "df$diagnosis <- as.numeric(df$diagnosis)-1\n",
    "# Normalizar los datos (predictores o features) para evitar problemas de diferente variabilidad\n",
    "df[-1] <- apply(df[-1], MARGIN = 2, scale)\n",
    "rm(datos)\n",
    "dim(df)\n",
    "head(df)"
   ]
  },
  {
   "cell_type": "markdown",
   "metadata": {
    "slideshow": {
     "slide_type": "slide"
    }
   },
   "source": [
    "Podemos comprobar que hay colinealidades en los datos"
   ]
  },
  {
   "cell_type": "code",
   "execution_count": 5,
   "metadata": {
    "slideshow": {
     "slide_type": "-"
    }
   },
   "outputs": [
    {
     "data": {
      "image/png": "[encoded data removed]",
      "text/plain": [
       "plot without title"
      ]
     },
     "metadata": {
      "image/png": {
       "height": 420,
       "width": 420
      }
     },
     "output_type": "display_data"
    }
   ],
   "source": [
    "library(RColorBrewer) # brewer.pal\n",
    "library(lattice) # levelplot\n",
    "colores <- brewer.pal(10,\"RdBu\")\n",
    "levelplot(cor(df), # ó simplemente image(cor(df))\n",
    "  at = seq(-1, 1, 0.2), col.regions = colores,\n",
    "  scale = list(x = list(rot = 90)) # gira 90º las etiquetas del eje X\n",
    ")"
   ]
  },
  {
   "cell_type": "markdown",
   "metadata": {
    "slideshow": {
     "slide_type": "slide"
    }
   },
   "source": [
    "## Modelo lineal completo"
   ]
  },
  {
   "cell_type": "markdown",
   "metadata": {},
   "source": [
    "Construyamos el modelo lineal mediante la función `glm`. Como la variable respuesta sigue una distribución de Bernouilli lo más apropiado es realizar una regresión logística, es decir: familia binomial, link _logit_ (por defecto para esta familia)."
   ]
  },
  {
   "cell_type": "code",
   "execution_count": 6,
   "metadata": {},
   "outputs": [
    {
     "name": "stderr",
     "output_type": "stream",
     "text": [
      "Warning message:\n",
      "\"glm.fit: fitted probabilities numerically 0 or 1 occurred\"\n"
     ]
    }
   ],
   "source": [
    "model <- glm(diagnosis ~ ., data = df, family = \"binomial\") # ídem family =  binomial(link = \"logit\"), ver ?family\n",
    "pred  <- predict(model, type = \"response\") # type = \"response\" devuelve las probabilidades predichas entre 0 y 1."
   ]
  },
  {
   "cell_type": "markdown",
   "metadata": {
    "slideshow": {
     "slide_type": "fragment"
    }
   },
   "source": [
    "Vemos que surgen algunas alertas sobre la convergencia del algoritmo (probablemente debidas a las colinealidades en nuestros predictores) y de sobreajuste (predicciones deterministas de 0 o 1)."
   ]
  },
  {
   "cell_type": "markdown",
   "metadata": {
    "slideshow": {
     "slide_type": "slide"
    }
   },
   "source": [
    "Para comprobar la capacidad predictiva de nuestro modelo en la clasificación del cáncer de mama, utilizaremos el índice Área bajo la curva ROC (AUC, por sus siglas en inglés) disponible en las librerías `verification` y `pROC`."
   ]
  },
  {
   "cell_type": "code",
   "execution_count": 7,
   "metadata": {},
   "outputs": [
    {
     "name": "stdout",
     "output_type": "stream",
     "text": [
      "package 'verification' successfully unpacked and MD5 sums checked\n",
      "\n",
      "The downloaded binary packages are in\n",
      "\tC:\\Users\\sergr\\AppData\\Local\\Temp\\RtmpEPCBUS\\downloaded_packages\n"
     ]
    },
    {
     "name": "stderr",
     "output_type": "stream",
     "text": [
      "Spam version 2.6-0 (2020-12-14) is loaded.\n",
      "Type 'help( Spam)' or 'demo( spam)' for a short introduction \n",
      "and overview of this package.\n",
      "Help for individual functions is also obtained by adding the\n",
      "suffix '.spam' to the function name, e.g. 'help( chol.spam)'.\n",
      "\n",
      "\n",
      "Attaching package: 'spam'\n",
      "\n",
      "\n",
      "The following objects are masked from 'package:base':\n",
      "\n",
      "    backsolve, forwardsolve\n",
      "\n",
      "\n",
      "See https://github.com/NCAR/Fields for\n",
      " an extensive vignette, other supplements and source code \n",
      "\n",
      "\n",
      "Attaching package: 'boot'\n",
      "\n",
      "\n",
      "The following object is masked from 'package:lattice':\n",
      "\n",
      "    melanoma\n",
      "\n",
      "\n",
      "\n",
      "Attaching package: 'proxy'\n",
      "\n",
      "\n",
      "The following object is masked from 'package:spam':\n",
      "\n",
      "    as.matrix\n",
      "\n",
      "\n",
      "The following objects are masked from 'package:stats':\n",
      "\n",
      "    as.dist, dist\n",
      "\n",
      "\n",
      "The following object is masked from 'package:base':\n",
      "\n",
      "    as.matrix\n",
      "\n",
      "\n",
      "Loaded dtw v1.22-3. See ?dtw for help, citation(\"dtw\") for use in publication.\n",
      "\n",
      "\n"
     ]
    },
    {
     "data": {
      "image/png": "[encoded data removed]",
      "text/plain": [
       "Plot with title \"Curva ROC (AUC=0.999511)\""
      ]
     },
     "metadata": {
      "image/png": {
       "height": 420,
       "width": 420
      }
     },
     "output_type": "display_data"
    }
   ],
   "source": [
    "# Paquete verification para ROC y roc area\n",
    "# options(download.file.method=\"wget\") # esta línea es necesaria en el HUB para instalar paquetes a través de una url\n",
    "install.packages(\"verification\")\n",
    "library(verification, quietly = TRUE) # roc.area\n",
    "auc <- roc.area(obs = df$diagnosis,pred)$A\n",
    "roc.plot(df$diagnosis, pred, main=sprintf(\"Curva ROC (AUC=%g)\", auc))"
   ]
  },
  {
   "cell_type": "code",
   "execution_count": 8,
   "metadata": {},
   "outputs": [
    {
     "name": "stderr",
     "output_type": "stream",
     "text": [
      "Registered S3 method overwritten by 'pROC':\n",
      "  method    from        \n",
      "  lines.roc verification\n",
      "\n",
      "Type 'citation(\"pROC\")' for a citation.\n",
      "\n",
      "\n",
      "Attaching package: 'pROC'\n",
      "\n",
      "\n",
      "The following object is masked from 'package:verification':\n",
      "\n",
      "    lines.roc\n",
      "\n",
      "\n",
      "The following objects are masked from 'package:stats':\n",
      "\n",
      "    cov, smooth, var\n",
      "\n",
      "\n"
     ]
    },
    {
     "data": {
      "text/html": [
       "0.999511125204799"
      ],
      "text/latex": [
       "0.999511125204799"
      ],
      "text/markdown": [
       "0.999511125204799"
      ],
      "text/plain": [
       "Area under the curve: 0.9995"
      ]
     },
     "metadata": {},
     "output_type": "display_data"
    },
    {
     "data": {
      "image/png": "[encoded data removed]",
      "text/plain": [
       "plot without title"
      ]
     },
     "metadata": {
      "image/png": {
       "height": 420,
       "width": 420
      }
     },
     "output_type": "display_data"
    }
   ],
   "source": [
    "# Análogamente con el paquete pROC\n",
    "#install.packages(\"pROC\")\n",
    "library(pROC) \n",
    "roc_obj <- roc(df$diagnosis, pred)\n",
    "auc(roc_obj)\n",
    "plot.roc(roc_obj,print.auc=T, print.thres = \"best\")"
   ]
  },
  {
   "cell_type": "markdown",
   "metadata": {
    "slideshow": {
     "slide_type": "slide"
    }
   },
   "source": [
    "También podríamos comprobar los resultados del modelo en una tabla de contingencia (_confusion matrix_), pero en este caso necesitamos convertir las predicciones probabilistas del modelo en valores cualitativos (factores) deterministas. Para ello usamos un umbral de decisión. En este ejemplo usamos 0.5 como umbral; prueba a modificarlo para ver el efecto sobre los aciertos del modelo (esto es lo que hace la curva ROC)."
   ]
  },
  {
   "cell_type": "code",
   "execution_count": 9,
   "metadata": {},
   "outputs": [
    {
     "name": "stderr",
     "output_type": "stream",
     "text": [
      "Registered S3 methods overwritten by 'ggplot2':\n",
      "  method         from \n",
      "  [.quosures     rlang\n",
      "  c.quosures     rlang\n",
      "  print.quosures rlang\n",
      "\n"
     ]
    },
    {
     "data": {
      "text/plain": [
       "Confusion Matrix and Statistics\n",
       "\n",
       "          Reference\n",
       "Prediction   0   1\n",
       "         0 355   4\n",
       "         1   2 208\n",
       "                                          \n",
       "               Accuracy : 0.9895          \n",
       "                 95% CI : (0.9772, 0.9961)\n",
       "    No Information Rate : 0.6274          \n",
       "    P-Value [Acc > NIR] : <2e-16          \n",
       "                                          \n",
       "                  Kappa : 0.9774          \n",
       "                                          \n",
       " Mcnemar's Test P-Value : 0.6831          \n",
       "                                          \n",
       "            Sensitivity : 0.9811          \n",
       "            Specificity : 0.9944          \n",
       "         Pos Pred Value : 0.9905          \n",
       "         Neg Pred Value : 0.9889          \n",
       "             Prevalence : 0.3726          \n",
       "         Detection Rate : 0.3656          \n",
       "   Detection Prevalence : 0.3691          \n",
       "      Balanced Accuracy : 0.9878          \n",
       "                                          \n",
       "       'Positive' Class : 1               \n",
       "                                          "
      ]
     },
     "metadata": {},
     "output_type": "display_data"
    },
    {
     "data": {
      "text/plain": [
       "    Pred.\n",
       "Ref.   0   1\n",
       "   0 355   2\n",
       "   1   4 208"
      ]
     },
     "metadata": {},
     "output_type": "display_data"
    },
    {
     "data": {
      "text/html": [
       "98.9455184534271"
      ],
      "text/latex": [
       "98.9455184534271"
      ],
      "text/markdown": [
       "98.9455184534271"
      ],
      "text/plain": [
       "[1] 98.94552"
      ]
     },
     "metadata": {},
     "output_type": "display_data"
    }
   ],
   "source": [
    "#install.packages(\"caret\")\n",
    "library(caret, quietly = TRUE) # confusionMatrix\n",
    "confusionMatrix(as.factor(as.numeric(pred>0.5)), as.factor(df$diagnosis), positive=\"1\")\n",
    "\n",
    "\n",
    "# Alternativa sin usar caret\n",
    "outbin <- as.double(pred > 0.5)\n",
    "table(df$diagnosis, outbin, dnn=c(\"Ref.\",\"Pred.\"))\n",
    "# Accuracy\n",
    "100*sum(diag(table(df$diagnosis, outbin))) / length(outbin)"
   ]
  },
  {
   "cell_type": "markdown",
   "metadata": {
    "slideshow": {
     "slide_type": "slide"
    }
   },
   "source": [
    "**TAREA 1:** Estudiar la capacidad de generalización del modelo completo mediante una validacion cruzada de tipo *hold out*, es decir, utilizando una parte de los datos para entrenar el modelo y reservando otra para probarlo."
   ]
  },
  {
   "cell_type": "code",
   "execution_count": 10,
   "metadata": {},
   "outputs": [],
   "source": [
    "n = nrow(df)\n",
    "indtrain = sample(1:n, ceiling(0.5*n))\n",
    "indtest = setdiff(1:n, indtrain)\n",
    "datosTrain = df[indtrain,]\n",
    "datosTest = df[indtest,]"
   ]
  },
  {
   "cell_type": "code",
   "execution_count": 11,
   "metadata": {
    "scrolled": true
   },
   "outputs": [
    {
     "name": "stderr",
     "output_type": "stream",
     "text": [
      "Warning message:\n",
      "\"glm.fit: algorithm did not converge\"\n",
      "Warning message:\n",
      "\"glm.fit: fitted probabilities numerically 0 or 1 occurred\"\n"
     ]
    }
   ],
   "source": [
    "model <- glm(diagnosis ~ ., data = datosTrain, family = \"binomial\") # ídem family =  binomial(link = \"logit\"), ver ?family\n",
    "pred  <- predict(model, datosTest)"
   ]
  },
  {
   "cell_type": "code",
   "execution_count": 12,
   "metadata": {},
   "outputs": [
    {
     "data": {
      "text/plain": [
       "Confusion Matrix and Statistics\n",
       "\n",
       "          Reference\n",
       "Prediction   0   1\n",
       "         0 175   9\n",
       "         1   7  93\n",
       "                                          \n",
       "               Accuracy : 0.9437          \n",
       "                 95% CI : (0.9101, 0.9675)\n",
       "    No Information Rate : 0.6408          \n",
       "    P-Value [Acc > NIR] : <2e-16          \n",
       "                                          \n",
       "                  Kappa : 0.8771          \n",
       "                                          \n",
       " Mcnemar's Test P-Value : 0.8026          \n",
       "                                          \n",
       "            Sensitivity : 0.9118          \n",
       "            Specificity : 0.9615          \n",
       "         Pos Pred Value : 0.9300          \n",
       "         Neg Pred Value : 0.9511          \n",
       "             Prevalence : 0.3592          \n",
       "         Detection Rate : 0.3275          \n",
       "   Detection Prevalence : 0.3521          \n",
       "      Balanced Accuracy : 0.9367          \n",
       "                                          \n",
       "       'Positive' Class : 1               \n",
       "                                          "
      ]
     },
     "metadata": {},
     "output_type": "display_data"
    }
   ],
   "source": [
    "confusionMatrix(as.factor(as.numeric(pred>0.5)), as.factor(datosTest$diagnosis), positive=\"1\")"
   ]
  },
  {
   "cell_type": "markdown",
   "metadata": {
    "slideshow": {
     "slide_type": "slide"
    }
   },
   "source": [
    "## Selección de variables\n",
    "\n"
   ]
  },
  {
   "cell_type": "markdown",
   "metadata": {
    "slideshow": {
     "slide_type": "fragment"
    }
   },
   "source": [
    "### Selección del mejor subconjunto"
   ]
  },
  {
   "cell_type": "markdown",
   "metadata": {},
   "source": [
    "La función `regsubsets` (`?regsubsets`) de la librería `leaps` nos permite realizar la selección del mejor subconjunto con un número dado de predictores. La sintaxis es similar a la usada para el modelo lineal (`lm`) y, del mismo modo, el comando `summary` nos permite explorar los resultados. Utilizamos el argumento `nvmax` para forzar la utilización de todas las variables (30), ya que por defecto la función regsubsets solo utiliza las 8 primeras."
   ]
  },
  {
   "cell_type": "code",
   "execution_count": 13,
   "metadata": {},
   "outputs": [],
   "source": [
    "# install.packages('leaps')\n",
    "library(leaps)\n",
    "regfit.full <- regsubsets(diagnosis ~., df, nvmax = 30) # por defecto method=\"exhaustive\""
   ]
  },
  {
   "cell_type": "markdown",
   "metadata": {
    "slideshow": {
     "slide_type": "slide"
    }
   },
   "source": [
    "La función `summary` devuelve medidas del ajuste que se pueden usar para seleccionar el mejor modelo."
   ]
  },
  {
   "cell_type": "code",
   "execution_count": 14,
   "metadata": {
    "scrolled": false,
    "slideshow": {
     "slide_type": "-"
    }
   },
   "outputs": [
    {
     "data": {
      "text/html": [
       "<ol class=list-inline>\n",
       "\t<li>'which'</li>\n",
       "\t<li>'rsq'</li>\n",
       "\t<li>'rss'</li>\n",
       "\t<li>'adjr2'</li>\n",
       "\t<li>'cp'</li>\n",
       "\t<li>'bic'</li>\n",
       "\t<li>'outmat'</li>\n",
       "\t<li>'obj'</li>\n",
       "</ol>\n"
      ],
      "text/latex": [
       "\\begin{enumerate*}\n",
       "\\item 'which'\n",
       "\\item 'rsq'\n",
       "\\item 'rss'\n",
       "\\item 'adjr2'\n",
       "\\item 'cp'\n",
       "\\item 'bic'\n",
       "\\item 'outmat'\n",
       "\\item 'obj'\n",
       "\\end{enumerate*}\n"
      ],
      "text/markdown": [
       "1. 'which'\n",
       "2. 'rsq'\n",
       "3. 'rss'\n",
       "4. 'adjr2'\n",
       "5. 'cp'\n",
       "6. 'bic'\n",
       "7. 'outmat'\n",
       "8. 'obj'\n",
       "\n",
       "\n"
      ],
      "text/plain": [
       "[1] \"which\"  \"rsq\"    \"rss\"    \"adjr2\"  \"cp\"     \"bic\"    \"outmat\" \"obj\"   "
      ]
     },
     "metadata": {},
     "output_type": "display_data"
    }
   ],
   "source": [
    "full.summary <- summary(regfit.full)\n",
    "names(full.summary)"
   ]
  },
  {
   "cell_type": "markdown",
   "metadata": {
    "slideshow": {
     "slide_type": "slide"
    }
   },
   "source": [
    "En particular, si revisamos los valores del ajuste, en este caso rsq ($R^2$, el coeficiente de determinación), se observa que el estadístico va mejorando a medida que aumentamos el número de variables en el modelo. No puede ser de otra manera, ya que este estadístico está relacionado con la varianza explicada por nuestro modelo, que aumenta monótonamente al incluir variables adicionales. Sin embargo, si nos fijamos en el estadístico BIC (*Bayesian information criterion*), que penaliza la complejidad del modelo (el número de variables predictoras), se observa que los valores óptimos se encuentran considerando 11 variables."
   ]
  },
  {
   "cell_type": "code",
   "execution_count": 15,
   "metadata": {},
   "outputs": [
    {
     "data": {
      "image/png": "[encoded data removed]",
      "text/plain": [
       "plot without title"
      ]
     },
     "metadata": {
      "image/png": {
       "height": 420,
       "width": 420
      }
     },
     "output_type": "display_data"
    }
   ],
   "source": [
    "scores <- c(\"rsq\", \"bic\")\n",
    "par(mfrow=c(length(scores),1), mar=c(4,4,1,1))\n",
    "for (score in scores){\n",
    "  plot(full.summary[[score]], xlab=\"Number of Variables\", ylab=score, type=\"l\")\n",
    "}"
   ]
  },
  {
   "cell_type": "code",
   "execution_count": 16,
   "metadata": {},
   "outputs": [
    {
     "data": {
      "text/html": [
       "11"
      ],
      "text/latex": [
       "11"
      ],
      "text/markdown": [
       "11"
      ],
      "text/plain": [
       "[1] 11"
      ]
     },
     "metadata": {},
     "output_type": "display_data"
    }
   ],
   "source": [
    "which.min(full.summary$bic)"
   ]
  },
  {
   "cell_type": "markdown",
   "metadata": {
    "slideshow": {
     "slide_type": "slide"
    }
   },
   "source": [
    "La propia función `regsubsets` incorpora un método para dibujar los resultados clasificados según los diferentes estadísticos (`? plot.regsubsets`)"
   ]
  },
  {
   "cell_type": "code",
   "execution_count": 17,
   "metadata": {},
   "outputs": [
    {
     "data": {
      "image/png": "[encoded data removed]",
      "text/plain": [
       "plot without title"
      ]
     },
     "metadata": {
      "image/png": {
       "height": 420,
       "width": 420
      }
     },
     "output_type": "display_data"
    }
   ],
   "source": [
    "plot(regfit.full, scale =\"r2\")\n",
    "#plot(regfit.full, scale =\"bic\")"
   ]
  },
  {
   "cell_type": "markdown",
   "metadata": {
    "slideshow": {
     "slide_type": "-"
    }
   },
   "source": [
    "Cada fila de este gráfico representa el mejor modelo ajustado para un número dado de variables. Cada cuadrado de color representa que la variable entra en ese modelo, mientras que la intensidad del color se asocia con la escala del eje Y."
   ]
  },
  {
   "cell_type": "markdown",
   "metadata": {
    "slideshow": {
     "slide_type": "slide"
    }
   },
   "source": [
    "Una vez localizado el modelo óptimo (en nuestro caso, el de 11 variables), si queremos conocer los coeficientes del modelo, podemos usar la función `coef` con un segundo argumento:"
   ]
  },
  {
   "cell_type": "code",
   "execution_count": 18,
   "metadata": {},
   "outputs": [
    {
     "data": {
      "text/html": [
       "<dl class=dl-horizontal>\n",
       "\t<dt>(Intercept)</dt>\n",
       "\t\t<dd>0.372583479789104</dd>\n",
       "\t<dt>radius_mean</dt>\n",
       "\t\t<dd>-0.17840168622488</dd>\n",
       "\t<dt>compactness_mean</dt>\n",
       "\t\t<dd>-0.129332282502137</dd>\n",
       "\t<dt>concave.points_mean</dt>\n",
       "\t\t<dd>0.196644687579789</dd>\n",
       "\t<dt>radius_se</dt>\n",
       "\t\t<dd>0.0580387760431747</dd>\n",
       "\t<dt>smoothness_se</dt>\n",
       "\t\t<dd>0.0656697156808529</dd>\n",
       "\t<dt>concavity_se</dt>\n",
       "\t\t<dd>-0.0667961085058052</dd>\n",
       "\t<dt>radius_worst</dt>\n",
       "\t\t<dd>0.873519264685047</dd>\n",
       "\t<dt>texture_worst</dt>\n",
       "\t\t<dd>0.0618908682342928</dd>\n",
       "\t<dt>area_worst</dt>\n",
       "\t\t<dd>-0.563902190729326</dd>\n",
       "\t<dt>concavity_worst</dt>\n",
       "\t\t<dd>0.154467115714464</dd>\n",
       "\t<dt>symmetry_worst</dt>\n",
       "\t\t<dd>0.0461066464355399</dd>\n",
       "</dl>\n"
      ],
      "text/latex": [
       "\\begin{description*}\n",
       "\\item[(Intercept)] 0.372583479789104\n",
       "\\item[radius\\textbackslash{}\\_mean] -0.17840168622488\n",
       "\\item[compactness\\textbackslash{}\\_mean] -0.129332282502137\n",
       "\\item[concave.points\\textbackslash{}\\_mean] 0.196644687579789\n",
       "\\item[radius\\textbackslash{}\\_se] 0.0580387760431747\n",
       "\\item[smoothness\\textbackslash{}\\_se] 0.0656697156808529\n",
       "\\item[concavity\\textbackslash{}\\_se] -0.0667961085058052\n",
       "\\item[radius\\textbackslash{}\\_worst] 0.873519264685047\n",
       "\\item[texture\\textbackslash{}\\_worst] 0.0618908682342928\n",
       "\\item[area\\textbackslash{}\\_worst] -0.563902190729326\n",
       "\\item[concavity\\textbackslash{}\\_worst] 0.154467115714464\n",
       "\\item[symmetry\\textbackslash{}\\_worst] 0.0461066464355399\n",
       "\\end{description*}\n"
      ],
      "text/markdown": [
       "(Intercept)\n",
       ":   0.372583479789104radius_mean\n",
       ":   -0.17840168622488compactness_mean\n",
       ":   -0.129332282502137concave.points_mean\n",
       ":   0.196644687579789radius_se\n",
       ":   0.0580387760431747smoothness_se\n",
       ":   0.0656697156808529concavity_se\n",
       ":   -0.0667961085058052radius_worst\n",
       ":   0.873519264685047texture_worst\n",
       ":   0.0618908682342928area_worst\n",
       ":   -0.563902190729326concavity_worst\n",
       ":   0.154467115714464symmetry_worst\n",
       ":   0.0461066464355399\n",
       "\n"
      ],
      "text/plain": [
       "        (Intercept)         radius_mean    compactness_mean concave.points_mean \n",
       "         0.37258348         -0.17840169         -0.12933228          0.19664469 \n",
       "          radius_se       smoothness_se        concavity_se        radius_worst \n",
       "         0.05803878          0.06566972         -0.06679611          0.87351926 \n",
       "      texture_worst          area_worst     concavity_worst      symmetry_worst \n",
       "         0.06189087         -0.56390219          0.15446712          0.04610665 "
      ]
     },
     "metadata": {},
     "output_type": "display_data"
    }
   ],
   "source": [
    "coef(regfit.full, 11)"
   ]
  },
  {
   "cell_type": "markdown",
   "metadata": {
    "slideshow": {
     "slide_type": "slide"
    }
   },
   "source": [
    "### Selección stepwise\n",
    "Al no haber especificado método de selección, la búsqueda del mejor modelo de la sección anterior ha sido exhaustiva. Con un leve cambio en los argumentos de la función podemos realizar la selección _stepwise_, ya sea “forward” o “backward”:"
   ]
  },
  {
   "cell_type": "code",
   "execution_count": 19,
   "metadata": {},
   "outputs": [],
   "source": [
    "regfit.fwd <- regsubsets(diagnosis~., data = df, nvmax = 30 , method =\"forward\")\n",
    "fwd.summary <- summary(regfit.fwd)"
   ]
  },
  {
   "cell_type": "markdown",
   "metadata": {
    "slideshow": {
     "slide_type": "slide"
    }
   },
   "source": [
    "**TAREA 2:** Estudiar los predictores seleccionados en este caso. ¿cuál es su número óptimo? ¿coinciden con los anteriores?"
   ]
  },
  {
   "cell_type": "code",
   "execution_count": 20,
   "metadata": {},
   "outputs": [
    {
     "data": {
      "text/html": [
       "13"
      ],
      "text/latex": [
       "13"
      ],
      "text/markdown": [
       "13"
      ],
      "text/plain": [
       "[1] 13"
      ]
     },
     "metadata": {},
     "output_type": "display_data"
    }
   ],
   "source": [
    "which.min(fwd.summary$bic)"
   ]
  },
  {
   "cell_type": "markdown",
   "metadata": {},
   "source": [
    "Es mayor"
   ]
  },
  {
   "cell_type": "markdown",
   "metadata": {
    "slideshow": {
     "slide_type": "slide"
    }
   },
   "source": [
    "**TAREA 3:** Comparar la selección realizada por el método _backward_ con los métodos exhaustivo y _forward stepwise_."
   ]
  },
  {
   "cell_type": "code",
   "execution_count": 21,
   "metadata": {},
   "outputs": [],
   "source": [
    "regfit.bwd <- regsubsets(diagnosis~., data = df, nvmax = 30 , method =\"backward\")\n",
    "bwd.summary <- summary(regfit.bwd)"
   ]
  },
  {
   "cell_type": "code",
   "execution_count": 22,
   "metadata": {},
   "outputs": [
    {
     "data": {
      "text/html": [
       "11"
      ],
      "text/latex": [
       "11"
      ],
      "text/markdown": [
       "11"
      ],
      "text/plain": [
       "[1] 11"
      ]
     },
     "metadata": {},
     "output_type": "display_data"
    }
   ],
   "source": [
    "which.min(bwd.summary$bic)"
   ]
  },
  {
   "cell_type": "markdown",
   "metadata": {},
   "source": [
    "Es igual al del exhaustivo y menor al del forward"
   ]
  },
  {
   "cell_type": "markdown",
   "metadata": {},
   "source": []
  },
  {
   "cell_type": "markdown",
   "metadata": {
    "slideshow": {
     "slide_type": "slide"
    }
   },
   "source": [
    "### Selección mediante la función step\n",
    "Otra opción para realizar la selección _stepwise_ es usar la función `step`, que forma parte del paquete básico `stats` de R:"
   ]
  },
  {
   "cell_type": "code",
   "execution_count": 23,
   "metadata": {},
   "outputs": [
    {
     "name": "stderr",
     "output_type": "stream",
     "text": [
      "Warning message:\n",
      "\"glm.fit: fitted probabilities numerically 0 or 1 occurred\"\n"
     ]
    },
    {
     "name": "stdout",
     "output_type": "stream",
     "text": [
      "Start:  AIC=753.44\n",
      "diagnosis ~ 1\n",
      "\n"
     ]
    },
    {
     "name": "stderr",
     "output_type": "stream",
     "text": [
      "Warning message:\n",
      "\"glm.fit: fitted probabilities numerically 0 or 1 occurred\"\n",
      "Warning message:\n",
      "\"glm.fit: fitted probabilities numerically 0 or 1 occurred\"\n"
     ]
    },
    {
     "name": "stdout",
     "output_type": "stream",
     "text": [
      "                         Df Deviance    AIC\n",
      "+ perimeter_worst         1   209.48 213.48\n",
      "+ radius_worst            1   229.11 233.11\n",
      "+ area_worst              1   230.64 234.64\n",
      "+ concave.points_worst    1   250.45 254.45\n",
      "+ concave.points_mean     1   258.92 262.92\n",
      "+ perimeter_mean          1   304.48 308.48\n",
      "+ area_mean               1   325.66 329.66\n",
      "+ radius_mean             1   330.01 334.01\n",
      "+ area_se                 1   359.50 363.50\n",
      "+ concavity_mean          1   383.23 387.23\n",
      "+ concavity_worst         1   437.70 441.70\n",
      "+ perimeter_se            1   472.83 476.83\n",
      "+ radius_se               1   480.65 484.65\n",
      "+ compactness_worst       1   505.55 509.55\n",
      "+ compactness_mean        1   508.79 512.79\n",
      "+ texture_worst           1   622.07 626.07\n",
      "+ symmetry_worst          1   641.42 645.42\n",
      "+ smoothness_worst        1   641.42 645.42\n",
      "+ concave.points_se       1   646.01 650.01\n",
      "+ texture_mean            1   646.52 650.52\n",
      "+ smoothness_mean         1   673.95 677.95\n",
      "+ symmetry_mean           1   686.80 690.80\n",
      "+ compactness_se          1   701.77 705.77\n",
      "+ concavity_se            1   707.09 711.09\n",
      "+ fractal_dimension_se    1   748.06 752.06\n",
      "+ smoothness_se           1   748.79 752.79\n",
      "<none>                        751.44 753.44\n",
      "+ fractal_dimension_mean  1   751.35 755.35\n",
      "+ texture_se              1   751.40 755.40\n",
      "+ symmetry_se             1   751.42 755.42\n",
      "\n",
      "Step:  AIC=213.48\n",
      "diagnosis ~ perimeter_worst\n",
      "\n"
     ]
    },
    {
     "name": "stderr",
     "output_type": "stream",
     "text": [
      "Warning message:\n",
      "\"glm.fit: fitted probabilities numerically 0 or 1 occurred\"\n",
      "Warning message:\n",
      "\"glm.fit: fitted probabilities numerically 0 or 1 occurred\"\n",
      "Warning message:\n",
      "\"glm.fit: fitted probabilities numerically 0 or 1 occurred\"\n"
     ]
    },
    {
     "name": "stdout",
     "output_type": "stream",
     "text": [
      "                         Df Deviance    AIC\n",
      "+ smoothness_worst        1   139.18 145.18\n",
      "+ concave.points_worst    1   149.59 155.59\n",
      "+ texture_worst           1   159.68 165.68\n",
      "+ concave.points_mean     1   162.47 168.47\n",
      "+ smoothness_mean         1   165.18 171.18\n",
      "+ symmetry_worst          1   167.85 173.85\n",
      "+ concavity_worst         1   168.55 174.55\n",
      "+ concavity_mean          1   169.78 175.78\n",
      "+ radius_mean             1   173.15 179.15\n",
      "+ compactness_worst       1   175.42 181.42\n",
      "+ symmetry_mean           1   177.18 183.18\n",
      "+ fractal_dimension_mean  1   177.62 183.62\n",
      "+ texture_mean            1   178.63 184.63\n",
      "+ area_mean               1   180.70 186.70\n",
      "+ compactness_mean        1   181.84 187.84\n",
      "+ perimeter_mean          1   183.59 189.59\n",
      "+ smoothness_se           1   191.06 197.06\n",
      "+ texture_se              1   195.30 201.30\n",
      "+ concave.points_se       1   198.67 204.67\n",
      "+ radius_se               1   199.25 205.25\n",
      "+ area_se                 1   201.45 207.45\n",
      "+ symmetry_se             1   201.51 207.51\n",
      "+ perimeter_se            1   202.50 208.50\n",
      "+ compactness_se          1   203.30 209.30\n",
      "+ concavity_se            1   203.93 209.93\n",
      "+ fractal_dimension_se    1   205.07 211.07\n",
      "<none>                        209.48 213.48\n",
      "+ radius_worst            1   208.72 214.72\n",
      "+ area_worst              1   209.14 215.14\n",
      "\n",
      "Step:  AIC=145.18\n",
      "diagnosis ~ perimeter_worst + smoothness_worst\n",
      "\n"
     ]
    },
    {
     "name": "stderr",
     "output_type": "stream",
     "text": [
      "Warning message:\n",
      "\"glm.fit: fitted probabilities numerically 0 or 1 occurred\"\n",
      "Warning message:\n",
      "\"glm.fit: fitted probabilities numerically 0 or 1 occurred\"\n",
      "Warning message:\n",
      "\"glm.fit: fitted probabilities numerically 0 or 1 occurred\"\n",
      "Warning message:\n",
      "\"glm.fit: fitted probabilities numerically 0 or 1 occurred\"\n",
      "Warning message:\n",
      "\"glm.fit: fitted probabilities numerically 0 or 1 occurred\"\n",
      "Warning message:\n",
      "\"glm.fit: fitted probabilities numerically 0 or 1 occurred\"\n",
      "Warning message:\n",
      "\"glm.fit: fitted probabilities numerically 0 or 1 occurred\"\n",
      "Warning message:\n",
      "\"glm.fit: fitted probabilities numerically 0 or 1 occurred\"\n"
     ]
    },
    {
     "name": "stdout",
     "output_type": "stream",
     "text": [
      "                         Df Deviance    AIC\n",
      "+ texture_worst           1   103.61 111.61\n",
      "+ texture_mean            1   106.84 114.84\n",
      "+ texture_se              1   122.51 130.51\n",
      "+ area_se                 1   123.42 131.42\n",
      "+ radius_se               1   124.89 132.90\n",
      "+ perimeter_se            1   130.42 138.42\n",
      "+ concavity_mean          1   133.31 141.31\n",
      "+ symmetry_worst          1   134.45 142.45\n",
      "+ area_worst              1   134.65 142.65\n",
      "+ symmetry_se             1   135.31 143.31\n",
      "+ concave.points_mean     1   135.35 143.35\n",
      "+ concave.points_worst    1   135.57 143.57\n",
      "+ concavity_worst         1   135.97 143.97\n",
      "+ symmetry_mean           1   136.21 144.21\n",
      "+ concave.points_se       1   136.32 144.32\n",
      "<none>                        139.18 145.18\n",
      "+ concavity_se            1   137.42 145.42\n",
      "+ radius_worst            1   137.53 145.53\n",
      "+ radius_mean             1   137.66 145.66\n",
      "+ perimeter_mean          1   137.81 145.81\n",
      "+ smoothness_se           1   138.54 146.54\n",
      "+ area_mean               1   138.78 146.78\n",
      "+ fractal_dimension_mean  1   138.97 146.97\n",
      "+ smoothness_mean         1   138.98 146.98\n",
      "+ compactness_mean        1   139.06 147.06\n",
      "+ compactness_worst       1   139.06 147.06\n",
      "+ compactness_se          1   139.11 147.11\n",
      "+ fractal_dimension_se    1   139.18 147.18\n"
     ]
    },
    {
     "name": "stderr",
     "output_type": "stream",
     "text": [
      "Warning message:\n",
      "\"glm.fit: fitted probabilities numerically 0 or 1 occurred\"\n"
     ]
    },
    {
     "name": "stdout",
     "output_type": "stream",
     "text": [
      "\n",
      "Step:  AIC=111.61\n",
      "diagnosis ~ perimeter_worst + smoothness_worst + texture_worst\n",
      "\n"
     ]
    },
    {
     "name": "stderr",
     "output_type": "stream",
     "text": [
      "Warning message:\n",
      "\"glm.fit: fitted probabilities numerically 0 or 1 occurred\"\n",
      "Warning message:\n",
      "\"glm.fit: fitted probabilities numerically 0 or 1 occurred\"\n",
      "Warning message:\n",
      "\"glm.fit: fitted probabilities numerically 0 or 1 occurred\"\n",
      "Warning message:\n",
      "\"glm.fit: fitted probabilities numerically 0 or 1 occurred\"\n",
      "Warning message:\n",
      "\"glm.fit: fitted probabilities numerically 0 or 1 occurred\"\n",
      "Warning message:\n",
      "\"glm.fit: fitted probabilities numerically 0 or 1 occurred\"\n",
      "Warning message:\n",
      "\"glm.fit: fitted probabilities numerically 0 or 1 occurred\"\n",
      "Warning message:\n",
      "\"glm.fit: fitted probabilities numerically 0 or 1 occurred\"\n",
      "Warning message:\n",
      "\"glm.fit: fitted probabilities numerically 0 or 1 occurred\"\n",
      "Warning message:\n",
      "\"glm.fit: fitted probabilities numerically 0 or 1 occurred\"\n",
      "Warning message:\n",
      "\"glm.fit: fitted probabilities numerically 0 or 1 occurred\"\n",
      "Warning message:\n",
      "\"glm.fit: fitted probabilities numerically 0 or 1 occurred\"\n",
      "Warning message:\n",
      "\"glm.fit: fitted probabilities numerically 0 or 1 occurred\"\n",
      "Warning message:\n",
      "\"glm.fit: fitted probabilities numerically 0 or 1 occurred\"\n",
      "Warning message:\n",
      "\"glm.fit: fitted probabilities numerically 0 or 1 occurred\"\n",
      "Warning message:\n",
      "\"glm.fit: fitted probabilities numerically 0 or 1 occurred\"\n",
      "Warning message:\n",
      "\"glm.fit: fitted probabilities numerically 0 or 1 occurred\"\n",
      "Warning message:\n",
      "\"glm.fit: fitted probabilities numerically 0 or 1 occurred\"\n",
      "Warning message:\n",
      "\"glm.fit: fitted probabilities numerically 0 or 1 occurred\"\n",
      "Warning message:\n",
      "\"glm.fit: fitted probabilities numerically 0 or 1 occurred\"\n",
      "Warning message:\n",
      "\"glm.fit: fitted probabilities numerically 0 or 1 occurred\"\n",
      "Warning message:\n",
      "\"glm.fit: fitted probabilities numerically 0 or 1 occurred\"\n",
      "Warning message:\n",
      "\"glm.fit: fitted probabilities numerically 0 or 1 occurred\"\n",
      "Warning message:\n",
      "\"glm.fit: fitted probabilities numerically 0 or 1 occurred\"\n",
      "Warning message:\n",
      "\"glm.fit: fitted probabilities numerically 0 or 1 occurred\"\n",
      "Warning message:\n",
      "\"glm.fit: fitted probabilities numerically 0 or 1 occurred\"\n",
      "Warning message:\n",
      "\"glm.fit: fitted probabilities numerically 0 or 1 occurred\"\n"
     ]
    },
    {
     "name": "stdout",
     "output_type": "stream",
     "text": [
      "                         Df Deviance     AIC\n",
      "+ radius_se               1   87.205  97.205\n",
      "+ area_se                 1   87.437  97.437\n",
      "+ perimeter_se            1   94.237 104.237\n",
      "+ concave.points_mean     1   94.884 104.884\n",
      "+ concave.points_se       1   98.633 108.633\n",
      "+ symmetry_mean           1   98.669 108.669\n",
      "+ concavity_mean          1   98.727 108.727\n",
      "+ symmetry_se             1   98.826 108.826\n",
      "+ concave.points_worst    1   99.349 109.349\n",
      "+ symmetry_worst          1  100.170 110.170\n",
      "+ area_worst              1  100.526 110.526\n",
      "+ radius_worst            1  101.505 111.505\n",
      "<none>                       103.612 111.612\n",
      "+ smoothness_mean         1  101.830 111.830\n",
      "+ concavity_worst         1  102.514 112.514\n",
      "+ concavity_se            1  102.560 112.560\n",
      "+ texture_mean            1  103.218 113.218\n",
      "+ fractal_dimension_se    1  103.224 113.224\n",
      "+ texture_se              1  103.237 113.237\n",
      "+ smoothness_se           1  103.285 113.285\n",
      "+ compactness_worst       1  103.360 113.360\n",
      "+ compactness_se          1  103.369 113.369\n",
      "+ radius_mean             1  103.583 113.583\n",
      "+ area_mean               1  103.589 113.589\n",
      "+ perimeter_mean          1  103.604 113.604\n",
      "+ fractal_dimension_mean  1  103.605 113.605\n",
      "+ compactness_mean        1  103.610 113.610\n"
     ]
    },
    {
     "name": "stderr",
     "output_type": "stream",
     "text": [
      "Warning message:\n",
      "\"glm.fit: fitted probabilities numerically 0 or 1 occurred\"\n"
     ]
    },
    {
     "name": "stdout",
     "output_type": "stream",
     "text": [
      "\n",
      "Step:  AIC=97.2\n",
      "diagnosis ~ perimeter_worst + smoothness_worst + texture_worst + \n",
      "    radius_se\n",
      "\n"
     ]
    },
    {
     "name": "stderr",
     "output_type": "stream",
     "text": [
      "Warning message:\n",
      "\"glm.fit: fitted probabilities numerically 0 or 1 occurred\"\n",
      "Warning message:\n",
      "\"glm.fit: fitted probabilities numerically 0 or 1 occurred\"\n",
      "Warning message:\n",
      "\"glm.fit: fitted probabilities numerically 0 or 1 occurred\"\n",
      "Warning message:\n",
      "\"glm.fit: fitted probabilities numerically 0 or 1 occurred\"\n",
      "Warning message:\n",
      "\"glm.fit: fitted probabilities numerically 0 or 1 occurred\"\n",
      "Warning message:\n",
      "\"glm.fit: fitted probabilities numerically 0 or 1 occurred\"\n",
      "Warning message:\n",
      "\"glm.fit: fitted probabilities numerically 0 or 1 occurred\"\n",
      "Warning message:\n",
      "\"glm.fit: fitted probabilities numerically 0 or 1 occurred\"\n",
      "Warning message:\n",
      "\"glm.fit: fitted probabilities numerically 0 or 1 occurred\"\n",
      "Warning message:\n",
      "\"glm.fit: fitted probabilities numerically 0 or 1 occurred\"\n",
      "Warning message:\n",
      "\"glm.fit: fitted probabilities numerically 0 or 1 occurred\"\n",
      "Warning message:\n",
      "\"glm.fit: fitted probabilities numerically 0 or 1 occurred\"\n",
      "Warning message:\n",
      "\"glm.fit: fitted probabilities numerically 0 or 1 occurred\"\n",
      "Warning message:\n",
      "\"glm.fit: fitted probabilities numerically 0 or 1 occurred\"\n",
      "Warning message:\n",
      "\"glm.fit: fitted probabilities numerically 0 or 1 occurred\"\n",
      "Warning message:\n",
      "\"glm.fit: fitted probabilities numerically 0 or 1 occurred\"\n",
      "Warning message:\n",
      "\"glm.fit: fitted probabilities numerically 0 or 1 occurred\"\n",
      "Warning message:\n",
      "\"glm.fit: fitted probabilities numerically 0 or 1 occurred\"\n",
      "Warning message:\n",
      "\"glm.fit: fitted probabilities numerically 0 or 1 occurred\"\n",
      "Warning message:\n",
      "\"glm.fit: fitted probabilities numerically 0 or 1 occurred\"\n",
      "Warning message:\n",
      "\"glm.fit: fitted probabilities numerically 0 or 1 occurred\"\n",
      "Warning message:\n",
      "\"glm.fit: fitted probabilities numerically 0 or 1 occurred\"\n",
      "Warning message:\n",
      "\"glm.fit: fitted probabilities numerically 0 or 1 occurred\"\n",
      "Warning message:\n",
      "\"glm.fit: fitted probabilities numerically 0 or 1 occurred\"\n",
      "Warning message:\n",
      "\"glm.fit: fitted probabilities numerically 0 or 1 occurred\"\n",
      "Warning message:\n",
      "\"glm.fit: fitted probabilities numerically 0 or 1 occurred\"\n"
     ]
    },
    {
     "name": "stdout",
     "output_type": "stream",
     "text": [
      "                         Df Deviance    AIC\n",
      "+ symmetry_worst          1   79.073 91.073\n",
      "+ concave.points_worst    1   79.196 91.196\n",
      "+ texture_se              1   82.558 94.558\n",
      "+ concave.points_mean     1   84.004 96.004\n",
      "+ concavity_worst         1   84.146 96.146\n",
      "+ fractal_dimension_se    1   84.287 96.287\n",
      "+ symmetry_mean           1   84.542 96.542\n",
      "+ compactness_se          1   84.888 96.888\n",
      "+ perimeter_se            1   85.151 97.151\n",
      "+ concavity_mean          1   85.159 97.159\n",
      "<none>                        87.205 97.205\n",
      "+ area_worst              1   85.805 97.805\n",
      "+ smoothness_se           1   85.810 97.810\n",
      "+ symmetry_se             1   86.025 98.025\n",
      "+ radius_worst            1   86.030 98.030\n",
      "+ compactness_mean        1   86.597 98.597\n",
      "+ fractal_dimension_mean  1   86.729 98.729\n",
      "+ perimeter_mean          1   86.780 98.780\n",
      "+ radius_mean             1   86.873 98.873\n",
      "+ area_mean               1   87.043 99.043\n",
      "+ texture_mean            1   87.050 99.050\n",
      "+ smoothness_mean         1   87.075 99.075\n",
      "+ concave.points_se       1   87.081 99.081\n",
      "+ area_se                 1   87.170 99.170\n",
      "+ compactness_worst       1   87.194 99.194\n",
      "+ concavity_se            1   87.205 99.205\n"
     ]
    },
    {
     "name": "stderr",
     "output_type": "stream",
     "text": [
      "Warning message:\n",
      "\"glm.fit: fitted probabilities numerically 0 or 1 occurred\"\n"
     ]
    },
    {
     "name": "stdout",
     "output_type": "stream",
     "text": [
      "\n",
      "Step:  AIC=91.07\n",
      "diagnosis ~ perimeter_worst + smoothness_worst + texture_worst + \n",
      "    radius_se + symmetry_worst\n",
      "\n"
     ]
    },
    {
     "name": "stderr",
     "output_type": "stream",
     "text": [
      "Warning message:\n",
      "\"glm.fit: fitted probabilities numerically 0 or 1 occurred\"\n",
      "Warning message:\n",
      "\"glm.fit: fitted probabilities numerically 0 or 1 occurred\"\n",
      "Warning message:\n",
      "\"glm.fit: fitted probabilities numerically 0 or 1 occurred\"\n",
      "Warning message:\n",
      "\"glm.fit: fitted probabilities numerically 0 or 1 occurred\"\n",
      "Warning message:\n",
      "\"glm.fit: fitted probabilities numerically 0 or 1 occurred\"\n",
      "Warning message:\n",
      "\"glm.fit: fitted probabilities numerically 0 or 1 occurred\"\n",
      "Warning message:\n",
      "\"glm.fit: fitted probabilities numerically 0 or 1 occurred\"\n",
      "Warning message:\n",
      "\"glm.fit: fitted probabilities numerically 0 or 1 occurred\"\n",
      "Warning message:\n",
      "\"glm.fit: fitted probabilities numerically 0 or 1 occurred\"\n",
      "Warning message:\n",
      "\"glm.fit: fitted probabilities numerically 0 or 1 occurred\"\n",
      "Warning message:\n",
      "\"glm.fit: fitted probabilities numerically 0 or 1 occurred\"\n",
      "Warning message:\n",
      "\"glm.fit: fitted probabilities numerically 0 or 1 occurred\"\n",
      "Warning message:\n",
      "\"glm.fit: fitted probabilities numerically 0 or 1 occurred\"\n",
      "Warning message:\n",
      "\"glm.fit: fitted probabilities numerically 0 or 1 occurred\"\n",
      "Warning message:\n",
      "\"glm.fit: fitted probabilities numerically 0 or 1 occurred\"\n",
      "Warning message:\n",
      "\"glm.fit: fitted probabilities numerically 0 or 1 occurred\"\n",
      "Warning message:\n",
      "\"glm.fit: fitted probabilities numerically 0 or 1 occurred\"\n",
      "Warning message:\n",
      "\"glm.fit: fitted probabilities numerically 0 or 1 occurred\"\n",
      "Warning message:\n",
      "\"glm.fit: fitted probabilities numerically 0 or 1 occurred\"\n",
      "Warning message:\n",
      "\"glm.fit: fitted probabilities numerically 0 or 1 occurred\"\n",
      "Warning message:\n",
      "\"glm.fit: fitted probabilities numerically 0 or 1 occurred\"\n",
      "Warning message:\n",
      "\"glm.fit: fitted probabilities numerically 0 or 1 occurred\"\n",
      "Warning message:\n",
      "\"glm.fit: fitted probabilities numerically 0 or 1 occurred\"\n",
      "Warning message:\n",
      "\"glm.fit: fitted probabilities numerically 0 or 1 occurred\"\n",
      "Warning message:\n",
      "\"glm.fit: fitted probabilities numerically 0 or 1 occurred\"\n"
     ]
    },
    {
     "name": "stdout",
     "output_type": "stream",
     "text": [
      "                         Df Deviance    AIC\n",
      "+ compactness_se          1   74.511 88.511\n",
      "+ concave.points_worst    1   74.850 88.850\n",
      "+ fractal_dimension_se    1   75.551 89.551\n",
      "+ texture_se              1   75.869 89.869\n",
      "+ area_worst              1   76.196 90.196\n",
      "+ compactness_mean        1   76.436 90.436\n",
      "+ perimeter_se            1   76.737 90.737\n",
      "+ radius_worst            1   76.821 90.821\n",
      "+ fractal_dimension_mean  1   76.900 90.900\n",
      "+ concave.points_mean     1   76.974 90.974\n",
      "<none>                        79.073 91.073\n",
      "+ compactness_worst       1   77.638 91.638\n",
      "+ concavity_worst         1   78.142 92.142\n",
      "+ symmetry_se             1   78.211 92.211\n",
      "+ concavity_mean          1   78.438 92.438\n",
      "+ area_se                 1   78.494 92.494\n",
      "+ smoothness_mean         1   78.730 92.730\n",
      "+ smoothness_se           1   78.772 92.772\n",
      "+ symmetry_mean           1   78.803 92.803\n",
      "+ area_mean               1   78.899 92.899\n",
      "+ concavity_se            1   78.973 92.973\n",
      "+ radius_mean             1   78.999 92.999\n",
      "+ concave.points_se       1   79.005 93.005\n",
      "+ texture_mean            1   79.034 93.034\n",
      "+ perimeter_mean          1   79.072 93.072\n"
     ]
    },
    {
     "name": "stderr",
     "output_type": "stream",
     "text": [
      "Warning message:\n",
      "\"glm.fit: fitted probabilities numerically 0 or 1 occurred\"\n"
     ]
    },
    {
     "name": "stdout",
     "output_type": "stream",
     "text": [
      "\n",
      "Step:  AIC=88.51\n",
      "diagnosis ~ perimeter_worst + smoothness_worst + texture_worst + \n",
      "    radius_se + symmetry_worst + compactness_se\n",
      "\n"
     ]
    },
    {
     "name": "stderr",
     "output_type": "stream",
     "text": [
      "Warning message:\n",
      "\"glm.fit: fitted probabilities numerically 0 or 1 occurred\"\n",
      "Warning message:\n",
      "\"glm.fit: fitted probabilities numerically 0 or 1 occurred\"\n",
      "Warning message:\n",
      "\"glm.fit: fitted probabilities numerically 0 or 1 occurred\"\n",
      "Warning message:\n",
      "\"glm.fit: fitted probabilities numerically 0 or 1 occurred\"\n",
      "Warning message:\n",
      "\"glm.fit: fitted probabilities numerically 0 or 1 occurred\"\n",
      "Warning message:\n",
      "\"glm.fit: fitted probabilities numerically 0 or 1 occurred\"\n",
      "Warning message:\n",
      "\"glm.fit: fitted probabilities numerically 0 or 1 occurred\"\n",
      "Warning message:\n",
      "\"glm.fit: fitted probabilities numerically 0 or 1 occurred\"\n",
      "Warning message:\n",
      "\"glm.fit: fitted probabilities numerically 0 or 1 occurred\"\n",
      "Warning message:\n",
      "\"glm.fit: fitted probabilities numerically 0 or 1 occurred\"\n",
      "Warning message:\n",
      "\"glm.fit: fitted probabilities numerically 0 or 1 occurred\"\n",
      "Warning message:\n",
      "\"glm.fit: fitted probabilities numerically 0 or 1 occurred\"\n",
      "Warning message:\n",
      "\"glm.fit: fitted probabilities numerically 0 or 1 occurred\"\n",
      "Warning message:\n",
      "\"glm.fit: fitted probabilities numerically 0 or 1 occurred\"\n",
      "Warning message:\n",
      "\"glm.fit: fitted probabilities numerically 0 or 1 occurred\"\n",
      "Warning message:\n",
      "\"glm.fit: fitted probabilities numerically 0 or 1 occurred\"\n",
      "Warning message:\n",
      "\"glm.fit: fitted probabilities numerically 0 or 1 occurred\"\n",
      "Warning message:\n",
      "\"glm.fit: fitted probabilities numerically 0 or 1 occurred\"\n",
      "Warning message:\n",
      "\"glm.fit: fitted probabilities numerically 0 or 1 occurred\"\n",
      "Warning message:\n",
      "\"glm.fit: fitted probabilities numerically 0 or 1 occurred\"\n",
      "Warning message:\n",
      "\"glm.fit: fitted probabilities numerically 0 or 1 occurred\"\n",
      "Warning message:\n",
      "\"glm.fit: fitted probabilities numerically 0 or 1 occurred\"\n",
      "Warning message:\n",
      "\"glm.fit: fitted probabilities numerically 0 or 1 occurred\"\n",
      "Warning message:\n",
      "\"glm.fit: fitted probabilities numerically 0 or 1 occurred\"\n"
     ]
    },
    {
     "name": "stdout",
     "output_type": "stream",
     "text": [
      "                         Df Deviance    AIC\n",
      "+ concavity_mean          1   65.529 81.529\n",
      "+ concave.points_worst    1   65.593 81.593\n",
      "+ concave.points_mean     1   67.066 83.066\n",
      "+ concavity_worst         1   67.234 83.234\n",
      "+ concave.points_se       1   68.551 84.551\n",
      "+ concavity_se            1   69.777 85.777\n",
      "<none>                        74.511 88.511\n",
      "+ texture_se              1   72.725 88.725\n",
      "+ perimeter_se            1   73.232 89.232\n",
      "+ smoothness_se           1   73.614 89.614\n",
      "+ area_se                 1   73.733 89.733\n",
      "+ area_worst              1   74.085 90.085\n",
      "+ radius_worst            1   74.330 90.330\n",
      "+ symmetry_se             1   74.406 90.406\n",
      "+ fractal_dimension_mean  1   74.408 90.408\n",
      "+ texture_mean            1   74.443 90.443\n",
      "+ compactness_mean        1   74.471 90.471\n",
      "+ smoothness_mean         1   74.491 90.491\n",
      "+ perimeter_mean          1   74.498 90.498\n",
      "+ compactness_worst       1   74.501 90.501\n",
      "+ fractal_dimension_se    1   74.502 90.502\n",
      "+ radius_mean             1   74.505 90.505\n",
      "+ area_mean               1   74.505 90.505\n",
      "+ symmetry_mean           1   74.508 90.508\n"
     ]
    },
    {
     "name": "stderr",
     "output_type": "stream",
     "text": [
      "Warning message:\n",
      "\"glm.fit: fitted probabilities numerically 0 or 1 occurred\"\n"
     ]
    },
    {
     "name": "stdout",
     "output_type": "stream",
     "text": [
      "\n",
      "Step:  AIC=81.53\n",
      "diagnosis ~ perimeter_worst + smoothness_worst + texture_worst + \n",
      "    radius_se + symmetry_worst + compactness_se + concavity_mean\n",
      "\n"
     ]
    },
    {
     "name": "stderr",
     "output_type": "stream",
     "text": [
      "Warning message:\n",
      "\"glm.fit: fitted probabilities numerically 0 or 1 occurred\"\n",
      "Warning message:\n",
      "\"glm.fit: fitted probabilities numerically 0 or 1 occurred\"\n",
      "Warning message:\n",
      "\"glm.fit: fitted probabilities numerically 0 or 1 occurred\"\n",
      "Warning message:\n",
      "\"glm.fit: fitted probabilities numerically 0 or 1 occurred\"\n",
      "Warning message:\n",
      "\"glm.fit: fitted probabilities numerically 0 or 1 occurred\"\n",
      "Warning message:\n",
      "\"glm.fit: fitted probabilities numerically 0 or 1 occurred\"\n",
      "Warning message:\n",
      "\"glm.fit: fitted probabilities numerically 0 or 1 occurred\"\n",
      "Warning message:\n",
      "\"glm.fit: fitted probabilities numerically 0 or 1 occurred\"\n",
      "Warning message:\n",
      "\"glm.fit: fitted probabilities numerically 0 or 1 occurred\"\n",
      "Warning message:\n",
      "\"glm.fit: fitted probabilities numerically 0 or 1 occurred\"\n",
      "Warning message:\n",
      "\"glm.fit: fitted probabilities numerically 0 or 1 occurred\"\n",
      "Warning message:\n",
      "\"glm.fit: fitted probabilities numerically 0 or 1 occurred\"\n",
      "Warning message:\n",
      "\"glm.fit: fitted probabilities numerically 0 or 1 occurred\"\n",
      "Warning message:\n",
      "\"glm.fit: fitted probabilities numerically 0 or 1 occurred\"\n",
      "Warning message:\n",
      "\"glm.fit: fitted probabilities numerically 0 or 1 occurred\"\n",
      "Warning message:\n",
      "\"glm.fit: fitted probabilities numerically 0 or 1 occurred\"\n",
      "Warning message:\n",
      "\"glm.fit: fitted probabilities numerically 0 or 1 occurred\"\n",
      "Warning message:\n",
      "\"glm.fit: fitted probabilities numerically 0 or 1 occurred\"\n",
      "Warning message:\n",
      "\"glm.fit: fitted probabilities numerically 0 or 1 occurred\"\n",
      "Warning message:\n",
      "\"glm.fit: fitted probabilities numerically 0 or 1 occurred\"\n",
      "Warning message:\n",
      "\"glm.fit: fitted probabilities numerically 0 or 1 occurred\"\n",
      "Warning message:\n",
      "\"glm.fit: fitted probabilities numerically 0 or 1 occurred\"\n",
      "Warning message:\n",
      "\"glm.fit: fitted probabilities numerically 0 or 1 occurred\"\n"
     ]
    },
    {
     "name": "stdout",
     "output_type": "stream",
     "text": [
      "                         Df Deviance    AIC\n",
      "+ texture_se              1   61.258 79.258\n",
      "+ concave.points_worst    1   61.850 79.850\n",
      "+ area_se                 1   63.217 81.217\n",
      "<none>                        65.529 81.529\n",
      "+ perimeter_se            1   63.661 81.661\n",
      "+ area_worst              1   63.951 81.951\n",
      "+ concave.points_se       1   63.965 81.965\n",
      "+ radius_worst            1   64.003 82.003\n",
      "+ compactness_mean        1   64.078 82.078\n",
      "+ concavity_worst         1   64.328 82.328\n",
      "+ concave.points_mean     1   64.438 82.438\n",
      "+ fractal_dimension_mean  1   64.621 82.621\n",
      "+ smoothness_se           1   64.905 82.905\n",
      "+ symmetry_mean           1   64.943 82.943\n",
      "+ fractal_dimension_se    1   65.196 83.196\n",
      "+ texture_mean            1   65.351 83.351\n",
      "+ smoothness_mean         1   65.353 83.353\n",
      "+ symmetry_se             1   65.399 83.399\n",
      "+ area_mean               1   65.487 83.487\n",
      "+ concavity_se            1   65.506 83.506\n",
      "+ radius_mean             1   65.513 83.513\n",
      "+ perimeter_mean          1   65.523 83.523\n",
      "+ compactness_worst       1   65.527 83.527\n"
     ]
    },
    {
     "name": "stderr",
     "output_type": "stream",
     "text": [
      "Warning message:\n",
      "\"glm.fit: fitted probabilities numerically 0 or 1 occurred\"\n"
     ]
    },
    {
     "name": "stdout",
     "output_type": "stream",
     "text": [
      "\n",
      "Step:  AIC=79.26\n",
      "diagnosis ~ perimeter_worst + smoothness_worst + texture_worst + \n",
      "    radius_se + symmetry_worst + compactness_se + concavity_mean + \n",
      "    texture_se\n",
      "\n"
     ]
    },
    {
     "name": "stderr",
     "output_type": "stream",
     "text": [
      "Warning message:\n",
      "\"glm.fit: fitted probabilities numerically 0 or 1 occurred\"\n",
      "Warning message:\n",
      "\"glm.fit: fitted probabilities numerically 0 or 1 occurred\"\n",
      "Warning message:\n",
      "\"glm.fit: fitted probabilities numerically 0 or 1 occurred\"\n",
      "Warning message:\n",
      "\"glm.fit: fitted probabilities numerically 0 or 1 occurred\"\n",
      "Warning message:\n",
      "\"glm.fit: fitted probabilities numerically 0 or 1 occurred\"\n",
      "Warning message:\n",
      "\"glm.fit: fitted probabilities numerically 0 or 1 occurred\"\n",
      "Warning message:\n",
      "\"glm.fit: fitted probabilities numerically 0 or 1 occurred\"\n",
      "Warning message:\n",
      "\"glm.fit: fitted probabilities numerically 0 or 1 occurred\"\n",
      "Warning message:\n",
      "\"glm.fit: fitted probabilities numerically 0 or 1 occurred\"\n",
      "Warning message:\n",
      "\"glm.fit: fitted probabilities numerically 0 or 1 occurred\"\n",
      "Warning message:\n",
      "\"glm.fit: fitted probabilities numerically 0 or 1 occurred\"\n",
      "Warning message:\n",
      "\"glm.fit: fitted probabilities numerically 0 or 1 occurred\"\n",
      "Warning message:\n",
      "\"glm.fit: fitted probabilities numerically 0 or 1 occurred\"\n",
      "Warning message:\n",
      "\"glm.fit: fitted probabilities numerically 0 or 1 occurred\"\n",
      "Warning message:\n",
      "\"glm.fit: fitted probabilities numerically 0 or 1 occurred\"\n",
      "Warning message:\n",
      "\"glm.fit: fitted probabilities numerically 0 or 1 occurred\"\n",
      "Warning message:\n",
      "\"glm.fit: fitted probabilities numerically 0 or 1 occurred\"\n",
      "Warning message:\n",
      "\"glm.fit: fitted probabilities numerically 0 or 1 occurred\"\n",
      "Warning message:\n",
      "\"glm.fit: fitted probabilities numerically 0 or 1 occurred\"\n",
      "Warning message:\n",
      "\"glm.fit: fitted probabilities numerically 0 or 1 occurred\"\n",
      "Warning message:\n",
      "\"glm.fit: fitted probabilities numerically 0 or 1 occurred\"\n",
      "Warning message:\n",
      "\"glm.fit: fitted probabilities numerically 0 or 1 occurred\"\n"
     ]
    },
    {
     "name": "stdout",
     "output_type": "stream",
     "text": [
      "                         Df Deviance    AIC\n",
      "+ area_se                 1   58.643 78.643\n",
      "+ concave.points_worst    1   58.739 78.739\n",
      "+ area_worst              1   59.167 79.167\n",
      "<none>                        61.258 79.258\n",
      "+ radius_worst            1   59.387 79.387\n",
      "+ perimeter_se            1   59.954 79.954\n",
      "+ compactness_mean        1   60.049 80.049\n",
      "+ concave.points_se       1   60.277 80.277\n",
      "+ concave.points_mean     1   60.323 80.323\n",
      "+ texture_mean            1   60.489 80.489\n",
      "+ fractal_dimension_mean  1   60.498 80.498\n",
      "+ fractal_dimension_se    1   60.500 80.500\n",
      "+ concavity_worst         1   60.579 80.579\n",
      "+ smoothness_se           1   60.674 80.674\n",
      "+ area_mean               1   61.103 81.103\n",
      "+ radius_mean             1   61.162 81.162\n",
      "+ compactness_worst       1   61.166 81.166\n",
      "+ smoothness_mean         1   61.214 81.214\n",
      "+ symmetry_mean           1   61.254 81.254\n",
      "+ perimeter_mean          1   61.254 81.254\n",
      "+ concavity_se            1   61.255 81.255\n",
      "+ symmetry_se             1   61.257 81.257\n"
     ]
    },
    {
     "name": "stderr",
     "output_type": "stream",
     "text": [
      "Warning message:\n",
      "\"glm.fit: fitted probabilities numerically 0 or 1 occurred\"\n"
     ]
    },
    {
     "name": "stdout",
     "output_type": "stream",
     "text": [
      "\n",
      "Step:  AIC=78.64\n",
      "diagnosis ~ perimeter_worst + smoothness_worst + texture_worst + \n",
      "    radius_se + symmetry_worst + compactness_se + concavity_mean + \n",
      "    texture_se + area_se\n",
      "\n"
     ]
    },
    {
     "name": "stderr",
     "output_type": "stream",
     "text": [
      "Warning message:\n",
      "\"glm.fit: fitted probabilities numerically 0 or 1 occurred\"\n",
      "Warning message:\n",
      "\"glm.fit: fitted probabilities numerically 0 or 1 occurred\"\n",
      "Warning message:\n",
      "\"glm.fit: fitted probabilities numerically 0 or 1 occurred\"\n",
      "Warning message:\n",
      "\"glm.fit: fitted probabilities numerically 0 or 1 occurred\"\n",
      "Warning message:\n",
      "\"glm.fit: fitted probabilities numerically 0 or 1 occurred\"\n",
      "Warning message:\n",
      "\"glm.fit: fitted probabilities numerically 0 or 1 occurred\"\n",
      "Warning message:\n",
      "\"glm.fit: fitted probabilities numerically 0 or 1 occurred\"\n",
      "Warning message:\n",
      "\"glm.fit: fitted probabilities numerically 0 or 1 occurred\"\n",
      "Warning message:\n",
      "\"glm.fit: fitted probabilities numerically 0 or 1 occurred\"\n",
      "Warning message:\n",
      "\"glm.fit: fitted probabilities numerically 0 or 1 occurred\"\n",
      "Warning message:\n",
      "\"glm.fit: fitted probabilities numerically 0 or 1 occurred\"\n",
      "Warning message:\n",
      "\"glm.fit: fitted probabilities numerically 0 or 1 occurred\"\n",
      "Warning message:\n",
      "\"glm.fit: fitted probabilities numerically 0 or 1 occurred\"\n",
      "Warning message:\n",
      "\"glm.fit: fitted probabilities numerically 0 or 1 occurred\"\n",
      "Warning message:\n",
      "\"glm.fit: fitted probabilities numerically 0 or 1 occurred\"\n",
      "Warning message:\n",
      "\"glm.fit: fitted probabilities numerically 0 or 1 occurred\"\n",
      "Warning message:\n",
      "\"glm.fit: fitted probabilities numerically 0 or 1 occurred\"\n",
      "Warning message:\n",
      "\"glm.fit: fitted probabilities numerically 0 or 1 occurred\"\n",
      "Warning message:\n",
      "\"glm.fit: fitted probabilities numerically 0 or 1 occurred\"\n",
      "Warning message:\n",
      "\"glm.fit: fitted probabilities numerically 0 or 1 occurred\"\n",
      "Warning message:\n",
      "\"glm.fit: fitted probabilities numerically 0 or 1 occurred\"\n"
     ]
    },
    {
     "name": "stdout",
     "output_type": "stream",
     "text": [
      "                         Df Deviance    AIC\n",
      "+ concave.points_worst    1   54.713 76.713\n",
      "<none>                        58.643 78.643\n",
      "+ radius_worst            1   57.113 79.113\n",
      "+ concave.points_se       1   57.485 79.485\n",
      "+ concavity_worst         1   57.520 79.520\n",
      "+ perimeter_se            1   57.525 79.525\n",
      "+ texture_mean            1   57.593 79.593\n",
      "+ concave.points_mean     1   57.669 79.669\n",
      "+ area_worst              1   57.684 79.684\n",
      "+ compactness_mean        1   58.146 80.146\n",
      "+ symmetry_se             1   58.236 80.236\n",
      "+ perimeter_mean          1   58.374 80.374\n",
      "+ fractal_dimension_se    1   58.503 80.503\n",
      "+ compactness_worst       1   58.538 80.538\n",
      "+ fractal_dimension_mean  1   58.549 80.549\n",
      "+ radius_mean             1   58.590 80.590\n",
      "+ area_mean               1   58.590 80.590\n",
      "+ smoothness_se           1   58.599 80.599\n",
      "+ symmetry_mean           1   58.609 80.609\n",
      "+ concavity_se            1   58.616 80.616\n",
      "+ smoothness_mean         1   58.640 80.640\n"
     ]
    },
    {
     "name": "stderr",
     "output_type": "stream",
     "text": [
      "Warning message:\n",
      "\"glm.fit: fitted probabilities numerically 0 or 1 occurred\"\n"
     ]
    },
    {
     "name": "stdout",
     "output_type": "stream",
     "text": [
      "\n",
      "Step:  AIC=76.71\n",
      "diagnosis ~ perimeter_worst + smoothness_worst + texture_worst + \n",
      "    radius_se + symmetry_worst + compactness_se + concavity_mean + \n",
      "    texture_se + area_se + concave.points_worst\n",
      "\n"
     ]
    },
    {
     "name": "stderr",
     "output_type": "stream",
     "text": [
      "Warning message:\n",
      "\"glm.fit: fitted probabilities numerically 0 or 1 occurred\"\n",
      "Warning message:\n",
      "\"glm.fit: fitted probabilities numerically 0 or 1 occurred\"\n",
      "Warning message:\n",
      "\"glm.fit: fitted probabilities numerically 0 or 1 occurred\"\n",
      "Warning message:\n",
      "\"glm.fit: fitted probabilities numerically 0 or 1 occurred\"\n",
      "Warning message:\n",
      "\"glm.fit: fitted probabilities numerically 0 or 1 occurred\"\n",
      "Warning message:\n",
      "\"glm.fit: fitted probabilities numerically 0 or 1 occurred\"\n",
      "Warning message:\n",
      "\"glm.fit: fitted probabilities numerically 0 or 1 occurred\"\n",
      "Warning message:\n",
      "\"glm.fit: fitted probabilities numerically 0 or 1 occurred\"\n",
      "Warning message:\n",
      "\"glm.fit: fitted probabilities numerically 0 or 1 occurred\"\n",
      "Warning message:\n",
      "\"glm.fit: fitted probabilities numerically 0 or 1 occurred\"\n",
      "Warning message:\n",
      "\"glm.fit: fitted probabilities numerically 0 or 1 occurred\"\n",
      "Warning message:\n",
      "\"glm.fit: fitted probabilities numerically 0 or 1 occurred\"\n",
      "Warning message:\n",
      "\"glm.fit: fitted probabilities numerically 0 or 1 occurred\"\n",
      "Warning message:\n",
      "\"glm.fit: fitted probabilities numerically 0 or 1 occurred\"\n",
      "Warning message:\n",
      "\"glm.fit: fitted probabilities numerically 0 or 1 occurred\"\n",
      "Warning message:\n",
      "\"glm.fit: fitted probabilities numerically 0 or 1 occurred\"\n",
      "Warning message:\n",
      "\"glm.fit: fitted probabilities numerically 0 or 1 occurred\"\n",
      "Warning message:\n",
      "\"glm.fit: fitted probabilities numerically 0 or 1 occurred\"\n",
      "Warning message:\n",
      "\"glm.fit: fitted probabilities numerically 0 or 1 occurred\"\n",
      "Warning message:\n",
      "\"glm.fit: fitted probabilities numerically 0 or 1 occurred\"\n"
     ]
    },
    {
     "name": "stdout",
     "output_type": "stream",
     "text": [
      "                         Df Deviance    AIC\n",
      "<none>                        54.713 76.713\n",
      "+ radius_worst            1   52.749 76.749\n",
      "+ area_worst              1   52.828 76.828\n",
      "+ compactness_mean        1   52.833 76.833\n",
      "+ perimeter_se            1   53.106 77.106\n",
      "+ symmetry_mean           1   53.896 77.896\n",
      "+ texture_mean            1   53.934 77.934\n",
      "+ symmetry_se             1   54.209 78.209\n",
      "+ concavity_worst         1   54.216 78.216\n",
      "+ smoothness_se           1   54.233 78.233\n",
      "+ perimeter_mean          1   54.240 78.240\n",
      "+ smoothness_mean         1   54.399 78.399\n",
      "+ concavity_se            1   54.555 78.555\n",
      "+ concave.points_se       1   54.569 78.569\n",
      "+ radius_mean             1   54.594 78.594\n",
      "+ compactness_worst       1   54.605 78.605\n",
      "+ fractal_dimension_mean  1   54.611 78.611\n",
      "+ fractal_dimension_se    1   54.705 78.705\n",
      "+ concave.points_mean     1   54.709 78.709\n",
      "+ area_mean               1   54.710 78.710\n"
     ]
    },
    {
     "data": {
      "text/plain": [
       "\n",
       "Call:\n",
       "glm(formula = diagnosis ~ perimeter_worst + smoothness_worst + \n",
       "    texture_worst + radius_se + symmetry_worst + compactness_se + \n",
       "    concavity_mean + texture_se + area_se + concave.points_worst, \n",
       "    family = binomial(link = \"logit\"), data = df)\n",
       "\n",
       "Deviance Residuals: \n",
       "    Min       1Q   Median       3Q      Max  \n",
       "-1.3573  -0.0201  -0.0013   0.0000   3.8553  \n",
       "\n",
       "Coefficients:\n",
       "                     Estimate Std. Error z value Pr(>|z|)    \n",
       "(Intercept)            1.9809     1.1241   1.762 0.078040 .  \n",
       "perimeter_worst        2.8181     2.4980   1.128 0.259268    \n",
       "smoothness_worst       1.2907     0.6868   1.879 0.060215 .  \n",
       "texture_worst          3.2584     0.8392   3.883 0.000103 ***\n",
       "radius_se             -2.7572     4.6621  -0.591 0.554248    \n",
       "symmetry_worst         1.0500     0.4957   2.118 0.034164 *  \n",
       "compactness_se        -2.3356     0.7304  -3.198 0.001384 ** \n",
       "concavity_mean         3.1787     1.2999   2.445 0.014472 *  \n",
       "texture_se            -1.4802     0.8361  -1.770 0.076657 .  \n",
       "area_se               15.9526     9.1089   1.751 0.079892 .  \n",
       "concave.points_worst   2.4000     1.2766   1.880 0.060117 .  \n",
       "---\n",
       "Signif. codes:  0 '***' 0.001 '**' 0.01 '*' 0.05 '.' 0.1 ' ' 1\n",
       "\n",
       "(Dispersion parameter for binomial family taken to be 1)\n",
       "\n",
       "    Null deviance: 751.440  on 568  degrees of freedom\n",
       "Residual deviance:  54.713  on 558  degrees of freedom\n",
       "AIC: 76.713\n",
       "\n",
       "Number of Fisher Scoring iterations: 11\n"
      ]
     },
     "metadata": {},
     "output_type": "display_data"
    }
   ],
   "source": [
    "initialModel_0 <- glm(diagnosis ~ 1, data = df, family=binomial(link=\"logit\"))\n",
    "initialModel_p <- glm(diagnosis ~ ., data = df, family=binomial(link=\"logit\"))\n",
    "\n",
    "fw <- step(initialModel_0,\n",
    "  scope = list(lower = formula(initialModel_0), upper = formula(initialModel_p)),\n",
    "  direction = \"forward\"\n",
    ")\n",
    "summary(fw)"
   ]
  },
  {
   "cell_type": "markdown",
   "metadata": {
    "slideshow": {
     "slide_type": "slide"
    }
   },
   "source": [
    "El objeto de salida es una lista que contiene múltiples elementos. Entre ellos, ilustramos el resultado anova, que muestra las variables seleccionadas (10 en este caso) en orden de adición y el AIC correspondiente (similar al estadístico BIC) ."
   ]
  },
  {
   "cell_type": "code",
   "execution_count": 24,
   "metadata": {},
   "outputs": [
    {
     "data": {
      "text/html": [
       "<table>\n",
       "<thead><tr><th scope=col>Step</th><th scope=col>Df</th><th scope=col>Deviance</th><th scope=col>Resid. Df</th><th scope=col>Resid. Dev</th><th scope=col>AIC</th></tr></thead>\n",
       "<tbody>\n",
       "\t<tr><td>                      </td><td>NA                    </td><td>        NA            </td><td>568                   </td><td>751.44001             </td><td>753.44001             </td></tr>\n",
       "\t<tr><td>+ perimeter_worst     </td><td>-1                    </td><td>541.960065            </td><td>567                   </td><td>209.47994             </td><td>213.47994             </td></tr>\n",
       "\t<tr><td>+ smoothness_worst    </td><td>-1                    </td><td> 70.299730            </td><td>566                   </td><td>139.18021             </td><td>145.18021             </td></tr>\n",
       "\t<tr><td>+ texture_worst       </td><td>-1                    </td><td> 35.568566            </td><td>565                   </td><td>103.61164             </td><td>111.61164             </td></tr>\n",
       "\t<tr><td>+ radius_se           </td><td>-1                    </td><td> 16.406692            </td><td>564                   </td><td> 87.20495             </td><td> 97.20495             </td></tr>\n",
       "\t<tr><td>+ symmetry_worst      </td><td>-1                    </td><td>  8.132333            </td><td>563                   </td><td> 79.07262             </td><td> 91.07262             </td></tr>\n",
       "\t<tr><td>+ compactness_se      </td><td>-1                    </td><td>  4.561664            </td><td>562                   </td><td> 74.51095             </td><td> 88.51095             </td></tr>\n",
       "\t<tr><td>+ concavity_mean      </td><td>-1                    </td><td>  8.982248            </td><td>561                   </td><td> 65.52871             </td><td> 81.52871             </td></tr>\n",
       "\t<tr><td>+ texture_se          </td><td>-1                    </td><td>  4.270508            </td><td>560                   </td><td> 61.25820             </td><td> 79.25820             </td></tr>\n",
       "\t<tr><td>+ area_se             </td><td>-1                    </td><td>  2.614785            </td><td>559                   </td><td> 58.64341             </td><td> 78.64341             </td></tr>\n",
       "\t<tr><td>+ concave.points_worst</td><td>-1                    </td><td>  3.930719            </td><td>558                   </td><td> 54.71269             </td><td> 76.71269             </td></tr>\n",
       "</tbody>\n",
       "</table>\n"
      ],
      "text/latex": [
       "\\begin{tabular}{r|llllll}\n",
       " Step & Df & Deviance & Resid. Df & Resid. Dev & AIC\\\\\n",
       "\\hline\n",
       "\t                        & NA                     &         NA             & 568                    & 751.44001              & 753.44001             \\\\\n",
       "\t + perimeter\\_worst      & -1                       & 541.960065               & 567                      & 209.47994                & 213.47994               \\\\\n",
       "\t + smoothness\\_worst     & -1                       &  70.299730               & 566                      & 139.18021                & 145.18021               \\\\\n",
       "\t + texture\\_worst        & -1                       &  35.568566               & 565                      & 103.61164                & 111.61164               \\\\\n",
       "\t + radius\\_se            & -1                       &  16.406692               & 564                      &  87.20495                &  97.20495               \\\\\n",
       "\t + symmetry\\_worst       & -1                       &   8.132333               & 563                      &  79.07262                &  91.07262               \\\\\n",
       "\t + compactness\\_se       & -1                       &   4.561664               & 562                      &  74.51095                &  88.51095               \\\\\n",
       "\t + concavity\\_mean       & -1                       &   8.982248               & 561                      &  65.52871                &  81.52871               \\\\\n",
       "\t + texture\\_se           & -1                       &   4.270508               & 560                      &  61.25820                &  79.25820               \\\\\n",
       "\t + area\\_se              & -1                       &   2.614785               & 559                      &  58.64341                &  78.64341               \\\\\n",
       "\t + concave.points\\_worst & -1                       &   3.930719               & 558                      &  54.71269                &  76.71269               \\\\\n",
       "\\end{tabular}\n"
      ],
      "text/markdown": [
       "\n",
       "| Step | Df | Deviance | Resid. Df | Resid. Dev | AIC |\n",
       "|---|---|---|---|---|---|\n",
       "|                        | NA                     |         NA             | 568                    | 751.44001              | 753.44001              |\n",
       "| + perimeter_worst      | -1                     | 541.960065             | 567                    | 209.47994              | 213.47994              |\n",
       "| + smoothness_worst     | -1                     |  70.299730             | 566                    | 139.18021              | 145.18021              |\n",
       "| + texture_worst        | -1                     |  35.568566             | 565                    | 103.61164              | 111.61164              |\n",
       "| + radius_se            | -1                     |  16.406692             | 564                    |  87.20495              |  97.20495              |\n",
       "| + symmetry_worst       | -1                     |   8.132333             | 563                    |  79.07262              |  91.07262              |\n",
       "| + compactness_se       | -1                     |   4.561664             | 562                    |  74.51095              |  88.51095              |\n",
       "| + concavity_mean       | -1                     |   8.982248             | 561                    |  65.52871              |  81.52871              |\n",
       "| + texture_se           | -1                     |   4.270508             | 560                    |  61.25820              |  79.25820              |\n",
       "| + area_se              | -1                     |   2.614785             | 559                    |  58.64341              |  78.64341              |\n",
       "| + concave.points_worst | -1                     |   3.930719             | 558                    |  54.71269              |  76.71269              |\n",
       "\n"
      ],
      "text/plain": [
       "   Step                   Df Deviance   Resid. Df Resid. Dev AIC      \n",
       "1                         NA         NA 568       751.44001  753.44001\n",
       "2  + perimeter_worst      -1 541.960065 567       209.47994  213.47994\n",
       "3  + smoothness_worst     -1  70.299730 566       139.18021  145.18021\n",
       "4  + texture_worst        -1  35.568566 565       103.61164  111.61164\n",
       "5  + radius_se            -1  16.406692 564        87.20495   97.20495\n",
       "6  + symmetry_worst       -1   8.132333 563        79.07262   91.07262\n",
       "7  + compactness_se       -1   4.561664 562        74.51095   88.51095\n",
       "8  + concavity_mean       -1   8.982248 561        65.52871   81.52871\n",
       "9  + texture_se           -1   4.270508 560        61.25820   79.25820\n",
       "10 + area_se              -1   2.614785 559        58.64341   78.64341\n",
       "11 + concave.points_worst -1   3.930719 558        54.71269   76.71269"
      ]
     },
     "metadata": {},
     "output_type": "display_data"
    }
   ],
   "source": [
    "fw$anova"
   ]
  },
  {
   "cell_type": "markdown",
   "metadata": {
    "slideshow": {
     "slide_type": "slide"
    }
   },
   "source": [
    "## Regularización\n",
    "La regularización consiste en añadir un término a la función objetivo que elimine predictores (regularización L1) o disminuya notablemente su influencia (regularización L2) de tal manera que su capacidad de generalización mejore. El coeficiente estimado estará sesgado, debido al término extra que se ha añadido a la función objetivo, sin embargo su varianza puede disminuir. Este equilibrio entre el sesgo y la varianza es lo que se conoce como _bias-variance tradeoff_. Si el modelo está demasiado sesgado entonces no se capturarán correctamente las relaciones entre predictando y predictor, sin embargo si está muy poco sesgado, la varianza del coeficiente estimado puede ser alta y no generalizar bien.\n",
    "\n",
    "En R, para regularizar modelos lineales generalizados se utiliza el paquete `glmnet`. El tipo de regularización viene dado por el valor del parámetro `alpha`: para una regularización L1, `alpha = 1`, para una regularización L2, `alpha = 0`. Ambos tipos de regularización penalizan la norma (1 ó 2, en función de si la regularización es L1 o L2) del vector de coeficientes estimados. Una consecuencia de la regularización L1 es que indirectamente selecciona variables al hacer estrictamente 0 algunos coeficientes. El número de coeficientes que se hacen 0 viene determinado por el valor de `lambda`. El valor de lambda óptimo se obtiene mediante validación cruzada a través de la función `cv.glmnet`."
   ]
  },
  {
   "cell_type": "markdown",
   "metadata": {
    "slideshow": {
     "slide_type": "slide"
    }
   },
   "source": [
    "En primer lugar, debemos instalar y cargar las librerías que utilizaremos en los ejemplos:"
   ]
  },
  {
   "cell_type": "code",
   "execution_count": 25,
   "metadata": {},
   "outputs": [
    {
     "name": "stderr",
     "output_type": "stream",
     "text": [
      "\n",
      "Attaching package: 'Matrix'\n",
      "\n",
      "\n",
      "The following object is masked from 'package:spam':\n",
      "\n",
      "    det\n",
      "\n",
      "\n",
      "Loaded glmnet 2.0-16\n",
      "\n",
      "\n",
      "\n",
      "Attaching package: 'glmnet'\n",
      "\n",
      "\n",
      "The following object is masked from 'package:pROC':\n",
      "\n",
      "    auc\n",
      "\n",
      "\n"
     ]
    }
   ],
   "source": [
    "# install.packages(\"glmnet\")\n",
    "library(glmnet, quiet = TRUE)"
   ]
  },
  {
   "cell_type": "markdown",
   "metadata": {
    "slideshow": {
     "slide_type": "slide"
    }
   },
   "source": [
    "### Regularización L1 (LASSO)\n",
    "Veamos qué nos puede aportar una regularización L1 en este caso. La función `glmnet`nos permite representar directamente la evolución de los coeficientes del modelo para un rango de valores de $\\lambda$."
   ]
  },
  {
   "cell_type": "code",
   "execution_count": 26,
   "metadata": {},
   "outputs": [
    {
     "data": {
      "image/png": "[encoded data removed]",
      "text/plain": [
       "plot without title"
      ]
     },
     "metadata": {
      "image/png": {
       "height": 420,
       "width": 420
      }
     },
     "output_type": "display_data"
    }
   ],
   "source": [
    "fit <- glmnet(as.matrix(df[-1]),df$diagnosis,family = \"binomial\",alpha = 1) # valores de lambda por defecto, nlambda=100\n",
    "plot(fit, label=TRUE, xvar = \"lambda\") # representa los coeficientes frente al log neperiano de lambda"
   ]
  },
  {
   "cell_type": "markdown",
   "metadata": {},
   "source": [
    "En la parte superior se muestra el número de coeficientes no nulos para cada valor de $\\lambda$. Vemos como muchos se hacen 0 al ir aumentando $\\lambda$."
   ]
  },
  {
   "cell_type": "markdown",
   "metadata": {
    "slideshow": {
     "slide_type": "slide"
    }
   },
   "source": [
    "Para estimar el valor óptimo de $\\lambda$ recurrimos a una validación cruzada mediante la función `cv.glmnet`:"
   ]
  },
  {
   "cell_type": "code",
   "execution_count": 27,
   "metadata": {},
   "outputs": [
    {
     "name": "stdout",
     "output_type": "stream",
     "text": [
      "$lambda\n",
      " [1] 3.836832e-01 3.495979e-01 3.185406e-01 2.902423e-01 2.644580e-01\n",
      " [6] 2.409643e-01 2.195577e-01 2.000528e-01 1.822806e-01 1.660873e-01\n",
      "[11] 1.513326e-01 1.378886e-01 1.256390e-01 1.144775e-01 1.043077e-01\n",
      "[16] 9.504127e-02 8.659807e-02 7.890493e-02 7.189523e-02 6.550826e-02\n",
      "[21] 5.968869e-02 5.438611e-02 4.955460e-02 4.515230e-02 4.114110e-02\n",
      "[26] 3.748624e-02 3.415606e-02 3.112173e-02 2.835696e-02 2.583781e-02\n",
      "[31] 2.354245e-02 2.145100e-02 1.954535e-02 1.780900e-02 1.622690e-02\n",
      "[36] 1.478534e-02 1.347185e-02 1.227505e-02 1.118457e-02 1.019096e-02\n",
      "[41] 9.285627e-03 8.460717e-03 7.709090e-03 7.024236e-03 6.400222e-03\n",
      "[46] 5.831644e-03 5.313577e-03 4.841533e-03 4.411425e-03 4.019526e-03\n",
      "[51] 3.662443e-03 3.337081e-03 3.040624e-03 2.770503e-03 2.524380e-03\n",
      "[56] 2.300121e-03 2.095784e-03 1.909601e-03 1.739957e-03 1.585384e-03\n",
      "[61] 1.444543e-03 1.316214e-03 1.199285e-03 1.092744e-03 9.956673e-04\n",
      "[66] 9.072150e-04 8.266205e-04 7.531858e-04 6.862749e-04 6.253081e-04\n",
      "[71] 5.697574e-04 5.191418e-04 4.730226e-04 4.310006e-04 3.927117e-04\n",
      "[76] 3.578243e-04 3.260362e-04 2.970720e-04 2.706809e-04 2.466344e-04\n",
      "[81] 2.247241e-04 2.047602e-04 1.865699e-04 1.699955e-04 1.548936e-04\n",
      "[86] 1.411333e-04 1.285954e-04 1.171713e-04 1.067621e-04 9.727769e-05\n",
      "[91] 8.863581e-05 8.076165e-05 7.358700e-05 6.704974e-05 6.109322e-05\n",
      "[96] 5.566587e-05 5.072067e-05 4.621478e-05 4.210919e-05\n",
      "\n",
      "$cvm\n",
      " [1] 1.3218299 1.2172275 1.1211296 1.0378713 0.9655344 0.9017707 0.8451570\n",
      " [8] 0.7939812 0.7474050 0.7050816 0.6665885 0.6315371 0.5995862 0.5703501\n",
      "[15] 0.5432354 0.5161048 0.4894510 0.4647975 0.4417792 0.4204994 0.4008071\n",
      "[22] 0.3825846 0.3657180 0.3501134 0.3356068 0.3220876 0.3094295 0.2977618\n",
      "[29] 0.2869033 0.2765593 0.2669378 0.2582342 0.2503218 0.2431298 0.2365725\n",
      "[36] 0.2305990 0.2251665 0.2201916 0.2157356 0.2118716 0.2083001 0.2049663\n",
      "[43] 0.2018932 0.1989279 0.1962671 0.1940445 0.1923220 0.1909905 0.1896910\n",
      "[50] 0.1886471 0.1879210 0.1874120 0.1871758 0.1859310 0.1850906 0.1844875\n",
      "[57] 0.1842349 0.1840513 0.1842816 0.1847065 0.1853762 0.1864387 0.1880965\n",
      "[64] 0.1901279 0.1928013 0.1950328 0.1974380 0.1989487 0.2002946 0.2019231\n",
      "[71] 0.2043296 0.2074603 0.2101005 0.2133906 0.2189793 0.2265156 0.2349384\n",
      "[78] 0.2439236 0.2537417 0.2626604 0.2711976 0.2802234 0.2896508 0.2991469\n",
      "[85] 0.3082252 0.3175891 0.3271403 0.3362426 0.3450434 0.3559037 0.3670937\n",
      "[92] 0.3795689 0.3925653 0.4055943 0.4192011 0.4343650 0.4498509 0.4667954\n",
      "[99] 0.4870558\n",
      "\n",
      "$cvsd\n",
      " [1] 0.02512335 0.02274950 0.02054552 0.01925591 0.01851558 0.01813789\n",
      " [7] 0.01795275 0.01786833 0.01785106 0.01787023 0.01792545 0.01803551\n",
      "[13] 0.01822283 0.01843218 0.01871904 0.01902858 0.01899926 0.01904623\n",
      "[19] 0.01911891 0.01926582 0.01948300 0.01976291 0.02009916 0.02048556\n",
      "[25] 0.02092882 0.02132853 0.02169729 0.02210440 0.02256194 0.02315073\n",
      "[31] 0.02382448 0.02460410 0.02544236 0.02633628 0.02728403 0.02828174\n",
      "[37] 0.02933255 0.03043745 0.03158484 0.03276839 0.03403116 0.03532712\n",
      "[43] 0.03664730 0.03802761 0.03942995 0.04083146 0.04222650 0.04360124\n",
      "[49] 0.04490970 0.04623805 0.04756864 0.04895161 0.05050869 0.05123641\n",
      "[55] 0.05203047 0.05287907 0.05373759 0.05436519 0.05488091 0.05540090\n",
      "[61] 0.05592438 0.05653060 0.05753406 0.05875148 0.06001365 0.06108045\n",
      "[67] 0.06206589 0.06207065 0.06157540 0.06127598 0.06124870 0.06141021\n",
      "[73] 0.06175382 0.06242561 0.06493055 0.06881899 0.07273116 0.07703359\n",
      "[79] 0.08155785 0.08448563 0.08608807 0.08778631 0.08953874 0.09119174\n",
      "[85] 0.09226213 0.09285704 0.09333727 0.09366151 0.09402315 0.09549675\n",
      "[91] 0.09688222 0.09837162 0.09998702 0.10111754 0.10222726 0.10352096\n",
      "[97] 0.10395579 0.10440010 0.10515130\n",
      "\n",
      "$cvup\n",
      " [1] 1.3469533 1.2399770 1.1416751 1.0571272 0.9840500 0.9199086 0.8631097\n",
      " [8] 0.8118495 0.7652561 0.7229518 0.6845139 0.6495726 0.6178090 0.5887822\n",
      "[15] 0.5619544 0.5351334 0.5084502 0.4838438 0.4608981 0.4397653 0.4202901\n",
      "[22] 0.4023475 0.3858172 0.3705990 0.3565356 0.3434161 0.3311268 0.3198662\n",
      "[29] 0.3094652 0.2997100 0.2907622 0.2828383 0.2757642 0.2694660 0.2638565\n",
      "[36] 0.2588807 0.2544991 0.2506290 0.2473204 0.2446400 0.2423313 0.2402934\n",
      "[43] 0.2385405 0.2369555 0.2356971 0.2348760 0.2345485 0.2345917 0.2346007\n",
      "[50] 0.2348852 0.2354897 0.2363636 0.2376845 0.2371674 0.2371211 0.2373666\n",
      "[57] 0.2379725 0.2384165 0.2391625 0.2401074 0.2413005 0.2429693 0.2456306\n",
      "[64] 0.2488794 0.2528149 0.2561133 0.2595038 0.2610194 0.2618700 0.2631991\n",
      "[71] 0.2655783 0.2688705 0.2718544 0.2758162 0.2839098 0.2953346 0.3076696\n",
      "[78] 0.3209572 0.3352996 0.3471460 0.3572857 0.3680098 0.3791895 0.3903386\n",
      "[85] 0.4004874 0.4104461 0.4204776 0.4299041 0.4390665 0.4514005 0.4639760\n",
      "[92] 0.4779405 0.4925523 0.5067118 0.5214283 0.5378860 0.5538067 0.5711955\n",
      "[99] 0.5922071\n",
      "\n",
      "$cvlo\n",
      " [1] 1.2967066 1.1944780 1.1005840 1.0186154 0.9470188 0.8836328 0.8272042\n",
      " [8] 0.7761129 0.7295540 0.6872113 0.6486630 0.6135016 0.5813634 0.5519179\n",
      "[15] 0.5245163 0.4970763 0.4704517 0.4457513 0.4226603 0.4012336 0.3813241\n",
      "[22] 0.3628217 0.3456189 0.3296279 0.3146780 0.3007590 0.2877323 0.2756574\n",
      "[29] 0.2643413 0.2534086 0.2431133 0.2336301 0.2248794 0.2167935 0.2092885\n",
      "[36] 0.2023172 0.1958340 0.1897541 0.1841507 0.1791032 0.1742689 0.1696392\n",
      "[43] 0.1652459 0.1609003 0.1568372 0.1532131 0.1500955 0.1473892 0.1447813\n",
      "[50] 0.1424091 0.1403524 0.1384604 0.1366672 0.1346946 0.1330601 0.1316085\n",
      "[57] 0.1304973 0.1296861 0.1294007 0.1293056 0.1294518 0.1299081 0.1305624\n",
      "[64] 0.1313765 0.1327876 0.1339524 0.1353721 0.1368781 0.1387192 0.1406471\n",
      "[71] 0.1430810 0.1460501 0.1483467 0.1509650 0.1540487 0.1576966 0.1622073\n",
      "[78] 0.1668900 0.1721839 0.1781748 0.1851096 0.1924371 0.2001121 0.2079551\n",
      "[85] 0.2159631 0.2247320 0.2338030 0.2425811 0.2510202 0.2604070 0.2702115\n",
      "[92] 0.2811973 0.2925783 0.3044767 0.3169738 0.3308441 0.3458951 0.3623953\n",
      "[99] 0.3819045\n",
      "\n",
      "$nzero\n",
      " s0  s1  s2  s3  s4  s5  s6  s7  s8  s9 s10 s11 s12 s13 s14 s15 s16 s17 s18 s19 \n",
      "  0   2   2   2   2   3   3   3   3   2   2   2   2   3   3   4   4   4   4   4 \n",
      "s20 s21 s22 s23 s24 s25 s26 s27 s28 s29 s30 s31 s32 s33 s34 s35 s36 s37 s38 s39 \n",
      "  4   4   4   4   5   5   6   6   7   7   7   7   8   8   8   8   8   9   9   9 \n",
      "s40 s41 s42 s43 s44 s45 s46 s47 s48 s49 s50 s51 s52 s53 s54 s55 s56 s57 s58 s59 \n",
      " 10  10  10  10  10  10  10  11  12  13  13  13  15  15  17  17  17  16  16  17 \n",
      "s60 s61 s62 s63 s64 s65 s66 s67 s68 s69 s70 s71 s72 s73 s74 s75 s76 s77 s78 s79 \n",
      " 17  16  17  16  15  15  16  17  17  18  18  19  19  20  21  21  21  22  22  21 \n",
      "s80 s81 s82 s83 s84 s85 s86 s87 s88 s89 s90 s91 s92 s93 s94 s95 s96 s97 s98 \n",
      " 21  21  23  23  23  23  23  25  25  25  24  24  24  24  25  25  26  26  26 \n",
      "\n",
      "$name\n",
      "           deviance \n",
      "\"Binomial Deviance\" \n",
      "\n",
      "$glmnet.fit\n",
      "\n",
      "Call:  glmnet(x = as.matrix(df[-1]), y = df$diagnosis, family = \"binomial\",      alpha = 1) \n",
      "\n",
      "       Df       %Dev    Lambda\n",
      "  [1,]  0 -5.044e-15 3.837e-01\n",
      "  [2,]  2  8.186e-02 3.496e-01\n",
      "  [3,]  2  1.554e-01 3.185e-01\n",
      "  [4,]  2  2.180e-01 2.902e-01\n",
      "  [5,]  2  2.724e-01 2.645e-01\n",
      "  [6,]  3  3.205e-01 2.410e-01\n",
      "  [7,]  3  3.636e-01 2.196e-01\n",
      "  [8,]  3  4.027e-01 2.001e-01\n",
      "  [9,]  3  4.380e-01 1.823e-01\n",
      " [10,]  2  4.700e-01 1.661e-01\n",
      " [11,]  2  4.989e-01 1.513e-01\n",
      " [12,]  2  5.253e-01 1.379e-01\n",
      " [13,]  2  5.495e-01 1.256e-01\n",
      " [14,]  3  5.718e-01 1.145e-01\n",
      " [15,]  3  5.922e-01 1.043e-01\n",
      " [16,]  4  6.138e-01 9.504e-02\n",
      " [17,]  4  6.343e-01 8.660e-02\n",
      " [18,]  4  6.531e-01 7.890e-02\n",
      " [19,]  4  6.706e-01 7.190e-02\n",
      " [20,]  4  6.867e-01 6.551e-02\n",
      " [21,]  4  7.017e-01 5.969e-02\n",
      " [22,]  4  7.155e-01 5.439e-02\n",
      " [23,]  4  7.284e-01 4.955e-02\n",
      " [24,]  4  7.403e-01 4.515e-02\n",
      " [25,]  5  7.515e-01 4.114e-02\n",
      " [26,]  5  7.622e-01 3.749e-02\n",
      " [27,]  6  7.722e-01 3.416e-02\n",
      " [28,]  6  7.818e-01 3.112e-02\n",
      " [29,]  7  7.911e-01 2.836e-02\n",
      " [30,]  7  8.000e-01 2.584e-02\n",
      " [31,]  7  8.083e-01 2.354e-02\n",
      " [32,]  7  8.160e-01 2.145e-02\n",
      " [33,]  8  8.232e-01 1.955e-02\n",
      " [34,]  8  8.299e-01 1.781e-02\n",
      " [35,]  8  8.362e-01 1.623e-02\n",
      " [36,]  8  8.421e-01 1.479e-02\n",
      " [37,]  8  8.476e-01 1.347e-02\n",
      " [38,]  9  8.527e-01 1.228e-02\n",
      " [39,]  9  8.575e-01 1.118e-02\n",
      " [40,]  9  8.619e-01 1.019e-02\n",
      " [41,] 10  8.667e-01 9.286e-03\n",
      " [42,] 10  8.713e-01 8.461e-03\n",
      " [43,] 10  8.756e-01 7.709e-03\n",
      " [44,] 10  8.796e-01 7.024e-03\n",
      " [45,] 10  8.832e-01 6.400e-03\n",
      " [46,] 10  8.865e-01 5.832e-03\n",
      " [47,] 10  8.895e-01 5.314e-03\n",
      " [48,] 11  8.925e-01 4.842e-03\n",
      " [49,] 12  8.955e-01 4.411e-03\n",
      " [50,] 13  8.984e-01 4.020e-03\n",
      " [51,] 13  9.011e-01 3.662e-03\n",
      " [52,] 13  9.037e-01 3.337e-03\n",
      " [53,] 15  9.061e-01 3.041e-03\n",
      " [54,] 15  9.086e-01 2.771e-03\n",
      " [55,] 17  9.109e-01 2.524e-03\n",
      " [56,] 17  9.133e-01 2.300e-03\n",
      " [57,] 17  9.154e-01 2.096e-03\n",
      " [58,] 16  9.172e-01 1.910e-03\n",
      " [59,] 16  9.188e-01 1.740e-03\n",
      " [60,] 17  9.204e-01 1.585e-03\n",
      " [61,] 17  9.219e-01 1.445e-03\n",
      " [62,] 16  9.232e-01 1.316e-03\n",
      " [63,] 17  9.245e-01 1.199e-03\n",
      " [64,] 16  9.258e-01 1.093e-03\n",
      " [65,] 15  9.268e-01 9.957e-04\n",
      " [66,] 15  9.277e-01 9.072e-04\n",
      " [67,] 16  9.285e-01 8.266e-04\n",
      " [68,] 17  9.293e-01 7.532e-04\n",
      " [69,] 17  9.301e-01 6.863e-04\n",
      " [70,] 18  9.308e-01 6.253e-04\n",
      " [71,] 18  9.315e-01 5.698e-04\n",
      " [72,] 19  9.322e-01 5.191e-04\n",
      " [73,] 19  9.328e-01 4.730e-04\n",
      " [74,] 20  9.335e-01 4.310e-04\n",
      " [75,] 21  9.348e-01 3.927e-04\n",
      " [76,] 21  9.364e-01 3.578e-04\n",
      " [77,] 21  9.380e-01 3.260e-04\n",
      " [78,] 22  9.394e-01 2.971e-04\n",
      " [79,] 22  9.407e-01 2.707e-04\n",
      " [80,] 21  9.419e-01 2.466e-04\n",
      " [81,] 21  9.427e-01 2.247e-04\n",
      " [82,] 21  9.436e-01 2.048e-04\n",
      " [83,] 23  9.445e-01 1.866e-04\n",
      " [84,] 23  9.454e-01 1.700e-04\n",
      " [85,] 23  9.462e-01 1.549e-04\n",
      " [86,] 23  9.469e-01 1.411e-04\n",
      " [87,] 23  9.476e-01 1.286e-04\n",
      " [88,] 25  9.481e-01 1.172e-04\n",
      " [89,] 25  9.488e-01 1.068e-04\n",
      " [90,] 25  9.493e-01 9.728e-05\n",
      " [91,] 24  9.498e-01 8.864e-05\n",
      " [92,] 24  9.502e-01 8.076e-05\n",
      " [93,] 24  9.506e-01 7.359e-05\n",
      " [94,] 24  9.509e-01 6.705e-05\n",
      " [95,] 25  9.512e-01 6.109e-05\n",
      " [96,] 25  9.515e-01 5.567e-05\n",
      " [97,] 26  9.517e-01 5.072e-05\n",
      " [98,] 26  9.520e-01 4.621e-05\n",
      " [99,] 26  9.522e-01 4.211e-05\n",
      "[100,] 25  9.524e-01 3.837e-05\n",
      "\n",
      "$lambda.min\n",
      "[1] 0.001909601\n",
      "\n",
      "$lambda.1se\n",
      "[1] 0.0162269\n",
      "\n",
      "attr(,\"class\")\n",
      "[1] \"cv.glmnet\"\n"
     ]
    },
    {
     "data": {
      "image/png": "[encoded data removed]",
      "text/plain": [
       "plot without title"
      ]
     },
     "metadata": {
      "image/png": {
       "height": 420,
       "width": 420
      }
     },
     "output_type": "display_data"
    }
   ],
   "source": [
    "cvfit <- cv.glmnet(as.matrix(df[-1]),df$diagnosis,family = \"binomial\",alpha = 1)\n",
    "print(cvfit)\n",
    "plot(cvfit)"
   ]
  },
  {
   "cell_type": "markdown",
   "metadata": {
    "slideshow": {
     "slide_type": "slide"
    }
   },
   "source": [
    "Con este valor de lambda estimado, podemos entrenar el modelo regularizado mediante la función `glmnet`:"
   ]
  },
  {
   "cell_type": "code",
   "execution_count": 28,
   "metadata": {},
   "outputs": [
    {
     "data": {
      "text/plain": [
       "30 x 1 sparse Matrix of class \"dgCMatrix\"\n",
       "                                s0\n",
       "(Intercept)            -0.68425114\n",
       "radius_mean             .         \n",
       "texture_mean            .         \n",
       "perimeter_mean          .         \n",
       "area_mean               .         \n",
       "smoothness_mean         .         \n",
       "compactness_mean        .         \n",
       "concavity_mean          .         \n",
       "concave.points_mean     0.51938742\n",
       "symmetry_mean           .         \n",
       "fractal_dimension_mean  .         \n",
       "radius_se               0.37429646\n",
       "texture_se              .         \n",
       "perimeter_se            .         \n",
       "area_se                 .         \n",
       "smoothness_se           .         \n",
       "compactness_se          .         \n",
       "concavity_se            .         \n",
       "concave.points_se       .         \n",
       "symmetry_se             .         \n",
       "fractal_dimension_se    .         \n",
       "radius_worst            2.33710392\n",
       "texture_worst           0.76494053\n",
       "perimeter_worst         .         \n",
       "area_worst              .         \n",
       "smoothness_worst        0.20600458\n",
       "compactness_worst       .         \n",
       "concavity_worst         0.04274076\n",
       "concave.points_worst    1.08624866\n",
       "symmetry_worst          0.17455248"
      ]
     },
     "metadata": {},
     "output_type": "display_data"
    },
    {
     "data": {
      "text/html": [
       "<ol class=list-inline>\n",
       "\t<li>'diagnosis'</li>\n",
       "\t<li>'concave.points_mean'</li>\n",
       "\t<li>'radius_se'</li>\n",
       "\t<li>'radius_worst'</li>\n",
       "\t<li>'texture_worst'</li>\n",
       "\t<li>'smoothness_worst'</li>\n",
       "\t<li>'concavity_worst'</li>\n",
       "\t<li>'concave.points_worst'</li>\n",
       "\t<li>'symmetry_worst'</li>\n",
       "</ol>\n"
      ],
      "text/latex": [
       "\\begin{enumerate*}\n",
       "\\item 'diagnosis'\n",
       "\\item 'concave.points\\_mean'\n",
       "\\item 'radius\\_se'\n",
       "\\item 'radius\\_worst'\n",
       "\\item 'texture\\_worst'\n",
       "\\item 'smoothness\\_worst'\n",
       "\\item 'concavity\\_worst'\n",
       "\\item 'concave.points\\_worst'\n",
       "\\item 'symmetry\\_worst'\n",
       "\\end{enumerate*}\n"
      ],
      "text/markdown": [
       "1. 'diagnosis'\n",
       "2. 'concave.points_mean'\n",
       "3. 'radius_se'\n",
       "4. 'radius_worst'\n",
       "5. 'texture_worst'\n",
       "6. 'smoothness_worst'\n",
       "7. 'concavity_worst'\n",
       "8. 'concave.points_worst'\n",
       "9. 'symmetry_worst'\n",
       "\n",
       "\n"
      ],
      "text/plain": [
       "[1] \"diagnosis\"            \"concave.points_mean\"  \"radius_se\"           \n",
       "[4] \"radius_worst\"         \"texture_worst\"        \"smoothness_worst\"    \n",
       "[7] \"concavity_worst\"      \"concave.points_worst\" \"symmetry_worst\"      "
      ]
     },
     "metadata": {},
     "output_type": "display_data"
    },
    {
     "name": "stdout",
     "output_type": "stream",
     "text": [
      "Number of variables selected: 9"
     ]
    }
   ],
   "source": [
    "model.l1 <- glmnet(as.matrix(df[,-1]), df$diagnosis, family = \"binomial\", alpha = 1, lambda = cvfit$lambda.1se)\n",
    "coef(model.l1) # coeficientes del modelo\n",
    "ind.coef.no.nulos <- which(as.numeric(coef(model.l1)) != 0)\n",
    "names(df)[ind.coef.no.nulos] # coeficientes no nulos\n",
    "cat(paste(\"Number of variables selected:\", length(ind.coef.no.nulos)))"
   ]
  },
  {
   "cell_type": "markdown",
   "metadata": {},
   "source": [
    "Vemos que efectivamente la regularización L1 ha hecho 0 muchos coeficientes eliminando grados de libertad del sistema, salvo las características que se observan en la salida anterior."
   ]
  },
  {
   "cell_type": "markdown",
   "metadata": {
    "slideshow": {
     "slide_type": "slide"
    }
   },
   "source": [
    "En realidad, no es necesario invocar de nuevo glmnet. El objeto que devuelve la validación cruzada también contiene los coeficientes correspondientes al $\\lambda$ óptimo."
   ]
  },
  {
   "cell_type": "code",
   "execution_count": 29,
   "metadata": {
    "slideshow": {
     "slide_type": "-"
    }
   },
   "outputs": [
    {
     "data": {
      "text/plain": [
       "30 x 1 sparse Matrix of class \"dgCMatrix\"\n",
       "                                 1\n",
       "(Intercept)            -0.68438758\n",
       "radius_mean             .         \n",
       "texture_mean            .         \n",
       "perimeter_mean          .         \n",
       "area_mean               .         \n",
       "smoothness_mean         .         \n",
       "compactness_mean        .         \n",
       "concavity_mean          .         \n",
       "concave.points_mean     0.51797380\n",
       "symmetry_mean           .         \n",
       "fractal_dimension_mean  .         \n",
       "radius_se               0.37494291\n",
       "texture_se              .         \n",
       "perimeter_se            .         \n",
       "area_se                 .         \n",
       "smoothness_se           .         \n",
       "compactness_se          .         \n",
       "concavity_se            .         \n",
       "concave.points_se       .         \n",
       "symmetry_se             .         \n",
       "fractal_dimension_se    .         \n",
       "radius_worst            2.33618599\n",
       "texture_worst           0.76498222\n",
       "perimeter_worst         .         \n",
       "area_worst              .         \n",
       "smoothness_worst        0.20551726\n",
       "compactness_worst       .         \n",
       "concavity_worst         0.04158635\n",
       "concave.points_worst    1.08892237\n",
       "symmetry_worst          0.17464968"
      ]
     },
     "metadata": {},
     "output_type": "display_data"
    }
   ],
   "source": [
    "coef(cvfit)"
   ]
  },
  {
   "cell_type": "markdown",
   "metadata": {},
   "source": [
    "Y podemos solicitar también los del $\\lambda$ que minimiza la validación cruzada:"
   ]
  },
  {
   "cell_type": "code",
   "execution_count": 30,
   "metadata": {
    "scrolled": true,
    "slideshow": {
     "slide_type": "-"
    }
   },
   "outputs": [
    {
     "data": {
      "text/plain": [
       "30 x 1 sparse Matrix of class \"dgCMatrix\"\n",
       "                                1\n",
       "(Intercept)            -0.1142971\n",
       "radius_mean             .        \n",
       "texture_mean            .        \n",
       "perimeter_mean          .        \n",
       "area_mean               .        \n",
       "smoothness_mean         .        \n",
       "compactness_mean        .        \n",
       "concavity_mean          0.1219179\n",
       "concave.points_mean     1.0277929\n",
       "symmetry_mean           .        \n",
       "fractal_dimension_mean -0.1374055\n",
       "radius_se               2.6157878\n",
       "texture_se             -0.3533051\n",
       "perimeter_se            .        \n",
       "area_se                 .        \n",
       "smoothness_se           0.2961646\n",
       "compactness_se         -0.8129075\n",
       "concavity_se            .        \n",
       "concave.points_se       .        \n",
       "symmetry_se             .        \n",
       "fractal_dimension_se   -0.2340514\n",
       "radius_worst            2.4130307\n",
       "texture_worst           1.7303664\n",
       "perimeter_worst         0.1417386\n",
       "area_worst              1.7353622\n",
       "smoothness_worst        0.5406448\n",
       "compactness_worst       .        \n",
       "concavity_worst         1.0625272\n",
       "concave.points_worst    1.2526544\n",
       "symmetry_worst          0.5305762"
      ]
     },
     "metadata": {},
     "output_type": "display_data"
    }
   ],
   "source": [
    "coef(cvfit, s=\"lambda.min\")"
   ]
  },
  {
   "cell_type": "markdown",
   "metadata": {
    "slideshow": {
     "slide_type": "slide"
    }
   },
   "source": [
    "Podemos ver el sobreajuste de forma cualitativa con la curva ROC:"
   ]
  },
  {
   "cell_type": "code",
   "execution_count": 31,
   "metadata": {},
   "outputs": [
    {
     "data": {
      "image/png": "[encoded data removed]",
      "text/plain": [
       "Plot with title \"Curva ROC Regularización L1 (AUC = 0.994953)\""
      ]
     },
     "metadata": {
      "image/png": {
       "height": 420,
       "width": 420
      }
     },
     "output_type": "display_data"
    }
   ],
   "source": [
    "pred.l1 <- predict(cvfit, as.matrix(df[-1]), type = \"response\")\n",
    "auc.l1 <- roc.area(df$diagnosis,pred.l1)$A\n",
    "roc.plot(df$diagnosis, pred.l1, main=sprintf(\"Curva ROC Regularización L1 (AUC = %g)\", auc.l1))"
   ]
  },
  {
   "cell_type": "markdown",
   "metadata": {},
   "source": [
    "Observamos como, aún con solo 11 variables, el AUC es todavía bastante alto. Por ello se propone la siguiente tarea."
   ]
  },
  {
   "cell_type": "markdown",
   "metadata": {
    "slideshow": {
     "slide_type": "slide"
    }
   },
   "source": [
    "**TAREA 4:** Utilizar una validación cruzada tipo _hold out_ para comprobar si la capacidad de generalización del modelo ha mejorado con la regularización L1."
   ]
  },
  {
   "cell_type": "markdown",
   "metadata": {
    "slideshow": {
     "slide_type": "slide"
    }
   },
   "source": [
    "### Regularización L2 (ridge)\n",
    "Si probásemos con la regularización L2 (parámetro `alpha = 0`), la norma-2 (norma euclídea) del vector de coeficientes se limita pero en este caso ningún coeficiente llega a anularse."
   ]
  },
  {
   "cell_type": "code",
   "execution_count": 32,
   "metadata": {},
   "outputs": [
    {
     "name": "stdout",
     "output_type": "stream",
     "text": [
      "Number of variables selected: 30"
     ]
    }
   ],
   "source": [
    "cvfit2 <- cv.glmnet(as.matrix(df[-1]), df$diagnosis, family = \"binomial\",alpha = 0)\n",
    "ind.coef.no.nulos.l2 <- which(as.numeric(coef(cvfit2)) != 0)\n",
    "cat(paste(\"Number of variables selected:\", length(ind.coef.no.nulos.l2)))"
   ]
  },
  {
   "cell_type": "markdown",
   "metadata": {
    "slideshow": {
     "slide_type": "slide"
    }
   },
   "source": [
    "Calculamos el AUC para el modelo regularizado con el penalty L2."
   ]
  },
  {
   "cell_type": "code",
   "execution_count": 33,
   "metadata": {
    "scrolled": false
   },
   "outputs": [
    {
     "data": {
      "image/png": "[encoded data removed]",
      "text/plain": [
       "Plot with title \"Curva ROC Regularización L2 (AUC = 0.995547)\""
      ]
     },
     "metadata": {
      "image/png": {
       "height": 420,
       "width": 420
      }
     },
     "output_type": "display_data"
    }
   ],
   "source": [
    "pred.l2 <- predict(cvfit2, as.matrix(df[-1]), type = \"response\")\n",
    "auc.l2 <- roc.area(df$diagnosis, pred.l2)$A\n",
    "roc.plot(df$diagnosis, pred.l2, main=sprintf(\"Curva ROC Regularización L2 (AUC = %g)\", auc.l2))"
   ]
  },
  {
   "cell_type": "markdown",
   "metadata": {
    "slideshow": {
     "slide_type": "slide"
    }
   },
   "source": [
    "**TAREA 5:** Comprobar la capacidad de generalización del modelo regularizado mediante _ridge regression_ y estudiar la evolución de los valores de los coeficientes en función del valor de `lambda`."
   ]
  },
  {
   "cell_type": "markdown",
   "metadata": {
    "slideshow": {
     "slide_type": "slide"
    }
   },
   "source": [
    "**TAREA 6:** Aplicar lo aprendido en esta práctica a otra de las bases de datos de ejemplo."
   ]
  },
  {
   "cell_type": "markdown",
   "metadata": {},
   "source": [
    " 1. Análisis de Componentes Principales\n",
    " \n",
    "  1. Realiza un Análisis de Componentes Principales de las covariables de esta base de datos. Estudia el número óptimo de variables a considerar a la vista de un Scree plot (`? screeplot`). Utiliza un gráfico de varianza explicada acumulada para visualizar la fracción de varianza explicada por estas variables.\n",
    " \n",
    "  1. Un *biplot* (`? biplot` `?biplot.princomp`) permite visualizar tanto las observaciones como las covariables proyectados sobre las dos primeras PCs. Represéntalo para esta base de datos.\n",
    " \n",
    "  1. El biplot es útil cuando el número de covariables no es muy elevado. Representa gráficamente las primera EOFs de esta base de datos (p.ej. `? barplot`), para poder interpretar mejor las combinaciones lineales de covariables a las que dan lugar. Comprueba también su ortogonalidad.\n",
    " \n",
    "  1. Representa una de las muestras, junto con su reconstrucción mediante las r primeras PCs. Comprueba el efecto de aumentar el valor de r."
   ]
  },
  {
   "cell_type": "code",
   "execution_count": 45,
   "metadata": {},
   "outputs": [
    {
     "data": {
      "image/png": "[encoded data removed]",
      "text/plain": [
       "Plot with title \"PCA\""
      ]
     },
     "metadata": {
      "image/png": {
       "height": 420,
       "width": 420
      }
     },
     "output_type": "display_data"
    }
   ],
   "source": [
    "# Recordamos que los datos depurados están en la variable df\n",
    "# A)\n",
    "PCA = prcomp(df[,-1], center=TRUE, scale=TRUE)\n",
    "screeplot(PCA, npcs = length(PCA$sdev))"
   ]
  },
  {
   "cell_type": "code",
   "execution_count": 47,
   "metadata": {},
   "outputs": [
    {
     "data": {
      "image/png": "[encoded data removed]",
      "text/plain": [
       "Plot with title \"Porcentaje de varianza explicada\""
      ]
     },
     "metadata": {
      "image/png": {
       "height": 420,
       "width": 420
      }
     },
     "output_type": "display_data"
    }
   ],
   "source": [
    "# Sacamos también la varianza explicada\n",
    "expVar = cumsum(PCA$sdev^2)/sum(PCA$sdev^2) * 100\n",
    "plot(expVar, cex = 1, pch = 16,\n",
    "     xlab = \"Componentes principales PCA\", ylab= \"Varianza Explicada (%)\",\n",
    "     main = \"Porcentaje de varianza explicada\")"
   ]
  },
  {
   "cell_type": "markdown",
   "metadata": {},
   "source": [
    "Vemos que con 7 variables ya explicamos más del 90% de los datos."
   ]
  },
  {
   "cell_type": "code",
   "execution_count": 57,
   "metadata": {
    "scrolled": false
   },
   "outputs": [
    {
     "data": {
      "image/png": "[encoded data removed]",
      "text/plain": [
       "plot without title"
      ]
     },
     "metadata": {
      "image/png": {
       "height": 420,
       "width": 420
      }
     },
     "output_type": "display_data"
    }
   ],
   "source": [
    "# B) \n",
    "biplot(PCA)"
   ]
  },
  {
   "cell_type": "code",
   "execution_count": 61,
   "metadata": {
    "scrolled": false
   },
   "outputs": [
    {
     "data": {
      "image/png": "[encoded data removed]",
      "text/plain": [
       "plot without title"
      ]
     },
     "metadata": {
      "image/png": {
       "height": 420,
       "width": 420
      }
     },
     "output_type": "display_data"
    }
   ],
   "source": [
    "eof = PCA$rotation\n",
    "par(mfrow = c(2,2))\n",
    "barplot(t(eof[,1]))\n",
    "barplot(t(eof[,2]))\n",
    "barplot(t(eof[,3]))\n",
    "barplot(t(eof[,4]))"
   ]
  },
  {
   "cell_type": "code",
   "execution_count": 121,
   "metadata": {},
   "outputs": [
    {
     "data": {
      "image/png": "[encoded data removed]",
      "text/plain": [
       "plot without title"
      ]
     },
     "metadata": {
      "image/png": {
       "height": 420,
       "width": 420
      }
     },
     "output_type": "display_data"
    }
   ],
   "source": [
    "# D)\n",
    "meanX = PCA$center\n",
    "eigvec = PCA$rotation\n",
    "n = nrow(df)\n",
    "par(mfrow = c(2,2))\n",
    "#r=5\n",
    "r = 5\n",
    "Xrecup = meanX + PCA$x[20,1:r] %*% t(eigvec[,1:r])\n",
    "plot(t(df[20,-1]))\n",
    "points(t(Xrecup), col =\"red\")\n",
    "#r=10\n",
    "r = 10\n",
    "Xrecup = meanX + PCA$x[20,1:r] %*% t(eigvec[,1:r])\n",
    "plot(t(df[20,-1]))\n",
    "points(t(Xrecup), col =\"red\")\n",
    "#r=15\n",
    "r = 15\n",
    "Xrecup = meanX + PCA$x[20,1:r] %*% t(eigvec[,1:r])\n",
    "plot(t(df[20,-1]))\n",
    "points(t(Xrecup), col =\"red\")\n",
    "#r=20\n",
    "r = 20\n",
    "Xrecup = meanX + PCA$x[20,1:r] %*% t(eigvec[,1:r])\n",
    "plot(t(df[20,-1]))\n",
    "points(t(Xrecup), col =\"red\")"
   ]
  },
  {
   "cell_type": "markdown",
   "metadata": {},
   "source": [
    "2. Análisis Discriminante Lineal\n",
    " \n",
    "  1. Realiza un Análisis Discriminante Lineal sobre esta base de datos. En este caso, se trata de una técnica de aprendizaje supervisado, en la que involucramos la variable respuesta en la elección de direcciones de proyección de los datos. Representa gráficamente la primera (y única, en este caso) dirección discriminante (p.ej. `? barplot`).\n",
    " \n",
    "  1. Utiliza LDA para predecir usando el conjunto de datos completo. Examina los valores de la salida de la función (`? predict`, `? predict.lda`) y representa la distribución de los datos a lo largo de la dirección dada por el primer LD (p.ej `? plot` o `? ldahist`).\n",
    " \n",
    "  1. Obtén una tabla de contingencia para estudiar la pericia de este método lineal de clasificación.\n",
    " \n",
    "  1. El LDA proporciona una predicción probabilista de las clases, ya que esta técnica implementa un clasificador bayesiano, basado en las probabilidades a posteriori de pertenencia a cada clase, bajo la hipótesis de normalidad. Utilizar una técnica de validación probabilista, como las curva ROC para evaluar la pericia de esta predicción probabilista.\n",
    " \n",
    "  1. Repetir lo anterior pero mediante una validación cruzada tipo *hold out*, para ver la capacidad de generalización de esta técnica lineal."
   ]
  },
  {
   "cell_type": "markdown",
   "metadata": {},
   "source": [
    " 3. Repetir todos los pasos de esta práctica para otra base de datos de tu elección. Para visualizar mejor los resultados es preferible que no tenga demasiadas covariables, como por ejemplo `ISLR::Hitters` o `USArrests` (consulta la ayuda para ver de qué se trata)."
   ]
  }
 ],
 "metadata": {
  "celltoolbar": "Tags",
  "kernelspec": {
   "display_name": "R",
   "language": "R",
   "name": "ir"
  },
  "language_info": {
   "codemirror_mode": "r",
   "file_extension": ".r",
   "mimetype": "text/x-r-source",
   "name": "R",
   "pygments_lexer": "r",
   "version": "3.6.3"
  }
 },
 "nbformat": 4,
 "nbformat_minor": 2
}
