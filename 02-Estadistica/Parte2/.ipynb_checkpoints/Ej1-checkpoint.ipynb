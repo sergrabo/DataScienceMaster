{
 "cells": [
  {
   "cell_type": "markdown",
   "id": "d99dcf39",
   "metadata": {},
   "source": [
    "# Ejercicio 1"
   ]
  },
  {
   "cell_type": "markdown",
   "id": "a8e92df0",
   "metadata": {},
   "source": [
    "## 1) \n",
    "Generar una muestra de tamaño N = 10000 correspondiente a la altura de personas adultas, asumiendo que su densidad de probabilidad es una función normal/gaussiana con μ= 1.78m y σ= 0.1 m. Dibuja la densidad de frecuencia y la densidad de probabilidad por separado. Compara μ y σ con la media muestral y la varianza muestral."
   ]
  },
  {
   "cell_type": "code",
   "execution_count": 1,
   "id": "9c02fab4",
   "metadata": {},
   "outputs": [
    {
     "name": "stderr",
     "output_type": "stream",
     "text": [
      "Registered S3 methods overwritten by 'ggplot2':\n",
      "  method         from \n",
      "  [.quosures     rlang\n",
      "  c.quosures     rlang\n",
      "  print.quosures rlang\n",
      "\n"
     ]
    }
   ],
   "source": [
    "# Carga de paquetes\n",
    "library(ggplot2)\n",
    "library(scales)"
   ]
  },
  {
   "cell_type": "code",
   "execution_count": 2,
   "id": "228101a7",
   "metadata": {},
   "outputs": [
    {
     "data": {
      "image/png": "[encoded data removed]",
      "text/plain": [
       "Plot with title \"Comparación entre densidad de frecuencia y densidad de probabilidad\""
      ]
     },
     "metadata": {
      "image/png": {
       "height": 420,
       "width": 420
      }
     },
     "output_type": "display_data"
    }
   ],
   "source": [
    "N = 10000\n",
    "mu = 1.78\n",
    "sigma = 0.1\n",
    "\n",
    "muestra = rnorm(N, mean = mu, sd = sigma)\n",
    "hist(muestra, freq = F, ylim = c(0,4), xlim = c(1.3,2.3),\n",
    "     main = \"Comparación entre densidad de frecuencia y densidad de probabilidad\",\n",
    "     xlab = \"Variable aleatoria X\",\n",
    "     ylab = \"Frecuencia\")\n",
    "x = seq(min(muestra), max(muestra), by = 0.01)\n",
    "lines(x, y = dnorm(x, mean = mu, sd = sigma), col = \"red\", lwd = 2)\n",
    "\n",
    "legend(x = \"topright\", legend = c(\"Densidad de frecuencia\", \"Densidad de población\"),\n",
    "       col=c(\"black\", \"red\"), lwd = 1)"
   ]
  },
  {
   "cell_type": "markdown",
   "id": "c1508f7f",
   "metadata": {},
   "source": [
    "Como podemos apreciar, la densidad de frecuencias se asemeja a la pdf gaussiana. Cuanto mayor sea el tamaño N, más se acercará a la pdf, hecho que estudiaremos en el apartado siguiente. Si comparamos la media $\\mu$ con la media muestral, y la desviación estándar $\\sigma$ con la raíz de la varianza muestral, obtenemos los siguientes resultados:"
   ]
  },
  {
   "cell_type": "code",
   "execution_count": 3,
   "id": "aa6f5948",
   "metadata": {},
   "outputs": [
    {
     "name": "stdout",
     "output_type": "stream",
     "text": [
      "[1] \"Comparación de medias:\"\n",
      "[1] \"Mu = 1.78; mean = 1.77964510297963\"\n",
      "[1] \"Comparación de desviaciones estándar:\"\n",
      "[1] \"Sigma = 0.1; std = 0.0998434595385372\"\n"
     ]
    }
   ],
   "source": [
    "print(\"Comparación de medias:\")\n",
    "print(paste0(\"Mu = \", mu, \"; mean = \", mean(muestra)))\n",
    "print(\"Comparación de desviaciones estándar:\")\n",
    "print(paste0(\"Sigma = \", sigma, \"; std = \", sqrt(var(muestra))))"
   ]
  },
  {
   "cell_type": "markdown",
   "id": "ba39f56a",
   "metadata": {},
   "source": [
    "Nuevamente, vemos que los estimadores sobre la muestra se asemejan enormemente a $\\mu$ y $\\sigma$ respectivamente, gracias al elevado tamaño muestral N."
   ]
  },
  {
   "cell_type": "markdown",
   "id": "6c11c810",
   "metadata": {},
   "source": [
    "## 2) \n",
    "Considerar la distribución de probabilidad anterior y el estimador media muestral para una muestra de tamaño N (muN).\n",
    "1) Generar un número alto M = 10000 de pseudo-muestras y pintar la distribución (μ-muN), para N = 10, 100, 1000, 10000.\n",
    "\n",
    "2) Asumiendo que el valor esperado puede calcularse como el promedio a los M pseudo-experimentos. Calcular el valor esperado para cada muN y dibujar el resultado en función de N.\n",
    "\n",
    "3) Asumiendo que la varianza puede calcularse como la varianza a los M pseudo-experimentos. Calcular la varianza para cada muN y dibujar el resultado en función de N."
   ]
  },
  {
   "cell_type": "markdown",
   "id": "aa86738e",
   "metadata": {},
   "source": [
    "## 3)\n",
    "Repetir 2) pero usando el estimador “varianza muestral” (con la fórmula sesgada)."
   ]
  },
  {
   "cell_type": "markdown",
   "id": "f2fd7a3f",
   "metadata": {},
   "source": [
    "## 4)\n",
    "Repetir 2) pero usando el estimador “mediana muestral” (con la fórmula sesgada).¿Cuál de los dos estimadores (media muestral o mediana muestral es más eficiente?"
   ]
  },
  {
   "cell_type": "markdown",
   "id": "a84b3288",
   "metadata": {},
   "source": [
    "Para ahorrar tiempo de cómputo, realizaremos los tres apartados dentro del mismo bucle:"
   ]
  },
  {
   "cell_type": "code",
   "execution_count": 4,
   "id": "4c1d29fc",
   "metadata": {},
   "outputs": [],
   "source": [
    "M = 10000\n",
    "idx = c(10, 100, 1000, 10000)\n",
    "\n",
    "dfPlot = data.frame(\n",
    "      Size = c(),\n",
    "      Value = c()\n",
    ")\n",
    "\n",
    "dfMean = data.frame(\n",
    "      Size = c(),\n",
    "      Mean = c(),\n",
    "      Variance = c()\n",
    ")\n",
    "\n",
    "dfVar = data.frame(\n",
    "      Size = c(),\n",
    "      Mean = c(),\n",
    "      Variance = c()\n",
    ")\n",
    "\n",
    "dfMedian = data.frame(\n",
    "      Size = c(),\n",
    "      Mean = c(),\n",
    "      Variance = c()\n",
    ")\n",
    "\n",
    "# Bucle para los diferentes tamaños\n",
    "for(N in idx){\n",
    "    Muestras = matrix(data = NA, nrow = N, ncol = M)\n",
    "\n",
    "    # Bucle para generar las diferentes simulaciones\n",
    "    for(i in 1:M){\n",
    "      Muestras[,i] = rnorm(N, mean = mu, sd = sigma)\n",
    "    }\n",
    "\n",
    "    # Cálculo de mu-mean\n",
    "    d = mu - colMeans(Muestras)\n",
    "    # Estimador media\n",
    "    Means = apply(X = Muestras, MARGIN = 2, FUN = mean)\n",
    "    # Estimador varianza (Utilizamos el estimador sesgado)\n",
    "    Vars = apply(X = Muestras, MARGIN=2, FUN=function(x) {return(sum((x-mean(x))^2)/length(x))})\n",
    "    # Estimador mediana\n",
    "    Medians = apply(X = Muestras, MARGIN = 2, FUN = median)\n",
    "\n",
    "    ##### Añadimos a los dataframes para plotear #####\n",
    "    # Distribución de distancias\n",
    "    dfAdd = data.frame(\n",
    "        Size = rep(as.character(N), N),\n",
    "        Value = d\n",
    "    )\n",
    "    dfPlot = rbind(dfPlot, dfAdd)\n",
    "\n",
    "    ## ESTIMADOR MEDIA\n",
    "    dfAdd = data.frame(\n",
    "        Size = N,\n",
    "        Mean = mean(Means),\n",
    "        Variance = var(Means)\n",
    "    )\n",
    "    dfMean = rbind(dfMean, dfAdd)\n",
    "    \n",
    "    ## ESTIMADOR VARIANZA\n",
    "    dfAdd = data.frame(\n",
    "        Size = N,\n",
    "        Mean = mean(Vars),\n",
    "        Variance = var(Vars)\n",
    "    )\n",
    "    dfVar = rbind(dfVar, dfAdd)\n",
    "\n",
    "    ## ESTIMADOR MEDIANA\n",
    "    dfAdd = data.frame(\n",
    "        Size = N,\n",
    "        Mean = mean(Medians),\n",
    "        Variance = var(Medians)\n",
    "    )\n",
    "    dfMedian = rbind(dfMedian, dfAdd)\n",
    "}"
   ]
  },
  {
   "cell_type": "markdown",
   "id": "0c4f8600",
   "metadata": {},
   "source": [
    "Comenzamos comparando las distribuciones de la función $\\mu - \\bar{x}_N$. Esta distribución nos indica cuánto se parecen $\\mu$ y el valor estimado de la media para cada tamaño muestral N."
   ]
  },
  {
   "cell_type": "code",
   "execution_count": 5,
   "id": "fd2a1ebb",
   "metadata": {
    "scrolled": false
   },
   "outputs": [
    {
     "data": {
      "image/png": "[encoded data removed]",
      "text/plain": [
       "plot without title"
      ]
     },
     "metadata": {
      "image/png": {
       "height": 420,
       "width": 420
      }
     },
     "output_type": "display_data"
    }
   ],
   "source": [
    "bins = 40\n",
    "bw = (max(dfPlot$Value)-min(dfPlot$Value))/bins\n",
    "ggplot(dfPlot, aes(x = Value, fill = Size)) +\n",
    "  geom_histogram(alpha=0.6, binwidth = bw) +\n",
    "  facet_wrap(vars(Size)) +\n",
    "  ggtitle(\"Comparación de distancias a la media\")"
   ]
  },
  {
   "cell_type": "markdown",
   "id": "269499a2",
   "metadata": {},
   "source": [
    "Como podemos observar, conforme aumentamos el tamaño muestral la distribución (con media nula), esta se va estrechando hasta que prácticamente todos los valores caen en el bin central. Esto indica que a mayor N existe una mayor semejanza entre la media de la pdf $\\mu$ y la media muestral."
   ]
  },
  {
   "cell_type": "markdown",
   "id": "23d28e82",
   "metadata": {},
   "source": [
    "A continuación, representamos la media y desviación de los diferentes estimadores utilizados: media muestral, varianza muestral (sesgado) y mediana muestral."
   ]
  },
  {
   "cell_type": "code",
   "execution_count": 6,
   "id": "4e1bd981",
   "metadata": {},
   "outputs": [
    {
     "data": {
      "image/png": "[encoded data removed]",
      "text/plain": [
       "plot without title"
      ]
     },
     "metadata": {
      "image/png": {
       "height": 420,
       "width": 420
      }
     },
     "output_type": "display_data"
    }
   ],
   "source": [
    "ggplot(dfMean, aes(x = log(Size), y = Mean)) + \n",
    "  geom_point() + \n",
    "  geom_errorbar(aes(x = log(Size), ymin = Mean - sqrt(Variance), ymax = Mean + sqrt(Variance)),\n",
    "                  width = 0.5, colour = \"red\", alpha=0.5, size = 1) +\n",
    "  ylim(1.70,1.85) + \n",
    "  ggtitle(\"Estimador Media\")"
   ]
  },
  {
   "cell_type": "code",
   "execution_count": 7,
   "id": "e07a496f",
   "metadata": {},
   "outputs": [
    {
     "data": {
      "image/png": "[encoded data removed]",
      "text/plain": [
       "plot without title"
      ]
     },
     "metadata": {
      "image/png": {
       "height": 420,
       "width": 420
      }
     },
     "output_type": "display_data"
    }
   ],
   "source": [
    "ggplot(dfVar, aes(x = log(Size), y = Mean)) + \n",
    "  geom_point() + \n",
    "  geom_errorbar(aes(x = log(Size), ymin = Mean - sqrt(Variance), ymax = Mean + sqrt(Variance)),\n",
    "                  width = 0.5, colour = \"red\", alpha=0.5, size = 1) +\n",
    "  ylim(0,0.015) + \n",
    "  ggtitle(\"Estimador Varianza\")"
   ]
  },
  {
   "cell_type": "code",
   "execution_count": 8,
   "id": "10dc24bb",
   "metadata": {},
   "outputs": [
    {
     "data": {
      "image/png": "[encoded data removed]",
      "text/plain": [
       "plot without title"
      ]
     },
     "metadata": {
      "image/png": {
       "height": 420,
       "width": 420
      }
     },
     "output_type": "display_data"
    }
   ],
   "source": [
    "ggplot(dfMedian, aes(x = log(Size), y = Mean)) + \n",
    "  geom_point() + \n",
    "  geom_errorbar(aes(x = log(Size), ymin = Mean - sqrt(Variance), ymax = Mean + sqrt(Variance)),\n",
    "                  width = 0.5, colour = \"red\", alpha=0.5, size = 1) +\n",
    "  ylim(1.70,1.85) + \n",
    "  ggtitle(\"Estimador Mediana\")"
   ]
  },
  {
   "cell_type": "markdown",
   "id": "3cc8bfb5",
   "metadata": {},
   "source": [
    "Se puede apreciar como para los tres estimadores conforme aumentamos el tamaño muestral N se aproximan más a los valores de la pdf ($\\mu$ para los estimadores media y mediana, $\\sigma^2$ para la varianza), y además disminuye el error cometido, calculado la desviación estándar del estimador y representado gráficamente mediante las barras de error."
   ]
  },
  {
   "cell_type": "markdown",
   "id": "137ac080",
   "metadata": {},
   "source": [
    "Finalmente, para responder a la pregunta de qué estimador es más eficiente, media muestral o mediana muestral, comparamos sus varianzas: aquel que tenga menor varianza será más eficiente."
   ]
  },
  {
   "cell_type": "code",
   "execution_count": 9,
   "id": "a9051850",
   "metadata": {},
   "outputs": [
    {
     "data": {
      "text/html": [
       "<table>\n",
       "<thead><tr><th scope=col>VarMean</th><th scope=col>VarMedian</th></tr></thead>\n",
       "<tbody>\n",
       "\t<tr><td>1.013956e-03</td><td>1.377321e-03</td></tr>\n",
       "\t<tr><td>1.031758e-04</td><td>1.614983e-04</td></tr>\n",
       "\t<tr><td>1.002672e-05</td><td>1.586831e-05</td></tr>\n",
       "\t<tr><td>9.903460e-07</td><td>1.580151e-06</td></tr>\n",
       "</tbody>\n",
       "</table>\n"
      ],
      "text/latex": [
       "\\begin{tabular}{r|ll}\n",
       " VarMean & VarMedian\\\\\n",
       "\\hline\n",
       "\t 1.013956e-03 & 1.377321e-03\\\\\n",
       "\t 1.031758e-04 & 1.614983e-04\\\\\n",
       "\t 1.002672e-05 & 1.586831e-05\\\\\n",
       "\t 9.903460e-07 & 1.580151e-06\\\\\n",
       "\\end{tabular}\n"
      ],
      "text/markdown": [
       "\n",
       "| VarMean | VarMedian |\n",
       "|---|---|\n",
       "| 1.013956e-03 | 1.377321e-03 |\n",
       "| 1.031758e-04 | 1.614983e-04 |\n",
       "| 1.002672e-05 | 1.586831e-05 |\n",
       "| 9.903460e-07 | 1.580151e-06 |\n",
       "\n"
      ],
      "text/plain": [
       "  VarMean      VarMedian   \n",
       "1 1.013956e-03 1.377321e-03\n",
       "2 1.031758e-04 1.614983e-04\n",
       "3 1.002672e-05 1.586831e-05\n",
       "4 9.903460e-07 1.580151e-06"
      ]
     },
     "metadata": {},
     "output_type": "display_data"
    }
   ],
   "source": [
    "eff = data.frame( VarMean = dfMean$Variance, VarMedian = dfMedian$Variance)\n",
    "eff"
   ]
  },
  {
   "cell_type": "markdown",
   "id": "70fece15",
   "metadata": {},
   "source": [
    "Como la varianza del estimador mediana es menor para todo valor de N, podemos concluir que dicho estimador es más eficiente."
   ]
  }
 ],
 "metadata": {
  "kernelspec": {
   "display_name": "R",
   "language": "R",
   "name": "ir"
  },
  "language_info": {
   "codemirror_mode": "r",
   "file_extension": ".r",
   "mimetype": "text/x-r-source",
   "name": "R",
   "pygments_lexer": "r",
   "version": "3.6.3"
  }
 },
 "nbformat": 4,
 "nbformat_minor": 5
}
