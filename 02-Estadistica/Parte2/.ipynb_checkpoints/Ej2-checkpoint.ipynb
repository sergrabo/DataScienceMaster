{
 "cells": [
  {
   "cell_type": "markdown",
   "id": "d99dcf39",
   "metadata": {},
   "source": [
    "# Ejercicio 2"
   ]
  },
  {
   "cell_type": "markdown",
   "id": "a8e92df0",
   "metadata": {},
   "source": [
    "## 1) \n",
    "Consideremos un sistema en el que existe una característica x y una variable dependiente y que se relacionan como $y=ax$.\n",
    "Supongamos también que para cada valor fijo de x la medida y viene dada por una pdf gaussiana centrada en $ax$ y con $\\sigma$.\n",
    "Escribe una funcion de R que tome como input un vector aleatorio de N elementos de x que tome valores entre [0, 10], el factor a, y\n",
    "sigma; y genere el correspondiente vector y."
   ]
  },
  {
   "cell_type": "code",
   "execution_count": 2,
   "id": "9c02fab4",
   "metadata": {
    "scrolled": true
   },
   "outputs": [],
   "source": [
    "# Creamos la función para generar los datos\n",
    "generaY = function(x, a, sigma){\n",
    "  y = a*x + rnorm(x, mean = 0, sd = sigma)\n",
    "  return (y)\n",
    "}"
   ]
  },
  {
   "cell_type": "markdown",
   "id": "88222ba6",
   "metadata": {},
   "source": [
    "Son equivalentes:\n",
    "* `y = a*x + rnorm(x, mean = 0, sd = sigma)`\n",
    "* `y = rnorm(x, mean = a*x, sd = sigma)`"
   ]
  },
  {
   "cell_type": "markdown",
   "id": "f7a10978",
   "metadata": {},
   "source": [
    "## 2)\n",
    "Una vez terminada la función genera el vector x con N = 100, y un vector y con a = 2 y sigma = 0.2. Pintalos en una grafica."
   ]
  },
  {
   "cell_type": "code",
   "execution_count": 13,
   "id": "228101a7",
   "metadata": {
    "scrolled": false
   },
   "outputs": [
    {
     "data": {
      "image/png": "[encoded data removed]",
      "text/plain": [
       "Plot with title \"Distribución de la variable y\""
      ]
     },
     "metadata": {
      "image/png": {
       "height": 420,
       "width": 420
      }
     },
     "output_type": "display_data"
    }
   ],
   "source": [
    "N = 100\n",
    "a = 2\n",
    "sigma = 0.2\n",
    "x = runif(N, min = 0, max = 10)\n",
    "y = generaY(x, a, sigma)\n",
    "plot(x, y, main = \"Distribución de la variable y\", pch = 16, cex = 0.5)\n",
    "abline(a = 0, b = a, col = \"red\")"
   ]
  },
  {
   "cell_type": "markdown",
   "id": "3b334c94",
   "metadata": {},
   "source": [
    "Como podemos observar, los datos generados para la variable $y$ se distribuyen siguiendo la recta $a\\cdot x$, con una ligera variación dada por la pdf gaussiana."
   ]
  },
  {
   "cell_type": "markdown",
   "id": "3df3d0a2",
   "metadata": {},
   "source": [
    "## 3)\n",
    "Escribe una función en R a la que le pases un vector y dependiente, un vector x con la caracteristica, y un parametro a y te devuelva el\n",
    "valor de la loss function para ese valor del parámetro a."
   ]
  },
  {
   "cell_type": "code",
   "execution_count": 14,
   "id": "3aedbbbc",
   "metadata": {},
   "outputs": [],
   "source": [
    "# Creamos la función de coste\n",
    "loss = function(x, y, a){\n",
    "  l = t(y-a*x)%*%(y-a*x)\n",
    "}"
   ]
  },
  {
   "cell_type": "markdown",
   "id": "4c37cb50",
   "metadata": {},
   "source": [
    "## 4)\n",
    "Llama a la función anterior con diferentes valores del parámetro a, y pinta la curva de la loss function en función de a. Comprueba\n",
    "visualmente que el mínimo está en la posición que nos esperamos."
   ]
  },
  {
   "cell_type": "code",
   "execution_count": 15,
   "id": "aa6f5948",
   "metadata": {},
   "outputs": [],
   "source": [
    "## Cálculo de Loss\n",
    "ls = c()\n",
    "span = seq(0, 4, by = 0.1)\n",
    "for (a in span){\n",
    "  j = a/0.1\n",
    "  ls[j+1] = loss(x,y,a)\n",
    "}"
   ]
  },
  {
   "cell_type": "code",
   "execution_count": 16,
   "id": "4c1d29fc",
   "metadata": {
    "scrolled": false
   },
   "outputs": [
    {
     "data": {
      "image/png": "[encoded data removed]",
      "text/plain": [
       "Plot with title \"Distribución de la función de loss\""
      ]
     },
     "metadata": {
      "image/png": {
       "height": 420,
       "width": 420
      }
     },
     "output_type": "display_data"
    }
   ],
   "source": [
    "## Resultados\n",
    "# Plot de la función de coste\n",
    "plot(x = span, y = ls, main = \"Distribución de la función de loss\",\n",
    "     xlab = \"a\", ylab = \"Loss\",\n",
    "     pch = 16, cex = 0.5)"
   ]
  },
  {
   "cell_type": "markdown",
   "id": "c644d15c",
   "metadata": {},
   "source": [
    "Como podemos observar, el coste en función de la pendiente $a$ se distribuye siguiendo una parábola cuyo mínimo se localiza en $a=2$, valor óptimo de la regresión lineal y pendiente con la que se distribuyen los datos generados en $y$·"
   ]
  }
 ],
 "metadata": {
  "kernelspec": {
   "display_name": "R",
   "language": "R",
   "name": "ir"
  },
  "language_info": {
   "codemirror_mode": "r",
   "file_extension": ".r",
   "mimetype": "text/x-r-source",
   "name": "R",
   "pygments_lexer": "r",
   "version": "3.6.3"
  }
 },
 "nbformat": 4,
 "nbformat_minor": 5
}
