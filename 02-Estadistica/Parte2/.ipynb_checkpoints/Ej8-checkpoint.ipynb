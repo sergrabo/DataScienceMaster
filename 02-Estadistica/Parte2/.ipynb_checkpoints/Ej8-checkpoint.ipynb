{
 "cells": [
  {
   "cell_type": "markdown",
   "metadata": {},
   "source": [
    "# Ejercicio 8"
   ]
  },
  {
   "cell_type": "markdown",
   "metadata": {},
   "source": [
    "## 1) \n",
    "Escribe una función de R que reciba un vector de números x (la muestra), y genere una muestra bootstrap de ese\n",
    "vector."
   ]
  },
  {
   "cell_type": "markdown",
   "metadata": {},
   "source": [
    "Podemos simplemente utilizar la función `sample` con `replace=T`"
   ]
  },
  {
   "cell_type": "code",
   "execution_count": 1,
   "metadata": {},
   "outputs": [
    {
     "data": {
      "text/html": [
       "<ol class=list-inline>\n",
       "\t<li>2</li>\n",
       "\t<li>8</li>\n",
       "\t<li>5</li>\n",
       "\t<li>5</li>\n",
       "\t<li>8</li>\n",
       "\t<li>5</li>\n",
       "\t<li>1</li>\n",
       "\t<li>8</li>\n",
       "\t<li>1</li>\n",
       "\t<li>6</li>\n",
       "</ol>\n"
      ],
      "text/latex": [
       "\\begin{enumerate*}\n",
       "\\item 2\n",
       "\\item 8\n",
       "\\item 5\n",
       "\\item 5\n",
       "\\item 8\n",
       "\\item 5\n",
       "\\item 1\n",
       "\\item 8\n",
       "\\item 1\n",
       "\\item 6\n",
       "\\end{enumerate*}\n"
      ],
      "text/markdown": [
       "1. 2\n",
       "2. 8\n",
       "3. 5\n",
       "4. 5\n",
       "5. 8\n",
       "6. 5\n",
       "7. 1\n",
       "8. 8\n",
       "9. 1\n",
       "10. 6\n",
       "\n",
       "\n"
      ],
      "text/plain": [
       " [1] 2 8 5 5 8 5 1 8 1 6"
      ]
     },
     "metadata": {},
     "output_type": "display_data"
    }
   ],
   "source": [
    "x = c(1,2,3,4,5,6,7,8,9,10)\n",
    "sample(x, length(x), replace = TRUE)"
   ]
  },
  {
   "cell_type": "markdown",
   "metadata": {},
   "source": [
    "## 2)\n",
    "Utilizando la función anterior, escribe una función que reciba un vector de números x (la muestra original) y un\n",
    "número natural N, y que genere una matrix que tenga N columnas, siendo cada una una de las muestras de\n",
    "bootstrap."
   ]
  },
  {
   "cell_type": "code",
   "execution_count": 2,
   "metadata": {},
   "outputs": [],
   "source": [
    "generateBootstrap = function(x, N){\n",
    "    n = length(x)\n",
    "    m = matrix(data = NA, nrow = n, ncol = N)\n",
    "    \n",
    "    for(i in 1:N){\n",
    "        m[,i] = sample(x, n, replace = TRUE)\n",
    "        }\n",
    "    return(m)\n",
    "}"
   ]
  },
  {
   "cell_type": "markdown",
   "metadata": {},
   "source": [
    "## 3) \n",
    "Escribe una función de R que reciba un vector de números x (la muestra) y genere una matriz que contenta TODAS\n",
    "las muestras jacknife con el mismo formato del ejercicio anterior."
   ]
  },
  {
   "cell_type": "code",
   "execution_count": 3,
   "metadata": {},
   "outputs": [],
   "source": [
    "generateJacknife = function(x){\n",
    "    n = length(x)\n",
    "    m = matrix(data = NA, nrow = n-1, ncol = n)\n",
    "    for(i in 1:n){\n",
    "       m[,i] = setdiff(1:n, i)\n",
    "    }\n",
    "    return(m)\n",
    "}"
   ]
  },
  {
   "cell_type": "markdown",
   "metadata": {},
   "source": [
    "## 4) \n",
    "Utilizando las funciones anteriores considera la desviación estándar de la media muestral para una muestra de\n",
    "N=10000 que se distribuya como en el ejercicio 1 (gaussiana centrada en 1.70m y sigma=1.7). Compara la desviación\n",
    "estándar obtenida, con la obtenida con bootstrap."
   ]
  },
  {
   "cell_type": "code",
   "execution_count": 4,
   "metadata": {},
   "outputs": [],
   "source": [
    "# Función para calcular la desviación estándar de Bootstrap\n",
    "SDB = function(BTdata, mean){\n",
    "    N = ncol(BTdata)\n",
    "    meansBT = colMeans(BTdata)\n",
    "    s = 1/(N-1)*sum((meansBT-mean)^2)\n",
    "    return(sqrt(s))\n",
    "}"
   ]
  },
  {
   "cell_type": "code",
   "execution_count": 5,
   "metadata": {},
   "outputs": [],
   "source": [
    "N = 10000\n",
    "mu = 1.70\n",
    "sigma = 1.7\n",
    "muestra = rnorm(N, mean = mu, sd = sigma)\n",
    "muestraBT = generateBootstrap(muestra, 5000)"
   ]
  },
  {
   "cell_type": "code",
   "execution_count": 6,
   "metadata": {},
   "outputs": [
    {
     "name": "stdout",
     "output_type": "stream",
     "text": [
      "sigma =  1.719171 \n",
      "sigma Bootstrap =  0.01743317"
     ]
    }
   ],
   "source": [
    "sigma = sd(muestra)\n",
    "sigmaBT = SDB(muestraBT, mean(muestra))\n",
    "cat(\"sigma = \", sigma, \"\\n\")\n",
    "cat(\"sigma Bootstrap = \", sigmaBT)"
   ]
  },
  {
   "cell_type": "markdown",
   "metadata": {},
   "source": [
    "## 5)\n",
    "Repite el ejercicio anterior utilizando la técnica jackknife. ¿Cuál da mejor resultado?"
   ]
  },
  {
   "cell_type": "code",
   "execution_count": 7,
   "metadata": {},
   "outputs": [],
   "source": [
    "SDJK = function(JKdata, mean){\n",
    "    N = ncol(JKdata)\n",
    "    meansJK = colMeans(JKdata)\n",
    "    s = N/(N-1)*sum((meansJK-mean)^2)\n",
    "    return(sqrt(s))\n",
    "}"
   ]
  },
  {
   "cell_type": "code",
   "execution_count": 8,
   "metadata": {},
   "outputs": [],
   "source": [
    "muestraJK = generateJacknife(muestra)"
   ]
  },
  {
   "cell_type": "code",
   "execution_count": 9,
   "metadata": {},
   "outputs": [
    {
     "name": "stdout",
     "output_type": "stream",
     "text": [
      "sigma =  1.719171 \n",
      "sigma Jacknife =  4999.03"
     ]
    }
   ],
   "source": [
    "sigmaJK = SDB(muestraJK, mean(muestra))\n",
    "cat(\"sigma = \", sigma, \"\\n\")\n",
    "cat(\"sigma Jacknife = \", sigmaJK)"
   ]
  }
 ],
 "metadata": {
  "kernelspec": {
   "display_name": "R",
   "language": "R",
   "name": "ir"
  },
  "language_info": {
   "codemirror_mode": "r",
   "file_extension": ".r",
   "mimetype": "text/x-r-source",
   "name": "R",
   "pygments_lexer": "r",
   "version": "3.6.3"
  }
 },
 "nbformat": 4,
 "nbformat_minor": 5
}
