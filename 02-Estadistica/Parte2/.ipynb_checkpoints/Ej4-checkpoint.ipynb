{
 "cells": [
  {
   "cell_type": "markdown",
   "id": "d99dcf39",
   "metadata": {},
   "source": [
    "# Ejercicio 4"
   ]
  },
  {
   "cell_type": "markdown",
   "id": "a8e92df0",
   "metadata": {},
   "source": [
    "## 1) \n",
    "Crea una función que genere dos muestras que se distribuyen según dos gaussianas distintas. La función recibirá como valores de entrada: el número N de puntos a generar para cada categoría, y mu1, sigma1, mu2, sigma2 que son los correspondientes parámetros de las dos gaussianas. Como output devolverá un valor con longitud 2N que contenga la muestra x generada, y otro vector de longitud 2N que contenga 0 o 1 en función de la categoría asociada a ese elemento."
   ]
  },
  {
   "cell_type": "code",
   "execution_count": 1,
   "id": "23cdd327",
   "metadata": {},
   "outputs": [],
   "source": [
    "generaGauss = function(N, mu1, sigma1, mu2, sigma2){\n",
    "  x = c(rnorm(N, mean = mu1, sd = sigma1),\n",
    "        rnorm(N, mean = mu2, sd = sigma2))\n",
    "  y = c(rep(0,N), rep(1,N))\n",
    "  return(data.frame(x,y))\n",
    "}"
   ]
  },
  {
   "cell_type": "markdown",
   "id": "e105839e",
   "metadata": {},
   "source": [
    "## 2)\n",
    "Crea una función que calcule el valor de la sigmoide para un valor de entrada Z."
   ]
  },
  {
   "cell_type": "code",
   "execution_count": 2,
   "id": "91b1d629",
   "metadata": {},
   "outputs": [],
   "source": [
    "sigmoid = function(z){\n",
    "  s = 1/(1+exp(-z))\n",
    "  return(s)\n",
    "}"
   ]
  },
  {
   "cell_type": "markdown",
   "id": "8f04e950",
   "metadata": {},
   "source": [
    "## 3) \n",
    "Crea una función que calcule el valor de la función de Loss y que reciba como entrada “x” e “y” y los parámetros\n",
    "del modelo que vamos a asumir: z = a + b x (es decir, a y b)."
   ]
  },
  {
   "cell_type": "code",
   "execution_count": 3,
   "id": "75337096",
   "metadata": {},
   "outputs": [],
   "source": [
    "loss = function(x, y, alpha){\n",
    "    N = length(y)\n",
    "    xMat = cbind(rep(1, N), x)\n",
    "\n",
    "    Z = xMat %*% alpha \n",
    "    l = sum(y*log(sigmoid(Z)) +\n",
    "            (1-y)*log(1 - sigmoid(Z)))\n",
    "  return(-1/N * l)\n",
    "}"
   ]
  },
  {
   "cell_type": "markdown",
   "id": "791530d4",
   "metadata": {},
   "source": [
    "## 4) \n",
    "Crea una función que devuelva el gradiente de la función de Loss y que reciba como entrada “x” e “y” y los\n",
    "parámetros (a, b) del modelo que vamos a asumir."
   ]
  },
  {
   "cell_type": "code",
   "execution_count": 4,
   "id": "a000e7d4",
   "metadata": {},
   "outputs": [],
   "source": [
    "grad_loss = function(x, y, alpha){\n",
    "  N = length(y)\n",
    "  xMat = cbind(rep(1, N), x)\n",
    "  Z = xMat %*% alpha\n",
    "  g = t(sigmoid(Z)- y) %*% xMat\n",
    "  return(1/N * g)\n",
    "}"
   ]
  },
  {
   "cell_type": "markdown",
   "id": "e0ae37d4",
   "metadata": {},
   "source": [
    "## 5)\n",
    "Generar un par de vectores “x”, “y” con N = 100, mu1 = 2, mu2 = 6, sigma1 = 1 y sigma2 = 1."
   ]
  },
  {
   "cell_type": "code",
   "execution_count": 5,
   "id": "75e691b1",
   "metadata": {},
   "outputs": [],
   "source": [
    "N = 100\n",
    "mu1 = 2\n",
    "mu2 = 6\n",
    "sigma1 = 1\n",
    "sigma2 = 1\n",
    "\n",
    "data = generaGauss(N, mu1, mu2, sigma1, sigma2)"
   ]
  },
  {
   "cell_type": "markdown",
   "id": "3dc91a9a",
   "metadata": {},
   "source": [
    "## 6)\n",
    "Calcular la función de coste y el gradiente para (a = 0, b = 0). Actualizar los valores de a y b de manera que (a, b)_nuevos = (a, b)_viejos - lambda * gradiente. Repite 3 o 4 cuatro veces y observa los valores de la función de\n",
    "coste. Intenta encontrar el mínimo aproximadadamente. Interpreta los resultados."
   ]
  },
  {
   "cell_type": "code",
   "execution_count": 6,
   "id": "af82695d",
   "metadata": {},
   "outputs": [
    {
     "data": {
      "text/html": [
       "<ol class=list-inline>\n",
       "\t<li>0.693147180559945</li>\n",
       "\t<li>0.691959689116183</li>\n",
       "\t<li>0.691555749508523</li>\n",
       "\t<li>0.691433218199305</li>\n",
       "</ol>\n"
      ],
      "text/latex": [
       "\\begin{enumerate*}\n",
       "\\item 0.693147180559945\n",
       "\\item 0.691959689116183\n",
       "\\item 0.691555749508523\n",
       "\\item 0.691433218199305\n",
       "\\end{enumerate*}\n"
      ],
      "text/markdown": [
       "1. 0.693147180559945\n",
       "2. 0.691959689116183\n",
       "3. 0.691555749508523\n",
       "4. 0.691433218199305\n",
       "\n",
       "\n"
      ],
      "text/plain": [
       "[1] 0.6931472 0.6919597 0.6915557 0.6914332"
      ]
     },
     "metadata": {},
     "output_type": "display_data"
    }
   ],
   "source": [
    "alpha = c(0,0) #Condiciones iniciales\n",
    "lambda = 0.3\n",
    "x = data[,1]\n",
    "y = data[,2]\n",
    "Loss = c()\n",
    "param = c()\n",
    "for(k in 1:4){\n",
    "    Loss = c(Loss, loss(x, y, alpha))\n",
    "    gradLoss = as.vector(grad_loss(x, y, alpha))\n",
    "    alpha = alpha - lambda*gradLoss\n",
    "}\n",
    "Loss"
   ]
  },
  {
   "cell_type": "markdown",
   "id": "2a0f2734",
   "metadata": {},
   "source": [
    "Como podemos observar, los valores obtenidos para la función de coste disminuyen ligeramente en cada paso. El movimiento dentro del espacio de parámetros dependerá además de la constante $\\lambda$, ya que cuanto más grande sea, mayor distancia se recorrerá en cada paso. En una primera estimación, podríamos decir que el mínimo se encuentra cerca de $0.6914$."
   ]
  }
 ],
 "metadata": {
  "kernelspec": {
   "display_name": "R",
   "language": "R",
   "name": "ir"
  },
  "language_info": {
   "codemirror_mode": "r",
   "file_extension": ".r",
   "mimetype": "text/x-r-source",
   "name": "R",
   "pygments_lexer": "r",
   "version": "3.6.3"
  }
 },
 "nbformat": 4,
 "nbformat_minor": 5
}
