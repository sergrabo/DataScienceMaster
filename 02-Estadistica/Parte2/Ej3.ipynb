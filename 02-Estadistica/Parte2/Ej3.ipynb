{
 "cells": [
  {
   "cell_type": "markdown",
   "id": "d99dcf39",
   "metadata": {},
   "source": [
    "# Ejercicio 3"
   ]
  },
  {
   "cell_type": "markdown",
   "id": "a8e92df0",
   "metadata": {},
   "source": [
    "## 1) \n",
    "Crea una función como la del ejercicio 2 en la que se pase como input: un vector x con la variable\n",
    "independiente, un parámetro “a”, un parámetro “b” y un valor “sigma”; y que devuelva un vector “y”\n",
    "que esté distribuido como una función normal con media = a*x + b y sigma = “sigma”."
   ]
  },
  {
   "cell_type": "code",
   "execution_count": 1,
   "id": "23cdd327",
   "metadata": {},
   "outputs": [],
   "source": [
    "generaY = function(x, a, b, sigma){\n",
    "  y = a*x + b + rnorm(x, mean = 0, sd = sigma)\n",
    "  return (y)\n",
    "}"
   ]
  },
  {
   "cell_type": "markdown",
   "id": "c38e37b1",
   "metadata": {},
   "source": [
    "Son equivalentes:\n",
    "* `y = a*x + b + rnorm(x, mean = 0, sd = sigma)`\n",
    "* `y = rnorm(x, mean = a*x+b, sd = sigma)`"
   ]
  },
  {
   "cell_type": "markdown",
   "id": "e105839e",
   "metadata": {},
   "source": [
    "## 2)\n",
    "Construye una función que reciba dos vectores “x” e “y” supuestamente relacionados linealmente y\n",
    "calcule los valores de “a” y “b” que minimizan la función de coste."
   ]
  },
  {
   "cell_type": "markdown",
   "id": "1f49a7b2",
   "metadata": {},
   "source": [
    "Para ello utilizaremos la expresión matricial\n",
    "$$\n",
    "\\alpha = (X^TX)^{-1}X^Ty\n",
    "\\\\\n",
    "$$\n",
    "donde \n",
    "$$\n",
    "     \\alpha = \\left(\\begin{array}{c}\n",
    "        \\alpha_0\\\\\n",
    "        \\alpha_1\\\\\n",
    "        \\alpha_2\\\\\n",
    "        \\vdots\\\\\n",
    "        \\alpha_m\n",
    "        \\end{array}\n",
    "     \\right),\\quad\n",
    "     X = \\left(\\begin{array}{ccccc}\n",
    "        1 & x_1^1 & x_2^1 & \\cdots & x_n^1\\\\\n",
    "        1 & x_1^2 & x_2^2 & \\cdots & x_n^2\\\\\n",
    "        1 & x_1^3 & x_2^3 & \\cdots & x_n^3\\\\\n",
    "        \\vdots & \\vdots & \\vdots & \\ddots & \\vdots\\\\\n",
    "        1 & x_1^m & x_2^m & \\cdots & x_n^m\n",
    "        \\end{array}\n",
    "     \\right),\\quad\n",
    "     y = \\left(\\begin{array}{c}\n",
    "        y^1\\\\\n",
    "        y^2\\\\\n",
    "        y^3\\\\\n",
    "        \\vdots\\\\\n",
    "        y^n\n",
    "        \\end{array}\n",
    "    \\right)\n",
    "$$"
   ]
  },
  {
   "cell_type": "markdown",
   "id": "1038d623",
   "metadata": {},
   "source": [
    "Como estamos realizando un ajuste lineal, será $alpha = (b,a)$"
   ]
  },
  {
   "cell_type": "code",
   "execution_count": 2,
   "id": "91b1d629",
   "metadata": {},
   "outputs": [],
   "source": [
    "# Creamos una función para crear la matriz X de variables independientes\n",
    "transPol1=function(x){\n",
    "  ones = rep(1, length(x))\n",
    "  xMatrix = cbind(ones, x)\n",
    "  return(xMatrix)\n",
    "}\n",
    "#Función para realizar la regresión lineal\n",
    "ajusteLineal = function(x,y){\n",
    "  xMatrix = transPol1(x)\n",
    "  alpha = solve(t(xMatrix)%*%xMatrix) %*% t(xMatrix) %*% y\n",
    "  return(alpha)\n",
    "}"
   ]
  },
  {
   "cell_type": "markdown",
   "id": "8f04e950",
   "metadata": {},
   "source": [
    "## 3) \n",
    "Genera un vector x aleatorio con valores entre 0 y 8 y N = 100 puntos. Usa la función creada en 1 con\n",
    "valores a=1, b=2 y sigma=2, y la función creada en 2 para encontrar el mínimo de la función de coste.\n",
    "Pinta en un mismo plot “x” e “y” representados con puntos, y la recta “a*x + b”."
   ]
  },
  {
   "cell_type": "code",
   "execution_count": 3,
   "id": "3c06018b",
   "metadata": {
    "scrolled": false
   },
   "outputs": [
    {
     "data": {
      "image/png": "[encoded data removed]",
      "text/plain": [
       "Plot with title \"Ajuste lineal\""
      ]
     },
     "metadata": {
      "image/png": {
       "height": 420,
       "width": 420
      }
     },
     "output_type": "display_data"
    }
   ],
   "source": [
    "N = 100\n",
    "a = 1\n",
    "b = 2\n",
    "sigma = 2\n",
    "\n",
    "x = runif(N, min = 0, max = 8)\n",
    "y = generaY(x, a, b, sigma)\n",
    "\n",
    "ajus = ajusteLineal(x,y)\n",
    "plot(x, y, main = \"Ajuste lineal\",\n",
    "     xlab = \"Variable independiente x\", ylab = \"Variable independiente y\",\n",
    "     pch = 16, cex = 0.5)\n",
    "abline(ajus, col = 'red')"
   ]
  },
  {
   "cell_type": "markdown",
   "id": "6e974e31",
   "metadata": {},
   "source": [
    "El ajuste lineal no parece muy prometedor aunque hayamos generado los datos siguiendo una distribución lineal. Esto se debe simplemente a que el valor de la desviación estándar $\\sigma$ es elevado, haciendo que la distribución se disperse en mayor medida."
   ]
  },
  {
   "cell_type": "markdown",
   "id": "791530d4",
   "metadata": {},
   "source": [
    "## 4) \n",
    "Construye una función que calcule la matriz de covarianza asociada al ajuste lineal anterior. Utilízala\n",
    "con los vectores “x” e “y” anteriores y calcula dicha matriz para ese caso particular."
   ]
  },
  {
   "cell_type": "markdown",
   "id": "b9691bae",
   "metadata": {},
   "source": [
    "Como las medidas de y son independientes para cada valor de x, la matriz de covarianza $Cov(y)$ tendrá todos los elementos nulos a excepción de la diagonal, con la varianza de $y$:\n",
    "\n",
    "$$\n",
    " \\text{Cov}(y) = \\left(\\begin{array}{cccc}\n",
    "        \\sigma^2 & 0 & \\cdots & 0\\\\\n",
    "        0 & \\sigma^2 & \\cdots & 0\\\\\n",
    "        0 & 0 & \\ddots & 0\\\\\n",
    "        0 & 0 & \\cdots & \\sigma^2\n",
    "        \\end{array}\n",
    "     \\right),\n",
    "$$ \n",
    "\n",
    "La matriz de covarianza de los parámetros será \n",
    "\n",
    "$$\n",
    "\\text{Cov}(\\alpha) = \\left[(X^TX)^{-1}X^T\\right] \\, \\text{Cov}(y) \\, \\left[(X^TX)^{-1}X^T\\right]^T\n",
    "$$"
   ]
  },
  {
   "cell_type": "code",
   "execution_count": 4,
   "id": "4ddface6",
   "metadata": {},
   "outputs": [
    {
     "data": {
      "text/html": [
       "<table>\n",
       "<thead><tr><th></th><th scope=col>ones</th><th scope=col>x</th></tr></thead>\n",
       "<tbody>\n",
       "\t<tr><th scope=row>ones</th><td> 0.1453943 </td><td>-0.02845510</td></tr>\n",
       "\t<tr><th scope=row>x</th><td>-0.0284551 </td><td> 0.00737655</td></tr>\n",
       "</tbody>\n",
       "</table>\n"
      ],
      "text/latex": [
       "\\begin{tabular}{r|ll}\n",
       "  & ones & x\\\\\n",
       "\\hline\n",
       "\tones &  0.1453943  & -0.02845510\\\\\n",
       "\tx & -0.0284551  &  0.00737655\\\\\n",
       "\\end{tabular}\n"
      ],
      "text/markdown": [
       "\n",
       "| <!--/--> | ones | x |\n",
       "|---|---|---|\n",
       "| ones |  0.1453943  | -0.02845510 |\n",
       "| x | -0.0284551  |  0.00737655 |\n",
       "\n"
      ],
      "text/plain": [
       "     ones       x          \n",
       "ones  0.1453943 -0.02845510\n",
       "x    -0.0284551  0.00737655"
      ]
     },
     "metadata": {},
     "output_type": "display_data"
    }
   ],
   "source": [
    "covMatrix = function(x,y){\n",
    "  alpha = ajusteLineal(x,y)\n",
    "  covY = diag(x = var(y-(alpha[1]+x*alpha[2])), nrow = length(y), ncol = length(y))\n",
    "  xMatrix = transPol1(x)\n",
    "  \n",
    "  covAlpha = solve(t(xMatrix)%*%xMatrix) %*% t(xMatrix) %*%\n",
    "             covY %*%\n",
    "             t(solve(t(xMatrix)%*%xMatrix) %*% t(xMatrix))\n",
    "  return(covAlpha)\n",
    "}\n",
    "covA = covMatrix(x,y)\n",
    "covA"
   ]
  },
  {
   "cell_type": "markdown",
   "id": "e0ae37d4",
   "metadata": {},
   "source": [
    "## 5)\n",
    "Crea una función como la del apartado 1 donde se añadan 3 parámetros más (c, d, e) y en dónde\n",
    "todo sea igual salvo que media = a + b*x + c*x^2 + d*x^3 + e*x^4"
   ]
  },
  {
   "cell_type": "code",
   "execution_count": 5,
   "id": "75e691b1",
   "metadata": {},
   "outputs": [],
   "source": [
    "generaPol = function(x, a, b, c, d, e, sigma){\n",
    "  y = a + b*x + c*x^2 + d*x^3 + e*x^4 + rnorm(x, mean = 0, sd = sigma)\n",
    "  return (y)\n",
    "}"
   ]
  },
  {
   "cell_type": "code",
   "execution_count": 6,
   "id": "e5de99f3",
   "metadata": {},
   "outputs": [],
   "source": [
    "# Creamos una función para crear la matriz X de variables independientes\n",
    "transPol4=function(x){\n",
    "  ones = rep(1, length(x))\n",
    "  xMatrix = cbind(ones, poly(x, 4, raw = T))\n",
    "  return(xMatrix)\n",
    "}\n",
    "#Función para realizar la regresión lineal\n",
    "ajustePol4 = function(x,y){\n",
    "  xMatrix = transPol4(x)\n",
    "  alpha = solve(t(xMatrix)%*%xMatrix) %*% t(xMatrix) %*% y\n",
    "  return(alpha)\n",
    "}"
   ]
  },
  {
   "cell_type": "markdown",
   "id": "3dc91a9a",
   "metadata": {},
   "source": [
    "## 6)\n",
    "Repite 3 y 4 con la función generada en 5 y usando: a = 107, b=-176, c=86, d=-16, e=1"
   ]
  },
  {
   "cell_type": "code",
   "execution_count": 7,
   "id": "4056766b",
   "metadata": {
    "scrolled": false
   },
   "outputs": [
    {
     "data": {
      "image/png": "[encoded data removed]",
      "text/plain": [
       "Plot with title \"Ajuste polinómico\""
      ]
     },
     "metadata": {
      "image/png": {
       "height": 420,
       "width": 420
      }
     },
     "output_type": "display_data"
    }
   ],
   "source": [
    "# Definimos los parámetros\n",
    "N = 100\n",
    "a = 107\n",
    "b=-176\n",
    "c=86\n",
    "d=-16\n",
    "e=1\n",
    "sigma = 2\n",
    "\n",
    "xrand = runif(N, min = 0, max = 8)\n",
    "y = generaPol(xrand, a, b, c, d, e, sigma)\n",
    "\n",
    "alpha4 = ajustePol4(xrand, y)\n",
    "plot(xrand, y, main = \"Ajuste polinómico\",\n",
    "     xlab = \"Variable independiente x\", ylab = \"Variable independiente y\",\n",
    "     pch = 16, cex = 0.5)\n",
    "\n",
    "x = seq(from = 0, to = 8, by = 8/N)\n",
    "yPol4 = alpha4[1] + alpha4[2]*x + alpha4[3]*x^2 + alpha4[4]*x^3 + alpha4[5]*x^4\n",
    "lines(x, yPol4, col = 'red')"
   ]
  },
  {
   "cell_type": "markdown",
   "id": "9ecf17fd",
   "metadata": {},
   "source": [
    "En este caso, a pesar de seguir utilizando $\\sigma = 2$, el ajuste es más preciso. Esto se debe a que entran en juego un mayor número de parámetros (en concreto, 5 parámetros frente a los 2 del ajuste lineal) por lo que es posible realizar un mejor ajuste."
   ]
  },
  {
   "cell_type": "markdown",
   "id": "abfa1ff2",
   "metadata": {},
   "source": [
    "Calculamos la matriz de covarianza para los parámetros:"
   ]
  },
  {
   "cell_type": "code",
   "execution_count": 8,
   "id": "556d573e",
   "metadata": {},
   "outputs": [
    {
     "data": {
      "text/html": [
       "<table>\n",
       "<thead><tr><th></th><th scope=col>ones</th><th scope=col>1</th><th scope=col>2</th><th scope=col>3</th><th scope=col>4</th></tr></thead>\n",
       "<tbody>\n",
       "\t<tr><th scope=row>ones</th><td> 0.936984483 </td><td>-1.41733874  </td><td> 0.605921839 </td><td>-0.098289221 </td><td> 5.382282e-03</td></tr>\n",
       "\t<tr><th scope=row>1</th><td>-1.417338744 </td><td> 2.97586809  </td><td>-1.433655507 </td><td> 0.248083573 </td><td>-1.415336e-02</td></tr>\n",
       "\t<tr><th scope=row>2</th><td> 0.605921839 </td><td>-1.43365551  </td><td> 0.735460038 </td><td>-0.132671626 </td><td> 7.795636e-03</td></tr>\n",
       "\t<tr><th scope=row>3</th><td>-0.098289221 </td><td> 0.24808357  </td><td>-0.132671626 </td><td> 0.024664540 </td><td>-1.481896e-03</td></tr>\n",
       "\t<tr><th scope=row>4</th><td> 0.005382282 </td><td>-0.01415336  </td><td> 0.007795636 </td><td>-0.001481896 </td><td> 9.054175e-05</td></tr>\n",
       "</tbody>\n",
       "</table>\n"
      ],
      "text/latex": [
       "\\begin{tabular}{r|lllll}\n",
       "  & ones & 1 & 2 & 3 & 4\\\\\n",
       "\\hline\n",
       "\tones &  0.936984483  & -1.41733874   &  0.605921839  & -0.098289221  &  5.382282e-03\\\\\n",
       "\t1 & -1.417338744  &  2.97586809   & -1.433655507  &  0.248083573  & -1.415336e-02\\\\\n",
       "\t2 &  0.605921839  & -1.43365551   &  0.735460038  & -0.132671626  &  7.795636e-03\\\\\n",
       "\t3 & -0.098289221  &  0.24808357   & -0.132671626  &  0.024664540  & -1.481896e-03\\\\\n",
       "\t4 &  0.005382282  & -0.01415336   &  0.007795636  & -0.001481896  &  9.054175e-05\\\\\n",
       "\\end{tabular}\n"
      ],
      "text/markdown": [
       "\n",
       "| <!--/--> | ones | 1 | 2 | 3 | 4 |\n",
       "|---|---|---|---|---|---|\n",
       "| ones |  0.936984483  | -1.41733874   |  0.605921839  | -0.098289221  |  5.382282e-03 |\n",
       "| 1 | -1.417338744  |  2.97586809   | -1.433655507  |  0.248083573  | -1.415336e-02 |\n",
       "| 2 |  0.605921839  | -1.43365551   |  0.735460038  | -0.132671626  |  7.795636e-03 |\n",
       "| 3 | -0.098289221  |  0.24808357   | -0.132671626  |  0.024664540  | -1.481896e-03 |\n",
       "| 4 |  0.005382282  | -0.01415336   |  0.007795636  | -0.001481896  |  9.054175e-05 |\n",
       "\n"
      ],
      "text/plain": [
       "     ones         1           2            3            4            \n",
       "ones  0.936984483 -1.41733874  0.605921839 -0.098289221  5.382282e-03\n",
       "1    -1.417338744  2.97586809 -1.433655507  0.248083573 -1.415336e-02\n",
       "2     0.605921839 -1.43365551  0.735460038 -0.132671626  7.795636e-03\n",
       "3    -0.098289221  0.24808357 -0.132671626  0.024664540 -1.481896e-03\n",
       "4     0.005382282 -0.01415336  0.007795636 -0.001481896  9.054175e-05"
      ]
     },
     "metadata": {},
     "output_type": "display_data"
    }
   ],
   "source": [
    "covMatrix2 = function(x,y, sigma){\n",
    "  alpha = ajustePol4(x,y)\n",
    "  xMatrix = transPol4(x)\n",
    "  covY = diag(x = sigma^2, nrow = length(y), ncol = length(y))\n",
    "  \n",
    "  covAlpha = solve(t(xMatrix)%*%xMatrix) %*% t(xMatrix) %*%\n",
    "             covY %*%\n",
    "             t(solve(t(xMatrix)%*%xMatrix) %*% t(xMatrix))\n",
    "  return(covAlpha)\n",
    "}\n",
    "\n",
    "covA2 = covMatrix2(xrand, y, sigma)\n",
    "covA2"
   ]
  }
 ],
 "metadata": {
  "kernelspec": {
   "display_name": "R",
   "language": "R",
   "name": "ir"
  },
  "language_info": {
   "codemirror_mode": "r",
   "file_extension": ".r",
   "mimetype": "text/x-r-source",
   "name": "R",
   "pygments_lexer": "r",
   "version": "3.6.3"
  }
 },
 "nbformat": 4,
 "nbformat_minor": 5
}
