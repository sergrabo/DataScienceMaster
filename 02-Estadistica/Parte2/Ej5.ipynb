{
 "cells": [
  {
   "cell_type": "markdown",
   "id": "d99dcf39",
   "metadata": {},
   "source": [
    "# Ejercicio 5"
   ]
  },
  {
   "cell_type": "markdown",
   "id": "a8e92df0",
   "metadata": {},
   "source": [
    "## 1) \n",
    "Crea una función a la que se le pase como input: la media en el eje x, la media en el eje y, la varianza\n",
    "en el eje x, la varianza en el eje y y la covarianza de x e y, junto con un número de puntos N, y\n",
    "devuelva una matriz con N filas y 2 columnas con los números que salen de la distribución gaussiana\n",
    "de dos dimensiones definidas por los valores de input (usar la función MASS::mvrnorm)"
   ]
  },
  {
   "cell_type": "code",
   "execution_count": 1,
   "id": "23cdd327",
   "metadata": {},
   "outputs": [],
   "source": [
    "generaGauss2D = function(N, mu1, mu2, sigma1, sigma2, cov12){\n",
    "  mu = c(mu1, mu2)\n",
    "  sigma = matrix(c(sigma1*sigma1, cov12, cov12, sigma2*sigma2), nrow = 2, ncol = 2)\n",
    "  return(MASS::mvrnorm(n = N, mu, Sigma = sigma))\n",
    "}"
   ]
  },
  {
   "cell_type": "markdown",
   "id": "e105839e",
   "metadata": {},
   "source": [
    "## 2)\n",
    "Genera una matrix x1 usando la función anterior y tomando: N = 1000, mu_x = 2, mu_y = 4, var_x =\n",
    "var_y = 1, y Cov(x,y) = 0.3. Crea una matriz “y1” con tantas filas como la matriz x y asígnale el valor 0."
   ]
  },
  {
   "cell_type": "markdown",
   "id": "539603fc",
   "metadata": {},
   "source": [
    "Como $var_x = 1$, entonces $\\sigma_x = \\sigma_y = sqrt(var_x) = 1$ también, por lo que trabajamos con $\\sigma$"
   ]
  },
  {
   "cell_type": "code",
   "execution_count": 2,
   "id": "18a560c3",
   "metadata": {},
   "outputs": [],
   "source": [
    "N = 1000\n",
    "mux1 = 2\n",
    "muy1 = 4\n",
    "sigmax1 = sigmay1 = 1\n",
    "cov1 = 0.3\n",
    "\n",
    "x1 = generaGauss2D(N, mux1, muy1, sigmax1, sigmay1, cov1)\n",
    "y1 = rep(0, N)"
   ]
  },
  {
   "cell_type": "markdown",
   "id": "8f04e950",
   "metadata": {},
   "source": [
    "## 3) \n",
    "Repite 2) para otra muestra con N = 1000, mu_x = 6, mu_y = 3, var_x = var_y = 1, y Cov(x,y) = 0.3.\n",
    "Crea una matriz “y2” con tantas filas como la matriz x2 y asígnale el valor 1."
   ]
  },
  {
   "cell_type": "code",
   "execution_count": 3,
   "id": "639e7831",
   "metadata": {},
   "outputs": [],
   "source": [
    "mux2 = 6\n",
    "muy2 = 3\n",
    "sigmax2 = sigmay2 = 1\n",
    "cov2 = 0.3\n",
    "\n",
    "x2 = generaGauss2D(N, mux2, muy2, sigmax2, sigmay2, cov2)\n",
    "y2 = rep(1, N)"
   ]
  },
  {
   "cell_type": "markdown",
   "id": "791530d4",
   "metadata": {},
   "source": [
    "## 4) \n",
    "Junta las matrices x1, x2, y y1, y2 en una sola matriz x y una sola matriz y."
   ]
  },
  {
   "cell_type": "code",
   "execution_count": 4,
   "id": "892e58d3",
   "metadata": {},
   "outputs": [],
   "source": [
    "dfx = rbind(x1, x2)\n",
    "dfy = rbind(matrix(y1), matrix(y2))"
   ]
  },
  {
   "cell_type": "markdown",
   "id": "e0ae37d4",
   "metadata": {},
   "source": [
    "## 5)\n",
    "Usando las funciones de coste y gradiente del ejercicio 4, utiliza optim para un modelo en el que z =\n",
    "alpha_0 + alpha_1 x1 + alpha_2 x2, tomando como vector de parámetros inicial el (0, 0, 0). Calcula y\n",
    "pinta la frontera entre ambas distribuciones."
   ]
  },
  {
   "cell_type": "code",
   "execution_count": 5,
   "id": "5b1393d8",
   "metadata": {},
   "outputs": [],
   "source": [
    "sigmoid = function(z){\n",
    "  s = 1/(1+exp(-z))\n",
    "  return(s)\n",
    "}"
   ]
  },
  {
   "cell_type": "code",
   "execution_count": 6,
   "id": "979f7524",
   "metadata": {},
   "outputs": [],
   "source": [
    "loss = function(x, y, alpha){\n",
    "    N = length(y)\n",
    "    xMat = cbind(rep(1, N), x)\n",
    "\n",
    "    Z = xMat %*% alpha \n",
    "    l = sum(y*log(sigmoid(Z)) + (1-y)*log(1 - sigmoid(Z)))\n",
    "  return(-1/N * l)\n",
    "}"
   ]
  },
  {
   "cell_type": "code",
   "execution_count": 7,
   "id": "5f1119e1",
   "metadata": {},
   "outputs": [],
   "source": [
    "grad_loss = function(x, y, alpha){\n",
    "  N = length(y)\n",
    "  xMat = cbind(rep(1, N), x)\n",
    "  Z = xMat %*% alpha\n",
    "  g = t(sigmoid(Z)- y) %*% xMat\n",
    "  return(1/N * g)\n",
    "}"
   ]
  },
  {
   "cell_type": "code",
   "execution_count": 8,
   "id": "a3d53a96",
   "metadata": {},
   "outputs": [
    {
     "data": {
      "text/html": [
       "2000"
      ],
      "text/latex": [
       "2000"
      ],
      "text/markdown": [
       "2000"
      ],
      "text/plain": [
       "[1] 2000"
      ]
     },
     "metadata": {},
     "output_type": "display_data"
    }
   ],
   "source": [
    "length(dfy)"
   ]
  },
  {
   "cell_type": "code",
   "execution_count": 9,
   "id": "dcab6dfd",
   "metadata": {},
   "outputs": [
    {
     "data": {
      "text/html": [
       "<ol class=list-inline>\n",
       "\t<li>-12.6825327144402</li>\n",
       "\t<li>4.95573737037505</li>\n",
       "\t<li>-1.94069013332166</li>\n",
       "</ol>\n"
      ],
      "text/latex": [
       "\\begin{enumerate*}\n",
       "\\item -12.6825327144402\n",
       "\\item 4.95573737037505\n",
       "\\item -1.94069013332166\n",
       "\\end{enumerate*}\n"
      ],
      "text/markdown": [
       "1. -12.6825327144402\n",
       "2. 4.95573737037505\n",
       "3. -1.94069013332166\n",
       "\n",
       "\n"
      ],
      "text/plain": [
       "[1] -12.682533   4.955737  -1.940690"
      ]
     },
     "metadata": {},
     "output_type": "display_data"
    }
   ],
   "source": [
    "alpha_ini = c(0,0,0)\n",
    "opt = optim(par = alpha_ini, x = dfx, y = dfy, fn = loss, gr = grad_loss, method = \"BFGS\")\n",
    "opt$par"
   ]
  },
  {
   "cell_type": "code",
   "execution_count": 10,
   "id": "9e4f8991",
   "metadata": {},
   "outputs": [
    {
     "data": {
      "image/png": "[encoded data removed]",
      "text/plain": [
       "plot without title"
      ]
     },
     "metadata": {
      "image/png": {
       "height": 420,
       "width": 420
      }
     },
     "output_type": "display_data"
    }
   ],
   "source": [
    "plot(dfx)\n",
    "alpha = opt$par\n",
    "curve(-alpha[1]/alpha[3]-(alpha[2]/alpha[3])*x,add=TRUE, col = \"red\", lwd = 2)"
   ]
  },
  {
   "cell_type": "markdown",
   "id": "3dc91a9a",
   "metadata": {},
   "source": [
    "## 6)\n",
    "Repite otra vez 1, 2, 3 y 4 para obtener otras matrices x e y independientes. Utilizando la “sigma”\n",
    "calculada anteriormente calcula el TPR, TNR, FPR y FNR para valores del threshold = 0.3, 0.5, 0.7."
   ]
  },
  {
   "cell_type": "code",
   "execution_count": 11,
   "id": "4ecff6a2",
   "metadata": {},
   "outputs": [],
   "source": [
    "N = 1000\n",
    "# Definimos la primera nube de puntos\n",
    "mux1 = 2\n",
    "muy1 = 4\n",
    "sigmax1 = sigmay1 = 1\n",
    "cov1 = 0.3\n",
    "\n",
    "x1 = generaGauss2D(N, mux1, muy1, sigmax1, sigmay1, cov1)\n",
    "y1 = rep(0, N)\n",
    "# Definimos la segunda nube de puntos\n",
    "mux2 = 6\n",
    "muy2 = 3\n",
    "sigmax2 = sigmay2 = 1\n",
    "cov2 = 0.3\n",
    "\n",
    "x2 = generaGauss2D(N, mux2, muy2, sigmax2, sigmay2, cov2)\n",
    "y2 = rep(1, N)\n",
    "# Juntamos en los dataframes\n",
    "dfx2 = rbind(x1, x2)\n",
    "dfy2 = rbind(matrix(y1), matrix(y2))"
   ]
  },
  {
   "cell_type": "code",
   "execution_count": 12,
   "id": "c4166212",
   "metadata": {},
   "outputs": [],
   "source": [
    "# Calculamos la sigmoide para cada par de puntos x1,x2, utilizando los parámetros alpha calculados\n",
    "# en el apartado anterior\n",
    "N = nrow(dfx2)\n",
    "xMat = cbind(rep(1, N), dfx2)\n",
    "Z = xMat %*% alpha\n",
    "sigma = sigmoid(Z)"
   ]
  },
  {
   "cell_type": "markdown",
   "id": "c6135087",
   "metadata": {},
   "source": [
    "$\\lambda = 0.3$"
   ]
  },
  {
   "cell_type": "code",
   "execution_count": 13,
   "id": "84c83549",
   "metadata": {},
   "outputs": [],
   "source": [
    "#Predicciones\n",
    "ypred3 = matrix(data = NA, nrow = N, ncol = 1)\n",
    "lambda = 0.3\n",
    "ypred3[which(sigma>lambda)] = 1\n",
    "ypred3[which(sigma<lambda)] = 0"
   ]
  },
  {
   "cell_type": "code",
   "execution_count": 14,
   "id": "8067305a",
   "metadata": {
    "scrolled": true
   },
   "outputs": [
    {
     "data": {
      "text/plain": [
       "      dfy2\n",
       "ypred3   0   1\n",
       "     0 979   4\n",
       "     1  21 996"
      ]
     },
     "metadata": {},
     "output_type": "display_data"
    },
    {
     "name": "stdout",
     "output_type": "stream",
     "text": [
      "[1] \"lambda = 0.3\"\n",
      "[1] \"TPR = 0.995930824008138\"\n",
      "[1] \"TNR = 0.979351032448378\"\n",
      "[1] \"FPR = 0.00406917599186165\"\n",
      "[1] \"FNR = 0.0206489675516224\"\n"
     ]
    }
   ],
   "source": [
    "# Calculamos la matriz de confusión\n",
    "confmat3 = table(ypred3, dfy2)\n",
    "confmat3\n",
    "print(paste0(\"lambda = \", lambda))\n",
    "#TPR\n",
    "TPR3 = confmat3[1,1]/(confmat3[1,1]+confmat3[1,2])\n",
    "print(paste0(\"TPR = \", TPR3))\n",
    "#TNR\n",
    "TNR3 = confmat3[2,2]/(confmat3[2,1]+confmat3[2,2])\n",
    "print(paste0(\"TNR = \", TNR3))\n",
    "#FPR\n",
    "FPR3 = confmat3[1,2]/(confmat3[1,1]+confmat3[1,2])\n",
    "print(paste0(\"FPR = \", FPR3))\n",
    "#FNR\n",
    "FNR3 = confmat3[2,1]/(confmat3[2,1]+confmat3[2,2])\n",
    "print(paste0(\"FNR = \", FNR3))"
   ]
  },
  {
   "cell_type": "markdown",
   "id": "7ad68402",
   "metadata": {},
   "source": [
    "$\\lambda = 0.5$"
   ]
  },
  {
   "cell_type": "code",
   "execution_count": 15,
   "id": "a250affe",
   "metadata": {},
   "outputs": [],
   "source": [
    "#Predicciones\n",
    "ypred5 = matrix(data = NA, nrow = N, ncol = 1)\n",
    "lambda = 0.5\n",
    "ypred5[which(sigma>lambda)] = 1\n",
    "ypred5[which(sigma<lambda)] = 0"
   ]
  },
  {
   "cell_type": "code",
   "execution_count": 16,
   "id": "55af5af8",
   "metadata": {},
   "outputs": [
    {
     "data": {
      "text/plain": [
       "      dfy2\n",
       "ypred5   0   1\n",
       "     0 985   7\n",
       "     1  15 993"
      ]
     },
     "metadata": {},
     "output_type": "display_data"
    },
    {
     "name": "stdout",
     "output_type": "stream",
     "text": [
      "[1] \"lambda = 0.5\"\n",
      "[1] \"TPR = 0.992943548387097\"\n",
      "[1] \"TNR = 0.985119047619048\"\n",
      "[1] \"FPR = 0.00705645161290323\"\n",
      "[1] \"FNR = 0.0148809523809524\"\n"
     ]
    }
   ],
   "source": [
    "# Calculamos la matriz de confusión\n",
    "confmat5 = table(ypred5, dfy2)\n",
    "confmat5\n",
    "print(paste0(\"lambda = \", lambda))\n",
    "#TPR\n",
    "TPR5 = confmat5[1,1]/(confmat5[1,1]+confmat5[1,2])\n",
    "print(paste0(\"TPR = \", TPR5))\n",
    "#TNR\n",
    "TNR5 = confmat5[2,2]/(confmat5[2,1]+confmat5[2,2])\n",
    "print(paste0(\"TNR = \", TNR5))\n",
    "#FPR\n",
    "FPR5 = confmat5[1,2]/(confmat5[1,1]+confmat5[1,2])\n",
    "print(paste0(\"FPR = \", FPR5))\n",
    "#FNR\n",
    "FNR5 = confmat5[2,1]/(confmat5[2,1]+confmat5[2,2])\n",
    "print(paste0(\"FNR = \", FNR5))"
   ]
  },
  {
   "cell_type": "markdown",
   "id": "f64ed474",
   "metadata": {},
   "source": [
    "$\\lambda = 0.7$"
   ]
  },
  {
   "cell_type": "code",
   "execution_count": 17,
   "id": "dfb6258a",
   "metadata": {},
   "outputs": [],
   "source": [
    "#Predicciones\n",
    "ypred7 = matrix(data = NA, nrow = N, ncol = 1)\n",
    "lambda = 0.7\n",
    "ypred7[which(sigma>lambda)] = 1\n",
    "ypred7[which(sigma<lambda)] = 0"
   ]
  },
  {
   "cell_type": "code",
   "execution_count": 18,
   "id": "fad00641",
   "metadata": {},
   "outputs": [
    {
     "data": {
      "text/plain": [
       "      dfy2\n",
       "ypred7   0   1\n",
       "     0 991  10\n",
       "     1   9 990"
      ]
     },
     "metadata": {},
     "output_type": "display_data"
    },
    {
     "name": "stdout",
     "output_type": "stream",
     "text": [
      "[1] \"lambda = 0.7\"\n",
      "[1] \"TPR = 0.99000999000999\"\n",
      "[1] \"TNR = 0.990990990990991\"\n",
      "[1] \"FPR = 0.00999000999000999\"\n",
      "[1] \"FNR = 0.00900900900900901\"\n"
     ]
    }
   ],
   "source": [
    "# Calculamos la matriz de confusión\n",
    "confmat7 = table(ypred7, dfy2)\n",
    "confmat7\n",
    "print(paste0(\"lambda = \", lambda))\n",
    "#TPR\n",
    "TPR7 = confmat7[1,1]/(confmat7[1,1]+confmat7[1,2])\n",
    "print(paste0(\"TPR = \", TPR7))\n",
    "#TNR\n",
    "TNR7 = confmat7[2,2]/(confmat7[2,1]+confmat7[2,2])\n",
    "print(paste0(\"TNR = \", TNR7))\n",
    "#FPR\n",
    "FPR7 = confmat7[1,2]/(confmat7[1,1]+confmat7[1,2])\n",
    "print(paste0(\"FPR = \", FPR7))\n",
    "#FNR\n",
    "FNR7 = confmat7[2,1]/(confmat7[2,1]+confmat7[2,2])\n",
    "print(paste0(\"FNR = \", FNR7))"
   ]
  },
  {
   "cell_type": "markdown",
   "id": "7000c60e",
   "metadata": {},
   "source": [
    "Como podemos observar, cuanto menor es el valor de $\\lambda$ mejor predecimos el 0, pero cuanto mayor es $\\lambda$ mejor predecimos el 1. El valor de $\\lambda$ \"óptimo\" por así decirlo, con el que alcanzamos un compromiso, sería $\\lambda=0.5$"
   ]
  }
 ],
 "metadata": {
  "kernelspec": {
   "display_name": "R",
   "language": "R",
   "name": "ir"
  },
  "language_info": {
   "codemirror_mode": "r",
   "file_extension": ".r",
   "mimetype": "text/x-r-source",
   "name": "R",
   "pygments_lexer": "r",
   "version": "3.6.3"
  }
 },
 "nbformat": 4,
 "nbformat_minor": 5
}
