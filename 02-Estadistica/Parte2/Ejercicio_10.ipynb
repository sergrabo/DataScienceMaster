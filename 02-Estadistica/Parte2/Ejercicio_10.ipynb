{
 "cells": [
  {
   "cell_type": "markdown",
   "metadata": {
    "slideshow": {
     "slide_type": "slide"
    }
   },
   "source": [
    "# Selección de variables y regularización\n",
    "_Santander Meteorology Group (18-01-2022)_\n",
    "\n",
    " * [Introducción](#Introducción)\n",
    " * [Base de datos de ejemplo: Breast cancer](#Base-de-datos:-Breast-cancer)\n",
    " * [Modelo lineal completo](#Modelo-lineal-completo)\n",
    " * [Selección de variables](#Selección-de-variables)\n",
    " * [Regularización](#Regularización)"
   ]
  },
  {
   "cell_type": "markdown",
   "metadata": {
    "slideshow": {
     "slide_type": "slide"
    }
   },
   "source": [
    "## Introducción\n",
    "El objetivo principal de un modelo entrenado es que tenga la capacidad de generalizar, es decir, la capacidad de predecir bien nuevos datos que no formen parte de la muestra de entrenamiento (por ejemplo, una muestra de datos de *test*). La relación entre el número de observaciones y el número de variables independientes es clave en la capacidad de generalización de los modelos.\n",
    "\n",
    "Para evitar el sobreajuste en situaciones donde el número de observaciones es del orden, o menor, que el de grados de libertad del sistema y/o donde hay colinealidad, se utilizan (entre otras) técnicas como la selección de variables y la regularización. La primera permite seleccionar de forma objetiva un subconjunto de variables predictoras, mientras que la segunda actúa sobre los parámetros del modelo, impidiendo que tomen valores elevados que harían al modelo muy sensible a diferentes muestras de entrenamiento."
   ]
  },
  {
   "cell_type": "markdown",
   "metadata": {
    "slideshow": {
     "slide_type": "slide"
    }
   },
   "source": [
    "## Base de datos: Breast cancer\n",
    "\n",
    "En este ejemplo trabajaremos con la base de datos [_Breast cancer_ (Diagnostic)](https://www.kaggle.com/uciml/breast-cancer-wisconsin-data), incluida en Kaggle. El objetivo de este conjunto de datos es clasificar a las pacientes en base a si el cáncer de mama que tienen es benigno (`B`) o maligno (`M`). Pamra ello se utilizan 31 predictores relacionados con las propiedades de las células cancerígenas, que en comparación con el número de observaciones (569) es bajo.\n",
    "\n",
    "Leemos la base de datos:"
   ]
  },
  {
   "cell_type": "code",
   "execution_count": 1,
   "metadata": {
    "slideshow": {
     "slide_type": "-"
    }
   },
   "outputs": [
    {
     "name": "stdout",
     "output_type": "stream",
     "text": [
      "'data.frame':\t569 obs. of  33 variables:\n",
      " $ id                     : int  842302 842517 84300903 84348301 84358402 843786 844359 84458202 844981 84501001 ...\n",
      " $ diagnosis              : Factor w/ 2 levels \"B\",\"M\": 2 2 2 2 2 2 2 2 2 2 ...\n",
      " $ radius_mean            : num  18 20.6 19.7 11.4 20.3 ...\n",
      " $ texture_mean           : num  10.4 17.8 21.2 20.4 14.3 ...\n",
      " $ perimeter_mean         : num  122.8 132.9 130 77.6 135.1 ...\n",
      " $ area_mean              : num  1001 1326 1203 386 1297 ...\n",
      " $ smoothness_mean        : num  0.1184 0.0847 0.1096 0.1425 0.1003 ...\n",
      " $ compactness_mean       : num  0.2776 0.0786 0.1599 0.2839 0.1328 ...\n",
      " $ concavity_mean         : num  0.3001 0.0869 0.1974 0.2414 0.198 ...\n",
      " $ concave.points_mean    : num  0.1471 0.0702 0.1279 0.1052 0.1043 ...\n",
      " $ symmetry_mean          : num  0.242 0.181 0.207 0.26 0.181 ...\n",
      " $ fractal_dimension_mean : num  0.0787 0.0567 0.06 0.0974 0.0588 ...\n",
      " $ radius_se              : num  1.095 0.543 0.746 0.496 0.757 ...\n",
      " $ texture_se             : num  0.905 0.734 0.787 1.156 0.781 ...\n",
      " $ perimeter_se           : num  8.59 3.4 4.58 3.44 5.44 ...\n",
      " $ area_se                : num  153.4 74.1 94 27.2 94.4 ...\n",
      " $ smoothness_se          : num  0.0064 0.00522 0.00615 0.00911 0.01149 ...\n",
      " $ compactness_se         : num  0.049 0.0131 0.0401 0.0746 0.0246 ...\n",
      " $ concavity_se           : num  0.0537 0.0186 0.0383 0.0566 0.0569 ...\n",
      " $ concave.points_se      : num  0.0159 0.0134 0.0206 0.0187 0.0188 ...\n",
      " $ symmetry_se            : num  0.03 0.0139 0.0225 0.0596 0.0176 ...\n",
      " $ fractal_dimension_se   : num  0.00619 0.00353 0.00457 0.00921 0.00511 ...\n",
      " $ radius_worst           : num  25.4 25 23.6 14.9 22.5 ...\n",
      " $ texture_worst          : num  17.3 23.4 25.5 26.5 16.7 ...\n",
      " $ perimeter_worst        : num  184.6 158.8 152.5 98.9 152.2 ...\n",
      " $ area_worst             : num  2019 1956 1709 568 1575 ...\n",
      " $ smoothness_worst       : num  0.162 0.124 0.144 0.21 0.137 ...\n",
      " $ compactness_worst      : num  0.666 0.187 0.424 0.866 0.205 ...\n",
      " $ concavity_worst        : num  0.712 0.242 0.45 0.687 0.4 ...\n",
      " $ concave.points_worst   : num  0.265 0.186 0.243 0.258 0.163 ...\n",
      " $ symmetry_worst         : num  0.46 0.275 0.361 0.664 0.236 ...\n",
      " $ fractal_dimension_worst: num  0.1189 0.089 0.0876 0.173 0.0768 ...\n",
      " $ X                      : logi  NA NA NA NA NA NA ...\n"
     ]
    }
   ],
   "source": [
    "datos <- read.csv(\"breastcancer.csv\")\n",
    "str(datos)"
   ]
  },
  {
   "cell_type": "markdown",
   "metadata": {
    "slideshow": {
     "slide_type": "slide"
    }
   },
   "source": [
    "Y la preparamos la base de datos de la siguiente manera:"
   ]
  },
  {
   "cell_type": "code",
   "execution_count": 2,
   "metadata": {
    "slideshow": {
     "slide_type": "-"
    }
   },
   "outputs": [
    {
     "data": {
      "text/html": [
       "<style>\n",
       ".list-inline {list-style: none; margin:0; padding: 0}\n",
       ".list-inline>li {display: inline-block}\n",
       ".list-inline>li:not(:last-child)::after {content: \"\\00b7\"; padding: 0 .5ex}\n",
       "</style>\n",
       "<ol class=list-inline><li>569</li><li>30</li></ol>\n"
      ],
      "text/latex": [
       "\\begin{enumerate*}\n",
       "\\item 569\n",
       "\\item 30\n",
       "\\end{enumerate*}\n"
      ],
      "text/markdown": [
       "1. 569\n",
       "2. 30\n",
       "\n",
       "\n"
      ],
      "text/plain": [
       "[1] 569  30"
      ]
     },
     "metadata": {},
     "output_type": "display_data"
    },
    {
     "data": {
      "text/html": [
       "<table class=\"dataframe\">\n",
       "<caption>A data.frame: 6 × 30</caption>\n",
       "<thead>\n",
       "\t<tr><th></th><th scope=col>diagnosis</th><th scope=col>radius_mean</th><th scope=col>texture_mean</th><th scope=col>perimeter_mean</th><th scope=col>area_mean</th><th scope=col>smoothness_mean</th><th scope=col>compactness_mean</th><th scope=col>concavity_mean</th><th scope=col>concave.points_mean</th><th scope=col>symmetry_mean</th><th scope=col>⋯</th><th scope=col>fractal_dimension_se</th><th scope=col>radius_worst</th><th scope=col>texture_worst</th><th scope=col>perimeter_worst</th><th scope=col>area_worst</th><th scope=col>smoothness_worst</th><th scope=col>compactness_worst</th><th scope=col>concavity_worst</th><th scope=col>concave.points_worst</th><th scope=col>symmetry_worst</th></tr>\n",
       "\t<tr><th></th><th scope=col>&lt;dbl&gt;</th><th scope=col>&lt;dbl&gt;</th><th scope=col>&lt;dbl&gt;</th><th scope=col>&lt;dbl&gt;</th><th scope=col>&lt;dbl&gt;</th><th scope=col>&lt;dbl&gt;</th><th scope=col>&lt;dbl&gt;</th><th scope=col>&lt;dbl&gt;</th><th scope=col>&lt;dbl&gt;</th><th scope=col>&lt;dbl&gt;</th><th scope=col>⋯</th><th scope=col>&lt;dbl&gt;</th><th scope=col>&lt;dbl&gt;</th><th scope=col>&lt;dbl&gt;</th><th scope=col>&lt;dbl&gt;</th><th scope=col>&lt;dbl&gt;</th><th scope=col>&lt;dbl&gt;</th><th scope=col>&lt;dbl&gt;</th><th scope=col>&lt;dbl&gt;</th><th scope=col>&lt;dbl&gt;</th><th scope=col>&lt;dbl&gt;</th></tr>\n",
       "</thead>\n",
       "<tbody>\n",
       "\t<tr><th scope=row>1</th><td>1</td><td> 1.0960995</td><td>-2.0715123</td><td> 1.2688173</td><td> 0.9835095</td><td> 1.5670875</td><td> 3.2806281</td><td> 2.65054179</td><td>2.5302489</td><td> 2.215565542</td><td>⋯</td><td> 0.90628565</td><td> 1.8850310</td><td>-1.35809849</td><td> 2.3015755</td><td> 1.9994782</td><td> 1.3065367</td><td> 2.6143647</td><td> 2.1076718</td><td>2.2940576</td><td> 2.7482041</td></tr>\n",
       "\t<tr><th scope=row>2</th><td>1</td><td> 1.8282120</td><td>-0.3533215</td><td> 1.6844726</td><td> 1.9070303</td><td>-0.8262354</td><td>-0.4866435</td><td>-0.02382489</td><td>0.5476623</td><td> 0.001391139</td><td>⋯</td><td>-0.09935632</td><td> 1.8043398</td><td>-0.36887865</td><td> 1.5337764</td><td> 1.8888270</td><td>-0.3752817</td><td>-0.4300658</td><td>-0.1466200</td><td>1.0861286</td><td>-0.2436753</td></tr>\n",
       "\t<tr><th scope=row>3</th><td>1</td><td> 1.5784992</td><td> 0.4557859</td><td> 1.5651260</td><td> 1.5575132</td><td> 0.9413821</td><td> 1.0519999</td><td> 1.36227979</td><td>2.0354398</td><td> 0.938858720</td><td>⋯</td><td> 0.29330133</td><td> 1.5105411</td><td>-0.02395331</td><td> 1.3462906</td><td> 1.4550043</td><td> 0.5269438</td><td> 1.0819801</td><td> 0.8542223</td><td>1.9532817</td><td> 1.1512420</td></tr>\n",
       "\t<tr><th scope=row>4</th><td>1</td><td>-0.7682333</td><td> 0.2535091</td><td>-0.5921661</td><td>-0.7637917</td><td> 3.2806668</td><td> 3.3999174</td><td> 1.91421287</td><td>1.4504311</td><td> 2.864862154</td><td>⋯</td><td> 2.04571087</td><td>-0.2812170</td><td> 0.13386631</td><td>-0.2497196</td><td>-0.5495377</td><td> 3.3912907</td><td> 3.8899747</td><td> 1.9878392</td><td>2.1738732</td><td> 6.0407261</td></tr>\n",
       "\t<tr><th scope=row>5</th><td>1</td><td> 1.7487579</td><td>-1.1508038</td><td> 1.7750113</td><td> 1.8246238</td><td> 0.2801253</td><td> 0.5388663</td><td> 1.36980615</td><td>1.4272370</td><td>-0.009552062</td><td>⋯</td><td> 0.49888916</td><td> 1.2974336</td><td>-1.46548091</td><td> 1.3373627</td><td> 1.2196511</td><td> 0.2203623</td><td>-0.3131190</td><td> 0.6126397</td><td>0.7286181</td><td>-0.8675896</td></tr>\n",
       "\t<tr><th scope=row>6</th><td>1</td><td>-0.4759559</td><td>-0.8346009</td><td>-0.3868077</td><td>-0.5052059</td><td> 2.2354545</td><td> 1.2432416</td><td> 0.86554001</td><td>0.8239307</td><td> 1.004517928</td><td>⋯</td><td> 0.48641784</td><td>-0.1653528</td><td>-0.31356043</td><td>-0.1149083</td><td>-0.2441054</td><td> 2.0467119</td><td> 1.7201029</td><td> 1.2621327</td><td>0.9050914</td><td> 1.7525273</td></tr>\n",
       "</tbody>\n",
       "</table>\n"
      ],
      "text/latex": [
       "A data.frame: 6 × 30\n",
       "\\begin{tabular}{r|lllllllllllllllllllll}\n",
       "  & diagnosis & radius\\_mean & texture\\_mean & perimeter\\_mean & area\\_mean & smoothness\\_mean & compactness\\_mean & concavity\\_mean & concave.points\\_mean & symmetry\\_mean & ⋯ & fractal\\_dimension\\_se & radius\\_worst & texture\\_worst & perimeter\\_worst & area\\_worst & smoothness\\_worst & compactness\\_worst & concavity\\_worst & concave.points\\_worst & symmetry\\_worst\\\\\n",
       "  & <dbl> & <dbl> & <dbl> & <dbl> & <dbl> & <dbl> & <dbl> & <dbl> & <dbl> & <dbl> & ⋯ & <dbl> & <dbl> & <dbl> & <dbl> & <dbl> & <dbl> & <dbl> & <dbl> & <dbl> & <dbl>\\\\\n",
       "\\hline\n",
       "\t1 & 1 &  1.0960995 & -2.0715123 &  1.2688173 &  0.9835095 &  1.5670875 &  3.2806281 &  2.65054179 & 2.5302489 &  2.215565542 & ⋯ &  0.90628565 &  1.8850310 & -1.35809849 &  2.3015755 &  1.9994782 &  1.3065367 &  2.6143647 &  2.1076718 & 2.2940576 &  2.7482041\\\\\n",
       "\t2 & 1 &  1.8282120 & -0.3533215 &  1.6844726 &  1.9070303 & -0.8262354 & -0.4866435 & -0.02382489 & 0.5476623 &  0.001391139 & ⋯ & -0.09935632 &  1.8043398 & -0.36887865 &  1.5337764 &  1.8888270 & -0.3752817 & -0.4300658 & -0.1466200 & 1.0861286 & -0.2436753\\\\\n",
       "\t3 & 1 &  1.5784992 &  0.4557859 &  1.5651260 &  1.5575132 &  0.9413821 &  1.0519999 &  1.36227979 & 2.0354398 &  0.938858720 & ⋯ &  0.29330133 &  1.5105411 & -0.02395331 &  1.3462906 &  1.4550043 &  0.5269438 &  1.0819801 &  0.8542223 & 1.9532817 &  1.1512420\\\\\n",
       "\t4 & 1 & -0.7682333 &  0.2535091 & -0.5921661 & -0.7637917 &  3.2806668 &  3.3999174 &  1.91421287 & 1.4504311 &  2.864862154 & ⋯ &  2.04571087 & -0.2812170 &  0.13386631 & -0.2497196 & -0.5495377 &  3.3912907 &  3.8899747 &  1.9878392 & 2.1738732 &  6.0407261\\\\\n",
       "\t5 & 1 &  1.7487579 & -1.1508038 &  1.7750113 &  1.8246238 &  0.2801253 &  0.5388663 &  1.36980615 & 1.4272370 & -0.009552062 & ⋯ &  0.49888916 &  1.2974336 & -1.46548091 &  1.3373627 &  1.2196511 &  0.2203623 & -0.3131190 &  0.6126397 & 0.7286181 & -0.8675896\\\\\n",
       "\t6 & 1 & -0.4759559 & -0.8346009 & -0.3868077 & -0.5052059 &  2.2354545 &  1.2432416 &  0.86554001 & 0.8239307 &  1.004517928 & ⋯ &  0.48641784 & -0.1653528 & -0.31356043 & -0.1149083 & -0.2441054 &  2.0467119 &  1.7201029 &  1.2621327 & 0.9050914 &  1.7525273\\\\\n",
       "\\end{tabular}\n"
      ],
      "text/markdown": [
       "\n",
       "A data.frame: 6 × 30\n",
       "\n",
       "| <!--/--> | diagnosis &lt;dbl&gt; | radius_mean &lt;dbl&gt; | texture_mean &lt;dbl&gt; | perimeter_mean &lt;dbl&gt; | area_mean &lt;dbl&gt; | smoothness_mean &lt;dbl&gt; | compactness_mean &lt;dbl&gt; | concavity_mean &lt;dbl&gt; | concave.points_mean &lt;dbl&gt; | symmetry_mean &lt;dbl&gt; | ⋯ ⋯ | fractal_dimension_se &lt;dbl&gt; | radius_worst &lt;dbl&gt; | texture_worst &lt;dbl&gt; | perimeter_worst &lt;dbl&gt; | area_worst &lt;dbl&gt; | smoothness_worst &lt;dbl&gt; | compactness_worst &lt;dbl&gt; | concavity_worst &lt;dbl&gt; | concave.points_worst &lt;dbl&gt; | symmetry_worst &lt;dbl&gt; |\n",
       "|---|---|---|---|---|---|---|---|---|---|---|---|---|---|---|---|---|---|---|---|---|---|\n",
       "| 1 | 1 |  1.0960995 | -2.0715123 |  1.2688173 |  0.9835095 |  1.5670875 |  3.2806281 |  2.65054179 | 2.5302489 |  2.215565542 | ⋯ |  0.90628565 |  1.8850310 | -1.35809849 |  2.3015755 |  1.9994782 |  1.3065367 |  2.6143647 |  2.1076718 | 2.2940576 |  2.7482041 |\n",
       "| 2 | 1 |  1.8282120 | -0.3533215 |  1.6844726 |  1.9070303 | -0.8262354 | -0.4866435 | -0.02382489 | 0.5476623 |  0.001391139 | ⋯ | -0.09935632 |  1.8043398 | -0.36887865 |  1.5337764 |  1.8888270 | -0.3752817 | -0.4300658 | -0.1466200 | 1.0861286 | -0.2436753 |\n",
       "| 3 | 1 |  1.5784992 |  0.4557859 |  1.5651260 |  1.5575132 |  0.9413821 |  1.0519999 |  1.36227979 | 2.0354398 |  0.938858720 | ⋯ |  0.29330133 |  1.5105411 | -0.02395331 |  1.3462906 |  1.4550043 |  0.5269438 |  1.0819801 |  0.8542223 | 1.9532817 |  1.1512420 |\n",
       "| 4 | 1 | -0.7682333 |  0.2535091 | -0.5921661 | -0.7637917 |  3.2806668 |  3.3999174 |  1.91421287 | 1.4504311 |  2.864862154 | ⋯ |  2.04571087 | -0.2812170 |  0.13386631 | -0.2497196 | -0.5495377 |  3.3912907 |  3.8899747 |  1.9878392 | 2.1738732 |  6.0407261 |\n",
       "| 5 | 1 |  1.7487579 | -1.1508038 |  1.7750113 |  1.8246238 |  0.2801253 |  0.5388663 |  1.36980615 | 1.4272370 | -0.009552062 | ⋯ |  0.49888916 |  1.2974336 | -1.46548091 |  1.3373627 |  1.2196511 |  0.2203623 | -0.3131190 |  0.6126397 | 0.7286181 | -0.8675896 |\n",
       "| 6 | 1 | -0.4759559 | -0.8346009 | -0.3868077 | -0.5052059 |  2.2354545 |  1.2432416 |  0.86554001 | 0.8239307 |  1.004517928 | ⋯ |  0.48641784 | -0.1653528 | -0.31356043 | -0.1149083 | -0.2441054 |  2.0467119 |  1.7201029 |  1.2621327 | 0.9050914 |  1.7525273 |\n",
       "\n"
      ],
      "text/plain": [
       "  diagnosis radius_mean texture_mean perimeter_mean area_mean  smoothness_mean\n",
       "1 1          1.0960995  -2.0715123    1.2688173      0.9835095  1.5670875     \n",
       "2 1          1.8282120  -0.3533215    1.6844726      1.9070303 -0.8262354     \n",
       "3 1          1.5784992   0.4557859    1.5651260      1.5575132  0.9413821     \n",
       "4 1         -0.7682333   0.2535091   -0.5921661     -0.7637917  3.2806668     \n",
       "5 1          1.7487579  -1.1508038    1.7750113      1.8246238  0.2801253     \n",
       "6 1         -0.4759559  -0.8346009   -0.3868077     -0.5052059  2.2354545     \n",
       "  compactness_mean concavity_mean concave.points_mean symmetry_mean ⋯\n",
       "1  3.2806281        2.65054179    2.5302489            2.215565542  ⋯\n",
       "2 -0.4866435       -0.02382489    0.5476623            0.001391139  ⋯\n",
       "3  1.0519999        1.36227979    2.0354398            0.938858720  ⋯\n",
       "4  3.3999174        1.91421287    1.4504311            2.864862154  ⋯\n",
       "5  0.5388663        1.36980615    1.4272370           -0.009552062  ⋯\n",
       "6  1.2432416        0.86554001    0.8239307            1.004517928  ⋯\n",
       "  fractal_dimension_se radius_worst texture_worst perimeter_worst area_worst\n",
       "1  0.90628565           1.8850310   -1.35809849    2.3015755       1.9994782\n",
       "2 -0.09935632           1.8043398   -0.36887865    1.5337764       1.8888270\n",
       "3  0.29330133           1.5105411   -0.02395331    1.3462906       1.4550043\n",
       "4  2.04571087          -0.2812170    0.13386631   -0.2497196      -0.5495377\n",
       "5  0.49888916           1.2974336   -1.46548091    1.3373627       1.2196511\n",
       "6  0.48641784          -0.1653528   -0.31356043   -0.1149083      -0.2441054\n",
       "  smoothness_worst compactness_worst concavity_worst concave.points_worst\n",
       "1  1.3065367        2.6143647         2.1076718      2.2940576           \n",
       "2 -0.3752817       -0.4300658        -0.1466200      1.0861286           \n",
       "3  0.5269438        1.0819801         0.8542223      1.9532817           \n",
       "4  3.3912907        3.8899747         1.9878392      2.1738732           \n",
       "5  0.2203623       -0.3131190         0.6126397      0.7286181           \n",
       "6  2.0467119        1.7201029         1.2621327      0.9050914           \n",
       "  symmetry_worst\n",
       "1  2.7482041    \n",
       "2 -0.2436753    \n",
       "3  1.1512420    \n",
       "4  6.0407261    \n",
       "5 -0.8675896    \n",
       "6  1.7525273    "
      ]
     },
     "metadata": {},
     "output_type": "display_data"
    }
   ],
   "source": [
    "# Eliminar no predictores (id y última columna vacía)\n",
    "df <- datos[, -c(1, ncol(datos)-1, ncol(datos))]\n",
    "# Convertir el factor diagnosis (B y M) a los valores numéricos 0 y 1, respectivamente.\n",
    "df$diagnosis <- as.numeric(df$diagnosis)-1\n",
    "# Normalizar los datos (predictores o features) para evitar problemas de diferente variabilidad\n",
    "df[-1] <- apply(df[-1], MARGIN = 2, scale)\n",
    "rm(datos)\n",
    "dim(df)\n",
    "head(df)"
   ]
  },
  {
   "cell_type": "markdown",
   "metadata": {
    "slideshow": {
     "slide_type": "slide"
    }
   },
   "source": [
    "Podemos comprobar que hay colinealidades en los datos"
   ]
  },
  {
   "cell_type": "code",
   "execution_count": 3,
   "metadata": {
    "slideshow": {
     "slide_type": "-"
    }
   },
   "outputs": [
    {
     "data": {
      "image/png": "[encoded data removed]",
      "text/plain": [
       "plot without title"
      ]
     },
     "metadata": {
      "image/png": {
       "height": 420,
       "width": 420
      }
     },
     "output_type": "display_data"
    }
   ],
   "source": [
    "library(RColorBrewer) # brewer.pal\n",
    "library(lattice) # levelplot\n",
    "colores <- brewer.pal(10,\"RdBu\")\n",
    "levelplot(cor(df), # ó simplemente image(cor(df))\n",
    "  at = seq(-1, 1, 0.2), col.regions = colores,\n",
    "  scale = list(x = list(rot = 90)) # gira 90º las etiquetas del eje X\n",
    ")"
   ]
  },
  {
   "cell_type": "markdown",
   "metadata": {
    "slideshow": {
     "slide_type": "slide"
    }
   },
   "source": [
    "## Modelo lineal completo"
   ]
  },
  {
   "cell_type": "markdown",
   "metadata": {},
   "source": [
    "Construyamos el modelo lineal mediante la función `glm`. Como la variable respuesta sigue una distribución de Bernouilli lo más apropiado es realizar una regresión logística, es decir: familia binomial, link _logit_ (por defecto para esta familia)."
   ]
  },
  {
   "cell_type": "code",
   "execution_count": 4,
   "metadata": {},
   "outputs": [
    {
     "name": "stderr",
     "output_type": "stream",
     "text": [
      "Warning message:\n",
      "“glm.fit: fitted probabilities numerically 0 or 1 occurred”\n"
     ]
    }
   ],
   "source": [
    "model <- glm(diagnosis ~ ., data = df, family = \"binomial\") # ídem family =  binomial(link = \"logit\"), ver ?family\n",
    "pred  <- predict(model, type = \"response\") # type = \"response\" devuelve las probabilidades predichas entre 0 y 1."
   ]
  },
  {
   "cell_type": "markdown",
   "metadata": {
    "slideshow": {
     "slide_type": "fragment"
    }
   },
   "source": [
    "Vemos que surgen algunas alertas sobre la convergencia del algoritmo (probablemente debidas a las colinealidades en nuestros predictores) y de sobreajuste (predicciones deterministas de 0 o 1)."
   ]
  },
  {
   "cell_type": "markdown",
   "metadata": {
    "slideshow": {
     "slide_type": "slide"
    }
   },
   "source": [
    "Para comprobar la capacidad predictiva de nuestro modelo en la clasificación del cáncer de mama, utilizaremos el índice Área bajo la curva ROC (AUC, por sus siglas en inglés) disponible en las librerías `verification` y `pROC`."
   ]
  },
  {
   "cell_type": "code",
   "execution_count": 5,
   "metadata": {},
   "outputs": [
    {
     "ename": "ERROR",
     "evalue": "Error in library(verification, quietly = TRUE): there is no package called ‘verification’\n",
     "output_type": "error",
     "traceback": [
      "Error in library(verification, quietly = TRUE): there is no package called ‘verification’\nTraceback:\n",
      "1. library(verification, quietly = TRUE)"
     ]
    }
   ],
   "source": [
    "# Paquete verification para ROC y roc area\n",
    "# options(download.file.method=\"wget\") # esta línea es necesaria en el HUB para instalar paquetes a través de una url\n",
    "# install.packages(\"verification\")\n",
    "library(verification, quietly = TRUE) # roc.area\n",
    "auc <- roc.area(obs = df$diagnosis,pred)$A\n",
    "roc.plot(df$diagnosis, pred, main=sprintf(\"Curva ROC (AUC=%g)\", auc))"
   ]
  },
  {
   "cell_type": "code",
   "execution_count": null,
   "metadata": {},
   "outputs": [],
   "source": [
    "# Análogamente con el paquete pROC\n",
    "#install.packages(\"pROC\")\n",
    "library(pROC) \n",
    "roc_obj <- roc(df$diagnosis, pred)\n",
    "auc(roc_obj)\n",
    "plot.roc(roc_obj,print.auc=T, print.thres = \"best\")"
   ]
  },
  {
   "cell_type": "markdown",
   "metadata": {
    "slideshow": {
     "slide_type": "slide"
    }
   },
   "source": [
    "También podríamos comprobar los resultados del modelo en una tabla de contingencia (_confusion matrix_), pero en este caso necesitamos convertir las predicciones probabilistas del modelo en valores cualitativos (factores) deterministas. Para ello usamos un umbral de decisión. En este ejemplo usamos 0.5 como umbral; prueba a modificarlo para ver el efecto sobre los aciertos del modelo (esto es lo que hace la curva ROC)."
   ]
  },
  {
   "cell_type": "code",
   "execution_count": null,
   "metadata": {},
   "outputs": [],
   "source": [
    "#install.packages(\"caret\")\n",
    "library(caret, quietly = TRUE) # confusionMatrix\n",
    "confusionMatrix(as.factor(as.numeric(pred>0.5)), as.factor(df$diagnosis), positive=\"1\")\n",
    "\n",
    "\n",
    "# Alternativa sin usar caret\n",
    "outbin <- as.double(pred > 0.5)\n",
    "table(df$diagnosis, outbin, dnn=c(\"Ref.\",\"Pred.\"))\n",
    "# Accuracy\n",
    "100*sum(diag(table(df$diagnosis, outbin))) / length(outbin)"
   ]
  },
  {
   "cell_type": "markdown",
   "metadata": {
    "slideshow": {
     "slide_type": "slide"
    }
   },
   "source": [
    "**TAREA 1:** Estudiar la capacidad de generalización del modelo completo mediante una validacion cruzada de tipo *hold out*, es decir, utilizando una parte de los datos para entrenar el modelo y reservando otra para probarlo."
   ]
  },
  {
   "cell_type": "markdown",
   "metadata": {
    "slideshow": {
     "slide_type": "slide"
    }
   },
   "source": [
    "## Selección de variables\n",
    "\n"
   ]
  },
  {
   "cell_type": "markdown",
   "metadata": {
    "slideshow": {
     "slide_type": "fragment"
    }
   },
   "source": [
    "### Selección del mejor subconjunto"
   ]
  },
  {
   "cell_type": "markdown",
   "metadata": {},
   "source": [
    "La función `regsubsets` (`?regsubsets`) de la librería `leaps` nos permite realizar la selección del mejor subconjunto con un número dado de predictores. La sintaxis es similar a la usada para el modelo lineal (`lm`) y, del mismo modo, el comando `summary` nos permite explorar los resultados. Utilizamos el argumento `nvmax` para forzar la utilización de todas las variables (30), ya que por defecto la función regsubsets solo utiliza las 8 primeras."
   ]
  },
  {
   "cell_type": "code",
   "execution_count": null,
   "metadata": {},
   "outputs": [],
   "source": [
    "#install.packages('leaps')\n",
    "library(leaps)\n",
    "regfit.full <- regsubsets(diagnosis ~., df, nvmax = 30) # por defecto method=\"exhaustive\""
   ]
  },
  {
   "cell_type": "markdown",
   "metadata": {
    "slideshow": {
     "slide_type": "slide"
    }
   },
   "source": [
    "La función `summary` devuelve medidas del ajuste que se pueden usar para seleccionar el mejor modelo."
   ]
  },
  {
   "cell_type": "code",
   "execution_count": null,
   "metadata": {
    "scrolled": false,
    "slideshow": {
     "slide_type": "-"
    }
   },
   "outputs": [],
   "source": [
    "full.summary <- summary(regfit.full)\n",
    "names(full.summary)"
   ]
  },
  {
   "cell_type": "markdown",
   "metadata": {
    "slideshow": {
     "slide_type": "slide"
    }
   },
   "source": [
    "En particular, si revisamos los valores del ajuste, en este caso rsq ($R^2$, el coeficiente de determinación), se observa que el estadístico va mejorando a medida que aumentamos el número de variables en el modelo. No puede ser de otra manera, ya que este estadístico está relacionado con la varianza explicada por nuestro modelo, que aumenta monótonamente al incluir variables adicionales. Sin embargo, si nos fijamos en el estadístico BIC (*Bayesian information criterion*), que penaliza la complejidad del modelo (el número de variables predictoras), se observa que los valores óptimos se encuentran considerando 11 variables."
   ]
  },
  {
   "cell_type": "code",
   "execution_count": null,
   "metadata": {},
   "outputs": [],
   "source": [
    "scores <- c(\"rsq\", \"bic\")\n",
    "par(mfrow=c(length(scores),1), mar=c(4,4,1,1))\n",
    "for (score in scores){\n",
    "  plot(full.summary[[score]], xlab=\"Number of Variables\", ylab=score, type=\"l\")\n",
    "}"
   ]
  },
  {
   "cell_type": "code",
   "execution_count": null,
   "metadata": {},
   "outputs": [],
   "source": [
    "which.min(full.summary$bic)"
   ]
  },
  {
   "cell_type": "markdown",
   "metadata": {
    "slideshow": {
     "slide_type": "slide"
    }
   },
   "source": [
    "La propia función `regsubsets` incorpora un método para dibujar los resultados clasificados según los diferentes estadísticos (`? plot.regsubsets`)"
   ]
  },
  {
   "cell_type": "code",
   "execution_count": null,
   "metadata": {},
   "outputs": [],
   "source": [
    "plot(regfit.full, scale =\"r2\")\n",
    "#plot(regfit.full, scale =\"bic\")"
   ]
  },
  {
   "cell_type": "markdown",
   "metadata": {
    "slideshow": {
     "slide_type": "-"
    }
   },
   "source": [
    "Cada fila de este gráfico representa el mejor modelo ajustado para un número dado de variables. Cada cuadrado de color representa que la variable entra en ese modelo, mientras que la intensidad del color se asocia con la escala del eje Y."
   ]
  },
  {
   "cell_type": "markdown",
   "metadata": {
    "slideshow": {
     "slide_type": "slide"
    }
   },
   "source": [
    "Una vez localizado el modelo óptimo (en nuestro caso, el de 11 variables), si queremos conocer los coeficientes del modelo, podemos usar la función `coef` con un segundo argumento:"
   ]
  },
  {
   "cell_type": "code",
   "execution_count": null,
   "metadata": {},
   "outputs": [],
   "source": [
    "coef(regfit.full, 11)"
   ]
  },
  {
   "cell_type": "markdown",
   "metadata": {
    "slideshow": {
     "slide_type": "slide"
    }
   },
   "source": [
    "### Selección stepwise\n",
    "Al no haber especificado método de selección, la búsqueda del mejor modelo de la sección anterior ha sido exhaustiva. Con un leve cambio en los argumentos de la función podemos realizar la selección _stepwise_, ya sea “forward” o “backward”:"
   ]
  },
  {
   "cell_type": "code",
   "execution_count": null,
   "metadata": {},
   "outputs": [],
   "source": [
    "regfit.fwd <- regsubsets(diagnosis~., data = df, nvmax = 30 , method =\"forward\")\n",
    "fwd.summary <- summary(regfit.fwd)"
   ]
  },
  {
   "cell_type": "markdown",
   "metadata": {
    "slideshow": {
     "slide_type": "slide"
    }
   },
   "source": [
    "**TAREA 2:** Estudiar los predictores seleccionados en este caso. ¿cuál es su número óptimo? ¿coinciden con los anteriores?"
   ]
  },
  {
   "cell_type": "markdown",
   "metadata": {
    "slideshow": {
     "slide_type": "slide"
    }
   },
   "source": [
    "**TAREA 3:** Comparar la selección realizada por el método _backward_ con los métodos exhaustivo y _forward stepwise_."
   ]
  },
  {
   "cell_type": "markdown",
   "metadata": {},
   "source": []
  },
  {
   "cell_type": "markdown",
   "metadata": {
    "slideshow": {
     "slide_type": "slide"
    }
   },
   "source": [
    "### Selección mediante la función step\n",
    "Otra opción para realizar la selección _stepwise_ es usar la función `step`, que forma parte del paquete básico `stats` de R:"
   ]
  },
  {
   "cell_type": "code",
   "execution_count": null,
   "metadata": {},
   "outputs": [],
   "source": [
    "initialModel_0 <- glm(diagnosis ~ 1, data = df, family=binomial(link=\"logit\"))\n",
    "initialModel_p <- glm(diagnosis ~ ., data = df, family=binomial(link=\"logit\"))\n",
    "\n",
    "fw <- step(initialModel_0,\n",
    "  scope = list(lower = formula(initialModel_0), upper = formula(initialModel_p)),\n",
    "  direction = \"forward\"\n",
    ")\n",
    "summary(fw)"
   ]
  },
  {
   "cell_type": "markdown",
   "metadata": {
    "slideshow": {
     "slide_type": "slide"
    }
   },
   "source": [
    "El objeto de salida es una lista que contiene múltiples elementos. Entre ellos, ilustramos el resultado anova, que muestra las variables seleccionadas (10 en este caso) en orden de adición y el AIC correspondiente (similar al estadístico BIC) ."
   ]
  },
  {
   "cell_type": "code",
   "execution_count": null,
   "metadata": {},
   "outputs": [],
   "source": [
    "fw$anova"
   ]
  },
  {
   "cell_type": "markdown",
   "metadata": {
    "slideshow": {
     "slide_type": "slide"
    }
   },
   "source": [
    "## Regularización\n",
    "La regularización consiste en añadir un término a la función objetivo que elimine predictores (regularización L1) o disminuya notablemente su influencia (regularización L2) de tal manera que su capacidad de generalización mejore. El coeficiente estimado estará sesgado, debido al término extra que se ha añadido a la función objetivo, sin embargo su varianza puede disminuir. Este equilibrio entre el sesgo y la varianza es lo que se conoce como _bias-variance tradeoff_. Si el modelo está demasiado sesgado entonces no se capturarán correctamente las relaciones entre predictando y predictor, sin embargo si está muy poco sesgado, la varianza del coeficiente estimado puede ser alta y no generalizar bien.\n",
    "\n",
    "En R, para regularizar modelos lineales generalizados se utiliza el paquete `glmnet`. El tipo de regularización viene dado por el valor del parámetro `alpha`: para una regularización L1, `alpha = 1`, para una regularización L2, `alpha = 0`. Ambos tipos de regularización penalizan la norma (1 ó 2, en función de si la regularización es L1 o L2) del vector de coeficientes estimados. Una consecuencia de la regularización L1 es que indirectamente selecciona variables al hacer estrictamente 0 algunos coeficientes. El número de coeficientes que se hacen 0 viene determinado por el valor de `lambda`. El valor de lambda óptimo se obtiene mediante validación cruzada a través de la función `cv.glmnet`."
   ]
  },
  {
   "cell_type": "markdown",
   "metadata": {
    "slideshow": {
     "slide_type": "slide"
    }
   },
   "source": [
    "En primer lugar, debemos instalar y cargar las librerías que utilizaremos en los ejemplos:"
   ]
  },
  {
   "cell_type": "code",
   "execution_count": null,
   "metadata": {},
   "outputs": [],
   "source": [
    "#install.packages(\"glmnet\")\n",
    "library(glmnet, quiet = TRUE)"
   ]
  },
  {
   "cell_type": "markdown",
   "metadata": {
    "slideshow": {
     "slide_type": "slide"
    }
   },
   "source": [
    "### Regularización L1 (LASSO)\n",
    "Veamos qué nos puede aportar una regularización L1 en este caso. La función `glmnet`nos permite representar directamente la evolución de los coeficientes del modelo para un rango de valores de $\\lambda$."
   ]
  },
  {
   "cell_type": "code",
   "execution_count": null,
   "metadata": {},
   "outputs": [],
   "source": [
    "fit <- glmnet(as.matrix(df[-1]),df$diagnosis,family = \"binomial\",alpha = 1) # valores de lambda por defecto, nlambda=100\n",
    "plot(fit, label=TRUE, xvar = \"lambda\") # representa los coeficientes frente al log neperiano de lambda"
   ]
  },
  {
   "cell_type": "markdown",
   "metadata": {},
   "source": [
    "En la parte superior se muestra el número de coeficientes no nulos para cada valor de $\\lambda$. Vemos como muchos se hacen 0 al ir aumentando $\\lambda$."
   ]
  },
  {
   "cell_type": "markdown",
   "metadata": {
    "slideshow": {
     "slide_type": "slide"
    }
   },
   "source": [
    "Para estimar el valor óptimo de $\\lambda$ recurrimos a una validación cruzada mediante la función `cv.glmnet`:"
   ]
  },
  {
   "cell_type": "code",
   "execution_count": null,
   "metadata": {},
   "outputs": [],
   "source": [
    "cvfit <- cv.glmnet(as.matrix(df[-1]),df$diagnosis,family = \"binomial\",alpha = 1)\n",
    "print(cvfit)\n",
    "plot(cvfit)"
   ]
  },
  {
   "cell_type": "markdown",
   "metadata": {
    "slideshow": {
     "slide_type": "slide"
    }
   },
   "source": [
    "Con este valor de lambda estimado, podemos entrenar el modelo regularizado mediante la función `glmnet`:"
   ]
  },
  {
   "cell_type": "code",
   "execution_count": null,
   "metadata": {},
   "outputs": [],
   "source": [
    "model.l1 <- glmnet(as.matrix(df[,-1]), df$diagnosis, family = \"binomial\", alpha = 1, lambda = cvfit$lambda.1se)\n",
    "coef(model.l1) # coeficientes del modelo\n",
    "ind.coef.no.nulos <- which(as.numeric(coef(model.l1)) != 0)\n",
    "names(df)[ind.coef.no.nulos] # coeficientes no nulos\n",
    "cat(paste(\"Number of variables selected:\", length(ind.coef.no.nulos)))"
   ]
  },
  {
   "cell_type": "markdown",
   "metadata": {},
   "source": [
    "Vemos que efectivamente la regularización L1 ha hecho 0 muchos coeficientes eliminando grados de libertad del sistema, salvo las características que se observan en la salida anterior."
   ]
  },
  {
   "cell_type": "markdown",
   "metadata": {
    "slideshow": {
     "slide_type": "slide"
    }
   },
   "source": [
    "En realidad, no es necesario invocar de nuevo glmnet. El objeto que devuelve la validación cruzada también contiene los coeficientes correspondientes al $\\lambda$ óptimo."
   ]
  },
  {
   "cell_type": "code",
   "execution_count": null,
   "metadata": {
    "slideshow": {
     "slide_type": "-"
    }
   },
   "outputs": [],
   "source": [
    "coef(cvfit)"
   ]
  },
  {
   "cell_type": "markdown",
   "metadata": {},
   "source": [
    "Y podemos solicitar también los del $\\lambda$ que minimiza la validación cruzada:"
   ]
  },
  {
   "cell_type": "code",
   "execution_count": null,
   "metadata": {
    "slideshow": {
     "slide_type": "-"
    }
   },
   "outputs": [],
   "source": [
    "coef(cvfit, s=\"lambda.min\")"
   ]
  },
  {
   "cell_type": "markdown",
   "metadata": {
    "slideshow": {
     "slide_type": "slide"
    }
   },
   "source": [
    "Podemos ver el sobreajuste de forma cualitativa con la curva ROC:"
   ]
  },
  {
   "cell_type": "code",
   "execution_count": null,
   "metadata": {},
   "outputs": [],
   "source": [
    "pred.l1 <- predict(cvfit, as.matrix(df[-1]), type = \"response\")\n",
    "auc.l1 <- roc.area(df$diagnosis,pred.l1)$A\n",
    "roc.plot(df$diagnosis, pred.l1, main=sprintf(\"Curva ROC Regularización L1 (AUC = %g)\", auc.l1))"
   ]
  },
  {
   "cell_type": "markdown",
   "metadata": {},
   "source": [
    "Observamos como, aún con solo 11 variables, el AUC es todavía bastante alto. Por ello se propone la siguiente tarea."
   ]
  },
  {
   "cell_type": "markdown",
   "metadata": {
    "slideshow": {
     "slide_type": "slide"
    }
   },
   "source": [
    "**TAREA 4:** Utilizar una validación cruzada tipo _hold out_ para comprobar si la capacidad de generalización del modelo ha mejorado con la regularización L1."
   ]
  },
  {
   "cell_type": "markdown",
   "metadata": {
    "slideshow": {
     "slide_type": "slide"
    }
   },
   "source": [
    "### Regularización L2 (ridge)\n",
    "Si probásemos con la regularización L2 (parámetro `alpha = 0`), la norma-2 (norma euclídea) del vector de coeficientes se limita pero en este caso ningún coeficiente llega a anularse."
   ]
  },
  {
   "cell_type": "code",
   "execution_count": null,
   "metadata": {},
   "outputs": [],
   "source": [
    "cvfit2 <- cv.glmnet(as.matrix(df[-1]), df$diagnosis, family = \"binomial\",alpha = 0)\n",
    "ind.coef.no.nulos.l2 <- which(as.numeric(coef(cvfit2)) != 0)\n",
    "cat(paste(\"Number of variables selected:\", length(ind.coef.no.nulos.l2)))"
   ]
  },
  {
   "cell_type": "markdown",
   "metadata": {
    "slideshow": {
     "slide_type": "slide"
    }
   },
   "source": [
    "Calculamos el AUC para el modelo regularizado con el penalty L2."
   ]
  },
  {
   "cell_type": "code",
   "execution_count": null,
   "metadata": {
    "scrolled": false
   },
   "outputs": [],
   "source": [
    "pred.l2 <- predict(cvfit2, as.matrix(df[-1]), type = \"response\")\n",
    "auc.l2 <- roc.area(df$diagnosis, pred.l2)$A\n",
    "roc.plot(df$diagnosis, pred.l2, main=sprintf(\"Curva ROC Regularización L2 (AUC = %g)\", auc.l2))"
   ]
  },
  {
   "cell_type": "markdown",
   "metadata": {
    "slideshow": {
     "slide_type": "slide"
    }
   },
   "source": [
    "**TAREA 5:** Comprobar la capacidad de generalización del modelo regularizado mediante _ridge regression_ y estudiar la evolución de los valores de los coeficientes en función del valor de `lambda`."
   ]
  },
  {
   "cell_type": "markdown",
   "metadata": {
    "slideshow": {
     "slide_type": "slide"
    }
   },
   "source": [
    "**TAREA 6:** Aplicar lo aprendido en esta práctica a otra de las bases de datos de ejemplo."
   ]
  }
 ],
 "metadata": {
  "celltoolbar": "Tags",
  "kernelspec": {
   "display_name": "R",
   "language": "R",
   "name": "ir"
  },
  "language_info": {
   "codemirror_mode": "r",
   "file_extension": ".r",
   "mimetype": "text/x-r-source",
   "name": "R",
   "pygments_lexer": "r",
   "version": "3.6.3"
  }
 },
 "nbformat": 4,
 "nbformat_minor": 2
}
