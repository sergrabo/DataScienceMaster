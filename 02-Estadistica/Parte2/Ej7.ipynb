{
 "cells": [
  {
   "cell_type": "markdown",
   "id": "d99dcf39",
   "metadata": {},
   "source": [
    "# Ejercicio 7"
   ]
  },
  {
   "cell_type": "markdown",
   "id": "a8e92df0",
   "metadata": {},
   "source": [
    "## 1) \n",
    "Escribe una función que tenga como input un vector x con valores distribuidos uniformemente, y unos\n",
    "parámetros a, b, m y n; y que devuelva como output una matriz cuya primera columna sea y = a + b x\n",
    "más un término estocástico sacado de una gaussiana con sigma = c + d*x^2; y la segunda columna el\n",
    "error sigma = m + n*x^2."
   ]
  },
  {
   "cell_type": "code",
   "execution_count": 1,
   "id": "3e205ca8",
   "metadata": {},
   "outputs": [],
   "source": [
    "generaY = function(x, a, b, m, n){\n",
    "    sigma = m + n*x^2\n",
    "    y = a + b*x + rnorm(x, mean = 0, sd = sigma)\n",
    "    m = cbind(y, sigma)\n",
    "    return(m)\n",
    "}"
   ]
  },
  {
   "cell_type": "markdown",
   "id": "e105839e",
   "metadata": {},
   "source": [
    "## 2)\n",
    "Escribe otra función que haga lo mismo que la anterior pero con un parámetro más “c” de tal forma\n",
    "que haga lo mismo pero con un modelo y = a + b x + c x^2."
   ]
  },
  {
   "cell_type": "code",
   "execution_count": 2,
   "id": "202d6a0c",
   "metadata": {},
   "outputs": [],
   "source": [
    "generaY2 = function(x, a, b, c, m, n){\n",
    "    sigma = m + n*x^2\n",
    "    y = a + b*x + c*x^2 + rnorm(x, mean = 0, sd = sigma)\n",
    "    m = cbind(y, sigma)\n",
    "    return(m)\n",
    "}"
   ]
  },
  {
   "cell_type": "markdown",
   "id": "8f04e950",
   "metadata": {},
   "source": [
    "## 3) \n",
    "Usando como valores a = 1, b = 2, m = 0.1 y n = 0.04 para el modelo de la primera función: calcula los\n",
    "parámetros para las que el likelihood es máximo asumiendo un modelo con dos parámetros y = a + b x.\n",
    "Calcula el valor del chi2 y calcula el nivel de confianza con el que rechazaríamos este ajuste."
   ]
  },
  {
   "cell_type": "code",
   "execution_count": 3,
   "id": "971db545",
   "metadata": {},
   "outputs": [],
   "source": [
    "# Creamos la función para hallar los parámetros maximizando el likelyhood                  \n",
    "parMaxLike = function(x,ys){\n",
    "    y = ys[,1]\n",
    "    sigma = ys[,2]\n",
    "    n = length(y)\n",
    "    X = cbind(rep(1, n), x)\n",
    "    CovY = diag(x = sigma, nrow = n, ncol = n)\n",
    "    theta = solve(t(X) %*% solve(CovY) %*% X) %*% (t(X) %*% solve(CovY)) %*% y\n",
    "    return(theta)\n",
    "}"
   ]
  },
  {
   "cell_type": "code",
   "execution_count": 4,
   "id": "b4105a2d",
   "metadata": {},
   "outputs": [],
   "source": [
    "N = 100\n",
    "a = 1\n",
    "b = 2\n",
    "c = 0.2\n",
    "m = 0.1\n",
    "n = 0.04"
   ]
  },
  {
   "cell_type": "code",
   "execution_count": 5,
   "id": "994c32b9",
   "metadata": {},
   "outputs": [
    {
     "data": {
      "image/png": "[encoded data removed]",
      "text/plain": [
       "Plot with title \"Ajuste lineal\""
      ]
     },
     "metadata": {
      "image/png": {
       "height": 420,
       "width": 420
      }
     },
     "output_type": "display_data"
    }
   ],
   "source": [
    "# Generamos los datos\n",
    "x = runif(N, 0, 10)\n",
    "ysig = generaY(x,a,b,m,n)\n",
    "\n",
    "# Hacemos el ajuste\n",
    "theta = parMaxLike(x, ysig)\n",
    "\n",
    "plot(x, ysig[,1], ylim = c(0,30), pch = 16,\n",
    "    ylab = \"y\", xlab = \"x\",\n",
    "    main = \"Ajuste lineal\")\n",
    "arrows(x0 = x, y0 = ysig[,1]-ysig[,2], x1 = x, y1 = ysig[,1]+ysig[,2],\n",
    "       code = 3, angle = 90, length = 0.05, col = \"black\")\n",
    "abline(theta, col = \"red\", lwd = 2)"
   ]
  },
  {
   "cell_type": "code",
   "execution_count": 6,
   "id": "556d4336",
   "metadata": {},
   "outputs": [
    {
     "data": {
      "text/html": [
       "99.0852310379288"
      ],
      "text/latex": [
       "99.0852310379288"
      ],
      "text/markdown": [
       "99.0852310379288"
      ],
      "text/plain": [
       "[1] 99.08523"
      ]
     },
     "metadata": {},
     "output_type": "display_data"
    }
   ],
   "source": [
    "# Calculamos chi^2\n",
    "chi_square = function(x,ys,theta){\n",
    "    y = ys[,1]\n",
    "    sigma = ys[,2]\n",
    "    n = length(y)\n",
    "    X = cbind(rep(1, n), x)\n",
    "    s = (y-X %*% theta)/sigma\n",
    "    return(sum(s^2))\n",
    "} \n",
    "\n",
    "chi = chi_square(x,ysig,theta)\n",
    "chi"
   ]
  },
  {
   "cell_type": "code",
   "execution_count": 7,
   "id": "9073ca41",
   "metadata": {},
   "outputs": [
    {
     "data": {
      "text/html": [
       "0.45032878098575"
      ],
      "text/latex": [
       "0.45032878098575"
      ],
      "text/markdown": [
       "0.45032878098575"
      ],
      "text/plain": [
       "[1] 0.4503288"
      ]
     },
     "metadata": {},
     "output_type": "display_data"
    }
   ],
   "source": [
    "pchisq(chi, N-2, lower.tail = FALSE)"
   ]
  },
  {
   "cell_type": "markdown",
   "id": "791530d4",
   "metadata": {},
   "source": [
    "## 4) \n",
    "Repite el paso anterior con el mismo modelo pero usando la segunda función."
   ]
  },
  {
   "cell_type": "code",
   "execution_count": 8,
   "id": "71c678d7",
   "metadata": {},
   "outputs": [
    {
     "data": {
      "image/png": "[encoded data removed]",
      "text/plain": [
       "Plot with title \"Ajuste lineal\""
      ]
     },
     "metadata": {
      "image/png": {
       "height": 420,
       "width": 420
      }
     },
     "output_type": "display_data"
    }
   ],
   "source": [
    "# Generamos los datos\n",
    "x = runif(N, 0, 10)\n",
    "ysig2 = generaY2(x,a,b,c,m,n)\n",
    "\n",
    "# Hacemos el ajuste\n",
    "theta2 = parMaxLike(x, ysig2)\n",
    "\n",
    "plot(x, ysig2[,1], pch = 16,\n",
    "    ylab = \"y\", xlab = \"x\",\n",
    "    main = \"Ajuste lineal\")\n",
    "arrows(x0 = x, y0 = ysig2[,1]-ysig2[,2], x1 = x, y1 = ysig2[,1]+ysig2[,2],\n",
    "       code = 3, angle = 90, length = 0.05, col = \"black\")\n",
    "# Repersentación del ajuste\n",
    "xteo = seq(0,10, by = 0.1)\n",
    "yteo = theta2[1] + theta2[2]*xteo\n",
    "lines(xteo, yteo, col = \"red\", lwd = 2)"
   ]
  },
  {
   "cell_type": "code",
   "execution_count": 9,
   "id": "f9e4e616",
   "metadata": {},
   "outputs": [
    {
     "data": {
      "text/html": [
       "1029.26897940638"
      ],
      "text/latex": [
       "1029.26897940638"
      ],
      "text/markdown": [
       "1029.26897940638"
      ],
      "text/plain": [
       "[1] 1029.269"
      ]
     },
     "metadata": {},
     "output_type": "display_data"
    }
   ],
   "source": [
    "# Calculamos chi^2\n",
    "chi_square2 = function(x,ys,theta){\n",
    "    y = ys[,1]\n",
    "    sigma = ys[,2]\n",
    "    n = length(y)\n",
    "    X = cbind(rep(1, n), x)\n",
    "    s = (y-X %*% theta)/sigma\n",
    "    return(sum(s^2))\n",
    "} \n",
    "\n",
    "chi2 = chi_square2(x,ysig2,theta2)\n",
    "chi2"
   ]
  },
  {
   "cell_type": "code",
   "execution_count": 10,
   "id": "60c69845",
   "metadata": {},
   "outputs": [
    {
     "data": {
      "text/html": [
       "1.21083168898223e-155"
      ],
      "text/latex": [
       "1.21083168898223e-155"
      ],
      "text/markdown": [
       "1.21083168898223e-155"
      ],
      "text/plain": [
       "[1] 1.210832e-155"
      ]
     },
     "metadata": {},
     "output_type": "display_data"
    }
   ],
   "source": [
    "pchisq(chi2, N-3, lower.tail = FALSE)"
   ]
  },
  {
   "cell_type": "markdown",
   "id": "e0ae37d4",
   "metadata": {},
   "source": [
    "## 5)\n",
    "Usando la primera de las funciones anteriores con los valores dados en 3) calcula el valor del likelihood\n",
    "ratio “q” para un modelo con 2 y 3 parámetros. ¿Con qué confidence level podemos aceptar H0?\n",
    "Comenta el resultado: ¿qué modelo es mejor el primero o el segundo?."
   ]
  },
  {
   "cell_type": "code",
   "execution_count": 11,
   "id": "e8c01aa1",
   "metadata": {},
   "outputs": [
    {
     "data": {
      "text/html": [
       "1"
      ],
      "text/latex": [
       "1"
      ],
      "text/markdown": [
       "1"
      ],
      "text/plain": [
       "[1] 1"
      ]
     },
     "metadata": {},
     "output_type": "display_data"
    }
   ],
   "source": [
    "q1 = 2*log(sqrt(2*pi))*sum(log(ysig[,2]))+chi\n",
    "q2 = 2*log(sqrt(2*pi))*sum(log(ysig2[,2]))+chi2\n",
    "qr = q1 - q2\n",
    "pchisq(qr,3-2, lower.tail=FALSE)"
   ]
  },
  {
   "cell_type": "markdown",
   "id": "331dafc9",
   "metadata": {},
   "source": [
    "??????"
   ]
  }
 ],
 "metadata": {
  "kernelspec": {
   "display_name": "R",
   "language": "R",
   "name": "ir"
  },
  "language_info": {
   "codemirror_mode": "r",
   "file_extension": ".r",
   "mimetype": "text/x-r-source",
   "name": "R",
   "pygments_lexer": "r",
   "version": "3.6.3"
  }
 },
 "nbformat": 4,
 "nbformat_minor": 5
}
