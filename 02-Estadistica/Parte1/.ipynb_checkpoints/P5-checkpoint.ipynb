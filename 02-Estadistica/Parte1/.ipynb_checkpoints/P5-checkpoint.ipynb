{
 "cells": [
  {
   "cell_type": "markdown",
   "id": "229076e5",
   "metadata": {},
   "source": [
    "# Práctica 5"
   ]
  },
  {
   "cell_type": "markdown",
   "id": "41f39d23",
   "metadata": {},
   "source": [
    "## Problema 1\n",
    "Realiza las siguientes tareas:\n",
    "1) Simula 50 tiradas de un dado.\n",
    "\n",
    "2) Considera la variable aleatoria, X, definida como el número que sale al tirar el dado. ¿Cuánto valen $\\bar{X}$, $S^2$, E(X), Var(X), E($\\bar{X}$) y Var($\\bar{X}$)?"
   ]
  },
  {
   "cell_type": "code",
   "execution_count": 1,
   "id": "01cb3f94",
   "metadata": {},
   "outputs": [
    {
     "data": {
      "text/html": [
       "3.34"
      ],
      "text/latex": [
       "3.34"
      ],
      "text/markdown": [
       "3.34"
      ],
      "text/plain": [
       "[1] 3.34"
      ]
     },
     "metadata": {},
     "output_type": "display_data"
    },
    {
     "data": {
      "text/html": [
       "3.4534693877551"
      ],
      "text/latex": [
       "3.4534693877551"
      ],
      "text/markdown": [
       "3.4534693877551"
      ],
      "text/plain": [
       "[1] 3.453469"
      ]
     },
     "metadata": {},
     "output_type": "display_data"
    },
    {
     "data": {
      "text/html": [
       "3.5"
      ],
      "text/latex": [
       "3.5"
      ],
      "text/markdown": [
       "3.5"
      ],
      "text/plain": [
       "[1] 3.5"
      ]
     },
     "metadata": {},
     "output_type": "display_data"
    },
    {
     "data": {
      "text/html": [
       "0.0583333333333333"
      ],
      "text/latex": [
       "0.0583333333333333"
      ],
      "text/markdown": [
       "0.0583333333333333"
      ],
      "text/plain": [
       "[1] 0.05833333"
      ]
     },
     "metadata": {},
     "output_type": "display_data"
    }
   ],
   "source": [
    "#### Ejercicio 1 ####\n",
    "\n",
    "#Simulamos las 50 tiradas del dado\n",
    "n = 50\n",
    "a = 0\n",
    "b = 6\n",
    "x = ceiling(runif(n,a,b))\n",
    "\n",
    "#Calculamos los parámetros exigidos\n",
    "\n",
    "#\\bar{X}\n",
    "mean(x)\n",
    "#s^2\n",
    "var(x)\n",
    "#E(X)\n",
    "E = (b+1)/2\n",
    "#Var(X)\n",
    "Var = (b*b-1)/12\n",
    "#E(\\bar{X}) = E(X)\n",
    "E\n",
    "#Var(\\bar{X}) = Var(X)/n\n",
    "Var/n"
   ]
  },
  {
   "cell_type": "code",
   "execution_count": 2,
   "id": "7acddc99",
   "metadata": {},
   "outputs": [
    {
     "data": {
      "image/png": "[encoded data removed]",
      "text/plain": [
       "plot without title"
      ]
     },
     "metadata": {
      "image/png": {
       "height": 420,
       "width": 420
      }
     },
     "output_type": "display_data"
    }
   ],
   "source": [
    "# Representación\n",
    "barplot(table(x))\n",
    "lines(x = c(0:7), y = rep(n/6, 8), col = \"red\", lwd = 2)\n",
    "legend(\"topright\", c(\"Distribución aleatoria\", \"Distribución teórica\"),\n",
    "       col=c(\"black\", \"red\"), lwd=3)"
   ]
  },
  {
   "cell_type": "markdown",
   "id": "0056514d",
   "metadata": {},
   "source": [
    "## Problema 2\n",
    "1) Simula 50 tiradas de dos dados.\n",
    "\n",
    "2) Considera la variable aleatoria, X, definida como la suma de los números que salen al tirar los dados. ¿Cuánto valen $\\bar{X}$, $S^2$, E(X), Var(X), E($\\bar{X}$) y Var($\\bar{X}$)?"
   ]
  },
  {
   "cell_type": "code",
   "execution_count": 14,
   "id": "450990f3",
   "metadata": {},
   "outputs": [
    {
     "data": {
      "text/html": [
       "6.76"
      ],
      "text/latex": [
       "6.76"
      ],
      "text/markdown": [
       "6.76"
      ],
      "text/plain": [
       "[1] 6.76"
      ]
     },
     "metadata": {},
     "output_type": "display_data"
    },
    {
     "data": {
      "text/html": [
       "5.98204081632653"
      ],
      "text/latex": [
       "5.98204081632653"
      ],
      "text/markdown": [
       "5.98204081632653"
      ],
      "text/plain": [
       "[1] 5.982041"
      ]
     },
     "metadata": {},
     "output_type": "display_data"
    },
    {
     "data": {
      "text/html": [
       "7"
      ],
      "text/latex": [
       "7"
      ],
      "text/markdown": [
       "7"
      ],
      "text/plain": [
       "[1] 7"
      ]
     },
     "metadata": {},
     "output_type": "display_data"
    },
    {
     "data": {
      "text/html": [
       "0.116666666666667"
      ],
      "text/latex": [
       "0.116666666666667"
      ],
      "text/markdown": [
       "0.116666666666667"
      ],
      "text/plain": [
       "[1] 0.1166667"
      ]
     },
     "metadata": {},
     "output_type": "display_data"
    }
   ],
   "source": [
    "#### Ejercicio 2 ####\n",
    "\n",
    "#Simulamos las 50 tiradas de cada dado\n",
    "n = 50\n",
    "a = 0\n",
    "b = 6\n",
    "x1 = ceiling(runif(n,a,b))\n",
    "x2 = ceiling(runif(n,a,b))\n",
    "\n",
    "#Definimos la variable aleatoria como suma de ambos experimentos\n",
    "x = x1 + x2\n",
    "\n",
    "#\\bar{X}\n",
    "mean(x)\n",
    "#s^2\n",
    "var(x)\n",
    "#E(X) = E(X1) + E(X2)\n",
    "E = (b+1)/2 + (b+1)/2\n",
    "#Var(X) = Var(X1) + Var(X2) + 0 porque al ser independientes, Cov(X1,X2) = 0\n",
    "Var = (b*b-1)/12 + (b*b-1)/12\n",
    "#E(\\bar{X}) = E(X)\n",
    "E\n",
    "#Var(\\bar{X}) = Var(X)/n\n",
    "Var/n\n",
    "\n",
    "#A la hora de representar, poner un diagrama de barras y superponer una curva con la \n",
    "#\"distribucion teórica\", que podemos sacar con una matriz donde pongamos 1:6 en los ejes\n",
    "#Y cada componente sea la suma de los índices i y j. Es decir, el elemento [i,j] = i+j\n",
    "#Porque justo coinciden los valores de los ejes con los índices\n",
    "#Debería quedar algo como:\n",
    "\n",
    "# 2 3 4 5 6 7\n",
    "# 3 4 5 6 7 8\n",
    "# 4 5 6 7 8 9\n",
    "# 5 6 7 8 9 10\n",
    "# ... "
   ]
  },
  {
   "cell_type": "code",
   "execution_count": 15,
   "id": "5a316643",
   "metadata": {},
   "outputs": [
    {
     "data": {
      "image/png": "[encoded data removed]",
      "text/plain": [
       "plot without title"
      ]
     },
     "metadata": {
      "image/png": {
       "height": 420,
       "width": 420
      }
     },
     "output_type": "display_data"
    }
   ],
   "source": [
    "# Representación\n",
    "barplot(table(x))\n",
    "teo = matrix(data = NA, nrow = 6, ncol = 6)\n",
    "for(i in 1:6){\n",
    "    for(j in 1:6){\n",
    "        teo[i,j] = i+j\n",
    "    }\n",
    "}\n",
    "lines(x = c(1:13), y = c(0,table(teo),0), col = \"red\", lwd = 2)\n",
    "legend(\"topright\", c(\"Distribución aleatoria\", \"Distribución teórica\"),\n",
    "       col=c(\"black\", \"red\"), lwd=3)"
   ]
  },
  {
   "cell_type": "markdown",
   "id": "a57dcb18",
   "metadata": {},
   "source": [
    "## Problema 3\n",
    "Realiza las siguientes tareas:\n",
    "1) Simula alturas de 50 personas de una población de altura media 176 y desviación típica 11 centímetros.\n",
    "\n",
    "2) Considera la variable aleatoria, X, definida como la altura de una persona de la población descrita anteriormente. ¿Cuánto valen $\\bar{X}$, $S^2$, E(X), Var(X), E($\\bar{X}$) y Var($\\bar{X}$)?\n"
   ]
  },
  {
   "cell_type": "code",
   "execution_count": 5,
   "id": "831f3715",
   "metadata": {},
   "outputs": [
    {
     "data": {
      "text/html": [
       "176.211294308965"
      ],
      "text/latex": [
       "176.211294308965"
      ],
      "text/markdown": [
       "176.211294308965"
      ],
      "text/plain": [
       "[1] 176.2113"
      ]
     },
     "metadata": {},
     "output_type": "display_data"
    },
    {
     "data": {
      "text/html": [
       "118.087209216794"
      ],
      "text/latex": [
       "118.087209216794"
      ],
      "text/markdown": [
       "118.087209216794"
      ],
      "text/plain": [
       "[1] 118.0872"
      ]
     },
     "metadata": {},
     "output_type": "display_data"
    },
    {
     "data": {
      "text/html": [
       "176"
      ],
      "text/latex": [
       "176"
      ],
      "text/markdown": [
       "176"
      ],
      "text/plain": [
       "[1] 176"
      ]
     },
     "metadata": {},
     "output_type": "display_data"
    },
    {
     "data": {
      "text/html": [
       "2.42"
      ],
      "text/latex": [
       "2.42"
      ],
      "text/markdown": [
       "2.42"
      ],
      "text/plain": [
       "[1] 2.42"
      ]
     },
     "metadata": {},
     "output_type": "display_data"
    }
   ],
   "source": [
    "#Simulamos las alturas de las 50 personas\n",
    "n = 50\n",
    "mu = 176\n",
    "sig = 11\n",
    "\n",
    "x = rnorm(n, mu, sig)\n",
    "\n",
    "#\\bar{X}\n",
    "mean(x)\n",
    "#s^2\n",
    "var(x)\n",
    "#E(X) = E(X1) + E(X2)\n",
    "E = mu\n",
    "#Var(X) = Var(X1) + Var(X2) + 0 porque al ser independientes, Cov(X1,X2) = 0\n",
    "Var = sig * sig\n",
    "#E(\\bar{X}) = E(X)\n",
    "E\n",
    "#Var(\\bar{X}) = Var(X)/n\n",
    "Var/n"
   ]
  },
  {
   "cell_type": "code",
   "execution_count": 6,
   "id": "050462dc",
   "metadata": {},
   "outputs": [
    {
     "data": {
      "image/png": "[encoded data removed]",
      "text/plain": [
       "Plot with title \"Histogram of x\""
      ]
     },
     "metadata": {
      "image/png": {
       "height": 420,
       "width": 420
      }
     },
     "output_type": "display_data"
    }
   ],
   "source": [
    "# Representación\n",
    "hist(x, freq = F, xlim = c(140,210))\n",
    "\n",
    "xnorm = seq(140,210,by = 0.5)\n",
    "ynorm = dnorm(xnorm, mu, sig)\n",
    "lines(xnorm, ynorm, col = \"red\", lwd = 2)\n",
    "legend(\"topright\", c(\"Distribución aleatoria\", \"Distribución teórica\"),\n",
    "       col=c(\"black\", \"red\"), lwd=3)"
   ]
  },
  {
   "cell_type": "markdown",
   "id": "b3bf3aff",
   "metadata": {},
   "source": [
    "## Problema 4\n",
    "1) Simula el número de goles marcados en 10 partidos siendo el promedio de goles por partido en la liga 2.8.\n",
    "\n",
    "2) Considera la variable aleatoria, X, definida como el número de goles en un partido de la liga anteriormente mencionada. ¿Cuánto valen $\\bar{X}$, $S^2$, E(X), Var(X), E($\\bar{X}$) y Var($\\bar{X}$)?"
   ]
  },
  {
   "cell_type": "code",
   "execution_count": 7,
   "id": "01fcf5ab",
   "metadata": {},
   "outputs": [
    {
     "data": {
      "text/html": [
       "3.9"
      ],
      "text/latex": [
       "3.9"
      ],
      "text/markdown": [
       "3.9"
      ],
      "text/plain": [
       "[1] 3.9"
      ]
     },
     "metadata": {},
     "output_type": "display_data"
    },
    {
     "data": {
      "text/html": [
       "3.43333333333333"
      ],
      "text/latex": [
       "3.43333333333333"
      ],
      "text/markdown": [
       "3.43333333333333"
      ],
      "text/plain": [
       "[1] 3.433333"
      ]
     },
     "metadata": {},
     "output_type": "display_data"
    },
    {
     "data": {
      "text/html": [
       "2.8"
      ],
      "text/latex": [
       "2.8"
      ],
      "text/markdown": [
       "2.8"
      ],
      "text/plain": [
       "[1] 2.8"
      ]
     },
     "metadata": {},
     "output_type": "display_data"
    },
    {
     "data": {
      "text/html": [
       "0.28"
      ],
      "text/latex": [
       "0.28"
      ],
      "text/markdown": [
       "0.28"
      ],
      "text/plain": [
       "[1] 0.28"
      ]
     },
     "metadata": {},
     "output_type": "display_data"
    }
   ],
   "source": [
    "n = 10\n",
    "l = 2.8\n",
    "x = rpois(n,l)\n",
    "\n",
    "#\\bar{X}\n",
    "mean(x)\n",
    "#s^2\n",
    "var(x)\n",
    "#E(X) = E(X1) + E(X2)\n",
    "E = l\n",
    "#Var(X) = Var(X1) + Var(X2) + 0 porque al ser independientes, Cov(X1,X2) = 0\n",
    "Var = l\n",
    "#E(\\bar{X}) = E(X)\n",
    "E\n",
    "#Var(\\bar{X}) = Var(X)/n\n",
    "Var/n"
   ]
  },
  {
   "cell_type": "code",
   "execution_count": 8,
   "id": "5bad8898",
   "metadata": {},
   "outputs": [
    {
     "data": {
      "image/png": "[encoded data removed]",
      "text/plain": [
       "plot without title"
      ]
     },
     "metadata": {
      "image/png": {
       "height": 420,
       "width": 420
      }
     },
     "output_type": "display_data"
    }
   ],
   "source": [
    "# Representación\n",
    "barplot(table(x))"
   ]
  },
  {
   "cell_type": "markdown",
   "id": "d0f5758c",
   "metadata": {},
   "source": [
    "## Problema 5\n",
    "Simula las posiciones de 32 fichas colocadas al azar en un tablero de 8 por 8 casillas, teniendo en cuenta que solo puede haber una ficha por casilla."
   ]
  },
  {
   "cell_type": "code",
   "execution_count": 9,
   "id": "a80c8cc5",
   "metadata": {},
   "outputs": [
    {
     "data": {
      "image/png": "[encoded data removed]",
      "text/plain": [
       "plot without title"
      ]
     },
     "metadata": {
      "image/png": {
       "height": 420,
       "width": 420
      }
     },
     "output_type": "display_data"
    }
   ],
   "source": [
    "# Generamos las fichas\n",
    "n = 32\n",
    "fichas = n\n",
    "tablero = matrix(data = 0, nrow = 8, ncol = 8)\n",
    "\n",
    "for (i in 1:8){\n",
    "  for(j in 1:8){\n",
    "    \n",
    "    if(sample(c(0,1),1) == 1){\n",
    "      tablero[i,j] = 1\n",
    "      fichas = fichas - 1\n",
    "    }\n",
    "    if(fichas == 0){\n",
    "      break\n",
    "    }\n",
    "  }\n",
    "}\n",
    "\n",
    "image(tablero, col = hcl.colors(2,\"Grays\"))"
   ]
  }
 ],
 "metadata": {
  "kernelspec": {
   "display_name": "R",
   "language": "R",
   "name": "ir"
  },
  "language_info": {
   "codemirror_mode": "r",
   "file_extension": ".r",
   "mimetype": "text/x-r-source",
   "name": "R",
   "pygments_lexer": "r",
   "version": "3.6.3"
  }
 },
 "nbformat": 4,
 "nbformat_minor": 5
}
