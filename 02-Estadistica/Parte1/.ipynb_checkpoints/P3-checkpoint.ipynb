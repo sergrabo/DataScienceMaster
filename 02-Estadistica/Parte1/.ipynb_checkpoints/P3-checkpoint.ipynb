{
 "cells": [
  {
   "cell_type": "markdown",
   "id": "229076e5",
   "metadata": {},
   "source": [
    "# Práctica 3"
   ]
  },
  {
   "cell_type": "markdown",
   "id": "41f39d23",
   "metadata": {},
   "source": [
    "## Problema 1:\n",
    "Estamos esperando un tren que llegará en los próximos 100 minutos pero desconocemos\n",
    "el momento exacto. Definimos la variable aleatoria X = \"tiempo de espera en minutos\"."
   ]
  },
  {
   "cell_type": "code",
   "execution_count": 4,
   "id": "1c30359b",
   "metadata": {},
   "outputs": [
    {
     "data": {
      "text/html": [
       "50"
      ],
      "text/latex": [
       "50"
      ],
      "text/markdown": [
       "50"
      ],
      "text/plain": [
       "[1] 50"
      ]
     },
     "metadata": {},
     "output_type": "display_data"
    },
    {
     "data": {
      "text/html": [
       "833.333333333333"
      ],
      "text/latex": [
       "833.333333333333"
      ],
      "text/markdown": [
       "833.333333333333"
      ],
      "text/plain": [
       "[1] 833.3333"
      ]
     },
     "metadata": {},
     "output_type": "display_data"
    }
   ],
   "source": [
    "# a) X sigue una distribución uniforme\n",
    "# Utilizamos las expresiones teóricas para E(X) y Var(X)\n",
    "E_teo = (100+0)/2\n",
    "Var_teo = (100 + 0)^2/12\n",
    "\n",
    "E_teo\n",
    "Var_teo"
   ]
  },
  {
   "cell_type": "code",
   "execution_count": 59,
   "id": "b05ac425",
   "metadata": {},
   "outputs": [
    {
     "data": {
      "text/html": [
       "46.9129109871574"
      ],
      "text/latex": [
       "46.9129109871574"
      ],
      "text/markdown": [
       "46.9129109871574"
      ],
      "text/plain": [
       "[1] 46.91291"
      ]
     },
     "metadata": {},
     "output_type": "display_data"
    },
    {
     "data": {
      "text/html": [
       "750.019716624866"
      ],
      "text/latex": [
       "750.019716624866"
      ],
      "text/markdown": [
       "750.019716624866"
      ],
      "text/plain": [
       "[1] 750.0197"
      ]
     },
     "metadata": {},
     "output_type": "display_data"
    }
   ],
   "source": [
    "#b) Muestra aleatoria uniforme \n",
    "n = 30\n",
    "mean(runif(n, 0, 100))\n",
    "var(runif(n, 0, 100))"
   ]
  },
  {
   "cell_type": "markdown",
   "id": "162f92c9",
   "metadata": {},
   "source": [
    "Observamos que los valores de $\\bar{X}$ y $S^2$ diferen considerablemente de los valores teóricos obtenidos para el valor esperado y la varianza. Esto se debe a que el tamaño muestral ($n=30$) es demasiado pequeño."
   ]
  },
  {
   "cell_type": "code",
   "execution_count": 14,
   "id": "0f801159",
   "metadata": {},
   "outputs": [
    {
     "data": {
      "text/html": [
       "50"
      ],
      "text/latex": [
       "50"
      ],
      "text/markdown": [
       "50"
      ],
      "text/plain": [
       "[1] 50"
      ]
     },
     "metadata": {},
     "output_type": "display_data"
    },
    {
     "data": {
      "text/html": [
       "27.7777777777778"
      ],
      "text/latex": [
       "27.7777777777778"
      ],
      "text/markdown": [
       "27.7777777777778"
      ],
      "text/plain": [
       "[1] 27.77778"
      ]
     },
     "metadata": {},
     "output_type": "display_data"
    },
    {
     "data": {
      "text/html": [
       "8.33333333333333"
      ],
      "text/latex": [
       "8.33333333333333"
      ],
      "text/markdown": [
       "8.33333333333333"
      ],
      "text/plain": [
       "[1] 8.333333"
      ]
     },
     "metadata": {},
     "output_type": "display_data"
    }
   ],
   "source": [
    "#c) Fórmulas E(\\bar{X}), Var(\\bar{X}) (p.36 de los apuntes)\n",
    "E_muest = E_teo\n",
    "Var30 = Var_teo/30\n",
    "Var100 = Var_teo/100\n",
    "\n",
    "E_muest\n",
    "Var30\n",
    "Var100"
   ]
  },
  {
   "cell_type": "markdown",
   "id": "f46fd8be",
   "metadata": {},
   "source": [
    "Observamos como, por definición, $E(\\bar{X}) = E(X) = 50$.\n",
    "\n",
    "Por otro lado, cuanto mayor sea el tamaño de la muestra, menor será la varianza muestral, ya que $Var(\\bar{X}) = \\frac{Var(X)}{n}$.\n"
   ]
  },
  {
   "cell_type": "code",
   "execution_count": 58,
   "id": "43c9a7f9",
   "metadata": {},
   "outputs": [
    {
     "data": {
      "text/html": [
       "49.9675151115283"
      ],
      "text/latex": [
       "49.9675151115283"
      ],
      "text/markdown": [
       "49.9675151115283"
      ],
      "text/plain": [
       "[1] 49.96752"
      ]
     },
     "metadata": {},
     "output_type": "display_data"
    },
    {
     "data": {
      "text/html": [
       "26.7475625828035"
      ],
      "text/latex": [
       "26.7475625828035"
      ],
      "text/markdown": [
       "26.7475625828035"
      ],
      "text/plain": [
       "[1] 26.74756"
      ]
     },
     "metadata": {},
     "output_type": "display_data"
    }
   ],
   "source": [
    "#d) Simulamos 500 muestras de tamaño 30\n",
    "m30 = matrix(data = NA, nrow = 30, ncol = 500)\n",
    "for(i in c(1:500)){\n",
    "  m30[,i] = runif(30, 0, 100)\n",
    "}\n",
    "# e) Calculamos las medias muestrales de las 500 muestras\n",
    "meanbycol30 = colMeans(m30)\n",
    "# f) Calculamos media y varianza de las medias muestrales\n",
    "E30 = mean(meanbycol30)\n",
    "V30 = var(meanbycol30)\n",
    "\n",
    "E30\n",
    "V30"
   ]
  },
  {
   "cell_type": "markdown",
   "id": "fe8fa319",
   "metadata": {},
   "source": [
    "En esencia, lo que se realiza en esta celda es la aplicación del Teorema Central del Límite (TCL), obteniendo unos valores de media muestral y varianza muestral muy similares a los del apartado anterior, ya que ahora disponemos de un número mayor de muestras con las que realizar cálculos estadísticos."
   ]
  },
  {
   "cell_type": "code",
   "execution_count": 60,
   "id": "3cabb4ab",
   "metadata": {},
   "outputs": [
    {
     "data": {
      "text/html": [
       "50.1643404663438"
      ],
      "text/latex": [
       "50.1643404663438"
      ],
      "text/markdown": [
       "50.1643404663438"
      ],
      "text/plain": [
       "[1] 50.16434"
      ]
     },
     "metadata": {},
     "output_type": "display_data"
    },
    {
     "data": {
      "text/html": [
       "9.01337335505064"
      ],
      "text/latex": [
       "9.01337335505064"
      ],
      "text/markdown": [
       "9.01337335505064"
      ],
      "text/plain": [
       "[1] 9.013373"
      ]
     },
     "metadata": {},
     "output_type": "display_data"
    }
   ],
   "source": [
    "# g) Repetimos para tamaño n = 100\n",
    "m100 = matrix(data = NA, nrow = 100, ncol = 500)\n",
    "for(i in c(1:500)){\n",
    "  m100[,i] = runif(100, 0, 100)\n",
    "}\n",
    "meanbycol100 = colMeans(m100)\n",
    "E100 = mean(meanbycol100)\n",
    "V100 = var(meanbycol100)\n",
    "\n",
    "E100\n",
    "V100"
   ]
  },
  {
   "cell_type": "markdown",
   "id": "fffafa1f",
   "metadata": {},
   "source": [
    "Nuevamente, los valores obtenidos para la media muestral y varianza muestral son muy similares a los del apartado c). Como se ha mencionado antes, la varianza se reduce al estar trabajando con muestras te tamaño $n=100$."
   ]
  },
  {
   "cell_type": "code",
   "execution_count": 76,
   "id": "5d637a45",
   "metadata": {
    "scrolled": false
   },
   "outputs": [
    {
     "data": {
      "image/png": "[encoded data removed]",
      "text/plain": [
       "Plot with title \"n=100\""
      ]
     },
     "metadata": {
      "image/png": {
       "height": 420,
       "width": 420
      }
     },
     "output_type": "display_data"
    }
   ],
   "source": [
    "# h)\n",
    "par(mfrow = c(2,1))\n",
    "\n",
    "min = 30\n",
    "max = 70\n",
    "\n",
    "x30 = seq(min, max, by = .1)\n",
    "y30 = dnorm(x, mean = E_teo, sd = sqrt(Var_teo/30))\n",
    "x100 = x30\n",
    "y100 = dnorm(x, mean = E_teo, sd = sqrt(Var_teo/100))\n",
    "\n",
    "ymax = max(y100)\n",
    "\n",
    "hist(meanbycol30,\n",
    "     freq = F,\n",
    "     xlim = c(min, max),\n",
    "     ylim = c(0,ymax),\n",
    "     xlab = \"Tiempo (min)\", \n",
    "     ylab = \"Frecuencia\",\n",
    "     main = \"n=30\")\n",
    "\n",
    "lines(x30, y30, col = \"red\", lwd = 2)\n",
    "\n",
    "hist(meanbycol100,\n",
    "     freq = F,\n",
    "     xlim = c(min, max),\n",
    "     ylim = c(0,ymax),\n",
    "     xlab = \"Tiempo (min)\", \n",
    "     ylab = \"Frecuencia\",\n",
    "     main = \"n=100\")\n",
    "\n",
    "lines(x100, y100, col = \"red\", lwd = 2)"
   ]
  },
  {
   "cell_type": "markdown",
   "id": "24ba4eb5",
   "metadata": {},
   "source": [
    "Estamos ante un claro ejemplo de cómo funciona el TLC. Para un tamaño muestral pequeño, $n=30$, la distribución de la variable X apenas se asemeja a una normal. Sin embargo, al aumentar el tamaño muestral a $n=100$, la distribución se ajusta mejor, tal y como predice el TLC. De hecho, de seguir aumentando el tamaño muestral, por ejemplo $n=1000$"
   ]
  }
 ],
 "metadata": {
  "kernelspec": {
   "display_name": "R",
   "language": "R",
   "name": "ir"
  },
  "language_info": {
   "codemirror_mode": "r",
   "file_extension": ".r",
   "mimetype": "text/x-r-source",
   "name": "R",
   "pygments_lexer": "r",
   "version": "3.6.3"
  }
 },
 "nbformat": 4,
 "nbformat_minor": 5
}
