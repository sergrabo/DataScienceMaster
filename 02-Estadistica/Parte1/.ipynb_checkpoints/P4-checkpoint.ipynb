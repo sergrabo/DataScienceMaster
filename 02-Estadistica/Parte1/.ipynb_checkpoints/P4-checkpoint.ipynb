{
 "cells": [
  {
   "cell_type": "markdown",
   "id": "229076e5",
   "metadata": {},
   "source": [
    "# Práctica 4"
   ]
  },
  {
   "cell_type": "markdown",
   "id": "41f39d23",
   "metadata": {},
   "source": [
    "## Problema 1\n",
    "Simula los siguientes experimentos aleatorios usando la función runif:"
   ]
  },
  {
   "cell_type": "code",
   "execution_count": 16,
   "id": "4ff07f6b",
   "metadata": {},
   "outputs": [
    {
     "data": {
      "text/html": [
       "0.252"
      ],
      "text/latex": [
       "0.252"
      ],
      "text/markdown": [
       "0.252"
      ],
      "text/plain": [
       "[1] 0.252"
      ]
     },
     "metadata": {},
     "output_type": "display_data"
    }
   ],
   "source": [
    "# Ver cuantos bastos salen en n intentos\n",
    "bastos = 0\n",
    "n = 1000\n",
    "random = runif(n)\n",
    "p = 1/4 # prob teórica de sacar un basto\n",
    "\n",
    "for(i in 1:n){\n",
    "  if(random[i] < p){\n",
    "    bastos = bastos + 1\n",
    "  }\n",
    "  \n",
    "}\n",
    "bastos/n #Comparamos con la probabilidad p\n",
    "\n"
   ]
  },
  {
   "cell_type": "markdown",
   "id": "89f46ff8",
   "metadata": {},
   "source": [
    "## Problema 2\n",
    "El número de kilómetros recorridos, X, hasta que se produce una caída en una\n",
    "determinada carrera ciclista se puede modelizar con una distribución exponencial con función\n",
    "densidad $f(x) = \\lambda e^{-\\lambda x}$. Siendo $\\lambda = 0,01$ el número medio de caídas por kiómetro."
   ]
  },
  {
   "cell_type": "code",
   "execution_count": 20,
   "id": "36254828",
   "metadata": {},
   "outputs": [
    {
     "data": {
      "image/png": "[encoded data removed]",
      "text/plain": [
       "Plot with title \"Distribución de probabilidad usando función inversa\""
      ]
     },
     "metadata": {
      "image/png": {
       "height": 420,
       "width": 420
      }
     },
     "output_type": "display_data"
    }
   ],
   "source": [
    "# f(x) = l*e^{-l*x}\n",
    "\n",
    "# Simulamos utilizando el método de la función de distribución\n",
    "# F(x) = 1-e^{-l*x}\n",
    "# x = F^{-1}(U) = -log(1-U)/l\n",
    "\n",
    "#Definimos lambda\n",
    "l = 0.01\n",
    "\n",
    "n = 1e3\n",
    "\n",
    "#Simulamos la función de distribución inversa\n",
    "x = -log(1-runif(n))/l\n",
    "\n",
    "#Representamos\n",
    "hist(x, freq = F, main = \"Distribución de probabilidad usando función inversa\")\n",
    "curve(l*exp(-l*x), add = T, col = \"red\")\n",
    "legend(\"topright\", c(\"Distribución aleatoria\", \"Distribución teórica\"),\n",
    "       col=c(\"black\", \"red\"), lwd=3)"
   ]
  },
  {
   "cell_type": "markdown",
   "id": "9de5b9e5",
   "metadata": {},
   "source": [
    "## Problema 3:\n",
    "El tamaño angular en grados, X, de unos determinados objetos en el cielo es una\n",
    "variable aleatoria X con función densidad $f(x) = Kx^{-3}$ siendo $x > 1$ por razones físicas."
   ]
  },
  {
   "cell_type": "markdown",
   "id": "4b922151",
   "metadata": {},
   "source": [
    "Para obtener la constante K simplemente integramos para normalizar la función:"
   ]
  },
  {
   "cell_type": "markdown",
   "id": "72a592d3",
   "metadata": {},
   "source": [
    "$$\n",
    "1 = \\int_1^{\\infty}Kx^{-3} = K \\left[\\frac{x^{-2}}{-2}\\right]_1^{\\infty} = \\frac{K}{2} \\Rightarrow K = 2\n",
    "$$"
   ]
  },
  {
   "cell_type": "code",
   "execution_count": 28,
   "id": "fb05ae25",
   "metadata": {},
   "outputs": [
    {
     "data": {
      "image/png": "[encoded data removed]",
      "text/plain": [
       "Plot with title \"Distribución de probabilidad usando función inversa\""
      ]
     },
     "metadata": {
      "image/png": {
       "height": 420,
       "width": 420
      }
     },
     "output_type": "display_data"
    }
   ],
   "source": [
    "#a) Integrando f(x) entre 1 y inf e igualando a 1 sale que K=2\n",
    "\n",
    "K = 2\n",
    "\n",
    "# b) Como no está acotado el dominio (ni en x ni en y) no podemos usar el\n",
    "# método del rechazo, y como no es gaussiana tampoco podemos usar\n",
    "# box muller. Usamos el método de la función de distribución F(x)\n",
    "\n",
    "# f(x) = Kx^{-3}\n",
    "# F(x) = K/2(1-1/x^2)\n",
    "# x = F^{-1}(U) = sqrt(1/(1-2U/K))\n",
    "\n",
    "#Simulamos\n",
    "n=1000\n",
    "x = sqrt(1/(1-2*runif(n)/K))\n",
    "\n",
    "hist(x, freq = F, 50, xlim = c(0,10),\n",
    "     main = \"Distribución de probabilidad usando función inversa\")\n",
    "curve(K*x^-3, add = T, col = \"blue\")\n",
    "legend(\"topright\", c(\"Distribución aleatoria\", \"Distribución teórica\"),\n",
    "       col=c(\"black\", \"blue\"), lwd=3)"
   ]
  }
 ],
 "metadata": {
  "kernelspec": {
   "display_name": "R",
   "language": "R",
   "name": "ir"
  },
  "language_info": {
   "codemirror_mode": "r",
   "file_extension": ".r",
   "mimetype": "text/x-r-source",
   "name": "R",
   "pygments_lexer": "r",
   "version": "3.6.3"
  }
 },
 "nbformat": 4,
 "nbformat_minor": 5
}
