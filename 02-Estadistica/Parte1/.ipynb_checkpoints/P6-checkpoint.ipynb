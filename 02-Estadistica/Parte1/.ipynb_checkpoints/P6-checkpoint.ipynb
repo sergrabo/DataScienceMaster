{
 "cells": [
  {
   "cell_type": "markdown",
   "id": "c1fd0c34",
   "metadata": {},
   "source": [
    "# Práctica 6"
   ]
  },
  {
   "cell_type": "markdown",
   "id": "d96afac7",
   "metadata": {},
   "source": [
    "## Problema 1\n",
    "Considera los datos de testosterona de 30 ciclistas del mismo equipo que figuran\n",
    "en el archivo test.txt y que el nivel medio de testosterona en sangre para un hombre adulto es\n",
    "de 600 ng/dL."
   ]
  },
  {
   "cell_type": "code",
   "execution_count": 1,
   "id": "d4fdc14f",
   "metadata": {},
   "outputs": [],
   "source": [
    "setwd(\"C:/Users/sergr/OneDrive/Universidad/MasterDataScience/NotebooksLocal/EstadisticaParte1\")\n",
    "data = scan(\"test.txt\")\n",
    "mu0 = 600"
   ]
  },
  {
   "cell_type": "markdown",
   "id": "bac2aac4",
   "metadata": {},
   "source": [
    "a) Representa gráficamente los datos y guarda la gráfica en un archivo. Comenta la gráfica\n",
    "comparando con el valor medio de un hombre adulto."
   ]
  },
  {
   "cell_type": "code",
   "execution_count": 2,
   "id": "a9553b0d",
   "metadata": {
    "scrolled": false
   },
   "outputs": [
    {
     "data": {
      "image/png": "[encoded data removed]",
      "text/plain": [
       "plot without title"
      ]
     },
     "metadata": {
      "image/png": {
       "height": 420,
       "width": 420
      }
     },
     "output_type": "display_data"
    }
   ],
   "source": [
    "# a)\n",
    "plot(data)\n",
    "lines(1:length(data), rep(mu0, length(data)), col = \"red\")"
   ]
  },
  {
   "cell_type": "markdown",
   "id": "57effdb7",
   "metadata": {},
   "source": [
    "Como podemos obsevar, un gran número de datos se encuentran por encima de la media, lo que nos puede hacer pensar que nos encontramos ante un caso de dopping. Lo comprobamos realizando un test de hipótesis."
   ]
  },
  {
   "cell_type": "markdown",
   "id": "503ee60c",
   "metadata": {},
   "source": [
    "b) Realiza un test de hipótesis para determinar si en ese equipo utilizan dopaje con testosterona en base a los datos. Elige el $\\alpha$ que consideres oportuno y comenta el resultado."
   ]
  },
  {
   "cell_type": "markdown",
   "id": "802167c5",
   "metadata": {},
   "source": [
    "Nuestras hipótesis son:\n",
    "* $H_0$: No hay dopaje, por tanto la media de testosterona en sangre es igual a $\\mu_0\\Rightarrow\\mu=\\mu_0$\n",
    "* $H_1$: Hay dopaje, por tanto la media de testosterona en sangre superior a $\\mu_0\\Rightarrow\\mu>\\mu_0$\n",
    "\n",
    "Además, utilizamos un valor de $\\alpha=0.05$, indicando que la probabilidad de rechazar $H_0$ cuando es cierta, que en este caso será de un 5%."
   ]
  },
  {
   "cell_type": "code",
   "execution_count": 3,
   "id": "f3fc1624",
   "metadata": {},
   "outputs": [
    {
     "name": "stdout",
     "output_type": "stream",
     "text": [
      "[1] \"Rechazamos la hipótesis nula, H0\"\n"
     ]
    }
   ],
   "source": [
    "alpha = 0.05\n",
    "test = t.test(data, mu = mu0, alternative = \"greater\")\n",
    "\n",
    "if(test$p.value < alpha){\n",
    "  print(\"Rechazamos la hipótesis nula, H0\")\n",
    "}else{\n",
    "  print(\"Rechazamos la hipótesis alternativa, H1\")\n",
    "}"
   ]
  },
  {
   "cell_type": "markdown",
   "id": "5b743ac5",
   "metadata": {},
   "source": [
    "Al rechazar la hipótesis nula, se confirma que realizan dopaje."
   ]
  },
  {
   "cell_type": "markdown",
   "id": "b73574b9",
   "metadata": {},
   "source": [
    "c) Calcula la probabilidad de que un ciclista presente más de 1000 ng/dL en sangre sin haberse\n",
    "dopado. Considera que la desviación típica de un hombre adulto no dopado es 200 ng/dL."
   ]
  },
  {
   "cell_type": "code",
   "execution_count": 4,
   "id": "f90fb212",
   "metadata": {},
   "outputs": [
    {
     "data": {
      "text/html": [
       "0.0227501319481792"
      ],
      "text/latex": [
       "0.0227501319481792"
      ],
      "text/markdown": [
       "0.0227501319481792"
      ],
      "text/plain": [
       "[1] 0.02275013"
      ]
     },
     "metadata": {},
     "output_type": "display_data"
    }
   ],
   "source": [
    "# c)\n",
    "sigma = 200\n",
    "pnorm(1000, mu0, sigma, lower.tail = F)"
   ]
  },
  {
   "cell_type": "markdown",
   "id": "0cf2c614",
   "metadata": {},
   "source": [
    "d) ¿Qué nivel de testosterona elegirías como límite para que la probabilidad de acusar a un\n",
    "inocente sea de 1 entre 20000?"
   ]
  },
  {
   "cell_type": "code",
   "execution_count": 5,
   "id": "ccddec2f",
   "metadata": {},
   "outputs": [
    {
     "data": {
      "text/html": [
       "1378.11837728262"
      ],
      "text/latex": [
       "1378.11837728262"
      ],
      "text/markdown": [
       "1378.11837728262"
      ],
      "text/plain": [
       "[1] 1378.118"
      ]
     },
     "metadata": {},
     "output_type": "display_data"
    }
   ],
   "source": [
    "#d)\n",
    "alpha_new = 1/20000\n",
    "qnorm(1-alpha_new, mu0, sigma)"
   ]
  },
  {
   "cell_type": "markdown",
   "id": "b7830655",
   "metadata": {},
   "source": [
    "## Problema 2\n",
    "Los hombres adultos nacidos en Holanda tienen una altura media de 183.8 cm.\n",
    "Disponemos de los datos de altura de un grupo de hombres adultos en el archivo Altura.csv."
   ]
  },
  {
   "cell_type": "markdown",
   "id": "ec4e5a95",
   "metadata": {},
   "source": [
    "a) Representa gráficamente los datos y comenta cualitativamente si parecen holandeses o no."
   ]
  },
  {
   "cell_type": "code",
   "execution_count": 6,
   "id": "d5b10103",
   "metadata": {},
   "outputs": [
    {
     "data": {
      "image/png": "[encoded data removed]",
      "text/plain": [
       "Plot with title \"Distribución de alturas\""
      ]
     },
     "metadata": {
      "image/png": {
       "height": 420,
       "width": 420
      }
     },
     "output_type": "display_data"
    }
   ],
   "source": [
    "# a)\n",
    "mu0 = 183.8\n",
    "alturas = read.csv(\"Altura.csv\")\n",
    "hist(alturas$Altura, main = \"Distribución de alturas\", breaks = 15)\n",
    "abline(v = mu0, col = \"red\", lwd = 2)\n",
    "legend(\"topright\", \"mu_0\", col=\"red\", lwd=2)"
   ]
  },
  {
   "cell_type": "markdown",
   "id": "f2147c78",
   "metadata": {},
   "source": [
    "Como podemos observar, la distribución parece estar ligeramente desplazada con respecto a la media de los holandeses, $\\mu_0$, por lo que realizaremos un test de hipótesis."
   ]
  },
  {
   "cell_type": "markdown",
   "id": "4e7ca071",
   "metadata": {},
   "source": [
    "b) Realiza un test de hipótesis para determinar en base a la altura, si el grupo de hombres\n",
    "son nacidos en Holanda. Explica el resultado del test."
   ]
  },
  {
   "cell_type": "code",
   "execution_count": 7,
   "id": "1af1d347",
   "metadata": {},
   "outputs": [
    {
     "name": "stdout",
     "output_type": "stream",
     "text": [
      "[1] \"Rechazamos la hipótesis alternativa, H1\"\n"
     ]
    }
   ],
   "source": [
    "# b)\n",
    "alpha = 0.05\n",
    "test = t.test(alturas$Altura, mu = mu0)\n",
    "\n",
    "if(test$p.value < alpha){\n",
    "  print(\"Rechazamos la hipótesis nula, H0\")\n",
    "}else{\n",
    "  print(\"Rechazamos la hipótesis alternativa, H1\")\n",
    "}"
   ]
  },
  {
   "cell_type": "markdown",
   "id": "bf7626a0",
   "metadata": {},
   "source": [
    "Al rechazar la hipótesis alternativa, nos quedamos con la hipótesis nula, por lo que efectivamente el grupo de hombre son holandeses (con una significancia del 5%)."
   ]
  }
 ],
 "metadata": {
  "kernelspec": {
   "display_name": "R",
   "language": "R",
   "name": "ir"
  },
  "language_info": {
   "codemirror_mode": "r",
   "file_extension": ".r",
   "mimetype": "text/x-r-source",
   "name": "R",
   "pygments_lexer": "r",
   "version": "3.6.3"
  }
 },
 "nbformat": 4,
 "nbformat_minor": 5
}
