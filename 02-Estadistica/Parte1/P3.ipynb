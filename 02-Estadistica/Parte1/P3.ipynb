{
 "cells": [
  {
   "cell_type": "markdown",
   "id": "229076e5",
   "metadata": {},
   "source": [
    "# Práctica 3"
   ]
  },
  {
   "cell_type": "markdown",
   "id": "41f39d23",
   "metadata": {},
   "source": [
    "## Problema 1:\n",
    "Estamos esperando un tren que llegará en los próximos 100 minutos pero desconocemos\n",
    "el momento exacto. Definimos la variable aleatoria X = \"tiempo de espera en minutos\"."
   ]
  },
  {
   "cell_type": "markdown",
   "id": "d4f7f2e3",
   "metadata": {},
   "source": [
    "a) Considera que X es una variable aleatoria uniforme en el intervalo [0, 100]. ¿Cuánto vale\n",
    "E(X) y Var(X)?"
   ]
  },
  {
   "cell_type": "code",
   "execution_count": 1,
   "id": "c745cb86",
   "metadata": {},
   "outputs": [
    {
     "name": "stdout",
     "output_type": "stream",
     "text": [
      "Valor esperado: 50\n",
      "Varianza: 833.3333"
     ]
    }
   ],
   "source": [
    "# a) X sigue una distribución uniforme\n",
    "# Utilizamos las expresiones teóricas para E(X) y Var(X)\n",
    "E_teo = (100+0)/2\n",
    "Var_teo = (100 + 0)^2/12\n",
    "\n",
    "cat(\"Valor esperado:\", E_teo)\n",
    "cat(\"\\n\")\n",
    "cat(\"Varianza:\", Var_teo)"
   ]
  },
  {
   "cell_type": "markdown",
   "id": "c208175f",
   "metadata": {},
   "source": [
    "b) Simula los tiempos de espera de una muestra aleatoria de personas con tamaño muestral\n",
    "n = 30 y calcula la media muestral, $\\bar{X}$ y la varianza muestral $S^2$."
   ]
  },
  {
   "cell_type": "code",
   "execution_count": 2,
   "id": "6bb28b0c",
   "metadata": {},
   "outputs": [
    {
     "name": "stdout",
     "output_type": "stream",
     "text": [
      "Media muestral: 57.54056\n",
      "Varianza muestral: 996.0693"
     ]
    }
   ],
   "source": [
    "#b) Muestra aleatoria uniforme \n",
    "n = 30\n",
    "cat(\"Media muestral:\", mean(runif(n, 0, 100)))\n",
    "cat(\"\\n\")\n",
    "cat(\"Varianza muestral:\",var(runif(n, 0, 100)))"
   ]
  },
  {
   "cell_type": "markdown",
   "id": "61d45a50",
   "metadata": {},
   "source": [
    "Observamos que los valores de $\\bar{X}$ y $S^2$ diferen considerablemente de los valores teóricos obtenidos para el valor esperado y la varianza. Esto se debe a que el tamaño muestral ($n=30$) es demasiado pequeño."
   ]
  },
  {
   "cell_type": "markdown",
   "id": "bc1d226b",
   "metadata": {},
   "source": [
    "c) ¿Cuanto valen E($\\bar{X}$) y Var($\\bar{X}$) para n = 30? Y si aumentaramos a n = 100?"
   ]
  },
  {
   "cell_type": "code",
   "execution_count": 3,
   "id": "631a00dd",
   "metadata": {},
   "outputs": [
    {
     "name": "stdout",
     "output_type": "stream",
     "text": [
      "Valor esperado de la media muestral para n = 30: 50\n",
      "Valor esperado de la media muestral para n = 100: 50\n",
      "Valor esperado de la varianza muestral para n = 30: 27.77778\n",
      "Valor esperado de la varianza muestral para n = 100: 8.333333"
     ]
    }
   ],
   "source": [
    "#c) Fórmulas E(\\bar{X}), Var(\\bar{X}) (p.36 de los apuntes)\n",
    "E_muest = E_teo\n",
    "Var30 = Var_teo/30\n",
    "Var100 = Var_teo/100\n",
    "\n",
    "cat(\"Valor esperado de la media muestral para n = 30:\", E_muest)\n",
    "cat(\"\\n\")\n",
    "cat(\"Valor esperado de la media muestral para n = 100:\", E_muest)\n",
    "cat(\"\\n\")\n",
    "cat(\"Valor esperado de la varianza muestral para n = 30:\", Var30)\n",
    "cat(\"\\n\")\n",
    "cat(\"Valor esperado de la varianza muestral para n = 100:\", Var100)"
   ]
  },
  {
   "cell_type": "markdown",
   "id": "f64e6a74",
   "metadata": {},
   "source": [
    "Observamos como, por definición, $E(\\bar{X}) = E(X) = 50$, para cualquier tamaño de n.\n",
    "\n",
    "Por otro lado, cuanto mayor sea el tamaño de la muestra, menor será la varianza muestral, ya que $Var(\\bar{X}) = \\frac{Var(X)}{n}$.\n"
   ]
  },
  {
   "cell_type": "markdown",
   "id": "fe787980",
   "metadata": {},
   "source": [
    "d) Simula 500 muestras aleatorias de tama~no n = 30 de la variable X. Recomendación: Introduce las muestras en una matriz de 30 filas y 500 columnas.\n",
    "\n",
    "e) Calcula las 500 medias muestrales, es decir $\\bar{X}_1$, ...$\\bar{X}_500$. Recomendación: Utiliza el\n",
    "comando colMeans .\n",
    "\n",
    "f) Calcula la media y varianza de las 500 medias muestrales y comparalas con los valores\n",
    "obtenidos en el tercer apartado."
   ]
  },
  {
   "cell_type": "code",
   "execution_count": 4,
   "id": "7d3486f5",
   "metadata": {},
   "outputs": [
    {
     "name": "stdout",
     "output_type": "stream",
     "text": [
      "Valor esperado de la media muestral para n = 30: 49.8858\n",
      "Valor esperado de la varianza muestral para n = 30: 24.46326"
     ]
    }
   ],
   "source": [
    "#d) Simulamos 500 muestras de tamaño 30\n",
    "m30 = matrix(data = NA, nrow = 30, ncol = 500)\n",
    "for(i in c(1:500)){\n",
    "  m30[,i] = runif(30, 0, 100)\n",
    "}\n",
    "# e) Calculamos las medias muestrales de las 500 muestras\n",
    "meanbycol30 = colMeans(m30)\n",
    "# f) Calculamos media y varianza de las medias muestrales\n",
    "E30 = mean(meanbycol30)\n",
    "V30 = var(meanbycol30)\n",
    "\n",
    "cat(\"Valor esperado de la media muestral para n = 30:\", E30)\n",
    "cat(\"\\n\")\n",
    "cat(\"Valor esperado de la varianza muestral para n = 30:\",V30)"
   ]
  },
  {
   "cell_type": "markdown",
   "id": "314b561d",
   "metadata": {},
   "source": [
    "En esencia, lo que se realiza en esta celda es la aplicación del Teorema Central del Límite (TCL), obteniendo unos valores de media muestral y varianza muestral muy similares a los valores esperados del apartado anterior, ya que ahora disponemos de un número mayor de muestras con las que realizar cálculos estadísticos."
   ]
  },
  {
   "cell_type": "markdown",
   "id": "3900d25d",
   "metadata": {},
   "source": [
    "g) Repite los tres pasos anteriores para 500 muestras aleatorias de tamaño n = 100."
   ]
  },
  {
   "cell_type": "code",
   "execution_count": 5,
   "id": "1fa6857c",
   "metadata": {},
   "outputs": [
    {
     "name": "stdout",
     "output_type": "stream",
     "text": [
      "Valor esperado de la media muestral para n = 100: 50.02892\n",
      "Valor esperado de la varianza muestral para n = 100: 8.958722"
     ]
    }
   ],
   "source": [
    "# g) Repetimos para tamaño n = 100\n",
    "m100 = matrix(data = NA, nrow = 100, ncol = 500)\n",
    "for(i in c(1:500)){\n",
    "  m100[,i] = runif(100, 0, 100)\n",
    "}\n",
    "meanbycol100 = colMeans(m100)\n",
    "E100 = mean(meanbycol100)\n",
    "V100 = var(meanbycol100)\n",
    "\n",
    "cat(\"Valor esperado de la media muestral para n = 100:\", E100)\n",
    "cat(\"\\n\")\n",
    "cat(\"Valor esperado de la varianza muestral para n = 100:\",V100)"
   ]
  },
  {
   "cell_type": "markdown",
   "id": "06a663ba",
   "metadata": {},
   "source": [
    "Nuevamente, los valores obtenidos para la media muestral y varianza muestral son muy similares a los del apartado c). Como se ha mencionado antes, la varianza se reduce al estar trabajando con muestras te tamaño $n=100$."
   ]
  },
  {
   "cell_type": "markdown",
   "id": "0009a70f",
   "metadata": {},
   "source": [
    "h) Representa las 500 medias de tamaño n = 30 y las 500 medias de tamaño n = 100 mediante\n",
    "dos histogramas en una gráfica de dos paneles. \n",
    "\n",
    "i) Superpón a cada histograma la función densidad normal con $\\mu$ = E(X) y $\\sigma^2$ = Var(X)=n."
   ]
  },
  {
   "cell_type": "code",
   "execution_count": 6,
   "id": "5d637a45",
   "metadata": {
    "scrolled": false
   },
   "outputs": [
    {
     "data": {
      "image/png": "[encoded data removed]",
      "text/plain": [
       "Plot with title \"n=100\""
      ]
     },
     "metadata": {
      "image/png": {
       "height": 420,
       "width": 420
      }
     },
     "output_type": "display_data"
    }
   ],
   "source": [
    "# h)\n",
    "par(mfrow = c(2,1))\n",
    "\n",
    "min = 30\n",
    "max = 70\n",
    "\n",
    "x30 = seq(min, max, by = .1)\n",
    "y30 = dnorm(x30, mean = E_teo, sd = sqrt(Var_teo/30))\n",
    "x100 = x30\n",
    "y100 = dnorm(x100, mean = E_teo, sd = sqrt(Var_teo/100))\n",
    "\n",
    "ymax = max(y100)\n",
    "\n",
    "hist(meanbycol30,\n",
    "     freq = F,\n",
    "     xlim = c(min, max),\n",
    "     ylim = c(0,ymax),\n",
    "     xlab = \"Tiempo (min)\", \n",
    "     ylab = \"Frecuencia\",\n",
    "     main = \"n=30\")\n",
    "\n",
    "lines(x30, y30, col = \"red\", lwd = 2)\n",
    "\n",
    "hist(meanbycol100,\n",
    "     freq = F,\n",
    "     xlim = c(min, max),\n",
    "     ylim = c(0,ymax),\n",
    "     xlab = \"Tiempo (min)\", \n",
    "     ylab = \"Frecuencia\",\n",
    "     main = \"n=100\")\n",
    "\n",
    "lines(x100, y100, col = \"red\", lwd = 2)"
   ]
  },
  {
   "cell_type": "markdown",
   "id": "a03e3908",
   "metadata": {},
   "source": [
    "j) Comenta el resultado."
   ]
  },
  {
   "cell_type": "markdown",
   "id": "7fce1c00",
   "metadata": {},
   "source": [
    "Estamos ante un claro ejemplo de cómo funciona el TLC. Para un tamaño muestral pequeño, $n=30$, la distribución de la variable X apenas se asemeja a una normal. Sin embargo, al aumentar el tamaño muestral a $n=100$, la distribución se ajusta mejor, tal y como predice el TLC. De hecho, de seguir aumentando el tamaño muestral, por ejemplo $n=1000$, la semejanza con la distribución normal será más que apreciable."
   ]
  }
 ],
 "metadata": {
  "kernelspec": {
   "display_name": "R",
   "language": "R",
   "name": "ir"
  },
  "language_info": {
   "codemirror_mode": "r",
   "file_extension": ".r",
   "mimetype": "text/x-r-source",
   "name": "R",
   "pygments_lexer": "r",
   "version": "3.6.3"
  }
 },
 "nbformat": 4,
 "nbformat_minor": 5
}
