{
 "cells": [
  {
   "cell_type": "markdown",
   "id": "229076e5",
   "metadata": {},
   "source": [
    "# Práctica 5"
   ]
  },
  {
   "cell_type": "markdown",
   "id": "41f39d23",
   "metadata": {},
   "source": [
    "## Problema 1\n",
    "Realiza las siguientes tareas:\n",
    "\n",
    "a) Simula 50 tiradas de un dado.\n",
    "\n",
    "b) Considera la variable aleatoria, X, definida como el número que sale al tirar el dado. ¿Cuánto valen $\\bar{X}$, $S^2$, E(X), Var(X), E($\\bar{X}$) y Var($\\bar{X}$)?"
   ]
  },
  {
   "cell_type": "code",
   "execution_count": 1,
   "id": "01cb3f94",
   "metadata": {},
   "outputs": [
    {
     "name": "stdout",
     "output_type": "stream",
     "text": [
      "Media muestral: 3.78\n",
      "Varianza muestral: 2.991429\n",
      "Valor esperado de la variable aleatoria X: 3.5\n",
      "Varianza de la variable aleatoria X 2.916667\n",
      "Valor esperado de la media muestral: 3.5\n",
      "Varianza de la media muestral 0.05833333"
     ]
    }
   ],
   "source": [
    "#### Ejercicio 1 ####\n",
    "\n",
    "#Simulamos las 50 tiradas del dado\n",
    "n = 50\n",
    "a = 0\n",
    "b = 6\n",
    "x = ceiling(runif(n,a,b))\n",
    "\n",
    "#Calculamos los parámetros exigidos\n",
    "\n",
    "#\\bar{X}\n",
    "cat(\"Media muestral:\", mean(x))\n",
    "cat(\"\\n\")\n",
    "#s^2\n",
    "cat(\"Varianza muestral:\", var(x))\n",
    "cat(\"\\n\")\n",
    "#E(X)\n",
    "E = (b+1)/2\n",
    "cat(\"Valor esperado de la variable aleatoria X:\", E)\n",
    "cat(\"\\n\")\n",
    "#Var(X)\n",
    "Var = (b*b-1)/12\n",
    "cat(\"Varianza de la variable aleatoria X\", Var)\n",
    "cat(\"\\n\")\n",
    "#E(\\bar{X}) = E(X)\n",
    "cat(\"Valor esperado de la media muestral:\", E)\n",
    "cat(\"\\n\")\n",
    "#Var(\\bar{X}) = Var(X)/n\n",
    "cat(\"Varianza de la media muestral\", Var/n)"
   ]
  },
  {
   "cell_type": "code",
   "execution_count": 2,
   "id": "7acddc99",
   "metadata": {},
   "outputs": [
    {
     "data": {
      "image/png": "[encoded data removed]",
      "text/plain": [
       "plot without title"
      ]
     },
     "metadata": {
      "image/png": {
       "height": 420,
       "width": 420
      }
     },
     "output_type": "display_data"
    }
   ],
   "source": [
    "# Representación\n",
    "barplot(table(x))\n",
    "lines(x = c(0:7), y = rep(n/6, 8), col = \"red\", lwd = 2)\n",
    "legend(\"topright\", c(\"Distribución aleatoria\", \"Distribución teórica\"),\n",
    "       col=c(\"black\", \"red\"), lwd=3)"
   ]
  },
  {
   "cell_type": "markdown",
   "id": "0056514d",
   "metadata": {},
   "source": [
    "## Problema 2\n",
    "1) Simula 50 tiradas de dos dados.\n",
    "\n",
    "2) Considera la variable aleatoria, X, definida como la suma de los números que salen al tirar los dados. ¿Cuánto valen $\\bar{X}$, $S^2$, E(X), Var(X), E($\\bar{X}$) y Var($\\bar{X}$)?"
   ]
  },
  {
   "cell_type": "code",
   "execution_count": 3,
   "id": "450990f3",
   "metadata": {},
   "outputs": [
    {
     "name": "stdout",
     "output_type": "stream",
     "text": [
      "Media muestral: 6.4\n",
      "Varianza muestral: 7.265306\n",
      "Valor esperado de la variable aleatoria X: 7\n",
      "Varianza de la variable aleatoria X 5.833333\n",
      "Valor esperado de la media muestral: 7\n",
      "Varianza de la media muestral 0.1166667"
     ]
    }
   ],
   "source": [
    "#### Ejercicio 2 ####\n",
    "\n",
    "#Simulamos las 50 tiradas de cada dado\n",
    "n = 50\n",
    "a = 0\n",
    "b = 6\n",
    "x1 = ceiling(runif(n,a,b))\n",
    "x2 = ceiling(runif(n,a,b))\n",
    "\n",
    "#Definimos la variable aleatoria como suma de ambos experimentos\n",
    "x = x1 + x2\n",
    "\n",
    "#\\bar{X}\n",
    "cat(\"Media muestral:\", mean(x))\n",
    "cat(\"\\n\")\n",
    "#s^2\n",
    "cat(\"Varianza muestral:\", var(x))\n",
    "cat(\"\\n\")\n",
    "#E(X) = E(X1) + E(X2)\n",
    "E = (b+1)/2 + (b+1)/2\n",
    "cat(\"Valor esperado de la variable aleatoria X:\", E)\n",
    "cat(\"\\n\")\n",
    "#Var(X) = Var(X1) + Var(X2) + 0 porque al ser independientes, Cov(X1,X2) = 0\n",
    "Var = (b*b-1)/12 + (b*b-1)/12\n",
    "cat(\"Varianza de la variable aleatoria X\", Var)\n",
    "cat(\"\\n\")\n",
    "#E(\\bar{X}) = E(X)\n",
    "cat(\"Valor esperado de la media muestral:\", E)\n",
    "cat(\"\\n\")\n",
    "#Var(\\bar{X}) = Var(X)/n\n",
    "cat(\"Varianza de la media muestral\", Var/n)"
   ]
  },
  {
   "cell_type": "code",
   "execution_count": 4,
   "id": "a54cd3a8",
   "metadata": {},
   "outputs": [],
   "source": [
    "#A la hora de representar, poner un diagrama de barras y superponer una curva con la \n",
    "#\"distribucion teórica\", que podemos sacar con una matriz donde pongamos 1:6 en los ejes\n",
    "#Y cada componente sea la suma de los índices i y j. Es decir, el elemento [i,j] = i+j\n",
    "#Porque justo coinciden los valores de los ejes con los índices\n",
    "#Debería quedar algo como:\n",
    "\n",
    "# 2 3 4 5 6 7\n",
    "# 3 4 5 6 7 8\n",
    "# 4 5 6 7 8 9\n",
    "# 5 6 7 8 9 10\n",
    "# ... "
   ]
  },
  {
   "cell_type": "code",
   "execution_count": 5,
   "id": "5a316643",
   "metadata": {},
   "outputs": [
    {
     "data": {
      "image/png": "[encoded data removed]",
      "text/plain": [
       "plot without title"
      ]
     },
     "metadata": {
      "image/png": {
       "height": 420,
       "width": 420
      }
     },
     "output_type": "display_data"
    }
   ],
   "source": [
    "# Representación\n",
    "barplot(table(x))\n",
    "teo = matrix(data = NA, nrow = 6, ncol = 6)\n",
    "for(i in 1:6){\n",
    "    for(j in 1:6){\n",
    "        teo[i,j] = i+j\n",
    "    }\n",
    "}\n",
    "lines(x = c(1:13), y = c(0,table(teo),0), col = \"red\", lwd = 2)\n",
    "legend(\"topright\", c(\"Distribución aleatoria\", \"Distribución teórica\"),\n",
    "       col=c(\"black\", \"red\"), lwd=3)"
   ]
  },
  {
   "cell_type": "markdown",
   "id": "a57dcb18",
   "metadata": {},
   "source": [
    "## Problema 3\n",
    "Realiza las siguientes tareas:\n",
    "1) Simula alturas de 50 personas de una población de altura media 176 y desviación típica 11 centímetros.\n",
    "\n",
    "2) Considera la variable aleatoria, X, definida como la altura de una persona de la población descrita anteriormente. ¿Cuánto valen $\\bar{X}$, $S^2$, E(X), Var(X), E($\\bar{X}$) y Var($\\bar{X}$)?\n"
   ]
  },
  {
   "cell_type": "code",
   "execution_count": 6,
   "id": "831f3715",
   "metadata": {},
   "outputs": [
    {
     "name": "stdout",
     "output_type": "stream",
     "text": [
      "Media muestral: 177.8689\n",
      "Varianza muestral: 142.4691\n",
      "Valor esperado de la variable aleatoria X: 176\n",
      "Varianza de la variable aleatoria X 121\n",
      "Valor esperado de la media muestral: 176\n",
      "Varianza de la media muestral 2.42"
     ]
    }
   ],
   "source": [
    "#Simulamos las alturas de las 50 personas\n",
    "n = 50\n",
    "mu = 176\n",
    "sig = 11\n",
    "\n",
    "x = rnorm(n, mu, sig)\n",
    "\n",
    "#\\bar{X}\n",
    "cat(\"Media muestral:\", mean(x))\n",
    "cat(\"\\n\")\n",
    "#s^2\n",
    "cat(\"Varianza muestral:\", var(x))\n",
    "cat(\"\\n\")\n",
    "#E(X)\n",
    "E = mu\n",
    "cat(\"Valor esperado de la variable aleatoria X:\", E)\n",
    "cat(\"\\n\")\n",
    "#Var(X)\n",
    "Var = sig * sig\n",
    "cat(\"Varianza de la variable aleatoria X\", Var)\n",
    "cat(\"\\n\")\n",
    "#E(\\bar{X}) = E(X)\n",
    "cat(\"Valor esperado de la media muestral:\", E)\n",
    "cat(\"\\n\")\n",
    "#Var(\\bar{X}) = Var(X)/n\n",
    "cat(\"Varianza de la media muestral\", Var/n)"
   ]
  },
  {
   "cell_type": "code",
   "execution_count": 7,
   "id": "050462dc",
   "metadata": {},
   "outputs": [
    {
     "data": {
      "image/png": "[encoded data removed]",
      "text/plain": [
       "Plot with title \"Histogram of x\""
      ]
     },
     "metadata": {
      "image/png": {
       "height": 420,
       "width": 420
      }
     },
     "output_type": "display_data"
    }
   ],
   "source": [
    "# Representación\n",
    "hist(x, freq = F, xlim = c(140,210))\n",
    "\n",
    "xnorm = seq(140,210,by = 0.5)\n",
    "ynorm = dnorm(xnorm, mu, sig)\n",
    "lines(xnorm, ynorm, col = \"red\", lwd = 2)\n",
    "legend(\"topright\", c(\"Distribución aleatoria\", \"Distribución teórica\"),\n",
    "       col=c(\"black\", \"red\"), lwd=3)"
   ]
  },
  {
   "cell_type": "markdown",
   "id": "b3bf3aff",
   "metadata": {},
   "source": [
    "## Problema 4\n",
    "1) Simula el número de goles marcados en 10 partidos siendo el promedio de goles por partido en la liga 2.8.\n",
    "\n",
    "2) Considera la variable aleatoria, X, definida como el número de goles en un partido de la liga anteriormente mencionada. ¿Cuánto valen $\\bar{X}$, $S^2$, E(X), Var(X), E($\\bar{X}$) y Var($\\bar{X}$)?"
   ]
  },
  {
   "cell_type": "code",
   "execution_count": 8,
   "id": "01fcf5ab",
   "metadata": {},
   "outputs": [
    {
     "name": "stdout",
     "output_type": "stream",
     "text": [
      "Media muestral: 3.6\n",
      "Varianza muestral: 1.6\n",
      "Valor esperado de la variable aleatoria X: 2.8\n",
      "Varianza de la variable aleatoria X 2.8\n",
      "Valor esperado de la media muestral: 2.8\n",
      "Varianza de la media muestral 0.28"
     ]
    }
   ],
   "source": [
    "n = 10\n",
    "l = 2.8\n",
    "x = rpois(n,l)\n",
    "\n",
    "#\\bar{X}\n",
    "cat(\"Media muestral:\", mean(x))\n",
    "cat(\"\\n\")\n",
    "#s^2\n",
    "cat(\"Varianza muestral:\", var(x))\n",
    "cat(\"\\n\")\n",
    "#E(X)\n",
    "E = l\n",
    "cat(\"Valor esperado de la variable aleatoria X:\", E)\n",
    "cat(\"\\n\")\n",
    "#Var(X)\n",
    "Var = l\n",
    "cat(\"Varianza de la variable aleatoria X\", Var)\n",
    "cat(\"\\n\")\n",
    "#E(\\bar{X}) = E(X)\n",
    "cat(\"Valor esperado de la media muestral:\", E)\n",
    "cat(\"\\n\")\n",
    "#Var(\\bar{X}) = Var(X)/n\n",
    "cat(\"Varianza de la media muestral\", Var/n)"
   ]
  },
  {
   "cell_type": "code",
   "execution_count": 9,
   "id": "5bad8898",
   "metadata": {},
   "outputs": [
    {
     "data": {
      "image/png": "[encoded data removed]",
      "text/plain": [
       "plot without title"
      ]
     },
     "metadata": {
      "image/png": {
       "height": 420,
       "width": 420
      }
     },
     "output_type": "display_data"
    }
   ],
   "source": [
    "# Representación\n",
    "barplot(table(x))"
   ]
  },
  {
   "cell_type": "markdown",
   "id": "d0f5758c",
   "metadata": {},
   "source": [
    "## Problema 5\n",
    "Simula las posiciones de 32 fichas colocadas al azar en un tablero de 8 por 8 casillas, teniendo en cuenta que solo puede haber una ficha por casilla."
   ]
  },
  {
   "cell_type": "code",
   "execution_count": 10,
   "id": "a80c8cc5",
   "metadata": {},
   "outputs": [
    {
     "data": {
      "image/png": "[encoded data removed]",
      "text/plain": [
       "plot without title"
      ]
     },
     "metadata": {
      "image/png": {
       "height": 420,
       "width": 420
      }
     },
     "output_type": "display_data"
    }
   ],
   "source": [
    "# Generamos las fichas\n",
    "n = 32\n",
    "fichas = n\n",
    "tablero = matrix(data = 0, nrow = 8, ncol = 8)\n",
    "\n",
    "for (i in 1:8){\n",
    "  for(j in 1:8){\n",
    "    \n",
    "    if(sample(c(0,1),1) == 1){\n",
    "      tablero[i,j] = 1\n",
    "      fichas = fichas - 1\n",
    "    }\n",
    "    if(fichas == 0){\n",
    "      break\n",
    "    }\n",
    "  }\n",
    "}\n",
    "\n",
    "image(tablero, col = hcl.colors(2,\"Grays\"))"
   ]
  }
 ],
 "metadata": {
  "kernelspec": {
   "display_name": "R",
   "language": "R",
   "name": "ir"
  },
  "language_info": {
   "codemirror_mode": "r",
   "file_extension": ".r",
   "mimetype": "text/x-r-source",
   "name": "R",
   "pygments_lexer": "r",
   "version": "3.6.3"
  }
 },
 "nbformat": 4,
 "nbformat_minor": 5
}
