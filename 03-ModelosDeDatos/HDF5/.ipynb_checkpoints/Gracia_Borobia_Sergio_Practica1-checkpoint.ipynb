{
 "cells": [
  {
   "cell_type": "markdown",
   "metadata": {},
   "source": [
    "# HDF5\n",
    "\n",
    "HDF5 is a data model, library, and file format for storing and managing data. It supports an unlimited variety of datatypes, and is designed for flexible and efficient I/O and for high volume and complex data. HDF5 is portable and is extensible, allowing applications to evolve in their use of HDF5. The HDF5 Technology suite includes tools and applications for managing, manipulating, viewing, and analyzing data in the HDF5 format.\n",
    "\n",
    "The [h5py](https://www.h5py.org/) package is a Pythonic interface to the HDF5 binary data format. It lets you store huge amounts of numerical data, and easily manipulate that data from NumPy. h5py uses straightforward NumPy and Python metaphors, like dictionary and NumPy array syntax. For example, you can iterate over datasets in a file, or check out the .shape or .dtype attributes of datasets.\n",
    "\n",
    "`conda install -c conda-forge h5py`\n",
    "\n",
    "To get familiar with h5py, go through the [tutorial](https://docs.h5py.org/en/latest/quick.html) and reproduce the examples here. Then answer the following questions:\n",
    "\n",
    "- In SQL databases you have worked with the following entities: database, table, SQLite Studio. Which of the HDF5 entities you have seen (h5py, File and Dataset) do you think are the HDF5 equivalent of the entities in SQL?\n",
    "\n",
    "- Use the `h5dump` command to visualize the following data from the `mytestfile.hdf5` you have created in the tutorial.\n",
    "\n",
    "  - Which flag of h5dump can be used to visualize only the `header` of the file?\n",
    "  - Which flag of h5dump can be used to visualize a specific dataset?"
   ]
  },
  {
   "cell_type": "code",
   "execution_count": 1,
   "metadata": {},
   "outputs": [],
   "source": [
    "import h5py"
   ]
  },
  {
   "cell_type": "markdown",
   "metadata": {},
   "source": [
    "Hacer el tutorial: reproducir las ejecuciones que sales de https://docs.h5py.org/en/latest/quick.html"
   ]
  },
  {
   "cell_type": "code",
   "execution_count": null,
   "metadata": {},
   "outputs": [],
   "source": []
  },
  {
   "cell_type": "markdown",
   "metadata": {
    "slideshow": {
     "slide_type": "slide"
    }
   },
   "source": [
    "# NumPy and h5py\n",
    "\n",
    "## NumPy\n",
    "\n",
    "NumPy is the fundamental package for scientific computing with Python. It contains among other things:\n",
    "\n",
    "- a powerful N-dimensional array object\n",
    "- sophisticated (broadcasting) functions\n",
    "- tools for integrating C/C++ and Fortran code\n",
    "- useful linear algebra, Fourier transform, and random number capabilities\n",
    "\n",
    "Besides its obvious scientific uses, NumPy can also be used as an efficient multi-dimensional container of generic data. Arbitrary data-types can be defined. This allows NumPy to seamlessly and speedily integrate with a wide variety of databases.\n",
    "\n",
    "NumPy is licensed under the BSD license, enabling reuse with few restrictions.\n",
    "\n",
    "##  h5py\n",
    "\n",
    "HDF5 lets you store huge amounts of numerical data in persistent storage and easily manipulate that data from NumPy. For example, you can slice into multi-terabyte datasets stored on disk, as if they were real NumPy arrays. Thousands of datasets can be stored in a single file, categorized and tagged however you want.\n",
    "\n",
    "# Performance review\n",
    "\n",
    "## Python lists\n",
    "\n",
    "We can try to emulate multidimensional arrays using nested lists. Why is this a bad idea? **Read [this](https://docs.python.org/3.7/faq/design.html#how-are-lists-implemented-in-cpython)**."
   ]
  },
  {
   "cell_type": "code",
   "execution_count": 2,
   "metadata": {
    "slideshow": {
     "slide_type": "fragment"
    }
   },
   "outputs": [
    {
     "name": "stdout",
     "output_type": "stream",
     "text": [
      "[[100, 200, 50, 400], [50, 0, 0, 100], [350, 100, 50, 200]]\n"
     ]
    }
   ],
   "source": [
    "l0 = [100, 200, 50, 400]\n",
    "l1 = [50, 0, 0, 100]\n",
    "l2 = [350, 100, 50, 200]\n",
    "ls = [l0, l1, l2]\n",
    "print(ls)"
   ]
  },
  {
   "cell_type": "code",
   "execution_count": 3,
   "metadata": {
    "slideshow": {
     "slide_type": "fragment"
    }
   },
   "outputs": [
    {
     "name": "stdout",
     "output_type": "stream",
     "text": [
      "630 µs ± 43.5 µs per loop (mean ± std. dev. of 7 runs, 1000 loops each)\n"
     ]
    }
   ],
   "source": [
    "L = range(1000)\n",
    "%timeit [i**2 for i in L]"
   ]
  },
  {
   "cell_type": "markdown",
   "metadata": {
    "slideshow": {
     "slide_type": "slide"
    }
   },
   "source": [
    "## Now with NumPy\n",
    "\n",
    "NumPy arrays are stored contiguously in memory. Also, specific routines implemented in the C language provide a perfomance boost."
   ]
  },
  {
   "cell_type": "code",
   "execution_count": 4,
   "metadata": {
    "slideshow": {
     "slide_type": "fragment"
    }
   },
   "outputs": [
    {
     "name": "stdout",
     "output_type": "stream",
     "text": [
      "[[100 200  50 400]\n",
      " [ 50   0   0 100]\n",
      " [350 100  50 200]]\n"
     ]
    }
   ],
   "source": [
    "import numpy as np\n",
    "a = np.array(ls)\n",
    "print(a)"
   ]
  },
  {
   "cell_type": "code",
   "execution_count": 5,
   "metadata": {
    "slideshow": {
     "slide_type": "fragment"
    }
   },
   "outputs": [
    {
     "name": "stdout",
     "output_type": "stream",
     "text": [
      "2.18 µs ± 283 ns per loop (mean ± std. dev. of 7 runs, 100000 loops each)\n"
     ]
    }
   ],
   "source": [
    "t = np.arange(1000)\n",
    "%timeit a**2"
   ]
  },
  {
   "cell_type": "markdown",
   "metadata": {},
   "source": [
    "# NumPy\n",
    "\n",
    "The basic NumPy type is the **ndarray** object."
   ]
  },
  {
   "cell_type": "code",
   "execution_count": 6,
   "metadata": {},
   "outputs": [
    {
     "name": "stdout",
     "output_type": "stream",
     "text": [
      "[[100 200  50 400]\n",
      " [ 50   0   0 100]\n",
      " [350 100  50 200]]\n"
     ]
    }
   ],
   "source": [
    "print(a)"
   ]
  },
  {
   "cell_type": "code",
   "execution_count": 7,
   "metadata": {},
   "outputs": [
    {
     "data": {
      "text/plain": [
       "numpy.ndarray"
      ]
     },
     "execution_count": 7,
     "metadata": {},
     "output_type": "execute_result"
    }
   ],
   "source": [
    "type(a)"
   ]
  },
  {
   "cell_type": "code",
   "execution_count": 12,
   "metadata": {},
   "outputs": [
    {
     "name": "stdout",
     "output_type": "stream",
     "text": [
      "[[1 2 3]\n",
      " [4 5 6]]\n"
     ]
    }
   ],
   "source": [
    "print(np.array(((1,2,3), (4,5,6)))) # np.array accepts SEQUENCES (Todo aquello que se puede iterar)"
   ]
  },
  {
   "cell_type": "code",
   "execution_count": 9,
   "metadata": {},
   "outputs": [
    {
     "name": "stdout",
     "output_type": "stream",
     "text": [
      "[[1000 2000  500 4000]\n",
      " [ 500    0    0 1000]\n",
      " [3500 1000  500 2000]]\n"
     ]
    }
   ],
   "source": [
    "print(a*10)"
   ]
  },
  {
   "cell_type": "code",
   "execution_count": 10,
   "metadata": {},
   "outputs": [
    {
     "name": "stdout",
     "output_type": "stream",
     "text": [
      "[[200 400 100 800]\n",
      " [100   0   0 200]\n",
      " [700 200 100 400]]\n"
     ]
    }
   ],
   "source": [
    "print(a+a)"
   ]
  },
  {
   "cell_type": "code",
   "execution_count": 11,
   "metadata": {},
   "outputs": [
    {
     "name": "stdout",
     "output_type": "stream",
     "text": [
      "[[ 42  42  42  42]\n",
      " [ 50   0   0 100]\n",
      " [350 100  50 200]]\n"
     ]
    }
   ],
   "source": [
    "b = a.copy()\n",
    "b[0] = 42 # broadcasting\n",
    "print(b)"
   ]
  },
  {
   "cell_type": "markdown",
   "metadata": {
    "slideshow": {
     "slide_type": "slide"
    }
   },
   "source": [
    "## Inside a numpy ndarray\n",
    "\n",
    "[NumPy flags](https://docs.scipy.org/doc/numpy/reference/generated/numpy.ndarray.flags.html)"
   ]
  },
  {
   "cell_type": "markdown",
   "metadata": {},
   "source": [
    "Los `strides`son una tupla cuyos elementos indican:\n",
    "* El número de bites que hay que pasar para saltar de la primera fila a la segunda, etc... Es decir, el número de elementos de cada fila multiplicado por lo que ocupa cada elemento en bytes\n",
    "* El número de bytes que hay en cada elemento del array"
   ]
  },
  {
   "cell_type": "code",
   "execution_count": 13,
   "metadata": {
    "scrolled": true,
    "slideshow": {
     "slide_type": "fragment"
    }
   },
   "outputs": [
    {
     "name": "stdout",
     "output_type": "stream",
     "text": [
      "number of elements: 12\n",
      "number of dimensions: 2\n",
      "shape: (3, 4)\n",
      "data type: int64\n",
      "strides: (32, 8)\n",
      "flags:\n",
      "  C_CONTIGUOUS : True\n",
      "  F_CONTIGUOUS : False\n",
      "  OWNDATA : True\n",
      "  WRITEABLE : True\n",
      "  ALIGNED : True\n",
      "  WRITEBACKIFCOPY : False\n",
      "  UPDATEIFCOPY : False\n",
      "\n"
     ]
    }
   ],
   "source": [
    "a = np.array([[100, 200, 50, 400], [50, 0, 0, 100], [350, 100, 50, 200]])\n",
    "\n",
    "def print_info(a):\n",
    "    print('number of elements:', a.size)\n",
    "    print('number of dimensions:', a.ndim)\n",
    "    print('shape:', a.shape)\n",
    "    print('data type:', a.dtype)\n",
    "    print('strides:', a.strides) # strides are measured in bytes\n",
    "    print('flags:')\n",
    "    print(a.flags)\n",
    "    \n",
    "print_info(a)"
   ]
  },
  {
   "cell_type": "code",
   "execution_count": 14,
   "metadata": {
    "slideshow": {
     "slide_type": "subslide"
    }
   },
   "outputs": [
    {
     "name": "stdout",
     "output_type": "stream",
     "text": [
      "number of elements: 12\n",
      "number of dimensions: 2\n",
      "shape: (3, 4)\n",
      "data type: uint8\n",
      "strides: (4, 1)\n",
      "flags:\n",
      "  C_CONTIGUOUS : True\n",
      "  F_CONTIGUOUS : False\n",
      "  OWNDATA : True\n",
      "  WRITEABLE : True\n",
      "  ALIGNED : True\n",
      "  WRITEBACKIFCOPY : False\n",
      "  UPDATEIFCOPY : False\n",
      "\n"
     ]
    }
   ],
   "source": [
    "b = a.astype(np.uint8) # astype() always creates a copy of the data\n",
    "print_info(b)"
   ]
  },
  {
   "cell_type": "code",
   "execution_count": 15,
   "metadata": {
    "slideshow": {
     "slide_type": "subslide"
    }
   },
   "outputs": [],
   "source": [
    "abytes = a.ravel().view(dtype=np.uint8) \n",
    "# ravel() saca el array visto en una sola dimensión\n",
    "# view() does not create a new copy of the data"
   ]
  },
  {
   "cell_type": "code",
   "execution_count": 16,
   "metadata": {
    "scrolled": true,
    "slideshow": {
     "slide_type": "subslide"
    }
   },
   "outputs": [
    {
     "name": "stdout",
     "output_type": "stream",
     "text": [
      "number of elements: 96\n",
      "number of dimensions: 1\n",
      "shape: (96,)\n",
      "data type: uint8\n",
      "strides: (1,)\n",
      "flags:\n",
      "  C_CONTIGUOUS : True\n",
      "  F_CONTIGUOUS : True\n",
      "  OWNDATA : False\n",
      "  WRITEABLE : True\n",
      "  ALIGNED : True\n",
      "  WRITEBACKIFCOPY : False\n",
      "  UPDATEIFCOPY : False\n",
      "\n"
     ]
    }
   ],
   "source": [
    "print_info(abytes)"
   ]
  },
  {
   "cell_type": "markdown",
   "metadata": {},
   "source": [
    "* En las copias, al modificar los valores de la copia no cambian los del array original\n",
    "* En las vistas, al modificar los valores de la vista SÍ que cambian los valores del array original"
   ]
  },
  {
   "cell_type": "code",
   "execution_count": 17,
   "metadata": {
    "scrolled": true
   },
   "outputs": [
    {
     "data": {
      "text/plain": [
       "array([100,   0,   0,   0,   0,   0,   0,   0, 200,   0,   0,   0,   0,\n",
       "         0,   0,   0,  50,   0,   0,   0,   0,   0,   0,   0, 144,   1,\n",
       "         0,   0,   0,   0,   0,   0,  50,   0,   0,   0,   0,   0,   0,\n",
       "         0,   0,   0,   0,   0,   0,   0,   0,   0,   0,   0,   0,   0,\n",
       "         0,   0,   0,   0, 100,   0,   0,   0,   0,   0,   0,   0,  94,\n",
       "         1,   0,   0,   0,   0,   0,   0, 100,   0,   0,   0,   0,   0,\n",
       "         0,   0,  50,   0,   0,   0,   0,   0,   0,   0, 200,   0,   0,\n",
       "         0,   0,   0,   0,   0], dtype=uint8)"
      ]
     },
     "execution_count": 17,
     "metadata": {},
     "output_type": "execute_result"
    }
   ],
   "source": [
    "abytes"
   ]
  },
  {
   "cell_type": "code",
   "execution_count": 18,
   "metadata": {},
   "outputs": [
    {
     "data": {
      "text/plain": [
       "array([[100, 200,  50, 400],\n",
       "       [ 50,   0,   0, 100],\n",
       "       [350, 100,  50, 200]])"
      ]
     },
     "execution_count": 18,
     "metadata": {},
     "output_type": "execute_result"
    }
   ],
   "source": [
    "a"
   ]
  },
  {
   "cell_type": "code",
   "execution_count": 20,
   "metadata": {},
   "outputs": [
    {
     "data": {
      "text/plain": [
       "array([[356, 200,  50, 400],\n",
       "       [ 50,   0,   0, 100],\n",
       "       [350, 100,  50, 200]])"
      ]
     },
     "execution_count": 20,
     "metadata": {},
     "output_type": "execute_result"
    }
   ],
   "source": [
    "# Modify values of 'abytes' and see what happens in 'a'\n",
    "abytes[1] = 1\n",
    "a"
   ]
  },
  {
   "cell_type": "markdown",
   "metadata": {
    "slideshow": {
     "slide_type": "subslide"
    }
   },
   "source": [
    "### Example: take the transpose of `a`"
   ]
  },
  {
   "cell_type": "code",
   "execution_count": 21,
   "metadata": {
    "slideshow": {
     "slide_type": "subslide"
    }
   },
   "outputs": [
    {
     "name": "stdout",
     "output_type": "stream",
     "text": [
      "number of elements: 12\n",
      "number of dimensions: 2\n",
      "shape: (3, 4)\n",
      "data type: int64\n",
      "strides: (32, 8)\n",
      "flags:\n",
      "  C_CONTIGUOUS : True\n",
      "  F_CONTIGUOUS : False\n",
      "  OWNDATA : True\n",
      "  WRITEABLE : True\n",
      "  ALIGNED : True\n",
      "  WRITEBACKIFCOPY : False\n",
      "  UPDATEIFCOPY : False\n",
      "\n"
     ]
    }
   ],
   "source": [
    "print_info(a)"
   ]
  },
  {
   "cell_type": "code",
   "execution_count": 22,
   "metadata": {
    "slideshow": {
     "slide_type": "subslide"
    }
   },
   "outputs": [
    {
     "name": "stdout",
     "output_type": "stream",
     "text": [
      "number of elements: 12\n",
      "number of dimensions: 2\n",
      "shape: (4, 3)\n",
      "data type: int64\n",
      "strides: (8, 32)\n",
      "flags:\n",
      "  C_CONTIGUOUS : False\n",
      "  F_CONTIGUOUS : True\n",
      "  OWNDATA : False\n",
      "  WRITEABLE : True\n",
      "  ALIGNED : True\n",
      "  WRITEBACKIFCOPY : False\n",
      "  UPDATEIFCOPY : False\n",
      "\n"
     ]
    }
   ],
   "source": [
    "print_info(a.T) # not a copy, same data bytes, not possible with python nested lists"
   ]
  },
  {
   "cell_type": "markdown",
   "metadata": {},
   "source": [
    "### Example: slicing"
   ]
  },
  {
   "cell_type": "code",
   "execution_count": 23,
   "metadata": {},
   "outputs": [
    {
     "name": "stdout",
     "output_type": "stream",
     "text": [
      "number of elements: 12\n",
      "number of dimensions: 2\n",
      "shape: (4, 3)\n",
      "data type: int64\n",
      "strides: (8, 32)\n",
      "flags:\n",
      "  C_CONTIGUOUS : False\n",
      "  F_CONTIGUOUS : True\n",
      "  OWNDATA : False\n",
      "  WRITEABLE : True\n",
      "  ALIGNED : True\n",
      "  WRITEBACKIFCOPY : False\n",
      "  UPDATEIFCOPY : False\n",
      "\n"
     ]
    }
   ],
   "source": [
    "print_info(a.T)"
   ]
  },
  {
   "cell_type": "code",
   "execution_count": 24,
   "metadata": {},
   "outputs": [
    {
     "name": "stdout",
     "output_type": "stream",
     "text": [
      "number of elements: 6\n",
      "number of dimensions: 2\n",
      "shape: (2, 3)\n",
      "data type: int64\n",
      "strides: (16, 32)\n",
      "flags:\n",
      "  C_CONTIGUOUS : False\n",
      "  F_CONTIGUOUS : False\n",
      "  OWNDATA : False\n",
      "  WRITEABLE : True\n",
      "  ALIGNED : True\n",
      "  WRITEBACKIFCOPY : False\n",
      "  UPDATEIFCOPY : False\n",
      "\n"
     ]
    }
   ],
   "source": [
    "print_info(a.T[::2]) # skip rows calculating on strides"
   ]
  },
  {
   "cell_type": "code",
   "execution_count": 25,
   "metadata": {},
   "outputs": [
    {
     "name": "stdout",
     "output_type": "stream",
     "text": [
      "number of elements: 4\n",
      "number of dimensions: 2\n",
      "shape: (2, 2)\n",
      "data type: int64\n",
      "strides: (16, 64)\n",
      "flags:\n",
      "  C_CONTIGUOUS : False\n",
      "  F_CONTIGUOUS : False\n",
      "  OWNDATA : False\n",
      "  WRITEABLE : True\n",
      "  ALIGNED : True\n",
      "  WRITEBACKIFCOPY : False\n",
      "  UPDATEIFCOPY : False\n",
      "\n"
     ]
    }
   ],
   "source": [
    "print_info(a.T[::2, ::2]) # skip rows and columns calculating on strides"
   ]
  },
  {
   "cell_type": "markdown",
   "metadata": {},
   "source": [
    "### Example: getting a copy"
   ]
  },
  {
   "cell_type": "code",
   "execution_count": null,
   "metadata": {},
   "outputs": [],
   "source": [
    "b = a"
   ]
  },
  {
   "cell_type": "code",
   "execution_count": null,
   "metadata": {},
   "outputs": [],
   "source": [
    "print(b)"
   ]
  },
  {
   "cell_type": "code",
   "execution_count": null,
   "metadata": {},
   "outputs": [],
   "source": [
    "a[0, 0] = 5\n",
    "print(b)\n",
    "a[0, 0] = 100"
   ]
  },
  {
   "cell_type": "code",
   "execution_count": null,
   "metadata": {},
   "outputs": [],
   "source": [
    "c = a.copy()"
   ]
  },
  {
   "cell_type": "code",
   "execution_count": null,
   "metadata": {},
   "outputs": [],
   "source": [
    "a[0, 0] = 5\n",
    "print(c)\n",
    "a[0, 0] = 100"
   ]
  },
  {
   "cell_type": "markdown",
   "metadata": {},
   "source": [
    "### Example: axis-wise evaluation"
   ]
  },
  {
   "cell_type": "code",
   "execution_count": null,
   "metadata": {},
   "outputs": [],
   "source": [
    "a.mean(axis=0)"
   ]
  },
  {
   "cell_type": "code",
   "execution_count": null,
   "metadata": {},
   "outputs": [],
   "source": [
    "a.sum(axis=1)"
   ]
  },
  {
   "cell_type": "markdown",
   "metadata": {},
   "source": [
    "## Structured types\n",
    "\n",
    "Structured arrays are ndarrays whose datatype is a composition of simpler datatypes organized as a sequence of named fields."
   ]
  },
  {
   "cell_type": "code",
   "execution_count": 26,
   "metadata": {},
   "outputs": [
    {
     "data": {
      "text/plain": [
       "array([('Rex', 9, 81.), ('Fido', 3, 27.)],\n",
       "      dtype=[('name', '<U10'), ('age', '<i4'), ('weight', '<f4')])"
      ]
     },
     "execution_count": 26,
     "metadata": {},
     "output_type": "execute_result"
    }
   ],
   "source": [
    "dtype = np.dtype([('name', 'U10'), ('age', 'i4'), ('weight', 'f4')])\n",
    "x = np.array([('Rex', 9, 81.0), ('Fido', 3, 27.0)], dtype=dtype)\n",
    "x"
   ]
  },
  {
   "cell_type": "markdown",
   "metadata": {},
   "source": [
    "x is a one-dimensional array of length two whose datatype is a structure with three fields:\n",
    "1. A string of length 10 or less named ‘name’\n",
    "2. a 32-bit integer named ‘age’\n",
    "3. a 32-bit float named ‘weight’."
   ]
  },
  {
   "cell_type": "code",
   "execution_count": 27,
   "metadata": {},
   "outputs": [
    {
     "data": {
      "text/plain": [
       "('Rex', 9, 81.)"
      ]
     },
     "execution_count": 27,
     "metadata": {},
     "output_type": "execute_result"
    }
   ],
   "source": [
    "x[0] # indexing by position"
   ]
  },
  {
   "cell_type": "code",
   "execution_count": 28,
   "metadata": {},
   "outputs": [
    {
     "data": {
      "text/plain": [
       "array([9, 3], dtype=int32)"
      ]
     },
     "execution_count": 28,
     "metadata": {},
     "output_type": "execute_result"
    }
   ],
   "source": [
    "x['age'] # indexing by field name"
   ]
  },
  {
   "cell_type": "code",
   "execution_count": 29,
   "metadata": {},
   "outputs": [
    {
     "name": "stdout",
     "output_type": "stream",
     "text": [
      "number of elements: 2\n",
      "number of dimensions: 1\n",
      "shape: (2,)\n",
      "data type: [('name', '<U10'), ('age', '<i4'), ('weight', '<f4')]\n",
      "strides: (48,)\n",
      "flags:\n",
      "  C_CONTIGUOUS : True\n",
      "  F_CONTIGUOUS : True\n",
      "  OWNDATA : True\n",
      "  WRITEABLE : True\n",
      "  ALIGNED : True\n",
      "  WRITEBACKIFCOPY : False\n",
      "  UPDATEIFCOPY : False\n",
      "\n"
     ]
    }
   ],
   "source": [
    "print_info(x)"
   ]
  },
  {
   "cell_type": "markdown",
   "metadata": {},
   "source": [
    "More info on structured types [here](https://numpy.org/doc/stable/user/basics.rec.html)."
   ]
  },
  {
   "cell_type": "markdown",
   "metadata": {},
   "source": [
    "## h5py"
   ]
  },
  {
   "cell_type": "code",
   "execution_count": 1,
   "metadata": {},
   "outputs": [],
   "source": [
    "import os\n",
    "import h5py\n",
    "import numpy as np"
   ]
  },
  {
   "cell_type": "code",
   "execution_count": 31,
   "metadata": {},
   "outputs": [
    {
     "name": "stdout",
     "output_type": "stream",
     "text": [
      "8\n"
     ]
    }
   ],
   "source": [
    "shape = (1000, 1000)\n",
    "size  = (1_000_000, 1000)\n",
    "iters = size[0] // shape[0]\n",
    "\n",
    "arr = np.random.random(shape)\n",
    "\n",
    "with h5py.File(\"test.h5\", \"w\") as f:\n",
    "    dset = f.create_dataset(\"huge\", size, dtype=\"f8\")\n",
    "    for i in range(iters):\n",
    "        start = i*shape[0]\n",
    "        stop  = (i+1)*shape[0]\n",
    "        dset[start:stop, :] = arr\n",
    "\n",
    "print(os.stat(\"test.h5\").st_size // (10**9)) # 8 gigabytes"
   ]
  },
  {
   "cell_type": "code",
   "execution_count": 32,
   "metadata": {},
   "outputs": [
    {
     "name": "stdout",
     "output_type": "stream",
     "text": [
      "[0.50137871 0.50292039 0.49164052 0.50262346 0.4963385  0.50903231\n",
      " 0.48499846 0.48390001 0.48633305 0.51449687]\n",
      "[0.50137871 0.50292039 0.49164052 0.50262346 0.4963385  0.50903231\n",
      " 0.48499846 0.48390001 0.48633305 0.51449687]\n"
     ]
    }
   ],
   "source": [
    "shape = (1000, 1000)\n",
    "size  = (1_000_000, 1000)\n",
    "iters = size[0] // shape[0]\n",
    "\n",
    "# compute means along axis 1\n",
    "means = np.empty((1_000_000,))\n",
    "\n",
    "with h5py.File(\"test.h5\", \"r\") as f:\n",
    "    for i in range(iters):\n",
    "        start = i*shape[0]\n",
    "        stop  = (i+1)*shape[0]\n",
    "        means[start:stop] = np.mean(f[\"huge\"][start:stop, :], axis=1)\n",
    "        \n",
    "print(means[:10])\n",
    "print(means[-1000:-990])"
   ]
  },
  {
   "cell_type": "markdown",
   "metadata": {},
   "source": [
    "# Exercises"
   ]
  },
  {
   "cell_type": "markdown",
   "metadata": {},
   "source": [
    "## Basics"
   ]
  },
  {
   "cell_type": "markdown",
   "metadata": {},
   "source": [
    "Generate the following array (hint: see `np.diag`):\n",
    "\n",
    "```\n",
    "[[0., 0., 0., 0., 0.],\n",
    " [2., 0., 0., 0., 0.],\n",
    " [0., 3., 0., 0., 0.],\n",
    " [0., 0., 4., 0., 0.],\n",
    " [0., 0., 0., 5., 0.],\n",
    " [0., 0., 0., 0., 6.]]\n",
    "```"
   ]
  },
  {
   "cell_type": "code",
   "execution_count": 133,
   "metadata": {},
   "outputs": [
    {
     "name": "stdout",
     "output_type": "stream",
     "text": [
      "[[0. 0. 0. 0. 0.]\n",
      " [2. 0. 0. 0. 0.]\n",
      " [0. 3. 0. 0. 0.]\n",
      " [0. 0. 4. 0. 0.]\n",
      " [0. 0. 0. 5. 0.]\n",
      " [0. 0. 0. 0. 6.]]\n"
     ]
    }
   ],
   "source": [
    "a = np.diag(np.arange(2,7, dtype = np.float32), k = -1) #Hacemos el arange hasta el 7 porque no incluye el último número \n",
    "a = np.delete(a, 5, 1)\n",
    "a"
   ]
  },
  {
   "cell_type": "markdown",
   "metadata": {},
   "source": [
    "Generate the following array (hint: see `np.tile`):\n",
    "\n",
    "```\n",
    "[[4, 3, 4, 3, 4, 3],\n",
    " [2, 1, 2, 1, 2, 1],\n",
    " [4, 3, 4, 3, 4, 3],\n",
    " [2, 1, 2, 1, 2, 1]]\n",
    " ```"
   ]
  },
  {
   "cell_type": "code",
   "execution_count": 80,
   "metadata": {},
   "outputs": [
    {
     "data": {
      "text/plain": [
       "array([[4, 3, 4, 3, 4, 3],\n",
       "       [2, 1, 2, 1, 2, 1],\n",
       "       [4, 3, 4, 3, 4, 3],\n",
       "       [2, 1, 2, 1, 2, 1]])"
      ]
     },
     "execution_count": 80,
     "metadata": {},
     "output_type": "execute_result"
    }
   ],
   "source": [
    "a = np.array([[4,3], [2,1]])\n",
    "m = np.tile(a, (2,3))\n",
    "m"
   ]
  },
  {
   "cell_type": "markdown",
   "metadata": {},
   "source": [
    "Generate the following array (use broadcasting):\n",
    "\n",
    "```\n",
    "[[ 0,  1,  2,  3,  4,  5],\n",
    " [10, 11, 12, 13, 14, 15],\n",
    " [20, 21, 22, 23, 24, 25],\n",
    " [30, 31, 32, 33, 34, 35],\n",
    " [40, 41, 42, 43, 44, 45],\n",
    " [50, 51, 52, 53, 54, 55]]\n",
    "```\n",
    "\n",
    "And reproduce the fancy indexing shown in the figure:\n",
    "\n",
    "![https://scipy-lectures.org/_images/numpy_fancy_indexing.png](https://scipy-lectures.org/_images/numpy_fancy_indexing.png)\n",
    "\n",
    "Finally, use fancy indexing on the left and array creation on the right to assign values into an array, for instance by setting parts of the array in the diagram above to zero."
   ]
  },
  {
   "cell_type": "code",
   "execution_count": 164,
   "metadata": {},
   "outputs": [],
   "source": [
    "##Construcción del array\n",
    "a = np.full((6,6), 10)\n",
    "#Primer broadcasting para conseguir múltiplos de 10\n",
    "b = np.arange(0,6)\n",
    "b1 = np.reshape(b, (6,1))\n",
    "a = a * b1\n",
    "#Segundo broadcasting para sumar números\n",
    "b2 = b\n",
    "a = a + b2"
   ]
  },
  {
   "cell_type": "code",
   "execution_count": 165,
   "metadata": {},
   "outputs": [
    {
     "data": {
      "text/plain": [
       "array([[ 0,  1,  2,  3,  4,  5],\n",
       "       [10, 11, 12, 13, 14, 15],\n",
       "       [20, 21, 22, 23, 24, 25],\n",
       "       [30, 31, 32, 33, 34, 35],\n",
       "       [40, 41, 42, 43, 44, 45],\n",
       "       [50, 51, 52, 53, 54, 55]])"
      ]
     },
     "execution_count": 165,
     "metadata": {},
     "output_type": "execute_result"
    }
   ],
   "source": [
    "a"
   ]
  },
  {
   "cell_type": "code",
   "execution_count": 103,
   "metadata": {},
   "outputs": [
    {
     "name": "stdout",
     "output_type": "stream",
     "text": [
      "[ 1 12 23 34 45] \n",
      "\n",
      "[[30 32 35]\n",
      " [40 42 45]\n",
      " [50 52 55]] \n",
      "\n",
      "[ 2 22 52]\n"
     ]
    }
   ],
   "source": [
    "#Reproducimos el Fancy Indexing\n",
    "# 1\n",
    "print(a[np.arange(0,5),np.arange(1,6)], \"\\n\")\n",
    "# 2\n",
    "print(a[3:, (0,2,5)], \"\\n\")\n",
    "# 3\n",
    "mask = np.array([1,0,1,0,0,1], dtype = bool)\n",
    "print(a[mask, 2])"
   ]
  },
  {
   "cell_type": "code",
   "execution_count": 178,
   "metadata": {},
   "outputs": [
    {
     "data": {
      "text/plain": [
       "array([[ 0,  0,  0,  3,  4,  5],\n",
       "       [10, 11,  0, 13, 14, 15],\n",
       "       [20, 21,  0,  0, 24, 25],\n",
       "       [ 0, 31,  0, 33,  0,  0],\n",
       "       [ 0, 41,  0, 43, 44,  0],\n",
       "       [ 0, 51,  0, 53, 54,  0]])"
      ]
     },
     "execution_count": 178,
     "metadata": {},
     "output_type": "execute_result"
    }
   ],
   "source": [
    "# Usamos Fancy Indexing para poner ceros\n",
    "# 1\n",
    "a[np.arange(0,5),np.arange(1,6)] = 0\n",
    "# 2\n",
    "a[3:, (0,2,5)] = 0\n",
    "# 3\n",
    "mask = np.array([1,0,1,0,0,1], dtype = bool)\n",
    "a[mask, 2] = 0\n",
    "a"
   ]
  },
  {
   "cell_type": "markdown",
   "metadata": {},
   "source": [
    "## Random walker\n",
    "\n",
    "Let's do it using just pure Python (no NumPy). Generate a sample from a random walker and plot it."
   ]
  },
  {
   "cell_type": "code",
   "execution_count": 5,
   "metadata": {},
   "outputs": [
    {
     "name": "stderr",
     "output_type": "stream",
     "text": [
      "Matplotlib is building the font cache; this may take a moment.\n"
     ]
    }
   ],
   "source": [
    "import random\n",
    "import matplotlib.pyplot as plt"
   ]
  },
  {
   "cell_type": "code",
   "execution_count": 105,
   "metadata": {},
   "outputs": [],
   "source": [
    "position = 0\n",
    "walk = [position]\n",
    "steps = 1000\n",
    "\n",
    "for i in range(steps):\n",
    "    step = 1 if random.randint(0,1) else -1\n",
    "    position += step\n",
    "    walk.append(position)"
   ]
  },
  {
   "cell_type": "code",
   "execution_count": 106,
   "metadata": {},
   "outputs": [
    {
     "data": {
      "text/plain": [
       "[<matplotlib.lines.Line2D at 0x7f882ef71ac8>]"
      ]
     },
     "execution_count": 106,
     "metadata": {},
     "output_type": "execute_result"
    },
    {
     "data": {
      "image/png": "[encoded data removed]",
      "text/plain": [
       "<Figure size 432x288 with 1 Axes>"
      ]
     },
     "metadata": {},
     "output_type": "display_data"
    }
   ],
   "source": [
    "plt.plot(walk)"
   ]
  },
  {
   "cell_type": "markdown",
   "metadata": {},
   "source": [
    "## Random walker with NumPy"
   ]
  },
  {
   "cell_type": "code",
   "execution_count": 2,
   "metadata": {},
   "outputs": [],
   "source": [
    "import numpy as np"
   ]
  },
  {
   "cell_type": "markdown",
   "metadata": {},
   "source": [
    "Generate a matrix named `steps` that contains 1000 rows where every row is a sample of a 500 random steps (that means that `np.shape` is `(1000, 500)` and `np.unique(steps)` is `[-1, 1]`). Use `np.random.randint` to generate random values."
   ]
  },
  {
   "cell_type": "code",
   "execution_count": 2,
   "metadata": {},
   "outputs": [],
   "source": [
    "np.random.seed(10)"
   ]
  },
  {
   "cell_type": "code",
   "execution_count": 3,
   "metadata": {},
   "outputs": [],
   "source": [
    "nrow = 1000\n",
    "ncol = 500\n",
    "\n",
    "a = np.random.randint(2, size = nrow*ncol)\n",
    "a[a == 0] = -1\n",
    "steps = np.reshape(a, (nrow, ncol))"
   ]
  },
  {
   "cell_type": "markdown",
   "metadata": {},
   "source": [
    "Generate the `positions` matrix, of shape `(1000, 500)` that contains the position of every step of the walk (hint: `np.cumsum`)."
   ]
  },
  {
   "cell_type": "code",
   "execution_count": 4,
   "metadata": {},
   "outputs": [],
   "source": [
    "positions = np.cumsum(steps, axis = 1)"
   ]
  },
  {
   "cell_type": "code",
   "execution_count": 8,
   "metadata": {},
   "outputs": [
    {
     "data": {
      "text/plain": [
       "[<matplotlib.lines.Line2D at 0x287753a1f60>]"
      ]
     },
     "execution_count": 8,
     "metadata": {},
     "output_type": "execute_result"
    },
    {
     "data": {
      "image/png": "[encoded data removed]",
      "text/plain": [
       "<Figure size 432x288 with 1 Axes>"
      ]
     },
     "metadata": {
      "needs_background": "light"
     },
     "output_type": "display_data"
    }
   ],
   "source": [
    "plt.plot(positions[1, :])"
   ]
  },
  {
   "cell_type": "markdown",
   "metadata": {},
   "source": [
    "Print the longest and shortest positions reached by any of the walks."
   ]
  },
  {
   "cell_type": "code",
   "execution_count": 207,
   "metadata": {},
   "outputs": [
    {
     "name": "stdout",
     "output_type": "stream",
     "text": [
      "Maximos:\n",
      " [14  1  6 11 33  9  3 10 33 16 46 23  0  5  5  8  5  8 12 11 -1 28 19 31\n",
      "  1  8 58  4  6  2 23  4 18 -1 14  2 37 39 41 11 24 23  4 31 23 28  3 20\n",
      " 22  9 19  0  8 25 37 46 12 40 18  4  8 22 21  1 19 11  1 22 23 53 26 11\n",
      " 12 36 25  3  8 14 48  6  0 11 13 14 10 29  1 11 16 34 20 41  5 12  3  0\n",
      " 19 33  7 15  4 14 20 16 22 28 12 48 19 29  1  5  5  5 24 10  7 41  3  8\n",
      " 16 16  3  6 18 13  2 29  3 26 15 35 11 27 15 33  7 23 19  9 13 24  1 54\n",
      " 22  3 11 19 34 21  1 26 43 11 14  3  5  6  9 25 14 30 36 27 29 18 32 14\n",
      " 60 56 33 37 17  6  6  1 13  7 10 11  6 31 16 13  6 18 30 28 30 40 21 31\n",
      " 23 20  2 15 42  9 54  3  6 10  7 21 11  1  8 17 36  6 43 37 22  1 58 36\n",
      " 38 13 13  1  4  6 19  1 28 -1 23 10  9 13 16 30 52 26  4 22 16  1  6 17\n",
      "  3 24  0 11 36 11  7 13 15 12 26 17  7 44  6  4 22  5 22 32 32 11 23 30\n",
      "  2  8 18 41  3 17 16  3 54 21 34 18 16 27 19  7 37 24 24  3  8 33 37 22\n",
      " 35 24 32  8 19 19  9 36 38 41  3 10 56 37 15  5 52  4 18 33 26 34 19  4\n",
      "  4 15  1 20 19  0  3 24  0  2 27 10 19  8  7 10  1 43  8 16  7 52 22 10\n",
      " 32 10  5  1 12 20  0 24 37  3 14 -1 35 15  5  9 20 12  0 18 26 16 21 13\n",
      "  5 28 10 14 24 32 16 10  1 42  9 46 19  9 35 18  2 30 11 33 24 25 20 10\n",
      " 15 18  4 -1  9 35 20 18 25  9  2 21 43 29 14 24 19  0  2 19 47  3 21  6\n",
      "  3 41  2 30 50 13  9  5 39 17 54 28 15 13 18 31  8  6  9 27 23 13 13 31\n",
      "  4 14 29 40  4 27 45 17 13 29 10 38  6  1  4 42 43 10  3 23 11 22 10  4\n",
      "  7  2 33 67  7 54 18 21  8  0 22  7 15  5 23 15  5  7  2  5  5 26 16 17\n",
      "  9 28 20 19 10  8 24 34 13  2  3 11  3 11 19 10 16  6 32 -1  8  6  5 14\n",
      "  7 29  2  5  0 10 12 19  7  6 20 17 28 15  3 39 27  3 31 12  0 11 17  3\n",
      "  1 33 16 20 22 51 66  6 33  0 22  7 48  7 24  2 -1  2  3 13 21 32  0  1\n",
      " 36 17 14 31 21 26 22 74  1 29 22 30  5  8  5  9  2 26 19 17  3  5  5 15\n",
      " 15 10 25  8 19 11  6  4 36 34 11 17 19 23 39 10 13 30 42 12  7 24 14 40\n",
      "  4 26 26 31 20  6  5  1  4 12  4 21 30 17 14  9 35 25 15  5  8  2 26  4\n",
      " 10  9 13 -1  2 41 -1  3 18  9 37 26 15 23 44 10 19 15 19 12 29 16 17 33\n",
      " 28 12 14  6 23 19 13 28 57 26  6  1 16 11 30 30 28  5 33 24  6 21  8 11\n",
      "  8 25  7 27  1 23  7  5 49 11  4  7 21 18 15 13 -1 19 11 17 30 18 11  8\n",
      "  7 19 14  5 17 20 13 20 13  5 25 45 15 23  7 27 12  2 43 11  9 48 31 21\n",
      "  1 36 17 22 10 51 20 23 31 39  6  8 32 11 24  6 16 12  8 29 21  5 21 23\n",
      " 13 16 28  6 32 15 36 47  4  0 16 20 17 15  4  5  7  9 15 24 12  4 33 20\n",
      "  8 17 24  7  9 27 10  2  4  1 23  4  2  2 30 16 28  2 10 33 35 17 32 14\n",
      " 38 27  1 17 14 15 38 16 20 17 31  5  1 33 18  8 54  4 40 36  6 12 23 36\n",
      " 26 21 21 19 22 18  8 12 10 10 38 23 27  2 33 31 28 14  8  9 12  9 25  5\n",
      " 42  7  3 37 36 13  1 50 -1 22 27 12  7  1 42 28  3  7  6  9 18 13 27 23\n",
      " 11  4 18 -1 40  0  3 10  3 20 19 31 35 23 21 13  6  8 29 10 13 13 14 12\n",
      "  5 10 28 50 12 22 10 44  2  5  1  9  1 11 20  5  6 14  6  9 20 31  6  8\n",
      "  7 24 24  4 19 15 17  3 23  4 35  1 13 16 18 10 26 11 28 13 32 36 29 21\n",
      " 34  1 19  9 40 57 17  2 12  2 31 19  9  7  5 21 44 23 26  3 10 13 18 37\n",
      " 21 12  1  6  9  3  2 17 14  2 12 18 29 35 25 31 17 26  7 36 12 33 26  4\n",
      " 19 37  2 29  1 10 15  0 20 26 19  3  7 16 16  4]\n",
      "Mínimos:\n",
      " [-16 -34 -44 -24   1 -41 -26 -25  -2 -15  -4 -20 -37 -25 -32 -40 -51 -11\n",
      " -27 -19 -32  -1 -12  -4 -39 -19  -2 -31 -14 -40 -14 -34 -18 -31 -33 -27\n",
      "  -9 -15  -5 -56   0 -11 -40 -20  -1  -5 -33 -11 -11 -33  -6 -35 -14 -18\n",
      "  -5  -2 -21   1  -3 -30 -23 -14  -9 -24 -14 -31 -16  -7  -4  -3 -16 -18\n",
      " -20  -1  -8 -28 -21 -35  -3 -23 -29 -17 -16 -18 -21  -6 -46  -9 -15 -10\n",
      "  -8  -1 -40 -20 -26 -38 -11  -5 -21 -18 -39  -9  -1 -11  -1  -2 -28 -10\n",
      "  -4  -1 -19 -32 -17 -32  -6 -20 -32  -7 -18 -14  -1 -13 -31 -14 -14 -18\n",
      " -16  -3 -18  -1  -8  -1 -13  -1 -25 -20 -16   0  -1 -34 -19  -8 -42  -1\n",
      " -24 -40 -13  -9 -11 -19 -28  -3   0 -34 -16 -50 -20 -28 -15  -5 -17 -19\n",
      "  -9 -12  -8 -30  -4 -12  -8  -1  -1  -2 -15 -35 -15 -28 -23 -22 -27  -8\n",
      " -37  -4  -7 -32 -25 -19  -4  -8  -7   0  -8 -19  -4  -3 -46 -15 -14 -12\n",
      "  -4 -23 -22 -25 -34 -20 -25 -24 -10 -10 -22 -48  -2   1 -18 -35  -7  -6\n",
      "   0 -21 -16 -40 -37 -59 -19 -26  -7 -26 -31 -14 -28 -24 -14 -12  -1  -7\n",
      " -36  -1 -14 -25 -11 -17 -27 -22 -57 -26   1  -8 -46 -15 -15 -16 -10 -16\n",
      " -28  -6 -21 -18 -25 -19  -1  -7  -1 -47 -14  -5 -22 -28 -11  -7 -21  -5\n",
      " -22 -26  -1 -12  -1 -13 -33 -11 -17 -13  -5   0  -4 -44 -34  -6   1  -6\n",
      " -10  -6  -9 -28 -12  -7 -34  -5   0  -2 -34 -30  -3  -4 -11 -34  -3 -32\n",
      "  -8  -6  -7  -2  -5 -53 -31  -2 -24 -25 -12 -22 -30  -1 -35 -41  -1 -13\n",
      " -10 -16 -40 -22 -42   1 -18  -8 -24  -1  -9 -35  -6 -11 -25 -37 -20  -7\n",
      " -38  -1  -1 -23  -6 -28   0 -10 -46 -15 -11  -8 -32  -7 -10 -26  -2 -36\n",
      " -18  -2 -16 -25  -9   0 -12 -17 -29  -7 -24  -2 -27 -22  -4 -15 -39   0\n",
      " -26   1  -5  -2 -15 -21 -17  -5 -24 -28 -22   1  -5 -16 -13 -27 -31  -5\n",
      "  -1  -3 -25 -13  -5 -35 -59  -4  -2 -36 -19 -22 -19  -1 -29  -1  -8 -25\n",
      " -14 -56  -4  -9  -3  -8 -10 -12  -5   0 -33 -31 -37  -4 -18  -6 -20  -3\n",
      " -28 -34  -3  -7 -31  -5  -1 -24  -6  -6 -21  -2 -32 -21 -18  -9 -18 -22\n",
      " -28  -5 -34  -9 -38 -17 -48 -57  -1   1 -42  -3  -6 -11 -22 -42 -23 -22\n",
      " -37 -36  -3 -20 -23 -21 -25 -22 -40 -10 -18 -29 -44  -7 -13  -7 -12 -19\n",
      "  -5  -2 -38 -47 -38  -9 -40 -28 -16 -14  -6 -37  -1 -24 -21 -38 -23  -4\n",
      " -21  -9 -19 -37 -23 -13 -39  -3 -19 -31 -15 -19  -9 -21 -40  -8  -1 -26\n",
      "  -5  -9 -54 -12  -4 -31 -52  -3 -12  -9  -7  -6  -5 -29  -1 -43 -14 -21\n",
      "  -4 -27 -10 -32 -20 -33 -31 -11  -6  -4 -51 -40  -4 -16 -18  -6 -21  -3\n",
      " -16  -1 -26  -4  -5 -21 -28 -32 -22 -12 -23 -15 -13 -38 -33 -53 -20  -7\n",
      "  -3 -31  -4 -12 -12 -15 -12 -21  -4  -2  -9 -10 -17  -3 -20 -46 -11   0\n",
      "  -3 -27 -29 -21 -25   0 -52  -5 -11  -9  -6 -17 -28 -39 -24 -41 -17  -8\n",
      "  -7 -18 -20 -25  -4  -6 -22 -42 -37 -69  -7 -17 -18 -32 -24 -27 -26  -8\n",
      " -30 -23  -7 -18  -1  -4 -11  -4 -11 -17 -11 -24 -29 -14   0 -11 -17  -7\n",
      " -10 -13 -15 -28  -1 -11 -19 -23  -1 -23 -62 -31 -16 -19  -2   0 -11 -32\n",
      "  -2 -24 -18  -5 -22 -10 -22  -7 -17   1 -33  -3 -27 -29 -10 -56 -24 -29\n",
      "  -6 -14 -14 -17 -27 -15 -22 -24  -8 -10 -34 -17 -22  -6  -4 -14  -2 -12\n",
      "  -9 -15  -5 -54  -4  -3 -10 -12 -19  -6 -26 -39  -5 -17 -12  -1  -2 -16\n",
      " -43  -5  -4 -13 -26  -8  -4  -2 -19  -3 -41 -13  -3 -31  -5 -32 -22 -19\n",
      " -27 -22 -14 -51 -15  -9 -32  -7  -6 -28  -1 -15  -1  -2 -39 -34  -6 -14\n",
      " -15 -30 -22 -32 -24 -21 -24  -8 -20 -37  -5  -3 -19  -5 -10 -38 -16  -4\n",
      " -26 -50 -18 -21  -4 -17 -38 -31 -11 -21  -8 -25 -37  -3  -7 -18  -4  -9\n",
      "  -9 -10 -22  -9 -11  -9  -9 -13  -3 -13  -3 -45 -27   0  -5 -17  -2 -21\n",
      "  -1  -7 -20  -4  -7  -1 -12  -3  -5 -22 -12 -14 -45 -23 -11 -20  -4 -21\n",
      "  -3 -38   0 -21  -6 -22 -15 -32 -14 -23  -9 -26 -14 -74 -31  -3  -7 -29\n",
      " -27 -11 -41  -7  -1 -13 -20 -30   0  -8 -32 -20 -22 -19  -7 -15   0 -15\n",
      " -27 -18  -6 -27  -6 -25 -25  -9 -53   1  -5  -2 -14  -3  -8 -14 -24 -24\n",
      "  -1 -11 -34 -10 -18 -14 -33 -27   1  -3 -15 -17 -14  -2 -30 -27 -46 -10\n",
      " -16 -36 -14 -30 -50 -10 -13 -16  -1  -2 -32 -36 -27 -26  -6 -43 -22 -18\n",
      "  -8 -21 -13 -24  -5 -33  -9  -1 -10 -12 -34 -13  -3  -5  -9  -6  -4 -10\n",
      "  -7 -44 -13 -21  -1  -1 -21 -28 -32 -47 -11  -7 -16 -42 -23  -6  -5 -14\n",
      " -12 -22 -32 -16 -11  -2  -7 -15 -27 -57 -17 -14 -25 -10 -24 -22  -8  -8\n",
      "  -4  -3 -10  -5 -10  -2 -33  -2 -20   1 -27 -44 -10   0 -31  -2 -44 -34\n",
      " -18 -51   1  -2  -1 -37 -24 -14  -4 -15]\n"
     ]
    }
   ],
   "source": [
    "print('Maximos:\\n', positions.max(axis = 1))\n",
    "print('Mínimos:\\n', positions.min(axis = 1))"
   ]
  },
  {
   "cell_type": "markdown",
   "metadata": {},
   "source": [
    "Show the number of walks that reached either 30 steps in any of the directions (hint: `np.abs` and `any`)."
   ]
  },
  {
   "cell_type": "code",
   "execution_count": 214,
   "metadata": {},
   "outputs": [
    {
     "data": {
      "text/plain": [
       "369"
      ]
     },
     "execution_count": 214,
     "metadata": {},
     "output_type": "execute_result"
    }
   ],
   "source": [
    "mask = np.any(abs(positions) == 30, axis = 1)\n",
    "n = len(positions[mask])\n",
    "n"
   ]
  },
  {
   "cell_type": "markdown",
   "metadata": {},
   "source": [
    "For the walkers that reached 30 steps in any of the directions, show the step at which they reached the longest position (hint: `argmax`)."
   ]
  },
  {
   "cell_type": "code",
   "execution_count": 222,
   "metadata": {},
   "outputs": [
    {
     "data": {
      "text/plain": [
       "array([491, 389, 132, 334, 278, 299, 490, 377, 431, 492, 225, 444, 378,\n",
       "       493, 320, 445, 479, 218, 386, 476, 494, 400, 317, 195, 468, 494,\n",
       "       498, 466, 216, 497, 261, 349, 492, 472, 387, 476, 459, 481, 493,\n",
       "       256, 499, 257, 406, 148, 431, 345, 365, 323, 498, 244, 400, 472,\n",
       "       499, 389, 357, 489, 373, 210, 231, 497, 153, 399, 499, 465, 497,\n",
       "       495, 482, 392, 480, 494, 450, 133, 211, 393, 223, 482, 471, 475,\n",
       "       493, 493, 425, 371, 396, 406, 342, 425, 443, 373, 387, 494, 498,\n",
       "       160, 495, 489, 467, 330, 195, 499, 465, 351, 155, 394, 449, 418,\n",
       "       495, 339, 450, 432, 499, 323, 268, 166, 462, 297, 327, 329, 261,\n",
       "       498, 185, 295, 355, 412, 445, 315, 459, 386, 489, 498, 280, 499,\n",
       "       342, 472, 415, 473, 496, 441, 262, 315, 376, 453, 472, 498, 315,\n",
       "       253, 103, 499, 453, 447, 200, 488, 241, 458, 460, 396, 460, 476,\n",
       "       488, 486, 263, 156, 335, 449, 451, 480, 433, 394, 268, 474, 380,\n",
       "       392, 449, 473, 274, 494, 203, 499, 455, 496, 469, 499, 441, 408,\n",
       "       106, 498, 499, 499, 331, 458, 401, 385, 343, 231, 329, 434, 291,\n",
       "       449, 430, 499, 459, 412, 464, 306, 341, 484, 208, 461, 468, 373,\n",
       "       376, 424, 467, 330, 458, 379, 111, 418, 332, 349, 486, 487, 321,\n",
       "       490, 375, 495, 387, 495, 424, 448, 452, 217, 311, 498, 493, 241,\n",
       "       493, 307, 383, 246, 364, 266, 497, 230, 421, 444, 488, 487, 436,\n",
       "       227, 296, 483, 232, 492, 497, 364, 147, 455, 461, 320, 244, 424,\n",
       "       499, 499, 493, 363, 470, 138, 426, 499, 386, 498, 209, 496, 188,\n",
       "       224, 470, 353, 362, 495, 488, 459, 255, 451, 430, 494, 395, 131,\n",
       "       301, 496, 424, 499, 305, 499, 378, 233, 498, 252, 374, 477, 465,\n",
       "       413, 296, 358, 478, 497, 491, 483, 161, 382, 483, 405, 112, 200,\n",
       "       497, 447, 435, 232, 458, 317, 491, 248, 391, 483, 171, 499, 410,\n",
       "       230, 476, 485, 440, 457, 451, 155, 427, 479, 495, 499, 468, 435,\n",
       "       471, 210, 318, 226, 493, 437, 499, 171, 499, 491, 412, 459, 354,\n",
       "       438, 339, 425, 451, 390, 480, 222, 468, 474, 477, 116, 429, 486,\n",
       "       286, 349, 423, 464, 294])"
      ]
     },
     "execution_count": 222,
     "metadata": {},
     "output_type": "execute_result"
    }
   ],
   "source": [
    "mask = np.any(abs(positions) == 30, axis = 1)\n",
    "maxPos = np.argmax(abs(positions[mask]), axis = 1)\n",
    "maxPos"
   ]
  },
  {
   "cell_type": "markdown",
   "metadata": {},
   "source": [
    "## Random Walker with h5py\n",
    "\n",
    "Now you will generate lots of random walker samples and you will use HDF5 to store them.\n",
    "\n",
    "1. Create the HDF5 file named `walks.h5`.\n",
    "2. Create a group named `walks`.\n",
    "3. Create a dataset named `walks` in the `walks` group. The dataset must use **contiguous** storage (not chunked).\n",
    "4. You will create 10 million random walk samples of length 500 and type `np.int64` and you will store them in the `walks` dataset.\n",
    "5. Before starting task 4 and based on the size of the dataset and the size of the dtype, can you calculate an approximation of the resulting file size?\n",
    "6. While the notebook executes the task of storing the walks in the HDF5 file, open the CPU, RAM and disk monitor of your operative system and take a look to resources being used.\n",
    "7. Answer again the questions from the previous NumPy exercise but using the 10 million walks you have just generated."
   ]
  },
  {
   "cell_type": "code",
   "execution_count": 2,
   "metadata": {
    "scrolled": true
   },
   "outputs": [],
   "source": [
    "import numpy as np\n",
    "import h5py\n",
    "import os\n",
    "#import matplotlib.pyplot as plt"
   ]
  },
  {
   "cell_type": "code",
   "execution_count": 39,
   "metadata": {},
   "outputs": [],
   "source": [
    "#1) Creamos el archivo h5py\n",
    "f = h5py.File(\"walks.h5\", \"w\")\n",
    "#2) Creamos el subgrupo\n",
    "walks = f.create_group(\"walks\")"
   ]
  },
  {
   "cell_type": "code",
   "execution_count": 40,
   "metadata": {},
   "outputs": [],
   "source": [
    "#3) Creamos el dataset\n",
    "dset = walks.create_dataset(\"walks\", (10_000_000, 500), dtype = np.int64)"
   ]
  },
  {
   "cell_type": "code",
   "execution_count": 41,
   "metadata": {},
   "outputs": [
    {
     "data": {
      "text/plain": [
       "'/walks/walks'"
      ]
     },
     "execution_count": 41,
     "metadata": {},
     "output_type": "execute_result"
    }
   ],
   "source": [
    "dset.name"
   ]
  },
  {
   "cell_type": "code",
   "execution_count": 43,
   "metadata": {},
   "outputs": [
    {
     "name": "stdout",
     "output_type": "stream",
     "text": [
      "20\n"
     ]
    }
   ],
   "source": [
    "#5) Calculamos el tamaño aprox del archivo\n",
    "bytes_ntype = 64//8\n",
    "nrow = 5_000_000 #Reducimos el número de trayectorias a la mitad para reducir el espacio necesario\n",
    "ncol = 500\n",
    "\n",
    "estSize = bytes_ntype * nrow * ncol // (1000 * 1000 * 1000) #Calculamos el tamaño estimado en GB\n",
    "print(estSize)"
   ]
  },
  {
   "cell_type": "markdown",
   "metadata": {},
   "source": [
    "El tamaño del archivo es de **20** GB, claramente mucho superior que la memoria RAM de cualquier ordenador convencional. Por ello, tendremos que ir añadiendo secuencialmente datos al archivo .h5"
   ]
  },
  {
   "cell_type": "code",
   "execution_count": 44,
   "metadata": {},
   "outputs": [
    {
     "ename": "NameError",
     "evalue": "name 'os' is not defined",
     "output_type": "error",
     "traceback": [
      "\u001b[1;31m---------------------------------------------------------------------------\u001b[0m",
      "\u001b[1;31mNameError\u001b[0m                                 Traceback (most recent call last)",
      "\u001b[1;32m~\\AppData\\Local\\Temp/ipykernel_8024/3693272989.py\u001b[0m in \u001b[0;36m<module>\u001b[1;34m\u001b[0m\n\u001b[0;32m     14\u001b[0m     \u001b[0mstop\u001b[0m \u001b[1;33m=\u001b[0m \u001b[1;33m(\u001b[0m\u001b[0mi\u001b[0m\u001b[1;33m+\u001b[0m\u001b[1;36m1\u001b[0m\u001b[1;33m)\u001b[0m\u001b[1;33m*\u001b[0m\u001b[0mnrow\u001b[0m\u001b[1;33m\u001b[0m\u001b[1;33m\u001b[0m\u001b[0m\n\u001b[0;32m     15\u001b[0m     \u001b[0mdset\u001b[0m\u001b[1;33m[\u001b[0m\u001b[0mstart\u001b[0m\u001b[1;33m:\u001b[0m\u001b[0mstop\u001b[0m\u001b[1;33m,\u001b[0m \u001b[1;33m:\u001b[0m\u001b[1;33m]\u001b[0m \u001b[1;33m=\u001b[0m \u001b[0mnp\u001b[0m\u001b[1;33m.\u001b[0m\u001b[0mcumsum\u001b[0m\u001b[1;33m(\u001b[0m\u001b[0msteps\u001b[0m\u001b[1;33m,\u001b[0m \u001b[0maxis\u001b[0m \u001b[1;33m=\u001b[0m \u001b[1;36m1\u001b[0m\u001b[1;33m)\u001b[0m\u001b[1;33m\u001b[0m\u001b[1;33m\u001b[0m\u001b[0m\n\u001b[1;32m---> 16\u001b[1;33m \u001b[0mprint\u001b[0m\u001b[1;33m(\u001b[0m\u001b[0mos\u001b[0m\u001b[1;33m.\u001b[0m\u001b[0mstat\u001b[0m\u001b[1;33m(\u001b[0m\u001b[1;34m\"walks.h5\"\u001b[0m\u001b[1;33m)\u001b[0m\u001b[1;33m.\u001b[0m\u001b[0mst_size\u001b[0m \u001b[1;33m//\u001b[0m \u001b[1;33m(\u001b[0m\u001b[1;36m10\u001b[0m\u001b[1;33m**\u001b[0m\u001b[1;36m9\u001b[0m\u001b[1;33m)\u001b[0m\u001b[1;33m)\u001b[0m\u001b[1;33m\u001b[0m\u001b[1;33m\u001b[0m\u001b[0m\n\u001b[0m",
      "\u001b[1;31mNameError\u001b[0m: name 'os' is not defined"
     ]
    }
   ],
   "source": [
    "#4) Añadimos las trayectorias al archivo .h5\n",
    "# Despejando de la ecuación anterior, fijando el tamaño por ejemplo a 4GB podemos averiguar cuál será el tamaño de las\n",
    "# filas que tenemos que ir insertando en el archivo\n",
    "\n",
    "ramCap = 4  #Capacidad de la RAM (no utilizamos toda para que no muera el ordenador)\n",
    "nrow = ramCap * 1000*1000*1000 //(bytes_ntype * ncol)\n",
    "for i in range(estSize//ramCap):\n",
    "    # Creamos el array con las trayectorias\n",
    "    a = np.random.randint(2, size = nrow*ncol)\n",
    "    a[a == 0] = -1\n",
    "    steps = np.reshape(a, (nrow, ncol))\n",
    "    #Creamos los límites para el dataset\n",
    "    start = i*nrow\n",
    "    stop = (i+1)*nrow\n",
    "    dset[start:stop, :] = np.cumsum(steps, axis = 1)\n",
    "print(os.stat(\"walks.h5\").st_size // (10**9))"
   ]
  },
  {
   "cell_type": "code",
   "execution_count": 46,
   "metadata": {},
   "outputs": [
    {
     "name": "stdout",
     "output_type": "stream",
     "text": [
      "20\n"
     ]
    }
   ],
   "source": [
    "print(os.stat(\"walks.h5\").st_size // (10**9))"
   ]
  },
  {
   "cell_type": "code",
   "execution_count": 47,
   "metadata": {},
   "outputs": [],
   "source": [
    "f.close()"
   ]
  },
  {
   "cell_type": "markdown",
   "metadata": {},
   "source": [
    "7. Answer again the questions from the previous NumPy exercise but using the 10 million walks you have just generated."
   ]
  },
  {
   "cell_type": "code",
   "execution_count": 3,
   "metadata": {},
   "outputs": [],
   "source": [
    "f = h5py.File(\"walks.h5\", \"r\")\n",
    "walks = f[\"walks\"]"
   ]
  },
  {
   "cell_type": "markdown",
   "metadata": {},
   "source": [
    "Print the longest and shortest positions reached by any of the walks."
   ]
  },
  {
   "cell_type": "code",
   "execution_count": 29,
   "metadata": {},
   "outputs": [
    {
     "data": {
      "text/plain": [
       "<HDF5 dataset \"walks\": shape (10000000, 500), type \"<i8\">"
      ]
     },
     "execution_count": 29,
     "metadata": {},
     "output_type": "execute_result"
    }
   ],
   "source": [
    "positions = walks[\"walks\"]\n",
    "positions"
   ]
  },
  {
   "cell_type": "code",
   "execution_count": 4,
   "metadata": {},
   "outputs": [],
   "source": [
    "bytes_ntype = 64//8\n",
    "ncol = 500\n",
    "ramCap = 4\n",
    "nrow = 5_000_000\n",
    "\n",
    "estSize = bytes_ntype * nrow * ncol // (1000 * 1000 * 1000)\n",
    "nrowEst = ramCap * 1000*1000*1000 //(bytes_ntype * ncol)"
   ]
  },
  {
   "cell_type": "code",
   "execution_count": 36,
   "metadata": {},
   "outputs": [
    {
     "name": "stdout",
     "output_type": "stream",
     "text": [
      "Maximos entre 0 y 1000000:\n",
      " [29  2  2 ... 12 26  8]\n",
      "Mínimos entre 0 y 1000000:\n",
      " [ -4 -25 -17 ... -34 -18 -47]\n",
      "Maximos entre 1000000 y 2000000:\n",
      " [17 26 29 ... 13 32 41]\n",
      "Mínimos entre 1000000 y 2000000:\n",
      " [-14 -17  -3 ... -20  -7  -5]\n",
      "Maximos entre 2000000 y 3000000:\n",
      " [28  2 29 ... 25  3 16]\n",
      "Mínimos entre 2000000 y 3000000:\n",
      " [-14 -22 -16 ... -23 -51 -15]\n",
      "Maximos entre 3000000 y 4000000:\n",
      " [13  4 42 ...  5 27  5]\n",
      "Mínimos entre 3000000 y 4000000:\n",
      " [-10 -32  -3 ... -28 -13 -31]\n",
      "Maximos entre 4000000 y 5000000:\n",
      " [24 44 10 ... 22 11 15]\n",
      "Mínimos entre 4000000 y 5000000:\n",
      " [ -7  -6 -20 ... -14  -4  -5]\n"
     ]
    }
   ],
   "source": [
    "for i in range(estSize//ramCap):\n",
    "    start = i*nrowEst\n",
    "    stop = (i+1)*nrowEst\n",
    "    arr = positions[start:stop, :]\n",
    "    print('Maximos entre %d y %d:\\n' % (start,stop), np.amax(arr, axis = 1))\n",
    "    print('Mínimos entre %d y %d:\\n' % (start,stop), np.amin(arr, axis = 1))"
   ]
  },
  {
   "cell_type": "markdown",
   "metadata": {},
   "source": [
    "Show the number of walks that reached either 30 steps in any of the directions (hint: `np.abs` and `any`)."
   ]
  },
  {
   "cell_type": "code",
   "execution_count": 69,
   "metadata": {},
   "outputs": [
    {
     "ename": "IndexError",
     "evalue": "boolean index did not match indexed array along dimension 0; dimension is 2 but corresponding boolean dimension is 1",
     "output_type": "error",
     "traceback": [
      "\u001b[1;31m---------------------------------------------------------------------------\u001b[0m",
      "\u001b[1;31mIndexError\u001b[0m                                Traceback (most recent call last)",
      "\u001b[1;32m~\\AppData\\Local\\Temp/ipykernel_6704/3801163754.py\u001b[0m in \u001b[0;36m<module>\u001b[1;34m\u001b[0m\n\u001b[0;32m      4\u001b[0m \u001b[0mmask\u001b[0m \u001b[1;33m=\u001b[0m \u001b[0mnp\u001b[0m\u001b[1;33m.\u001b[0m\u001b[0many\u001b[0m\u001b[1;33m(\u001b[0m\u001b[0mabs\u001b[0m\u001b[1;33m(\u001b[0m\u001b[0marr\u001b[0m\u001b[1;33m)\u001b[0m \u001b[1;33m==\u001b[0m \u001b[1;36m30\u001b[0m\u001b[1;33m,\u001b[0m \u001b[0maxis\u001b[0m \u001b[1;33m=\u001b[0m \u001b[1;36m1\u001b[0m\u001b[1;33m)\u001b[0m\u001b[1;33m\u001b[0m\u001b[1;33m\u001b[0m\u001b[0m\n\u001b[0;32m      5\u001b[0m \u001b[1;31m#mask = np.arange(1,3)\u001b[0m\u001b[1;33m\u001b[0m\u001b[1;33m\u001b[0m\u001b[0m\n\u001b[1;32m----> 6\u001b[1;33m \u001b[0marr\u001b[0m\u001b[1;33m[\u001b[0m\u001b[1;33m[\u001b[0m\u001b[1;32mFalse\u001b[0m\u001b[1;33m]\u001b[0m\u001b[1;33m]\u001b[0m\u001b[1;33m\u001b[0m\u001b[1;33m\u001b[0m\u001b[0m\n\u001b[0m",
      "\u001b[1;31mIndexError\u001b[0m: boolean index did not match indexed array along dimension 0; dimension is 2 but corresponding boolean dimension is 1"
     ]
    }
   ],
   "source": [
    "start = 0\n",
    "stop = 2\n",
    "arr = positions[start:stop, :]\n",
    "mask = np.any(abs(arr) == 30, axis = 1)\n",
    "#mask = np.arange(1,3)\n",
    "arr[[False]]"
   ]
  },
  {
   "cell_type": "code",
   "execution_count": 32,
   "metadata": {},
   "outputs": [
    {
     "ename": "TypeError",
     "evalue": "Indexing arrays must have integer dtypes",
     "output_type": "error",
     "traceback": [
      "\u001b[1;31m---------------------------------------------------------------------------\u001b[0m",
      "\u001b[1;31mTypeError\u001b[0m                                 Traceback (most recent call last)",
      "\u001b[1;32m~\\AppData\\Local\\Temp/ipykernel_6704/2597563515.py\u001b[0m in \u001b[0;36m<module>\u001b[1;34m\u001b[0m\n\u001b[0;32m      4\u001b[0m     \u001b[0mstop\u001b[0m \u001b[1;33m=\u001b[0m \u001b[1;33m(\u001b[0m\u001b[0mi\u001b[0m\u001b[1;33m+\u001b[0m\u001b[1;36m1\u001b[0m\u001b[1;33m)\u001b[0m\u001b[1;33m*\u001b[0m\u001b[0mnrowEst\u001b[0m\u001b[1;33m\u001b[0m\u001b[1;33m\u001b[0m\u001b[0m\n\u001b[0;32m      5\u001b[0m     \u001b[0mmask\u001b[0m \u001b[1;33m=\u001b[0m \u001b[0mnp\u001b[0m\u001b[1;33m.\u001b[0m\u001b[0many\u001b[0m\u001b[1;33m(\u001b[0m\u001b[0mabs\u001b[0m\u001b[1;33m(\u001b[0m\u001b[0mpositions\u001b[0m\u001b[1;33m[\u001b[0m\u001b[0mstart\u001b[0m\u001b[1;33m:\u001b[0m\u001b[0mstop\u001b[0m\u001b[1;33m,\u001b[0m \u001b[1;33m:\u001b[0m\u001b[1;33m]\u001b[0m\u001b[1;33m)\u001b[0m \u001b[1;33m==\u001b[0m \u001b[1;36m30\u001b[0m\u001b[1;33m,\u001b[0m \u001b[0maxis\u001b[0m \u001b[1;33m=\u001b[0m \u001b[1;36m1\u001b[0m\u001b[1;33m)\u001b[0m\u001b[1;33m\u001b[0m\u001b[1;33m\u001b[0m\u001b[0m\n\u001b[1;32m----> 6\u001b[1;33m     \u001b[0mn\u001b[0m \u001b[1;33m=\u001b[0m \u001b[0mn\u001b[0m \u001b[1;33m+\u001b[0m \u001b[0mlen\u001b[0m\u001b[1;33m(\u001b[0m\u001b[0mpositions\u001b[0m\u001b[1;33m[\u001b[0m\u001b[0mmask\u001b[0m\u001b[1;33m,\u001b[0m \u001b[1;33m:\u001b[0m\u001b[1;33m]\u001b[0m\u001b[1;33m)\u001b[0m\u001b[1;33m\u001b[0m\u001b[1;33m\u001b[0m\u001b[0m\n\u001b[0m\u001b[0;32m      7\u001b[0m \u001b[0mn\u001b[0m\u001b[1;33m\u001b[0m\u001b[1;33m\u001b[0m\u001b[0m\n",
      "\u001b[1;32mh5py\\_objects.pyx\u001b[0m in \u001b[0;36mh5py._objects.with_phil.wrapper\u001b[1;34m()\u001b[0m\n",
      "\u001b[1;32mh5py\\_objects.pyx\u001b[0m in \u001b[0;36mh5py._objects.with_phil.wrapper\u001b[1;34m()\u001b[0m\n",
      "\u001b[1;32m~\\miniconda3\\envs\\PythonJupyter\\lib\\site-packages\\h5py\\_hl\\dataset.py\u001b[0m in \u001b[0;36m__getitem__\u001b[1;34m(self, args, new_dtype)\u001b[0m\n\u001b[0;32m    781\u001b[0m \u001b[1;33m\u001b[0m\u001b[0m\n\u001b[0;32m    782\u001b[0m         \u001b[1;31m# Perform the dataspace selection.\u001b[0m\u001b[1;33m\u001b[0m\u001b[1;33m\u001b[0m\u001b[0m\n\u001b[1;32m--> 783\u001b[1;33m         \u001b[0mselection\u001b[0m \u001b[1;33m=\u001b[0m \u001b[0msel\u001b[0m\u001b[1;33m.\u001b[0m\u001b[0mselect\u001b[0m\u001b[1;33m(\u001b[0m\u001b[0mself\u001b[0m\u001b[1;33m.\u001b[0m\u001b[0mshape\u001b[0m\u001b[1;33m,\u001b[0m \u001b[0margs\u001b[0m\u001b[1;33m,\u001b[0m \u001b[0mdataset\u001b[0m\u001b[1;33m=\u001b[0m\u001b[0mself\u001b[0m\u001b[1;33m)\u001b[0m\u001b[1;33m\u001b[0m\u001b[1;33m\u001b[0m\u001b[0m\n\u001b[0m\u001b[0;32m    784\u001b[0m \u001b[1;33m\u001b[0m\u001b[0m\n\u001b[0;32m    785\u001b[0m         \u001b[1;32mif\u001b[0m \u001b[0mselection\u001b[0m\u001b[1;33m.\u001b[0m\u001b[0mnselect\u001b[0m \u001b[1;33m==\u001b[0m \u001b[1;36m0\u001b[0m\u001b[1;33m:\u001b[0m\u001b[1;33m\u001b[0m\u001b[1;33m\u001b[0m\u001b[0m\n",
      "\u001b[1;32m~\\miniconda3\\envs\\PythonJupyter\\lib\\site-packages\\h5py\\_hl\\selections.py\u001b[0m in \u001b[0;36mselect\u001b[1;34m(shape, args, dataset)\u001b[0m\n\u001b[0;32m     80\u001b[0m         \u001b[0mselector\u001b[0m \u001b[1;33m=\u001b[0m \u001b[0m_selector\u001b[0m\u001b[1;33m.\u001b[0m\u001b[0mSelector\u001b[0m\u001b[1;33m(\u001b[0m\u001b[0mspace\u001b[0m\u001b[1;33m)\u001b[0m\u001b[1;33m\u001b[0m\u001b[1;33m\u001b[0m\u001b[0m\n\u001b[0;32m     81\u001b[0m \u001b[1;33m\u001b[0m\u001b[0m\n\u001b[1;32m---> 82\u001b[1;33m     \u001b[1;32mreturn\u001b[0m \u001b[0mselector\u001b[0m\u001b[1;33m.\u001b[0m\u001b[0mmake_selection\u001b[0m\u001b[1;33m(\u001b[0m\u001b[0margs\u001b[0m\u001b[1;33m)\u001b[0m\u001b[1;33m\u001b[0m\u001b[1;33m\u001b[0m\u001b[0m\n\u001b[0m\u001b[0;32m     83\u001b[0m \u001b[1;33m\u001b[0m\u001b[0m\n\u001b[0;32m     84\u001b[0m \u001b[1;33m\u001b[0m\u001b[0m\n",
      "\u001b[1;32mh5py\\_selector.pyx\u001b[0m in \u001b[0;36mh5py._selector.Selector.make_selection\u001b[1;34m()\u001b[0m\n",
      "\u001b[1;32mh5py\\_selector.pyx\u001b[0m in \u001b[0;36mh5py._selector.Selector.apply_args\u001b[1;34m()\u001b[0m\n",
      "\u001b[1;31mTypeError\u001b[0m: Indexing arrays must have integer dtypes"
     ]
    }
   ],
   "source": [
    "n = 0\n",
    "for i in range(estSize//ramCap):\n",
    "    start = i*nrowEst\n",
    "    stop = (i+1)*nrowEst\n",
    "    mask = np.any(abs(positions[start:stop, :]) == 30, axis = 1)\n",
    "    n = n + len(positions[mask, :])\n",
    "n"
   ]
  },
  {
   "cell_type": "markdown",
   "metadata": {},
   "source": [
    "For the walkers that reached 30 steps in any of the directions, show the step at which they reached the longest position (hint: `argmax`)."
   ]
  },
  {
   "cell_type": "code",
   "execution_count": null,
   "metadata": {},
   "outputs": [],
   "source": [
    "mask = np.any(abs(walks) == 30, axis = 1)\n",
    "maxPos = np.argmax(abs(walks[mask]), axis = 1)\n",
    "maxPos"
   ]
  },
  {
   "cell_type": "code",
   "execution_count": 18,
   "metadata": {},
   "outputs": [],
   "source": [
    "f.close()"
   ]
  }
 ],
 "metadata": {
  "kernelspec": {
   "display_name": "Python 3",
   "language": "python",
   "name": "python3"
  },
  "language_info": {
   "codemirror_mode": {
    "name": "ipython",
    "version": 3
   },
   "file_extension": ".py",
   "mimetype": "text/x-python",
   "name": "python",
   "nbconvert_exporter": "python",
   "pygments_lexer": "ipython3",
   "version": "3.6.5"
  }
 },
 "nbformat": 4,
 "nbformat_minor": 2
}
