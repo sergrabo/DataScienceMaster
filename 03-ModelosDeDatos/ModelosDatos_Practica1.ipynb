{
 "cells": [
  {
   "cell_type": "markdown",
   "metadata": {},
   "source": [
    "# HDF5\n",
    "\n",
    "HDF5 is a data model, library, and file format for storing and managing data. It supports an unlimited variety of datatypes, and is designed for flexible and efficient I/O and for high volume and complex data. HDF5 is portable and is extensible, allowing applications to evolve in their use of HDF5. The HDF5 Technology suite includes tools and applications for managing, manipulating, viewing, and analyzing data in the HDF5 format.\n",
    "\n",
    "The [h5py](https://www.h5py.org/) package is a Pythonic interface to the HDF5 binary data format. It lets you store huge amounts of numerical data, and easily manipulate that data from NumPy. h5py uses straightforward NumPy and Python metaphors, like dictionary and NumPy array syntax. For example, you can iterate over datasets in a file, or check out the .shape or .dtype attributes of datasets.\n",
    "\n",
    "`conda install -c conda-forge h5py`\n",
    "\n",
    "To get familiar with h5py, go through the [tutorial](https://docs.h5py.org/en/latest/quick.html) and reproduce the examples here. Then answer the following questions:\n",
    "\n",
    "- In SQL databases you have worked with the following entities: database, table, SQLite Studio. Which of the HDF5 entities you have seen (h5py, File and Dataset) do you think are the HDF5 equivalent of the entities in SQL?\n",
    "\n",
    "- Use the `h5dump` command to visualize the following data from the `mytestfile.hdf5` you have created in the tutorial.\n",
    "\n",
    "  - Which flag of h5dump can be used to visualize only the `header` of the file?\n",
    "  - Which flag of h5dump can be used to visualize a specific dataset?"
   ]
  },
  {
   "cell_type": "code",
   "execution_count": 1,
   "metadata": {},
   "outputs": [],
   "source": [
    "import h5py"
   ]
  },
  {
   "cell_type": "markdown",
   "metadata": {},
   "source": [
    "Hacer el tutorial: reproducir las ejecuciones que sales de https://docs.h5py.org/en/latest/quick.html"
   ]
  },
  {
   "cell_type": "markdown",
   "metadata": {
    "slideshow": {
     "slide_type": "slide"
    }
   },
   "source": [
    "# NumPy and h5py\n",
    "\n",
    "## NumPy\n",
    "\n",
    "NumPy is the fundamental package for scientific computing with Python. It contains among other things:\n",
    "\n",
    "- a powerful N-dimensional array object\n",
    "- sophisticated (broadcasting) functions\n",
    "- tools for integrating C/C++ and Fortran code\n",
    "- useful linear algebra, Fourier transform, and random number capabilities\n",
    "\n",
    "Besides its obvious scientific uses, NumPy can also be used as an efficient multi-dimensional container of generic data. Arbitrary data-types can be defined. This allows NumPy to seamlessly and speedily integrate with a wide variety of databases.\n",
    "\n",
    "NumPy is licensed under the BSD license, enabling reuse with few restrictions.\n",
    "\n",
    "##  h5py\n",
    "\n",
    "HDF5 lets you store huge amounts of numerical data in persistent storage and easily manipulate that data from NumPy. For example, you can slice into multi-terabyte datasets stored on disk, as if they were real NumPy arrays. Thousands of datasets can be stored in a single file, categorized and tagged however you want.\n",
    "\n",
    "# Performance review\n",
    "\n",
    "## Python lists\n",
    "\n",
    "We can try to emulate multidimensional arrays using nested lists. Why is this a bad idea? **Read [this](https://docs.python.org/3.7/faq/design.html#how-are-lists-implemented-in-cpython)**."
   ]
  },
  {
   "cell_type": "code",
   "execution_count": 2,
   "metadata": {
    "slideshow": {
     "slide_type": "fragment"
    }
   },
   "outputs": [
    {
     "name": "stdout",
     "output_type": "stream",
     "text": [
      "[[100, 200, 50, 400], [50, 0, 0, 100], [350, 100, 50, 200]]\n"
     ]
    }
   ],
   "source": [
    "l0 = [100, 200, 50, 400]\n",
    "l1 = [50, 0, 0, 100]\n",
    "l2 = [350, 100, 50, 200]\n",
    "ls = [l0, l1, l2]\n",
    "print(ls)"
   ]
  },
  {
   "cell_type": "code",
   "execution_count": 3,
   "metadata": {
    "slideshow": {
     "slide_type": "fragment"
    }
   },
   "outputs": [
    {
     "name": "stdout",
     "output_type": "stream",
     "text": [
      "630 µs ± 43.5 µs per loop (mean ± std. dev. of 7 runs, 1000 loops each)\n"
     ]
    }
   ],
   "source": [
    "L = range(1000)\n",
    "%timeit [i**2 for i in L]"
   ]
  },
  {
   "cell_type": "markdown",
   "metadata": {
    "slideshow": {
     "slide_type": "slide"
    }
   },
   "source": [
    "## Now with NumPy\n",
    "\n",
    "NumPy arrays are stored contiguously in memory. Also, specific routines implemented in the C language provide a perfomance boost."
   ]
  },
  {
   "cell_type": "code",
   "execution_count": 4,
   "metadata": {
    "slideshow": {
     "slide_type": "fragment"
    }
   },
   "outputs": [
    {
     "name": "stdout",
     "output_type": "stream",
     "text": [
      "[[100 200  50 400]\n",
      " [ 50   0   0 100]\n",
      " [350 100  50 200]]\n"
     ]
    }
   ],
   "source": [
    "import numpy as np\n",
    "a = np.array(ls)\n",
    "print(a)"
   ]
  },
  {
   "cell_type": "code",
   "execution_count": 5,
   "metadata": {
    "slideshow": {
     "slide_type": "fragment"
    }
   },
   "outputs": [
    {
     "name": "stdout",
     "output_type": "stream",
     "text": [
      "2.18 µs ± 283 ns per loop (mean ± std. dev. of 7 runs, 100000 loops each)\n"
     ]
    }
   ],
   "source": [
    "t = np.arange(1000)\n",
    "%timeit a**2"
   ]
  },
  {
   "cell_type": "markdown",
   "metadata": {},
   "source": [
    "# NumPy\n",
    "\n",
    "The basic NumPy type is the **ndarray** object."
   ]
  },
  {
   "cell_type": "code",
   "execution_count": 6,
   "metadata": {},
   "outputs": [
    {
     "name": "stdout",
     "output_type": "stream",
     "text": [
      "[[100 200  50 400]\n",
      " [ 50   0   0 100]\n",
      " [350 100  50 200]]\n"
     ]
    }
   ],
   "source": [
    "print(a)"
   ]
  },
  {
   "cell_type": "code",
   "execution_count": 7,
   "metadata": {},
   "outputs": [
    {
     "data": {
      "text/plain": [
       "numpy.ndarray"
      ]
     },
     "execution_count": 7,
     "metadata": {},
     "output_type": "execute_result"
    }
   ],
   "source": [
    "type(a)"
   ]
  },
  {
   "cell_type": "code",
   "execution_count": 12,
   "metadata": {},
   "outputs": [
    {
     "name": "stdout",
     "output_type": "stream",
     "text": [
      "[[1 2 3]\n",
      " [4 5 6]]\n"
     ]
    }
   ],
   "source": [
    "print(np.array(((1,2,3), (4,5,6)))) # np.array accepts SEQUENCES (Todo aquello que se puede iterar)"
   ]
  },
  {
   "cell_type": "code",
   "execution_count": 9,
   "metadata": {},
   "outputs": [
    {
     "name": "stdout",
     "output_type": "stream",
     "text": [
      "[[1000 2000  500 4000]\n",
      " [ 500    0    0 1000]\n",
      " [3500 1000  500 2000]]\n"
     ]
    }
   ],
   "source": [
    "print(a*10)"
   ]
  },
  {
   "cell_type": "code",
   "execution_count": 10,
   "metadata": {},
   "outputs": [
    {
     "name": "stdout",
     "output_type": "stream",
     "text": [
      "[[200 400 100 800]\n",
      " [100   0   0 200]\n",
      " [700 200 100 400]]\n"
     ]
    }
   ],
   "source": [
    "print(a+a)"
   ]
  },
  {
   "cell_type": "code",
   "execution_count": 11,
   "metadata": {},
   "outputs": [
    {
     "name": "stdout",
     "output_type": "stream",
     "text": [
      "[[ 42  42  42  42]\n",
      " [ 50   0   0 100]\n",
      " [350 100  50 200]]\n"
     ]
    }
   ],
   "source": [
    "b = a.copy()\n",
    "b[0] = 42 # broadcasting\n",
    "print(b)"
   ]
  },
  {
   "cell_type": "markdown",
   "metadata": {
    "slideshow": {
     "slide_type": "slide"
    }
   },
   "source": [
    "## Inside a numpy ndarray\n",
    "\n",
    "[NumPy flags](https://docs.scipy.org/doc/numpy/reference/generated/numpy.ndarray.flags.html)"
   ]
  },
  {
   "cell_type": "markdown",
   "metadata": {},
   "source": [
    "Los `strides`son una tupla cuyos elementos indican:\n",
    "* El número de bites que hay que pasar para saltar de la primera fila a la segunda, etc... Es decir, el número de elementos de cada fila multiplicado por lo que ocupa cada elemento en bytes\n",
    "* El número de bytes que hay en cada elemento del array"
   ]
  },
  {
   "cell_type": "code",
   "execution_count": 13,
   "metadata": {
    "scrolled": true,
    "slideshow": {
     "slide_type": "fragment"
    }
   },
   "outputs": [
    {
     "name": "stdout",
     "output_type": "stream",
     "text": [
      "number of elements: 12\n",
      "number of dimensions: 2\n",
      "shape: (3, 4)\n",
      "data type: int64\n",
      "strides: (32, 8)\n",
      "flags:\n",
      "  C_CONTIGUOUS : True\n",
      "  F_CONTIGUOUS : False\n",
      "  OWNDATA : True\n",
      "  WRITEABLE : True\n",
      "  ALIGNED : True\n",
      "  WRITEBACKIFCOPY : False\n",
      "  UPDATEIFCOPY : False\n",
      "\n"
     ]
    }
   ],
   "source": [
    "a = np.array([[100, 200, 50, 400], [50, 0, 0, 100], [350, 100, 50, 200]])\n",
    "\n",
    "def print_info(a):\n",
    "    print('number of elements:', a.size)\n",
    "    print('number of dimensions:', a.ndim)\n",
    "    print('shape:', a.shape)\n",
    "    print('data type:', a.dtype)\n",
    "    print('strides:', a.strides) # strides are measured in bytes\n",
    "    print('flags:')\n",
    "    print(a.flags)\n",
    "    \n",
    "print_info(a)"
   ]
  },
  {
   "cell_type": "code",
   "execution_count": 14,
   "metadata": {
    "slideshow": {
     "slide_type": "subslide"
    }
   },
   "outputs": [
    {
     "name": "stdout",
     "output_type": "stream",
     "text": [
      "number of elements: 12\n",
      "number of dimensions: 2\n",
      "shape: (3, 4)\n",
      "data type: uint8\n",
      "strides: (4, 1)\n",
      "flags:\n",
      "  C_CONTIGUOUS : True\n",
      "  F_CONTIGUOUS : False\n",
      "  OWNDATA : True\n",
      "  WRITEABLE : True\n",
      "  ALIGNED : True\n",
      "  WRITEBACKIFCOPY : False\n",
      "  UPDATEIFCOPY : False\n",
      "\n"
     ]
    }
   ],
   "source": [
    "b = a.astype(np.uint8) # astype() always creates a copy of the data\n",
    "print_info(b)"
   ]
  },
  {
   "cell_type": "code",
   "execution_count": 15,
   "metadata": {
    "slideshow": {
     "slide_type": "subslide"
    }
   },
   "outputs": [],
   "source": [
    "abytes = a.ravel().view(dtype=np.uint8) \n",
    "# ravel() saca el array visto en una sola dimensión\n",
    "# view() does not create a new copy of the data"
   ]
  },
  {
   "cell_type": "code",
   "execution_count": 16,
   "metadata": {
    "scrolled": true,
    "slideshow": {
     "slide_type": "subslide"
    }
   },
   "outputs": [
    {
     "name": "stdout",
     "output_type": "stream",
     "text": [
      "number of elements: 96\n",
      "number of dimensions: 1\n",
      "shape: (96,)\n",
      "data type: uint8\n",
      "strides: (1,)\n",
      "flags:\n",
      "  C_CONTIGUOUS : True\n",
      "  F_CONTIGUOUS : True\n",
      "  OWNDATA : False\n",
      "  WRITEABLE : True\n",
      "  ALIGNED : True\n",
      "  WRITEBACKIFCOPY : False\n",
      "  UPDATEIFCOPY : False\n",
      "\n"
     ]
    }
   ],
   "source": [
    "print_info(abytes)"
   ]
  },
  {
   "cell_type": "markdown",
   "metadata": {},
   "source": [
    "* En las copias, al modificar los valores de la copia no cambian los del array original\n",
    "* En las vistas, al modificar los valores de la vista SÍ que cambian los valores del array original"
   ]
  },
  {
   "cell_type": "code",
   "execution_count": 17,
   "metadata": {
    "scrolled": true
   },
   "outputs": [
    {
     "data": {
      "text/plain": [
       "array([100,   0,   0,   0,   0,   0,   0,   0, 200,   0,   0,   0,   0,\n",
       "         0,   0,   0,  50,   0,   0,   0,   0,   0,   0,   0, 144,   1,\n",
       "         0,   0,   0,   0,   0,   0,  50,   0,   0,   0,   0,   0,   0,\n",
       "         0,   0,   0,   0,   0,   0,   0,   0,   0,   0,   0,   0,   0,\n",
       "         0,   0,   0,   0, 100,   0,   0,   0,   0,   0,   0,   0,  94,\n",
       "         1,   0,   0,   0,   0,   0,   0, 100,   0,   0,   0,   0,   0,\n",
       "         0,   0,  50,   0,   0,   0,   0,   0,   0,   0, 200,   0,   0,\n",
       "         0,   0,   0,   0,   0], dtype=uint8)"
      ]
     },
     "execution_count": 17,
     "metadata": {},
     "output_type": "execute_result"
    }
   ],
   "source": [
    "abytes"
   ]
  },
  {
   "cell_type": "code",
   "execution_count": 18,
   "metadata": {},
   "outputs": [
    {
     "data": {
      "text/plain": [
       "array([[100, 200,  50, 400],\n",
       "       [ 50,   0,   0, 100],\n",
       "       [350, 100,  50, 200]])"
      ]
     },
     "execution_count": 18,
     "metadata": {},
     "output_type": "execute_result"
    }
   ],
   "source": [
    "a"
   ]
  },
  {
   "cell_type": "code",
   "execution_count": 20,
   "metadata": {},
   "outputs": [
    {
     "data": {
      "text/plain": [
       "array([[356, 200,  50, 400],\n",
       "       [ 50,   0,   0, 100],\n",
       "       [350, 100,  50, 200]])"
      ]
     },
     "execution_count": 20,
     "metadata": {},
     "output_type": "execute_result"
    }
   ],
   "source": [
    "# Modify values of 'abytes' and see what happens in 'a'\n",
    "abytes[1] = 1\n",
    "a"
   ]
  },
  {
   "cell_type": "markdown",
   "metadata": {
    "slideshow": {
     "slide_type": "subslide"
    }
   },
   "source": [
    "### Example: take the transpose of `a`"
   ]
  },
  {
   "cell_type": "code",
   "execution_count": 21,
   "metadata": {
    "slideshow": {
     "slide_type": "subslide"
    }
   },
   "outputs": [
    {
     "name": "stdout",
     "output_type": "stream",
     "text": [
      "number of elements: 12\n",
      "number of dimensions: 2\n",
      "shape: (3, 4)\n",
      "data type: int64\n",
      "strides: (32, 8)\n",
      "flags:\n",
      "  C_CONTIGUOUS : True\n",
      "  F_CONTIGUOUS : False\n",
      "  OWNDATA : True\n",
      "  WRITEABLE : True\n",
      "  ALIGNED : True\n",
      "  WRITEBACKIFCOPY : False\n",
      "  UPDATEIFCOPY : False\n",
      "\n"
     ]
    }
   ],
   "source": [
    "print_info(a)"
   ]
  },
  {
   "cell_type": "code",
   "execution_count": 22,
   "metadata": {
    "slideshow": {
     "slide_type": "subslide"
    }
   },
   "outputs": [
    {
     "name": "stdout",
     "output_type": "stream",
     "text": [
      "number of elements: 12\n",
      "number of dimensions: 2\n",
      "shape: (4, 3)\n",
      "data type: int64\n",
      "strides: (8, 32)\n",
      "flags:\n",
      "  C_CONTIGUOUS : False\n",
      "  F_CONTIGUOUS : True\n",
      "  OWNDATA : False\n",
      "  WRITEABLE : True\n",
      "  ALIGNED : True\n",
      "  WRITEBACKIFCOPY : False\n",
      "  UPDATEIFCOPY : False\n",
      "\n"
     ]
    }
   ],
   "source": [
    "print_info(a.T) # not a copy, same data bytes, not possible with python nested lists"
   ]
  },
  {
   "cell_type": "markdown",
   "metadata": {},
   "source": [
    "### Example: slicing"
   ]
  },
  {
   "cell_type": "code",
   "execution_count": 23,
   "metadata": {},
   "outputs": [
    {
     "name": "stdout",
     "output_type": "stream",
     "text": [
      "number of elements: 12\n",
      "number of dimensions: 2\n",
      "shape: (4, 3)\n",
      "data type: int64\n",
      "strides: (8, 32)\n",
      "flags:\n",
      "  C_CONTIGUOUS : False\n",
      "  F_CONTIGUOUS : True\n",
      "  OWNDATA : False\n",
      "  WRITEABLE : True\n",
      "  ALIGNED : True\n",
      "  WRITEBACKIFCOPY : False\n",
      "  UPDATEIFCOPY : False\n",
      "\n"
     ]
    }
   ],
   "source": [
    "print_info(a.T)"
   ]
  },
  {
   "cell_type": "code",
   "execution_count": 24,
   "metadata": {},
   "outputs": [
    {
     "name": "stdout",
     "output_type": "stream",
     "text": [
      "number of elements: 6\n",
      "number of dimensions: 2\n",
      "shape: (2, 3)\n",
      "data type: int64\n",
      "strides: (16, 32)\n",
      "flags:\n",
      "  C_CONTIGUOUS : False\n",
      "  F_CONTIGUOUS : False\n",
      "  OWNDATA : False\n",
      "  WRITEABLE : True\n",
      "  ALIGNED : True\n",
      "  WRITEBACKIFCOPY : False\n",
      "  UPDATEIFCOPY : False\n",
      "\n"
     ]
    }
   ],
   "source": [
    "print_info(a.T[::2]) # skip rows calculating on strides"
   ]
  },
  {
   "cell_type": "code",
   "execution_count": 25,
   "metadata": {},
   "outputs": [
    {
     "name": "stdout",
     "output_type": "stream",
     "text": [
      "number of elements: 4\n",
      "number of dimensions: 2\n",
      "shape: (2, 2)\n",
      "data type: int64\n",
      "strides: (16, 64)\n",
      "flags:\n",
      "  C_CONTIGUOUS : False\n",
      "  F_CONTIGUOUS : False\n",
      "  OWNDATA : False\n",
      "  WRITEABLE : True\n",
      "  ALIGNED : True\n",
      "  WRITEBACKIFCOPY : False\n",
      "  UPDATEIFCOPY : False\n",
      "\n"
     ]
    }
   ],
   "source": [
    "print_info(a.T[::2, ::2]) # skip rows and columns calculating on strides"
   ]
  },
  {
   "cell_type": "markdown",
   "metadata": {},
   "source": [
    "### Example: getting a copy"
   ]
  },
  {
   "cell_type": "code",
   "execution_count": null,
   "metadata": {},
   "outputs": [],
   "source": [
    "b = a"
   ]
  },
  {
   "cell_type": "code",
   "execution_count": null,
   "metadata": {},
   "outputs": [],
   "source": [
    "print(b)"
   ]
  },
  {
   "cell_type": "code",
   "execution_count": null,
   "metadata": {},
   "outputs": [],
   "source": [
    "a[0, 0] = 5\n",
    "print(b)\n",
    "a[0, 0] = 100"
   ]
  },
  {
   "cell_type": "code",
   "execution_count": null,
   "metadata": {},
   "outputs": [],
   "source": [
    "c = a.copy()"
   ]
  },
  {
   "cell_type": "code",
   "execution_count": null,
   "metadata": {},
   "outputs": [],
   "source": [
    "a[0, 0] = 5\n",
    "print(c)\n",
    "a[0, 0] = 100"
   ]
  },
  {
   "cell_type": "markdown",
   "metadata": {},
   "source": [
    "### Example: axis-wise evaluation"
   ]
  },
  {
   "cell_type": "code",
   "execution_count": null,
   "metadata": {},
   "outputs": [],
   "source": [
    "a.mean(axis=0)"
   ]
  },
  {
   "cell_type": "code",
   "execution_count": null,
   "metadata": {},
   "outputs": [],
   "source": [
    "a.sum(axis=1)"
   ]
  },
  {
   "cell_type": "markdown",
   "metadata": {},
   "source": [
    "## Structured types\n",
    "\n",
    "Structured arrays are ndarrays whose datatype is a composition of simpler datatypes organized as a sequence of named fields."
   ]
  },
  {
   "cell_type": "code",
   "execution_count": 26,
   "metadata": {},
   "outputs": [
    {
     "data": {
      "text/plain": [
       "array([('Rex', 9, 81.), ('Fido', 3, 27.)],\n",
       "      dtype=[('name', '<U10'), ('age', '<i4'), ('weight', '<f4')])"
      ]
     },
     "execution_count": 26,
     "metadata": {},
     "output_type": "execute_result"
    }
   ],
   "source": [
    "dtype = np.dtype([('name', 'U10'), ('age', 'i4'), ('weight', 'f4')])\n",
    "x = np.array([('Rex', 9, 81.0), ('Fido', 3, 27.0)], dtype=dtype)\n",
    "x"
   ]
  },
  {
   "cell_type": "markdown",
   "metadata": {},
   "source": [
    "x is a one-dimensional array of length two whose datatype is a structure with three fields:\n",
    "1. A string of length 10 or less named ‘name’\n",
    "2. a 32-bit integer named ‘age’\n",
    "3. a 32-bit float named ‘weight’."
   ]
  },
  {
   "cell_type": "code",
   "execution_count": 27,
   "metadata": {},
   "outputs": [
    {
     "data": {
      "text/plain": [
       "('Rex', 9, 81.)"
      ]
     },
     "execution_count": 27,
     "metadata": {},
     "output_type": "execute_result"
    }
   ],
   "source": [
    "x[0] # indexing by position"
   ]
  },
  {
   "cell_type": "code",
   "execution_count": 28,
   "metadata": {},
   "outputs": [
    {
     "data": {
      "text/plain": [
       "array([9, 3], dtype=int32)"
      ]
     },
     "execution_count": 28,
     "metadata": {},
     "output_type": "execute_result"
    }
   ],
   "source": [
    "x['age'] # indexing by field name"
   ]
  },
  {
   "cell_type": "code",
   "execution_count": 29,
   "metadata": {},
   "outputs": [
    {
     "name": "stdout",
     "output_type": "stream",
     "text": [
      "number of elements: 2\n",
      "number of dimensions: 1\n",
      "shape: (2,)\n",
      "data type: [('name', '<U10'), ('age', '<i4'), ('weight', '<f4')]\n",
      "strides: (48,)\n",
      "flags:\n",
      "  C_CONTIGUOUS : True\n",
      "  F_CONTIGUOUS : True\n",
      "  OWNDATA : True\n",
      "  WRITEABLE : True\n",
      "  ALIGNED : True\n",
      "  WRITEBACKIFCOPY : False\n",
      "  UPDATEIFCOPY : False\n",
      "\n"
     ]
    }
   ],
   "source": [
    "print_info(x)"
   ]
  },
  {
   "cell_type": "markdown",
   "metadata": {},
   "source": [
    "More info on structured types [here](https://numpy.org/doc/stable/user/basics.rec.html)."
   ]
  },
  {
   "cell_type": "markdown",
   "metadata": {},
   "source": [
    "## h5py"
   ]
  },
  {
   "cell_type": "code",
   "execution_count": 1,
   "metadata": {},
   "outputs": [],
   "source": [
    "import os\n",
    "import h5py\n",
    "import numpy as np"
   ]
  },
  {
   "cell_type": "code",
   "execution_count": 31,
   "metadata": {},
   "outputs": [
    {
     "name": "stdout",
     "output_type": "stream",
     "text": [
      "8\n"
     ]
    }
   ],
   "source": [
    "shape = (1000, 1000)\n",
    "size  = (1_000_000, 1000)\n",
    "iters = size[0] // shape[0]\n",
    "\n",
    "arr = np.random.random(shape)\n",
    "\n",
    "with h5py.File(\"test.h5\", \"w\") as f:\n",
    "    dset = f.create_dataset(\"huge\", size, dtype=\"f8\")\n",
    "    for i in range(iters):\n",
    "        start = i*shape[0]\n",
    "        stop  = (i+1)*shape[0]\n",
    "        dset[start:stop, :] = arr\n",
    "\n",
    "print(os.stat(\"test.h5\").st_size // (10**9)) # 8 gigabytes"
   ]
  },
  {
   "cell_type": "code",
   "execution_count": 32,
   "metadata": {},
   "outputs": [
    {
     "name": "stdout",
     "output_type": "stream",
     "text": [
      "[0.50137871 0.50292039 0.49164052 0.50262346 0.4963385  0.50903231\n",
      " 0.48499846 0.48390001 0.48633305 0.51449687]\n",
      "[0.50137871 0.50292039 0.49164052 0.50262346 0.4963385  0.50903231\n",
      " 0.48499846 0.48390001 0.48633305 0.51449687]\n"
     ]
    }
   ],
   "source": [
    "shape = (1000, 1000)\n",
    "size  = (1_000_000, 1000)\n",
    "iters = size[0] // shape[0]\n",
    "\n",
    "# compute means along axis 1\n",
    "means = np.empty((1_000_000,))\n",
    "\n",
    "with h5py.File(\"test.h5\", \"r\") as f:\n",
    "    for i in range(iters):\n",
    "        start = i*shape[0]\n",
    "        stop  = (i+1)*shape[0]\n",
    "        means[start:stop] = np.mean(f[\"huge\"][start:stop, :], axis=1)\n",
    "        \n",
    "print(means[:10])\n",
    "print(means[-1000:-990])"
   ]
  },
  {
   "cell_type": "markdown",
   "metadata": {},
   "source": [
    "# Exercises"
   ]
  },
  {
   "cell_type": "markdown",
   "metadata": {},
   "source": [
    "## Basics"
   ]
  },
  {
   "cell_type": "markdown",
   "metadata": {},
   "source": [
    "Generate the following array (hint: see `np.diag`):\n",
    "\n",
    "```\n",
    "[[0., 0., 0., 0., 0.],\n",
    " [2., 0., 0., 0., 0.],\n",
    " [0., 3., 0., 0., 0.],\n",
    " [0., 0., 4., 0., 0.],\n",
    " [0., 0., 0., 5., 0.],\n",
    " [0., 0., 0., 0., 6.]]\n",
    "```"
   ]
  },
  {
   "cell_type": "code",
   "execution_count": 2,
   "metadata": {},
   "outputs": [],
   "source": [
    "import numpy as np"
   ]
  },
  {
   "cell_type": "code",
   "execution_count": 4,
   "metadata": {},
   "outputs": [
    {
     "data": {
      "text/plain": [
       "array([[0., 0., 0., 0., 0.],\n",
       "       [2., 0., 0., 0., 0.],\n",
       "       [0., 3., 0., 0., 0.],\n",
       "       [0., 0., 4., 0., 0.],\n",
       "       [0., 0., 0., 5., 0.],\n",
       "       [0., 0., 0., 0., 6.]])"
      ]
     },
     "execution_count": 4,
     "metadata": {},
     "output_type": "execute_result"
    }
   ],
   "source": [
    "a = np.diag(np.arange(2,7, dtype = float), k = -1) #Hacemos el arange hasta el 7 porque no incluye el último número \n",
    "a = np.delete(a, 5, 1)\n",
    "a"
   ]
  },
  {
   "cell_type": "markdown",
   "metadata": {},
   "source": [
    "Generate the following array (hint: see `np.tile`):\n",
    "\n",
    "```\n",
    "[[4, 3, 4, 3, 4, 3],\n",
    " [2, 1, 2, 1, 2, 1],\n",
    " [4, 3, 4, 3, 4, 3],\n",
    " [2, 1, 2, 1, 2, 1]]\n",
    " ```"
   ]
  },
  {
   "cell_type": "code",
   "execution_count": 80,
   "metadata": {},
   "outputs": [
    {
     "data": {
      "text/plain": [
       "array([[4, 3, 4, 3, 4, 3],\n",
       "       [2, 1, 2, 1, 2, 1],\n",
       "       [4, 3, 4, 3, 4, 3],\n",
       "       [2, 1, 2, 1, 2, 1]])"
      ]
     },
     "execution_count": 80,
     "metadata": {},
     "output_type": "execute_result"
    }
   ],
   "source": [
    "a = np.array([[4,3], [2,1]])\n",
    "m = np.tile(a, (2,3))\n",
    "m"
   ]
  },
  {
   "cell_type": "markdown",
   "metadata": {},
   "source": [
    "Generate the following array (use broadcasting):\n",
    "\n",
    "```\n",
    "[[ 0,  1,  2,  3,  4,  5],\n",
    " [10, 11, 12, 13, 14, 15],\n",
    " [20, 21, 22, 23, 24, 25],\n",
    " [30, 31, 32, 33, 34, 35],\n",
    " [40, 41, 42, 43, 44, 45],\n",
    " [50, 51, 52, 53, 54, 55]]\n",
    "```\n",
    "\n",
    "And reproduce the fancy indexing shown in the figure:\n",
    "\n",
    "![https://scipy-lectures.org/_images/numpy_fancy_indexing.png](https://scipy-lectures.org/_images/numpy_fancy_indexing.png)\n",
    "\n",
    "Finally, use fancy indexing on the left and array creation on the right to assign values into an array, for instance by setting parts of the array in the diagram above to zero."
   ]
  },
  {
   "cell_type": "code",
   "execution_count": 164,
   "metadata": {},
   "outputs": [],
   "source": [
    "##Construcción del array\n",
    "a = np.full((6,6), 10)\n",
    "#Primer broadcasting para conseguir múltiplos de 10\n",
    "b = np.arange(0,6)\n",
    "b1 = np.reshape(b, (6,1))\n",
    "a = a * b1\n",
    "#Segundo broadcasting para sumar números\n",
    "b2 = b\n",
    "a = a + b2"
   ]
  },
  {
   "cell_type": "code",
   "execution_count": 165,
   "metadata": {},
   "outputs": [
    {
     "data": {
      "text/plain": [
       "array([[ 0,  1,  2,  3,  4,  5],\n",
       "       [10, 11, 12, 13, 14, 15],\n",
       "       [20, 21, 22, 23, 24, 25],\n",
       "       [30, 31, 32, 33, 34, 35],\n",
       "       [40, 41, 42, 43, 44, 45],\n",
       "       [50, 51, 52, 53, 54, 55]])"
      ]
     },
     "execution_count": 165,
     "metadata": {},
     "output_type": "execute_result"
    }
   ],
   "source": [
    "a"
   ]
  },
  {
   "cell_type": "code",
   "execution_count": 103,
   "metadata": {},
   "outputs": [
    {
     "name": "stdout",
     "output_type": "stream",
     "text": [
      "[ 1 12 23 34 45] \n",
      "\n",
      "[[30 32 35]\n",
      " [40 42 45]\n",
      " [50 52 55]] \n",
      "\n",
      "[ 2 22 52]\n"
     ]
    }
   ],
   "source": [
    "#Reproducimos el Fancy Indexing\n",
    "# 1\n",
    "print(a[np.arange(0,5),np.arange(1,6)], \"\\n\")\n",
    "# 2\n",
    "print(a[3:, (0,2,5)], \"\\n\")\n",
    "# 3\n",
    "mask = np.array([1,0,1,0,0,1], dtype = bool)\n",
    "print(a[mask, 2])"
   ]
  },
  {
   "cell_type": "code",
   "execution_count": 178,
   "metadata": {},
   "outputs": [
    {
     "data": {
      "text/plain": [
       "array([[ 0,  0,  0,  3,  4,  5],\n",
       "       [10, 11,  0, 13, 14, 15],\n",
       "       [20, 21,  0,  0, 24, 25],\n",
       "       [ 0, 31,  0, 33,  0,  0],\n",
       "       [ 0, 41,  0, 43, 44,  0],\n",
       "       [ 0, 51,  0, 53, 54,  0]])"
      ]
     },
     "execution_count": 178,
     "metadata": {},
     "output_type": "execute_result"
    }
   ],
   "source": [
    "# Usamos Fancy Indexing para poner ceros\n",
    "# 1\n",
    "a[np.arange(0,5),np.arange(1,6)] = 0\n",
    "# 2\n",
    "a[3:, (0,2,5)] = 0\n",
    "# 3\n",
    "mask = np.array([1,0,1,0,0,1], dtype = bool)\n",
    "a[mask, 2] = 0\n",
    "a"
   ]
  },
  {
   "cell_type": "markdown",
   "metadata": {},
   "source": [
    "## Random walker\n",
    "\n",
    "Let's do it using just pure Python (no NumPy). Generate a sample from a random walker and plot it."
   ]
  },
  {
   "cell_type": "code",
   "execution_count": 66,
   "metadata": {},
   "outputs": [],
   "source": [
    "import random\n",
    "import matplotlib.pyplot as plt"
   ]
  },
  {
   "cell_type": "code",
   "execution_count": 105,
   "metadata": {},
   "outputs": [],
   "source": [
    "position = 0\n",
    "walk = [position]\n",
    "steps = 1000\n",
    "\n",
    "for i in range(steps):\n",
    "    step = 1 if random.randint(0,1) else -1\n",
    "    position += step\n",
    "    walk.append(position)"
   ]
  },
  {
   "cell_type": "code",
   "execution_count": 106,
   "metadata": {},
   "outputs": [
    {
     "data": {
      "text/plain": [
       "[<matplotlib.lines.Line2D at 0x7f882ef71ac8>]"
      ]
     },
     "execution_count": 106,
     "metadata": {},
     "output_type": "execute_result"
    },
    {
     "data": {
      "image/png": "[encoded data removed]",
      "text/plain": [
       "<Figure size 432x288 with 1 Axes>"
      ]
     },
     "metadata": {},
     "output_type": "display_data"
    }
   ],
   "source": [
    "plt.plot(walk)"
   ]
  },
  {
   "cell_type": "markdown",
   "metadata": {},
   "source": [
    "## Random walker with NumPy"
   ]
  },
  {
   "cell_type": "code",
   "execution_count": 2,
   "metadata": {},
   "outputs": [],
   "source": [
    "import numpy as np\n",
    "import matplotlib.pyplot as plt"
   ]
  },
  {
   "cell_type": "markdown",
   "metadata": {},
   "source": [
    "Generate a matrix named `steps` that contains 1000 rows where every row is a sample of a 500 random steps (that means that `np.shape` is `(1000, 500)` and `np.unique(steps)` is `[-1, 1]`). Use `np.random.randint` to generate random values."
   ]
  },
  {
   "cell_type": "code",
   "execution_count": 3,
   "metadata": {},
   "outputs": [],
   "source": [
    "nrow = 1000\n",
    "ncol = 500\n",
    "\n",
    "a = np.random.randint(2, size = nrow*ncol)\n",
    "a[a == 0] = -1\n",
    "steps = np.reshape(a, (nrow, ncol))"
   ]
  },
  {
   "cell_type": "markdown",
   "metadata": {},
   "source": [
    "Generate the `positions` matrix, of shape `(1000, 500)` that contains the position of every step of the walk (hint: `np.cumsum`)."
   ]
  },
  {
   "cell_type": "code",
   "execution_count": 4,
   "metadata": {},
   "outputs": [],
   "source": [
    "positions = np.cumsum(steps, axis = 1)"
   ]
  },
  {
   "cell_type": "code",
   "execution_count": 5,
   "metadata": {},
   "outputs": [
    {
     "data": {
      "text/plain": [
       "[<matplotlib.lines.Line2D at 0x21974866fe0>]"
      ]
     },
     "execution_count": 5,
     "metadata": {},
     "output_type": "execute_result"
    },
    {
     "data": {
      "image/png": "[encoded data removed]",
      "text/plain": [
       "<Figure size 432x288 with 1 Axes>"
      ]
     },
     "metadata": {
      "needs_background": "light"
     },
     "output_type": "display_data"
    }
   ],
   "source": [
    "#Ploteamos una de las trayectorias como comprobación\n",
    "plt.plot(positions[1, :])"
   ]
  },
  {
   "cell_type": "markdown",
   "metadata": {},
   "source": [
    "Print the longest and shortest positions reached by any of the walks."
   ]
  },
  {
   "cell_type": "code",
   "execution_count": 6,
   "metadata": {},
   "outputs": [
    {
     "name": "stdout",
     "output_type": "stream",
     "text": [
      "Maximos:\n",
      " [15 12  4 24 11 59  4 25 20  1  4  4 36 34 18  7 13 14 26 14  1 27  8 20\n",
      " -1  7 46  6 29  9 22 10 16 10  3  2  2 23 10 -1 26 28 23 24 33  8 25 22\n",
      " 19 21 35 46 11 25 25  1 32 28 37  3  5  2 10 28 13 36 39  1 11  2 27 21\n",
      " 22 16  6 22  8 38 10  9  2 24 32  6 25 32  3 21  4 23 42 25 24 51 12  3\n",
      "  1 14 25 37 13 66 28  8 11  9 15 34  7 45 20 17 20 43 10 20 36 11 32  6\n",
      " 42  3 33 10 19 18 49 35 26 42 12 14 19  6  2 21 49  8  7 18 15  8 37 13\n",
      " 10 51  1  7  4  1  3 16 14 30 18 12 18  5 14 30 26  0  1  3 57 20 27 32\n",
      " 22 42 33 11 16 38 20  0 30 23  7  5 33 15 27 31  1 30 10 44 37 38  2  7\n",
      " 46 17  8  7 13 27 12  5 17 13  4  0 23 10 26  8 19 45  4  7  1  3 40 16\n",
      " 23 42  2  5 30 18 13 47 51 17 18 32 16  3 14 16 52 10  5 13 26 25 13 39\n",
      "  2 15  1 49 35 14  5 12 31 31  5 22 26  1  6 38  2 33 20  7 18  3  4  6\n",
      " 13  2  8 30 38  5  1 23 31  2  6  9 26 24 13 36 24  5 32  9 47 17 19 13\n",
      "  7 14 28 39  6  5  7  6 45 24  5 39 16  7 33 -1 23  2 15  1  9 16  5 11\n",
      " 19 41 24 11  8  9 26 51 17 18 15  0 17 17 38 21 15 11 42 12 32  8 19 25\n",
      " 18  9 41  3 22 36 10  8  7 17 13 24 20 13 13 32 20 59 15 38 18 10  6 32\n",
      " 10  7 19  9  8 18 17 35 15 10 19  2 15 45  1 12 28 40 26  4 34 21 22 11\n",
      "  7 19 29 26 12 12 35 22  1 16 10  1 40  4  1  5  2 25 39 39 30 33 18  6\n",
      " 17  3  3  0 22  3 13  0 60  5 45 30 10  6 19 21 28 32  1 15 22  7 33  5\n",
      "  8  8 15 28 10 11 14  8 29 23  3 42 20 18  8 27 19 49  4 19 -1 30 14  6\n",
      " 48 19 14 11  9 25 21 58 16  6  7  7 27  7 11  9 20 11 28  0 -1 13 -1 26\n",
      "  0  9  3 16 16  4 54 26 11 16 11 29 28  4 19 19 30  4 11 38 11  7  1  0\n",
      " 42 15 11  0  1 26  0 12 25 26 19  9 22 13 -1  2  8 12 16 12 -1 26  3 30\n",
      "  9  2  4 12  9 29  1 29 10 14  1 30 15 21  6  7  8  9 31 13 26  9 47  1\n",
      "  7 18 17 13 16 16  2 15  9 44 56 12 15 63 10 11 12 29 61 11 24 18  6 12\n",
      "  5  0  2 29 15  1 -1 55  4 23 25 13 11 27  6  9 34 28  5  3 16 32  0 13\n",
      "  5 16 13 40 20 15 33  1 20  4  7 10  8 37 12 15 13  8 11 33 17  9 35  7\n",
      " 23  9 22 41 11  9 35 10 17  3 14 30 45 13 19  8 23  8 21  3 22 13 21 18\n",
      " 11  2 25 36 15 23  8 19 23  4 15 29 18 29 21 28  6  6 13 11 11 25 33 14\n",
      " 12 29 19 21 23 38 24  8  4  1 -1  7 14 15  3 15  5 15 28 15 35 40  7 24\n",
      " 16 40 23 17  5  3  5 22  3 30 11 11 42 12  6 48 19  1  0 12 23  9 10  4\n",
      " 18 16 18  4  3  5 21  2 22 31 11 14 12 28 51  5 33 36 14 11 39  9 21 27\n",
      " 13 39  2  1  3  7 10 16  2  2 27 17 27 40  7 13  5  7 17 15 23 35 16 18\n",
      " 42 38 19 46  6  6 15  6 15 -1  9 20  0  5  1  9 21 16  8  7 37 28  4 17\n",
      " 18 33  3  7 -1  3  3 21  9 19 16 20 23 35 23  9 34 25  0 47 57 28  9 11\n",
      " 30 20 23 50  9 19 20  9 35 18  4  1 10  2  3  6  1 30  7 26 22 34 37 12\n",
      " 23 22 17  1 12  1  7  3 47 21  1 14 30  6 10 26 47 17 15  6  0 16 -1 26\n",
      " 21 28 20  0 -1 15 26 37 22 14 36 36 15 40  0 10 37  5 15 53 15  2  7 15\n",
      " 23 26 10 31 11 42 33 26 36 14 13 38 13 37 12  4  8 11 10 26  8 17 22  8\n",
      "  2 10 25 42  8  6  1  0 23 13 11 40 37 53 27 34 13 23 33 36 11 27 22  1\n",
      "  6 15 28 11 20 29 35  5 16 22 29 13 37  1  2 31 11  5 17 -1  4 29  4 18\n",
      "  7 18 17  8 28 24 14 17  9 22 34  7  3 42 47  6 38 11 20  6 22  4 10 15\n",
      " 50 14 20 39 22 26 11  0 10  5 24 24 20 11  3 14]\n",
      "Mínimos:\n",
      " [-15 -17 -29  -3  -5   1 -46  -1 -17 -51 -22 -32   0   1 -11 -31 -11 -18\n",
      "  -1 -10 -30 -18 -25  -4 -48 -24  -4 -32  -7 -18  -7 -17 -11 -21 -33 -35\n",
      " -42 -14 -15 -29  -3  -8  -6 -10  -3 -38 -12 -11  -4 -10  -8  -5 -13 -12\n",
      "  -9 -44  -1  -2  -2 -48 -26 -25 -14  -7 -18  -8  -4 -25 -25 -24  -2  -1\n",
      "  -8  -6 -25 -34 -18 -10 -68 -27 -28  -9  -8 -48  -3  -6 -52 -32 -19  -8\n",
      "  -6  -4  -4  -2 -21 -36 -31 -25 -16  -3 -10   0 -11 -23 -15 -19 -16  -3\n",
      " -35  -6 -19 -23 -16   0 -17  -2  -1 -12   0 -44 -13 -35 -13 -40 -34 -14\n",
      "  -5  -9  -8  -2 -23 -44 -10 -19 -29  -5  -3 -22 -28 -15 -10 -21  -8 -24\n",
      " -17  -2 -35 -15 -37 -36 -26  -6 -14  -3  -5 -20 -13 -29 -13  -2  -9 -36\n",
      " -45 -29  -9  -7  -6 -12  -8  -2  -8 -12 -24  -4  -3 -33  -2  -8 -30 -29\n",
      "   1 -12  -8  -8 -24 -13 -22  -2 -10  -6 -25 -11  -7 -11 -27 -24 -24 -37\n",
      " -22 -20  -9 -14 -52 -44  -7  -6  -2 -24  -6  -2 -39 -24 -35 -31   1  -9\n",
      "  -2  -5 -56 -33 -10 -21  -4  -1  -6  -5  -6  -8 -12 -38 -22 -11  -6 -43\n",
      " -34  -7  -3   0 -12  -3 -24 -12 -57  -3  -6 -15 -25 -37 -12  -7 -11  -9\n",
      "  -7 -59 -22  -1 -30  -8 -11 -18  -2 -36 -21 -22 -20 -30 -16 -15   0 -30\n",
      " -25  -7  -2 -36 -22 -30 -18  -2 -12  -2  -6 -19   0 -27   1  -6 -23 -19\n",
      " -17 -11  -8  -1 -60 -15 -27 -34  -5  -1 -23 -12  -4 -19 -15 -45 -13 -23\n",
      "  -3 -61  -8 -12 -22 -32 -11  -7 -23 -18 -30 -55 -10  -1 -14  -7 -20 -52\n",
      " -21  -8  -3 -17 -17 -21  -1  -7  -9 -20 -10 -14 -16 -14  -5 -41  -3  -9\n",
      " -52 -20 -18  -7 -17 -10  -8 -17 -20  -8  -6  -2 -30  -9 -10 -17 -31 -15\n",
      " -19 -17 -11 -12 -16 -14 -10 -11 -17 -22 -14 -28 -11   0 -25 -10  -1   1\n",
      " -13 -22 -20 -18 -12 -16 -24 -15  -2  -9 -16  -8  -7  -9 -21 -14 -19 -48\n",
      "  -6 -57 -23 -20 -42 -13  -6  -5 -13  -2  -6 -26  -6 -42 -29 -45  -2 -18\n",
      " -22 -35 -11 -28  -3  -8 -23 -38  -7 -18 -10 -20 -17  -9  -4 -36  -4 -19\n",
      " -12 -38  -4  -2 -40 -24 -19 -34 -13  -6 -38  -1  -2  -6 -25  -8  -9   0\n",
      " -29 -12 -25  -2 -19 -26  -2  -6  -9 -22 -18  -8  -8  -1 -22 -12 -22 -17\n",
      "   1 -22 -25 -23 -22 -15  -7 -30 -33 -21 -36  -7 -49 -27 -24 -10 -10 -16\n",
      "  -1 -11 -23 -10 -19 -25  -4 -20 -21 -10  -4 -45 -15   1 -14 -20 -25 -24\n",
      "  -4 -28 -17 -40 -23 -13 -33 -19  -5 -13 -12 -39  -3 -11 -18 -30 -54 -20\n",
      " -14 -17 -32  -4 -18  -6 -17 -39 -18 -21 -28  -4 -21  -4 -24  -9 -41 -10\n",
      " -17 -21 -37 -30 -14 -39  -1  -9  -7 -14   0 -28 -35  -6 -13 -11  -9 -14\n",
      " -34  -6 -39   1  -2 -16  -7  -3 -23 -15 -27 -10  -2 -16  -9 -25 -19 -13\n",
      " -18 -23 -44  -4 -20 -28 -39  -5 -34 -20  -2 -12 -21  -9 -16 -17  -1  -9\n",
      " -48 -44 -15  -3 -25 -30 -39 -19 -27  -2 -28 -23 -13 -41  -6 -28 -17 -10\n",
      " -15  -3 -13 -15  -8 -16  -9  -3 -15 -18   0 -28 -13 -15  -4  -2 -12 -29\n",
      "  -6 -21 -14 -18 -12  -4  -2 -26  -9 -27 -17 -32  -6 -40 -13 -18   0 -12\n",
      " -32 -39  -2   1  -9 -12 -22  -8 -13 -38  -5 -13 -24  -3  -8  -1 -18 -32\n",
      "  -8 -12  -9 -12  -4 -21 -16  -6  -9  -4 -10  -3 -10 -35 -35 -27 -47 -21\n",
      " -11 -32 -31 -13 -25 -10  -7 -16 -10  -2 -17  -3  -7  -9  -5 -10 -19 -24\n",
      " -44 -15 -24  -6 -16 -19   1  -9 -21  -1  -7 -23 -30 -17  -7 -41 -24 -22\n",
      " -15 -15 -13 -33 -15 -47 -20 -36  -3  -9 -32 -22 -26  -2   0 -26  -8 -13\n",
      " -32 -11  -3 -20  -9  -2 -13  -1 -23 -29 -20 -36 -24 -19 -29 -41  -1  -4\n",
      " -14  -5 -19 -27 -21 -11 -11 -17  -4  -1  -9 -10  -3  -2 -11  -3 -23 -21\n",
      " -11 -14 -29 -20 -44 -13 -45 -16 -49 -33  -8 -25 -16 -26 -10  -2 -24 -11\n",
      " -17  -7 -18 -21 -22 -21 -19 -11 -29 -19 -18 -22  -6  -3 -17 -26  -2  -1\n",
      " -40  -5   0 -18 -33 -15 -11  -9 -10  -2 -20 -12  -4 -17  -2 -24 -22 -21\n",
      " -26 -46 -42 -11 -56  -2 -24  -4  -6  -4   1  -7 -15 -22 -12 -18 -10 -46\n",
      " -11 -26  -3   0 -43 -14 -14 -23 -26  -1   0 -13  -9 -16 -23  -8 -30 -17\n",
      "  -6  -5  -8 -31 -40 -36  -7 -11  -4 -17 -10  -2 -37  -1 -46 -13  -2 -17\n",
      " -16  -7  -6 -44 -44 -13  -5  -9 -16  -9 -21  -6 -17  -2 -10  -9 -10   0\n",
      " -19  -9 -11 -20 -21 -11 -32  -2 -19 -11  -6 -11 -33 -22  -8   1 -24 -42\n",
      " -34 -38  -8  -8 -15  -7  -7 -10  -5  -4 -31  -6  -4  -5 -33 -12 -19 -22\n",
      " -24 -12 -10 -20 -10  -4  -1 -35 -10 -10  -1 -26  -8 -46 -29  -2 -14 -31\n",
      "  -8 -34 -46   1 -38 -15 -17  -1 -26 -14  -9  -6 -21 -23 -19  -4  -2 -14\n",
      " -47  -3  -3 -29 -11 -13  -1 -35  -9 -19 -16 -21 -20 -10 -11  -1  -7 -16\n",
      " -36 -40 -26 -24  -2  -1 -11 -15 -18 -19]\n"
     ]
    }
   ],
   "source": [
    "print('Maximos:\\n', positions.max(axis = 1))\n",
    "print('Mínimos:\\n', positions.min(axis = 1))"
   ]
  },
  {
   "cell_type": "markdown",
   "metadata": {},
   "source": [
    "Show the number of walks that reached either 30 steps in any of the directions (hint: `np.abs` and `any`)."
   ]
  },
  {
   "cell_type": "code",
   "execution_count": 7,
   "metadata": {},
   "outputs": [
    {
     "data": {
      "text/plain": [
       "350"
      ]
     },
     "execution_count": 7,
     "metadata": {},
     "output_type": "execute_result"
    }
   ],
   "source": [
    "mask = np.any(abs(positions) == 30, axis = 1)\n",
    "n = len(positions[mask])\n",
    "n"
   ]
  },
  {
   "cell_type": "markdown",
   "metadata": {},
   "source": [
    "For the walkers that reached 30 steps in any of the directions, show the step at which they reached the longest position (hint: `argmax`)."
   ]
  },
  {
   "cell_type": "code",
   "execution_count": 8,
   "metadata": {},
   "outputs": [
    {
     "data": {
      "text/plain": [
       "array([426, 477, 282, 253, 347, 495, 300, 475, 461, 389, 351, 304, 452,\n",
       "       371, 304, 479, 498, 491, 435, 417, 386, 275, 387, 356, 497, 477,\n",
       "       493, 269, 315, 325, 499, 437, 495, 374, 401, 256, 328, 493, 141,\n",
       "       452, 478, 418, 499, 341, 411, 495, 490, 164, 497, 485, 392, 168,\n",
       "       387, 447, 362, 268, 442, 330, 480, 437, 491, 499, 497, 490, 414,\n",
       "       353, 499, 330, 273, 406, 281, 293, 220, 410, 137, 391, 464, 499,\n",
       "       497, 480, 411, 499, 474, 266, 182, 418, 381, 359, 475, 328, 369,\n",
       "       250, 372, 415, 445, 399, 452, 435, 458, 440, 418, 470, 316, 326,\n",
       "       458, 422, 209, 213, 388, 415, 493, 467, 437, 491, 292, 499, 499,\n",
       "       333, 133, 388, 244, 413, 457, 476, 340, 488, 350, 496, 499, 498,\n",
       "       143, 464, 478, 361, 481, 489, 473, 386, 472, 469, 475, 279, 354,\n",
       "       315, 479, 458, 497, 474, 338, 387, 495, 468, 437, 479, 412, 363,\n",
       "       344, 290, 453, 314, 255, 424, 270, 497, 468, 455, 343, 499, 397,\n",
       "       430, 475, 405, 483, 499, 347, 496, 375, 445, 493, 389, 388, 279,\n",
       "       418, 407, 263, 412, 499, 423, 403,  92, 232, 383, 401, 431, 297,\n",
       "       482, 384, 335, 264, 481, 350, 228, 422, 356, 267, 266, 431, 455,\n",
       "       448, 342, 461, 430, 482, 441, 395, 417, 355, 455, 475, 498, 461,\n",
       "       450, 416, 312, 440, 498, 266, 394, 159, 488, 195, 463, 441, 178,\n",
       "       203, 401, 231, 326, 481, 486, 450, 434, 499, 260, 422, 453, 281,\n",
       "       425, 469, 227, 417, 463, 362, 486, 322, 283, 406, 421, 384, 418,\n",
       "       495, 443, 476, 476, 493, 438, 495, 492, 395, 499, 395, 453, 490,\n",
       "       214, 454, 486, 450, 492, 357, 289, 446, 310, 464, 363, 499, 368,\n",
       "       443, 499, 315, 361, 455, 498, 495, 302, 396, 173, 290, 493, 100,\n",
       "       469, 323, 346, 499, 481, 494, 241, 331, 194, 466, 409, 495, 420,\n",
       "       499, 330, 457, 473, 432, 445, 396, 455, 481, 499, 221, 499, 422,\n",
       "       468, 495, 494, 182, 233, 282, 124, 492, 498, 351, 478, 386, 215,\n",
       "       427, 433, 323, 272, 361, 460, 363, 392, 495, 424, 497, 305],\n",
       "      dtype=int64)"
      ]
     },
     "execution_count": 8,
     "metadata": {},
     "output_type": "execute_result"
    }
   ],
   "source": [
    "mask = np.any(abs(positions) == 30, axis = 1)\n",
    "maxPos = np.argmax(abs(positions[mask]), axis = 1)\n",
    "maxPos"
   ]
  },
  {
   "cell_type": "markdown",
   "metadata": {},
   "source": [
    "## Random Walker with h5py\n",
    "\n",
    "Now you will generate lots of random walker samples and you will use HDF5 to store them.\n",
    "\n",
    "1. Create the HDF5 file named `walks.h5`.\n",
    "2. Create a group named `walks`.\n",
    "3. Create a dataset named `walks` in the `walks` group. The dataset must use **contiguous** storage (not chunked).\n",
    "4. You will create 10 million random walk samples of length 500 and type `np.int64` and you will store them in the `walks` dataset.\n",
    "5. Before starting task 4 and based on the size of the dataset and the size of the dtype, can you calculate an approximation of the resulting file size?\n",
    "6. While the notebook executes the task of storing the walks in the HDF5 file, open the CPU, RAM and disk monitor of your operative system and take a look to resources being used.\n",
    "7. Answer again the questions from the previous NumPy exercise but using the 10 million walks you have just generated."
   ]
  },
  {
   "cell_type": "code",
   "execution_count": 9,
   "metadata": {
    "scrolled": true
   },
   "outputs": [],
   "source": [
    "import numpy as np\n",
    "import h5py\n",
    "import os\n",
    "#import matplotlib.pyplot as plt"
   ]
  },
  {
   "cell_type": "code",
   "execution_count": 10,
   "metadata": {},
   "outputs": [],
   "source": [
    "#1) Creamos el archivo h5py\n",
    "f = h5py.File(\"walks.h5\", \"w\")\n",
    "#2) Creamos el subgrupo\n",
    "walks = f.create_group(\"walks\")"
   ]
  },
  {
   "cell_type": "code",
   "execution_count": 18,
   "metadata": {},
   "outputs": [],
   "source": [
    "#3) Creamos el dataset\n",
    "nrow = 5_000_000 #Reducimos el número de trayectorias a la mitad para reducir el espacio necesario\n",
    "ncol = 500\n",
    "dset = walks.create_dataset(\"walks\", (nrow, ncol), dtype = np.int64)"
   ]
  },
  {
   "cell_type": "code",
   "execution_count": 19,
   "metadata": {},
   "outputs": [
    {
     "name": "stdout",
     "output_type": "stream",
     "text": [
      "20.0\n"
     ]
    }
   ],
   "source": [
    "#5) Calculamos el tamaño aprox del archivo\n",
    "bytes_ntype = 64//8\n",
    "estSize = bytes_ntype * nrow * ncol / (10**9) #Calculamos el tamaño estimado en GB\n",
    "print(estSize)"
   ]
  },
  {
   "cell_type": "markdown",
   "metadata": {},
   "source": [
    "El tamaño del archivo es de **20** GB, claramente mucho superior que la memoria RAM de cualquier ordenador convencional. Por ello, tendremos que ir añadiendo secuencialmente datos al archivo .h5"
   ]
  },
  {
   "cell_type": "code",
   "execution_count": 13,
   "metadata": {},
   "outputs": [
    {
     "name": "stdout",
     "output_type": "stream",
     "text": [
      "20.000002432\n"
     ]
    }
   ],
   "source": [
    "#4) Añadimos las trayectorias al archivo .h5\n",
    "# Despejando de la ecuación anterior, fijando el tamaño por ejemplo a 4GB podemos averiguar cuál será el tamaño de las\n",
    "# filas que tenemos que ir insertando en el archivo\n",
    "\n",
    "ramCap = 4  #Capacidad de la RAM (no utilizamos toda para que no muera el ordenador)\n",
    "nrow = ramCap * 1000*1000*1000 /(bytes_ntype * ncol)\n",
    "nrow = int(nrow) #Transformamos a int para luego poder dejar los índices del array en función de nrow\n",
    "for i in range(int(estSize/ramCap)):\n",
    "    # Creamos el array con las trayectorias\n",
    "    a = np.random.randint(2, size = nrow*ncol)\n",
    "    a[a == 0] = -1\n",
    "    steps = np.reshape(a, (nrow, ncol))\n",
    "    #Creamos los límites para el dataset\n",
    "    start = i*nrow\n",
    "    stop = (i+1)*nrow\n",
    "    dset[start:stop, :] = np.cumsum(steps, axis = 1)\n",
    "print(os.stat(\"walks.h5\").st_size / (10**9))"
   ]
  },
  {
   "cell_type": "code",
   "execution_count": 15,
   "metadata": {},
   "outputs": [],
   "source": [
    "f.close()"
   ]
  },
  {
   "cell_type": "markdown",
   "metadata": {},
   "source": [
    "7. Answer again the questions from the previous NumPy exercise but using the 10 million walks you have just generated."
   ]
  },
  {
   "cell_type": "code",
   "execution_count": 16,
   "metadata": {},
   "outputs": [
    {
     "data": {
      "text/plain": [
       "<HDF5 dataset \"walks\": shape (5000000, 500), type \"<i8\">"
      ]
     },
     "execution_count": 16,
     "metadata": {},
     "output_type": "execute_result"
    }
   ],
   "source": [
    "f = h5py.File(\"walks.h5\", \"r\")\n",
    "walks = f[\"walks\"]\n",
    "positions = walks[\"walks\"]\n",
    "positions"
   ]
  },
  {
   "cell_type": "markdown",
   "metadata": {},
   "source": [
    "Print the longest and shortest positions reached by any of the walks."
   ]
  },
  {
   "cell_type": "code",
   "execution_count": 20,
   "metadata": {},
   "outputs": [],
   "source": [
    "bytes_ntype = 64//8\n",
    "ncol = 500\n",
    "nrow = 5_000_000\n",
    "\n",
    "ramCap = 4\n",
    "estSize = bytes_ntype * nrow * ncol / (10**9)\n",
    "\n",
    "nrowEst = ramCap * 10**9 / (bytes_ntype * ncol)\n",
    "nrowEst = int(nrowEst)"
   ]
  },
  {
   "cell_type": "code",
   "execution_count": 21,
   "metadata": {},
   "outputs": [
    {
     "name": "stdout",
     "output_type": "stream",
     "text": [
      "Maximos entre 0 y 1000000:\n",
      " [22  0  8 ... 25  4 17]\n",
      "Mínimos entre 0 y 1000000:\n",
      " [-13 -29 -18 ... -17 -32  -8]\n",
      "Maximos entre 1000000 y 2000000:\n",
      " [12 26  6 ...  6  8  1]\n",
      "Mínimos entre 1000000 y 2000000:\n",
      " [-44 -14 -37 ... -16 -21 -45]\n",
      "Maximos entre 2000000 y 3000000:\n",
      " [ 3  1 27 ... 17 47  3]\n",
      "Mínimos entre 2000000 y 3000000:\n",
      " [-26 -38  -6 ... -16  -6 -22]\n",
      "Maximos entre 3000000 y 4000000:\n",
      " [13 20  3 ... 15 14 16]\n",
      "Mínimos entre 3000000 y 4000000:\n",
      " [ -9 -11 -39 ... -18 -30 -16]\n",
      "Maximos entre 4000000 y 5000000:\n",
      " [ 5 18 21 ...  7 43 42]\n",
      "Mínimos entre 4000000 y 5000000:\n",
      " [-15  -9  -6 ... -17  -7  -4]\n"
     ]
    }
   ],
   "source": [
    "for i in range(int(estSize/ramCap)):\n",
    "    start = i*nrowEst\n",
    "    stop = (i+1)*nrowEst\n",
    "    arr = positions[start:stop, :]\n",
    "    print('Maximos entre %d y %d:\\n' % (start,stop), np.amax(arr, axis = 1))\n",
    "    print('Mínimos entre %d y %d:\\n' % (start,stop), np.amin(arr, axis = 1))"
   ]
  },
  {
   "cell_type": "markdown",
   "metadata": {},
   "source": [
    "Show the number of walks that reached either 30 steps in any of the directions (hint: `np.abs` and `any`)."
   ]
  },
  {
   "cell_type": "code",
   "execution_count": 22,
   "metadata": {},
   "outputs": [
    {
     "data": {
      "text/plain": [
       "1801102"
      ]
     },
     "execution_count": 22,
     "metadata": {},
     "output_type": "execute_result"
    }
   ],
   "source": [
    "n = 0\n",
    "for i in range(int(estSize/ramCap)):\n",
    "    start = i*nrowEst\n",
    "    stop = (i+1)*nrowEst\n",
    "    arr = positions[start:stop, :]\n",
    "    mask = np.any(abs(arr) == 30, axis = 1)\n",
    "    n = n + sum(mask)\n",
    "n"
   ]
  },
  {
   "cell_type": "markdown",
   "metadata": {},
   "source": [
    "For the walkers that reached 30 steps in any of the directions, show the step at which they reached the longest position (hint: `argmax`)."
   ]
  },
  {
   "cell_type": "code",
   "execution_count": 23,
   "metadata": {},
   "outputs": [
    {
     "name": "stdout",
     "output_type": "stream",
     "text": [
      "Posiciones donde se alcanza el máximo, entre las trayectorias 0 y 1000000:\n",
      " [493 451 498 ... 385 442 289]\n",
      "Posiciones donde se alcanza el máximo, entre las trayectorias 1000000 y 2000000:\n",
      " [473 496 145 ... 425 455 440]\n",
      "Posiciones donde se alcanza el máximo, entre las trayectorias 2000000 y 3000000:\n",
      " [485 361 296 ... 371 499 404]\n",
      "Posiciones donde se alcanza el máximo, entre las trayectorias 3000000 y 4000000:\n",
      " [480 410 493 ... 333 448 245]\n",
      "Posiciones donde se alcanza el máximo, entre las trayectorias 4000000 y 5000000:\n",
      " [318 483 416 ... 414 456 445]\n"
     ]
    }
   ],
   "source": [
    "for i in range(int(estSize/ramCap)):\n",
    "    start = i*nrowEst\n",
    "    stop = (i+1)*nrowEst\n",
    "    arr = positions[start:stop, :]\n",
    "    mask = np.any(abs(arr) == 30, axis = 1)\n",
    "    maxPos = np.argmax(abs(arr[mask]), axis = 1)\n",
    "    print('Posiciones donde se alcanza el máximo, entre las trayectorias %d y %d:\\n' % (start,stop),\n",
    "          maxPos)"
   ]
  },
  {
   "cell_type": "code",
   "execution_count": 100,
   "metadata": {},
   "outputs": [],
   "source": [
    "f.close()"
   ]
  }
 ],
 "metadata": {
  "kernelspec": {
   "display_name": "Python 3",
   "language": "python",
   "name": "python3"
  },
  "language_info": {
   "codemirror_mode": {
    "name": "ipython",
    "version": 3
   },
   "file_extension": ".py",
   "mimetype": "text/x-python",
   "name": "python",
   "nbconvert_exporter": "python",
   "pygments_lexer": "ipython3",
   "version": "3.6.5"
  }
 },
 "nbformat": 4,
 "nbformat_minor": 2
}
