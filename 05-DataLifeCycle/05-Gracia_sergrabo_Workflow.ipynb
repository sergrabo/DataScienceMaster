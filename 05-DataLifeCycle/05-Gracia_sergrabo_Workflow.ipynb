{
 "cells": [
  {
   "cell_type": "markdown",
   "metadata": {},
   "source": [
    "# Workflow\n",
    "\n",
    "En esta práctica vamos a aplicar lo aprendido en esta asignatura para crear un flujo que automatice la descarga, análisis y publicación de los datos utilizando distintas herramientas como Zenodo, github y librerías de python para el análisis de datos\n",
    "\n",
    "### Librerías necesarias para la práctica\n",
    "\n",
    "```python\n",
    "import xml.etree.ElementTree as ET\n",
    "import requests\n",
    "import json\n",
    "import zipfile\n",
    "```\n",
    "\n",
    "### Elementos necesarios\n",
    "* Al menos un fichero CSV\n",
    "* Un script de análisis de datos en CSV (Publicado en Github)\n"
   ]
  },
  {
   "cell_type": "markdown",
   "metadata": {},
   "source": [
    "# Publicación de datos iniciales\n",
    "\n",
    "Utilizando Zenodo, de forma manual, publicar los datos que se vayan a utilizar.\n",
    "\n",
    "<div class=\"alert alert-warning\" role=\"alert\" style=\"margin: 10px\">\n",
    "<p>Utilizar Communities para localizar más facilmente los datos</p>\n",
    "</div>\n"
   ]
  },
  {
   "attachments": {
    "image.png": {
     "image/png": "[encoded data removed]"
    }
   },
   "cell_type": "markdown",
   "metadata": {},
   "source": [
    "![image.png](attachment:image.png)"
   ]
  },
  {
   "cell_type": "markdown",
   "metadata": {},
   "source": [
    "# Publicación de script de Análisis\n",
    "\n",
    "En Github + Zenodo"
   ]
  },
  {
   "attachments": {
    "image.png": {
     "image/png": "[encoded data removed]"
    }
   },
   "cell_type": "markdown",
   "metadata": {},
   "source": [
    "![image.png](attachment:image.png)"
   ]
  },
  {
   "cell_type": "markdown",
   "metadata": {},
   "source": [
    "Ambos archivos han sido subidos a Zenodo, en la comunidad llamada PracticaWorkflowDLC, con identificador `id = practicaworkflowdlc`"
   ]
  },
  {
   "cell_type": "markdown",
   "metadata": {},
   "source": [
    "# Descarga de datos\n",
    "\n",
    "Desde Zenodo, utilizando los métodos conocidos (OAI-PMH, API)\n",
    "\n",
    "Pista: url+'?verb=ListRecords&set=nombre_set"
   ]
  },
  {
   "cell_type": "code",
   "execution_count": 1,
   "metadata": {},
   "outputs": [],
   "source": [
    "import requests\n",
    "import json\n",
    "import csv\n",
    "from datetime import datetime\n",
    "import xml.etree.cElementTree as ET"
   ]
  },
  {
   "cell_type": "markdown",
   "metadata": {},
   "source": [
    "Un par de funciones para búsqueda"
   ]
  },
  {
   "cell_type": "code",
   "execution_count": 2,
   "metadata": {},
   "outputs": [],
   "source": [
    "def search_dataset(url,oai_set,metadata_format):\n",
    "    \"\"\"Search the datasets identifiers in the defined set\n",
    "        Parameters\n",
    "        ----------\n",
    "        url : string\n",
    "            OAI-PMH endpoint url\n",
    "        oai_set : string\n",
    "            OAI-PMH set where the datasets will be searched\n",
    "        metadata_format : string\n",
    "            Selected metadata format to search\n",
    "        Returns\n",
    "        -------\n",
    "        dataset_ids : array \n",
    "            Dataset IDs\n",
    "    \"\"\"\n",
    "    #Define bounds to search in specific set\n",
    "    bounds = \"&set=\"+oai_set\n",
    "    oai = requests.get(url+'?verb=ListRecords&metadataPrefix='+metadata_format+bounds)\n",
    "\n",
    "    oaiTree = ET.ElementTree(ET.fromstring(oai.text.encode('utf-8')))\n",
    "    item = oaiTree.findall('.//{http://datacite.org/schema/kernel-3}identifier')\n",
    "    return item"
   ]
  },
  {
   "cell_type": "code",
   "execution_count": 3,
   "metadata": {},
   "outputs": [],
   "source": [
    "def get_oai_metadata_formats(url):\n",
    "    \"\"\"Lists the available metadata formats\n",
    "        Parameters\n",
    "        ----------\n",
    "        url : string\n",
    "            OAI-PMH endpoint url\n",
    "        Returns\n",
    "        -------\n",
    "        metadata_formats : \n",
    "            Name of the downloaded file(s).\n",
    "    \"\"\"\n",
    "    metadata_formats = []\n",
    "    oai_verb = '?verb=ListMetadataFormats'\n",
    "    oai = requests.get(url + oai_verb) #Peticion al servidor\n",
    "    xmlTree = ET.ElementTree(ET.fromstring(oai.text))\n",
    "    iterator = xmlTree.iter()\n",
    "    for elem in iterator:\n",
    "        if (elem.tag == '{http://www.openarchives.org/OAI/2.0/}metadataPrefix'):\n",
    "            metadata_formats.append(elem.text)\n",
    "    return metadata_formats"
   ]
  },
  {
   "cell_type": "code",
   "execution_count": 4,
   "metadata": {},
   "outputs": [],
   "source": [
    "def check_dataset(ids,api_url,tipo):\n",
    "    \"\"\"Checks if the available datasets satisfy the dates and location req\n",
    "        Parameters\n",
    "        ----------\n",
    "        ids : array\n",
    "            List of dataset ids\n",
    "        api_url : string\n",
    "            API to get dataset metadata\n",
    "        tipo : string\n",
    "            type of file to download\n",
    "        Returns\n",
    "        -------\n",
    "        downloaded_datasets : array \n",
    "            List of downloaded datasets\n",
    "    \"\"\"\n",
    "    file_list = []\n",
    "    for i in ids:\n",
    "        headers = {'accept': 'application/json'}\n",
    "        #TODO Manage different types of identifiers (i.text.replace('record', 'api/records'),headers))\n",
    "        r = requests.get('https://doi.org/'+i.text,headers)\n",
    "        r = requests.get(r.url.replace('record', 'api/records'),headers)\n",
    "        for u in r.json()['files']:\n",
    "            print(\"Type found: %s\" % u['type'])\n",
    "            if u['type'] == tipo:\n",
    "                print(u['links']['self'])\n",
    "                link = u['links']['self']\n",
    "                file_name = u[\"key\"].replace('/','_')\n",
    "                with open(file_name, \"wb\") as f:\n",
    "                    print(\"Downloading %s\" % file_name)\n",
    "                    response = requests.get(link, stream=True)\n",
    "                    total_length = response.headers.get('content-length')\n",
    "\n",
    "                    if total_length is None: # no content length header\n",
    "                        f.write(response.content)\n",
    "                    else:\n",
    "                        dl = 0\n",
    "                        total_length = int(total_length)\n",
    "                        for data in response.iter_content(chunk_size=4096):\n",
    "                            dl += len(data)\n",
    "                            f.write(data)\n",
    "                            done = int(50 * dl / total_length)\n",
    "                            sys.stdout.write(\"\\r[%s%s]\" % ('=' * done, ' ' * (50-done)) )    \n",
    "                            sys.stdout.flush()\n",
    "                file_list.append(file_name)\n",
    "                print(\"Download complete\")     \n",
    "                                \n",
    "    return file_list"
   ]
  },
  {
   "cell_type": "markdown",
   "metadata": {},
   "source": [
    "Busco el dataset"
   ]
  },
  {
   "cell_type": "code",
   "execution_count": 5,
   "metadata": {},
   "outputs": [
    {
     "name": "stdout",
     "output_type": "stream",
     "text": [
      "Searching datasets OAI-PMH\n",
      "Searching Datasets\n",
      "[<Element '{http://datacite.org/schema/kernel-3}identifier' at 0x0000024EE3B80680>, <Element '{http://datacite.org/schema/kernel-3}identifier' at 0x0000024EE3B82430>, <Element '{http://datacite.org/schema/kernel-3}identifier' at 0x0000024EE3B83470>, <Element '{http://datacite.org/schema/kernel-3}identifier' at 0x0000024EE3B944A0>]\n",
      "Checking/download Datasets\n",
      "Type found: csv\n",
      "https://zenodo.org/api/files/94e31a27-72b1-482f-b9b1-bd99840a254b/players_stats.csv\n",
      "Downloading players_stats.csv\n",
      "Download complete\n",
      "Type found: zip\n",
      "Type found: zip\n",
      "Type found: py\n",
      "Type found: zip\n",
      "['players_stats.csv']\n"
     ]
    }
   ],
   "source": [
    "import sys\n",
    "#Searching datasets OAI-PMH\n",
    "print(\"Searching datasets OAI-PMH\")\n",
    "oai_url = 'https://zenodo.org/oai2d'\n",
    "metadata_formats = get_oai_metadata_formats(oai_url)\n",
    "\n",
    "#TODO hardcoded\n",
    "print(\"Searching Datasets\")\n",
    "oai_set = 'user-practicaworkflowdlc'\n",
    "dataset_list = search_dataset(oai_url,oai_set,'oai_datacite3')\n",
    "print(dataset_list)\n",
    "\n",
    "print(\"Checking/download Datasets\")\n",
    "api_url = 'https://doi.org/'\n",
    "\n",
    "csv_files = check_dataset(dataset_list,api_url,'csv')\n",
    "print(csv_files)"
   ]
  },
  {
   "cell_type": "code",
   "execution_count": 6,
   "metadata": {},
   "outputs": [],
   "source": [
    "# import pandas as pd\n",
    "# import matplotlib.pyplot as plt\n",
    "\n",
    "# data = pd.read_csv('amt_2010.csv',delimiter=';')\n",
    "# data['date'] = pd.to_datetime(data['date'])\n",
    "# data.plot(x='date', y='Temp')\n",
    "# plt.show()"
   ]
  },
  {
   "cell_type": "markdown",
   "metadata": {},
   "source": [
    "# Descarga de código\n",
    "\n",
    "Desde Zenodo, utilizando los métodos conocidos (OAI-PMH, API)\n",
    "\n",
    "<div class=\"alert alert-warning\" role=\"alert\" style=\"margin: 10px\">\n",
    "<p>Zenodo guarda un zip con el código</p>\n",
    "</div>"
   ]
  },
  {
   "cell_type": "code",
   "execution_count": 7,
   "metadata": {},
   "outputs": [
    {
     "name": "stdout",
     "output_type": "stream",
     "text": [
      "Searching software OAI-PMH\n",
      "Searching Software\n",
      "[<Element '{http://datacite.org/schema/kernel-3}identifier' at 0x0000024EE3B497B0>, <Element '{http://datacite.org/schema/kernel-3}identifier' at 0x0000024EE3B95080>, <Element '{http://datacite.org/schema/kernel-3}identifier' at 0x0000024EE3B960C0>, <Element '{http://datacite.org/schema/kernel-3}identifier' at 0x0000024EE3B970B0>]\n",
      "Checking/download Datasets\n",
      "Type found: csv\n",
      "Type found: zip\n",
      "https://zenodo.org/api/files/582f72fd-3955-4566-b817-181ddb1a81bb/P1_Ej1_Zenodo.zip\n",
      "Downloading P1_Ej1_Zenodo.zip\n",
      "[==================================================]Download complete\n",
      "Type found: zip\n",
      "https://zenodo.org/api/files/00b1ebc7-2c3f-43cc-9720-a76612b41525/script.zip\n",
      "Downloading script.zip\n",
      "[==================================================]Download complete\n",
      "Type found: py\n",
      "Type found: zip\n",
      "https://zenodo.org/api/files/e16ba72a-8929-4116-9128-d80e39a97eac/script.zip\n",
      "Downloading script.zip\n",
      "[==================================================]Download complete\n",
      "['P1_Ej1_Zenodo.zip', 'script.zip', 'script.zip']\n"
     ]
    }
   ],
   "source": [
    " #Searching code OAI-PMH\n",
    "print(\"Searching software OAI-PMH\")\n",
    "oai_url = 'https://zenodo.org/oai2d'\n",
    "metadata_formats = get_oai_metadata_formats(oai_url)\n",
    "\n",
    "#TODO hardcoded\n",
    "print(\"Searching Software\")\n",
    "oai_set = 'user-practicaworkflowdlc'\n",
    "dataset_list = search_dataset(oai_url,oai_set,'oai_datacite')\n",
    "print(dataset_list)\n",
    "\n",
    "print(\"Checking/download Datasets\")\n",
    "api_url = 'https://doi.org/'\n",
    "\n",
    "zip_files = check_dataset(dataset_list,api_url,'zip')\n",
    "print(zip_files)"
   ]
  },
  {
   "cell_type": "code",
   "execution_count": 8,
   "metadata": {},
   "outputs": [],
   "source": [
    "import zipfile\n",
    "with zipfile.ZipFile(\"script.zip\",\"r\") as zip_ref:\n",
    "    zip_ref.extractall(\".\")"
   ]
  },
  {
   "cell_type": "code",
   "execution_count": 9,
   "metadata": {},
   "outputs": [
    {
     "name": "stdout",
     "output_type": "stream",
     "text": [
      " El volumen de la unidad C no tiene etiqueta.\n",
      " El n£mero de serie del volumen es: 76C2-4688\n",
      "\n",
      " Directorio de C:\\Users\\sergr\\OneDrive\\Universidad\\MasterDataScience\\NotebooksLocal\n",
      "\n",
      "07/02/2022  20:23               255 script.py\n",
      "               1 archivos            255 bytes\n",
      "               0 dirs  268.349.222.912 bytes libres\n"
     ]
    }
   ],
   "source": [
    "ls script.py"
   ]
  },
  {
   "cell_type": "markdown",
   "metadata": {},
   "source": [
    "# Análisis de los datos\n",
    "\n",
    "Producir fichero: Otro CSV, imagen, etc"
   ]
  },
  {
   "cell_type": "code",
   "execution_count": 10,
   "metadata": {},
   "outputs": [
    {
     "data": {
      "image/png": "[encoded data removed]",
      "text/plain": [
       "<Figure size 432x432 with 1 Axes>"
      ]
     },
     "metadata": {
      "needs_background": "light"
     },
     "output_type": "display_data"
    }
   ],
   "source": [
    "%run -i script.py players_stats.csv"
   ]
  },
  {
   "cell_type": "markdown",
   "metadata": {},
   "source": [
    "# Publicación de los Datos\n",
    "\n",
    "Utilizando la API de Zenodo"
   ]
  },
  {
   "cell_type": "code",
   "execution_count": 11,
   "metadata": {
    "scrolled": true
   },
   "outputs": [
    {
     "data": {
      "text/plain": [
       "[{'conceptdoi': '10.5281/zenodo.5997627',\n",
       "  'conceptrecid': '5997627',\n",
       "  'created': '2022-02-07T15:51:48.173158',\n",
       "  'doi': '10.5281/zenodo.5997628',\n",
       "  'doi_url': 'https://doi.org/10.5281/zenodo.5997628',\n",
       "  'files': [{'checksum': 'c42097fbb10d4352080fbca4ffce0b46',\n",
       "    'filename': 'script.py',\n",
       "    'filesize': 255,\n",
       "    'id': '3c13f3e9-24de-4cf6-bec2-1c63b901c87c',\n",
       "    'links': {'download': 'https://zenodo.org/api/files/0205a96b-58fa-44a3-b575-737956a7493f/script.py',\n",
       "     'self': 'https://zenodo.org/api/deposit/depositions/5997628/files/3c13f3e9-24de-4cf6-bec2-1c63b901c87c'}}],\n",
       "  'id': 5997628,\n",
       "  'links': {'badge': 'https://zenodo.org/badge/doi/10.5281/zenodo.5997628.svg',\n",
       "   'bucket': 'https://zenodo.org/api/files/63b7b30b-035f-4c10-bb7e-259fedcebfc9',\n",
       "   'conceptbadge': 'https://zenodo.org/badge/doi/10.5281/zenodo.5997627.svg',\n",
       "   'conceptdoi': 'https://doi.org/10.5281/zenodo.5997627',\n",
       "   'discard': 'https://zenodo.org/api/deposit/depositions/5997628/actions/discard',\n",
       "   'doi': 'https://doi.org/10.5281/zenodo.5997628',\n",
       "   'edit': 'https://zenodo.org/api/deposit/depositions/5997628/actions/edit',\n",
       "   'files': 'https://zenodo.org/api/deposit/depositions/5997628/files',\n",
       "   'html': 'https://zenodo.org/deposit/5997628',\n",
       "   'latest': 'https://zenodo.org/api/records/5997628',\n",
       "   'latest_html': 'https://zenodo.org/record/5997628',\n",
       "   'publish': 'https://zenodo.org/api/deposit/depositions/5997628/actions/publish',\n",
       "   'record': 'https://zenodo.org/api/records/5997628',\n",
       "   'record_html': 'https://zenodo.org/record/5997628',\n",
       "   'self': 'https://zenodo.org/api/deposit/depositions/5997628'},\n",
       "  'metadata': {'access_right': 'open',\n",
       "   'creators': [{'affiliation': 'Unican', 'name': 'Sergio Gracia'}],\n",
       "   'description': '<p>&Uacute;nicamente el script en archivo .py para realizar la pr&aacute;ctica de DLC</p>',\n",
       "   'doi': '10.5281/zenodo.5997628',\n",
       "   'license': 'CC-BY-4.0',\n",
       "   'prereserve_doi': {'doi': '10.5281/zenodo.5997628', 'recid': 5997628},\n",
       "   'publication_date': '2022-02-07',\n",
       "   'title': 'ONLYScriptPracticaDLC',\n",
       "   'upload_type': 'software'},\n",
       "  'modified': '2022-02-07T15:52:57.694979',\n",
       "  'owner': 293508,\n",
       "  'record_id': 5997628,\n",
       "  'state': 'done',\n",
       "  'submitted': True,\n",
       "  'title': 'ONLYScriptPracticaDLC'},\n",
       " {'conceptdoi': '10.5281/zenodo.5995858',\n",
       "  'conceptrecid': '5995858',\n",
       "  'created': '2022-02-07T15:37:14.248959',\n",
       "  'doi': '10.5281/zenodo.5997504',\n",
       "  'doi_url': 'https://doi.org/10.5281/zenodo.5997504',\n",
       "  'files': [{'checksum': 'c42097fbb10d4352080fbca4ffce0b46',\n",
       "    'filename': 'script.py',\n",
       "    'filesize': 255,\n",
       "    'id': 'b086fed1-6b8f-461f-b3b2-a5c4f8bdced4',\n",
       "    'links': {'download': 'https://zenodo.org/api/files/e16ba72a-8929-4116-9128-d80e39a97eac/script.py',\n",
       "     'self': 'https://zenodo.org/api/deposit/depositions/5997504/files/b086fed1-6b8f-461f-b3b2-a5c4f8bdced4'}},\n",
       "   {'checksum': 'cca169f6664904cd15a2c00833fd6427',\n",
       "    'filename': 'script.zip',\n",
       "    'filesize': 336,\n",
       "    'id': 'f8e834fe-6502-411e-b54c-7ca264ee1c24',\n",
       "    'links': {'download': 'https://zenodo.org/api/files/e16ba72a-8929-4116-9128-d80e39a97eac/script.zip',\n",
       "     'self': 'https://zenodo.org/api/deposit/depositions/5997504/files/f8e834fe-6502-411e-b54c-7ca264ee1c24'}}],\n",
       "  'id': 5997504,\n",
       "  'links': {'badge': 'https://zenodo.org/badge/doi/10.5281/zenodo.5997504.svg',\n",
       "   'bucket': 'https://zenodo.org/api/files/8c10572a-e3a1-452b-bd7d-1fc6b4edb537',\n",
       "   'conceptbadge': 'https://zenodo.org/badge/doi/10.5281/zenodo.5995858.svg',\n",
       "   'conceptdoi': 'https://doi.org/10.5281/zenodo.5995858',\n",
       "   'discard': 'https://zenodo.org/api/deposit/depositions/5997504/actions/discard',\n",
       "   'doi': 'https://doi.org/10.5281/zenodo.5997504',\n",
       "   'edit': 'https://zenodo.org/api/deposit/depositions/5997504/actions/edit',\n",
       "   'files': 'https://zenodo.org/api/deposit/depositions/5997504/files',\n",
       "   'html': 'https://zenodo.org/deposit/5997504',\n",
       "   'latest': 'https://zenodo.org/api/records/5997504',\n",
       "   'latest_html': 'https://zenodo.org/record/5997504',\n",
       "   'publish': 'https://zenodo.org/api/deposit/depositions/5997504/actions/publish',\n",
       "   'record': 'https://zenodo.org/api/records/5997504',\n",
       "   'record_html': 'https://zenodo.org/record/5997504',\n",
       "   'self': 'https://zenodo.org/api/deposit/depositions/5997504'},\n",
       "  'metadata': {'access_right': 'open',\n",
       "   'communities': [{'identifier': 'practicaworkflowdlc'}],\n",
       "   'creators': [{'affiliation': 'Unican', 'name': 'Sergio Gracia'}],\n",
       "   'description': '<p>Un script para la pr&aacute;ctica de Data life cycle</p>',\n",
       "   'doi': '10.5281/zenodo.5997504',\n",
       "   'license': 'CC-BY-4.0',\n",
       "   'prereserve_doi': {'doi': '10.5281/zenodo.5997504', 'recid': 5997504},\n",
       "   'publication_date': '2022-02-07',\n",
       "   'title': 'ScriptPracticaDLC',\n",
       "   'upload_type': 'software'},\n",
       "  'modified': '2022-02-07T15:50:14.533382',\n",
       "  'owner': 293508,\n",
       "  'record_id': 5997504,\n",
       "  'state': 'inprogress',\n",
       "  'submitted': True,\n",
       "  'title': 'ScriptPracticaDLC'},\n",
       " {'conceptdoi': '10.5281/zenodo.5898317',\n",
       "  'conceptrecid': '5898317',\n",
       "  'created': '2022-01-24T15:08:39.960784',\n",
       "  'doi': '10.5281/zenodo.5898318',\n",
       "  'doi_url': 'https://doi.org/10.5281/zenodo.5898318',\n",
       "  'files': [{'checksum': '1f648fdaae05d1b619cc7b05e442214e',\n",
       "    'filename': 'players_stats.csv',\n",
       "    'filesize': 80373,\n",
       "    'id': '43ee4ce7-d755-46a5-ac8c-638c84d6bbae',\n",
       "    'links': {'download': 'https://zenodo.org/api/files/94e31a27-72b1-482f-b9b1-bd99840a254b/players_stats.csv',\n",
       "     'self': 'https://zenodo.org/api/deposit/depositions/5898318/files/43ee4ce7-d755-46a5-ac8c-638c84d6bbae'}}],\n",
       "  'id': 5898318,\n",
       "  'links': {'badge': 'https://zenodo.org/badge/doi/10.5281/zenodo.5898318.svg',\n",
       "   'bucket': 'https://zenodo.org/api/files/f556bf6a-01a9-4016-b40c-72f53ea54702',\n",
       "   'conceptbadge': 'https://zenodo.org/badge/doi/10.5281/zenodo.5898317.svg',\n",
       "   'conceptdoi': 'https://doi.org/10.5281/zenodo.5898317',\n",
       "   'discard': 'https://zenodo.org/api/deposit/depositions/5898318/actions/discard',\n",
       "   'doi': 'https://doi.org/10.5281/zenodo.5898318',\n",
       "   'edit': 'https://zenodo.org/api/deposit/depositions/5898318/actions/edit',\n",
       "   'files': 'https://zenodo.org/api/deposit/depositions/5898318/files',\n",
       "   'html': 'https://zenodo.org/deposit/5898318',\n",
       "   'latest': 'https://zenodo.org/api/records/5898318',\n",
       "   'latest_html': 'https://zenodo.org/record/5898318',\n",
       "   'publish': 'https://zenodo.org/api/deposit/depositions/5898318/actions/publish',\n",
       "   'record': 'https://zenodo.org/api/records/5898318',\n",
       "   'record_html': 'https://zenodo.org/record/5898318',\n",
       "   'self': 'https://zenodo.org/api/deposit/depositions/5898318'},\n",
       "  'metadata': {'access_right': 'open',\n",
       "   'communities': [{'identifier': 'practicaworkflowdlc'}],\n",
       "   'creators': [{'affiliation': 'UniCan', 'name': 'Sergio'}],\n",
       "   'description': '<p>Dataset para Pr&aacute;ctica Workflow</p>\\n\\n<p>&nbsp;</p>',\n",
       "   'doi': '10.5281/zenodo.5898318',\n",
       "   'keywords': ['Unican', 'DLC'],\n",
       "   'language': 'eng',\n",
       "   'license': 'CC-BY-4.0',\n",
       "   'prereserve_doi': {'doi': '10.5281/zenodo.5898318', 'recid': 5898318},\n",
       "   'publication_date': '2022-01-24',\n",
       "   'title': 'PracticaWorkflowDLC',\n",
       "   'upload_type': 'dataset'},\n",
       "  'modified': '2022-01-24T16:02:28.140055',\n",
       "  'owner': 293508,\n",
       "  'record_id': 5898318,\n",
       "  'state': 'done',\n",
       "  'submitted': True,\n",
       "  'title': 'PracticaWorkflowDLC'}]"
      ]
     },
     "execution_count": 11,
     "metadata": {},
     "output_type": "execute_result"
    }
   ],
   "source": [
    "ACCESS_TOKEN = \"rsLSkT4R9SW7mo86frMqY62aqDJImWKQNC3ilMQR53qtFDMvKscVck8jz6F2\"\n",
    "r = requests.get('https://zenodo.org/api/deposit/depositions',params={'access_token': ACCESS_TOKEN})\n",
    "r.status_code\n",
    "r.json()"
   ]
  },
  {
   "cell_type": "code",
   "execution_count": 12,
   "metadata": {},
   "outputs": [
    {
     "data": {
      "text/plain": [
       "403"
      ]
     },
     "execution_count": 12,
     "metadata": {},
     "output_type": "execute_result"
    }
   ],
   "source": [
    "deposition_id = \"5997627\"\n",
    "data = {'name': 'heights.png'}\n",
    "files = {'file': open('script.py', 'r')}\n",
    "r = requests.post('https://zenodo.org/api/deposit/depositions/%s/files' % deposition_id,\n",
    "                  params={'access_token': ACCESS_TOKEN},\n",
    "                  data=data,\n",
    "                  files=files)\n",
    "r.status_code"
   ]
  },
  {
   "cell_type": "code",
   "execution_count": 13,
   "metadata": {},
   "outputs": [
    {
     "name": "stdout",
     "output_type": "stream",
     "text": [
      "403\n"
     ]
    },
    {
     "data": {
      "text/plain": [
       "{'message': \"You don't have the permission to access the requested resource. It is either read-protected or not readable by the server.\",\n",
       " 'status': 403}"
      ]
     },
     "execution_count": 13,
     "metadata": {},
     "output_type": "execute_result"
    }
   ],
   "source": [
    "headers = {\"Content-Type\": \"application/json\"}\n",
    "params = {'access_token': ACCESS_TOKEN}\n",
    "r = requests.post('https://zenodo.org/api/deposit/depositions',\n",
    "                   params=params,\n",
    "                   json={},\n",
    "                   headers=headers)\n",
    "print(r.status_code)\n",
    "r.json()"
   ]
  },
  {
   "cell_type": "markdown",
   "metadata": {},
   "source": [
    "Por algún motivo que no alcanzo a comprender, incluso intentándolo de dos maneras distintas, el servidor rechaza la conexión y no permite continuar la práctica. La primera está sacada de la ayuda proporcionada por el profesor (Workflow_resuelto2022.ipynb) y la segunda está sacada de un tutorial de Zenodo (https://developers.zenodo.org/). Ante la imposibilidad de continuar con la parte final de la práctica, ésta acaba aquí."
   ]
  }
 ],
 "metadata": {
  "kernelspec": {
   "display_name": "Python 3 (ipykernel)",
   "language": "python",
   "name": "python3"
  },
  "language_info": {
   "codemirror_mode": {
    "name": "ipython",
    "version": 3
   },
   "file_extension": ".py",
   "mimetype": "text/x-python",
   "name": "python",
   "nbconvert_exporter": "python",
   "pygments_lexer": "ipython3",
   "version": "3.10.0"
  }
 },
 "nbformat": 4,
 "nbformat_minor": 2
}
